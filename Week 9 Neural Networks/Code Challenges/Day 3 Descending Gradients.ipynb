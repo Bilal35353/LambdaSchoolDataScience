{
  "nbformat": 4,
  "nbformat_minor": 0,
  "metadata": {
    "colab": {
      "name": "Copy of Descending Gradients CC.ipynb",
      "version": "0.3.2",
      "views": {},
      "default_view": {},
      "provenance": [
        {
          "file_id": "1CGTA6FM-TCQSRR_cGAh4cJ8DYy_fvip_",
          "timestamp": 1527779864408
        }
      ]
    },
    "kernelspec": {
      "name": "python3",
      "display_name": "Python 3"
    }
  },
  "cells": [
    {
      "metadata": {
        "id": "5gxGnvc3xzWE",
        "colab_type": "code",
        "colab": {
          "autoexec": {
            "startup": false,
            "wait_interval": 0
          }
        }
      },
      "cell_type": "code",
      "source": [
        "import numpy as np\n",
        "import matplotlib.pyplot as plt"
      ],
      "execution_count": 0,
      "outputs": []
    },
    {
      "metadata": {
        "id": "YWCK6V6BnEF1",
        "colab_type": "text"
      },
      "cell_type": "markdown",
      "source": [
        "![alt text](https://)As we continue our dive into neural networks and back propagation, let’s review what exactly back propagation is an algorithm for: gradient descent. We start with a function.\n"
      ]
    },
    {
      "metadata": {
        "id": "h2RlHm7enHBs",
        "colab_type": "code",
        "colab": {
          "autoexec": {
            "startup": false,
            "wait_interval": 0
          }
        }
      },
      "cell_type": "code",
      "source": [
        "def f(x):\n",
        "    return np.cos(x) * np.exp(-x**2) * x**3"
      ],
      "execution_count": 0,
      "outputs": []
    },
    {
      "metadata": {
        "id": "MWEn_TO4nH9f",
        "colab_type": "text"
      },
      "cell_type": "markdown",
      "source": [
        "Before we do anything else, plot the function however you like. Make sure your plot extends far enough in both directions along the x-axis to capture all of the peaks and valleys of our function.\n",
        "\n"
      ]
    },
    {
      "metadata": {
        "id": "s76jnQShnJvQ",
        "colab_type": "code",
        "colab": {
          "autoexec": {
            "startup": false,
            "wait_interval": 0
          },
          "base_uri": "https://localhost:8080/",
          "height": 347
        },
        "outputId": "4a134952-ebb6-4aa3-d536-4c1148c25aff",
        "executionInfo": {
          "status": "ok",
          "timestamp": 1527781349228,
          "user_tz": 420,
          "elapsed": 814,
          "user": {
            "displayName": "Ray Heberer",
            "photoUrl": "//lh4.googleusercontent.com/-BMlr5I5Dhow/AAAAAAAAAAI/AAAAAAAAABc/XW4PF5A8K2Q/s50-c-k-no/photo.jpg",
            "userId": "116545933704048584401"
          }
        }
      },
      "cell_type": "code",
      "source": [
        "x = np.linspace(-10, 10)\n",
        "y = np.vectorize(f)(x)\n",
        "\n",
        "plt.plot(x, y);"
      ],
      "execution_count": 3,
      "outputs": [
        {
          "output_type": "display_data",
          "data": {
            "image/png": "[encoded data removed]",
            "text/plain": [
              "<matplotlib.figure.Figure at 0x7f763c9b57b8>"
            ]
          },
          "metadata": {
            "tags": []
          }
        }
      ]
    },
    {
      "metadata": {
        "id": "SfkkyuFKnJ4o",
        "colab_type": "text"
      },
      "cell_type": "markdown",
      "source": [
        "Now think back to how we computed derivatives numerically. If you don’t remember, ask you classmates or Google. Using a step size of 10^-3, define a function Df which takes in x and returns the approximate value of the derivative at x."
      ]
    },
    {
      "metadata": {
        "id": "lukjSDttnKBL",
        "colab_type": "code",
        "colab": {
          "autoexec": {
            "startup": false,
            "wait_interval": 0
          }
        }
      },
      "cell_type": "code",
      "source": [
        "h = .001\n",
        "def Df(x):\n",
        "    return (f(x+h)-f(x)) / h"
      ],
      "execution_count": 0,
      "outputs": []
    },
    {
      "metadata": {
        "id": "7Mpur1lbnKJi",
        "colab_type": "text"
      },
      "cell_type": "markdown",
      "source": [
        "Now remember how gradient descent works. We pick some initial value of $x$, then increment using the iterative step $x = x-epsilon * f’(x)$ (today we use $epsilon = 10^{-3}$). By doing this repeatedly, we end up with an $x$-value that sits in a valley of the graph of $x$. Apply this method to find all of the local minima of $f$ (both the $x$-values of those minima and the y-values). Remember, the valley that this method finds will depend on the initial $x$-value, so you’ll have to try several different starting values to find every valley."
      ]
    },
    {
      "metadata": {
        "id": "BETEUxnVnKRo",
        "colab_type": "code",
        "colab": {
          "autoexec": {
            "startup": false,
            "wait_interval": 0
          }
        }
      },
      "cell_type": "code",
      "source": [
        "def gradient_descent(f, x, n_iters=1000, epsilon=0.001):   \n",
        "    for _ in range(n_iters):\n",
        "        df = Df(x)\n",
        "        x -= epsilon*df\n",
        "        \n",
        "    return x"
      ],
      "execution_count": 0,
      "outputs": []
    },
    {
      "metadata": {
        "id": "7A5zsSub2O3d",
        "colab_type": "code",
        "colab": {
          "autoexec": {
            "startup": false,
            "wait_interval": 0
          },
          "base_uri": "https://localhost:8080/",
          "height": 347
        },
        "outputId": "5622caa9-7356-43f5-a396-aba3cf4b60f2",
        "executionInfo": {
          "status": "ok",
          "timestamp": 1527781376759,
          "user_tz": 420,
          "elapsed": 590,
          "user": {
            "displayName": "Ray Heberer",
            "photoUrl": "//lh4.googleusercontent.com/-BMlr5I5Dhow/AAAAAAAAAAI/AAAAAAAAABc/XW4PF5A8K2Q/s50-c-k-no/photo.jpg",
            "userId": "116545933704048584401"
          }
        }
      },
      "cell_type": "code",
      "source": [
        "x = np.linspace(-10, 10)\n",
        "y = np.vectorize(f)(x)\n",
        "\n",
        "plt.plot(x, y)\n",
        "\n",
        "for _ in range(5):\n",
        "    x = np.random.randint(-2.5, 2.5)\n",
        "    x = gradient_descent(f, x)\n",
        "    y = f(x)\n",
        "    plt.plot(x, y, 'ro');"
      ],
      "execution_count": 7,
      "outputs": [
        {
          "output_type": "display_data",
          "data": {
            "image/png": "[encoded data removed]",
            "text/plain": [
              "<matplotlib.figure.Figure at 0x7f7639fec4a8>"
            ]
          },
          "metadata": {
            "tags": []
          }
        }
      ]
    }
  ]
}