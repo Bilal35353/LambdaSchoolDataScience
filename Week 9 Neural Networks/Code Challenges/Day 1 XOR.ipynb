{
  "nbformat": 4,
  "nbformat_minor": 0,
  "metadata": {
    "colab": {
      "name": "XOR (or not).ipynb",
      "version": "0.3.2",
      "views": {},
      "default_view": {},
      "provenance": [
        {
          "file_id": "1C2NGKdq5TNWtJA55__9PkjghxMxZtn-a",
          "timestamp": 1527609426601
        },
        {
          "file_id": "1VS1iWZ83zwYXN0SMiuNWTfDKlqhlftHP",
          "timestamp": 1527603979636
        },
        {
          "file_id": "1oVcR7pelvCjc9mNnoX65_GLFXS5JZwEl",
          "timestamp": 1527603721468
        }
      ],
      "collapsed_sections": []
    },
    "kernelspec": {
      "name": "python3",
      "display_name": "Python 3"
    }
  },
  "cells": [
    {
      "metadata": {
        "id": "PlJrdCkzqmcg",
        "colab_type": "text"
      },
      "cell_type": "markdown",
      "source": [
        "In this challenge we jump directly into building neural networks. We won't get into much theory or generality, but by the end of this exercise you'll build a very simple example of one, and in the mean time gain some intuition for how they work. First, we import numpy as usual."
      ]
    },
    {
      "metadata": {
        "id": "5wjq6pOrq8FN",
        "colab_type": "code",
        "colab": {
          "autoexec": {
            "startup": false,
            "wait_interval": 0
          }
        }
      },
      "cell_type": "code",
      "source": [
        "# LAMBDA SCHOOL\n",
        "#\n",
        "# MACHINE LEARNING\n",
        "#\n",
        "# MIT LICENSE\n",
        "\n",
        "import numpy as np"
      ],
      "execution_count": 0,
      "outputs": []
    },
    {
      "metadata": {
        "id": "P0rnp70Yq9wg",
        "colab_type": "text"
      },
      "cell_type": "markdown",
      "source": [
        "Next, look at the Wikipedia article for the XOR function (https://en.wikipedia.org/wiki/XOR_gate). Basically, it's a function that takes in two truth values (aka booleans) x and y and spits out a third truth value f(x,y) according to the following rule: f(x,y) is true when x is true OR y is true, but not both. If we use the common representation wherein \"1\" means \"True\" and \"0\" means \"False\", this means that f(0,0) = f(1,1) = 0 and f(0,1) = f(1,0) = 1. Check that this makes sense!\n",
        "\n",
        "Your first task for today is to implement the XOR function. There are slick ways to do this using modular arithmetic (if you're in to that sort of thing), but implement it however you like. Check that it gives the right values for each of the inputs (0,0), (0,1), (1,0), and (1,1)."
      ]
    },
    {
      "metadata": {
        "id": "xoBdblQaq8tz",
        "colab_type": "code",
        "colab": {
          "autoexec": {
            "startup": false,
            "wait_interval": 0
          }
        }
      },
      "cell_type": "code",
      "source": [
        "def xorFunction(x, y):\n",
        "    if x == y:\n",
        "        return False\n",
        "    else:\n",
        "        return True"
      ],
      "execution_count": 0,
      "outputs": []
    },
    {
      "metadata": {
        "id": "3k71Zs36slNz",
        "colab_type": "text"
      },
      "cell_type": "markdown",
      "source": [
        "Great. Now, define a function sigma(x) that acts the way that the sigmoid function does. If you don't remember exactly how this works, check Wikipedia or ask one of your classmates."
      ]
    },
    {
      "metadata": {
        "id": "MePiuRkbsP3O",
        "colab_type": "code",
        "colab": {
          "autoexec": {
            "startup": false,
            "wait_interval": 0
          }
        }
      },
      "cell_type": "code",
      "source": [
        "def sigma(x):\n",
        "    return 1 / (1 + np.exp(-x))"
      ],
      "execution_count": 0,
      "outputs": []
    },
    {
      "metadata": {
        "id": "KuwFEeMmtU1d",
        "colab_type": "text"
      },
      "cell_type": "markdown",
      "source": [
        "Most machine learning algorithms have free parameters that we tweak to get the behavior we want, and this is no exception. Introduce two variables a and b and assign them both to the value 10 (for now)."
      ]
    },
    {
      "metadata": {
        "id": "JYgJFgIvtFt3",
        "colab_type": "code",
        "colab": {
          "autoexec": {
            "startup": false,
            "wait_interval": 0
          }
        }
      },
      "cell_type": "code",
      "source": [
        "a = 10\n",
        "b = 10"
      ],
      "execution_count": 0,
      "outputs": []
    },
    {
      "metadata": {
        "id": "yyazrFrntlGM",
        "colab_type": "text"
      },
      "cell_type": "markdown",
      "source": [
        "Finally, here's our first neural network. Just like linear and logistic regression, it's nothing more than a function that takes in our inputs (x and y) and returns an output according to some prescribed rule. Today our rule consists of the following steps:\n",
        "\n",
        "Step 1: Take x and y and calculate ax + by.\n",
        "\n",
        "Step 2: Plug the result of step 1 into the sigma function we introduced earlier.\n",
        "\n",
        "Step 3: Take the result of step 2 and round it to the nearest whole number.\n",
        "\n",
        "Define a function NN(x,y) that takes in x and y and returns the result of performing these steps."
      ]
    },
    {
      "metadata": {
        "id": "0pjkc4h4tHOB",
        "colab_type": "code",
        "colab": {
          "autoexec": {
            "startup": false,
            "wait_interval": 0
          }
        }
      },
      "cell_type": "code",
      "source": [
        "def NN(x,y):\n",
        "    linear = a*x + b*y\n",
        "    out = sigma(linear)\n",
        "    return np.round(out)"
      ],
      "execution_count": 0,
      "outputs": []
    },
    {
      "metadata": {
        "id": "GtOLsTqxub-n",
        "colab_type": "text"
      },
      "cell_type": "markdown",
      "source": [
        "See what happens when you plug the values (0,0), (0,1), (1,0), and (1,1) into NN. The last (and possible trickiest) part of this assignment is to try and find values of a and b such that NN and XOR give the same outputs on each of those inputs. If you find a solution, share it. If you can't, talk with your classmates and see how they do. Feel free to collaborate!"
      ]
    },
    {
      "metadata": {
        "id": "v0oW7-lBxDxE",
        "colab_type": "code",
        "colab": {
          "autoexec": {
            "startup": false,
            "wait_interval": 0
          },
          "base_uri": "https://localhost:8080/",
          "height": 34
        },
        "outputId": "5d27d11e-0f70-4b36-cf99-11db74fdc99d",
        "executionInfo": {
          "status": "ok",
          "timestamp": 1527613000746,
          "user_tz": 420,
          "elapsed": 368,
          "user": {
            "displayName": "Ray Heberer",
            "photoUrl": "//lh4.googleusercontent.com/-BMlr5I5Dhow/AAAAAAAAAAI/AAAAAAAAABc/XW4PF5A8K2Q/s50-c-k-no/photo.jpg",
            "userId": "116545933704048584401"
          }
        }
      },
      "cell_type": "code",
      "source": [
        "print([NN(*args) for args in [(0, 0), (0, 1), (1, 0), (1, 1)]])"
      ],
      "execution_count": 6,
      "outputs": [
        {
          "output_type": "stream",
          "text": [
            "[0.0, 1.0, 1.0, 1.0]\n"
          ],
          "name": "stdout"
        }
      ]
    },
    {
      "metadata": {
        "id": "2fg5nFLDxgge",
        "colab_type": "text"
      },
      "cell_type": "markdown",
      "source": [
        "The XOR function cannot be learned by a single unit, which has a linear decision boundary.\n",
        "\n",
        "See: https://www.youtube.com/watch?v=kNPGXgzxoHw"
      ]
    },
    {
      "metadata": {
        "id": "fOm8FWBhxXtm",
        "colab_type": "code",
        "colab": {
          "autoexec": {
            "startup": false,
            "wait_interval": 0
          }
        }
      },
      "cell_type": "code",
      "source": [
        "def NN2(x, y):\n",
        "    h1 = np.round(sigma(w11*x + w11*y + b11))\n",
        "    h2 = np.round(sigma(w12*x + w12*y + b12))\n",
        "    out = np.round(sigma(w21*h1 + w22*h2 + b2))\n",
        "    \n",
        "    return out"
      ],
      "execution_count": 0,
      "outputs": []
    },
    {
      "metadata": {
        "id": "X-pY7tfdzFY5",
        "colab_type": "code",
        "colab": {
          "autoexec": {
            "startup": false,
            "wait_interval": 0
          }
        }
      },
      "cell_type": "code",
      "source": [
        "w11 = 20\n",
        "w12 = -20\n",
        "b11 = -10\n",
        "b12 = 30\n",
        "w21 = 20\n",
        "w22 = 20\n",
        "b2 = -30"
      ],
      "execution_count": 0,
      "outputs": []
    },
    {
      "metadata": {
        "id": "InxxwsgzzTBP",
        "colab_type": "code",
        "colab": {
          "autoexec": {
            "startup": false,
            "wait_interval": 0
          },
          "base_uri": "https://localhost:8080/",
          "height": 34
        },
        "outputId": "e94c735c-8587-4d05-dcd6-9b02b4346294",
        "executionInfo": {
          "status": "ok",
          "timestamp": 1527613002798,
          "user_tz": 420,
          "elapsed": 336,
          "user": {
            "displayName": "Ray Heberer",
            "photoUrl": "//lh4.googleusercontent.com/-BMlr5I5Dhow/AAAAAAAAAAI/AAAAAAAAABc/XW4PF5A8K2Q/s50-c-k-no/photo.jpg",
            "userId": "116545933704048584401"
          }
        }
      },
      "cell_type": "code",
      "source": [
        "print([NN2(*args) for args in [(0, 0), (0, 1), (1, 0), (1, 1)]])"
      ],
      "execution_count": 9,
      "outputs": [
        {
          "output_type": "stream",
          "text": [
            "[0.0, 1.0, 1.0, 0.0]\n"
          ],
          "name": "stdout"
        }
      ]
    }
  ]
}