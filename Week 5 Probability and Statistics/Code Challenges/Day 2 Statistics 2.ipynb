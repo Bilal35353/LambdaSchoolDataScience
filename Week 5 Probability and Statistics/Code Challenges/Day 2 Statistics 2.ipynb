{
  "nbformat": 4,
  "nbformat_minor": 0,
  "metadata": {
    "colab": {
      "name": "Statistics Coding Challenge # 2.ipynb",
      "version": "0.3.2",
      "views": {},
      "default_view": {},
      "provenance": [
        {
          "file_id": "19LpsAk1DQoHmJFhF9-182mfvdRdFcvja",
          "timestamp": 1525186938324
        }
      ]
    },
    "kernelspec": {
      "name": "python3",
      "display_name": "Python 3"
    }
  },
  "cells": [
    {
      "metadata": {
        "id": "5Df5yvC99sYU",
        "colab_type": "text"
      },
      "cell_type": "markdown",
      "source": [
        "## Coding Challenge #2\n",
        "In this coding challenge, we are going to use the \"Index, Violent, Property, and Firearm Rates By County: Beginning 1990\" data set available from the Data.Gov website (https://catalog.data.gov/dataset?groups=local&organization_type=State+Government#topic=local_navigation).\n",
        "\n",
        "There are a few objectives you need to accomplish:\n",
        "\n",
        "1) Examine the data set for any missing values. The attributes of interest are 'Violent Count', 'Property Count', and 'Population'\n",
        "\n",
        "2) If there are any missing values, replace it with the median for that specific attribute within the corresponding County.\n",
        "\n",
        "For example if the 'Violent Count' attribute for the county of Albany has missing values, then replace it with the median of the 'Violent Count' for the county of Albany\n",
        "Note: If there are no missing values, you can use the data set as is\n",
        "\n",
        "3) Construct a box plot to surface the 25%, 50% and 75% percentiles of the 'Violent Count' by County from year 1990 to 2016 - just hone in on the following three counties: Bronx, New York and Queens\n",
        "\n",
        "4) Compute the Variance and Standard Deviation of the 'Violent Count' by County from year 1990 to 2016 - just hone in on the following three counties: Bronx, New York and Queens\n",
        "\n",
        "5) Contruct a Bee Swarm Plot to surface the spread of the 'Violent Count' by County from year 1990 to 2016 - just hone in on the following three counties: Bronx, New York and Queens\n",
        "\n",
        "6) Hone in on the data set for the Year 2016. How does the 'Violent Count' and the 'Population' vary together? Construct a scatter plot that plots the 'Violent Count' v/s the Total Population' for each of the 3 Counties. Does the Scatter Plot point to a positive covariance? Now, compute the Covariance.\n",
        "\n",
        "7) Hone in on the data set for the Year 2016. How does the 'Violent Count' and the 'Property Count' vary together? Construct a scatter plot that plots the 'Violent Count' v/s the Total Property Count' for each of the 3 Counties. Does the Scatter Plot point to a positive covariance? Now, compute the Covariance.\n",
        "\n",
        "8) Compute the Correlation Coefficient between the 2 variable i.e. 'Violent Count' and the 'Population' for the county of Bronx\n"
      ]
    },
    {
      "metadata": {
        "id": "3r-sbRFJO_3a",
        "colab_type": "code",
        "colab": {
          "autoexec": {
            "startup": false,
            "wait_interval": 0
          }
        }
      },
      "cell_type": "code",
      "source": [
        "import pandas as pd\n",
        "import numpy as np\n",
        "import matplotlib.pyplot as plt\n",
        "import seaborn as sns"
      ],
      "execution_count": 0,
      "outputs": []
    },
    {
      "metadata": {
        "id": "mwMDNAszYws8",
        "colab_type": "text"
      },
      "cell_type": "markdown",
      "source": [
        "## Select Attributes of Interest, Check for Missing Values"
      ]
    },
    {
      "metadata": {
        "id": "P0VcKDM0PCBu",
        "colab_type": "code",
        "colab": {
          "autoexec": {
            "startup": false,
            "wait_interval": 0
          }
        }
      },
      "cell_type": "code",
      "source": [
        "data = pd.read_csv('https://data.ny.gov/api/views/34dd-6g2j/rows.csv')"
      ],
      "execution_count": 0,
      "outputs": []
    },
    {
      "metadata": {
        "id": "NGr5CF0uPEhr",
        "colab_type": "code",
        "colab": {
          "autoexec": {
            "startup": false,
            "wait_interval": 0
          },
          "base_uri": "https://localhost:8080/",
          "height": 221
        },
        "outputId": "5a5455f4-7e09-4287-f568-9fc29fc424ec",
        "executionInfo": {
          "status": "ok",
          "timestamp": 1525189815914,
          "user_tz": 420,
          "elapsed": 356,
          "user": {
            "displayName": "Ray Heberer",
            "photoUrl": "//lh4.googleusercontent.com/-BMlr5I5Dhow/AAAAAAAAAAI/AAAAAAAAABc/XW4PF5A8K2Q/s50-c-k-no/photo.jpg",
            "userId": "116545933704048584401"
          }
        }
      },
      "cell_type": "code",
      "source": [
        "print(data.shape)\n",
        "data.head()"
      ],
      "execution_count": 3,
      "outputs": [
        {
          "output_type": "stream",
          "text": [
            "(1674, 11)\n"
          ],
          "name": "stdout"
        },
        {
          "output_type": "execute_result",
          "data": {
            "text/html": [
              "<div>\n",
              "<style scoped>\n",
              "    .dataframe tbody tr th:only-of-type {\n",
              "        vertical-align: middle;\n",
              "    }\n",
              "\n",
              "    .dataframe tbody tr th {\n",
              "        vertical-align: top;\n",
              "    }\n",
              "\n",
              "    .dataframe thead th {\n",
              "        text-align: right;\n",
              "    }\n",
              "</style>\n",
              "<table border=\"1\" class=\"dataframe\">\n",
              "  <thead>\n",
              "    <tr style=\"text-align: right;\">\n",
              "      <th></th>\n",
              "      <th>County</th>\n",
              "      <th>Year</th>\n",
              "      <th>Population</th>\n",
              "      <th>Index Count</th>\n",
              "      <th>Index Rate</th>\n",
              "      <th>Violent Count</th>\n",
              "      <th>Violent Rate</th>\n",
              "      <th>Property Count</th>\n",
              "      <th>Property Rate</th>\n",
              "      <th>Firearm Count</th>\n",
              "      <th>Firearm Rate</th>\n",
              "    </tr>\n",
              "  </thead>\n",
              "  <tbody>\n",
              "    <tr>\n",
              "      <th>0</th>\n",
              "      <td>Albany</td>\n",
              "      <td>2016</td>\n",
              "      <td>308401.0</td>\n",
              "      <td>8764</td>\n",
              "      <td>2841.8</td>\n",
              "      <td>1102</td>\n",
              "      <td>357.3</td>\n",
              "      <td>7662</td>\n",
              "      <td>2484.4</td>\n",
              "      <td>126.0</td>\n",
              "      <td>40.9</td>\n",
              "    </tr>\n",
              "    <tr>\n",
              "      <th>1</th>\n",
              "      <td>Albany</td>\n",
              "      <td>2015</td>\n",
              "      <td>308613.0</td>\n",
              "      <td>8635</td>\n",
              "      <td>2798.0</td>\n",
              "      <td>1041</td>\n",
              "      <td>337.3</td>\n",
              "      <td>7594</td>\n",
              "      <td>2460.7</td>\n",
              "      <td>114.0</td>\n",
              "      <td>36.9</td>\n",
              "    </tr>\n",
              "    <tr>\n",
              "      <th>2</th>\n",
              "      <td>Albany</td>\n",
              "      <td>2014</td>\n",
              "      <td>308166.0</td>\n",
              "      <td>9181</td>\n",
              "      <td>2979.2</td>\n",
              "      <td>1003</td>\n",
              "      <td>325.5</td>\n",
              "      <td>8178</td>\n",
              "      <td>2653.8</td>\n",
              "      <td>147.0</td>\n",
              "      <td>47.7</td>\n",
              "    </tr>\n",
              "    <tr>\n",
              "      <th>3</th>\n",
              "      <td>Albany</td>\n",
              "      <td>2013</td>\n",
              "      <td>306300.0</td>\n",
              "      <td>9457</td>\n",
              "      <td>3087.5</td>\n",
              "      <td>1006</td>\n",
              "      <td>328.4</td>\n",
              "      <td>8451</td>\n",
              "      <td>2759.1</td>\n",
              "      <td>150.0</td>\n",
              "      <td>49.0</td>\n",
              "    </tr>\n",
              "    <tr>\n",
              "      <th>4</th>\n",
              "      <td>Albany</td>\n",
              "      <td>2012</td>\n",
              "      <td>305204.0</td>\n",
              "      <td>9975</td>\n",
              "      <td>3268.3</td>\n",
              "      <td>1012</td>\n",
              "      <td>331.6</td>\n",
              "      <td>8963</td>\n",
              "      <td>2936.7</td>\n",
              "      <td>137.0</td>\n",
              "      <td>44.9</td>\n",
              "    </tr>\n",
              "  </tbody>\n",
              "</table>\n",
              "</div>"
            ],
            "text/plain": [
              "   County  Year  Population  Index Count  Index Rate  Violent Count  \\\n",
              "0  Albany  2016    308401.0         8764      2841.8           1102   \n",
              "1  Albany  2015    308613.0         8635      2798.0           1041   \n",
              "2  Albany  2014    308166.0         9181      2979.2           1003   \n",
              "3  Albany  2013    306300.0         9457      3087.5           1006   \n",
              "4  Albany  2012    305204.0         9975      3268.3           1012   \n",
              "\n",
              "   Violent Rate  Property Count  Property Rate  Firearm Count  Firearm Rate  \n",
              "0         357.3            7662         2484.4          126.0          40.9  \n",
              "1         337.3            7594         2460.7          114.0          36.9  \n",
              "2         325.5            8178         2653.8          147.0          47.7  \n",
              "3         328.4            8451         2759.1          150.0          49.0  \n",
              "4         331.6            8963         2936.7          137.0          44.9  "
            ]
          },
          "metadata": {
            "tags": []
          },
          "execution_count": 3
        }
      ]
    },
    {
      "metadata": {
        "id": "CMq1tg9-PH3q",
        "colab_type": "code",
        "colab": {
          "autoexec": {
            "startup": false,
            "wait_interval": 0
          },
          "base_uri": "https://localhost:8080/",
          "height": 119
        },
        "outputId": "ef86decf-6309-4bc2-d86d-efa64127d4bf",
        "executionInfo": {
          "status": "ok",
          "timestamp": 1525189816644,
          "user_tz": 420,
          "elapsed": 389,
          "user": {
            "displayName": "Ray Heberer",
            "photoUrl": "//lh4.googleusercontent.com/-BMlr5I5Dhow/AAAAAAAAAAI/AAAAAAAAABc/XW4PF5A8K2Q/s50-c-k-no/photo.jpg",
            "userId": "116545933704048584401"
          }
        }
      },
      "cell_type": "code",
      "source": [
        "data = data[['County', 'Year', 'Violent Count', 'Property Count', 'Population']]\n",
        "print(data.isnull().any())"
      ],
      "execution_count": 4,
      "outputs": [
        {
          "output_type": "stream",
          "text": [
            "County            False\n",
            "Year              False\n",
            "Violent Count     False\n",
            "Property Count    False\n",
            "Population        False\n",
            "dtype: bool\n"
          ],
          "name": "stdout"
        }
      ]
    },
    {
      "metadata": {
        "id": "yxg8HIb3Y4bl",
        "colab_type": "text"
      },
      "cell_type": "markdown",
      "source": [
        "There are no missing values!"
      ]
    },
    {
      "metadata": {
        "id": "s0eh90iQY7HO",
        "colab_type": "text"
      },
      "cell_type": "markdown",
      "source": [
        "## Construct Box Plots for Violent Counts in Bronx, New York, and Queens"
      ]
    },
    {
      "metadata": {
        "id": "ATdQYUOfPbLI",
        "colab_type": "code",
        "colab": {
          "autoexec": {
            "startup": false,
            "wait_interval": 0
          }
        }
      },
      "cell_type": "code",
      "source": [
        "plot_data = data[data['County'].isin(['Bronx', 'New York', 'Queens'])]"
      ],
      "execution_count": 0,
      "outputs": []
    },
    {
      "metadata": {
        "id": "poCCbXMuRACM",
        "colab_type": "code",
        "colab": {
          "autoexec": {
            "startup": false,
            "wait_interval": 0
          },
          "base_uri": "https://localhost:8080/",
          "height": 347
        },
        "outputId": "42637676-6acc-4c29-bb61-86f3e19cb5d8",
        "executionInfo": {
          "status": "ok",
          "timestamp": 1525189819549,
          "user_tz": 420,
          "elapsed": 916,
          "user": {
            "displayName": "Ray Heberer",
            "photoUrl": "//lh4.googleusercontent.com/-BMlr5I5Dhow/AAAAAAAAAAI/AAAAAAAAABc/XW4PF5A8K2Q/s50-c-k-no/photo.jpg",
            "userId": "116545933704048584401"
          }
        }
      },
      "cell_type": "code",
      "source": [
        "plt.boxplot(x=[plot_data['Violent Count'][plot_data['County']=='Bronx'],\n",
        "              plot_data['Violent Count'][plot_data['County']=='New York'],\n",
        "              plot_data['Violent Count'][plot_data['County']=='Queens']], \n",
        "           labels=['Bronx', 'New York', 'Queens']);"
      ],
      "execution_count": 6,
      "outputs": [
        {
          "output_type": "display_data",
          "data": {
            "image/png": "[encoded data removed]",
            "text/plain": [
              "<matplotlib.figure.Figure at 0x7fac9a5747f0>"
            ]
          },
          "metadata": {
            "tags": []
          }
        }
      ]
    },
    {
      "metadata": {
        "id": "6IRLX5SbZFON",
        "colab_type": "text"
      },
      "cell_type": "markdown",
      "source": [
        "## Compute Standard Deviations and Variances of Violent Counts"
      ]
    },
    {
      "metadata": {
        "id": "XbSyapa0R9m3",
        "colab_type": "code",
        "colab": {
          "autoexec": {
            "startup": false,
            "wait_interval": 0
          },
          "base_uri": "https://localhost:8080/",
          "height": 173
        },
        "outputId": "c2fb658d-8b7a-411b-c06c-6e3faf32d69d",
        "executionInfo": {
          "status": "ok",
          "timestamp": 1525189821098,
          "user_tz": 420,
          "elapsed": 374,
          "user": {
            "displayName": "Ray Heberer",
            "photoUrl": "//lh4.googleusercontent.com/-BMlr5I5Dhow/AAAAAAAAAAI/AAAAAAAAABc/XW4PF5A8K2Q/s50-c-k-no/photo.jpg",
            "userId": "116545933704048584401"
          }
        }
      },
      "cell_type": "code",
      "source": [
        "spread = pd.concat([plot_data.std(), np.power(plot_data.std(), 2)], axis=1)\n",
        "spread.columns = ['Standard Deviation', 'Variance']\n",
        "spread"
      ],
      "execution_count": 7,
      "outputs": [
        {
          "output_type": "execute_result",
          "data": {
            "text/html": [
              "<div>\n",
              "<style scoped>\n",
              "    .dataframe tbody tr th:only-of-type {\n",
              "        vertical-align: middle;\n",
              "    }\n",
              "\n",
              "    .dataframe tbody tr th {\n",
              "        vertical-align: top;\n",
              "    }\n",
              "\n",
              "    .dataframe thead th {\n",
              "        text-align: right;\n",
              "    }\n",
              "</style>\n",
              "<table border=\"1\" class=\"dataframe\">\n",
              "  <thead>\n",
              "    <tr style=\"text-align: right;\">\n",
              "      <th></th>\n",
              "      <th>Standard Deviation</th>\n",
              "      <th>Variance</th>\n",
              "    </tr>\n",
              "  </thead>\n",
              "  <tbody>\n",
              "    <tr>\n",
              "      <th>Year</th>\n",
              "      <td>7.837410</td>\n",
              "      <td>6.142500e+01</td>\n",
              "    </tr>\n",
              "    <tr>\n",
              "      <th>Violent Count</th>\n",
              "      <td>8825.721359</td>\n",
              "      <td>7.789336e+07</td>\n",
              "    </tr>\n",
              "    <tr>\n",
              "      <th>Property Count</th>\n",
              "      <td>35687.143673</td>\n",
              "      <td>1.273572e+09</td>\n",
              "    </tr>\n",
              "    <tr>\n",
              "      <th>Population</th>\n",
              "      <td>365132.571910</td>\n",
              "      <td>1.333218e+11</td>\n",
              "    </tr>\n",
              "  </tbody>\n",
              "</table>\n",
              "</div>"
            ],
            "text/plain": [
              "                Standard Deviation      Variance\n",
              "Year                      7.837410  6.142500e+01\n",
              "Violent Count          8825.721359  7.789336e+07\n",
              "Property Count        35687.143673  1.273572e+09\n",
              "Population           365132.571910  1.333218e+11"
            ]
          },
          "metadata": {
            "tags": []
          },
          "execution_count": 7
        }
      ]
    },
    {
      "metadata": {
        "id": "5EUknco5ZM-u",
        "colab_type": "text"
      },
      "cell_type": "markdown",
      "source": [
        "## Visualize Spread of Violent Counts with Bee Swarm Plot"
      ]
    },
    {
      "metadata": {
        "id": "zlDJggdAS3QP",
        "colab_type": "code",
        "colab": {
          "autoexec": {
            "startup": false,
            "wait_interval": 0
          },
          "base_uri": "https://localhost:8080/",
          "height": 361
        },
        "outputId": "524450cc-d619-4833-b844-5844931524a6",
        "executionInfo": {
          "status": "ok",
          "timestamp": 1525189822651,
          "user_tz": 420,
          "elapsed": 439,
          "user": {
            "displayName": "Ray Heberer",
            "photoUrl": "//lh4.googleusercontent.com/-BMlr5I5Dhow/AAAAAAAAAAI/AAAAAAAAABc/XW4PF5A8K2Q/s50-c-k-no/photo.jpg",
            "userId": "116545933704048584401"
          }
        }
      },
      "cell_type": "code",
      "source": [
        "sns.swarmplot(y=plot_data['Violent Count'], x=plot_data['County']);"
      ],
      "execution_count": 8,
      "outputs": [
        {
          "output_type": "display_data",
          "data": {
            "image/png": "[encoded data removed]",
            "text/plain": [
              "<matplotlib.figure.Figure at 0x7fac82a87198>"
            ]
          },
          "metadata": {
            "tags": []
          }
        }
      ]
    },
    {
      "metadata": {
        "id": "ci_yJLcmZUsG",
        "colab_type": "text"
      },
      "cell_type": "markdown",
      "source": [
        "## Analyzing Covariances and Correlations"
      ]
    },
    {
      "metadata": {
        "id": "-xenc4szUTpo",
        "colab_type": "code",
        "colab": {
          "autoexec": {
            "startup": false,
            "wait_interval": 0
          },
          "base_uri": "https://localhost:8080/",
          "height": 142
        },
        "outputId": "ac1402c6-a771-4644-95d0-3cfb8ddc37f6",
        "executionInfo": {
          "status": "ok",
          "timestamp": 1525189824100,
          "user_tz": 420,
          "elapsed": 386,
          "user": {
            "displayName": "Ray Heberer",
            "photoUrl": "//lh4.googleusercontent.com/-BMlr5I5Dhow/AAAAAAAAAAI/AAAAAAAAABc/XW4PF5A8K2Q/s50-c-k-no/photo.jpg",
            "userId": "116545933704048584401"
          }
        }
      },
      "cell_type": "code",
      "source": [
        "year_data = plot_data[plot_data['Year']==2016]\n",
        "year_data"
      ],
      "execution_count": 9,
      "outputs": [
        {
          "output_type": "execute_result",
          "data": {
            "text/html": [
              "<div>\n",
              "<style scoped>\n",
              "    .dataframe tbody tr th:only-of-type {\n",
              "        vertical-align: middle;\n",
              "    }\n",
              "\n",
              "    .dataframe tbody tr th {\n",
              "        vertical-align: top;\n",
              "    }\n",
              "\n",
              "    .dataframe thead th {\n",
              "        text-align: right;\n",
              "    }\n",
              "</style>\n",
              "<table border=\"1\" class=\"dataframe\">\n",
              "  <thead>\n",
              "    <tr style=\"text-align: right;\">\n",
              "      <th></th>\n",
              "      <th>County</th>\n",
              "      <th>Year</th>\n",
              "      <th>Violent Count</th>\n",
              "      <th>Property Count</th>\n",
              "      <th>Population</th>\n",
              "    </tr>\n",
              "  </thead>\n",
              "  <tbody>\n",
              "    <tr>\n",
              "      <th>54</th>\n",
              "      <td>Bronx</td>\n",
              "      <td>2016</td>\n",
              "      <td>13817</td>\n",
              "      <td>23017</td>\n",
              "      <td>1458255.0</td>\n",
              "    </tr>\n",
              "    <tr>\n",
              "      <th>810</th>\n",
              "      <td>New York</td>\n",
              "      <td>2016</td>\n",
              "      <td>8839</td>\n",
              "      <td>37814</td>\n",
              "      <td>1647694.0</td>\n",
              "    </tr>\n",
              "    <tr>\n",
              "      <th>1080</th>\n",
              "      <td>Queens</td>\n",
              "      <td>2016</td>\n",
              "      <td>9356</td>\n",
              "      <td>24444</td>\n",
              "      <td>2343667.0</td>\n",
              "    </tr>\n",
              "  </tbody>\n",
              "</table>\n",
              "</div>"
            ],
            "text/plain": [
              "        County  Year  Violent Count  Property Count  Population\n",
              "54       Bronx  2016          13817           23017   1458255.0\n",
              "810   New York  2016           8839           37814   1647694.0\n",
              "1080    Queens  2016           9356           24444   2343667.0"
            ]
          },
          "metadata": {
            "tags": []
          },
          "execution_count": 9
        }
      ]
    },
    {
      "metadata": {
        "id": "QYjoppEuUYyI",
        "colab_type": "text"
      },
      "cell_type": "markdown",
      "source": [
        "As there is only one entry per county, per year, we cannot perform valid analysis on the correlation between `Population` and `Violent Count` at the resolution of individual counties. Instead, I will perform the analysis across counties."
      ]
    },
    {
      "metadata": {
        "id": "ZLvPSUpCTt8X",
        "colab_type": "code",
        "colab": {
          "autoexec": {
            "startup": false,
            "wait_interval": 0
          },
          "base_uri": "https://localhost:8080/",
          "height": 221
        },
        "outputId": "90e103c1-d5a0-4054-aead-18df05307181",
        "executionInfo": {
          "status": "ok",
          "timestamp": 1525189825491,
          "user_tz": 420,
          "elapsed": 379,
          "user": {
            "displayName": "Ray Heberer",
            "photoUrl": "//lh4.googleusercontent.com/-BMlr5I5Dhow/AAAAAAAAAAI/AAAAAAAAABc/XW4PF5A8K2Q/s50-c-k-no/photo.jpg",
            "userId": "116545933704048584401"
          }
        }
      },
      "cell_type": "code",
      "source": [
        "data_year = data[data['Year']==2016]\n",
        "print(data_year.shape)\n",
        "data_year.head()"
      ],
      "execution_count": 10,
      "outputs": [
        {
          "output_type": "stream",
          "text": [
            "(62, 5)\n"
          ],
          "name": "stdout"
        },
        {
          "output_type": "execute_result",
          "data": {
            "text/html": [
              "<div>\n",
              "<style scoped>\n",
              "    .dataframe tbody tr th:only-of-type {\n",
              "        vertical-align: middle;\n",
              "    }\n",
              "\n",
              "    .dataframe tbody tr th {\n",
              "        vertical-align: top;\n",
              "    }\n",
              "\n",
              "    .dataframe thead th {\n",
              "        text-align: right;\n",
              "    }\n",
              "</style>\n",
              "<table border=\"1\" class=\"dataframe\">\n",
              "  <thead>\n",
              "    <tr style=\"text-align: right;\">\n",
              "      <th></th>\n",
              "      <th>County</th>\n",
              "      <th>Year</th>\n",
              "      <th>Violent Count</th>\n",
              "      <th>Property Count</th>\n",
              "      <th>Population</th>\n",
              "    </tr>\n",
              "  </thead>\n",
              "  <tbody>\n",
              "    <tr>\n",
              "      <th>0</th>\n",
              "      <td>Albany</td>\n",
              "      <td>2016</td>\n",
              "      <td>1102</td>\n",
              "      <td>7662</td>\n",
              "      <td>308401.0</td>\n",
              "    </tr>\n",
              "    <tr>\n",
              "      <th>27</th>\n",
              "      <td>Allegany</td>\n",
              "      <td>2016</td>\n",
              "      <td>80</td>\n",
              "      <td>490</td>\n",
              "      <td>46858.0</td>\n",
              "    </tr>\n",
              "    <tr>\n",
              "      <th>54</th>\n",
              "      <td>Bronx</td>\n",
              "      <td>2016</td>\n",
              "      <td>13817</td>\n",
              "      <td>23017</td>\n",
              "      <td>1458255.0</td>\n",
              "    </tr>\n",
              "    <tr>\n",
              "      <th>81</th>\n",
              "      <td>Broome</td>\n",
              "      <td>2016</td>\n",
              "      <td>639</td>\n",
              "      <td>4766</td>\n",
              "      <td>194518.0</td>\n",
              "    </tr>\n",
              "    <tr>\n",
              "      <th>108</th>\n",
              "      <td>Cattaraugus</td>\n",
              "      <td>2016</td>\n",
              "      <td>138</td>\n",
              "      <td>1087</td>\n",
              "      <td>75126.0</td>\n",
              "    </tr>\n",
              "  </tbody>\n",
              "</table>\n",
              "</div>"
            ],
            "text/plain": [
              "          County  Year  Violent Count  Property Count  Population\n",
              "0         Albany  2016           1102            7662    308401.0\n",
              "27      Allegany  2016             80             490     46858.0\n",
              "54         Bronx  2016          13817           23017   1458255.0\n",
              "81        Broome  2016            639            4766    194518.0\n",
              "108  Cattaraugus  2016            138            1087     75126.0"
            ]
          },
          "metadata": {
            "tags": []
          },
          "execution_count": 10
        }
      ]
    },
    {
      "metadata": {
        "id": "ocXZcyNgVFVJ",
        "colab_type": "code",
        "colab": {
          "autoexec": {
            "startup": false,
            "wait_interval": 0
          },
          "base_uri": "https://localhost:8080/",
          "height": 376
        },
        "outputId": "a74b883b-3ea0-43a3-c49d-05d7294d4a80",
        "executionInfo": {
          "status": "ok",
          "timestamp": 1525189826616,
          "user_tz": 420,
          "elapsed": 450,
          "user": {
            "displayName": "Ray Heberer",
            "photoUrl": "//lh4.googleusercontent.com/-BMlr5I5Dhow/AAAAAAAAAAI/AAAAAAAAABc/XW4PF5A8K2Q/s50-c-k-no/photo.jpg",
            "userId": "116545933704048584401"
          }
        }
      },
      "cell_type": "code",
      "source": [
        "fig = plt.figure()\n",
        "ax = fig.subplots()\n",
        "\n",
        "ax.scatter(x=data_year['Population'], y=data_year['Violent Count'], s=20)\n",
        "ax.set(title='2016 Counts of Violence as a function of County Populations',\n",
        "      xlabel='Population',\n",
        "      ylabel='Violent Count');"
      ],
      "execution_count": 11,
      "outputs": [
        {
          "output_type": "display_data",
          "data": {
            "image/png": "[encoded data removed]",
            "text/plain": [
              "<matplotlib.figure.Figure at 0x7fac829c6780>"
            ]
          },
          "metadata": {
            "tags": []
          }
        }
      ]
    },
    {
      "metadata": {
        "id": "BCE_j5jqWB1S",
        "colab_type": "text"
      },
      "cell_type": "markdown",
      "source": [
        "The two features appear to be positively correlated, so they should have positive off-diagonals in their covariance matrix."
      ]
    },
    {
      "metadata": {
        "id": "ITUb-SDHWHiA",
        "colab_type": "code",
        "colab": {
          "autoexec": {
            "startup": false,
            "wait_interval": 0
          }
        }
      },
      "cell_type": "code",
      "source": [
        "m = data_year[['Violent Count', 'Population']].as_matrix()"
      ],
      "execution_count": 0,
      "outputs": []
    },
    {
      "metadata": {
        "id": "mLsC2YEGWRRA",
        "colab_type": "code",
        "colab": {
          "autoexec": {
            "startup": false,
            "wait_interval": 0
          },
          "base_uri": "https://localhost:8080/",
          "height": 85
        },
        "outputId": "92aa589f-94d0-4109-e37a-ce457cd6757b",
        "executionInfo": {
          "status": "ok",
          "timestamp": 1525189829384,
          "user_tz": 420,
          "elapsed": 234,
          "user": {
            "displayName": "Ray Heberer",
            "photoUrl": "//lh4.googleusercontent.com/-BMlr5I5Dhow/AAAAAAAAAAI/AAAAAAAAABc/XW4PF5A8K2Q/s50-c-k-no/photo.jpg",
            "userId": "116545933704048584401"
          }
        }
      },
      "cell_type": "code",
      "source": [
        "covariance_m = np.cov(m.T)\n",
        "print(covariance_m)\n",
        "\n",
        "covariance = covariance_m[0, 1]\n",
        "print('\\nCovariance:', covariance)"
      ],
      "execution_count": 13,
      "outputs": [
        {
          "output_type": "stream",
          "text": [
            "[[9.03307530e+06 1.47819580e+09]\n",
            " [1.47819580e+09 3.07911499e+11]]\n",
            "\n",
            "Covariance: 1478195797.6991012\n"
          ],
          "name": "stdout"
        }
      ]
    },
    {
      "metadata": {
        "id": "ljBnsGxmYZoU",
        "colab_type": "text"
      },
      "cell_type": "markdown",
      "source": [
        "The correlation coefficient between the two variables is just their correlation scaled by the product of their variances. It can also be directly calculated with [`np.corrcoef`](https://docs.scipy.org/doc/numpy-1.14.0/reference/generated/numpy.corrcoef.html)"
      ]
    },
    {
      "metadata": {
        "id": "1Eyz8R72YlTt",
        "colab_type": "code",
        "colab": {
          "autoexec": {
            "startup": false,
            "wait_interval": 0
          },
          "base_uri": "https://localhost:8080/",
          "height": 34
        },
        "outputId": "24f8d1f5-da98-4e71-892f-8738cf4624dd",
        "executionInfo": {
          "status": "ok",
          "timestamp": 1525189844203,
          "user_tz": 420,
          "elapsed": 519,
          "user": {
            "displayName": "Ray Heberer",
            "photoUrl": "//lh4.googleusercontent.com/-BMlr5I5Dhow/AAAAAAAAAAI/AAAAAAAAABc/XW4PF5A8K2Q/s50-c-k-no/photo.jpg",
            "userId": "116545933704048584401"
          }
        }
      },
      "cell_type": "code",
      "source": [
        "print('Correlation Coefficient', np.corrcoef(m.T)[0,1])"
      ],
      "execution_count": 16,
      "outputs": [
        {
          "output_type": "stream",
          "text": [
            "Correlation Coefficient 0.8863417242702395\n"
          ],
          "name": "stdout"
        }
      ]
    },
    {
      "metadata": {
        "id": "0CfuOz-AXRP-",
        "colab_type": "code",
        "colab": {
          "autoexec": {
            "startup": false,
            "wait_interval": 0
          },
          "base_uri": "https://localhost:8080/",
          "height": 376
        },
        "outputId": "de963e5b-fa6e-42a7-ab8f-04a6e584c53c",
        "executionInfo": {
          "status": "ok",
          "timestamp": 1525189847395,
          "user_tz": 420,
          "elapsed": 457,
          "user": {
            "displayName": "Ray Heberer",
            "photoUrl": "//lh4.googleusercontent.com/-BMlr5I5Dhow/AAAAAAAAAAI/AAAAAAAAABc/XW4PF5A8K2Q/s50-c-k-no/photo.jpg",
            "userId": "116545933704048584401"
          }
        }
      },
      "cell_type": "code",
      "source": [
        "fig = plt.figure()\n",
        "ax = fig.subplots()\n",
        "\n",
        "ax.scatter(x=data_year['Property Count'], y=data_year['Violent Count'], s=20)\n",
        "ax.set(title='Relationship between Violent and Property Crimes in 2016',\n",
        "      xlabel='Property Crimes',\n",
        "      ylabel='Violent Crimes');"
      ],
      "execution_count": 17,
      "outputs": [
        {
          "output_type": "display_data",
          "data": {
            "image/png": "[encoded data removed]",
            "text/plain": [
              "<matplotlib.figure.Figure at 0x7fac8287bb00>"
            ]
          },
          "metadata": {
            "tags": []
          }
        }
      ]
    },
    {
      "metadata": {
        "id": "7SvfK9x1Xx6u",
        "colab_type": "text"
      },
      "cell_type": "markdown",
      "source": [
        "We also expect these two features to have positive covariance."
      ]
    },
    {
      "metadata": {
        "id": "Zi3yIEn-YH7K",
        "colab_type": "code",
        "colab": {
          "autoexec": {
            "startup": false,
            "wait_interval": 0
          },
          "base_uri": "https://localhost:8080/",
          "height": 68
        },
        "outputId": "0481a177-b0d4-4d1c-c62c-40c26e098555",
        "executionInfo": {
          "status": "ok",
          "timestamp": 1525189870681,
          "user_tz": 420,
          "elapsed": 362,
          "user": {
            "displayName": "Ray Heberer",
            "photoUrl": "//lh4.googleusercontent.com/-BMlr5I5Dhow/AAAAAAAAAAI/AAAAAAAAABc/XW4PF5A8K2Q/s50-c-k-no/photo.jpg",
            "userId": "116545933704048584401"
          }
        }
      },
      "cell_type": "code",
      "source": [
        "m = data_year[['Violent Count', 'Property Count']].as_matrix()\n",
        "covariance_m = np.cov(m.T)\n",
        "\n",
        "covariance = covariance_m[0,1]\n",
        "print('\\nCovariance:', covariance)\n",
        "print('Correlation Coeeficient:', np.corrcoef(m.T)[0,1])"
      ],
      "execution_count": 19,
      "outputs": [
        {
          "output_type": "stream",
          "text": [
            "\n",
            "Covariance: 21898205.88683238\n",
            "Correlation Coeeficient: 0.8802287136376333\n"
          ],
          "name": "stdout"
        }
      ]
    }
  ]
}