{
  "nbformat": 4,
  "nbformat_minor": 0,
  "metadata": {
    "colab": {
      "name": "Project Assignment # 1.ipynb",
      "version": "0.3.2",
      "views": {},
      "default_view": {},
      "provenance": [
        {
          "file_id": "11J50q1mLiAIsQp8jGMW1nGfkl7vD8_Vo",
          "timestamp": 1525120891049
        },
        {
          "file_id": "19LpsAk1DQoHmJFhF9-182mfvdRdFcvja",
          "timestamp": 1524873191752
        }
      ]
    },
    "kernelspec": {
      "name": "python3",
      "display_name": "Python 3"
    }
  },
  "cells": [
    {
      "metadata": {
        "id": "5Df5yvC99sYU",
        "colab_type": "text"
      },
      "cell_type": "markdown",
      "source": [
        "Project Assignment #1\n",
        "In this project assignment, we are going to use the \"Traffic Tickets Issued: Four Year Window\" data set available from the Data.Gov website (https://catalog.data.gov/dataset?groups=local&organization_type=State+Government#topic=local_navigation).\n",
        "\n",
        "The focus of the analysis will be oriented towards the following attributes within the cities of :\n",
        "\n",
        "1) Violation Year\n",
        "\n",
        "2) Violation Month\n",
        "\n",
        "3) Violation Day of Week\n",
        "\n",
        "4) Age at Violation\n",
        "\n",
        "5) Gender\n",
        "\n",
        "There are a few objectives you need to accomplish:\n",
        "\n",
        "1) Examine the above-mentioned attributes in the data set for any missing values\n",
        "\n",
        "2) If there are any missing values, treat the misisng values. Here is a article that provides insight into the common methods to deal with missing values:\n",
        "\n",
        "https://towardsdatascience.com/working-with-missing-data-in-machine-learning-9c0a430df4ce\n",
        "\n",
        "Please the tips provided in the article to deal with missing values\n",
        "\n",
        "3) Compute summary statistics for the \"age at violation\" for Males and Females respectively\n",
        "\n",
        "a) Mean, b) Median, c) Standard Deviation, d) Variance\n",
        "\n",
        "4) Construct a Boxplot to surface the 25%, 50% and 75% percentiles of \"Age at Violation\" by Gender\n",
        "\n",
        "5) Construct Histograms to showcase the following:\n",
        "\n",
        "a) Count of Violations by Day of Week\n",
        "\n",
        "b) Count of Violations by Month\n",
        "\n",
        "c) Count of Violations by Gender\n",
        "\n",
        "6) Hone in on the data set for the Year 2015. Does the 'Violation at Age' and the 'Total # Of Violations' vary together? Construct a scatter plot that plots the 'Violation at Age' v/s the Total # Of Violation'. Does the Scatter Plot point to a positive covariance? Now, compute the Covariance. Perform this analysis for both the genders.\n",
        "\n",
        "7) Compute the Correlation Coefficient between the 2 variable i.e. 'Violation at Age' and the 'Total # Of Violations'. Perform this analysis for both the genders."
      ]
    },
    {
      "metadata": {
        "id": "nk67NLwYUWCG",
        "colab_type": "code",
        "colab": {
          "autoexec": {
            "startup": false,
            "wait_interval": 0
          }
        }
      },
      "cell_type": "code",
      "source": [
        "import numpy as np\n",
        "import pandas as pd\n",
        "import matplotlib.pyplot as plt\n",
        "import seaborn as sns"
      ],
      "execution_count": 0,
      "outputs": []
    },
    {
      "metadata": {
        "id": "UWANZYTDUTv4",
        "colab_type": "text"
      },
      "cell_type": "markdown",
      "source": [
        "## Load and Treat **Data**"
      ]
    },
    {
      "metadata": {
        "id": "hVB-lXnZUXhN",
        "colab_type": "code",
        "colab": {
          "autoexec": {
            "startup": false,
            "wait_interval": 0
          }
        }
      },
      "cell_type": "code",
      "source": [
        "data = pd.read_csv('https://data.ny.gov/api/views/q4hy-kbtf/rows.csv')"
      ],
      "execution_count": 0,
      "outputs": []
    },
    {
      "metadata": {
        "id": "i9QcabBDUsdK",
        "colab_type": "code",
        "colab": {
          "autoexec": {
            "startup": false,
            "wait_interval": 0
          },
          "base_uri": "https://localhost:8080/",
          "height": 323
        },
        "outputId": "b3ac73cc-d406-4a59-8a5c-69767e5e8e38",
        "executionInfo": {
          "status": "ok",
          "timestamp": 1525122998370,
          "user_tz": 420,
          "elapsed": 514,
          "user": {
            "displayName": "Ray Heberer",
            "photoUrl": "//lh4.googleusercontent.com/-BMlr5I5Dhow/AAAAAAAAAAI/AAAAAAAAABc/XW4PF5A8K2Q/s50-c-k-no/photo.jpg",
            "userId": "116545933704048584401"
          }
        }
      },
      "cell_type": "code",
      "source": [
        "data.head()"
      ],
      "execution_count": 6,
      "outputs": [
        {
          "output_type": "execute_result",
          "data": {
            "text/html": [
              "<div>\n",
              "<style scoped>\n",
              "    .dataframe tbody tr th:only-of-type {\n",
              "        vertical-align: middle;\n",
              "    }\n",
              "\n",
              "    .dataframe tbody tr th {\n",
              "        vertical-align: top;\n",
              "    }\n",
              "\n",
              "    .dataframe thead th {\n",
              "        text-align: right;\n",
              "    }\n",
              "</style>\n",
              "<table border=\"1\" class=\"dataframe\">\n",
              "  <thead>\n",
              "    <tr style=\"text-align: right;\">\n",
              "      <th></th>\n",
              "      <th>Violation Charged Code</th>\n",
              "      <th>Violation Description</th>\n",
              "      <th>Violation Year</th>\n",
              "      <th>Violation Month</th>\n",
              "      <th>Violation Day of Week</th>\n",
              "      <th>Age at Violation</th>\n",
              "      <th>Gender</th>\n",
              "      <th>State of License</th>\n",
              "      <th>Police Agency</th>\n",
              "      <th>Court</th>\n",
              "      <th>Source</th>\n",
              "    </tr>\n",
              "  </thead>\n",
              "  <tbody>\n",
              "    <tr>\n",
              "      <th>0</th>\n",
              "      <td>5091G</td>\n",
              "      <td>UNLICENSED GT 60DAYS</td>\n",
              "      <td>2015</td>\n",
              "      <td>1</td>\n",
              "      <td>THURSDAY</td>\n",
              "      <td>55.0</td>\n",
              "      <td>M</td>\n",
              "      <td>NEW YORK</td>\n",
              "      <td>NYC POLICE DEPT</td>\n",
              "      <td>QUEENS SOUTH TVB</td>\n",
              "      <td>TVB</td>\n",
              "    </tr>\n",
              "    <tr>\n",
              "      <th>1</th>\n",
              "      <td>376</td>\n",
              "      <td>LIGHTING-VARIOUS VIO</td>\n",
              "      <td>2015</td>\n",
              "      <td>1</td>\n",
              "      <td>THURSDAY</td>\n",
              "      <td>24.0</td>\n",
              "      <td>M</td>\n",
              "      <td>NEW YORK</td>\n",
              "      <td>NYC POLICE DEPT</td>\n",
              "      <td>QUEENS SOUTH TVB</td>\n",
              "      <td>TVB</td>\n",
              "    </tr>\n",
              "    <tr>\n",
              "      <th>2</th>\n",
              "      <td>1160C</td>\n",
              "      <td>IMPROPER LEFT TURN ON ONE-WAY RDWY</td>\n",
              "      <td>2015</td>\n",
              "      <td>2</td>\n",
              "      <td>MONDAY</td>\n",
              "      <td>62.0</td>\n",
              "      <td>M</td>\n",
              "      <td>NEW YORK</td>\n",
              "      <td>NYC POLICE DEPT</td>\n",
              "      <td>MANHATTAN SOUTH TVB</td>\n",
              "      <td>TVB</td>\n",
              "    </tr>\n",
              "    <tr>\n",
              "      <th>3</th>\n",
              "      <td>5091G</td>\n",
              "      <td>UNLICENSED GT 60DAYS</td>\n",
              "      <td>2015</td>\n",
              "      <td>9</td>\n",
              "      <td>THURSDAY</td>\n",
              "      <td>33.0</td>\n",
              "      <td>F</td>\n",
              "      <td>MICHIGAN</td>\n",
              "      <td>TRIBOROUGH BRIDGE TUNNEL AUTH</td>\n",
              "      <td>QUEENS SOUTH TVB</td>\n",
              "      <td>TVB</td>\n",
              "    </tr>\n",
              "    <tr>\n",
              "      <th>4</th>\n",
              "      <td>5091G</td>\n",
              "      <td>UNLICENSED GT 60DAYS</td>\n",
              "      <td>2015</td>\n",
              "      <td>5</td>\n",
              "      <td>SATURDAY</td>\n",
              "      <td>45.0</td>\n",
              "      <td>M</td>\n",
              "      <td>UNKNOWN</td>\n",
              "      <td>NYC POLICE DEPT</td>\n",
              "      <td>BROOKLYN SOUTH TVB</td>\n",
              "      <td>TVB</td>\n",
              "    </tr>\n",
              "  </tbody>\n",
              "</table>\n",
              "</div>"
            ],
            "text/plain": [
              "  Violation Charged Code               Violation Description  Violation Year  \\\n",
              "0                  5091G                UNLICENSED GT 60DAYS            2015   \n",
              "1                    376                LIGHTING-VARIOUS VIO            2015   \n",
              "2                  1160C  IMPROPER LEFT TURN ON ONE-WAY RDWY            2015   \n",
              "3                  5091G                UNLICENSED GT 60DAYS            2015   \n",
              "4                  5091G                UNLICENSED GT 60DAYS            2015   \n",
              "\n",
              "   Violation Month Violation Day of Week  Age at Violation Gender  \\\n",
              "0                1              THURSDAY              55.0      M   \n",
              "1                1              THURSDAY              24.0      M   \n",
              "2                2                MONDAY              62.0      M   \n",
              "3                9              THURSDAY              33.0      F   \n",
              "4                5              SATURDAY              45.0      M   \n",
              "\n",
              "  State of License                  Police Agency                Court Source  \n",
              "0         NEW YORK                NYC POLICE DEPT     QUEENS SOUTH TVB    TVB  \n",
              "1         NEW YORK                NYC POLICE DEPT     QUEENS SOUTH TVB    TVB  \n",
              "2         NEW YORK                NYC POLICE DEPT  MANHATTAN SOUTH TVB    TVB  \n",
              "3         MICHIGAN  TRIBOROUGH BRIDGE TUNNEL AUTH     QUEENS SOUTH TVB    TVB  \n",
              "4          UNKNOWN                NYC POLICE DEPT   BROOKLYN SOUTH TVB    TVB  "
            ]
          },
          "metadata": {
            "tags": []
          },
          "execution_count": 6
        }
      ]
    },
    {
      "metadata": {
        "id": "HhiMx04XajHv",
        "colab_type": "code",
        "colab": {
          "autoexec": {
            "startup": false,
            "wait_interval": 0
          },
          "base_uri": "https://localhost:8080/",
          "height": 204
        },
        "outputId": "20b345bd-86dd-492b-bc65-341f82dd0a48",
        "executionInfo": {
          "status": "ok",
          "timestamp": 1525123390162,
          "user_tz": 420,
          "elapsed": 603,
          "user": {
            "displayName": "Ray Heberer",
            "photoUrl": "//lh4.googleusercontent.com/-BMlr5I5Dhow/AAAAAAAAAAI/AAAAAAAAABc/XW4PF5A8K2Q/s50-c-k-no/photo.jpg",
            "userId": "116545933704048584401"
          }
        }
      },
      "cell_type": "code",
      "source": [
        "data = data[['Violation Year', 'Violation Month', 'Violation Day of Week', 'Age at Violation', 'Gender']]\n",
        "data.head()"
      ],
      "execution_count": 7,
      "outputs": [
        {
          "output_type": "execute_result",
          "data": {
            "text/html": [
              "<div>\n",
              "<style scoped>\n",
              "    .dataframe tbody tr th:only-of-type {\n",
              "        vertical-align: middle;\n",
              "    }\n",
              "\n",
              "    .dataframe tbody tr th {\n",
              "        vertical-align: top;\n",
              "    }\n",
              "\n",
              "    .dataframe thead th {\n",
              "        text-align: right;\n",
              "    }\n",
              "</style>\n",
              "<table border=\"1\" class=\"dataframe\">\n",
              "  <thead>\n",
              "    <tr style=\"text-align: right;\">\n",
              "      <th></th>\n",
              "      <th>Violation Year</th>\n",
              "      <th>Violation Month</th>\n",
              "      <th>Violation Day of Week</th>\n",
              "      <th>Age at Violation</th>\n",
              "      <th>Gender</th>\n",
              "    </tr>\n",
              "  </thead>\n",
              "  <tbody>\n",
              "    <tr>\n",
              "      <th>0</th>\n",
              "      <td>2015</td>\n",
              "      <td>1</td>\n",
              "      <td>THURSDAY</td>\n",
              "      <td>55.0</td>\n",
              "      <td>M</td>\n",
              "    </tr>\n",
              "    <tr>\n",
              "      <th>1</th>\n",
              "      <td>2015</td>\n",
              "      <td>1</td>\n",
              "      <td>THURSDAY</td>\n",
              "      <td>24.0</td>\n",
              "      <td>M</td>\n",
              "    </tr>\n",
              "    <tr>\n",
              "      <th>2</th>\n",
              "      <td>2015</td>\n",
              "      <td>2</td>\n",
              "      <td>MONDAY</td>\n",
              "      <td>62.0</td>\n",
              "      <td>M</td>\n",
              "    </tr>\n",
              "    <tr>\n",
              "      <th>3</th>\n",
              "      <td>2015</td>\n",
              "      <td>9</td>\n",
              "      <td>THURSDAY</td>\n",
              "      <td>33.0</td>\n",
              "      <td>F</td>\n",
              "    </tr>\n",
              "    <tr>\n",
              "      <th>4</th>\n",
              "      <td>2015</td>\n",
              "      <td>5</td>\n",
              "      <td>SATURDAY</td>\n",
              "      <td>45.0</td>\n",
              "      <td>M</td>\n",
              "    </tr>\n",
              "  </tbody>\n",
              "</table>\n",
              "</div>"
            ],
            "text/plain": [
              "   Violation Year  Violation Month Violation Day of Week  Age at Violation  \\\n",
              "0            2015                1              THURSDAY              55.0   \n",
              "1            2015                1              THURSDAY              24.0   \n",
              "2            2015                2                MONDAY              62.0   \n",
              "3            2015                9              THURSDAY              33.0   \n",
              "4            2015                5              SATURDAY              45.0   \n",
              "\n",
              "  Gender  \n",
              "0      M  \n",
              "1      M  \n",
              "2      M  \n",
              "3      F  \n",
              "4      M  "
            ]
          },
          "metadata": {
            "tags": []
          },
          "execution_count": 7
        }
      ]
    },
    {
      "metadata": {
        "id": "kYMM_Sc0cf-Z",
        "colab_type": "code",
        "colab": {
          "autoexec": {
            "startup": false,
            "wait_interval": 0
          },
          "base_uri": "https://localhost:8080/",
          "height": 119
        },
        "outputId": "22287b56-5ef3-42eb-ce42-80598a7637bb",
        "executionInfo": {
          "status": "ok",
          "timestamp": 1525123524801,
          "user_tz": 420,
          "elapsed": 2766,
          "user": {
            "displayName": "Ray Heberer",
            "photoUrl": "//lh4.googleusercontent.com/-BMlr5I5Dhow/AAAAAAAAAAI/AAAAAAAAABc/XW4PF5A8K2Q/s50-c-k-no/photo.jpg",
            "userId": "116545933704048584401"
          }
        }
      },
      "cell_type": "code",
      "source": [
        "data.isnull().any()"
      ],
      "execution_count": 9,
      "outputs": [
        {
          "output_type": "execute_result",
          "data": {
            "text/plain": [
              "Violation Year           False\n",
              "Violation Month          False\n",
              "Violation Day of Week    False\n",
              "Age at Violation          True\n",
              "Gender                   False\n",
              "dtype: bool"
            ]
          },
          "metadata": {
            "tags": []
          },
          "execution_count": 9
        }
      ]
    },
    {
      "metadata": {
        "id": "T7MtiaobdRar",
        "colab_type": "code",
        "colab": {
          "autoexec": {
            "startup": false,
            "wait_interval": 0
          },
          "base_uri": "https://localhost:8080/",
          "height": 34
        },
        "outputId": "dd849551-1c20-4afd-98c9-66d891bcc21a",
        "executionInfo": {
          "status": "ok",
          "timestamp": 1525123779673,
          "user_tz": 420,
          "elapsed": 5031,
          "user": {
            "displayName": "Ray Heberer",
            "photoUrl": "//lh4.googleusercontent.com/-BMlr5I5Dhow/AAAAAAAAAAI/AAAAAAAAABc/XW4PF5A8K2Q/s50-c-k-no/photo.jpg",
            "userId": "116545933704048584401"
          }
        }
      },
      "cell_type": "code",
      "source": [
        "data = data.fillna(data['Age at Violation'].mode())\n",
        "data.isnull().any().any()"
      ],
      "execution_count": 13,
      "outputs": [
        {
          "output_type": "execute_result",
          "data": {
            "text/plain": [
              "False"
            ]
          },
          "metadata": {
            "tags": []
          },
          "execution_count": 13
        }
      ]
    },
    {
      "metadata": {
        "id": "i-fkBtUZWAEp",
        "colab_type": "text"
      },
      "cell_type": "markdown",
      "source": [
        "## Summary Statistics"
      ]
    },
    {
      "metadata": {
        "id": "DS4gOM_6WChO",
        "colab_type": "code",
        "colab": {
          "autoexec": {
            "startup": false,
            "wait_interval": 0
          }
        }
      },
      "cell_type": "code",
      "source": [
        "males = data[data['Gender']=='M']\n",
        "males_summary = males.describe()\n",
        "males_summary = males_summary.loc[['mean', '50%', 'std']]"
      ],
      "execution_count": 0,
      "outputs": []
    },
    {
      "metadata": {
        "id": "toz4HfwahKlk",
        "colab_type": "code",
        "colab": {
          "autoexec": {
            "startup": false,
            "wait_interval": 0
          }
        }
      },
      "cell_type": "code",
      "source": [
        "males_variance = np.power(males_summary.loc[['50%']], 2)\n",
        "males_summary = males_summary.append(males_variance, ignore_index=True)"
      ],
      "execution_count": 0,
      "outputs": []
    },
    {
      "metadata": {
        "id": "kPGlo85Uiu8v",
        "colab_type": "code",
        "colab": {
          "autoexec": {
            "startup": false,
            "wait_interval": 0
          },
          "base_uri": "https://localhost:8080/",
          "height": 173
        },
        "outputId": "42b755a5-b0e5-4bf8-ad3f-7dc2d92374d5",
        "executionInfo": {
          "status": "ok",
          "timestamp": 1525125612492,
          "user_tz": 420,
          "elapsed": 330,
          "user": {
            "displayName": "Ray Heberer",
            "photoUrl": "//lh4.googleusercontent.com/-BMlr5I5Dhow/AAAAAAAAAAI/AAAAAAAAABc/XW4PF5A8K2Q/s50-c-k-no/photo.jpg",
            "userId": "116545933704048584401"
          }
        }
      },
      "cell_type": "code",
      "source": [
        "males_summary = males_summary.rename({0: 'mean', 1: 'median', 2: 'std', 3: 'variance'})\n",
        "males_summary"
      ],
      "execution_count": 64,
      "outputs": [
        {
          "output_type": "execute_result",
          "data": {
            "text/html": [
              "<div>\n",
              "<style scoped>\n",
              "    .dataframe tbody tr th:only-of-type {\n",
              "        vertical-align: middle;\n",
              "    }\n",
              "\n",
              "    .dataframe tbody tr th {\n",
              "        vertical-align: top;\n",
              "    }\n",
              "\n",
              "    .dataframe thead th {\n",
              "        text-align: right;\n",
              "    }\n",
              "</style>\n",
              "<table border=\"1\" class=\"dataframe\">\n",
              "  <thead>\n",
              "    <tr style=\"text-align: right;\">\n",
              "      <th></th>\n",
              "      <th>Violation Year</th>\n",
              "      <th>Violation Month</th>\n",
              "      <th>Age at Violation</th>\n",
              "    </tr>\n",
              "  </thead>\n",
              "  <tbody>\n",
              "    <tr>\n",
              "      <th>mean</th>\n",
              "      <td>2.014492e+03</td>\n",
              "      <td>6.346118</td>\n",
              "      <td>37.028860</td>\n",
              "    </tr>\n",
              "    <tr>\n",
              "      <th>median</th>\n",
              "      <td>2.014000e+03</td>\n",
              "      <td>6.000000</td>\n",
              "      <td>34.000000</td>\n",
              "    </tr>\n",
              "    <tr>\n",
              "      <th>std</th>\n",
              "      <td>1.120125e+00</td>\n",
              "      <td>3.362163</td>\n",
              "      <td>13.849333</td>\n",
              "    </tr>\n",
              "    <tr>\n",
              "      <th>variance</th>\n",
              "      <td>4.056196e+06</td>\n",
              "      <td>36.000000</td>\n",
              "      <td>1156.000000</td>\n",
              "    </tr>\n",
              "  </tbody>\n",
              "</table>\n",
              "</div>"
            ],
            "text/plain": [
              "          Violation Year  Violation Month  Age at Violation\n",
              "mean        2.014492e+03         6.346118         37.028860\n",
              "median      2.014000e+03         6.000000         34.000000\n",
              "std         1.120125e+00         3.362163         13.849333\n",
              "variance    4.056196e+06        36.000000       1156.000000"
            ]
          },
          "metadata": {
            "tags": []
          },
          "execution_count": 64
        }
      ]
    },
    {
      "metadata": {
        "id": "AbkjAzy6d7r3",
        "colab_type": "code",
        "colab": {
          "autoexec": {
            "startup": false,
            "wait_interval": 0
          },
          "base_uri": "https://localhost:8080/",
          "height": 173
        },
        "outputId": "11ee0ba6-134e-4931-c601-311fd5246da8",
        "executionInfo": {
          "status": "ok",
          "timestamp": 1525125681398,
          "user_tz": 420,
          "elapsed": 2722,
          "user": {
            "displayName": "Ray Heberer",
            "photoUrl": "//lh4.googleusercontent.com/-BMlr5I5Dhow/AAAAAAAAAAI/AAAAAAAAABc/XW4PF5A8K2Q/s50-c-k-no/photo.jpg",
            "userId": "116545933704048584401"
          }
        }
      },
      "cell_type": "code",
      "source": [
        "females = data[data['Gender']=='F']\n",
        "females_summary = females.describe()\n",
        "females_summary = females_summary.loc[['mean', '50%', 'std']]\n",
        "females_variance = np.power(females_summary.loc[['50%']], 2)\n",
        "females_summary = females_summary.append(females_variance, ignore_index=True)\n",
        "females_summary = females_summary.rename({0: 'mean', 1: 'median', 2: 'std', 3: 'variance'})\n",
        "females_summary"
      ],
      "execution_count": 65,
      "outputs": [
        {
          "output_type": "execute_result",
          "data": {
            "text/html": [
              "<div>\n",
              "<style scoped>\n",
              "    .dataframe tbody tr th:only-of-type {\n",
              "        vertical-align: middle;\n",
              "    }\n",
              "\n",
              "    .dataframe tbody tr th {\n",
              "        vertical-align: top;\n",
              "    }\n",
              "\n",
              "    .dataframe thead th {\n",
              "        text-align: right;\n",
              "    }\n",
              "</style>\n",
              "<table border=\"1\" class=\"dataframe\">\n",
              "  <thead>\n",
              "    <tr style=\"text-align: right;\">\n",
              "      <th></th>\n",
              "      <th>Violation Year</th>\n",
              "      <th>Violation Month</th>\n",
              "      <th>Age at Violation</th>\n",
              "    </tr>\n",
              "  </thead>\n",
              "  <tbody>\n",
              "    <tr>\n",
              "      <th>mean</th>\n",
              "      <td>2.014499e+03</td>\n",
              "      <td>6.366151</td>\n",
              "      <td>36.272119</td>\n",
              "    </tr>\n",
              "    <tr>\n",
              "      <th>median</th>\n",
              "      <td>2.014000e+03</td>\n",
              "      <td>6.000000</td>\n",
              "      <td>33.000000</td>\n",
              "    </tr>\n",
              "    <tr>\n",
              "      <th>std</th>\n",
              "      <td>1.120372e+00</td>\n",
              "      <td>3.377081</td>\n",
              "      <td>13.512607</td>\n",
              "    </tr>\n",
              "    <tr>\n",
              "      <th>variance</th>\n",
              "      <td>4.056196e+06</td>\n",
              "      <td>36.000000</td>\n",
              "      <td>1089.000000</td>\n",
              "    </tr>\n",
              "  </tbody>\n",
              "</table>\n",
              "</div>"
            ],
            "text/plain": [
              "          Violation Year  Violation Month  Age at Violation\n",
              "mean        2.014499e+03         6.366151         36.272119\n",
              "median      2.014000e+03         6.000000         33.000000\n",
              "std         1.120372e+00         3.377081         13.512607\n",
              "variance    4.056196e+06        36.000000       1089.000000"
            ]
          },
          "metadata": {
            "tags": []
          },
          "execution_count": 65
        }
      ]
    },
    {
      "metadata": {
        "id": "ef7eKQCgWDzz",
        "colab_type": "text"
      },
      "cell_type": "markdown",
      "source": [
        "## Plots"
      ]
    },
    {
      "metadata": {
        "id": "J2GVIaofoO_s",
        "colab_type": "code",
        "colab": {
          "autoexec": {
            "startup": false,
            "wait_interval": 0
          },
          "base_uri": "https://localhost:8080/",
          "height": 345
        },
        "outputId": "0aabefe0-d977-4198-f61e-03e9d604f617",
        "executionInfo": {
          "status": "ok",
          "timestamp": 1525126985699,
          "user_tz": 420,
          "elapsed": 1169,
          "user": {
            "displayName": "Ray Heberer",
            "photoUrl": "//lh4.googleusercontent.com/-BMlr5I5Dhow/AAAAAAAAAAI/AAAAAAAAABc/XW4PF5A8K2Q/s50-c-k-no/photo.jpg",
            "userId": "116545933704048584401"
          }
        }
      },
      "cell_type": "code",
      "source": [
        "fig, axs = plt.subplots(1, 2)\n",
        "\n",
        "axs[0].boxplot(males['Age at Violation'])\n",
        "axs[0].set(title='Males', ylabel='Age at Violation')\n",
        "axs[0].xaxis.set_visible(False)\n",
        "\n",
        "\n",
        "axs[1].boxplot(females['Age at Violation'])\n",
        "axs[1].set(title='Females')\n",
        "axs[1].xaxis.set_visible(False);"
      ],
      "execution_count": 80,
      "outputs": [
        {
          "output_type": "display_data",
          "data": {
            "image/png": "[encoded data removed]",
            "text/plain": [
              "<matplotlib.figure.Figure at 0x7f436f1ef3c8>"
            ]
          },
          "metadata": {
            "tags": []
          }
        }
      ]
    },
    {
      "metadata": {
        "id": "iljJzuBQq-a3",
        "colab_type": "code",
        "colab": {
          "autoexec": {
            "startup": false,
            "wait_interval": 0
          },
          "base_uri": "https://localhost:8080/",
          "height": 163
        },
        "outputId": "b58498e2-f39f-4e11-d07e-915d6a51200d",
        "executionInfo": {
          "status": "error",
          "timestamp": 1525127696940,
          "user_tz": 420,
          "elapsed": 308,
          "user": {
            "displayName": "Ray Heberer",
            "photoUrl": "//lh4.googleusercontent.com/-BMlr5I5Dhow/AAAAAAAAAAI/AAAAAAAAABc/XW4PF5A8K2Q/s50-c-k-no/photo.jpg",
            "userId": "116545933704048584401"
          }
        }
      },
      "cell_type": "code",
      "source": [
        "males"
      ],
      "execution_count": 3,
      "outputs": [
        {
          "output_type": "error",
          "ename": "NameError",
          "evalue": "ignored",
          "traceback": [
            "\u001b[0;31m---------------------------------------------------------------------------\u001b[0m",
            "\u001b[0;31mNameError\u001b[0m                                 Traceback (most recent call last)",
            "\u001b[0;32m<ipython-input-3-428bde93e4d3>\u001b[0m in \u001b[0;36m<module>\u001b[0;34m()\u001b[0m\n\u001b[0;32m----> 1\u001b[0;31m \u001b[0mmales\u001b[0m\u001b[0;34m\u001b[0m\u001b[0m\n\u001b[0m",
            "\u001b[0;31mNameError\u001b[0m: name 'males' is not defined"
          ]
        }
      ]
    },
    {
      "metadata": {
        "id": "pk9Pjnl9WNPX",
        "colab_type": "text"
      },
      "cell_type": "markdown",
      "source": [
        "## Covariance and Correlation Analysis"
      ]
    }
  ]
}