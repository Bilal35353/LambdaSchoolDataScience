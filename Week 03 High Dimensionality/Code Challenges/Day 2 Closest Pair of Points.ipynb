{
  "nbformat": 4,
  "nbformat_minor": 0,
  "metadata": {
    "colab": {
      "name": "High Dimensionality Closest Pair of Points CC - Master.ipynb",
      "version": "0.3.2",
      "views": {},
      "default_view": {},
      "provenance": [
        {
          "file_id": "1monLa113JTJFb9c9XHEhizCeYlBv_Oid",
          "timestamp": 1523977480815
        },
        {
          "file_id": "1YKF5UC-cUrJhUjmftNqJztUHlclEsjMm",
          "timestamp": 1523976259956
        }
      ],
      "collapsed_sections": []
    },
    "kernelspec": {
      "name": "python3",
      "display_name": "Python 3"
    }
  },
  "cells": [
    {
      "metadata": {
        "id": "ZgPDaAZ-3YVy",
        "colab_type": "text"
      },
      "cell_type": "markdown",
      "source": [
        "# Closest Pair of Points Coding Challenge"
      ]
    },
    {
      "metadata": {
        "id": "u6jrdu1E66cG",
        "colab_type": "code",
        "colab": {
          "autoexec": {
            "startup": false,
            "wait_interval": 0
          }
        }
      },
      "cell_type": "code",
      "source": [
        "import numpy as np"
      ],
      "execution_count": 0,
      "outputs": []
    },
    {
      "metadata": {
        "id": "tYoTp9Kd68Ve",
        "colab_type": "text"
      },
      "cell_type": "markdown",
      "source": [
        "This exercise builds on the same ideas covered in the last one, so feel free to reuse any functions. Today we'll start by defining a function that takes\n",
        "in a number of dimensions (call it n) and spits out a random vector n-dimensional vector. Each component of the vector should be randomly pulled from a\n",
        "normal distribution with mean 0 and standard deviation 1."
      ]
    },
    {
      "metadata": {
        "id": "pXsYTfd57U5t",
        "colab_type": "code",
        "colab": {
          "autoexec": {
            "startup": false,
            "wait_interval": 0
          }
        }
      },
      "cell_type": "code",
      "source": [
        "# Function that generates a n-dimensional vector from a normal distribution\n",
        "\n",
        "def rand_vec(n, mean=0, stdev=1):\n",
        "    return np.random.normal(mean, stdev, n)"
      ],
      "execution_count": 0,
      "outputs": []
    },
    {
      "metadata": {
        "id": "RESYm02W7-Mb",
        "colab_type": "text"
      },
      "cell_type": "markdown",
      "source": [
        "Now generate a list of 50 vectors in 50-dimensional space. Call the list vec_list."
      ]
    },
    {
      "metadata": {
        "id": "AnH-IvFH7ktm",
        "colab_type": "code",
        "colab": {
          "autoexec": {
            "startup": false,
            "wait_interval": 0
          }
        }
      },
      "cell_type": "code",
      "source": [
        "# vec_list = 50 vectors in 50 dimensional space\n",
        "\n",
        "vec_list = [rand_vec(50) for _ in range(50)]"
      ],
      "execution_count": 0,
      "outputs": []
    },
    {
      "metadata": {
        "id": "KaNEauf48DzW",
        "colab_type": "text"
      },
      "cell_type": "markdown",
      "source": [
        "To every two vectors v1 and v2, recall how we calculate the distance bewteen v1 and v2. With that in mind, find the two\n",
        "vectors closest to one another and print the distance between them. Hint: the answer isn't zero. \n",
        "\n",
        "[Closest pair of points problem](https://en.wikipedia.org/wiki/Closest_pair_of_points_problem)"
      ]
    },
    {
      "metadata": {
        "id": "cyIU2CKoJiQ4",
        "colab_type": "code",
        "colab": {
          "autoexec": {
            "startup": false,
            "wait_interval": 0
          },
          "base_uri": "https://localhost:8080/",
          "height": 34
        },
        "outputId": "6999daca-5f8b-4256-9054-185e0ea77b92",
        "executionInfo": {
          "status": "ok",
          "timestamp": 1523982737477,
          "user_tz": 420,
          "elapsed": 344,
          "user": {
            "displayName": "Ray Heberer",
            "photoUrl": "//lh4.googleusercontent.com/-BMlr5I5Dhow/AAAAAAAAAAI/AAAAAAAAABc/XW4PF5A8K2Q/s50-c-k-no/photo.jpg",
            "userId": "116545933704048584401"
          }
        }
      },
      "cell_type": "code",
      "source": [
        "# brute force approach\n",
        "\n",
        "dist_list = [np.linalg.norm(vec_list[i]-vec_list[j]) for i in range(len(vec_list)) for j in range(len(vec_list)) if j > i]\n",
        "min_distance = min(dist_list)\n",
        "print(min_distance)"
      ],
      "execution_count": 4,
      "outputs": [
        {
          "output_type": "stream",
          "text": [
            "6.939238351735295\n"
          ],
          "name": "stdout"
        }
      ]
    },
    {
      "metadata": {
        "id": "fOtd__ax9R4D",
        "colab_type": "text"
      },
      "cell_type": "markdown",
      "source": [
        "Now find the two vectors furthest from one another."
      ]
    },
    {
      "metadata": {
        "id": "taeU63sy8VSJ",
        "colab_type": "code",
        "colab": {
          "autoexec": {
            "startup": false,
            "wait_interval": 0
          },
          "base_uri": "https://localhost:8080/",
          "height": 34
        },
        "outputId": "74b1097b-f890-4357-a17e-ee82bd0d27a0",
        "executionInfo": {
          "status": "ok",
          "timestamp": 1523982738106,
          "user_tz": 420,
          "elapsed": 296,
          "user": {
            "displayName": "Ray Heberer",
            "photoUrl": "//lh4.googleusercontent.com/-BMlr5I5Dhow/AAAAAAAAAAI/AAAAAAAAABc/XW4PF5A8K2Q/s50-c-k-no/photo.jpg",
            "userId": "116545933704048584401"
          }
        }
      },
      "cell_type": "code",
      "source": [
        "# Inversion of Closest Pair of Points algorithm\n",
        "max_distance = max(dist_list)\n",
        "print(max_distance)"
      ],
      "execution_count": 5,
      "outputs": [
        {
          "output_type": "stream",
          "text": [
            "13.765419094553476\n"
          ],
          "name": "stdout"
        }
      ]
    },
    {
      "metadata": {
        "id": "pQQL9mUZ78yP",
        "colab_type": "code",
        "colab": {
          "autoexec": {
            "startup": false,
            "wait_interval": 0
          }
        }
      },
      "cell_type": "code",
      "source": [
        "# Implementation of Closest Pair of Points algorithm\n",
        "\n",
        "def closest_pair_of_points(v_sorted):\n",
        "    \n",
        "    v_len = len(v_sorted)\n",
        "    \n",
        "    if v_len == 2:\n",
        "        return np.linalg.norm(v_sorted[0]-v_sorted[1])\n",
        "    \n",
        "    elif v_len == 3:\n",
        "        v_dists = [np.linalg.norm(v_sorted[0]-v_sorted[1]), np.linalg.norm(v_sorted[0]-v_sorted[2]), np.linalg.norm(v_sorted[1]-v_sorted[2])]\n",
        "        return min(v_dists)\n",
        "    \n",
        "    else:\n",
        "        split_index = v_len // 2\n",
        "        v_left = v_sorted[:split_index]\n",
        "        v_right = v_sorted[split_index:]\n",
        "                \n",
        "        min_left = closest_pair_of_points(v_left)\n",
        "        min_right = closest_pair_of_points(v_right)\n",
        "        \n",
        "        dist = min(min_left, min_right)\n",
        "        x = v_sorted[split_index][0]\n",
        "        x1 = x - dist\n",
        "        x2 = x + dist\n",
        "        \n",
        "        v_left_compare = [v for v in v_left if v[0] > x1]\n",
        "        v_right_compare = [v for v in v_right if v[0] < x2]\n",
        "        left_right_dists = [np.linalg.norm(v_left[i]-v_right_compare[j]) for i in range(len(v_left)) for j in range(len(v_right_compare))]\n",
        "        \n",
        "        if len(left_right_dists) > 0:\n",
        "            min_left_right = min(left_right_dists)\n",
        "        else:\n",
        "            min_left_right = np.inf\n",
        "        \n",
        "        return min(dist, min_left_right)\n",
        "        "
      ],
      "execution_count": 0,
      "outputs": []
    },
    {
      "metadata": {
        "id": "MuW3XJW9TYdf",
        "colab_type": "code",
        "colab": {
          "autoexec": {
            "startup": false,
            "wait_interval": 0
          },
          "base_uri": "https://localhost:8080/",
          "height": 34
        },
        "outputId": "7d47de15-a655-45de-d28f-3d228bd63f4b",
        "executionInfo": {
          "status": "ok",
          "timestamp": 1523982740051,
          "user_tz": 420,
          "elapsed": 380,
          "user": {
            "displayName": "Ray Heberer",
            "photoUrl": "//lh4.googleusercontent.com/-BMlr5I5Dhow/AAAAAAAAAAI/AAAAAAAAABc/XW4PF5A8K2Q/s50-c-k-no/photo.jpg",
            "userId": "116545933704048584401"
          }
        }
      },
      "cell_type": "code",
      "source": [
        "v_sorted = sorted(vec_list, key=lambda x: x[0])\n",
        "\n",
        "closest_pair_of_points(v_sorted)"
      ],
      "execution_count": 7,
      "outputs": [
        {
          "output_type": "execute_result",
          "data": {
            "text/plain": [
              "6.939238351735295"
            ]
          },
          "metadata": {
            "tags": []
          },
          "execution_count": 7
        }
      ]
    },
    {
      "metadata": {
        "id": "5Ec_o2aEUo2f",
        "colab_type": "code",
        "colab": {
          "autoexec": {
            "startup": false,
            "wait_interval": 0
          },
          "base_uri": "https://localhost:8080/",
          "height": 51
        },
        "outputId": "05d7be73-ffb5-4326-a81f-441a88b56989",
        "executionInfo": {
          "status": "ok",
          "timestamp": 1523982740733,
          "user_tz": 420,
          "elapsed": 370,
          "user": {
            "displayName": "Ray Heberer",
            "photoUrl": "//lh4.googleusercontent.com/-BMlr5I5Dhow/AAAAAAAAAAI/AAAAAAAAABc/XW4PF5A8K2Q/s50-c-k-no/photo.jpg",
            "userId": "116545933704048584401"
          }
        }
      },
      "cell_type": "code",
      "source": [
        "import time\n",
        "\n",
        "start = time.time()\n",
        "min([np.linalg.norm(vec_list[i]-vec_list[j]) for i in range(len(vec_list)) for j in range(len(vec_list)) if j > i])\n",
        "end = time.time()\n",
        "print(\"Brute force solution runs in {} seconds\".format(end - start))\n",
        "\n",
        "\n",
        "start = time.time()\n",
        "closest_pair_of_points(v_sorted)\n",
        "end = time.time()\n",
        "print(\"Recursive solution runs in {} seconds\".format(end - start))"
      ],
      "execution_count": 8,
      "outputs": [
        {
          "output_type": "stream",
          "text": [
            "Brute force solution runs in 0.011480569839477539 seconds\n",
            "Recursive solution runs in 0.008669614791870117 seconds\n"
          ],
          "name": "stdout"
        }
      ]
    },
    {
      "metadata": {
        "id": "0Xsoc2WBY-aX",
        "colab_type": "code",
        "colab": {
          "autoexec": {
            "startup": false,
            "wait_interval": 0
          },
          "base_uri": "https://localhost:8080/",
          "height": 51
        },
        "outputId": "3801e599-f9b8-4a60-f2ea-9c03af6ea7df",
        "executionInfo": {
          "status": "ok",
          "timestamp": 1523982763858,
          "user_tz": 420,
          "elapsed": 22452,
          "user": {
            "displayName": "Ray Heberer",
            "photoUrl": "//lh4.googleusercontent.com/-BMlr5I5Dhow/AAAAAAAAAAI/AAAAAAAAABc/XW4PF5A8K2Q/s50-c-k-no/photo.jpg",
            "userId": "116545933704048584401"
          }
        }
      },
      "cell_type": "code",
      "source": [
        "# test with 2000 vectors\n",
        "\n",
        "vec_list2 = [rand_vec(50) for _ in range(2000)]\n",
        "v_sorted2 = sorted(vec_list2, key=lambda x: x[0])\n",
        "\n",
        "start = time.time()\n",
        "min([np.linalg.norm(vec_list2[i]-vec_list2[j]) for i in range(len(vec_list2)) for j in range(len(vec_list2)) if j > i])\n",
        "end = time.time()\n",
        "print(\"Brute force solution runs in {} seconds\".format(end - start))\n",
        "\n",
        "\n",
        "start = time.time()\n",
        "closest_pair_of_points(v_sorted2)\n",
        "end = time.time()\n",
        "print(\"Recursive solution runs in {} seconds\".format(end - start))"
      ],
      "execution_count": 9,
      "outputs": [
        {
          "output_type": "stream",
          "text": [
            "Brute force solution runs in 11.21917724609375 seconds\n",
            "Recursive solution runs in 10.863948583602905 seconds\n"
          ],
          "name": "stdout"
        }
      ]
    }
  ]
}