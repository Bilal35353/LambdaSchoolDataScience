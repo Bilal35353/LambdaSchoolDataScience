{
  "nbformat": 4,
  "nbformat_minor": 0,
  "metadata": {
    "colab": {
      "name": "Dimensionality Reduction Sprint Challenge.ipynb",
      "version": "0.3.2",
      "views": {},
      "default_view": {},
      "provenance": [
        {
          "file_id": "14erbTaHHmW8MNeY_4IrkyfNa1CReV_BG",
          "timestamp": 1524237256927
        }
      ],
      "collapsed_sections": []
    },
    "kernelspec": {
      "name": "python3",
      "display_name": "Python 3"
    }
  },
  "cells": [
    {
      "metadata": {
        "id": "13M2_Ev46xb0",
        "colab_type": "text"
      },
      "cell_type": "markdown",
      "source": [
        "# Dimensionality Reduction Sprint Challenge\n",
        "\n",
        "A powerful method for dimensionality reduction is using Principal Components Analysis (PCA).\n",
        "\n",
        "Students should be able to complete objectives after this sprint:\n",
        "* Identify the use case for data normalization/standardization\n",
        "* Graph the top two principal components of a high dimensional dataset with PCA\n",
        "* Compute the eigenvectors and eigenvalues of a dataset's covariance matrix\n",
        "\n",
        "Lets use the UCI Wine Dataset for this Sprint  Challenge: It is high dimensional, numeric, and clean - an excellent opportunity for PCA.\n",
        "\n",
        "[UCI Wine Data Set](http://archive.ics.uci.edu/ml/datasets/Wine)\n",
        "\n",
        "The UCI License forbids redistributing their data. We can link directly to it!\n",
        "\n",
        "[UCI Wine Data Set Data](http://archive.ics.uci.edu/ml/machine-learning-databases/wine/)"
      ]
    },
    {
      "metadata": {
        "id": "yzxtjQAJ6uDb",
        "colab_type": "code",
        "colab": {
          "autoexec": {
            "startup": false,
            "wait_interval": 0
          },
          "base_uri": "https://localhost:8080/",
          "height": 204
        },
        "outputId": "543dc39d-f56b-4560-95cb-fce819461dde",
        "executionInfo": {
          "status": "ok",
          "timestamp": 1524242578649,
          "user_tz": 420,
          "elapsed": 1614,
          "user": {
            "displayName": "Ray Heberer",
            "photoUrl": "//lh4.googleusercontent.com/-BMlr5I5Dhow/AAAAAAAAAAI/AAAAAAAAABc/XW4PF5A8K2Q/s50-c-k-no/photo.jpg",
            "userId": "116545933704048584401"
          }
        }
      },
      "cell_type": "code",
      "source": [
        "# Download the data to your colab instance!\n",
        "!wget http://archive.ics.uci.edu/ml/machine-learning-databases/wine/wine.data -O wine.data"
      ],
      "execution_count": 1,
      "outputs": [
        {
          "output_type": "stream",
          "text": [
            "--2018-04-20 16:42:58--  http://archive.ics.uci.edu/ml/machine-learning-databases/wine/wine.data\r\n",
            "Resolving archive.ics.uci.edu (archive.ics.uci.edu)... 128.195.10.249\n",
            "Connecting to archive.ics.uci.edu (archive.ics.uci.edu)|128.195.10.249|:80... connected.\n",
            "HTTP request sent, awaiting response... 200 OK\n",
            "Length: 10782 (11K) [text/plain]\n",
            "Saving to: ‘wine.data’\n",
            "\n",
            "wine.data           100%[===================>]  10.53K  --.-KB/s    in 0s      \n",
            "\n",
            "2018-04-20 16:42:58 (191 MB/s) - ‘wine.data’ saved [10782/10782]\n",
            "\n"
          ],
          "name": "stdout"
        }
      ]
    },
    {
      "metadata": {
        "id": "cRiO_w0Wh7BX",
        "colab_type": "code",
        "colab": {
          "autoexec": {
            "startup": false,
            "wait_interval": 0
          }
        }
      },
      "cell_type": "code",
      "source": [
        "# LAMBDA SCHOOL\n",
        "#\n",
        "# MACHINE LEARNING\n",
        "#\n",
        "# MIT LICENSE\n",
        "\n",
        "import pandas as pd\n",
        "import numpy as np\n",
        "import matplotlib.pyplot as plt\n",
        "\n",
        "data = pd.read_csv('wine.data')\n",
        "\n",
        "# Column names from:\n",
        "# http://archive.ics.uci.edu/ml/machine-learning-databases/wine/wine.names\n",
        "columns = ['vinyard','alcohol','malic acid','ash','ash alcalinity','magnesium',\n",
        "           'Total phenols','Flavanoids','Nonflavanoid phenols','Proanthocyanins',\n",
        "           'Color intensity','Hue','dilute OD280/OD315', 'Proline']\n",
        "\n",
        "data.columns = columns\n",
        "\n",
        "vinyard = data['vinyard']\n",
        "data = data.drop(['vinyard'],axis=1)\n",
        "colors = np.array(['red','green','blue'])[np.array([vinyard])-1]"
      ],
      "execution_count": 0,
      "outputs": []
    },
    {
      "metadata": {
        "id": "7BBGVW4WhMmM",
        "colab_type": "text"
      },
      "cell_type": "markdown",
      "source": [
        "# 1. Identify the use case for normalization\n",
        "\n",
        "Principal Components Analysis will give us a view into our data that maximizes its variance, potentially improving intuition and learning algorithms. Look at the below `data.std()` output. If we use PCA to project the wine dataset onto the 3 dimensions with the highest variance, which ones will they be? How will this projection differ than simply plotting the three dimensions directly?"
      ]
    },
    {
      "metadata": {
        "id": "IuffaCLSiHok",
        "colab_type": "code",
        "colab": {
          "autoexec": {
            "startup": false,
            "wait_interval": 0
          },
          "base_uri": "https://localhost:8080/",
          "height": 255
        },
        "outputId": "4b8e42c2-aea0-422c-f00d-2384a2cd56af",
        "executionInfo": {
          "status": "ok",
          "timestamp": 1524242581108,
          "user_tz": 420,
          "elapsed": 549,
          "user": {
            "displayName": "Ray Heberer",
            "photoUrl": "//lh4.googleusercontent.com/-BMlr5I5Dhow/AAAAAAAAAAI/AAAAAAAAABc/XW4PF5A8K2Q/s50-c-k-no/photo.jpg",
            "userId": "116545933704048584401"
          }
        }
      },
      "cell_type": "code",
      "source": [
        "print(data.std())"
      ],
      "execution_count": 3,
      "outputs": [
        {
          "output_type": "stream",
          "text": [
            "alcohol                   0.808808\n",
            "malic acid                1.119314\n",
            "ash                       0.275080\n",
            "ash alcalinity            3.336071\n",
            "magnesium                14.174018\n",
            "Total phenols             0.626465\n",
            "Flavanoids                0.998658\n",
            "Nonflavanoid phenols      0.124653\n",
            "Proanthocyanins           0.571545\n",
            "Color intensity           2.324446\n",
            "Hue                       0.229135\n",
            "dilute OD280/OD315        0.705103\n",
            "Proline                 314.884046\n",
            "dtype: float64\n"
          ],
          "name": "stdout"
        }
      ]
    },
    {
      "metadata": {
        "id": "j971ZE3t4biu",
        "colab_type": "text"
      },
      "cell_type": "markdown",
      "source": [
        "The bases of the dimensions found by PCA are a mutually orthogonal set of vectors corresponding to the eigenvectors of the eigendecomposition of the data's covariance matrix. The first principal component is then the eigenvector corresponding to the highes eigenvalue.\n",
        "\n",
        "What this means in relation to the data is that each component can be some linear combination of the existing bases (features). Because simply computing the standard deviation of each feature independently doesn't reveal how the features are dependent or correlated with one another.\n",
        "\n",
        "However, because some features in the raw data occupy larger scales and thus have higher standard deviations, it is likely that the principal components will be highly correlated with these dimensions. In other words, their basis vectors will point in almost the same direction. Because of this, a projection onto the first three principal components will be very similar to a projection onto the three dimensions of greatest variance.\n",
        "\n",
        "Despite this, we cannot precisely say \"what\" the first three principal components will be, other than that they will be orthogonal to each other, will be some linear combination of the 13 features, and in the case of this unstandardized data, will be closely aligned with the three features of highest standard deviation."
      ]
    },
    {
      "metadata": {
        "id": "sq6eLsBqjCF9",
        "colab_type": "text"
      },
      "cell_type": "markdown",
      "source": [
        "# 2. Graph the top two dimensions of a high dimensional dataset using PCA\n",
        "\n",
        "Use PCA with 2 components to plot the top two dimensions of this dataset. Apply the color vector above so that the origin of each sample is visible."
      ]
    },
    {
      "metadata": {
        "id": "Obh67m9riK2V",
        "colab_type": "code",
        "colab": {
          "autoexec": {
            "startup": false,
            "wait_interval": 0
          }
        }
      },
      "cell_type": "code",
      "source": [
        "# Use PCA and make a graph of data\n",
        "\n",
        "from sklearn.decomposition import PCA\n",
        "\n",
        "model1 = PCA(n_components=2)\n",
        "model1.fit(data)\n",
        "data_pca = model1.transform(data)"
      ],
      "execution_count": 0,
      "outputs": []
    },
    {
      "metadata": {
        "id": "s1hI2kSmrT6e",
        "colab_type": "code",
        "colab": {
          "autoexec": {
            "startup": false,
            "wait_interval": 0
          },
          "base_uri": "https://localhost:8080/",
          "height": 376
        },
        "outputId": "e4bd649b-7018-4549-f68a-72fc40bba497",
        "executionInfo": {
          "status": "ok",
          "timestamp": 1524242583705,
          "user_tz": 420,
          "elapsed": 582,
          "user": {
            "displayName": "Ray Heberer",
            "photoUrl": "//lh4.googleusercontent.com/-BMlr5I5Dhow/AAAAAAAAAAI/AAAAAAAAABc/XW4PF5A8K2Q/s50-c-k-no/photo.jpg",
            "userId": "116545933704048584401"
          }
        }
      },
      "cell_type": "code",
      "source": [
        "plt.scatter(*data_pca.T, s=8, c=colors.reshape(-1))\n",
        "plt.title('Unnormalized UCI Wine Projected onto Principal Components')\n",
        "plt.xlabel('First Principal Component')\n",
        "plt.ylabel('Second Principal Component');"
      ],
      "execution_count": 5,
      "outputs": [
        {
          "output_type": "display_data",
          "data": {
            "image/png": "[encoded data removed]",
            "text/plain": [
              "<matplotlib.figure.Figure at 0x7fb90fc40128>"
            ]
          },
          "metadata": {
            "tags": []
          }
        }
      ]
    },
    {
      "metadata": {
        "id": "CIcGSzd9j_jo",
        "colab_type": "text"
      },
      "cell_type": "markdown",
      "source": [
        "# 3. Graph the top two dimensions of a normalized high dimensional dataset using PCA\n",
        "\n",
        "Use a `normalization` from `scikit.preprocessing` to improve the results of the PCA."
      ]
    },
    {
      "metadata": {
        "id": "9SyPftNv1PPa",
        "colab_type": "text"
      },
      "cell_type": "markdown",
      "source": [
        "First, some disambiguation. \"Normalization\" is a term used in many contexts, with often similar yet distinct meanings. In the context of vectors, it typically means to scale them so that they have unit norm. This is the definition used by [`sklearn.preprocessing.Normalize`](http://scikit-learn.org/stable/modules/generated/sklearn.preprocessing.normalize.html). When called on a matrix, it is assumed that the it is of shape `(n_samples, n_features)`, where each sample is a vector. Each row of the matrix is the normalized.\n",
        "\n",
        "In the context of probability distributions, mathematicians typically use \"normalized\" to refer to functions that integrate over their entire domain to one - in other words, they have unit area under the curve.\n",
        "\n",
        "A third definition of normalization, one which is most relevant to data science, is treating data as a collection of random variables (1 for each feature), hypothesizing that each is from an independent normal (Gaussian) distribution, and centering each around the mean and giving it unit variance. This is also referred to as \"standardization\", and is implemented by [`sklearn.preprocessing.StandardScaler`](http://scikit-learn.org/stable/modules/generated/sklearn.preprocessing.StandardScaler.html).\n",
        "\n",
        "For the purposes of preprocessing before PCA, standardization is the most appropriate. Normalizing by rescaling each sample to have unit norm will coerce the data to occupy a unit hypersphere in the dimension of the number of features. This transformation from a space to a hypersurface in that space discards information. As much as possible, we would like to preprocessing step to preserve information, and only compress during the dimensionality reduction step itself - PCA.\n",
        "\n",
        "Using `StandardScalar` will improve the results of PCA because it is not the case that the features of the data are independent, or normal. The principal components will be some linear combination of features, and will leverage the dependence between features of data to find the combination along which the variance is greatest. Furthermore, even if two features of data both came from normal distributions, and one had a larger variance than the other to begin with, rescaling both to one is only harmful if there was a meaningful relationship between the units of one feature and the units of another. This tends to be the exception, rather than the rule (for example, if one column records mass, and another length, and because of the choice of units one column occupies a wider scale than the other, rescaling them both indepently to unit variance is the correct choice)."
      ]
    },
    {
      "metadata": {
        "id": "sQKPPzIJkOWX",
        "colab_type": "code",
        "colab": {
          "autoexec": {
            "startup": false,
            "wait_interval": 0
          }
        }
      },
      "cell_type": "code",
      "source": [
        "import sklearn.preprocessing as preprocessing\n",
        "\n",
        "# Use normalization, and PCA, to make a graph of the data\n",
        "\n",
        "data_processed = preprocessing.StandardScaler().fit_transform(data)"
      ],
      "execution_count": 0,
      "outputs": []
    },
    {
      "metadata": {
        "id": "vjvrT2_btejt",
        "colab_type": "code",
        "colab": {
          "autoexec": {
            "startup": false,
            "wait_interval": 0
          },
          "base_uri": "https://localhost:8080/",
          "height": 376
        },
        "outputId": "e3dbaf91-a1f9-43ea-e5b8-5219b632dd7d",
        "executionInfo": {
          "status": "ok",
          "timestamp": 1524242586634,
          "user_tz": 420,
          "elapsed": 634,
          "user": {
            "displayName": "Ray Heberer",
            "photoUrl": "//lh4.googleusercontent.com/-BMlr5I5Dhow/AAAAAAAAAAI/AAAAAAAAABc/XW4PF5A8K2Q/s50-c-k-no/photo.jpg",
            "userId": "116545933704048584401"
          }
        }
      },
      "cell_type": "code",
      "source": [
        "model2 = PCA(n_components=2)\n",
        "model2.fit(data_processed)\n",
        "data_pca = model2.transform(data_processed)\n",
        "\n",
        "plt.scatter(*data_pca.T, s=8, c=colors.reshape(-1))\n",
        "plt.title('UCI Wine Projected onto Principal Components')\n",
        "plt.xlabel('First Principal Component')\n",
        "plt.ylabel('Second Principal Component');"
      ],
      "execution_count": 7,
      "outputs": [
        {
          "output_type": "display_data",
          "data": {
            "image/png": "[encoded data removed]",
            "text/plain": [
              "<matplotlib.figure.Figure at 0x7fb90fc6b3c8>"
            ]
          },
          "metadata": {
            "tags": []
          }
        }
      ]
    },
    {
      "metadata": {
        "id": "E-7XUBxF4Jq-",
        "colab_type": "text"
      },
      "cell_type": "markdown",
      "source": [
        "As expected, the projected data is much more separable is the space with the first 2 principal components as bases."
      ]
    },
    {
      "metadata": {
        "id": "qLLfQB2tkYG5",
        "colab_type": "text"
      },
      "cell_type": "markdown",
      "source": [
        "# 4. Compute the eigenvectors of a dataset\n",
        "\n",
        "What are the top-two eigenvectors of the above un-normalized dataset?"
      ]
    },
    {
      "metadata": {
        "id": "ogqNUx2MkeW4",
        "colab_type": "code",
        "colab": {
          "autoexec": {
            "startup": false,
            "wait_interval": 0
          },
          "base_uri": "https://localhost:8080/",
          "height": 153
        },
        "outputId": "9cd6d111-2417-4aee-e35d-20ba85084be5",
        "executionInfo": {
          "status": "ok",
          "timestamp": 1524242588391,
          "user_tz": 420,
          "elapsed": 385,
          "user": {
            "displayName": "Ray Heberer",
            "photoUrl": "//lh4.googleusercontent.com/-BMlr5I5Dhow/AAAAAAAAAAI/AAAAAAAAABc/XW4PF5A8K2Q/s50-c-k-no/photo.jpg",
            "userId": "116545933704048584401"
          }
        }
      },
      "cell_type": "code",
      "source": [
        "# evec = the top two eigenvectors of the UCI Wine dataset, un-normalized\n",
        "\n",
        "evec = model1.components_\n",
        "print('Basis of 1st Principal Component: {}\\nBasis of 2nd Principal Component: {}'.format(evec[0], evec[1]))"
      ],
      "execution_count": 8,
      "outputs": [
        {
          "output_type": "stream",
          "text": [
            "Basis of 1st Principal Component: [ 1.64640308e-03 -6.73503229e-04  1.94877262e-04 -4.62714440e-03\n",
            "  1.74715429e-02  9.86349949e-04  1.55753482e-03 -1.22303077e-04\n",
            "  5.91285826e-04  2.33005971e-03  1.70867398e-04  6.85045272e-04\n",
            "  9.99830206e-01]\n",
            "Basis of 2nd Principal Component: [ 7.16631916e-04  2.50017789e-03  4.67090151e-03  2.87250643e-02\n",
            "  9.99280105e-01  7.48473242e-04 -4.49114755e-04 -1.34284344e-03\n",
            "  4.71110804e-03  1.54838007e-02 -7.97923308e-04 -4.34277343e-03\n",
            " -1.73653604e-02]\n"
          ],
          "name": "stdout"
        }
      ]
    },
    {
      "metadata": {
        "id": "GSQgKGY26ZpB",
        "colab_type": "text"
      },
      "cell_type": "markdown",
      "source": [
        "As expected, the first principal component is very nearly in the direction of the 13th feature of the unnormalized data, `\"Proline\"`. The second component is also nearly in the direction of the 5th feature, `\"Magnesium\"`.\n",
        "\n",
        "This can be observed simply by inspecting each element of the vectors and noting that for both, one element is orders of magnitude greater than all other elements."
      ]
    },
    {
      "metadata": {
        "id": "wHtl17A17UFX",
        "colab_type": "code",
        "colab": {
          "autoexec": {
            "startup": false,
            "wait_interval": 0
          },
          "base_uri": "https://localhost:8080/",
          "height": 119
        },
        "outputId": "6353bb72-3317-4495-8bad-cf23fc94de8a",
        "executionInfo": {
          "status": "ok",
          "timestamp": 1524242589950,
          "user_tz": 420,
          "elapsed": 370,
          "user": {
            "displayName": "Ray Heberer",
            "photoUrl": "//lh4.googleusercontent.com/-BMlr5I5Dhow/AAAAAAAAAAI/AAAAAAAAABc/XW4PF5A8K2Q/s50-c-k-no/photo.jpg",
            "userId": "116545933704048584401"
          }
        }
      },
      "cell_type": "code",
      "source": [
        "evec = model2.components_\n",
        "print('Basis of 1st Principal Component: {}\\nBasis of 2nd Principal Component: {}'.format(evec[0], evec[1]))"
      ],
      "execution_count": 9,
      "outputs": [
        {
          "output_type": "stream",
          "text": [
            "Basis of 1st Principal Component: [ 0.13788809 -0.24638109 -0.0043183  -0.23737955  0.1350017   0.39586939\n",
            "  0.42439422 -0.29913568  0.31280321 -0.09328558  0.29956536  0.37720252\n",
            "  0.28428101]\n",
            "Basis of 2nd Principal Component: [-0.48583464 -0.22157478 -0.31528188  0.01214349 -0.30028828 -0.07054905\n",
            " -0.00173207 -0.02466918 -0.04144561 -0.52801878  0.27405069  0.16544914\n",
            " -0.3695384 ]\n"
          ],
          "name": "stdout"
        }
      ]
    },
    {
      "metadata": {
        "id": "HpCMmjy2kpCZ",
        "colab_type": "text"
      },
      "cell_type": "markdown",
      "source": [
        "# 5. Compute the eigenvalues of a dataset\n",
        "\n",
        "What are the top-two eigenvalues of the above un-normalized dataset?"
      ]
    },
    {
      "metadata": {
        "id": "aJUMEtqpkwD0",
        "colab_type": "code",
        "colab": {
          "autoexec": {
            "startup": false,
            "wait_interval": 0
          },
          "base_uri": "https://localhost:8080/",
          "height": 34
        },
        "outputId": "968884a2-31fd-45ab-9fcc-f7c50b47e4bb",
        "executionInfo": {
          "status": "ok",
          "timestamp": 1524242591941,
          "user_tz": 420,
          "elapsed": 359,
          "user": {
            "displayName": "Ray Heberer",
            "photoUrl": "//lh4.googleusercontent.com/-BMlr5I5Dhow/AAAAAAAAAAI/AAAAAAAAABc/XW4PF5A8K2Q/s50-c-k-no/photo.jpg",
            "userId": "116545933704048584401"
          }
        }
      },
      "cell_type": "code",
      "source": [
        "# egval = the top two eigenvalues of the UCI Wine dataset, un-normalized\n",
        "\n",
        "egval = model1.explained_variance_\n",
        "\n",
        "print(egval)"
      ],
      "execution_count": 10,
      "outputs": [
        {
          "output_type": "stream",
          "text": [
            "[99185.58985563   170.86188421]\n"
          ],
          "name": "stdout"
        }
      ]
    },
    {
      "metadata": {
        "id": "7NfV7T4U69cA",
        "colab_type": "text"
      },
      "cell_type": "markdown",
      "source": [
        "This can be interpreted as meaning that in the unnormalized dataset, almost all of the variance can be explained by the first principal component, which itself is very nearly the original feature with the greatest standard deviation.\n",
        "\n",
        "This reinforces the idea that standardizing the data allows PCA to provide more insightful and intuition-generating results."
      ]
    },
    {
      "metadata": {
        "id": "ZyMo-RPG7ObQ",
        "colab_type": "code",
        "colab": {
          "autoexec": {
            "startup": false,
            "wait_interval": 0
          },
          "base_uri": "https://localhost:8080/",
          "height": 34
        },
        "outputId": "a640ee12-2d0c-4eeb-c747-6f3e535394d1",
        "executionInfo": {
          "status": "ok",
          "timestamp": 1524242593902,
          "user_tz": 420,
          "elapsed": 524,
          "user": {
            "displayName": "Ray Heberer",
            "photoUrl": "//lh4.googleusercontent.com/-BMlr5I5Dhow/AAAAAAAAAAI/AAAAAAAAABc/XW4PF5A8K2Q/s50-c-k-no/photo.jpg",
            "userId": "116545933704048584401"
          }
        }
      },
      "cell_type": "code",
      "source": [
        "egval2 = model2.explained_variance_\n",
        "\n",
        "print(egval2)"
      ],
      "execution_count": 11,
      "outputs": [
        {
          "output_type": "stream",
          "text": [
            "[4.7043776  2.51557865]\n"
          ],
          "name": "stdout"
        }
      ]
    }
  ]
}