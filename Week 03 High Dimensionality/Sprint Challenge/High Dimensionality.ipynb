{
  "nbformat": 4,
  "nbformat_minor": 0,
  "metadata": {
    "colab": {
      "name": "High Dimensionality Sprint Challenge.ipynb",
      "version": "0.3.2",
      "views": {},
      "default_view": {},
      "provenance": [
        {
          "file_id": "1rv5qpvgUbfHc6WPfMqNI48ZsuUNOy4M6",
          "timestamp": 1524237253546
        }
      ],
      "collapsed_sections": []
    },
    "kernelspec": {
      "name": "python3",
      "display_name": "Python 3"
    }
  },
  "cells": [
    {
      "metadata": {
        "id": "8dtL-3V557G6",
        "colab_type": "text"
      },
      "cell_type": "markdown",
      "source": [
        "# High Dimensionality Sprint Challenge\n",
        "\n",
        "High Dimensionality is characterized by the _Curse of Dimensionality_. Humans can visualize 2d and 3d, but not anything higher. How do we reason about data?\n",
        "\n",
        "High Dimensionality Objectives include:\n",
        "* Normalize a vector and represent it by its magnitude and unit direction vector\n",
        "* Compute L1 and L2 distances of a pair of vectors\n",
        "* Compute the distance between pairs of vectors and select the smallest"
      ]
    },
    {
      "metadata": {
        "id": "PMajVGoY54DR",
        "colab_type": "code",
        "colab": {
          "autoexec": {
            "startup": false,
            "wait_interval": 0
          }
        }
      },
      "cell_type": "code",
      "source": [
        "# LAMBDA SCHOOL\n",
        "#\n",
        "# MACHINE LEARNING\n",
        "#\n",
        "# MIT LICENSE\n",
        "\n",
        "import numpy as np"
      ],
      "execution_count": 0,
      "outputs": []
    },
    {
      "metadata": {
        "id": "YUo0Gg2UbieJ",
        "colab_type": "text"
      },
      "cell_type": "markdown",
      "source": [
        "# 1. Normalize a vector into magnitude and unit vector"
      ]
    },
    {
      "metadata": {
        "id": "RuZFC7k8bnRu",
        "colab_type": "code",
        "colab": {
          "autoexec": {
            "startup": false,
            "wait_interval": 0
          }
        }
      },
      "cell_type": "code",
      "source": [
        "v = np.array([17,7,5,2,1])\n",
        "\n",
        "# m = Magnitude of v\n",
        "m = np.linalg.norm(v)\n",
        "\n",
        "# v_u = unit vector of v such that u * v_u = v\n",
        "v_u = v / m"
      ],
      "execution_count": 0,
      "outputs": []
    },
    {
      "metadata": {
        "id": "Eff5UVhDoY5J",
        "colab_type": "code",
        "colab": {
          "autoexec": {
            "startup": false,
            "wait_interval": 0
          },
          "base_uri": "https://localhost:8080/",
          "height": 51
        },
        "outputId": "b305a91b-cc1c-4ece-8ee5-1c8796d65aec",
        "executionInfo": {
          "status": "ok",
          "timestamp": 1524243428669,
          "user_tz": 420,
          "elapsed": 349,
          "user": {
            "displayName": "Ray Heberer",
            "photoUrl": "//lh4.googleusercontent.com/-BMlr5I5Dhow/AAAAAAAAAAI/AAAAAAAAABc/XW4PF5A8K2Q/s50-c-k-no/photo.jpg",
            "userId": "116545933704048584401"
          }
        }
      },
      "cell_type": "code",
      "source": [
        "print(v_u)\n",
        "print(m * v_u)"
      ],
      "execution_count": 3,
      "outputs": [
        {
          "output_type": "stream",
          "text": [
            "[0.88618626 0.36490022 0.26064302 0.10425721 0.0521286 ]\n",
            "[17.  7.  5.  2.  1.]\n"
          ],
          "name": "stdout"
        }
      ]
    },
    {
      "metadata": {
        "id": "sgNZ1QDCdErt",
        "colab_type": "text"
      },
      "cell_type": "markdown",
      "source": [
        "# 2. Compute the L1 and L2 distances of a pair of vectors\n",
        "\n",
        "Recall that the L1 distance is the \"manhattan\" distance, the sum of absolute values of a vector:\n",
        "\n",
        "$d_{v}^{L1} = \\sum{|v_i|}$\n",
        "\n",
        "The L2 distance or \"euclidean\" distance is the square root of the sum of the squares of a vector:\n",
        "\n",
        "$d_{v}^{L2} = \\sqrt{\\sum{v_i^2}}$"
      ]
    },
    {
      "metadata": {
        "id": "MJqxjsW885SL",
        "colab_type": "text"
      },
      "cell_type": "markdown",
      "source": [
        "[`np.linalg.norm`](https://docs.scipy.org/doc/numpy/reference/generated/numpy.linalg.norm.html) has an `ord` argument that can be set to specify the order of the norm specified. If it is not set, then the L2 norm of a vector will be computed."
      ]
    },
    {
      "metadata": {
        "id": "d__wWc1CdSv7",
        "colab_type": "code",
        "colab": {
          "autoexec": {
            "startup": false,
            "wait_interval": 0
          }
        }
      },
      "cell_type": "code",
      "source": [
        "a = np.array([1,2,0,1,2,0,1,2])\n",
        "b = np.array([9,2,4,1,1,5,0,2])\n",
        "\n",
        "# l1 = the L1 distance between a and b\n",
        "l1 = np.linalg.norm(a-b, ord=1)\n",
        "\n",
        "# l1 = the L2 distance between a and b\n",
        "l2 = np.linalg.norm(a-b)"
      ],
      "execution_count": 0,
      "outputs": []
    },
    {
      "metadata": {
        "id": "MUbR5HYkow3N",
        "colab_type": "code",
        "colab": {
          "autoexec": {
            "startup": false,
            "wait_interval": 0
          },
          "base_uri": "https://localhost:8080/",
          "height": 51
        },
        "outputId": "8a8ffd8a-dfb3-4a26-941c-818f0d350a46",
        "executionInfo": {
          "status": "ok",
          "timestamp": 1524243432506,
          "user_tz": 420,
          "elapsed": 513,
          "user": {
            "displayName": "Ray Heberer",
            "photoUrl": "//lh4.googleusercontent.com/-BMlr5I5Dhow/AAAAAAAAAAI/AAAAAAAAABc/XW4PF5A8K2Q/s50-c-k-no/photo.jpg",
            "userId": "116545933704048584401"
          }
        }
      },
      "cell_type": "code",
      "source": [
        "print('L1 distance: {}\\nL2 distance: {}'.format(l1, l2))"
      ],
      "execution_count": 5,
      "outputs": [
        {
          "output_type": "stream",
          "text": [
            "L1 distance: 19.0\n",
            "L2 distance: 10.344080432788601\n"
          ],
          "name": "stdout"
        }
      ]
    },
    {
      "metadata": {
        "id": "mlKMlSmreNvk",
        "colab_type": "text"
      },
      "cell_type": "markdown",
      "source": [
        "# 3. Compute the distance between pairs of vectors and select the smallest\n",
        "\n",
        "For this sprint challenge goal, you are _NOT_ required to compute the pairwise distance of every point in a set. Instead, find the row $i$ with the shortest distance between $x_i$ and $y_i$, two separate sets of $2d$ points."
      ]
    },
    {
      "metadata": {
        "id": "hm_ySnez8bkF",
        "colab_type": "text"
      },
      "cell_type": "markdown",
      "source": [
        "[`np.argmin`](https://docs.scipy.org/doc/numpy/reference/generated/numpy.argmin.html) returns the index of the minimum element of an array, while [`np.amin`](https://docs.scipy.org/doc/numpy/reference/generated/numpy.amin.html) returns the value of the minimum element.\n",
        "\n",
        "I intend to return both of these in the function, and either assign both `i` and `d` on the same line. Alternatively, we could call the function twice and index into it separately:\n",
        "\n",
        "``` \n",
        "i = get_nearest_pair(x, y)[0]\n",
        "d = get_nearest_pair(x, y)[1]\n",
        "```\n",
        "\n",
        "I choose to do the multipleassignment, as it is more efficient."
      ]
    },
    {
      "metadata": {
        "id": "N33-3PgVeIkR",
        "colab_type": "code",
        "colab": {
          "autoexec": {
            "startup": false,
            "wait_interval": 0
          }
        }
      },
      "cell_type": "code",
      "source": [
        "x = np.array([[10.,  2.,  0.,  3., -4.,  1., -5., 10.,  7.,  6.],\n",
        "              [-4.,  4., -0.,  4., -9.,  1., -2.,  2.,  1., -1.]]).T\n",
        "\n",
        "y = np.array([[-7., 10., -8.,  7., -5., -4.,  0.,  7., -9., -2.],\n",
        "              [-7.,  2.,  4.,  7., -5., 10., -2., -2.,  1., -2.]]).T\n",
        "\n",
        "# Your code to find the pair of points at row i with the shortest distance between them \n",
        "def get_nearest_pair(x, y):\n",
        "    dist_list = [np.linalg.norm(x[i]-y[i]) for i in range(x.shape[0])]\n",
        "    return np.argmin(dist_list), np.amin(dist_list)\n",
        "\n",
        "# i: row index of the shorest distance, d: distance between x_i and y_i\n",
        "i, d = get_nearest_pair(x, y)"
      ],
      "execution_count": 0,
      "outputs": []
    },
    {
      "metadata": {
        "id": "AegPe3LgpgYT",
        "colab_type": "code",
        "colab": {
          "autoexec": {
            "startup": false,
            "wait_interval": 0
          },
          "base_uri": "https://localhost:8080/",
          "height": 68
        },
        "outputId": "19f3d50c-3c94-4e42-cf1b-27416ad2d96b",
        "executionInfo": {
          "status": "ok",
          "timestamp": 1524243436024,
          "user_tz": 420,
          "elapsed": 317,
          "user": {
            "displayName": "Ray Heberer",
            "photoUrl": "//lh4.googleusercontent.com/-BMlr5I5Dhow/AAAAAAAAAAI/AAAAAAAAABc/XW4PF5A8K2Q/s50-c-k-no/photo.jpg",
            "userId": "116545933704048584401"
          }
        }
      },
      "cell_type": "code",
      "source": [
        "print(i)\n",
        "print(d)\n",
        "print(np.linalg.norm(x[i]-y[i]))"
      ],
      "execution_count": 7,
      "outputs": [
        {
          "output_type": "stream",
          "text": [
            "4\n",
            "4.123105625617661\n",
            "4.123105625617661\n"
          ],
          "name": "stdout"
        }
      ]
    }
  ]
}