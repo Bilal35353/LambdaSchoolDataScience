{
  "nbformat": 4,
  "nbformat_minor": 0,
  "metadata": {
    "colab": {
      "name": "Copy of Logistic Regression Library Coding Challenge.ipynb",
      "version": "0.3.2",
      "views": {},
      "default_view": {},
      "provenance": [
        {
          "file_id": "1Et-TgDquTr-Vxn3cowksKDEK6K63PWbd",
          "timestamp": 1525880211592
        },
        {
          "file_id": "1PgI6GF3i9aNtD7cdDwdemJi9d2TM3zxl",
          "timestamp": 1525824431223
        }
      ],
      "collapsed_sections": []
    },
    "kernelspec": {
      "name": "python3",
      "display_name": "Python 3"
    }
  },
  "cells": [
    {
      "metadata": {
        "id": "6d-s2xCt9GNa",
        "colab_type": "text"
      },
      "cell_type": "markdown",
      "source": [
        "# Separating classes with Logistic Regression\n",
        "\n",
        "## Logistic Regression classifies\n",
        "\n",
        "Linear regression makes a prediction: if `y = mx + b`. Logistic regression produces a probability, an estimate that `y` is either `0` or `1`.\n",
        "\n",
        "Consider the following dataset:"
      ]
    },
    {
      "metadata": {
        "id": "CEir2hIh8-fs",
        "colab_type": "code",
        "colab": {
          "autoexec": {
            "startup": false,
            "wait_interval": 0
          },
          "base_uri": "https://localhost:8080/",
          "height": 221
        },
        "outputId": "aa8f7b0d-3971-4816-acb9-7d355d80a4ad",
        "executionInfo": {
          "status": "ok",
          "timestamp": 1525882728365,
          "user_tz": 420,
          "elapsed": 339,
          "user": {
            "displayName": "Ray Heberer",
            "photoUrl": "//lh4.googleusercontent.com/-BMlr5I5Dhow/AAAAAAAAAAI/AAAAAAAAABc/XW4PF5A8K2Q/s50-c-k-no/photo.jpg",
            "userId": "116545933704048584401"
          }
        }
      },
      "cell_type": "code",
      "source": [
        "# LAMBDA SCHOOL\n",
        "# \n",
        "# MACHINE LEARNING\n",
        "#\n",
        "# MIT LICENSE\n",
        "\n",
        "import numpy as np\n",
        "import pandas as pd\n",
        "import matplotlib.pyplot as plt\n",
        "\n",
        "data = pd.DataFrame()\n",
        "data['x'] = np.array([3,0,5,2,1,0,0,5,6,4,1])\n",
        "data['y'] = np.array([1,0,1,0,0,0,0,1,1,0,0])\n",
        "print(data)"
      ],
      "execution_count": 1,
      "outputs": [
        {
          "output_type": "stream",
          "text": [
            "    x  y\n",
            "0   3  1\n",
            "1   0  0\n",
            "2   5  1\n",
            "3   2  0\n",
            "4   1  0\n",
            "5   0  0\n",
            "6   0  0\n",
            "7   5  1\n",
            "8   6  1\n",
            "9   4  0\n",
            "10  1  0\n"
          ],
          "name": "stdout"
        }
      ]
    },
    {
      "metadata": {
        "id": "d9CLPDb69bVD",
        "colab_type": "code",
        "colab": {
          "autoexec": {
            "startup": false,
            "wait_interval": 0
          },
          "base_uri": "https://localhost:8080/",
          "height": 211
        },
        "outputId": "71027f58-85c0-4396-9027-9e4809cbd4e9",
        "executionInfo": {
          "status": "ok",
          "timestamp": 1525882729262,
          "user_tz": 420,
          "elapsed": 493,
          "user": {
            "displayName": "Ray Heberer",
            "photoUrl": "//lh4.googleusercontent.com/-BMlr5I5Dhow/AAAAAAAAAAI/AAAAAAAAABc/XW4PF5A8K2Q/s50-c-k-no/photo.jpg",
            "userId": "116545933704048584401"
          }
        }
      },
      "cell_type": "code",
      "source": [
        "from sklearn.linear_model import LogisticRegression\n",
        "regr = LogisticRegression()\n",
        "regr.fit(data['x'].values.reshape(-1,1),data['y'].ravel())\n",
        "y_hat = regr.predict(data['x'].values.reshape(-1,1))\n",
        "\n",
        "plt.figure(figsize=(4,3))\n",
        "plt.plot(data['x'],data['y'],'.')\n",
        "\n",
        "smooth_x = np.linspace(0,6,30)\n",
        "p = regr.coef_[0] * smooth_x + regr.intercept_\n",
        "p = 1/(1+np.exp(-p))\n",
        "plt.plot(smooth_x,p,'g');"
      ],
      "execution_count": 2,
      "outputs": [
        {
          "output_type": "display_data",
          "data": {
            "image/png": "[encoded data removed]",
            "text/plain": [
              "<matplotlib.figure.Figure at 0x7fced3f89ac8>"
            ]
          },
          "metadata": {
            "tags": []
          }
        }
      ]
    },
    {
      "metadata": {
        "id": "SPYsTs9NLxPp",
        "colab_type": "text"
      },
      "cell_type": "markdown",
      "source": [
        "In the above, the blue dots are the samples, and the green is the line of probability predicted by the logistic regression. When the logistic regression estimate `p(x) < 0.5, `y = 0`. When `p(x) >= 0.5`, `y = 1`. The next graph shows the prediction of the estimator: "
      ]
    },
    {
      "metadata": {
        "id": "uOp80Shb9zwk",
        "colab_type": "code",
        "colab": {
          "autoexec": {
            "startup": false,
            "wait_interval": 0
          },
          "base_uri": "https://localhost:8080/",
          "height": 211
        },
        "outputId": "d6b31911-e764-4bed-f908-f7792a50671a",
        "executionInfo": {
          "status": "ok",
          "timestamp": 1525882729881,
          "user_tz": 420,
          "elapsed": 350,
          "user": {
            "displayName": "Ray Heberer",
            "photoUrl": "//lh4.googleusercontent.com/-BMlr5I5Dhow/AAAAAAAAAAI/AAAAAAAAABc/XW4PF5A8K2Q/s50-c-k-no/photo.jpg",
            "userId": "116545933704048584401"
          }
        }
      },
      "cell_type": "code",
      "source": [
        "plt.figure(figsize=(4,3))\n",
        "plt.plot(data['x'],regr.predict(data['x'].values.reshape(-1,1)),'or');"
      ],
      "execution_count": 3,
      "outputs": [
        {
          "output_type": "display_data",
          "data": {
            "image/png": "[encoded data removed]",
            "text/plain": [
              "<matplotlib.figure.Figure at 0x7fced3f77cc0>"
            ]
          },
          "metadata": {
            "tags": []
          }
        }
      ]
    },
    {
      "metadata": {
        "id": "vJP3OazgM0S0",
        "colab_type": "text"
      },
      "cell_type": "markdown",
      "source": [
        "### Challenge\n",
        "\n",
        "Load the Motor Trend cars dataset at `https://www.dropbox.com/s/itcg6srrzn5u3fj/mtcars.csv?raw=1` and use the `fit` and `predict` functions of `sklearn.linear_model.LogisticRegression` to predict the two binomial columns from that dataset: `vs` and `am`. You choose which feature columns to use.\n",
        "\n",
        "### Stretch goal\n",
        "\n",
        "After fitting the model to predict `vs` and `am` on your chosen features, duplicate the above code that draws the sigmoid prediction function using `smooth_x`, `coef_`, and `intercept_`."
      ]
    },
    {
      "metadata": {
        "id": "ldDwipy2M16A",
        "colab_type": "code",
        "colab": {
          "autoexec": {
            "startup": false,
            "wait_interval": 0
          },
          "base_uri": "https://localhost:8080/",
          "height": 204
        },
        "outputId": "496e896f-5337-41bb-8dc6-804e8711b707",
        "executionInfo": {
          "status": "ok",
          "timestamp": 1525882731897,
          "user_tz": 420,
          "elapsed": 1678,
          "user": {
            "displayName": "Ray Heberer",
            "photoUrl": "//lh4.googleusercontent.com/-BMlr5I5Dhow/AAAAAAAAAAI/AAAAAAAAABc/XW4PF5A8K2Q/s50-c-k-no/photo.jpg",
            "userId": "116545933704048584401"
          }
        }
      },
      "cell_type": "code",
      "source": [
        "# Solve the coding challenge here.\n",
        "\n",
        "data = pd.read_csv('https://www.dropbox.com/s/itcg6srrzn5u3fj/mtcars.csv?raw=1')\n",
        "data.head()"
      ],
      "execution_count": 4,
      "outputs": [
        {
          "output_type": "execute_result",
          "data": {
            "text/html": [
              "<div>\n",
              "<style scoped>\n",
              "    .dataframe tbody tr th:only-of-type {\n",
              "        vertical-align: middle;\n",
              "    }\n",
              "\n",
              "    .dataframe tbody tr th {\n",
              "        vertical-align: top;\n",
              "    }\n",
              "\n",
              "    .dataframe thead th {\n",
              "        text-align: right;\n",
              "    }\n",
              "</style>\n",
              "<table border=\"1\" class=\"dataframe\">\n",
              "  <thead>\n",
              "    <tr style=\"text-align: right;\">\n",
              "      <th></th>\n",
              "      <th>Unnamed: 0</th>\n",
              "      <th>mpg</th>\n",
              "      <th>cyl</th>\n",
              "      <th>disp</th>\n",
              "      <th>hp</th>\n",
              "      <th>drat</th>\n",
              "      <th>wt</th>\n",
              "      <th>qsec</th>\n",
              "      <th>vs</th>\n",
              "      <th>am</th>\n",
              "      <th>gear</th>\n",
              "      <th>carb</th>\n",
              "    </tr>\n",
              "  </thead>\n",
              "  <tbody>\n",
              "    <tr>\n",
              "      <th>0</th>\n",
              "      <td>Mazda RX4</td>\n",
              "      <td>21.0</td>\n",
              "      <td>6</td>\n",
              "      <td>160.0</td>\n",
              "      <td>110</td>\n",
              "      <td>3.90</td>\n",
              "      <td>2.620</td>\n",
              "      <td>16.46</td>\n",
              "      <td>0</td>\n",
              "      <td>1</td>\n",
              "      <td>4</td>\n",
              "      <td>4</td>\n",
              "    </tr>\n",
              "    <tr>\n",
              "      <th>1</th>\n",
              "      <td>Mazda RX4 Wag</td>\n",
              "      <td>21.0</td>\n",
              "      <td>6</td>\n",
              "      <td>160.0</td>\n",
              "      <td>110</td>\n",
              "      <td>3.90</td>\n",
              "      <td>2.875</td>\n",
              "      <td>17.02</td>\n",
              "      <td>0</td>\n",
              "      <td>1</td>\n",
              "      <td>4</td>\n",
              "      <td>4</td>\n",
              "    </tr>\n",
              "    <tr>\n",
              "      <th>2</th>\n",
              "      <td>Datsun 710</td>\n",
              "      <td>22.8</td>\n",
              "      <td>4</td>\n",
              "      <td>108.0</td>\n",
              "      <td>93</td>\n",
              "      <td>3.85</td>\n",
              "      <td>2.320</td>\n",
              "      <td>18.61</td>\n",
              "      <td>1</td>\n",
              "      <td>1</td>\n",
              "      <td>4</td>\n",
              "      <td>1</td>\n",
              "    </tr>\n",
              "    <tr>\n",
              "      <th>3</th>\n",
              "      <td>Hornet 4 Drive</td>\n",
              "      <td>21.4</td>\n",
              "      <td>6</td>\n",
              "      <td>258.0</td>\n",
              "      <td>110</td>\n",
              "      <td>3.08</td>\n",
              "      <td>3.215</td>\n",
              "      <td>19.44</td>\n",
              "      <td>1</td>\n",
              "      <td>0</td>\n",
              "      <td>3</td>\n",
              "      <td>1</td>\n",
              "    </tr>\n",
              "    <tr>\n",
              "      <th>4</th>\n",
              "      <td>Hornet Sportabout</td>\n",
              "      <td>18.7</td>\n",
              "      <td>8</td>\n",
              "      <td>360.0</td>\n",
              "      <td>175</td>\n",
              "      <td>3.15</td>\n",
              "      <td>3.440</td>\n",
              "      <td>17.02</td>\n",
              "      <td>0</td>\n",
              "      <td>0</td>\n",
              "      <td>3</td>\n",
              "      <td>2</td>\n",
              "    </tr>\n",
              "  </tbody>\n",
              "</table>\n",
              "</div>"
            ],
            "text/plain": [
              "          Unnamed: 0   mpg  cyl   disp   hp  drat     wt   qsec  vs  am  gear  \\\n",
              "0          Mazda RX4  21.0    6  160.0  110  3.90  2.620  16.46   0   1     4   \n",
              "1      Mazda RX4 Wag  21.0    6  160.0  110  3.90  2.875  17.02   0   1     4   \n",
              "2         Datsun 710  22.8    4  108.0   93  3.85  2.320  18.61   1   1     4   \n",
              "3     Hornet 4 Drive  21.4    6  258.0  110  3.08  3.215  19.44   1   0     3   \n",
              "4  Hornet Sportabout  18.7    8  360.0  175  3.15  3.440  17.02   0   0     3   \n",
              "\n",
              "   carb  \n",
              "0     4  \n",
              "1     4  \n",
              "2     1  \n",
              "3     1  \n",
              "4     2  "
            ]
          },
          "metadata": {
            "tags": []
          },
          "execution_count": 4
        }
      ]
    },
    {
      "metadata": {
        "id": "z2B4rfVCjhv6",
        "colab_type": "code",
        "colab": {
          "autoexec": {
            "startup": false,
            "wait_interval": 0
          }
        }
      },
      "cell_type": "code",
      "source": [
        "def best_univariate_model(data, features, label):\n",
        "    model = LogisticRegression()\n",
        "    \n",
        "    best_score = 0\n",
        "    best_model = None\n",
        "    best_feature = None\n",
        "    for feature in features:\n",
        "    \n",
        "        X = data[feature].values.reshape(-1, 1)\n",
        "        model.fit(X, data[label])\n",
        "    \n",
        "        score = model.score(X, data[label])\n",
        "        if score > best_score:\n",
        "            best_score = score\n",
        "            best_model = model\n",
        "            best_feature = feature\n",
        "            \n",
        "    return best_model, best_feature"
      ],
      "execution_count": 0,
      "outputs": []
    },
    {
      "metadata": {
        "id": "DOiyJ1XbnXcI",
        "colab_type": "code",
        "colab": {
          "autoexec": {
            "startup": false,
            "wait_interval": 0
          },
          "base_uri": "https://localhost:8080/",
          "height": 225
        },
        "outputId": "53bb8daa-9ebd-44b8-f998-1aad294e7a38",
        "executionInfo": {
          "status": "ok",
          "timestamp": 1525882733147,
          "user_tz": 420,
          "elapsed": 403,
          "user": {
            "displayName": "Ray Heberer",
            "photoUrl": "//lh4.googleusercontent.com/-BMlr5I5Dhow/AAAAAAAAAAI/AAAAAAAAABc/XW4PF5A8K2Q/s50-c-k-no/photo.jpg",
            "userId": "116545933704048584401"
          }
        }
      },
      "cell_type": "code",
      "source": [
        "features = ['mpg', 'cyl', 'disp', 'hp', 'drat', 'wt', 'qsec', 'gear', 'carb']\n",
        "\n",
        "model_vs, feature = best_univariate_model(data, features, 'vs')\n",
        "\n",
        "X = data[feature].values.reshape(-1, 1)\n",
        "\n",
        "y_hat = model_vs.predict(X)\n",
        "\n",
        "fig, ax = plt.subplots(figsize=(4,3))\n",
        "ax.scatter(X, data['vs'], s=15, alpha=0.5)\n",
        "ax.set(xlabel=feature, ylabel='vs')\n",
        "\n",
        "smooth_x = np.linspace(X.min(),X.max(),30)\n",
        "p = model_vs.coef_[0]*smooth_x + model_vs.intercept_\n",
        "p = 1/(1+np.exp(-p))\n",
        "ax.plot(smooth_x, p, 'g')\n",
        "ax.scatter(X, y_hat, s=15, alpha=0.5, color='red');"
      ],
      "execution_count": 6,
      "outputs": [
        {
          "output_type": "display_data",
          "data": {
            "image/png": "[encoded data removed]",
            "text/plain": [
              "<matplotlib.figure.Figure at 0x7fcece5cde48>"
            ]
          },
          "metadata": {
            "tags": []
          }
        }
      ]
    },
    {
      "metadata": {
        "id": "ibh_XKbaj-X1",
        "colab_type": "code",
        "colab": {
          "autoexec": {
            "startup": false,
            "wait_interval": 0
          },
          "base_uri": "https://localhost:8080/",
          "height": 225
        },
        "outputId": "8f58b198-7b73-4406-db8b-e9e5cef40a9e",
        "executionInfo": {
          "status": "ok",
          "timestamp": 1525882733941,
          "user_tz": 420,
          "elapsed": 570,
          "user": {
            "displayName": "Ray Heberer",
            "photoUrl": "//lh4.googleusercontent.com/-BMlr5I5Dhow/AAAAAAAAAAI/AAAAAAAAABc/XW4PF5A8K2Q/s50-c-k-no/photo.jpg",
            "userId": "116545933704048584401"
          }
        }
      },
      "cell_type": "code",
      "source": [
        "model_am, feature = best_univariate_model(data, features, 'am')\n",
        "\n",
        "X = data[feature].values.reshape(-1, 1)\n",
        "\n",
        "y_hat = model_am.predict(X)\n",
        "\n",
        "fig, ax = plt.subplots(figsize=(4,3))\n",
        "ax.scatter(X, data['am'], s=15, alpha=0.5)\n",
        "ax.set(xlabel=feature, ylabel='am')\n",
        "\n",
        "smooth_x = np.linspace(X.min(),X.max(),30)\n",
        "p = model_am.coef_[0]*smooth_x + model_am.intercept_\n",
        "p = 1/(1+np.exp(-p))\n",
        "ax.plot(smooth_x, p, 'g')\n",
        "ax.scatter(X, y_hat, s=15, alpha=0.5, color='red');"
      ],
      "execution_count": 7,
      "outputs": [
        {
          "output_type": "display_data",
          "data": {
            "image/png": "[encoded data removed]",
            "text/plain": [
              "<matplotlib.figure.Figure at 0x7fcece5df748>"
            ]
          },
          "metadata": {
            "tags": []
          }
        }
      ]
    }
  ]
}