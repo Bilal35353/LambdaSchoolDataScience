{
  "nbformat": 4,
  "nbformat_minor": 0,
  "metadata": {
    "colab": {
      "name": "Linear regression the right way.ipynb",
      "version": "0.3.2",
      "views": {},
      "default_view": {},
      "provenance": [
        {
          "file_id": "1JKlK68-y3vQ64GAHpGPGOlWYdF8fIcKj",
          "timestamp": 1525791854851
        },
        {
          "file_id": "1ybtddlMYXkTX_D1vT8DqxRtnl49gUkPd",
          "timestamp": 1525788932508
        },
        {
          "file_id": "1GGySFnX9hovxjOzOz_IqXRzmjgPQUYo2",
          "timestamp": 1525788881055
        }
      ],
      "collapsed_sections": []
    },
    "kernelspec": {
      "name": "python3",
      "display_name": "Python 3"
    }
  },
  "cells": [
    {
      "metadata": {
        "id": "-6_dbDdTee8-",
        "colab_type": "text"
      },
      "cell_type": "markdown",
      "source": [
        "In this challenge we'll be doing a linear fit with two input variables and one output, so our model looks like y ~ a + b*x_1 + c*x_2. First, let's import the libraries we'll need."
      ]
    },
    {
      "metadata": {
        "id": "OiUQbJcPewzu",
        "colab_type": "code",
        "colab": {
          "autoexec": {
            "startup": false,
            "wait_interval": 0
          }
        }
      },
      "cell_type": "code",
      "source": [
        "import numpy as np\n",
        "import pandas as pd\n",
        "import requests\n",
        "import io\n",
        "import matplotlib.pyplot as plt\n",
        "from mpl_toolkits import mplot3d"
      ],
      "execution_count": 0,
      "outputs": []
    },
    {
      "metadata": {
        "id": "snGZ1Y9we0WX",
        "colab_type": "text"
      },
      "cell_type": "markdown",
      "source": [
        "Now let's grab the data. This is a fictional data set made for the purpose of this exercise."
      ]
    },
    {
      "metadata": {
        "id": "vP-tW7gKexOM",
        "colab_type": "code",
        "colab": {
          "autoexec": {
            "startup": false,
            "wait_interval": 0
          }
        }
      },
      "cell_type": "code",
      "source": [
        "url=\"https://raw.githubusercontent.com/mathewphilipc/LambdaDataSets/master/bivariate_linear_data.csv\"\n",
        "s=requests.get(url).content\n",
        "data=pd.read_csv(io.StringIO(s.decode('utf-8')))"
      ],
      "execution_count": 0,
      "outputs": []
    },
    {
      "metadata": {
        "id": "hEaIEqGzioMA",
        "colab_type": "text"
      },
      "cell_type": "markdown",
      "source": [
        "We're going to find the optimal [a,b, c] values the right by, using the *normal equations*. The first step is to add a new column to the left of the x1 column and set all of its values to 1. Think of this as the x0 columns. Then introduce a matrix X consisting of the x0, x1, x2 columns and and vector Y with just the y column. Do any reshaping you need to make later steps work."
      ]
    },
    {
      "metadata": {
        "id": "Cwxjiqfee4Y7",
        "colab_type": "code",
        "colab": {
          "autoexec": {
            "startup": false,
            "wait_interval": 0
          }
        }
      },
      "cell_type": "code",
      "source": [
        "data['x0'] = np.ones(200)\n",
        "X = data[['x0', 'x1', 'x2']].as_matrix()\n",
        "Y = data['y'].as_matrix().reshape(-1, 1)"
      ],
      "execution_count": 0,
      "outputs": []
    },
    {
      "metadata": {
        "id": "LkDRXnQhkH6t",
        "colab_type": "text"
      },
      "cell_type": "markdown",
      "source": [
        "To make sure this worked, verify that X has length 200 and width 3."
      ]
    },
    {
      "metadata": {
        "id": "1JCPhP3IjpFL",
        "colab_type": "code",
        "colab": {
          "autoexec": {
            "startup": false,
            "wait_interval": 0
          },
          "base_uri": "https://localhost:8080/",
          "height": 34
        },
        "outputId": "5b708c32-b238-409d-8535-e40624312c90",
        "executionInfo": {
          "status": "ok",
          "timestamp": 1525794430534,
          "user_tz": 420,
          "elapsed": 348,
          "user": {
            "displayName": "Ray Heberer",
            "photoUrl": "//lh4.googleusercontent.com/-BMlr5I5Dhow/AAAAAAAAAAI/AAAAAAAAABc/XW4PF5A8K2Q/s50-c-k-no/photo.jpg",
            "userId": "116545933704048584401"
          }
        }
      },
      "cell_type": "code",
      "source": [
        "X.shape"
      ],
      "execution_count": 4,
      "outputs": [
        {
          "output_type": "execute_result",
          "data": {
            "text/plain": [
              "(200, 3)"
            ]
          },
          "metadata": {
            "tags": []
          },
          "execution_count": 4
        }
      ]
    },
    {
      "metadata": {
        "id": "eREV4V2Tm3i-",
        "colab_type": "text"
      },
      "cell_type": "markdown",
      "source": [
        "And just for sanity' sake, print out the first row of X and compare it with the contents of the csv file we read from."
      ]
    },
    {
      "metadata": {
        "id": "3VsYTGcWl4a0",
        "colab_type": "code",
        "colab": {
          "autoexec": {
            "startup": false,
            "wait_interval": 0
          },
          "base_uri": "https://localhost:8080/",
          "height": 119
        },
        "outputId": "c62f20f4-c115-41c4-bf17-44c367caa4ec",
        "executionInfo": {
          "status": "ok",
          "timestamp": 1525794431158,
          "user_tz": 420,
          "elapsed": 351,
          "user": {
            "displayName": "Ray Heberer",
            "photoUrl": "//lh4.googleusercontent.com/-BMlr5I5Dhow/AAAAAAAAAAI/AAAAAAAAABc/XW4PF5A8K2Q/s50-c-k-no/photo.jpg",
            "userId": "116545933704048584401"
          }
        }
      },
      "cell_type": "code",
      "source": [
        "print(X[0])\n",
        "data.iloc[0]"
      ],
      "execution_count": 5,
      "outputs": [
        {
          "output_type": "stream",
          "text": [
            "[  1.          11.42912648 -30.9129123 ]\n"
          ],
          "name": "stdout"
        },
        {
          "output_type": "execute_result",
          "data": {
            "text/plain": [
              "x1     11.429126\n",
              "x2    -30.912912\n",
              "y     204.163058\n",
              "x0      1.000000\n",
              "Name: 0, dtype: float64"
            ]
          },
          "metadata": {
            "tags": []
          },
          "execution_count": 5
        }
      ]
    },
    {
      "metadata": {
        "id": "4TBuSnI-nAWs",
        "colab_type": "text"
      },
      "cell_type": "markdown",
      "source": [
        "Now here's the most important part. As it turns out, the optimal vector [a, b, c] can be calculated in a single step (assuming you have a matrix algebra library and don't have to do the operations yourself) in terms of X and Y. Here's the solution:\n",
        "\n",
        "$(X^T X)^{-1}  X^T Y$\n",
        "\n",
        "Calculate [a, b, c] and print the values of a, b, and c."
      ]
    },
    {
      "metadata": {
        "id": "SFXu_C6cl7Fh",
        "colab_type": "code",
        "colab": {
          "autoexec": {
            "startup": false,
            "wait_interval": 0
          }
        }
      },
      "cell_type": "code",
      "source": [
        "left = np.linalg.inv(np.matmul(X.T, X))\n",
        "right = np.matmul(X.T, Y)\n",
        "\n",
        "M = np.matmul(left, right)"
      ],
      "execution_count": 0,
      "outputs": []
    },
    {
      "metadata": {
        "id": "bXS3ouh_XsN9",
        "colab_type": "code",
        "colab": {
          "autoexec": {
            "startup": false,
            "wait_interval": 0
          },
          "base_uri": "https://localhost:8080/",
          "height": 68
        },
        "outputId": "fabb22dd-29b4-498e-d69d-88faca18eac1",
        "executionInfo": {
          "status": "ok",
          "timestamp": 1525794432540,
          "user_tz": 420,
          "elapsed": 347,
          "user": {
            "displayName": "Ray Heberer",
            "photoUrl": "//lh4.googleusercontent.com/-BMlr5I5Dhow/AAAAAAAAAAI/AAAAAAAAABc/XW4PF5A8K2Q/s50-c-k-no/photo.jpg",
            "userId": "116545933704048584401"
          }
        }
      },
      "cell_type": "code",
      "source": [
        "M"
      ],
      "execution_count": 7,
      "outputs": [
        {
          "output_type": "execute_result",
          "data": {
            "text/plain": [
              "array([[-9.63746039],\n",
              "       [13.04187886],\n",
              "       [-2.00299621]])"
            ]
          },
          "metadata": {
            "tags": []
          },
          "execution_count": 7
        }
      ]
    },
    {
      "metadata": {
        "id": "nYaqwc2sHI_v",
        "colab_type": "text"
      },
      "cell_type": "markdown",
      "source": [
        "Finally, plot the points defined by x,y and the plane that you calculated using the above matrix transforms."
      ]
    },
    {
      "metadata": {
        "id": "RJTx0yXjZSvr",
        "colab_type": "code",
        "colab": {
          "autoexec": {
            "startup": false,
            "wait_interval": 0
          }
        }
      },
      "cell_type": "code",
      "source": [
        "x1, x2 = np.meshgrid(np.linspace(data['x1'].min(), data['x1'].max()),\n",
        "                     np.linspace(data['x2'].min(), data['x2'].max()))\n",
        "\n",
        "Z = x1*M[1] + x2*M[2] + M[0] "
      ],
      "execution_count": 0,
      "outputs": []
    },
    {
      "metadata": {
        "id": "JUSi543Imc_c",
        "colab_type": "code",
        "colab": {
          "autoexec": {
            "startup": false,
            "wait_interval": 0
          },
          "base_uri": "https://localhost:8080/",
          "height": 330
        },
        "outputId": "b8cd3865-5ab7-4087-e67e-500019fe0737",
        "executionInfo": {
          "status": "ok",
          "timestamp": 1525794435517,
          "user_tz": 420,
          "elapsed": 1524,
          "user": {
            "displayName": "Ray Heberer",
            "photoUrl": "//lh4.googleusercontent.com/-BMlr5I5Dhow/AAAAAAAAAAI/AAAAAAAAABc/XW4PF5A8K2Q/s50-c-k-no/photo.jpg",
            "userId": "116545933704048584401"
          }
        }
      },
      "cell_type": "code",
      "source": [
        "fig = plt.figure()\n",
        "ax = plt.axes(projection='3d')\n",
        "ax.scatter(data['x1'], data['x2'], data['y'])\n",
        "ax.plot_surface(x1, x2, Z)\n",
        "ax.set(xlabel='x1', ylabel='x2', zlabel='y');"
      ],
      "execution_count": 10,
      "outputs": [
        {
          "output_type": "display_data",
          "data": {
            "image/png": "[encoded data removed]",
            "text/plain": [
              "<matplotlib.figure.Figure at 0x7f98101c7ba8>"
            ]
          },
          "metadata": {
            "tags": []
          }
        }
      ]
    }
  ]
}