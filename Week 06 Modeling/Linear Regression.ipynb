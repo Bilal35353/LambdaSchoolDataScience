{
  "nbformat": 4,
  "nbformat_minor": 0,
  "metadata": {
    "colab": {
      "name": "Regression Assignment - Master.ipynb",
      "version": "0.3.2",
      "views": {},
      "default_view": {},
      "provenance": [
        {
          "file_id": "17uU5INKJVr4CpRsz8f5aBagM3Ftf0pdj",
          "timestamp": 1525714939958
        },
        {
          "file_id": "1PfASmGuADCLENb3NCB76H9dtDO-19TPa",
          "timestamp": 1525465470085
        },
        {
          "file_id": "1PgI6GF3i9aNtD7cdDwdemJi9d2TM3zxl",
          "timestamp": 1525300063576
        }
      ],
      "collapsed_sections": []
    },
    "kernelspec": {
      "name": "python3",
      "display_name": "Python 3"
    }
  },
  "cells": [
    {
      "metadata": {
        "id": "S2aqleAFA8kS",
        "colab_type": "text"
      },
      "cell_type": "markdown",
      "source": [
        "# Regression is Prediction\n",
        "\n",
        "## Linear Regression\n",
        "\n",
        "You all know the equation for a line, $y = mx+b$, or in the language of ML $f(x) = mx+b$. Two points are \"produced\" by $f(x)$:"
      ]
    },
    {
      "metadata": {
        "id": "9vyJjA4fA8kT",
        "colab_type": "code",
        "colab": {
          "autoexec": {
            "startup": false,
            "wait_interval": 0
          },
          "base_uri": "https://localhost:8080/",
          "height": 161
        },
        "outputId": "3cab46f2-d31e-4635-ea86-28e6a422d816",
        "executionInfo": {
          "status": "ok",
          "timestamp": 1525986647192,
          "user_tz": 420,
          "elapsed": 436,
          "user": {
            "displayName": "Ray Heberer",
            "photoUrl": "//lh4.googleusercontent.com/-BMlr5I5Dhow/AAAAAAAAAAI/AAAAAAAAABc/XW4PF5A8K2Q/s50-c-k-no/photo.jpg",
            "userId": "116545933704048584401"
          }
        }
      },
      "cell_type": "code",
      "source": [
        "# LAMBDA SCHOOL\n",
        "# \n",
        "# MACHINE LEARNING\n",
        "#\n",
        "# MIT LICENSE\n",
        "\n",
        "import numpy as np\n",
        "import matplotlib.pyplot as plt\n",
        "\n",
        "x = [3,8]\n",
        "y = [4,7]\n",
        "\n",
        "def plot_two(x, y):\n",
        "\n",
        "    plt.figure(figsize=(3,2))\n",
        "    plt.plot(x,y,'o')\n",
        "    plt.xlim(0,10)\n",
        "    plt.ylim(0,10)\n",
        "\n",
        "plot_two(x, y)"
      ],
      "execution_count": 1,
      "outputs": [
        {
          "output_type": "display_data",
          "data": {
            "image/png": "[encoded data removed]",
            "text/plain": [
              "<matplotlib.figure.Figure at 0x7ff1762e1f60>"
            ]
          },
          "metadata": {
            "tags": []
          }
        }
      ]
    },
    {
      "metadata": {
        "id": "PNw0fWyv7bwf",
        "colab_type": "text"
      },
      "cell_type": "markdown",
      "source": [
        "It is easy to solve $f(x) = mx+b$ for the above two points. We don't have to! There are many implementations of linear regression in the `python` universe."
      ]
    },
    {
      "metadata": {
        "id": "Vk-Ylxgu6rUY",
        "colab_type": "code",
        "colab": {
          "autoexec": {
            "startup": false,
            "wait_interval": 0
          }
        }
      },
      "cell_type": "code",
      "source": [
        "p = np.polyfit(x,y,1)"
      ],
      "execution_count": 0,
      "outputs": []
    },
    {
      "metadata": {
        "id": "k0jIFnAz7-yN",
        "colab_type": "text"
      },
      "cell_type": "markdown",
      "source": [
        "So, $f(x) = \\frac{3}{5}x + 2\\frac{1}{5}$"
      ]
    },
    {
      "metadata": {
        "id": "IwiktkBW7bkv",
        "colab_type": "code",
        "colab": {
          "autoexec": {
            "startup": false,
            "wait_interval": 0
          },
          "base_uri": "https://localhost:8080/",
          "height": 161
        },
        "outputId": "82f8191a-719c-4ffa-cbd7-d9c90b3ddbb3",
        "executionInfo": {
          "status": "ok",
          "timestamp": 1525986649722,
          "user_tz": 420,
          "elapsed": 429,
          "user": {
            "displayName": "Ray Heberer",
            "photoUrl": "//lh4.googleusercontent.com/-BMlr5I5Dhow/AAAAAAAAAAI/AAAAAAAAABc/XW4PF5A8K2Q/s50-c-k-no/photo.jpg",
            "userId": "116545933704048584401"
          }
        }
      },
      "cell_type": "code",
      "source": [
        "# Really weird - the line drawn in this graph doesn't quite intersect the points\n",
        "# how I expected. I tweaked the values to make it suit my Mark-One-Eyeball\n",
        "# better. I suspect that the discrepancy is actually caused by the graph.\n",
        "def f(x):\n",
        "    return 0.595*x + 2.16\n",
        "plot_two(x, y)\n",
        "xs = np.linspace(0,10,11)\n",
        "plt.plot(xs,f(xs),c='g');"
      ],
      "execution_count": 3,
      "outputs": [
        {
          "output_type": "display_data",
          "data": {
            "image/png": "[encoded data removed]",
            "text/plain": [
              "<matplotlib.figure.Figure at 0x7ff1762e1d68>"
            ]
          },
          "metadata": {
            "tags": []
          }
        }
      ]
    },
    {
      "metadata": {
        "id": "wwcQAbo3-o9T",
        "colab_type": "text"
      },
      "cell_type": "markdown",
      "source": [
        "## Co-Linearity\n",
        "\n",
        "The above two points we used to generate $f(x)$ lie on the same line. Any pair of points lie on the same line - a line is defined by two points. Every other point on the line is co-linear with the first two. If we had three points all defined by $f(x)$, the result of `np.polyfit` would be the same.\n",
        "\n",
        "What about when the points are not co-linear, but instead are merely covariant?"
      ]
    },
    {
      "metadata": {
        "id": "e-sR8J688mUt",
        "colab_type": "code",
        "colab": {
          "autoexec": {
            "startup": false,
            "wait_interval": 0
          },
          "base_uri": "https://localhost:8080/",
          "height": 385
        },
        "outputId": "ba0a9ec6-4974-4068-8702-7381ff7f2bd8",
        "executionInfo": {
          "status": "ok",
          "timestamp": 1525986651253,
          "user_tz": 420,
          "elapsed": 529,
          "user": {
            "displayName": "Ray Heberer",
            "photoUrl": "//lh4.googleusercontent.com/-BMlr5I5Dhow/AAAAAAAAAAI/AAAAAAAAABc/XW4PF5A8K2Q/s50-c-k-no/photo.jpg",
            "userId": "116545933704048584401"
          }
        }
      },
      "cell_type": "code",
      "source": [
        "def plot_many(points):\n",
        "    plt.scatter(*points.T)\n",
        "    plt.xlim(0,25)\n",
        "    plt.ylim(0,50)\n",
        "    \n",
        "points = np.random.multivariate_normal([15,15],[[12,6],[1,6]],50)\n",
        "plot_many(points)"
      ],
      "execution_count": 4,
      "outputs": [
        {
          "output_type": "stream",
          "text": [
            "/usr/local/lib/python3.6/dist-packages/ipykernel_launcher.py:6: RuntimeWarning: covariance is not positive-semidefinite.\n",
            "  \n"
          ],
          "name": "stderr"
        },
        {
          "output_type": "display_data",
          "data": {
            "image/png": "[encoded data removed]",
            "text/plain": [
              "<matplotlib.figure.Figure at 0x7ff173a32cf8>"
            ]
          },
          "metadata": {
            "tags": []
          }
        }
      ]
    },
    {
      "metadata": {
        "id": "DKPdnzQZAZek",
        "colab_type": "code",
        "colab": {
          "autoexec": {
            "startup": false,
            "wait_interval": 0
          },
          "base_uri": "https://localhost:8080/",
          "height": 34
        },
        "outputId": "cfed1c17-c439-4264-bd56-f84219f0cf4b",
        "executionInfo": {
          "status": "ok",
          "timestamp": 1525986651919,
          "user_tz": 420,
          "elapsed": 366,
          "user": {
            "displayName": "Ray Heberer",
            "photoUrl": "//lh4.googleusercontent.com/-BMlr5I5Dhow/AAAAAAAAAAI/AAAAAAAAABc/XW4PF5A8K2Q/s50-c-k-no/photo.jpg",
            "userId": "116545933704048584401"
          }
        }
      },
      "cell_type": "code",
      "source": [
        "x, y = points.T\n",
        "p2 = np.polyfit(x,y,1)\n",
        "print(p2)"
      ],
      "execution_count": 5,
      "outputs": [
        {
          "output_type": "stream",
          "text": [
            "[ 0.19056653 11.78542349]\n"
          ],
          "name": "stdout"
        }
      ]
    },
    {
      "metadata": {
        "id": "PHPM-ud4BwE2",
        "colab_type": "code",
        "colab": {
          "autoexec": {
            "startup": false,
            "wait_interval": 0
          },
          "base_uri": "https://localhost:8080/",
          "height": 351
        },
        "outputId": "c5c89697-1a22-4d0d-ba7e-2704e0246fe9",
        "executionInfo": {
          "status": "ok",
          "timestamp": 1525986652480,
          "user_tz": 420,
          "elapsed": 457,
          "user": {
            "displayName": "Ray Heberer",
            "photoUrl": "//lh4.googleusercontent.com/-BMlr5I5Dhow/AAAAAAAAAAI/AAAAAAAAABc/XW4PF5A8K2Q/s50-c-k-no/photo.jpg",
            "userId": "116545933704048584401"
          }
        }
      },
      "cell_type": "code",
      "source": [
        "def f2(x):\n",
        "    return p2[0] * x + p2[1]\n",
        "plot_many(points)\n",
        "nx = np.linspace(0,25,26)\n",
        "plt.plot(nx,f2(nx),c='r');\n",
        "  "
      ],
      "execution_count": 6,
      "outputs": [
        {
          "output_type": "display_data",
          "data": {
            "image/png": "[encoded data removed]",
            "text/plain": [
              "<matplotlib.figure.Figure at 0x7ff1739a14e0>"
            ]
          },
          "metadata": {
            "tags": []
          }
        }
      ]
    },
    {
      "metadata": {
        "id": "6d-s2xCt9GNa",
        "colab_type": "text"
      },
      "cell_type": "markdown",
      "source": [
        "# Regression by Gradient Descent\n",
        "\n",
        "Linear regression is implemented by a multitude of libraries:\n",
        "\n",
        "[A bunch of ways](https://medium.freecodecamp.org/data-science-with-python-8-ways-to-do-linear-regression-and-measure-their-speed-b5577d75f8b)\n",
        "\n",
        "You will never need to implement linear regression by hand, except right now! Linear regression is great because it has an analytic solution to the system of equations $Ax = b$, which can be computed via matrix multiplies:\n",
        "\n",
        "$x = (A^TA)^{-1}A^Tb$\n",
        "\n",
        "However, it is also trivial to compute the same solution via gradient descent. Remember those function gradients we studied at the beginning of class?\n",
        "\n"
      ]
    },
    {
      "metadata": {
        "id": "CEir2hIh8-fs",
        "colab_type": "code",
        "colab": {
          "autoexec": {
            "startup": false,
            "wait_interval": 0
          },
          "base_uri": "https://localhost:8080/",
          "height": 395
        },
        "outputId": "7f054018-24bb-4b0a-ccfd-40c38347a6cf",
        "executionInfo": {
          "status": "ok",
          "timestamp": 1525986653827,
          "user_tz": 420,
          "elapsed": 498,
          "user": {
            "displayName": "Ray Heberer",
            "photoUrl": "//lh4.googleusercontent.com/-BMlr5I5Dhow/AAAAAAAAAAI/AAAAAAAAABc/XW4PF5A8K2Q/s50-c-k-no/photo.jpg",
            "userId": "116545933704048584401"
          }
        }
      },
      "cell_type": "code",
      "source": [
        "points = np.random.multivariate_normal([10,10],[[10,10],[0,10]],40)\n",
        "x,y = points.T\n",
        "solution = np.polyfit(x,y,1)\n",
        "plt.plot(x,y,marker='.',lineStyle=\"None\");\n",
        "plt.plot(x,x*solution[0] + solution[1],c='r');\n",
        "plt.title('Cool line bro');"
      ],
      "execution_count": 7,
      "outputs": [
        {
          "output_type": "stream",
          "text": [
            "/usr/local/lib/python3.6/dist-packages/ipykernel_launcher.py:1: RuntimeWarning: covariance is not positive-semidefinite.\n",
            "  \"\"\"Entry point for launching an IPython kernel.\n"
          ],
          "name": "stderr"
        },
        {
          "output_type": "display_data",
          "data": {
            "image/png": "[encoded data removed]",
            "text/plain": [
              "<matplotlib.figure.Figure at 0x7ff1739ae588>"
            ]
          },
          "metadata": {
            "tags": []
          }
        }
      ]
    },
    {
      "metadata": {
        "id": "C0TbfsLj7AQo",
        "colab_type": "text"
      },
      "cell_type": "markdown",
      "source": [
        "The solution is just a pair of scalars, $m$ and $b$. What if we pick them at random?"
      ]
    },
    {
      "metadata": {
        "id": "BzWVI4W4HQH5",
        "colab_type": "code",
        "colab": {
          "autoexec": {
            "startup": false,
            "wait_interval": 0
          },
          "base_uri": "https://localhost:8080/",
          "height": 347
        },
        "outputId": "a2e11a62-95df-415e-8079-42c23dce3a0e",
        "executionInfo": {
          "status": "ok",
          "timestamp": 1525986655332,
          "user_tz": 420,
          "elapsed": 495,
          "user": {
            "displayName": "Ray Heberer",
            "photoUrl": "//lh4.googleusercontent.com/-BMlr5I5Dhow/AAAAAAAAAAI/AAAAAAAAABc/XW4PF5A8K2Q/s50-c-k-no/photo.jpg",
            "userId": "116545933704048584401"
          }
        }
      },
      "cell_type": "code",
      "source": [
        "m = np.random.random()\n",
        "b = np.random.random()\n",
        "\n",
        "# How is this solution?\n",
        "plt.plot(x,y,marker='.',lineStyle=\"None\");\n",
        "plt.plot(x,x*solution[0] + solution[1],c='r');\n",
        "plt.plot(x,m*x + b,c='g');"
      ],
      "execution_count": 8,
      "outputs": [
        {
          "output_type": "display_data",
          "data": {
            "image/png": "[encoded data removed]",
            "text/plain": [
              "<matplotlib.figure.Figure at 0x7ff1739740b8>"
            ]
          },
          "metadata": {
            "tags": []
          }
        }
      ]
    },
    {
      "metadata": {
        "id": "kjYohDH1HXTu",
        "colab_type": "text"
      },
      "cell_type": "markdown",
      "source": [
        "## Root-mean Squared Error (RMSE)\n",
        "\n",
        "RMSE is the most common \"loss function\", that is, a way of measuring the error in a model prediction. The error of a prediction is the difference between the values it predicted and the values that were expected.\n",
        "\n",
        "RMSE is calculated:\n",
        "\n",
        "$RMSE = \\sqrt{\\frac{\\sum_{t=1}^T \\left( \\hat{y_t} - y_t \\right) ^2}{T}}$\n",
        "\n",
        "$\\hat{y_t}$ is the prediction of the model for a particular sample $t$. $y_t$ is the true label for sample $t$.\n",
        "\n",
        "Linear regression is the proess of minimizing the least-squared error between the line-of-regression and the sample points.\n",
        "\n",
        "If we calculate `polyfit` as above using `full=True`, it will return the error of the model computed by polyfit."
      ]
    },
    {
      "metadata": {
        "id": "I0XEJjxqHeer",
        "colab_type": "code",
        "colab": {
          "autoexec": {
            "startup": false,
            "wait_interval": 0
          },
          "base_uri": "https://localhost:8080/",
          "height": 101
        },
        "outputId": "8ea91c9e-c6f2-4491-8988-b38fe4ba688c",
        "executionInfo": {
          "status": "ok",
          "timestamp": 1525986656896,
          "user_tz": 420,
          "elapsed": 290,
          "user": {
            "displayName": "Ray Heberer",
            "photoUrl": "//lh4.googleusercontent.com/-BMlr5I5Dhow/AAAAAAAAAAI/AAAAAAAAABc/XW4PF5A8K2Q/s50-c-k-no/photo.jpg",
            "userId": "116545933704048584401"
          }
        }
      },
      "cell_type": "code",
      "source": [
        "coefficients, residual, solution_rank, solution_singular_values, rcond_epsilon = np.polyfit(x,y,1,full=True)\n",
        "print(coefficients)\n",
        "print(residual)\n",
        "print(solution_rank)\n",
        "print(solution_singular_values)\n",
        "print(rcond_epsilon)"
      ],
      "execution_count": 9,
      "outputs": [
        {
          "output_type": "stream",
          "text": [
            "[0.5176806  5.12747689]\n",
            "[371.15112768]\n",
            "2\n",
            "[1.40663078 0.1462527 ]\n",
            "8.881784197001252e-15\n"
          ],
          "name": "stdout"
        }
      ]
    },
    {
      "metadata": {
        "id": "eGaa-9_wLxDz",
        "colab_type": "text"
      },
      "cell_type": "markdown",
      "source": [
        "Of particular interest here is the residual - this number is the MSE of the solution returned by `polyfit`. Can we reproduce it?\n",
        "\n",
        "What about the residual of the line we just guessed at?\n",
        "\n",
        "---\n",
        "\n"
      ]
    },
    {
      "metadata": {
        "id": "c-g0kllfL32-",
        "colab_type": "code",
        "colab": {
          "autoexec": {
            "startup": false,
            "wait_interval": 0
          },
          "base_uri": "https://localhost:8080/",
          "height": 50
        },
        "outputId": "86fe00f2-ed60-4e02-ce5a-08e3a2bc6322",
        "executionInfo": {
          "status": "ok",
          "timestamp": 1525986658228,
          "user_tz": 420,
          "elapsed": 280,
          "user": {
            "displayName": "Ray Heberer",
            "photoUrl": "//lh4.googleusercontent.com/-BMlr5I5Dhow/AAAAAAAAAAI/AAAAAAAAABc/XW4PF5A8K2Q/s50-c-k-no/photo.jpg",
            "userId": "116545933704048584401"
          }
        }
      },
      "cell_type": "code",
      "source": [
        "confirm_residual = np.sum((x*coefficients[0] + coefficients[1] - y)**2)\n",
        "print(confirm_residual)\n",
        "\n",
        "random_residual = np.sum((x*m+b-y)**2)\n",
        "print(random_residual)"
      ],
      "execution_count": 10,
      "outputs": [
        {
          "output_type": "stream",
          "text": [
            "371.15112767623697\n",
            "506.5687005771543\n"
          ],
          "name": "stdout"
        }
      ]
    },
    {
      "metadata": {
        "id": "DHECA6TiObPq",
        "colab_type": "text"
      },
      "cell_type": "markdown",
      "source": [
        "### Loss function\n",
        "\n",
        "The goal of gradient descent is to minimize the loss function - in this case, the loss function being RMSE of our estimated line. Without `polyfit`, we'd try to minimize the loss function all the way to 0, but `polyfit` has already calculated the best possible result! $MSE = 419$, $RMSE = \\sqrt{419}$.\n",
        "\n",
        "## Gradient Descent\n",
        "\n",
        "`polyfit` determined that the best possible solution for $f(x) = mx+b$ is `coefficients[0] * x + coefficients[1]`. For any other value of `m` and `b`, the error (or RMSE), will be larger. The error function, RMSE is $\\sqrt(mx+b-y)^2$"
      ]
    },
    {
      "metadata": {
        "id": "bBxhZyAQcy2e",
        "colab_type": "code",
        "colab": {
          "autoexec": {
            "startup": false,
            "wait_interval": 0
          },
          "base_uri": "https://localhost:8080/",
          "height": 346
        },
        "outputId": "aaa6c2a3-ce85-4790-d254-31b40909c42c",
        "executionInfo": {
          "status": "ok",
          "timestamp": 1525986659868,
          "user_tz": 420,
          "elapsed": 536,
          "user": {
            "displayName": "Ray Heberer",
            "photoUrl": "//lh4.googleusercontent.com/-BMlr5I5Dhow/AAAAAAAAAAI/AAAAAAAAABc/XW4PF5A8K2Q/s50-c-k-no/photo.jpg",
            "userId": "116545933704048584401"
          }
        }
      },
      "cell_type": "code",
      "source": [
        "def mse(x,prediction_m,prediction_b,true_m,true_b):\n",
        "    width = len(prediction_m)\n",
        "    height = len(prediction_m[0])\n",
        "    result = np.zeros(width*height).reshape(width,height)\n",
        "    for row in range(width):\n",
        "        for col in range(height):\n",
        "            # calculate the RMSE of prediction_m/b, store in result\n",
        "            m = prediction_m[row][col]\n",
        "            b = prediction_b[row][col]\n",
        "            result[row][col] = np.sum(((x*m+b)-(x*true_m+true_b))**2)\n",
        "    return result\n",
        "\n",
        "m_range = np.linspace(coefficients[0]*0.5, 2*coefficients[0], 15)\n",
        "b_range = np.linspace(coefficients[1]*0.5, 2*coefficients[1], 15)\n",
        "mm, bb = np.meshgrid(m_range,b_range)\n",
        "Z = mse(x,mm,bb,coefficients[0],coefficients[1])\n",
        "\n",
        "import matplotlib.pyplot as plt\n",
        "from mpl_toolkits.mplot3d.axes3d import Axes3D, get_test_data\n",
        "from matplotlib import cm\n",
        "import numpy as np\n",
        "\n",
        "fig = plt.figure(figsize=plt.figaspect(0.5))\n",
        "ax = fig.add_subplot(1, 2, 1, projection='3d')\n",
        "surf = ax.plot_surface(mm, bb, Z,  cmap=cm.coolwarm,\\\n",
        "                       linewidth=0, antialiased=False)\n",
        "ax.set_xlabel('m')\n",
        "ax.set_ylabel('b')\n",
        "ax.set_zlabel('residual')\n",
        "ax.set_title('Gradient of Linear Regression');\n",
        "print(coefficients)"
      ],
      "execution_count": 11,
      "outputs": [
        {
          "output_type": "stream",
          "text": [
            "[0.5176806  5.12747689]\n"
          ],
          "name": "stdout"
        },
        {
          "output_type": "display_data",
          "data": {
            "image/png": "[encoded data removed]",
            "text/plain": [
              "<matplotlib.figure.Figure at 0x7ff1738329e8>"
            ]
          },
          "metadata": {
            "tags": []
          }
        }
      ]
    },
    {
      "metadata": {
        "id": "0-GkMuUOEaRt",
        "colab_type": "text"
      },
      "cell_type": "markdown",
      "source": [
        "### Gradient Descent by Partial Derivative\n",
        "\n",
        "The error function $E_{rms} = \\sum{\\sqrt{(\\hat y_i - y_i)^2}}$ is differentiable: that is, we can find the derivative of the error function, which informs us how to update the parameters to minimize it. A model with zero error is perfect.\n",
        "\n",
        "One of the foundations of machine learning is taking the partial derivative of the error function. When the error function is well defined like above, the gradient can be computed analytically. When it is not well defined, it can be computed using the method of finite differences which we studied in week 1. Lets drop the $\\sqrt{}$ to make the derivative easier:\n",
        "\n",
        "$E_{rms} = \\sum{(\\hat y_i - y_i)^2} = \\sum{(mx_i + b - y_i)^2}$\n",
        "\n",
        "We can't drop the $^2$, because that's what makes this a minimization problem.\n",
        "\n",
        "We have two variables $m$ and $b$ that we'd like to solve for:\n",
        "\n",
        "$\\frac{\\partial}{\\partial m} = -2\\sum x(mx_i + b - y)$\n",
        "\n",
        "$\\frac{\\partial}{\\partial b} = -2\\sum (mx_i + b - y)$\n",
        "\n",
        "See\n",
        "* [ML Cheatsheet](http://ml-cheatsheet.readthedocs.io/en/latest/linear_regression.html)\n",
        "\n",
        "and\n",
        "* [MCCormickML](http://mccormickml.com/2014/03/04/gradient-descent-derivation/)"
      ]
    },
    {
      "metadata": {
        "id": "FPmyS_sRPELZ",
        "colab_type": "code",
        "colab": {
          "autoexec": {
            "startup": false,
            "wait_interval": 0
          },
          "base_uri": "https://localhost:8080/",
          "height": 364
        },
        "outputId": "9fbd108e-624c-478e-ec63-6044d17908cd",
        "executionInfo": {
          "status": "ok",
          "timestamp": 1525986662176,
          "user_tz": 420,
          "elapsed": 811,
          "user": {
            "displayName": "Ray Heberer",
            "photoUrl": "//lh4.googleusercontent.com/-BMlr5I5Dhow/AAAAAAAAAAI/AAAAAAAAABc/XW4PF5A8K2Q/s50-c-k-no/photo.jpg",
            "userId": "116545933704048584401"
          }
        }
      },
      "cell_type": "code",
      "source": [
        "def linear_regression(X, y, m_current=0, b_current=0, epochs=10000, learning_rate=0.0001):\n",
        "    N = float(len(y))\n",
        "    for i in range(epochs):\n",
        "        y_current = (m_current * X) + b_current\n",
        "        cost = sum([data**2 for data in (y-y_current)]) / N\n",
        "        m_gradient = -(2/N) * sum(X * (y - y_current))\n",
        "        b_gradient = -(2/N) * sum(y - y_current)\n",
        "        m_current = m_current - (learning_rate * m_gradient)\n",
        "        b_current = b_current - (learning_rate * b_gradient)\n",
        "    return m_current, b_current, cost\n",
        "\n",
        "m_solution = linear_regression(x, y)\n",
        "print(m_solution)\n",
        "plt.plot(x,y,'o',marker='.')\n",
        "plt.plot(x,x*solution[0]+solution[1],c='r')\n",
        "plt.plot(x,x*m_solution[0]+m_solution[1],c='y');"
      ],
      "execution_count": 12,
      "outputs": [
        {
          "output_type": "stream",
          "text": [
            "(0.9395646833921867, 0.4946374653798378, 10.187165644142938)\n"
          ],
          "name": "stdout"
        },
        {
          "output_type": "display_data",
          "data": {
            "image/png": "[encoded data removed]",
            "text/plain": [
              "<matplotlib.figure.Figure at 0x7ff17380de80>"
            ]
          },
          "metadata": {
            "tags": []
          }
        }
      ]
    },
    {
      "metadata": {
        "id": "Zb4JB-FoRoET",
        "colab_type": "text"
      },
      "cell_type": "markdown",
      "source": [
        "# Your Assignment\n",
        "\n",
        "Use gradient descent on the Titanic dataset.\n",
        "\n",
        "* 1) Load and clean the data\n",
        "* 1.1) Pay special attention to outliers. How will your model perform with and without outliers?\n",
        "* 2) Identify which features have continuous numeric values\n",
        "* 3) Compute the linear regression of these values (there are only two predictable labels)\n",
        "* 3.1) Choose a set of features (columns) from Titanic and see which features minimize your RMSE\n",
        "* 4) Report on your RMSE (residual error) for each of the models that you produce.\n",
        "Linear regression works well with univariate data (that is, $dim(x) = 1 \\times n$ and $dim(y) = 1 \\times n$) or with multivariate data: $dim(x)) = m\\times n$. Report your best regression selected from the data in the univariate case and the multivarate case. How do they differ?\n",
        "* 5) Would this model successfully produce good predictions on the chosen labels?"
      ]
    },
    {
      "metadata": {
        "id": "FgT8j7qRHpIU",
        "colab_type": "text"
      },
      "cell_type": "markdown",
      "source": [
        "# Thinking about your assignment\n",
        "\n",
        "1) What am I being asked to do?\n",
        "\n",
        "Perform feature selection where the selection criteria is the minimum RMSE that a linear regression algorithm will find. Do this for the univariate case - in some sense answering which feature has the most signal, assuming a linear relationship - and for the multivariate case.\n",
        "\n",
        "For this assignment, the labels I will try to predict will be the two continuous variables: `fare` and `age`. Note that this is different from the canonical label that models typically try to predict - `survived`.\n",
        "\n",
        "2) What coding steps need to be taken to satisfy the problem?\n",
        "\n",
        "The common data preparation steps - dropping duplicates, treating missing values, normalizing data if appropriate, followed by linear regression on the continuous variables - `fare` and `age` - and error calculation for all combinations of features.\n",
        "\n",
        "3) What must I do to claim that I have \"completed\" the assignment?\n",
        "\n",
        "* Relate subsets of Titanic features to the RMSE of a linear model for the two continuous labels\n",
        "* Identify the feature that produces the model with least RMSE out of all sets of single features\n",
        "* Identify the set of features that produce the model with the least RMSE out of all possible sets of features\n",
        "* Discuss the quality of the predictions for the best models found\n",
        "* Repeat the above analysis on two versions of the dataset, one without outliers and one with"
      ]
    },
    {
      "metadata": {
        "id": "ggFXuIuwRzYz",
        "colab_type": "code",
        "colab": {
          "autoexec": {
            "startup": false,
            "wait_interval": 0
          }
        }
      },
      "cell_type": "code",
      "source": [
        "# Complete assignment here.\n",
        "\n",
        "import pandas as pd\n",
        "import seaborn as sns\n",
        "from sklearn.preprocessing import LabelEncoder, OneHotEncoder\n",
        "from sklearn.linear_model import LinearRegression\n",
        "from itertools import chain, combinations"
      ],
      "execution_count": 0,
      "outputs": []
    },
    {
      "metadata": {
        "id": "9razgXW-zC7g",
        "colab_type": "text"
      },
      "cell_type": "markdown",
      "source": [
        "## Load and Preprocess Data"
      ]
    },
    {
      "metadata": {
        "id": "FFEaBnU8xbF_",
        "colab_type": "code",
        "colab": {
          "autoexec": {
            "startup": false,
            "wait_interval": 0
          },
          "base_uri": "https://localhost:8080/",
          "height": 195
        },
        "outputId": "f738bb37-709c-441b-feb0-19fbe25d8517",
        "executionInfo": {
          "status": "ok",
          "timestamp": 1525986665844,
          "user_tz": 420,
          "elapsed": 325,
          "user": {
            "displayName": "Ray Heberer",
            "photoUrl": "//lh4.googleusercontent.com/-BMlr5I5Dhow/AAAAAAAAAAI/AAAAAAAAABc/XW4PF5A8K2Q/s50-c-k-no/photo.jpg",
            "userId": "116545933704048584401"
          }
        }
      },
      "cell_type": "code",
      "source": [
        "data = sns.load_dataset('titanic')\n",
        "data = data.drop(['alive','adult_male','who','class','embark_town', 'deck'], axis=1)\n",
        "data = data.drop_duplicates()\n",
        "\n",
        "data.head()"
      ],
      "execution_count": 14,
      "outputs": [
        {
          "output_type": "execute_result",
          "data": {
            "text/html": [
              "<div>\n",
              "<style scoped>\n",
              "    .dataframe tbody tr th:only-of-type {\n",
              "        vertical-align: middle;\n",
              "    }\n",
              "\n",
              "    .dataframe tbody tr th {\n",
              "        vertical-align: top;\n",
              "    }\n",
              "\n",
              "    .dataframe thead th {\n",
              "        text-align: right;\n",
              "    }\n",
              "</style>\n",
              "<table border=\"1\" class=\"dataframe\">\n",
              "  <thead>\n",
              "    <tr style=\"text-align: right;\">\n",
              "      <th></th>\n",
              "      <th>survived</th>\n",
              "      <th>pclass</th>\n",
              "      <th>sex</th>\n",
              "      <th>age</th>\n",
              "      <th>sibsp</th>\n",
              "      <th>parch</th>\n",
              "      <th>fare</th>\n",
              "      <th>embarked</th>\n",
              "      <th>alone</th>\n",
              "    </tr>\n",
              "  </thead>\n",
              "  <tbody>\n",
              "    <tr>\n",
              "      <th>0</th>\n",
              "      <td>0</td>\n",
              "      <td>3</td>\n",
              "      <td>male</td>\n",
              "      <td>22.0</td>\n",
              "      <td>1</td>\n",
              "      <td>0</td>\n",
              "      <td>7.2500</td>\n",
              "      <td>S</td>\n",
              "      <td>False</td>\n",
              "    </tr>\n",
              "    <tr>\n",
              "      <th>1</th>\n",
              "      <td>1</td>\n",
              "      <td>1</td>\n",
              "      <td>female</td>\n",
              "      <td>38.0</td>\n",
              "      <td>1</td>\n",
              "      <td>0</td>\n",
              "      <td>71.2833</td>\n",
              "      <td>C</td>\n",
              "      <td>False</td>\n",
              "    </tr>\n",
              "    <tr>\n",
              "      <th>2</th>\n",
              "      <td>1</td>\n",
              "      <td>3</td>\n",
              "      <td>female</td>\n",
              "      <td>26.0</td>\n",
              "      <td>0</td>\n",
              "      <td>0</td>\n",
              "      <td>7.9250</td>\n",
              "      <td>S</td>\n",
              "      <td>True</td>\n",
              "    </tr>\n",
              "    <tr>\n",
              "      <th>3</th>\n",
              "      <td>1</td>\n",
              "      <td>1</td>\n",
              "      <td>female</td>\n",
              "      <td>35.0</td>\n",
              "      <td>1</td>\n",
              "      <td>0</td>\n",
              "      <td>53.1000</td>\n",
              "      <td>S</td>\n",
              "      <td>False</td>\n",
              "    </tr>\n",
              "    <tr>\n",
              "      <th>4</th>\n",
              "      <td>0</td>\n",
              "      <td>3</td>\n",
              "      <td>male</td>\n",
              "      <td>35.0</td>\n",
              "      <td>0</td>\n",
              "      <td>0</td>\n",
              "      <td>8.0500</td>\n",
              "      <td>S</td>\n",
              "      <td>True</td>\n",
              "    </tr>\n",
              "  </tbody>\n",
              "</table>\n",
              "</div>"
            ],
            "text/plain": [
              "   survived  pclass     sex   age  sibsp  parch     fare embarked  alone\n",
              "0         0       3    male  22.0      1      0   7.2500        S  False\n",
              "1         1       1  female  38.0      1      0  71.2833        C  False\n",
              "2         1       3  female  26.0      0      0   7.9250        S   True\n",
              "3         1       1  female  35.0      1      0  53.1000        S  False\n",
              "4         0       3    male  35.0      0      0   8.0500        S   True"
            ]
          },
          "metadata": {
            "tags": []
          },
          "execution_count": 14
        }
      ]
    },
    {
      "metadata": {
        "id": "kz09Oc9xxAjO",
        "colab_type": "code",
        "colab": {
          "autoexec": {
            "startup": false,
            "wait_interval": 0
          }
        }
      },
      "cell_type": "code",
      "source": [
        "def fill_mixed_median_mode(dataframe, medians=list()):\n",
        "    \"\"\" Fill missing values with median for specified column, otherwise mode\n",
        "    \n",
        "    Args:\n",
        "        dataframe (pandas.core.frame.DataFrame): rows of observations of features\n",
        "        medians (list): columns to fill missing values with median instead of mode\n",
        "        \n",
        "    Returns:\n",
        "        dataframe with no missing values\n",
        "    \"\"\"\n",
        "    \n",
        "    \n",
        "    null = dataframe.isnull().any()\n",
        "    null_cols = list(null[null].index)\n",
        "    \n",
        "    fill = pd.Series([data[c].median() if c in medians else data[c].mode()[0]\n",
        "                     for c in null_cols], index=null_cols)\n",
        "    \n",
        "    dataframe[null_cols] = dataframe[null_cols].fillna(fill)\n",
        "    return dataframe"
      ],
      "execution_count": 0,
      "outputs": []
    },
    {
      "metadata": {
        "id": "iQwN-Wx-xB2-",
        "colab_type": "code",
        "colab": {
          "autoexec": {
            "startup": false,
            "wait_interval": 0
          }
        }
      },
      "cell_type": "code",
      "source": [
        "data_f = fill_mixed_median_mode(data, ['Age'])"
      ],
      "execution_count": 0,
      "outputs": []
    },
    {
      "metadata": {
        "id": "vai1yMRRxNN2",
        "colab_type": "code",
        "colab": {
          "autoexec": {
            "startup": false,
            "wait_interval": 0
          },
          "base_uri": "https://localhost:8080/",
          "height": 195
        },
        "outputId": "b343df9e-a694-4e77-eede-e3411eea99a5",
        "executionInfo": {
          "status": "ok",
          "timestamp": 1525990434266,
          "user_tz": 420,
          "elapsed": 521,
          "user": {
            "displayName": "Ray Heberer",
            "photoUrl": "//lh4.googleusercontent.com/-BMlr5I5Dhow/AAAAAAAAAAI/AAAAAAAAABc/XW4PF5A8K2Q/s50-c-k-no/photo.jpg",
            "userId": "116545933704048584401"
          }
        }
      },
      "cell_type": "code",
      "source": [
        "for label in ['embarked','sex', 'alone']:\n",
        "    data_f[label] = LabelEncoder().fit_transform(data_f[label])\n",
        "\n",
        "embarked_one_hot = OneHotEncoder().fit_transform(data_f[['embarked']]).toarray()\n",
        "embarked = pd.DataFrame(embarked_one_hot, \n",
        "                        columns=['Southampton', 'Cherbourg', 'Queenstown'], \n",
        "                        dtype=np.int64)\n",
        "\n",
        "data_f = data_f.reset_index(drop=True)\n",
        "data_enc = data_f.join([embarked])\n",
        "data_enc = data_enc.drop(['embarked'], axis=1)\n",
        "\n",
        "data_enc.head()"
      ],
      "execution_count": 83,
      "outputs": [
        {
          "output_type": "execute_result",
          "data": {
            "text/html": [
              "<div>\n",
              "<style scoped>\n",
              "    .dataframe tbody tr th:only-of-type {\n",
              "        vertical-align: middle;\n",
              "    }\n",
              "\n",
              "    .dataframe tbody tr th {\n",
              "        vertical-align: top;\n",
              "    }\n",
              "\n",
              "    .dataframe thead th {\n",
              "        text-align: right;\n",
              "    }\n",
              "</style>\n",
              "<table border=\"1\" class=\"dataframe\">\n",
              "  <thead>\n",
              "    <tr style=\"text-align: right;\">\n",
              "      <th></th>\n",
              "      <th>survived</th>\n",
              "      <th>pclass</th>\n",
              "      <th>sex</th>\n",
              "      <th>age</th>\n",
              "      <th>sibsp</th>\n",
              "      <th>parch</th>\n",
              "      <th>fare</th>\n",
              "      <th>alone</th>\n",
              "      <th>Southampton</th>\n",
              "      <th>Cherbourg</th>\n",
              "      <th>Queenstown</th>\n",
              "    </tr>\n",
              "  </thead>\n",
              "  <tbody>\n",
              "    <tr>\n",
              "      <th>0</th>\n",
              "      <td>0</td>\n",
              "      <td>3</td>\n",
              "      <td>1</td>\n",
              "      <td>22.0</td>\n",
              "      <td>1</td>\n",
              "      <td>0</td>\n",
              "      <td>7.2500</td>\n",
              "      <td>0</td>\n",
              "      <td>0</td>\n",
              "      <td>0</td>\n",
              "      <td>1</td>\n",
              "    </tr>\n",
              "    <tr>\n",
              "      <th>1</th>\n",
              "      <td>1</td>\n",
              "      <td>1</td>\n",
              "      <td>0</td>\n",
              "      <td>38.0</td>\n",
              "      <td>1</td>\n",
              "      <td>0</td>\n",
              "      <td>71.2833</td>\n",
              "      <td>0</td>\n",
              "      <td>1</td>\n",
              "      <td>0</td>\n",
              "      <td>0</td>\n",
              "    </tr>\n",
              "    <tr>\n",
              "      <th>2</th>\n",
              "      <td>1</td>\n",
              "      <td>3</td>\n",
              "      <td>0</td>\n",
              "      <td>26.0</td>\n",
              "      <td>0</td>\n",
              "      <td>0</td>\n",
              "      <td>7.9250</td>\n",
              "      <td>1</td>\n",
              "      <td>0</td>\n",
              "      <td>0</td>\n",
              "      <td>1</td>\n",
              "    </tr>\n",
              "    <tr>\n",
              "      <th>3</th>\n",
              "      <td>1</td>\n",
              "      <td>1</td>\n",
              "      <td>0</td>\n",
              "      <td>35.0</td>\n",
              "      <td>1</td>\n",
              "      <td>0</td>\n",
              "      <td>53.1000</td>\n",
              "      <td>0</td>\n",
              "      <td>0</td>\n",
              "      <td>0</td>\n",
              "      <td>1</td>\n",
              "    </tr>\n",
              "    <tr>\n",
              "      <th>4</th>\n",
              "      <td>0</td>\n",
              "      <td>3</td>\n",
              "      <td>1</td>\n",
              "      <td>35.0</td>\n",
              "      <td>0</td>\n",
              "      <td>0</td>\n",
              "      <td>8.0500</td>\n",
              "      <td>1</td>\n",
              "      <td>0</td>\n",
              "      <td>0</td>\n",
              "      <td>1</td>\n",
              "    </tr>\n",
              "  </tbody>\n",
              "</table>\n",
              "</div>"
            ],
            "text/plain": [
              "   survived  pclass  sex   age  sibsp  parch     fare  alone  Southampton  \\\n",
              "0         0       3    1  22.0      1      0   7.2500      0            0   \n",
              "1         1       1    0  38.0      1      0  71.2833      0            1   \n",
              "2         1       3    0  26.0      0      0   7.9250      1            0   \n",
              "3         1       1    0  35.0      1      0  53.1000      0            0   \n",
              "4         0       3    1  35.0      0      0   8.0500      1            0   \n",
              "\n",
              "   Cherbourg  Queenstown  \n",
              "0          0           1  \n",
              "1          0           0  \n",
              "2          0           1  \n",
              "3          0           1  \n",
              "4          0           1  "
            ]
          },
          "metadata": {
            "tags": []
          },
          "execution_count": 83
        }
      ]
    },
    {
      "metadata": {
        "id": "ZcQ8pz9Q5dyv",
        "colab_type": "text"
      },
      "cell_type": "markdown",
      "source": [
        "I will include `survived` in my set of features. My two outcomes are `age` and `fare`. Every other feature will also be considered."
      ]
    },
    {
      "metadata": {
        "id": "Esel_WyzzFPW",
        "colab_type": "text"
      },
      "cell_type": "markdown",
      "source": [
        "## Univariate Linear Regression"
      ]
    },
    {
      "metadata": {
        "id": "ouHKoRycMm-h",
        "colab_type": "code",
        "colab": {
          "autoexec": {
            "startup": false,
            "wait_interval": 0
          }
        }
      },
      "cell_type": "code",
      "source": [
        "def compare_models(data, features, outcomes):\n",
        "    models = pd.DataFrame([])\n",
        "    \n",
        "    for feature in features:\n",
        "        if type(feature) != list:\n",
        "            feature = [feature]\n",
        "        \n",
        "        for outcome in outcomes:\n",
        "            X = data[feature].values.reshape(-1, len(feature))\n",
        "            Y = data[outcome].values.reshape(-1, 1)\n",
        "            \n",
        "            model = LinearRegression()\n",
        "            model.fit(X, Y)\n",
        "            yhat = model.predict(X)\n",
        "            \n",
        "            rmse = np.sqrt(np.sum(np.power(yhat-Y, 2))/yhat.shape[0])\n",
        "            params = model.coef_[0]\n",
        "            intercept, = model.intercept_\n",
        "            \n",
        "            summary = pd.Series([outcome, feature, rmse, params, intercept], name='')\n",
        "            models = models.append(summary)\n",
        "            \n",
        "    models.columns = ['outcome', 'features', 'RMSE', 'parameters', 'intercept']\n",
        "    \n",
        "    return models"
      ],
      "execution_count": 0,
      "outputs": []
    },
    {
      "metadata": {
        "id": "Z2aWSVNi35Vy",
        "colab_type": "code",
        "colab": {
          "autoexec": {
            "startup": false,
            "wait_interval": 0
          }
        }
      },
      "cell_type": "code",
      "source": [
        "features = data_enc.drop(['age', 'fare'], axis=1).columns\n",
        "outcomes = ['age', 'fare']\n",
        "\n",
        "models_uni = compare_models(data_enc, features, outcomes)\n",
        "models_uni = models_uni.sort_values(by='RMSE')\n",
        "\n",
        "age_uni = models_uni[models_uni['outcome']=='age'].drop('outcome', axis=1)\n",
        "fare_uni = models_uni[models_uni['outcome']=='fare'].drop('outcome', axis=1)\n",
        "\n",
        "age_uni = age_uni.reset_index(drop=True)\n",
        "fare_uni = fare_uni.reset_index(drop=True)"
      ],
      "execution_count": 0,
      "outputs": []
    },
    {
      "metadata": {
        "id": "qKC68hByJIcO",
        "colab_type": "code",
        "colab": {
          "autoexec": {
            "startup": false,
            "wait_interval": 0
          },
          "base_uri": "https://localhost:8080/",
          "height": 314
        },
        "outputId": "75def548-7bea-4b31-9d76-2d6286fa4f10",
        "executionInfo": {
          "status": "ok",
          "timestamp": 1525993876091,
          "user_tz": 420,
          "elapsed": 319,
          "user": {
            "displayName": "Ray Heberer",
            "photoUrl": "//lh4.googleusercontent.com/-BMlr5I5Dhow/AAAAAAAAAAI/AAAAAAAAABc/XW4PF5A8K2Q/s50-c-k-no/photo.jpg",
            "userId": "116545933704048584401"
          }
        }
      },
      "cell_type": "code",
      "source": [
        "age_uni"
      ],
      "execution_count": 180,
      "outputs": [
        {
          "output_type": "execute_result",
          "data": {
            "text/html": [
              "<div>\n",
              "<style scoped>\n",
              "    .dataframe tbody tr th:only-of-type {\n",
              "        vertical-align: middle;\n",
              "    }\n",
              "\n",
              "    .dataframe tbody tr th {\n",
              "        vertical-align: top;\n",
              "    }\n",
              "\n",
              "    .dataframe thead th {\n",
              "        text-align: right;\n",
              "    }\n",
              "</style>\n",
              "<table border=\"1\" class=\"dataframe\">\n",
              "  <thead>\n",
              "    <tr style=\"text-align: right;\">\n",
              "      <th></th>\n",
              "      <th>features</th>\n",
              "      <th>RMSE</th>\n",
              "      <th>parameters</th>\n",
              "      <th>intercept</th>\n",
              "    </tr>\n",
              "  </thead>\n",
              "  <tbody>\n",
              "    <tr>\n",
              "      <th>0</th>\n",
              "      <td>[pclass]</td>\n",
              "      <td>12.990932</td>\n",
              "      <td>[-5.59570358147587]</td>\n",
              "      <td>41.606529</td>\n",
              "    </tr>\n",
              "    <tr>\n",
              "      <th>1</th>\n",
              "      <td>[sibsp]</td>\n",
              "      <td>13.313729</td>\n",
              "      <td>[-3.835099969655077]</td>\n",
              "      <td>31.053604</td>\n",
              "    </tr>\n",
              "    <tr>\n",
              "      <th>2</th>\n",
              "      <td>[alone]</td>\n",
              "      <td>13.623548</td>\n",
              "      <td>[4.940804037591372]</td>\n",
              "      <td>26.237929</td>\n",
              "    </tr>\n",
              "    <tr>\n",
              "      <th>3</th>\n",
              "      <td>[parch]</td>\n",
              "      <td>13.641099</td>\n",
              "      <td>[-2.80261003080207]</td>\n",
              "      <td>30.209065</td>\n",
              "    </tr>\n",
              "    <tr>\n",
              "      <th>4</th>\n",
              "      <td>[sex]</td>\n",
              "      <td>13.785026</td>\n",
              "      <td>[2.5878315180777007]</td>\n",
              "      <td>27.418664</td>\n",
              "    </tr>\n",
              "    <tr>\n",
              "      <th>5</th>\n",
              "      <td>[survived]</td>\n",
              "      <td>13.803681</td>\n",
              "      <td>[-2.085055466652203]</td>\n",
              "      <td>29.898472</td>\n",
              "    </tr>\n",
              "    <tr>\n",
              "      <th>6</th>\n",
              "      <td>[Cherbourg]</td>\n",
              "      <td>13.814539</td>\n",
              "      <td>[-3.3096847836469556]</td>\n",
              "      <td>29.283823</td>\n",
              "    </tr>\n",
              "    <tr>\n",
              "      <th>7</th>\n",
              "      <td>[Southampton]</td>\n",
              "      <td>13.835659</td>\n",
              "      <td>[1.0332129032258077]</td>\n",
              "      <td>28.832400</td>\n",
              "    </tr>\n",
              "    <tr>\n",
              "      <th>8</th>\n",
              "      <td>[Queenstown]</td>\n",
              "      <td>13.841072</td>\n",
              "      <td>[0.318817100131655]</td>\n",
              "      <td>28.805962</td>\n",
              "    </tr>\n",
              "  </tbody>\n",
              "</table>\n",
              "</div>"
            ],
            "text/plain": [
              "        features       RMSE             parameters  intercept\n",
              "0       [pclass]  12.990932    [-5.59570358147587]  41.606529\n",
              "1        [sibsp]  13.313729   [-3.835099969655077]  31.053604\n",
              "2        [alone]  13.623548    [4.940804037591372]  26.237929\n",
              "3        [parch]  13.641099    [-2.80261003080207]  30.209065\n",
              "4          [sex]  13.785026   [2.5878315180777007]  27.418664\n",
              "5     [survived]  13.803681   [-2.085055466652203]  29.898472\n",
              "6    [Cherbourg]  13.814539  [-3.3096847836469556]  29.283823\n",
              "7  [Southampton]  13.835659   [1.0332129032258077]  28.832400\n",
              "8   [Queenstown]  13.841072    [0.318817100131655]  28.805962"
            ]
          },
          "metadata": {
            "tags": []
          },
          "execution_count": 180
        }
      ]
    },
    {
      "metadata": {
        "id": "v1A7KDU7JJ52",
        "colab_type": "code",
        "colab": {
          "autoexec": {
            "startup": false,
            "wait_interval": 0
          },
          "base_uri": "https://localhost:8080/",
          "height": 314
        },
        "outputId": "9f26da40-7a39-4f28-818d-fbf31e75d829",
        "executionInfo": {
          "status": "ok",
          "timestamp": 1525993877347,
          "user_tz": 420,
          "elapsed": 294,
          "user": {
            "displayName": "Ray Heberer",
            "photoUrl": "//lh4.googleusercontent.com/-BMlr5I5Dhow/AAAAAAAAAAI/AAAAAAAAABc/XW4PF5A8K2Q/s50-c-k-no/photo.jpg",
            "userId": "116545933704048584401"
          }
        }
      },
      "cell_type": "code",
      "source": [
        "fare_uni"
      ],
      "execution_count": 181,
      "outputs": [
        {
          "output_type": "execute_result",
          "data": {
            "text/html": [
              "<div>\n",
              "<style scoped>\n",
              "    .dataframe tbody tr th:only-of-type {\n",
              "        vertical-align: middle;\n",
              "    }\n",
              "\n",
              "    .dataframe tbody tr th {\n",
              "        vertical-align: top;\n",
              "    }\n",
              "\n",
              "    .dataframe thead th {\n",
              "        text-align: right;\n",
              "    }\n",
              "</style>\n",
              "<table border=\"1\" class=\"dataframe\">\n",
              "  <thead>\n",
              "    <tr style=\"text-align: right;\">\n",
              "      <th></th>\n",
              "      <th>features</th>\n",
              "      <th>RMSE</th>\n",
              "      <th>parameters</th>\n",
              "      <th>intercept</th>\n",
              "    </tr>\n",
              "  </thead>\n",
              "  <tbody>\n",
              "    <tr>\n",
              "      <th>0</th>\n",
              "      <td>[pclass]</td>\n",
              "      <td>43.536383</td>\n",
              "      <td>[-33.7905929560701]</td>\n",
              "      <td>110.727978</td>\n",
              "    </tr>\n",
              "    <tr>\n",
              "      <th>1</th>\n",
              "      <td>[Southampton]</td>\n",
              "      <td>50.210618</td>\n",
              "      <td>[36.043423809032255]</td>\n",
              "      <td>27.666632</td>\n",
              "    </tr>\n",
              "    <tr>\n",
              "      <th>2</th>\n",
              "      <td>[survived]</td>\n",
              "      <td>50.616010</td>\n",
              "      <td>[26.167851570425018]</td>\n",
              "      <td>24.026482</td>\n",
              "    </tr>\n",
              "    <tr>\n",
              "      <th>3</th>\n",
              "      <td>[alone]</td>\n",
              "      <td>50.634441</td>\n",
              "      <td>[-25.852591072050117]</td>\n",
              "      <td>49.478909</td>\n",
              "    </tr>\n",
              "    <tr>\n",
              "      <th>4</th>\n",
              "      <td>[parch]</td>\n",
              "      <td>51.267813</td>\n",
              "      <td>[11.907905797623851]</td>\n",
              "      <td>29.852214</td>\n",
              "    </tr>\n",
              "    <tr>\n",
              "      <th>5</th>\n",
              "      <td>[Queenstown]</td>\n",
              "      <td>51.355227</td>\n",
              "      <td>[-21.364438957199987]</td>\n",
              "      <td>50.359411</td>\n",
              "    </tr>\n",
              "    <tr>\n",
              "      <th>6</th>\n",
              "      <td>[sex]</td>\n",
              "      <td>51.475906</td>\n",
              "      <td>[-18.272017229957328]</td>\n",
              "      <td>46.260831</td>\n",
              "    </tr>\n",
              "    <tr>\n",
              "      <th>7</th>\n",
              "      <td>[sibsp]</td>\n",
              "      <td>51.757984</td>\n",
              "      <td>[7.094755499173945]</td>\n",
              "      <td>31.099813</td>\n",
              "    </tr>\n",
              "    <tr>\n",
              "      <th>8</th>\n",
              "      <td>[Cherbourg]</td>\n",
              "      <td>51.916804</td>\n",
              "      <td>[-21.766692716591844]</td>\n",
              "      <td>36.447657</td>\n",
              "    </tr>\n",
              "  </tbody>\n",
              "</table>\n",
              "</div>"
            ],
            "text/plain": [
              "        features       RMSE             parameters   intercept\n",
              "0       [pclass]  43.536383    [-33.7905929560701]  110.727978\n",
              "1  [Southampton]  50.210618   [36.043423809032255]   27.666632\n",
              "2     [survived]  50.616010   [26.167851570425018]   24.026482\n",
              "3        [alone]  50.634441  [-25.852591072050117]   49.478909\n",
              "4        [parch]  51.267813   [11.907905797623851]   29.852214\n",
              "5   [Queenstown]  51.355227  [-21.364438957199987]   50.359411\n",
              "6          [sex]  51.475906  [-18.272017229957328]   46.260831\n",
              "7        [sibsp]  51.757984    [7.094755499173945]   31.099813\n",
              "8    [Cherbourg]  51.916804  [-21.766692716591844]   36.447657"
            ]
          },
          "metadata": {
            "tags": []
          },
          "execution_count": 181
        }
      ]
    },
    {
      "metadata": {
        "id": "xmKPG5BZJmD0",
        "colab_type": "text"
      },
      "cell_type": "markdown",
      "source": [
        "It seems that for both `age` and `fare`, `pclass` is the feature that produces the model with the least RMSE. However, one should keep in mind that this is on unnormalized data. A better metric for the quality of a linear model would be its $R^2$ score."
      ]
    },
    {
      "metadata": {
        "id": "QtczniMyFvM0",
        "colab_type": "text"
      },
      "cell_type": "markdown",
      "source": [
        "## Multivariate Linear Regression"
      ]
    },
    {
      "metadata": {
        "id": "PQaSs1itJ7jO",
        "colab_type": "code",
        "colab": {
          "autoexec": {
            "startup": false,
            "wait_interval": 0
          }
        }
      },
      "cell_type": "code",
      "source": [
        "def all_subsets(data_cols):\n",
        "    return chain(*map(lambda x: combinations(data_cols, x), range(0, len(data_cols)+1)))"
      ],
      "execution_count": 0,
      "outputs": []
    },
    {
      "metadata": {
        "id": "lR7aiBp3MUd6",
        "colab_type": "code",
        "colab": {
          "autoexec": {
            "startup": false,
            "wait_interval": 0
          },
          "base_uri": "https://localhost:8080/",
          "height": 269
        },
        "outputId": "fb8855d1-f1b7-493e-b6db-d1122c460d3e",
        "executionInfo": {
          "status": "ok",
          "timestamp": 1525992659770,
          "user_tz": 420,
          "elapsed": 282,
          "user": {
            "displayName": "Ray Heberer",
            "photoUrl": "//lh4.googleusercontent.com/-BMlr5I5Dhow/AAAAAAAAAAI/AAAAAAAAABc/XW4PF5A8K2Q/s50-c-k-no/photo.jpg",
            "userId": "116545933704048584401"
          }
        }
      },
      "cell_type": "code",
      "source": [
        "subsets = [list(subset) for subset in all_subsets(features) if len(subset) > 0]\n",
        "subsets[:15]"
      ],
      "execution_count": 150,
      "outputs": [
        {
          "output_type": "execute_result",
          "data": {
            "text/plain": [
              "[['survived'],\n",
              " ['pclass'],\n",
              " ['sex'],\n",
              " ['sibsp'],\n",
              " ['parch'],\n",
              " ['alone'],\n",
              " ['Southampton'],\n",
              " ['Cherbourg'],\n",
              " ['Queenstown'],\n",
              " ['survived', 'pclass'],\n",
              " ['survived', 'sex'],\n",
              " ['survived', 'sibsp'],\n",
              " ['survived', 'parch'],\n",
              " ['survived', 'alone'],\n",
              " ['survived', 'Southampton']]"
            ]
          },
          "metadata": {
            "tags": []
          },
          "execution_count": 150
        }
      ]
    },
    {
      "metadata": {
        "id": "xiKkSbwuPdRB",
        "colab_type": "code",
        "colab": {
          "autoexec": {
            "startup": false,
            "wait_interval": 0
          }
        }
      },
      "cell_type": "code",
      "source": [
        "models = compare_models(data_enc, subsets, outcomes)"
      ],
      "execution_count": 0,
      "outputs": []
    },
    {
      "metadata": {
        "id": "MM36YJXfQKqX",
        "colab_type": "code",
        "colab": {
          "autoexec": {
            "startup": false,
            "wait_interval": 0
          }
        }
      },
      "cell_type": "code",
      "source": [
        "age = models[models['outcome']=='age'].drop('outcome', axis=1)\n",
        "fare = models[models['outcome']=='fare'].drop('outcome', axis=1)\n",
        "\n",
        "age = age.reset_index(drop=True).sort_values(by='RMSE')\n",
        "fare = fare.reset_index(drop=True).sort_values(by='RMSE')"
      ],
      "execution_count": 0,
      "outputs": []
    },
    {
      "metadata": {
        "id": "4luoYoyLQMx5",
        "colab_type": "code",
        "colab": {
          "autoexec": {
            "startup": false,
            "wait_interval": 0
          },
          "base_uri": "https://localhost:8080/",
          "height": 195
        },
        "outputId": "d2b84173-c0f5-4a8d-ceb7-468d947a04e0",
        "executionInfo": {
          "status": "ok",
          "timestamp": 1525993896983,
          "user_tz": 420,
          "elapsed": 357,
          "user": {
            "displayName": "Ray Heberer",
            "photoUrl": "//lh4.googleusercontent.com/-BMlr5I5Dhow/AAAAAAAAAAI/AAAAAAAAABc/XW4PF5A8K2Q/s50-c-k-no/photo.jpg",
            "userId": "116545933704048584401"
          }
        }
      },
      "cell_type": "code",
      "source": [
        "age.head()"
      ],
      "execution_count": 184,
      "outputs": [
        {
          "output_type": "execute_result",
          "data": {
            "text/html": [
              "<div>\n",
              "<style scoped>\n",
              "    .dataframe tbody tr th:only-of-type {\n",
              "        vertical-align: middle;\n",
              "    }\n",
              "\n",
              "    .dataframe tbody tr th {\n",
              "        vertical-align: top;\n",
              "    }\n",
              "\n",
              "    .dataframe thead th {\n",
              "        text-align: right;\n",
              "    }\n",
              "</style>\n",
              "<table border=\"1\" class=\"dataframe\">\n",
              "  <thead>\n",
              "    <tr style=\"text-align: right;\">\n",
              "      <th></th>\n",
              "      <th>features</th>\n",
              "      <th>RMSE</th>\n",
              "      <th>parameters</th>\n",
              "      <th>intercept</th>\n",
              "    </tr>\n",
              "  </thead>\n",
              "  <tbody>\n",
              "    <tr>\n",
              "      <th>501</th>\n",
              "      <td>[survived, pclass, sex, sibsp, parch, alone, S...</td>\n",
              "      <td>12.177857</td>\n",
              "      <td>[-5.913804363437605, -6.641632079511652, -0.37...</td>\n",
              "      <td>48.431112</td>\n",
              "    </tr>\n",
              "    <tr>\n",
              "      <th>503</th>\n",
              "      <td>[survived, pclass, sex, sibsp, parch, alone, C...</td>\n",
              "      <td>12.177857</td>\n",
              "      <td>[-5.9138043634376, -6.6416320795116555, -0.379...</td>\n",
              "      <td>46.711687</td>\n",
              "    </tr>\n",
              "    <tr>\n",
              "      <th>502</th>\n",
              "      <td>[survived, pclass, sex, sibsp, parch, alone, S...</td>\n",
              "      <td>12.177857</td>\n",
              "      <td>[-5.913804363437602, -6.641632079511665, -0.37...</td>\n",
              "      <td>48.529593</td>\n",
              "    </tr>\n",
              "    <tr>\n",
              "      <th>465</th>\n",
              "      <td>[survived, pclass, sex, sibsp, parch, alone, S...</td>\n",
              "      <td>12.177882</td>\n",
              "      <td>[-5.913502548134916, -6.635719476214061, -0.38...</td>\n",
              "      <td>48.429045</td>\n",
              "    </tr>\n",
              "    <tr>\n",
              "      <th>480</th>\n",
              "      <td>[survived, pclass, sibsp, parch, alone, Southa...</td>\n",
              "      <td>12.178795</td>\n",
              "      <td>[-5.728924147126569, -6.6309154860061525, -3.0...</td>\n",
              "      <td>48.108165</td>\n",
              "    </tr>\n",
              "  </tbody>\n",
              "</table>\n",
              "</div>"
            ],
            "text/plain": [
              "                                              features       RMSE  \\\n",
              "501  [survived, pclass, sex, sibsp, parch, alone, S...  12.177857   \n",
              "503  [survived, pclass, sex, sibsp, parch, alone, C...  12.177857   \n",
              "502  [survived, pclass, sex, sibsp, parch, alone, S...  12.177857   \n",
              "465  [survived, pclass, sex, sibsp, parch, alone, S...  12.177882   \n",
              "480  [survived, pclass, sibsp, parch, alone, Southa...  12.178795   \n",
              "\n",
              "                                            parameters  intercept  \n",
              "501  [-5.913804363437605, -6.641632079511652, -0.37...  48.431112  \n",
              "503  [-5.9138043634376, -6.6416320795116555, -0.379...  46.711687  \n",
              "502  [-5.913804363437602, -6.641632079511665, -0.37...  48.529593  \n",
              "465  [-5.913502548134916, -6.635719476214061, -0.38...  48.429045  \n",
              "480  [-5.728924147126569, -6.6309154860061525, -3.0...  48.108165  "
            ]
          },
          "metadata": {
            "tags": []
          },
          "execution_count": 184
        }
      ]
    },
    {
      "metadata": {
        "id": "uznYIMLQQVf1",
        "colab_type": "code",
        "colab": {
          "autoexec": {
            "startup": false,
            "wait_interval": 0
          },
          "base_uri": "https://localhost:8080/",
          "height": 151
        },
        "outputId": "10e3dda1-8b2a-4a31-96b0-08c77bf9ff0a",
        "executionInfo": {
          "status": "ok",
          "timestamp": 1525993898768,
          "user_tz": 420,
          "elapsed": 309,
          "user": {
            "displayName": "Ray Heberer",
            "photoUrl": "//lh4.googleusercontent.com/-BMlr5I5Dhow/AAAAAAAAAAI/AAAAAAAAABc/XW4PF5A8K2Q/s50-c-k-no/photo.jpg",
            "userId": "116545933704048584401"
          }
        }
      },
      "cell_type": "code",
      "source": [
        "age['features'].iloc[0]"
      ],
      "execution_count": 185,
      "outputs": [
        {
          "output_type": "execute_result",
          "data": {
            "text/plain": [
              "['survived',\n",
              " 'pclass',\n",
              " 'sex',\n",
              " 'sibsp',\n",
              " 'parch',\n",
              " 'alone',\n",
              " 'Southampton',\n",
              " 'Cherbourg']"
            ]
          },
          "metadata": {
            "tags": []
          },
          "execution_count": 185
        }
      ]
    },
    {
      "metadata": {
        "id": "ADFTa6KzQRpf",
        "colab_type": "code",
        "colab": {
          "autoexec": {
            "startup": false,
            "wait_interval": 0
          },
          "base_uri": "https://localhost:8080/",
          "height": 195
        },
        "outputId": "3cb27f04-7fd9-42a6-a2f7-4f46a1cadf90",
        "executionInfo": {
          "status": "ok",
          "timestamp": 1525993900532,
          "user_tz": 420,
          "elapsed": 410,
          "user": {
            "displayName": "Ray Heberer",
            "photoUrl": "//lh4.googleusercontent.com/-BMlr5I5Dhow/AAAAAAAAAAI/AAAAAAAAABc/XW4PF5A8K2Q/s50-c-k-no/photo.jpg",
            "userId": "116545933704048584401"
          }
        }
      },
      "cell_type": "code",
      "source": [
        "fare.head()"
      ],
      "execution_count": 186,
      "outputs": [
        {
          "output_type": "execute_result",
          "data": {
            "text/html": [
              "<div>\n",
              "<style scoped>\n",
              "    .dataframe tbody tr th:only-of-type {\n",
              "        vertical-align: middle;\n",
              "    }\n",
              "\n",
              "    .dataframe tbody tr th {\n",
              "        vertical-align: top;\n",
              "    }\n",
              "\n",
              "    .dataframe thead th {\n",
              "        text-align: right;\n",
              "    }\n",
              "</style>\n",
              "<table border=\"1\" class=\"dataframe\">\n",
              "  <thead>\n",
              "    <tr style=\"text-align: right;\">\n",
              "      <th></th>\n",
              "      <th>features</th>\n",
              "      <th>RMSE</th>\n",
              "      <th>parameters</th>\n",
              "      <th>intercept</th>\n",
              "    </tr>\n",
              "  </thead>\n",
              "  <tbody>\n",
              "    <tr>\n",
              "      <th>503</th>\n",
              "      <td>[survived, pclass, sex, sibsp, parch, alone, C...</td>\n",
              "      <td>40.845907</td>\n",
              "      <td>[2.473702980674779, -32.34607958777646, -3.466...</td>\n",
              "      <td>1.155424e+02</td>\n",
              "    </tr>\n",
              "    <tr>\n",
              "      <th>502</th>\n",
              "      <td>[survived, pclass, sex, sibsp, parch, alone, S...</td>\n",
              "      <td>40.845907</td>\n",
              "      <td>[2.473702980674775, -32.34607958777646, -3.466...</td>\n",
              "      <td>1.018592e+02</td>\n",
              "    </tr>\n",
              "    <tr>\n",
              "      <th>501</th>\n",
              "      <td>[survived, pclass, sex, sibsp, parch, alone, S...</td>\n",
              "      <td>40.845907</td>\n",
              "      <td>[2.4737029806747426, -32.34607958777645, -3.46...</td>\n",
              "      <td>9.524160e+01</td>\n",
              "    </tr>\n",
              "    <tr>\n",
              "      <th>510</th>\n",
              "      <td>[survived, pclass, sex, sibsp, parch, alone, S...</td>\n",
              "      <td>40.847295</td>\n",
              "      <td>[2.691872385822584, -32.264552288864024, -3.52...</td>\n",
              "      <td>6.478185e+14</td>\n",
              "    </tr>\n",
              "    <tr>\n",
              "      <th>468</th>\n",
              "      <td>[survived, pclass, sex, sibsp, parch, Southamp...</td>\n",
              "      <td>40.848870</td>\n",
              "      <td>[2.368789402786627, -32.25057413338287, -3.324...</td>\n",
              "      <td>9.617655e+01</td>\n",
              "    </tr>\n",
              "  </tbody>\n",
              "</table>\n",
              "</div>"
            ],
            "text/plain": [
              "                                              features       RMSE  \\\n",
              "503  [survived, pclass, sex, sibsp, parch, alone, C...  40.845907   \n",
              "502  [survived, pclass, sex, sibsp, parch, alone, S...  40.845907   \n",
              "501  [survived, pclass, sex, sibsp, parch, alone, S...  40.845907   \n",
              "510  [survived, pclass, sex, sibsp, parch, alone, S...  40.847295   \n",
              "468  [survived, pclass, sex, sibsp, parch, Southamp...  40.848870   \n",
              "\n",
              "                                            parameters     intercept  \n",
              "503  [2.473702980674779, -32.34607958777646, -3.466...  1.155424e+02  \n",
              "502  [2.473702980674775, -32.34607958777646, -3.466...  1.018592e+02  \n",
              "501  [2.4737029806747426, -32.34607958777645, -3.46...  9.524160e+01  \n",
              "510  [2.691872385822584, -32.264552288864024, -3.52...  6.478185e+14  \n",
              "468  [2.368789402786627, -32.25057413338287, -3.324...  9.617655e+01  "
            ]
          },
          "metadata": {
            "tags": []
          },
          "execution_count": 186
        }
      ]
    },
    {
      "metadata": {
        "id": "WMRdcsHLQYbb",
        "colab_type": "code",
        "colab": {
          "autoexec": {
            "startup": false,
            "wait_interval": 0
          },
          "base_uri": "https://localhost:8080/",
          "height": 151
        },
        "outputId": "a2ec3e32-7946-4d93-e80a-b7dee1ba1e89",
        "executionInfo": {
          "status": "ok",
          "timestamp": 1525993901550,
          "user_tz": 420,
          "elapsed": 288,
          "user": {
            "displayName": "Ray Heberer",
            "photoUrl": "//lh4.googleusercontent.com/-BMlr5I5Dhow/AAAAAAAAAAI/AAAAAAAAABc/XW4PF5A8K2Q/s50-c-k-no/photo.jpg",
            "userId": "116545933704048584401"
          }
        }
      },
      "cell_type": "code",
      "source": [
        "fare['features'].iloc[0]"
      ],
      "execution_count": 187,
      "outputs": [
        {
          "output_type": "execute_result",
          "data": {
            "text/plain": [
              "['survived',\n",
              " 'pclass',\n",
              " 'sex',\n",
              " 'sibsp',\n",
              " 'parch',\n",
              " 'alone',\n",
              " 'Cherbourg',\n",
              " 'Queenstown']"
            ]
          },
          "metadata": {
            "tags": []
          },
          "execution_count": 187
        }
      ]
    },
    {
      "metadata": {
        "id": "M-mfs_ElQxHQ",
        "colab_type": "text"
      },
      "cell_type": "markdown",
      "source": [
        "For both `fare` and `age`, a model that considered 8 features obtained the lowest RMSE. These are the features `survived`, `pclass`, `sex`,  `sibsp`, `parch` and `alone` along with two out of the three cities. Interestingly, the cities are not the same for predicting each outcome.\n",
        "\n",
        "In the future, I could consider including one less one-hot feature than was encoded, since its information is completely contained in the baseline case of all the other one-hot features being equal to zero. This would remedy the \"dummy variable trap\" contributing to [multicollinearity](https://en.wikipedia.org/wiki/Multicollinearity#Remedies_for_multicollinearity)."
      ]
    },
    {
      "metadata": {
        "id": "_j7FAn_8SWin",
        "colab_type": "text"
      },
      "cell_type": "markdown",
      "source": [
        "## Discussion"
      ]
    },
    {
      "metadata": {
        "id": "8dJKl5pISYIy",
        "colab_type": "code",
        "colab": {
          "autoexec": {
            "startup": false,
            "wait_interval": 0
          },
          "base_uri": "https://localhost:8080/",
          "height": 361
        },
        "outputId": "4314d870-e8f9-4d56-eb52-fd941edb72d3",
        "executionInfo": {
          "status": "ok",
          "timestamp": 1525994051427,
          "user_tz": 420,
          "elapsed": 617,
          "user": {
            "displayName": "Ray Heberer",
            "photoUrl": "//lh4.googleusercontent.com/-BMlr5I5Dhow/AAAAAAAAAAI/AAAAAAAAABc/XW4PF5A8K2Q/s50-c-k-no/photo.jpg",
            "userId": "116545933704048584401"
          }
        }
      },
      "cell_type": "code",
      "source": [
        "fig, ax = plt.subplots(2)\n",
        "fig.subplots_adjust(hspace=0.3)\n",
        "\n",
        "for ix, outcome in enumerate(outcomes):\n",
        "    line = models_uni[models_uni['outcome']==outcome].iloc[0]\n",
        "    feature = line['features'][0]\n",
        "    \n",
        "    x = data_enc[feature]\n",
        "    y = data_enc[outcome]\n",
        "    ax[ix].scatter(x, y)\n",
        "    x_line = np.linspace(x.min(), x.max())\n",
        "    y_line = x_smooth*line['parameters'][0] + line['intercept']\n",
        "    ax[ix].plot(x_line, y_line)\n",
        "    \n",
        "    ax[ix].set(xlabel=feature, ylabel=outcome);"
      ],
      "execution_count": 193,
      "outputs": [
        {
          "output_type": "display_data",
          "data": {
            "image/png": "[encoded data removed]",
            "text/plain": [
              "<matplotlib.figure.Figure at 0x7ff16e6a4cc0>"
            ]
          },
          "metadata": {
            "tags": []
          }
        }
      ]
    },
    {
      "metadata": {
        "id": "IIJpFnNjVbRE",
        "colab_type": "text"
      },
      "cell_type": "markdown",
      "source": [
        "Because `pclass` is a categorical variable, a linear model that regresses onto `fare` or `age` using it as a feature will not have very much predictive power. Though the multivariable regression models cannot be visualized in the same way, one would expect that the same holds true for them.\n",
        "\n",
        "It is apparent that all the model is really doing is finding a line that gets as close as possible to the means of each level in the categorical variable. Removing the outliers would simply improve the model's ability to pass through the means, and would not lend much of an increase in predictive power."
      ]
    },
    {
      "metadata": {
        "id": "3pyTHVr2F7qN",
        "colab_type": "text"
      },
      "cell_type": "markdown",
      "source": [
        "## Stretch Goal\n",
        "\n",
        "Lets get started on Kaggle.\n",
        "\n",
        "[House Prices Advanced Regression](https://www.kaggle.com/c/house-prices-advanced-regression-techniques/data)\n",
        "\n",
        "Sign up to compete, and download the dataset! The Zillow data contains a huge number of columns. Spend an hour or two studying the data, cleaning it, and configuring it, then work to use `polyfit` (remember, it is your first ML model) to make predictions about the final column `SalePrice`.\n"
      ]
    }
  ]
}