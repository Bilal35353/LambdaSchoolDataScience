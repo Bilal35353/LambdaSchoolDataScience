{
  "nbformat": 4,
  "nbformat_minor": 0,
  "metadata": {
    "colab": {
      "name": "Data Preparation Categorical Encoding Challenge.ipynb",
      "version": "0.3.2",
      "views": {},
      "default_view": {},
      "provenance": [
        {
          "file_id": "1WUB0Bz4OU0XSJOV2v4sW5CoAe3G1xSZR",
          "timestamp": 1523372686021
        },
        {
          "file_id": "1V_Mklmy6mkS-gaLtcry5ZHyfBbXaeFAD",
          "timestamp": 1523372077194
        }
      ]
    },
    "kernelspec": {
      "name": "python3",
      "display_name": "Python 3"
    }
  },
  "cells": [
    {
      "metadata": {
        "id": "Dd-KLrCnex_Z",
        "colab_type": "text"
      },
      "cell_type": "markdown",
      "source": [
        "## Categorical Encodidng\n",
        "\n",
        "In this challenge, we will touch on another data preparation task that you should be aware of. This task revolves around dealing with \"Categorical\" variables. As you already know by now, Machine Learning models are based on mathematical equations. If the underlying data set contains categorical data, then the categorical variables needed to be converted into numbers since a mathematical equation only contains numbers. \n",
        "\n",
        "The data set used in Coding Challenge #1 contains 2 categorical variables i.e. 'Cities in East Bay' and 'Own Home?'. The first categorical variable contains 3 categories i.e. 'Pleasanton', 'Walnut Creek' and 'Dublin' and the second categorical variable contains 2 categories i.e. 'Yes' and 'No.\n",
        "\n",
        "Ask? Encode the 'Cities in Bay Area' categorical variable into numbers.\n",
        "\n",
        "*Hint*: Utilize the LabelEncoder class from the sklearn.preprocessing page\n",
        "\n",
        "*Additional Resource*: http://pbpython.com/categorical-encoding.html"
      ]
    },
    {
      "metadata": {
        "id": "ELg-MYAmDnLq",
        "colab_type": "code",
        "colab": {
          "autoexec": {
            "startup": false,
            "wait_interval": 0
          },
          "base_uri": "https://localhost:8080/",
          "height": 359
        },
        "outputId": "c5aa6e6d-9882-45c7-9e8b-a537fd470421",
        "executionInfo": {
          "status": "ok",
          "timestamp": 1523374382768,
          "user_tz": 420,
          "elapsed": 1572,
          "user": {
            "displayName": "Ray Heberer",
            "photoUrl": "//lh4.googleusercontent.com/-BMlr5I5Dhow/AAAAAAAAAAI/AAAAAAAAABc/XW4PF5A8K2Q/s50-c-k-no/photo.jpg",
            "userId": "116545933704048584401"
          }
        }
      },
      "cell_type": "code",
      "source": [
        "import numpy as np\n",
        "import pandas as pd\n",
        "from sklearn.preprocessing import LabelEncoder\n",
        "\n",
        "dataset = pd.read_csv('https://www.dropbox.com/s/91tthp8h6hgxzi6/Data-CodeChallenge1.csv?raw=1')\n",
        "dataset"
      ],
      "execution_count": 1,
      "outputs": [
        {
          "output_type": "execute_result",
          "data": {
            "text/html": [
              "<div>\n",
              "<style scoped>\n",
              "    .dataframe tbody tr th:only-of-type {\n",
              "        vertical-align: middle;\n",
              "    }\n",
              "\n",
              "    .dataframe tbody tr th {\n",
              "        vertical-align: top;\n",
              "    }\n",
              "\n",
              "    .dataframe thead th {\n",
              "        text-align: right;\n",
              "    }\n",
              "</style>\n",
              "<table border=\"1\" class=\"dataframe\">\n",
              "  <thead>\n",
              "    <tr style=\"text-align: right;\">\n",
              "      <th></th>\n",
              "      <th>Cities in East Bay</th>\n",
              "      <th>Age</th>\n",
              "      <th>Salary</th>\n",
              "      <th>Own Home?</th>\n",
              "    </tr>\n",
              "  </thead>\n",
              "  <tbody>\n",
              "    <tr>\n",
              "      <th>0</th>\n",
              "      <td>Pleasanton</td>\n",
              "      <td>44.0</td>\n",
              "      <td>172000.0</td>\n",
              "      <td>No</td>\n",
              "    </tr>\n",
              "    <tr>\n",
              "      <th>1</th>\n",
              "      <td>Walnut Creek</td>\n",
              "      <td>27.0</td>\n",
              "      <td>148000.0</td>\n",
              "      <td>Yes</td>\n",
              "    </tr>\n",
              "    <tr>\n",
              "      <th>2</th>\n",
              "      <td>Dublin</td>\n",
              "      <td>30.0</td>\n",
              "      <td>154000.0</td>\n",
              "      <td>No</td>\n",
              "    </tr>\n",
              "    <tr>\n",
              "      <th>3</th>\n",
              "      <td>Walnut Creek</td>\n",
              "      <td>38.0</td>\n",
              "      <td>161000.0</td>\n",
              "      <td>No</td>\n",
              "    </tr>\n",
              "    <tr>\n",
              "      <th>4</th>\n",
              "      <td>Dublin</td>\n",
              "      <td>40.0</td>\n",
              "      <td>NaN</td>\n",
              "      <td>Yes</td>\n",
              "    </tr>\n",
              "    <tr>\n",
              "      <th>5</th>\n",
              "      <td>Pleasanton</td>\n",
              "      <td>35.0</td>\n",
              "      <td>158000.0</td>\n",
              "      <td>Yes</td>\n",
              "    </tr>\n",
              "    <tr>\n",
              "      <th>6</th>\n",
              "      <td>Walnut Creek</td>\n",
              "      <td>NaN</td>\n",
              "      <td>152000.0</td>\n",
              "      <td>No</td>\n",
              "    </tr>\n",
              "    <tr>\n",
              "      <th>7</th>\n",
              "      <td>Pleasanton</td>\n",
              "      <td>48.0</td>\n",
              "      <td>179000.0</td>\n",
              "      <td>Yes</td>\n",
              "    </tr>\n",
              "    <tr>\n",
              "      <th>8</th>\n",
              "      <td>Dublin</td>\n",
              "      <td>50.0</td>\n",
              "      <td>183000.0</td>\n",
              "      <td>No</td>\n",
              "    </tr>\n",
              "    <tr>\n",
              "      <th>9</th>\n",
              "      <td>Pleasanton</td>\n",
              "      <td>37.0</td>\n",
              "      <td>167000.0</td>\n",
              "      <td>Yes</td>\n",
              "    </tr>\n",
              "  </tbody>\n",
              "</table>\n",
              "</div>"
            ],
            "text/plain": [
              "  Cities in East Bay   Age    Salary Own Home?\n",
              "0         Pleasanton  44.0  172000.0        No\n",
              "1       Walnut Creek  27.0  148000.0       Yes\n",
              "2             Dublin  30.0  154000.0        No\n",
              "3       Walnut Creek  38.0  161000.0        No\n",
              "4             Dublin  40.0       NaN       Yes\n",
              "5         Pleasanton  35.0  158000.0       Yes\n",
              "6       Walnut Creek   NaN  152000.0        No\n",
              "7         Pleasanton  48.0  179000.0       Yes\n",
              "8             Dublin  50.0  183000.0        No\n",
              "9         Pleasanton  37.0  167000.0       Yes"
            ]
          },
          "metadata": {
            "tags": []
          },
          "execution_count": 1
        }
      ]
    },
    {
      "metadata": {
        "id": "ZcdJt484GeDC",
        "colab_type": "code",
        "colab": {
          "autoexec": {
            "startup": false,
            "wait_interval": 0
          },
          "base_uri": "https://localhost:8080/",
          "height": 359
        },
        "outputId": "d221ed81-c268-4ee4-c7c4-262c31d6bea9",
        "executionInfo": {
          "status": "ok",
          "timestamp": 1523374385552,
          "user_tz": 420,
          "elapsed": 495,
          "user": {
            "displayName": "Ray Heberer",
            "photoUrl": "//lh4.googleusercontent.com/-BMlr5I5Dhow/AAAAAAAAAAI/AAAAAAAAABc/XW4PF5A8K2Q/s50-c-k-no/photo.jpg",
            "userId": "116545933704048584401"
          }
        }
      },
      "cell_type": "code",
      "source": [
        "dataset['Cities in East Bay'] = LabelEncoder().fit_transform(dataset['Cities in East Bay'])\n",
        "dataset['Own Home?'] = LabelEncoder().fit_transform(dataset['Own Home?'])\n",
        "dataset"
      ],
      "execution_count": 2,
      "outputs": [
        {
          "output_type": "execute_result",
          "data": {
            "text/html": [
              "<div>\n",
              "<style scoped>\n",
              "    .dataframe tbody tr th:only-of-type {\n",
              "        vertical-align: middle;\n",
              "    }\n",
              "\n",
              "    .dataframe tbody tr th {\n",
              "        vertical-align: top;\n",
              "    }\n",
              "\n",
              "    .dataframe thead th {\n",
              "        text-align: right;\n",
              "    }\n",
              "</style>\n",
              "<table border=\"1\" class=\"dataframe\">\n",
              "  <thead>\n",
              "    <tr style=\"text-align: right;\">\n",
              "      <th></th>\n",
              "      <th>Cities in East Bay</th>\n",
              "      <th>Age</th>\n",
              "      <th>Salary</th>\n",
              "      <th>Own Home?</th>\n",
              "    </tr>\n",
              "  </thead>\n",
              "  <tbody>\n",
              "    <tr>\n",
              "      <th>0</th>\n",
              "      <td>1</td>\n",
              "      <td>44.0</td>\n",
              "      <td>172000.0</td>\n",
              "      <td>0</td>\n",
              "    </tr>\n",
              "    <tr>\n",
              "      <th>1</th>\n",
              "      <td>2</td>\n",
              "      <td>27.0</td>\n",
              "      <td>148000.0</td>\n",
              "      <td>1</td>\n",
              "    </tr>\n",
              "    <tr>\n",
              "      <th>2</th>\n",
              "      <td>0</td>\n",
              "      <td>30.0</td>\n",
              "      <td>154000.0</td>\n",
              "      <td>0</td>\n",
              "    </tr>\n",
              "    <tr>\n",
              "      <th>3</th>\n",
              "      <td>2</td>\n",
              "      <td>38.0</td>\n",
              "      <td>161000.0</td>\n",
              "      <td>0</td>\n",
              "    </tr>\n",
              "    <tr>\n",
              "      <th>4</th>\n",
              "      <td>0</td>\n",
              "      <td>40.0</td>\n",
              "      <td>NaN</td>\n",
              "      <td>1</td>\n",
              "    </tr>\n",
              "    <tr>\n",
              "      <th>5</th>\n",
              "      <td>1</td>\n",
              "      <td>35.0</td>\n",
              "      <td>158000.0</td>\n",
              "      <td>1</td>\n",
              "    </tr>\n",
              "    <tr>\n",
              "      <th>6</th>\n",
              "      <td>2</td>\n",
              "      <td>NaN</td>\n",
              "      <td>152000.0</td>\n",
              "      <td>0</td>\n",
              "    </tr>\n",
              "    <tr>\n",
              "      <th>7</th>\n",
              "      <td>1</td>\n",
              "      <td>48.0</td>\n",
              "      <td>179000.0</td>\n",
              "      <td>1</td>\n",
              "    </tr>\n",
              "    <tr>\n",
              "      <th>8</th>\n",
              "      <td>0</td>\n",
              "      <td>50.0</td>\n",
              "      <td>183000.0</td>\n",
              "      <td>0</td>\n",
              "    </tr>\n",
              "    <tr>\n",
              "      <th>9</th>\n",
              "      <td>1</td>\n",
              "      <td>37.0</td>\n",
              "      <td>167000.0</td>\n",
              "      <td>1</td>\n",
              "    </tr>\n",
              "  </tbody>\n",
              "</table>\n",
              "</div>"
            ],
            "text/plain": [
              "   Cities in East Bay   Age    Salary  Own Home?\n",
              "0                   1  44.0  172000.0          0\n",
              "1                   2  27.0  148000.0          1\n",
              "2                   0  30.0  154000.0          0\n",
              "3                   2  38.0  161000.0          0\n",
              "4                   0  40.0       NaN          1\n",
              "5                   1  35.0  158000.0          1\n",
              "6                   2   NaN  152000.0          0\n",
              "7                   1  48.0  179000.0          1\n",
              "8                   0  50.0  183000.0          0\n",
              "9                   1  37.0  167000.0          1"
            ]
          },
          "metadata": {
            "tags": []
          },
          "execution_count": 2
        }
      ]
    },
    {
      "metadata": {
        "id": "vGsqVOPhEEeW",
        "colab_type": "text"
      },
      "cell_type": "markdown",
      "source": [
        "## Stretch goal\n",
        "`LabelEncoding` suggests a value difference between different classes. Instead, explore `OneHotEncoder` [OneHotEncoder](http://scikit-learn.org/stable/modules/generated/sklearn.preprocessing.OneHotEncoder.html) to produce categorical labels that are not biased:\n"
      ]
    },
    {
      "metadata": {
        "id": "fLMNpcKOEYUm",
        "colab_type": "code",
        "colab": {
          "autoexec": {
            "startup": false,
            "wait_interval": 0
          }
        }
      },
      "cell_type": "code",
      "source": [
        "from sklearn.preprocessing import OneHotEncoder"
      ],
      "execution_count": 0,
      "outputs": []
    },
    {
      "metadata": {
        "id": "o8UbZTesJimD",
        "colab_type": "code",
        "colab": {
          "autoexec": {
            "startup": false,
            "wait_interval": 0
          },
          "base_uri": "https://localhost:8080/",
          "height": 357
        },
        "outputId": "6a6d7527-01cd-46ce-aa2b-55c6b0728a85",
        "executionInfo": {
          "status": "ok",
          "timestamp": 1523374397153,
          "user_tz": 420,
          "elapsed": 486,
          "user": {
            "displayName": "Ray Heberer",
            "photoUrl": "//lh4.googleusercontent.com/-BMlr5I5Dhow/AAAAAAAAAAI/AAAAAAAAABc/XW4PF5A8K2Q/s50-c-k-no/photo.jpg",
            "userId": "116545933704048584401"
          }
        }
      },
      "cell_type": "code",
      "source": [
        "cities_one_hot = OneHotEncoder().fit_transform(dataset[['Cities in East Bay']]).toarray()\n",
        "homes_one_hot = OneHotEncoder().fit_transform(dataset[['Own Home?']]).toarray()\n",
        "print(cities_one_hot)\n",
        "print(homes_one_hot)"
      ],
      "execution_count": 4,
      "outputs": [
        {
          "output_type": "stream",
          "text": [
            "[[0. 1. 0.]\n",
            " [0. 0. 1.]\n",
            " [1. 0. 0.]\n",
            " [0. 0. 1.]\n",
            " [1. 0. 0.]\n",
            " [0. 1. 0.]\n",
            " [0. 0. 1.]\n",
            " [0. 1. 0.]\n",
            " [1. 0. 0.]\n",
            " [0. 1. 0.]]\n",
            "[[1. 0.]\n",
            " [0. 1.]\n",
            " [1. 0.]\n",
            " [1. 0.]\n",
            " [0. 1.]\n",
            " [0. 1.]\n",
            " [1. 0.]\n",
            " [0. 1.]\n",
            " [1. 0.]\n",
            " [0. 1.]]\n"
          ],
          "name": "stdout"
        }
      ]
    },
    {
      "metadata": {
        "id": "r11lxJ_fHYks",
        "colab_type": "code",
        "colab": {
          "autoexec": {
            "startup": false,
            "wait_interval": 0
          }
        }
      },
      "cell_type": "code",
      "source": [
        "cities = pd.DataFrame(cities_one_hot, columns=['Dublin', 'Pleasanton', 'Walnut Creek'], dtype=np.int64)\n",
        "homes = pd.DataFrame(homes_one_hot, columns=['No Home', 'Own Home'], dtype=np.int64)"
      ],
      "execution_count": 0,
      "outputs": []
    },
    {
      "metadata": {
        "id": "06loEnTbLUmx",
        "colab_type": "code",
        "colab": {
          "autoexec": {
            "startup": false,
            "wait_interval": 0
          },
          "base_uri": "https://localhost:8080/",
          "height": 359
        },
        "outputId": "8e16630a-1c1c-4ca3-d868-47e7ee516501",
        "executionInfo": {
          "status": "ok",
          "timestamp": 1523374401758,
          "user_tz": 420,
          "elapsed": 469,
          "user": {
            "displayName": "Ray Heberer",
            "photoUrl": "//lh4.googleusercontent.com/-BMlr5I5Dhow/AAAAAAAAAAI/AAAAAAAAABc/XW4PF5A8K2Q/s50-c-k-no/photo.jpg",
            "userId": "116545933704048584401"
          }
        }
      },
      "cell_type": "code",
      "source": [
        "dataset = dataset.join([cities, homes]).drop(['Cities in East Bay', 'Own Home?'], axis=1)\n",
        "dataset"
      ],
      "execution_count": 6,
      "outputs": [
        {
          "output_type": "execute_result",
          "data": {
            "text/html": [
              "<div>\n",
              "<style scoped>\n",
              "    .dataframe tbody tr th:only-of-type {\n",
              "        vertical-align: middle;\n",
              "    }\n",
              "\n",
              "    .dataframe tbody tr th {\n",
              "        vertical-align: top;\n",
              "    }\n",
              "\n",
              "    .dataframe thead th {\n",
              "        text-align: right;\n",
              "    }\n",
              "</style>\n",
              "<table border=\"1\" class=\"dataframe\">\n",
              "  <thead>\n",
              "    <tr style=\"text-align: right;\">\n",
              "      <th></th>\n",
              "      <th>Age</th>\n",
              "      <th>Salary</th>\n",
              "      <th>Dublin</th>\n",
              "      <th>Pleasanton</th>\n",
              "      <th>Walnut Creek</th>\n",
              "      <th>No Home</th>\n",
              "      <th>Own Home</th>\n",
              "    </tr>\n",
              "  </thead>\n",
              "  <tbody>\n",
              "    <tr>\n",
              "      <th>0</th>\n",
              "      <td>44.0</td>\n",
              "      <td>172000.0</td>\n",
              "      <td>0</td>\n",
              "      <td>1</td>\n",
              "      <td>0</td>\n",
              "      <td>1</td>\n",
              "      <td>0</td>\n",
              "    </tr>\n",
              "    <tr>\n",
              "      <th>1</th>\n",
              "      <td>27.0</td>\n",
              "      <td>148000.0</td>\n",
              "      <td>0</td>\n",
              "      <td>0</td>\n",
              "      <td>1</td>\n",
              "      <td>0</td>\n",
              "      <td>1</td>\n",
              "    </tr>\n",
              "    <tr>\n",
              "      <th>2</th>\n",
              "      <td>30.0</td>\n",
              "      <td>154000.0</td>\n",
              "      <td>1</td>\n",
              "      <td>0</td>\n",
              "      <td>0</td>\n",
              "      <td>1</td>\n",
              "      <td>0</td>\n",
              "    </tr>\n",
              "    <tr>\n",
              "      <th>3</th>\n",
              "      <td>38.0</td>\n",
              "      <td>161000.0</td>\n",
              "      <td>0</td>\n",
              "      <td>0</td>\n",
              "      <td>1</td>\n",
              "      <td>1</td>\n",
              "      <td>0</td>\n",
              "    </tr>\n",
              "    <tr>\n",
              "      <th>4</th>\n",
              "      <td>40.0</td>\n",
              "      <td>NaN</td>\n",
              "      <td>1</td>\n",
              "      <td>0</td>\n",
              "      <td>0</td>\n",
              "      <td>0</td>\n",
              "      <td>1</td>\n",
              "    </tr>\n",
              "    <tr>\n",
              "      <th>5</th>\n",
              "      <td>35.0</td>\n",
              "      <td>158000.0</td>\n",
              "      <td>0</td>\n",
              "      <td>1</td>\n",
              "      <td>0</td>\n",
              "      <td>0</td>\n",
              "      <td>1</td>\n",
              "    </tr>\n",
              "    <tr>\n",
              "      <th>6</th>\n",
              "      <td>NaN</td>\n",
              "      <td>152000.0</td>\n",
              "      <td>0</td>\n",
              "      <td>0</td>\n",
              "      <td>1</td>\n",
              "      <td>1</td>\n",
              "      <td>0</td>\n",
              "    </tr>\n",
              "    <tr>\n",
              "      <th>7</th>\n",
              "      <td>48.0</td>\n",
              "      <td>179000.0</td>\n",
              "      <td>0</td>\n",
              "      <td>1</td>\n",
              "      <td>0</td>\n",
              "      <td>0</td>\n",
              "      <td>1</td>\n",
              "    </tr>\n",
              "    <tr>\n",
              "      <th>8</th>\n",
              "      <td>50.0</td>\n",
              "      <td>183000.0</td>\n",
              "      <td>1</td>\n",
              "      <td>0</td>\n",
              "      <td>0</td>\n",
              "      <td>1</td>\n",
              "      <td>0</td>\n",
              "    </tr>\n",
              "    <tr>\n",
              "      <th>9</th>\n",
              "      <td>37.0</td>\n",
              "      <td>167000.0</td>\n",
              "      <td>0</td>\n",
              "      <td>1</td>\n",
              "      <td>0</td>\n",
              "      <td>0</td>\n",
              "      <td>1</td>\n",
              "    </tr>\n",
              "  </tbody>\n",
              "</table>\n",
              "</div>"
            ],
            "text/plain": [
              "    Age    Salary  Dublin  Pleasanton  Walnut Creek  No Home  Own Home\n",
              "0  44.0  172000.0       0           1             0        1         0\n",
              "1  27.0  148000.0       0           0             1        0         1\n",
              "2  30.0  154000.0       1           0             0        1         0\n",
              "3  38.0  161000.0       0           0             1        1         0\n",
              "4  40.0       NaN       1           0             0        0         1\n",
              "5  35.0  158000.0       0           1             0        0         1\n",
              "6   NaN  152000.0       0           0             1        1         0\n",
              "7  48.0  179000.0       0           1             0        0         1\n",
              "8  50.0  183000.0       1           0             0        1         0\n",
              "9  37.0  167000.0       0           1             0        0         1"
            ]
          },
          "metadata": {
            "tags": []
          },
          "execution_count": 6
        }
      ]
    }
  ]
}