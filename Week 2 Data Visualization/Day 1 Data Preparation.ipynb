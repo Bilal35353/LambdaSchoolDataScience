{
  "nbformat": 4,
  "nbformat_minor": 0,
  "metadata": {
    "colab": {
      "name": "Data Preparation Code Challenge.ipynb",
      "version": "0.3.2",
      "views": {},
      "default_view": {},
      "provenance": [
        {
          "file_id": "1h36Oh01dlINb0-6cD0qjW609eh2m5IJu",
          "timestamp": 1523286171394
        },
        {
          "file_id": "11h8tJEap_yyG3z2Yj6A9GooLB4qYOZ5S",
          "timestamp": 1523284913389
        },
        {
          "file_id": "12DkW3_i-jh3PdK8nV02Tvx4il336ODda",
          "timestamp": 1523053132164
        }
      ],
      "collapsed_sections": []
    },
    "kernelspec": {
      "name": "python3",
      "display_name": "Python 3"
    }
  },
  "cells": [
    {
      "metadata": {
        "id": "PECjvvnAAkV2",
        "colab_type": "text"
      },
      "cell_type": "markdown",
      "source": [
        "\n",
        "Replace the missing values in the attached data set with the median of the age and salary columns respectively.\n",
        "\n",
        "The data set is posted here:\n",
        "\n",
        "https://www.dropbox.com/s/91tthp8h6hgxzi6/Data-CodeChallenge1.csv?raw=1\n",
        "\n"
      ]
    },
    {
      "metadata": {
        "id": "ujC8Ge9uBsEr",
        "colab_type": "code",
        "colab": {
          "autoexec": {
            "startup": false,
            "wait_interval": 0
          },
          "base_uri": "https://localhost:8080/",
          "height": 204
        },
        "outputId": "b5b0f0e2-a42f-463d-8f36-0273739425b0",
        "executionInfo": {
          "status": "ok",
          "timestamp": 1523287471701,
          "user_tz": 420,
          "elapsed": 2096,
          "user": {
            "displayName": "Ray Heberer",
            "photoUrl": "//lh4.googleusercontent.com/-BMlr5I5Dhow/AAAAAAAAAAI/AAAAAAAAABc/XW4PF5A8K2Q/s50-c-k-no/photo.jpg",
            "userId": "116545933704048584401"
          }
        }
      },
      "cell_type": "code",
      "source": [
        "import pandas as pd\n",
        "import numpy as np\n",
        "\n",
        "dataset = pd.read_csv('https://www.dropbox.com/s/91tthp8h6hgxzi6/Data-CodeChallenge1.csv?raw=1')\n",
        "\n",
        "print(dataset)"
      ],
      "execution_count": 1,
      "outputs": [
        {
          "output_type": "stream",
          "text": [
            "  Cities in East Bay   Age    Salary Own Home?\n",
            "0         Pleasanton  44.0  172000.0        No\n",
            "1       Walnut Creek  27.0  148000.0       Yes\n",
            "2             Dublin  30.0  154000.0        No\n",
            "3       Walnut Creek  38.0  161000.0        No\n",
            "4             Dublin  40.0       NaN       Yes\n",
            "5         Pleasanton  35.0  158000.0       Yes\n",
            "6       Walnut Creek   NaN  152000.0        No\n",
            "7         Pleasanton  48.0  179000.0       Yes\n",
            "8             Dublin  50.0  183000.0        No\n",
            "9         Pleasanton  37.0  167000.0       Yes\n"
          ],
          "name": "stdout"
        }
      ]
    },
    {
      "metadata": {
        "id": "2WYvC7Sw9lG_",
        "colab_type": "code",
        "colab": {
          "autoexec": {
            "startup": false,
            "wait_interval": 0
          }
        }
      },
      "cell_type": "code",
      "source": [
        "def fillna_mixed_columns(dataframe):\n",
        "    \"\"\"Fills missing dataframe values with the median value for numeric columns, ignoring non-numeric columns\n",
        "    https://stackoverflow.com/questions/25239958/impute-categorical-missing-values-in-scikit-learn\n",
        "    \n",
        "    Args:\n",
        "        dataframe (pandas.core.frame.DataFrame): dataframe with observations as rows and features as columns\n",
        "        \n",
        "    Returns:\n",
        "        dataframe with missing values in numeric columns filled with the columns' median values\n",
        "        \n",
        "    \"\"\"\n",
        "    fill = pd.Series([None if dataset[c].dtype == np.dtype('O') else dataset[c].median() for c in dataset], \n",
        "                     index=dataset.columns)\n",
        "    \n",
        "    return dataset.fillna(fill)"
      ],
      "execution_count": 0,
      "outputs": []
    },
    {
      "metadata": {
        "id": "tMjmfNxN-W8g",
        "colab_type": "code",
        "colab": {
          "autoexec": {
            "startup": false,
            "wait_interval": 0
          },
          "base_uri": "https://localhost:8080/",
          "height": 204
        },
        "outputId": "8dc821d0-7ce3-452f-8408-c5ca4fd4b875",
        "executionInfo": {
          "status": "ok",
          "timestamp": 1523287474975,
          "user_tz": 420,
          "elapsed": 879,
          "user": {
            "displayName": "Ray Heberer",
            "photoUrl": "//lh4.googleusercontent.com/-BMlr5I5Dhow/AAAAAAAAAAI/AAAAAAAAABc/XW4PF5A8K2Q/s50-c-k-no/photo.jpg",
            "userId": "116545933704048584401"
          }
        }
      },
      "cell_type": "code",
      "source": [
        "dataset_filled = fillna_mixed_columns(dataset)\n",
        "print(dataset_filled)"
      ],
      "execution_count": 3,
      "outputs": [
        {
          "output_type": "stream",
          "text": [
            "  Cities in East Bay   Age    Salary Own Home?\n",
            "0         Pleasanton  44.0  172000.0        No\n",
            "1       Walnut Creek  27.0  148000.0       Yes\n",
            "2             Dublin  30.0  154000.0        No\n",
            "3       Walnut Creek  38.0  161000.0        No\n",
            "4             Dublin  40.0  161000.0       Yes\n",
            "5         Pleasanton  35.0  158000.0       Yes\n",
            "6       Walnut Creek  38.0  152000.0        No\n",
            "7         Pleasanton  48.0  179000.0       Yes\n",
            "8             Dublin  50.0  183000.0        No\n",
            "9         Pleasanton  37.0  167000.0       Yes\n"
          ],
          "name": "stdout"
        }
      ]
    }
  ]
}