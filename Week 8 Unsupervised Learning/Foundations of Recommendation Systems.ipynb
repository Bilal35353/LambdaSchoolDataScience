{
  "nbformat": 4,
  "nbformat_minor": 0,
  "metadata": {
    "colab": {
      "name": "Foundations of Recommendation Systems.ipynb",
      "version": "0.3.2",
      "views": {},
      "default_view": {},
      "provenance": [
        {
          "file_id": "1t8UDW8ugQdLeQzia33mObFdkzniBpuRr",
          "timestamp": 1527183725835
        },
        {
          "file_id": "1u296zcxAZ6VwJj5ZUrqYOOvsXTUEEMPq",
          "timestamp": 1527121016598
        },
        {
          "file_id": "1xAOgqtE4y4E3m11yhPrcICvSaEntxAYl",
          "timestamp": 1526913032354
        }
      ]
    },
    "kernelspec": {
      "name": "python3",
      "display_name": "Python 3"
    }
  },
  "cells": [
    {
      "metadata": {
        "id": "-wFtf2ME1PD6",
        "colab_type": "text"
      },
      "cell_type": "markdown",
      "source": [
        "**Ojectives:**\n",
        "\n",
        "1) Acquire an understanding of the different techniques for making recommendations \n",
        "\n",
        "2) Utilize Matrix Factorization to estimate/predict missing user ratings\n",
        " \n",
        "3) Measure Recommendation Accuracy"
      ]
    },
    {
      "metadata": {
        "id": "c3Ch-foO-7QN",
        "colab_type": "text"
      },
      "cell_type": "markdown",
      "source": [
        "### Objective 1: Acquire an understanding of the different flavors/techniques for making recommendations"
      ]
    },
    {
      "metadata": {
        "id": "F4mKuNRHBCJz",
        "colab_type": "text"
      },
      "cell_type": "markdown",
      "source": [
        "**1)** **Content-based Recommendations** i.e. recommend products/items based on the attibutes of the product/item\n",
        "\n",
        "Content-based recommendation engines utilize their knowledge of the attibutes of each product/item to recommend new products/items. \n",
        "\n",
        "Let's say that you inform your colleague at work that you just watched the movie **Rock** starring *Nicholas Cage* and that you really liked the movie. Based on this information, your colleague might recommend that you watch the movie **Con Air** next. Both movies are Action-packed Thrillers and both movies feature the same movie star. It could be a good recommendation because the movies have a few attributes in common. This is the fundamental idea behind content-based recommendation engines. Content-based recommendation engines recommend products that have similar attributes to a product that the user already liked.\n",
        "\n",
        "**Point to Note**: Content-based recommendations can be effective only if you have *descriptive data* available for each product/item that you want to recommend. However, creating detailed information for each product/item in your inventory is not only a time-consuming process but it also introduces a fair degree of subjectivity that can throw off your recommendation results.\n",
        "\n",
        "**2)** **Collaborative Filtering** i.e. recommend products solely based on user ratings\n",
        "\n",
        "Collaborative filtering recommendation engines generate recommendations solely based on how users rated products in the past; it only possesses knowledge on how other users rated the product and it uses those past ratings to make new recommendations.\n",
        "\n",
        "Let's say that **Thomson** has rated the following movies:\n",
        "\n",
        "Rock: 5-Star\n",
        "\n",
        "Con Air: 5-Star\n",
        "\n",
        "Finding Nemo: 2-Star\n",
        "\n",
        "Kubo and the 2 Strings: 1-Star\n",
        "\n",
        "\n",
        "**Caleb** has given the following ratings to the movies:\n",
        "\n",
        "Rock: 5 Star\n",
        "\n",
        "Con Air: (No Rating)\n",
        "\n",
        "Finding Nemo: 2-Star\n",
        "\n",
        "Kubo and the 2 Strings: (No Rating)\n",
        "\n",
        "\n",
        "**Aaron** has given the following ratings to the movies:\n",
        "\n",
        "Rock: 2 Star\n",
        "\n",
        "Con Air: 1 Star\n",
        "\n",
        "Finding Nemo: 5-Star\n",
        "\n",
        "Kubo and the 2 Strings: 4-Star\n",
        "\n",
        "**Susanna** has given the following ratings to the movies:\n",
        "\n",
        "Rock: 2 Star\n",
        "\n",
        "Con Air: 1 Star\n",
        "\n",
        "Finding Nemo: 5-Star\n",
        "\n",
        "Kubo and the 2 Strings: 4-Star\n",
        "\n",
        "\n",
        "Based on the user rating, a Collaborative filtering recommendation engine would recomend the movie \"Con Air\" to Caleb since Thomson and Caleb seem to have similar tastes.\n",
        "\n",
        "**Collaborative filtering **has an advantage over content-based recommendations. Once you have user review data, you can build a collaborative filtering recommendation system. No knowledge about the attributes of the products/items being recommended is required. However if there is no information on user reviews/ratings, recommendations cannot be made.\n",
        "\n",
        "**Some limitations of Collaborative Filtering:**\n",
        "\n",
        "Collaborative Filtering only works when you already have user reviews to work from. If you do not have any reviews, you cannot make recommendations. Also, collaborative filtering tends to favor items with lots of reviews over items with few reviews. This can make it difficult for users to uncover new releases since they are not likely to get recommended as often.\n",
        "\n",
        "\n"
      ]
    },
    {
      "metadata": {
        "id": "_JxZrUR5VzUh",
        "colab_type": "text"
      },
      "cell_type": "markdown",
      "source": [
        "### Objective 2: Utilize Matrix Factorization to estimate/predict missing user ratings"
      ]
    },
    {
      "metadata": {
        "id": "SYk5LojEamca",
        "colab_type": "text"
      },
      "cell_type": "markdown",
      "source": [
        "To develop a framework for making recommendations, we will walk-through an example:\n",
        "\n",
        "**Goal**: Predict missing user ratings so that recommendations about similar products/items (i.e. movies for the purposes of this example) can be made\n",
        "\n",
        "**Available Data**: **a)** User ratings for movies, **b)** List of movie titles and the respective genres\n",
        "\n",
        "**Process**: In order to compute missing user ratings, we need 2 key pieces of information:\n",
        "\n",
        "1) the user preferences across a range of attributes (the attributes could encompass Action, Comedy, Romance, Horror, etc.) \n",
        "\n",
        "2) the ratings for *each* movie across the same set of attributes\n",
        "\n",
        "We will utilize the \"User ratings for movies\" data set to factor out a \"User Ratings\" matrix as well as a \"Movie Rating\" matrix. Once we have the 2 pieces of information highlighted above, we will leverage the concepts of Linear Algebra (i.e. **Matrix Multiplication**) to arrive at a value for \"User Movie Rating\" for each movie across every user which will provide an estimate/prediction for the missing user ratings so that the appropriate recommendations can be surfaced to each user\n",
        "\n",
        "**User Movie Ratings** = User Ratings (across attributes) **X** Movie Ratings (across the same set of attributes) \n",
        "\n",
        "*Point to note*: When computing the following matrices: User Ratings (across attributes) and the Movie Ratings (across attributes), we have no idea what each attribute/feature is. All we know is that each attribute/feature represents some characteristic that has attracted users to certain products/items (in this case movies). Since we are unsure of how to describe those characteristics in words, they are deemed as **latent** features. The word latent just means hidden. \n",
        "\n"
      ]
    },
    {
      "metadata": {
        "id": "fSfcLChFuBNm",
        "colab_type": "code",
        "colab": {
          "autoexec": {
            "startup": false,
            "wait_interval": 0
          },
          "base_uri": "https://localhost:8080/",
          "height": 195
        },
        "outputId": "798c3e01-8da6-4fde-a5e2-37664975b6e6",
        "executionInfo": {
          "status": "ok",
          "timestamp": 1527379709436,
          "user_tz": 420,
          "elapsed": 1102,
          "user": {
            "displayName": "Ray Heberer",
            "photoUrl": "//lh4.googleusercontent.com/-BMlr5I5Dhow/AAAAAAAAAAI/AAAAAAAAABc/XW4PF5A8K2Q/s50-c-k-no/photo.jpg",
            "userId": "116545933704048584401"
          }
        }
      },
      "cell_type": "code",
      "source": [
        "# Import the requisite packages\n",
        "import numpy as np\n",
        "import pandas as pd\n",
        "\n",
        "\n",
        "df = pd.read_csv('https://www.dropbox.com/s/4ec9l887mth6rep/movie_ratings.csv?raw=1')\n",
        "df.head()"
      ],
      "execution_count": 2,
      "outputs": [
        {
          "output_type": "execute_result",
          "data": {
            "text/html": [
              "<div>\n",
              "<style scoped>\n",
              "    .dataframe tbody tr th:only-of-type {\n",
              "        vertical-align: middle;\n",
              "    }\n",
              "\n",
              "    .dataframe tbody tr th {\n",
              "        vertical-align: top;\n",
              "    }\n",
              "\n",
              "    .dataframe thead th {\n",
              "        text-align: right;\n",
              "    }\n",
              "</style>\n",
              "<table border=\"1\" class=\"dataframe\">\n",
              "  <thead>\n",
              "    <tr style=\"text-align: right;\">\n",
              "      <th></th>\n",
              "      <th>userid</th>\n",
              "      <th>movieid</th>\n",
              "      <th>rating</th>\n",
              "    </tr>\n",
              "  </thead>\n",
              "  <tbody>\n",
              "    <tr>\n",
              "      <th>0</th>\n",
              "      <td>1</td>\n",
              "      <td>28</td>\n",
              "      <td>4</td>\n",
              "    </tr>\n",
              "    <tr>\n",
              "      <th>1</th>\n",
              "      <td>1</td>\n",
              "      <td>26</td>\n",
              "      <td>4</td>\n",
              "    </tr>\n",
              "    <tr>\n",
              "      <th>2</th>\n",
              "      <td>1</td>\n",
              "      <td>9</td>\n",
              "      <td>4</td>\n",
              "    </tr>\n",
              "    <tr>\n",
              "      <th>3</th>\n",
              "      <td>1</td>\n",
              "      <td>1</td>\n",
              "      <td>4</td>\n",
              "    </tr>\n",
              "    <tr>\n",
              "      <th>4</th>\n",
              "      <td>1</td>\n",
              "      <td>14</td>\n",
              "      <td>4</td>\n",
              "    </tr>\n",
              "  </tbody>\n",
              "</table>\n",
              "</div>"
            ],
            "text/plain": [
              "   userid  movieid  rating\n",
              "0       1       28       4\n",
              "1       1       26       4\n",
              "2       1        9       4\n",
              "3       1        1       4\n",
              "4       1       14       4"
            ]
          },
          "metadata": {
            "tags": []
          },
          "execution_count": 2
        }
      ]
    },
    {
      "metadata": {
        "id": "irKtXb8723Fs",
        "colab_type": "code",
        "colab": {
          "autoexec": {
            "startup": false,
            "wait_interval": 0
          },
          "base_uri": "https://localhost:8080/",
          "height": 283
        },
        "outputId": "12e64b2e-6dbf-4a05-ee29-728cfacf83ac",
        "executionInfo": {
          "status": "ok",
          "timestamp": 1527379719329,
          "user_tz": 420,
          "elapsed": 397,
          "user": {
            "displayName": "Ray Heberer",
            "photoUrl": "//lh4.googleusercontent.com/-BMlr5I5Dhow/AAAAAAAAAAI/AAAAAAAAABc/XW4PF5A8K2Q/s50-c-k-no/photo.jpg",
            "userId": "116545933704048584401"
          }
        }
      },
      "cell_type": "code",
      "source": [
        "# Transpose the dataset set so that the columns represent the individual movies\n",
        "df_pivot = pd.pivot_table(df, index='userid', columns='movieid', aggfunc=np.max).fillna(0)\n",
        "df_pivot.head()"
      ],
      "execution_count": 3,
      "outputs": [
        {
          "output_type": "execute_result",
          "data": {
            "text/html": [
              "<div>\n",
              "<style scoped>\n",
              "    .dataframe tbody tr th:only-of-type {\n",
              "        vertical-align: middle;\n",
              "    }\n",
              "\n",
              "    .dataframe tbody tr th {\n",
              "        vertical-align: top;\n",
              "    }\n",
              "\n",
              "    .dataframe thead tr th {\n",
              "        text-align: left;\n",
              "    }\n",
              "\n",
              "    .dataframe thead tr:last-of-type th {\n",
              "        text-align: right;\n",
              "    }\n",
              "</style>\n",
              "<table border=\"1\" class=\"dataframe\">\n",
              "  <thead>\n",
              "    <tr>\n",
              "      <th></th>\n",
              "      <th colspan=\"21\" halign=\"left\">rating</th>\n",
              "    </tr>\n",
              "    <tr>\n",
              "      <th>movieid</th>\n",
              "      <th>1</th>\n",
              "      <th>2</th>\n",
              "      <th>3</th>\n",
              "      <th>4</th>\n",
              "      <th>5</th>\n",
              "      <th>6</th>\n",
              "      <th>7</th>\n",
              "      <th>8</th>\n",
              "      <th>9</th>\n",
              "      <th>10</th>\n",
              "      <th>...</th>\n",
              "      <th>25</th>\n",
              "      <th>26</th>\n",
              "      <th>27</th>\n",
              "      <th>28</th>\n",
              "      <th>29</th>\n",
              "      <th>30</th>\n",
              "      <th>31</th>\n",
              "      <th>32</th>\n",
              "      <th>33</th>\n",
              "      <th>34</th>\n",
              "    </tr>\n",
              "    <tr>\n",
              "      <th>userid</th>\n",
              "      <th></th>\n",
              "      <th></th>\n",
              "      <th></th>\n",
              "      <th></th>\n",
              "      <th></th>\n",
              "      <th></th>\n",
              "      <th></th>\n",
              "      <th></th>\n",
              "      <th></th>\n",
              "      <th></th>\n",
              "      <th></th>\n",
              "      <th></th>\n",
              "      <th></th>\n",
              "      <th></th>\n",
              "      <th></th>\n",
              "      <th></th>\n",
              "      <th></th>\n",
              "      <th></th>\n",
              "      <th></th>\n",
              "      <th></th>\n",
              "      <th></th>\n",
              "    </tr>\n",
              "  </thead>\n",
              "  <tbody>\n",
              "    <tr>\n",
              "      <th>1</th>\n",
              "      <td>4.0</td>\n",
              "      <td>0.0</td>\n",
              "      <td>0.0</td>\n",
              "      <td>0.0</td>\n",
              "      <td>0.0</td>\n",
              "      <td>0.0</td>\n",
              "      <td>0.0</td>\n",
              "      <td>0.0</td>\n",
              "      <td>4.0</td>\n",
              "      <td>0.0</td>\n",
              "      <td>...</td>\n",
              "      <td>0.0</td>\n",
              "      <td>4.0</td>\n",
              "      <td>0.0</td>\n",
              "      <td>4.0</td>\n",
              "      <td>0.0</td>\n",
              "      <td>0.0</td>\n",
              "      <td>0.0</td>\n",
              "      <td>0.0</td>\n",
              "      <td>0.0</td>\n",
              "      <td>0.0</td>\n",
              "    </tr>\n",
              "    <tr>\n",
              "      <th>2</th>\n",
              "      <td>5.0</td>\n",
              "      <td>5.0</td>\n",
              "      <td>0.0</td>\n",
              "      <td>0.0</td>\n",
              "      <td>0.0</td>\n",
              "      <td>0.0</td>\n",
              "      <td>0.0</td>\n",
              "      <td>0.0</td>\n",
              "      <td>0.0</td>\n",
              "      <td>0.0</td>\n",
              "      <td>...</td>\n",
              "      <td>0.0</td>\n",
              "      <td>0.0</td>\n",
              "      <td>0.0</td>\n",
              "      <td>0.0</td>\n",
              "      <td>0.0</td>\n",
              "      <td>0.0</td>\n",
              "      <td>3.0</td>\n",
              "      <td>0.0</td>\n",
              "      <td>0.0</td>\n",
              "      <td>4.0</td>\n",
              "    </tr>\n",
              "    <tr>\n",
              "      <th>3</th>\n",
              "      <td>4.0</td>\n",
              "      <td>4.0</td>\n",
              "      <td>5.0</td>\n",
              "      <td>0.0</td>\n",
              "      <td>0.0</td>\n",
              "      <td>0.0</td>\n",
              "      <td>0.0</td>\n",
              "      <td>0.0</td>\n",
              "      <td>0.0</td>\n",
              "      <td>0.0</td>\n",
              "      <td>...</td>\n",
              "      <td>0.0</td>\n",
              "      <td>0.0</td>\n",
              "      <td>0.0</td>\n",
              "      <td>0.0</td>\n",
              "      <td>0.0</td>\n",
              "      <td>0.0</td>\n",
              "      <td>0.0</td>\n",
              "      <td>0.0</td>\n",
              "      <td>0.0</td>\n",
              "      <td>0.0</td>\n",
              "    </tr>\n",
              "    <tr>\n",
              "      <th>4</th>\n",
              "      <td>5.0</td>\n",
              "      <td>5.0</td>\n",
              "      <td>0.0</td>\n",
              "      <td>5.0</td>\n",
              "      <td>5.0</td>\n",
              "      <td>0.0</td>\n",
              "      <td>0.0</td>\n",
              "      <td>0.0</td>\n",
              "      <td>0.0</td>\n",
              "      <td>0.0</td>\n",
              "      <td>...</td>\n",
              "      <td>0.0</td>\n",
              "      <td>0.0</td>\n",
              "      <td>0.0</td>\n",
              "      <td>0.0</td>\n",
              "      <td>0.0</td>\n",
              "      <td>0.0</td>\n",
              "      <td>0.0</td>\n",
              "      <td>0.0</td>\n",
              "      <td>0.0</td>\n",
              "      <td>0.0</td>\n",
              "    </tr>\n",
              "    <tr>\n",
              "      <th>5</th>\n",
              "      <td>5.0</td>\n",
              "      <td>0.0</td>\n",
              "      <td>0.0</td>\n",
              "      <td>0.0</td>\n",
              "      <td>0.0</td>\n",
              "      <td>0.0</td>\n",
              "      <td>0.0</td>\n",
              "      <td>0.0</td>\n",
              "      <td>5.0</td>\n",
              "      <td>0.0</td>\n",
              "      <td>...</td>\n",
              "      <td>0.0</td>\n",
              "      <td>0.0</td>\n",
              "      <td>0.0</td>\n",
              "      <td>0.0</td>\n",
              "      <td>3.0</td>\n",
              "      <td>0.0</td>\n",
              "      <td>3.0</td>\n",
              "      <td>2.0</td>\n",
              "      <td>5.0</td>\n",
              "      <td>5.0</td>\n",
              "    </tr>\n",
              "  </tbody>\n",
              "</table>\n",
              "<p>5 rows × 34 columns</p>\n",
              "</div>"
            ],
            "text/plain": [
              "        rating                                              ...             \\\n",
              "movieid     1    2    3    4    5    6    7    8    9    10 ...    25   26   \n",
              "userid                                                      ...              \n",
              "1          4.0  0.0  0.0  0.0  0.0  0.0  0.0  0.0  4.0  0.0 ...   0.0  4.0   \n",
              "2          5.0  5.0  0.0  0.0  0.0  0.0  0.0  0.0  0.0  0.0 ...   0.0  0.0   \n",
              "3          4.0  4.0  5.0  0.0  0.0  0.0  0.0  0.0  0.0  0.0 ...   0.0  0.0   \n",
              "4          5.0  5.0  0.0  5.0  5.0  0.0  0.0  0.0  0.0  0.0 ...   0.0  0.0   \n",
              "5          5.0  0.0  0.0  0.0  0.0  0.0  0.0  0.0  5.0  0.0 ...   0.0  0.0   \n",
              "\n",
              "                                                 \n",
              "movieid   27   28   29   30   31   32   33   34  \n",
              "userid                                           \n",
              "1        0.0  4.0  0.0  0.0  0.0  0.0  0.0  0.0  \n",
              "2        0.0  0.0  0.0  0.0  3.0  0.0  0.0  4.0  \n",
              "3        0.0  0.0  0.0  0.0  0.0  0.0  0.0  0.0  \n",
              "4        0.0  0.0  0.0  0.0  0.0  0.0  0.0  0.0  \n",
              "5        0.0  0.0  3.0  0.0  3.0  2.0  5.0  5.0  \n",
              "\n",
              "[5 rows x 34 columns]"
            ]
          },
          "metadata": {
            "tags": []
          },
          "execution_count": 3
        }
      ]
    },
    {
      "metadata": {
        "id": "I6duS5vBFwDn",
        "colab_type": "text"
      },
      "cell_type": "markdown",
      "source": [
        "We will utilize ** Matrix Factorization** to arrive at the 2 matrices i.e. **a)** User Ratings (across attributes)** b) ** Movie Ratings (across attributes). Once we have the 2 matrices, we will compute the \"dot\" product of the 2 matrices to come up with an estimate/prediction for the  missing user ratings \n",
        "\n",
        "There are a few different variations of the \"Matrix Factorization\" implementation, we will use the code put together by Albert Yeung: http://www.quuxlabs.com/wp-content/uploads/2010/09/mf.py_.txt\n",
        "\n",
        "The mathematics behind \"Matrix Factorization\" can be reviewed here: http://www.quuxlabs.com/blog/2010/09/matrix-factorization-a-simple-tutorial-and-implementation-in-python/#source-code\n",
        "\n",
        "Another resource on the concepts of \"Matrix Factorization\": https://www.youtube.com/watch?v=o8PiWO8C3zs\n",
        "\n",
        "\n"
      ]
    },
    {
      "metadata": {
        "id": "Bobs6WxUL9ht",
        "colab_type": "code",
        "colab": {
          "autoexec": {
            "startup": false,
            "wait_interval": 0
          }
        }
      },
      "cell_type": "code",
      "source": [
        "#\n",
        "# Created by Albert Au Yeung (2010)\n",
        "#\n",
        "# An implementation of matrix factorization\n",
        "#\n",
        "\n",
        "def matrix_factorization(R, P, Q, K, steps=5000, alpha=0.0002, beta=0.02):\n",
        "    \"\"\"\n",
        "    R     : a matrix to be factorized, dimension N x M\n",
        "    P     : an initial matrix of dimension N x K\n",
        "    Q     : an initial matrix of dimension M x K\n",
        "    K     : the number of latent features\n",
        "    steps : the maximum number of steps to perform the optimization\n",
        "    alpha : the learning rate\n",
        "    beta  : the regularization parameter  \n",
        "    \"\"\"\n",
        "    Q = Q.T\n",
        "    for step in range(steps):\n",
        "        for i in range(len(R)):\n",
        "            for j in range(len(R[i])):\n",
        "                if R[i][j] > 0:\n",
        "                    eij = R[i][j] - np.dot(P[i,:],Q[:,j])\n",
        "                    for k in range(K):\n",
        "                        P[i][k] = P[i][k] + alpha * (2 * eij * Q[k][j] - beta * P[i][k])\n",
        "                        Q[k][j] = Q[k][j] + alpha * (2 * eij * P[i][k] - beta * Q[k][j])\n",
        "        eR = np.dot(P,Q)\n",
        "        e = 0\n",
        "        for i in range(len(R)):\n",
        "            for j in range(len(R[i])):\n",
        "                if R[i][j] > 0:\n",
        "                    e = e + pow(R[i][j] - np.dot(P[i,:],Q[:,j]), 2)\n",
        "                    for k in range(K):\n",
        "                        e = e + (beta/2) * ( pow(P[i][k],2) + pow(Q[k][j],2) )\n",
        "        if e < 0.001:\n",
        "            break\n",
        "    return P, Q.T"
      ],
      "execution_count": 0,
      "outputs": []
    },
    {
      "metadata": {
        "id": "0P2rvOAZMAfW",
        "colab_type": "code",
        "colab": {
          "autoexec": {
            "startup": false,
            "wait_interval": 0
          }
        }
      },
      "cell_type": "code",
      "source": [
        "R = df_pivot.as_matrix()\n",
        "N = len(R)\n",
        "M = len(R[0])\n",
        "K = 2\n",
        "\n",
        "P = np.random.rand(N,K) # Matrix of user attributes\n",
        "Q = np.random.rand(M,K) # Matrix of movie attributes\n",
        "\n",
        "nP, nQ = matrix_factorization(R, P, Q, K)"
      ],
      "execution_count": 0,
      "outputs": []
    },
    {
      "metadata": {
        "id": "qejbQxY1NRhk",
        "colab_type": "code",
        "colab": {
          "autoexec": {
            "startup": false,
            "wait_interval": 0
          },
          "base_uri": "https://localhost:8080/",
          "height": 151
        },
        "outputId": "eaa46715-e8db-4aee-c313-5f11cde50aeb",
        "executionInfo": {
          "status": "ok",
          "timestamp": 1527379958725,
          "user_tz": 420,
          "elapsed": 308,
          "user": {
            "displayName": "Ray Heberer",
            "photoUrl": "//lh4.googleusercontent.com/-BMlr5I5Dhow/AAAAAAAAAAI/AAAAAAAAABc/XW4PF5A8K2Q/s50-c-k-no/photo.jpg",
            "userId": "116545933704048584401"
          }
        }
      },
      "cell_type": "code",
      "source": [
        "# User Movie Ratings = User Ratings (across attributes) **X** Movie Ratings (across the same set of attributes) \n",
        "\n",
        "nR = np.dot(nP, nQ.T)\n",
        "\n",
        "print(nR) # Estimate/Prediction for the user movie ratings\n",
        "print(nR.shape)"
      ],
      "execution_count": 6,
      "outputs": [
        {
          "output_type": "stream",
          "text": [
            "[[4.19368366 4.18077229 4.28039414 ... 3.7404349  3.39718901 3.8301139 ]\n",
            " [4.771809   4.70201039 4.94505649 ... 4.30421465 3.96299167 4.31213904]\n",
            " [4.14783134 4.0926242  4.29102881 ... 3.73660792 3.43511176 3.75282865]\n",
            " ...\n",
            " [5.54433686 5.46586961 5.74207077 ... 4.99874318 4.59992217 5.01244455]\n",
            " [4.11917113 4.12124891 4.1843648  ... 3.6610826  3.31071999 3.77437627]\n",
            " [3.52664435 3.34710514 3.82785994 ... 3.2928358  3.1552184  3.08016069]]\n",
            "(100, 34)\n"
          ],
          "name": "stdout"
        }
      ]
    },
    {
      "metadata": {
        "id": "oMorEFt-jIyj",
        "colab_type": "text"
      },
      "cell_type": "markdown",
      "source": [
        "### Objective 3: Measure Recommendation Accuracy"
      ]
    },
    {
      "metadata": {
        "id": "kn1vvqjakGA-",
        "colab_type": "text"
      },
      "cell_type": "markdown",
      "source": [
        "To measure the accuracy of estimated \"User Movie Ratings\" , we will use a  statistical metric called root-mean-square-error (RMSE). RMSE is a meaure of the difference between the user's *actual *movie ratings and the ratings that were predicted for the same movies. \n",
        "\n",
        "The lower the root-mean-square-error, the more accurate the model. A root-mean-square-error of zero means our model perfectly estimates user ratings. If the root-mean-square-error for the test set is much higher than that of the training set, it is likely that you may have overfitted the data. In this example scenario, we are off by about one rating star on average when predicting user ratings.\n",
        "\n",
        "We could adjust the **regularization** amount parameter to improve the accuracy of the recommendations. Regularization limits the amount of weight we place on a single attribute when finding user/item features with matrix factorization. The higher we set the regularization amount, the less weight we put on any single attribute. When you are building a recommendation engine, you will want to experiment with different regularization values to see how it affects the quality of your recommendations.\n",
        "\n",
        "**Note**: One limitation that we faced in this example scenario is that we only had a few hundred movie reviews to work with; the best thing that could be done to improve accuracy in this case is to get more user reviews. More movie reviews will give our engine more information to work with so it can do a better job of making recommendations.\n",
        "\n",
        "\n",
        "\n"
      ]
    },
    {
      "metadata": {
        "id": "ldJp1JPcjSyM",
        "colab_type": "code",
        "colab": {
          "autoexec": {
            "startup": false,
            "wait_interval": 0
          },
          "base_uri": "https://localhost:8080/",
          "height": 50
        },
        "outputId": "e6be0f11-1a95-4256-914b-1b78be87910c",
        "executionInfo": {
          "status": "ok",
          "timestamp": 1527380035287,
          "user_tz": 420,
          "elapsed": 57054,
          "user": {
            "displayName": "Ray Heberer",
            "photoUrl": "//lh4.googleusercontent.com/-BMlr5I5Dhow/AAAAAAAAAAI/AAAAAAAAABc/XW4PF5A8K2Q/s50-c-k-no/photo.jpg",
            "userId": "116545933704048584401"
          }
        }
      },
      "cell_type": "code",
      "source": [
        "# Load user ratings\n",
        "df_training = pd.read_csv('https://www.dropbox.com/s/ej76ujnyxmxn2mi/movie_ratings_training.csv?raw=1')\n",
        "df_testing = pd.read_csv('https://www.dropbox.com/s/h5jwlmnaxu5xdvq/movie_ratings_testing.csv?raw=1')\n",
        "\n",
        "# Convert the running list of user ratings into a matrix\n",
        "df_training = pd.pivot_table(df_training, index='userid', columns='movieid', aggfunc=np.max)\n",
        "df_testing = pd.pivot_table(df_testing, index='userid', columns='movieid', aggfunc=np.max)\n",
        "\n",
        "R = df_training.as_matrix()\n",
        "N = len(R)\n",
        "M = len(R[0])\n",
        "K = 2\n",
        "\n",
        "P = np.random.rand(N,K) # Matrix of user attributes\n",
        "Q = np.random.rand(M,K) # Matrix of movie attributes\n",
        "\n",
        "nP, nQ = matrix_factorization(R, P, Q, K)\n",
        "\n",
        "# Find all predicted ratings by multiplying nP and nQ \n",
        "   \n",
        "nR = np.dot(nP, nQ.T)\n",
        "\n",
        "# print(nR) # Estimate/Prediction for the user movie ratings\n",
        "\n",
        "def RMSE(real, predicted):\n",
        "    return np.sqrt(np.nanmean(np.square(real - predicted)))\n",
        "\n",
        "# Measure RMSE\n",
        "training_rmse = RMSE(df_training.as_matrix(), nR)\n",
        "testing_rmse = RMSE(df_testing.as_matrix(), nR)\n",
        "\n",
        "print(\"Training RMSE is: {}\".format(training_rmse))\n",
        "print(\"Testing RMSE is: {}\".format(testing_rmse))"
      ],
      "execution_count": 8,
      "outputs": [
        {
          "output_type": "stream",
          "text": [
            "Training RMSE is: 0.6116257049842198\n",
            "Testing RMSE is: 1.2945968240973091\n"
          ],
          "name": "stdout"
        }
      ]
    },
    {
      "metadata": {
        "id": "lVvrYn4WgWqz",
        "colab_type": "text"
      },
      "cell_type": "markdown",
      "source": [
        "**Additional Resources on Collaborative Filtering for your reference:** https://towardsdatascience.com/various-implementations-of-collaborative-filtering-100385c6dfe0"
      ]
    },
    {
      "metadata": {
        "id": "YNEmHziOtA6q",
        "colab_type": "text"
      },
      "cell_type": "markdown",
      "source": [
        "# Assignment"
      ]
    },
    {
      "metadata": {
        "id": "ZtCTNdlQtJio",
        "colab_type": "text"
      },
      "cell_type": "markdown",
      "source": [
        "Write a function `recommend_for_user(user)` that takes a user and returns the top 5 recommended movies for them to watch that they have not already rated.\n",
        "\n",
        "You should use the code from the lecture and coding challenge, and experiment with different approaches - you can use the predicted ratings we generated above, and you can experiment with different distance measurements or hybrid approaches (considering item similarity). You can also try an approach where e.g. you find the `n` users most similar to the given user, and average their preferences to generate new ratings and recommendations.\n",
        "\n",
        "The end result should be a function that is reusable and suitable for an application and that satisfies this spec:\n",
        "\n",
        "```\n",
        "def recommend_for_user(user, n=5):\n",
        "  \"\"\"\n",
        "  Generate movie recommendations for a user.\n",
        "  Input: userId (from MovieLens data)\n",
        "  Output: list of tuples (movieId, predictedRating) of top n movies recommended for user (not previously rated by them)\n",
        "  \"\"\"\n",
        "  pass\n",
        "```\n",
        "\n",
        "As a stretch goal, prepare the data such that you generate test data - get a subset of users and drop some of their top ratings (favorite movies), then generate recommendations for them and see if they get recommended those movies and at what rating.\n",
        "\n",
        "Part of the goal here is to think about making your code general and reusable, so it could plug into an actual live recommendation system. As a super-stretch goal, you can explore popular Python web application frameworks - these are the tools used to build the back-end that exposes an API so data can be displayed to the user.\n",
        "\n",
        "- http://flask.pocoo.org/ - popular minimal framework\n",
        "- https://www.djangoproject.com/ - \"industry-grade\" framework (more complicated, includes more features)\n",
        "\n",
        "In a real-world situation, your role in a team could be ensuring that the API endpoint for generating recommendations does what it should (so everyone else can build on it). In web application terminology, this means that some route (e.g. `/recommendations/<user>`) can accept requests and return JSON data in response, essentially wrapping the function you built for this assignment."
      ]
    },
    {
      "metadata": {
        "id": "9q0pTZjK_Z7A",
        "colab_type": "code",
        "colab": {
          "autoexec": {
            "startup": false,
            "wait_interval": 0
          },
          "base_uri": "https://localhost:8080/",
          "height": 50
        },
        "outputId": "b473abe5-178f-4823-b0d5-537274240ac3",
        "executionInfo": {
          "status": "ok",
          "timestamp": 1527380978059,
          "user_tz": 420,
          "elapsed": 325,
          "user": {
            "displayName": "Ray Heberer",
            "photoUrl": "//lh4.googleusercontent.com/-BMlr5I5Dhow/AAAAAAAAAAI/AAAAAAAAABc/XW4PF5A8K2Q/s50-c-k-no/photo.jpg",
            "userId": "116545933704048584401"
          }
        }
      },
      "cell_type": "code",
      "source": [
        "np.argsort(nR[0])"
      ],
      "execution_count": 24,
      "outputs": [
        {
          "output_type": "execute_result",
          "data": {
            "text/plain": [
              "array([ 6, 29, 16, 30, 14, 28, 17, 22, 32, 18, 19, 26, 31, 10, 33, 20, 21,\n",
              "        3, 24, 13, 15, 11, 23,  7,  1,  5,  0,  4, 27, 25,  9, 12,  8,  2])"
            ]
          },
          "metadata": {
            "tags": []
          },
          "execution_count": 24
        }
      ]
    },
    {
      "metadata": {
        "id": "x29SkPtVAOiw",
        "colab_type": "code",
        "colab": {
          "autoexec": {
            "startup": false,
            "wait_interval": 0
          },
          "base_uri": "https://localhost:8080/",
          "height": 50
        },
        "outputId": "9df1431d-cbe1-490d-87f2-630565a1e51a",
        "executionInfo": {
          "status": "ok",
          "timestamp": 1527381146077,
          "user_tz": 420,
          "elapsed": 312,
          "user": {
            "displayName": "Ray Heberer",
            "photoUrl": "//lh4.googleusercontent.com/-BMlr5I5Dhow/AAAAAAAAAAI/AAAAAAAAABc/XW4PF5A8K2Q/s50-c-k-no/photo.jpg",
            "userId": "116545933704048584401"
          }
        }
      },
      "cell_type": "code",
      "source": [
        "np.argsort(nR[0][df_pivot.iloc[0]==0])"
      ],
      "execution_count": 34,
      "outputs": [
        {
          "output_type": "execute_result",
          "data": {
            "text/plain": [
              "array([ 5, 23, 12, 24, 10, 22, 13, 18, 26, 14, 15, 21, 25,  8, 27, 16, 17,\n",
              "        2, 20, 11,  9, 19,  6,  0,  4,  3,  7,  1])"
            ]
          },
          "metadata": {
            "tags": []
          },
          "execution_count": 34
        }
      ]
    },
    {
      "metadata": {
        "id": "f9qt8Vif-hFR",
        "colab_type": "code",
        "colab": {
          "autoexec": {
            "startup": false,
            "wait_interval": 0
          }
        }
      },
      "cell_type": "code",
      "source": [
        "R = df_pivot.as_matrix()\n",
        "N = len(R)\n",
        "M = len(R[0])\n",
        "K = 2\n",
        "\n",
        "P = np.random.rand(N,K) # Initialize matrix of user attributes\n",
        "Q = np.random.rand(M,K) # Initialize matrix of movie attributes\n",
        "\n",
        "nP, nQ = matrix_factorization(R, P, Q, K)\n",
        "nR = np.dot(nP, nQ.T)"
      ],
      "execution_count": 0,
      "outputs": []
    },
    {
      "metadata": {
        "id": "XCbmGqne8nd6",
        "colab_type": "code",
        "colab": {
          "autoexec": {
            "startup": false,
            "wait_interval": 0
          }
        }
      },
      "cell_type": "code",
      "source": [
        "def recommend_for_user(user, n=5):\n",
        "    \"\"\"\n",
        "    Generate movie recommendations for a user.\n",
        "    Input: userId (from MovieLens data)\n",
        "    Output: list of tuples (movieId, predictedRating) of top n movies recommended for user (not previously rated by them)\n",
        "    \"\"\"\n",
        "    iloc = user - 1\n",
        "    \n",
        "    recommendation_ilocs = np.argsort(nR[iloc][df_pivot.iloc[iloc]==0])\n",
        "    \n",
        "    return recommendation_ilocs[:n] + 1"
      ],
      "execution_count": 0,
      "outputs": []
    },
    {
      "metadata": {
        "id": "036NikwDA2yB",
        "colab_type": "code",
        "colab": {
          "autoexec": {
            "startup": false,
            "wait_interval": 0
          },
          "base_uri": "https://localhost:8080/",
          "height": 34
        },
        "outputId": "0455fd33-550f-40dd-cae1-5b07b193fd1f",
        "executionInfo": {
          "status": "ok",
          "timestamp": 1527381198266,
          "user_tz": 420,
          "elapsed": 358,
          "user": {
            "displayName": "Ray Heberer",
            "photoUrl": "//lh4.googleusercontent.com/-BMlr5I5Dhow/AAAAAAAAAAI/AAAAAAAAABc/XW4PF5A8K2Q/s50-c-k-no/photo.jpg",
            "userId": "116545933704048584401"
          }
        }
      },
      "cell_type": "code",
      "source": [
        "recommend_for_user(1)"
      ],
      "execution_count": 36,
      "outputs": [
        {
          "output_type": "execute_result",
          "data": {
            "text/plain": [
              "array([ 6, 24, 13, 25, 11])"
            ]
          },
          "metadata": {
            "tags": []
          },
          "execution_count": 36
        }
      ]
    },
    {
      "metadata": {
        "id": "f7nFBKBiA5EB",
        "colab_type": "code",
        "colab": {
          "autoexec": {
            "startup": false,
            "wait_interval": 0
          },
          "base_uri": "https://localhost:8080/",
          "height": 165
        },
        "outputId": "1694f2f9-3d69-4fa6-9900-8fbac90c968d",
        "executionInfo": {
          "status": "ok",
          "timestamp": 1527381215933,
          "user_tz": 420,
          "elapsed": 347,
          "user": {
            "displayName": "Ray Heberer",
            "photoUrl": "//lh4.googleusercontent.com/-BMlr5I5Dhow/AAAAAAAAAAI/AAAAAAAAABc/XW4PF5A8K2Q/s50-c-k-no/photo.jpg",
            "userId": "116545933704048584401"
          }
        }
      },
      "cell_type": "code",
      "source": [
        "df_pivot.iloc[[0]]"
      ],
      "execution_count": 39,
      "outputs": [
        {
          "output_type": "execute_result",
          "data": {
            "text/html": [
              "<div>\n",
              "<style scoped>\n",
              "    .dataframe tbody tr th:only-of-type {\n",
              "        vertical-align: middle;\n",
              "    }\n",
              "\n",
              "    .dataframe tbody tr th {\n",
              "        vertical-align: top;\n",
              "    }\n",
              "\n",
              "    .dataframe thead tr th {\n",
              "        text-align: left;\n",
              "    }\n",
              "\n",
              "    .dataframe thead tr:last-of-type th {\n",
              "        text-align: right;\n",
              "    }\n",
              "</style>\n",
              "<table border=\"1\" class=\"dataframe\">\n",
              "  <thead>\n",
              "    <tr>\n",
              "      <th></th>\n",
              "      <th colspan=\"21\" halign=\"left\">rating</th>\n",
              "    </tr>\n",
              "    <tr>\n",
              "      <th>movieid</th>\n",
              "      <th>1</th>\n",
              "      <th>2</th>\n",
              "      <th>3</th>\n",
              "      <th>4</th>\n",
              "      <th>5</th>\n",
              "      <th>6</th>\n",
              "      <th>7</th>\n",
              "      <th>8</th>\n",
              "      <th>9</th>\n",
              "      <th>10</th>\n",
              "      <th>...</th>\n",
              "      <th>25</th>\n",
              "      <th>26</th>\n",
              "      <th>27</th>\n",
              "      <th>28</th>\n",
              "      <th>29</th>\n",
              "      <th>30</th>\n",
              "      <th>31</th>\n",
              "      <th>32</th>\n",
              "      <th>33</th>\n",
              "      <th>34</th>\n",
              "    </tr>\n",
              "    <tr>\n",
              "      <th>userid</th>\n",
              "      <th></th>\n",
              "      <th></th>\n",
              "      <th></th>\n",
              "      <th></th>\n",
              "      <th></th>\n",
              "      <th></th>\n",
              "      <th></th>\n",
              "      <th></th>\n",
              "      <th></th>\n",
              "      <th></th>\n",
              "      <th></th>\n",
              "      <th></th>\n",
              "      <th></th>\n",
              "      <th></th>\n",
              "      <th></th>\n",
              "      <th></th>\n",
              "      <th></th>\n",
              "      <th></th>\n",
              "      <th></th>\n",
              "      <th></th>\n",
              "      <th></th>\n",
              "    </tr>\n",
              "  </thead>\n",
              "  <tbody>\n",
              "    <tr>\n",
              "      <th>1</th>\n",
              "      <td>4.0</td>\n",
              "      <td>0.0</td>\n",
              "      <td>0.0</td>\n",
              "      <td>0.0</td>\n",
              "      <td>0.0</td>\n",
              "      <td>0.0</td>\n",
              "      <td>0.0</td>\n",
              "      <td>0.0</td>\n",
              "      <td>4.0</td>\n",
              "      <td>0.0</td>\n",
              "      <td>...</td>\n",
              "      <td>0.0</td>\n",
              "      <td>4.0</td>\n",
              "      <td>0.0</td>\n",
              "      <td>4.0</td>\n",
              "      <td>0.0</td>\n",
              "      <td>0.0</td>\n",
              "      <td>0.0</td>\n",
              "      <td>0.0</td>\n",
              "      <td>0.0</td>\n",
              "      <td>0.0</td>\n",
              "    </tr>\n",
              "  </tbody>\n",
              "</table>\n",
              "<p>1 rows × 34 columns</p>\n",
              "</div>"
            ],
            "text/plain": [
              "        rating                                              ...             \\\n",
              "movieid     1    2    3    4    5    6    7    8    9    10 ...    25   26   \n",
              "userid                                                      ...              \n",
              "1          4.0  0.0  0.0  0.0  0.0  0.0  0.0  0.0  4.0  0.0 ...   0.0  4.0   \n",
              "\n",
              "                                                 \n",
              "movieid   27   28   29   30   31   32   33   34  \n",
              "userid                                           \n",
              "1        0.0  4.0  0.0  0.0  0.0  0.0  0.0  0.0  \n",
              "\n",
              "[1 rows x 34 columns]"
            ]
          },
          "metadata": {
            "tags": []
          },
          "execution_count": 39
        }
      ]
    }
  ]
}