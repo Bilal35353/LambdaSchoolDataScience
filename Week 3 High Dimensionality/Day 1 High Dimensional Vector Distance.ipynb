{
  "nbformat": 4,
  "nbformat_minor": 0,
  "metadata": {
    "colab": {
      "name": "Copy of High Dimensional Vector Distance CC - Master.ipynb",
      "version": "0.3.2",
      "views": {},
      "default_view": {},
      "provenance": [
        {
          "file_id": "1yTiXPx8bkIhxAqlvpg4bzATEnoGWxGg2",
          "timestamp": 1523890940086
        },
        {
          "file_id": "1o7oxjsusm1lqQYR3MTK3wXGkNgrGqFpF",
          "timestamp": 1523889747981
        },
        {
          "file_id": "1_R3d6cCSyubX0PHmaDNdIRhpc4jqZBsS",
          "timestamp": 1523843286088
        }
      ],
      "collapsed_sections": []
    },
    "kernelspec": {
      "name": "python3",
      "display_name": "Python 3"
    }
  },
  "cells": [
    {
      "metadata": {
        "id": "luCg81YEjaP1",
        "colab_type": "code",
        "colab": {
          "autoexec": {
            "startup": false,
            "wait_interval": 0
          }
        }
      },
      "cell_type": "code",
      "source": [
        "import numpy as np\n",
        "import matplotlib.pyplot as plt"
      ],
      "execution_count": 0,
      "outputs": []
    },
    {
      "metadata": {
        "id": "k3P7Si8cj37a",
        "colab_type": "text"
      },
      "cell_type": "markdown",
      "source": [
        "First, define a function that takes two inputs (a mean and a standard deviation) and spits out a random number.\n",
        "The number should be generated randomly from a normal distribution with that mean and that standard deviation. See [numpy.random.normal](https://docs.scipy.org/doc/numpy/reference/generated/numpy.random.normal.html), though, implementing the PDF for a normal distribution is a good exercise if you finish early."
      ]
    },
    {
      "metadata": {
        "id": "wMkZOsQ2kUpX",
        "colab_type": "code",
        "colab": {
          "autoexec": {
            "startup": false,
            "wait_interval": 0
          }
        }
      },
      "cell_type": "code",
      "source": [
        "def rand_val(mean, stdev):\n",
        "    ##################\n",
        "    # Your Code Here #\n",
        "    ##################\n",
        "    return np.random.normal(mean, stdev)"
      ],
      "execution_count": 0,
      "outputs": []
    },
    {
      "metadata": {
        "id": "nayMEH_3nRZC",
        "colab_type": "text"
      },
      "cell_type": "markdown",
      "source": [
        "Now define a function that takes in a mean, a standard deviation, and a number n, and returns a numpy vector with n components.\n",
        "The components should be randomly generated from a normal distribution with that mean and standard deviation"
      ]
    },
    {
      "metadata": {
        "id": "ExAJD2CxngF1",
        "colab_type": "code",
        "colab": {
          "autoexec": {
            "startup": false,
            "wait_interval": 0
          }
        }
      },
      "cell_type": "code",
      "source": [
        "def rand_vec(mean, stdev, n):\n",
        "    ##################\n",
        "    # Your Code Here #\n",
        "    ##################\n",
        "    return np.random.normal(mean, stdev, n)"
      ],
      "execution_count": 0,
      "outputs": []
    },
    {
      "metadata": {
        "id": "FdU1-hoOsyXz",
        "colab_type": "text"
      },
      "cell_type": "markdown",
      "source": [
        "Recall that there are many ways to compute the distance between two vectors. However you wish to do so, write a function that takes in\n",
        "two vectors and returns the distance between them. Since this function only makes sense if the two vectors have the same number of\n",
        "components, this function should return -1 if the two vectors live in different numbers of dimensions"
      ]
    },
    {
      "metadata": {
        "id": "F6OKPxP8nvFn",
        "colab_type": "code",
        "colab": {
          "autoexec": {
            "startup": false,
            "wait_interval": 0
          }
        }
      },
      "cell_type": "code",
      "source": [
        "def vec_dist(vecA, vecB):\n",
        "    ##################\n",
        "    # Your Code Here #\n",
        "    ##################\n",
        "    if vecA.shape != vecB.shape:\n",
        "        return -1\n",
        "    \n",
        "    return np.linalg.norm(vecA - vecB)"
      ],
      "execution_count": 0,
      "outputs": []
    },
    {
      "metadata": {
        "id": "tEPgA2qHuaFT",
        "colab_type": "text"
      },
      "cell_type": "markdown",
      "source": [
        "From here on out, every component you randomly generate should come from a normal distribution centered at 0 with standard\n",
        "deviation 1. With that in mind, write a function that takes in a number n (the number of dimensions), creates two random\n",
        "vectors in n-dimensional space, calculates the distance between them, and returns that distance."
      ]
    },
    {
      "metadata": {
        "id": "8dAXAmjyuZGm",
        "colab_type": "code",
        "colab": {
          "autoexec": {
            "startup": false,
            "wait_interval": 0
          }
        }
      },
      "cell_type": "code",
      "source": [
        "def rand_vec_dist(n):\n",
        "    ##################\n",
        "    # Your Code Here #\n",
        "    ##################\n",
        "    \n",
        "    vecA, vecB = rand_vec(0, 1, n), rand_vec(0, 1, n)\n",
        "    \n",
        "    return vec_dist(vecA, vecB)"
      ],
      "execution_count": 0,
      "outputs": []
    },
    {
      "metadata": {
        "id": "MuRwge4GvZrS",
        "colab_type": "text"
      },
      "cell_type": "markdown",
      "source": [
        "Using what you've made so far, what is the average distance between two points in 1-dimensional space? In other words, between\n",
        "two regular old floating point numbers with mean 0 and standard deviation 1. After you calculate this, store it as the first\n",
        "component in a Pythin list named average_dist_list."
      ]
    },
    {
      "metadata": {
        "id": "-xBiAWMHvw3h",
        "colab_type": "code",
        "colab": {
          "autoexec": {
            "startup": false,
            "wait_interval": 0
          },
          "base_uri": "https://localhost:8080/",
          "height": 34
        },
        "outputId": "4f417eec-3135-48f8-cbda-b7aa24ac3048",
        "executionInfo": {
          "status": "ok",
          "timestamp": 1523892914002,
          "user_tz": 420,
          "elapsed": 377,
          "user": {
            "displayName": "Ray Heberer",
            "photoUrl": "//lh4.googleusercontent.com/-BMlr5I5Dhow/AAAAAAAAAAI/AAAAAAAAABc/XW4PF5A8K2Q/s50-c-k-no/photo.jpg",
            "userId": "116545933704048584401"
          }
        }
      },
      "cell_type": "code",
      "source": [
        "def average_dist_calculator(n, trials):\n",
        "    ##################\n",
        "    # Your Code Here #\n",
        "    ##################\n",
        "    return np.mean([rand_vec_dist(n) for _ in range(trials)])\n",
        "    \n",
        "average_dist_list = [average_dist_calculator(1, 50)]\n",
        "print(average_dist_list)"
      ],
      "execution_count": 6,
      "outputs": [
        {
          "output_type": "stream",
          "text": [
            "[1.1609500509528816]\n"
          ],
          "name": "stdout"
        }
      ]
    },
    {
      "metadata": {
        "id": "8mPH39jfzLM4",
        "colab_type": "text"
      },
      "cell_type": "markdown",
      "source": [
        "What's the average distance between two points in 2-dimensional space? What about 3? Keep calculating these average distances and\n",
        "appending them to average_dist_list up through 200-dimensional space."
      ]
    },
    {
      "metadata": {
        "id": "dxHLm6J1wMwP",
        "colab_type": "code",
        "colab": {
          "autoexec": {
            "startup": false,
            "wait_interval": 0
          },
          "base_uri": "https://localhost:8080/",
          "height": 54
        },
        "outputId": "881ce0ff-8f3d-4e2d-8e7c-3b07bd3e48b9",
        "executionInfo": {
          "status": "ok",
          "timestamp": 1523892914986,
          "user_tz": 420,
          "elapsed": 596,
          "user": {
            "displayName": "Ray Heberer",
            "photoUrl": "//lh4.googleusercontent.com/-BMlr5I5Dhow/AAAAAAAAAAI/AAAAAAAAABc/XW4PF5A8K2Q/s50-c-k-no/photo.jpg",
            "userId": "116545933704048584401"
          }
        }
      },
      "cell_type": "code",
      "source": [
        "##################\n",
        "# Your Code Here #\n",
        "##################\n",
        "\n",
        "average_dist_list = [average_dist_calculator(n, 50) for n in range(0, 201)]\n",
        "\n",
        "print(average_dist_list)"
      ],
      "execution_count": 7,
      "outputs": [
        {
          "output_type": "stream",
          "text": [
            "[0.0, 1.1566795042941553, 1.5761209937045653, 2.1826477639320316, 2.56234280331327, 2.7993350267369363, 3.4228667324217614, 4.157183382140875, 4.077731173365632, 4.1534261588224295, 4.342094025886554, 4.7447768574698275, 4.840238909081934, 5.137108089464906, 5.109047433883457, 5.3731359068555715, 5.600853293183041, 5.698770228141406, 5.825943210673992, 6.0533951342254895, 6.536780569139492, 6.462439076611486, 6.508277127589784, 6.6341076218317445, 7.0195553174854695, 7.3143425831399655, 7.332271683066519, 7.203124229138296, 7.295350995470309, 7.522084186738388, 7.706856485835931, 7.618135463629137, 7.9799365519702095, 7.937832040632814, 8.199273212932889, 8.105827776203649, 8.47134288666958, 8.502928660961027, 8.518577108019652, 8.818712485275997, 8.817532673471064, 8.955198709480932, 9.219279250116859, 9.361615210944255, 9.522404707262961, 9.67566937810008, 9.365647666726243, 9.534705636608841, 9.648182284756215, 9.721545422564951, 10.234472295822888, 9.90023553366127, 10.146857545492042, 10.294671228691358, 10.232174955883396, 10.217375105095542, 10.556033786508998, 10.605814834928463, 10.83391183078067, 10.832205543849218, 11.142307564324447, 10.946162279827268, 11.180235166073022, 11.109151630946851, 11.289556651758856, 11.375473248990778, 11.59375129191634, 11.49323094835172, 11.678341613776274, 11.575526728054378, 11.71717310321768, 11.678489723769081, 12.07641219396625, 12.223755303566838, 12.213559241808243, 11.978481232249353, 12.070408850174138, 12.610682364989364, 12.461954447334444, 12.269688787806924, 12.476477065247563, 12.784481719111476, 12.603088980036976, 13.013530697485862, 12.795381456143113, 12.929849601297398, 13.312720848325315, 13.203651724618581, 13.218961873001135, 13.037536082631572, 13.415101980354855, 13.34502170085514, 13.735306720121141, 13.651156769141078, 13.882509754999262, 13.721062819694929, 13.755843208548683, 13.974686290807607, 13.754503176612785, 14.127663998674599, 14.170679298689597, 14.157952775772165, 14.328232403836843, 14.199206793905521, 14.614169079673317, 14.314124296063033, 14.489781553117025, 14.654527966934342, 14.508949769341477, 14.795659010746062, 14.957459622948624, 15.032857366829676, 14.976144193006098, 14.815509791930754, 15.186035750107482, 15.012522715470725, 15.190467631666152, 15.29331300092687, 15.244883858129047, 15.475158447678307, 15.352309430373833, 15.615382612441278, 15.626920527108702, 15.566247682289513, 15.717012394346433, 15.806268088021882, 15.84494155316335, 15.86536589769989, 15.997838165849162, 15.976068872563458, 16.19913351650237, 16.134759061759112, 16.338565392891905, 16.16773404334348, 16.246974029332144, 16.33268152402384, 16.425414902392728, 16.60599332288379, 16.537478917421296, 16.53327938113123, 16.580294282689454, 16.790157225140923, 16.750817444355956, 16.92662840385769, 16.97587445972871, 16.83536659890929, 17.249511095226847, 17.21001928455305, 17.091943178605508, 17.231579374890224, 17.416337103825978, 17.210822642511072, 17.345713279384583, 17.64550552369785, 17.497556775547277, 17.509895439629272, 17.582618185792512, 17.80854480464793, 17.96136064380751, 17.75405814175084, 17.947693126742124, 17.946550361804, 17.843420774053676, 17.96911329167852, 17.9352351455892, 18.194565751960056, 18.15063497869426, 17.99352838849767, 18.50165755927428, 18.358120317426106, 18.408824377412994, 18.43354940322303, 18.539962263611823, 18.428811340669505, 18.783493217247177, 18.788912861005592, 18.71583613469733, 18.568825272072992, 18.842879409070513, 19.141636387017133, 18.936111813980276, 18.926049863297354, 19.154062868489344, 19.14785546528723, 19.196381968604854, 19.093187221437105, 19.29376449773705, 19.407942834619874, 19.418063541328376, 19.333234381232543, 19.475647808018692, 19.560723613884537, 19.61846848652541, 19.823021907054375, 19.774340960534893, 19.561524639350967, 19.56884647170043, 19.84911022187078, 20.012166613980995, 20.06973056114049, 20.139759705060698]\n"
          ],
          "name": "stdout"
        }
      ]
    },
    {
      "metadata": {
        "id": "t_DED4x70zMV",
        "colab_type": "code",
        "colab": {
          "autoexec": {
            "startup": false,
            "wait_interval": 0
          },
          "base_uri": "https://localhost:8080/",
          "height": 347
        },
        "outputId": "d2aef655-7367-4c48-ee86-06980c4c130b",
        "executionInfo": {
          "status": "ok",
          "timestamp": 1523892915861,
          "user_tz": 420,
          "elapsed": 574,
          "user": {
            "displayName": "Ray Heberer",
            "photoUrl": "//lh4.googleusercontent.com/-BMlr5I5Dhow/AAAAAAAAAAI/AAAAAAAAABc/XW4PF5A8K2Q/s50-c-k-no/photo.jpg",
            "userId": "116545933704048584401"
          }
        }
      },
      "cell_type": "code",
      "source": [
        "n = np.arange(0, 201)\n",
        "plt.plot(n,average_dist_list);"
      ],
      "execution_count": 8,
      "outputs": [
        {
          "output_type": "display_data",
          "data": {
            "image/png": "[encoded data removed]",
            "text/plain": [
              "<matplotlib.figure.Figure at 0x7ff84a7be550>"
            ]
          },
          "metadata": {
            "tags": []
          }
        }
      ]
    },
    {
      "metadata": {
        "id": "urd9Ficj4axm",
        "colab_type": "text"
      },
      "cell_type": "markdown",
      "source": [
        "As the number of dimensions n grows larger and larger, approximately how does the average distance grow?\n",
        "\n",
        "It should be well-approximated by the function f(n) = c*n^p for some numbers c and p. However you choose to do so, find the values of c and p."
      ]
    },
    {
      "metadata": {
        "id": "sf6U3uIhByQv",
        "colab_type": "text"
      },
      "cell_type": "markdown",
      "source": [
        "Using my reasoning from the [Vector Magnitude Coding Challenge](https://github.com/rayheberer/LambdaSchoolDataScience/blob/master/Week%201%20Mathematical%20Foundations/Code%20Challenges/Day%204%20Vector%20Magnitude.ipynb), I expect that the average distance between points will be proportional to the square root of the dimension of the space.\n",
        "\n",
        "I will first create square-root features, and then fit a linear estimator to them."
      ]
    },
    {
      "metadata": {
        "id": "DpusDoARDGHO",
        "colab_type": "code",
        "colab": {
          "autoexec": {
            "startup": false,
            "wait_interval": 0
          }
        }
      },
      "cell_type": "code",
      "source": [
        "from sklearn.linear_model import LinearRegression"
      ],
      "execution_count": 0,
      "outputs": []
    },
    {
      "metadata": {
        "id": "YBVLh9gM16kI",
        "colab_type": "code",
        "colab": {
          "autoexec": {
            "startup": false,
            "wait_interval": 0
          },
          "base_uri": "https://localhost:8080/",
          "height": 347
        },
        "outputId": "11bda7ef-c25f-4be2-9182-dc814d23fde4",
        "executionInfo": {
          "status": "ok",
          "timestamp": 1523892917909,
          "user_tz": 420,
          "elapsed": 699,
          "user": {
            "displayName": "Ray Heberer",
            "photoUrl": "//lh4.googleusercontent.com/-BMlr5I5Dhow/AAAAAAAAAAI/AAAAAAAAABc/XW4PF5A8K2Q/s50-c-k-no/photo.jpg",
            "userId": "116545933704048584401"
          }
        }
      },
      "cell_type": "code",
      "source": [
        "root_n = np.sqrt(n)\n",
        "plt.plot(root_n,average_dist_list, 'bo');"
      ],
      "execution_count": 10,
      "outputs": [
        {
          "output_type": "display_data",
          "data": {
            "image/png": "[encoded data removed]",
            "text/plain": [
              "<matplotlib.figure.Figure at 0x7ff845333a20>"
            ]
          },
          "metadata": {
            "tags": []
          }
        }
      ]
    },
    {
      "metadata": {
        "id": "7a0Rk-MdC0Rc",
        "colab_type": "code",
        "colab": {
          "autoexec": {
            "startup": false,
            "wait_interval": 0
          }
        }
      },
      "cell_type": "code",
      "source": [
        "# the y-intercept should be zero, since it is not meaningful for the average distance between objects in the zero vector space to be nonzero\n",
        "model = LinearRegression(fit_intercept=False)\n",
        "\n",
        "root_n = root_n.reshape((-1, 1))\n",
        "average_dist_list = np.array(average_dist_list).reshape((-1, 1))\n",
        "model.fit(root_n, average_dist_list);"
      ],
      "execution_count": 0,
      "outputs": []
    },
    {
      "metadata": {
        "id": "erDW44bMEE0D",
        "colab_type": "code",
        "colab": {
          "autoexec": {
            "startup": false,
            "wait_interval": 0
          },
          "base_uri": "https://localhost:8080/",
          "height": 34
        },
        "outputId": "341b9784-e8ff-403c-c85b-ef124bccda61",
        "executionInfo": {
          "status": "ok",
          "timestamp": 1523892919636,
          "user_tz": 420,
          "elapsed": 432,
          "user": {
            "displayName": "Ray Heberer",
            "photoUrl": "//lh4.googleusercontent.com/-BMlr5I5Dhow/AAAAAAAAAAI/AAAAAAAAABc/XW4PF5A8K2Q/s50-c-k-no/photo.jpg",
            "userId": "116545933704048584401"
          }
        }
      },
      "cell_type": "code",
      "source": [
        "c = model.coef_\n",
        "print(c)"
      ],
      "execution_count": 12,
      "outputs": [
        {
          "output_type": "stream",
          "text": [
            "[[1.41115361]]\n"
          ],
          "name": "stdout"
        }
      ]
    },
    {
      "metadata": {
        "id": "aR31N67wEoy6",
        "colab_type": "text"
      },
      "cell_type": "markdown",
      "source": [
        "So our function is about $f(n) = 1.41\\sqrt{n}$"
      ]
    },
    {
      "metadata": {
        "id": "DAH0Ps0cDq3G",
        "colab_type": "code",
        "colab": {
          "autoexec": {
            "startup": false,
            "wait_interval": 0
          },
          "base_uri": "https://localhost:8080/",
          "height": 347
        },
        "outputId": "3d345d7f-4b9b-47fa-bd86-c0b190483110",
        "executionInfo": {
          "status": "ok",
          "timestamp": 1523892920707,
          "user_tz": 420,
          "elapsed": 442,
          "user": {
            "displayName": "Ray Heberer",
            "photoUrl": "//lh4.googleusercontent.com/-BMlr5I5Dhow/AAAAAAAAAAI/AAAAAAAAABc/XW4PF5A8K2Q/s50-c-k-no/photo.jpg",
            "userId": "116545933704048584401"
          }
        }
      },
      "cell_type": "code",
      "source": [
        "line = c*np.sqrt(n)\n",
        "line = line.reshape(-1,)\n",
        "\n",
        "plt.scatter(n,average_dist_list, s=15)\n",
        "plt.plot(n, line, color='red');"
      ],
      "execution_count": 13,
      "outputs": [
        {
          "output_type": "display_data",
          "data": {
            "image/png": "[encoded data removed]",
            "text/plain": [
              "<matplotlib.figure.Figure at 0x7ff844e15128>"
            ]
          },
          "metadata": {
            "tags": []
          }
        }
      ]
    }
  ]
}