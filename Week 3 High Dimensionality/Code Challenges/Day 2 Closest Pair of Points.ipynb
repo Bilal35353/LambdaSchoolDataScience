{
  "nbformat": 4,
  "nbformat_minor": 0,
  "metadata": {
    "colab": {
      "name": "High Dimensionality Closest Pair of Points CC - Master.ipynb",
      "version": "0.3.2",
      "views": {},
      "default_view": {},
      "provenance": [
        {
          "file_id": "1monLa113JTJFb9c9XHEhizCeYlBv_Oid",
          "timestamp": 1523977480815
        },
        {
          "file_id": "1YKF5UC-cUrJhUjmftNqJztUHlclEsjMm",
          "timestamp": 1523976259956
        }
      ],
      "collapsed_sections": []
    },
    "kernelspec": {
      "name": "python3",
      "display_name": "Python 3"
    }
  },
  "cells": [
    {
      "metadata": {
        "id": "ZgPDaAZ-3YVy",
        "colab_type": "text"
      },
      "cell_type": "markdown",
      "source": [
        "# Closest Pair of Points Coding Challenge"
      ]
    },
    {
      "metadata": {
        "id": "u6jrdu1E66cG",
        "colab_type": "code",
        "colab": {
          "autoexec": {
            "startup": false,
            "wait_interval": 0
          }
        }
      },
      "cell_type": "code",
      "source": [
        "import numpy as np"
      ],
      "execution_count": 0,
      "outputs": []
    },
    {
      "metadata": {
        "id": "tYoTp9Kd68Ve",
        "colab_type": "text"
      },
      "cell_type": "markdown",
      "source": [
        "This exercise builds on the same ideas covered in the last one, so feel free to reuse any functions. Today we'll start by defining a function that takes\n",
        "in a number of dimensions (call it n) and spits out a random vector n-dimensional vector. Each component of the vector should be randomly pulled from a\n",
        "normal distribution with mean 0 and standard deviation 1."
      ]
    },
    {
      "metadata": {
        "id": "pXsYTfd57U5t",
        "colab_type": "code",
        "colab": {
          "autoexec": {
            "startup": false,
            "wait_interval": 0
          }
        }
      },
      "cell_type": "code",
      "source": [
        "# Function that generates a n-dimensional vector from a normal distribution\n",
        "\n",
        "def rand_vec(n, mean=0, stdev=1):\n",
        "    return np.random.normal(mean, stdev, n)"
      ],
      "execution_count": 0,
      "outputs": []
    },
    {
      "metadata": {
        "id": "RESYm02W7-Mb",
        "colab_type": "text"
      },
      "cell_type": "markdown",
      "source": [
        "Now generate a list of 50 vectors in 50-dimensional space. Call the list vec_list."
      ]
    },
    {
      "metadata": {
        "id": "AnH-IvFH7ktm",
        "colab_type": "code",
        "colab": {
          "autoexec": {
            "startup": false,
            "wait_interval": 0
          }
        }
      },
      "cell_type": "code",
      "source": [
        "# vec_list = 50 vectors in 50 dimensional space\n",
        "\n",
        "vec_list = [rand_vec(50) for _ in range(50)]"
      ],
      "execution_count": 0,
      "outputs": []
    },
    {
      "metadata": {
        "id": "KaNEauf48DzW",
        "colab_type": "text"
      },
      "cell_type": "markdown",
      "source": [
        "To every two vectors v1 and v2, recall how we calculate the distance bewteen v1 and v2. With that in mind, find the two\n",
        "vectors closest to one another and print the distance between them. Hint: the answer isn't zero. \n",
        "\n",
        "[Closest pair of points problem](https://en.wikipedia.org/wiki/Closest_pair_of_points_problem)"
      ]
    },
    {
      "metadata": {
        "id": "cyIU2CKoJiQ4",
        "colab_type": "code",
        "colab": {
          "autoexec": {
            "startup": false,
            "wait_interval": 0
          },
          "base_uri": "https://localhost:8080/",
          "height": 34
        },
        "outputId": "48b77952-02e0-49ef-9540-871e3a04f430",
        "executionInfo": {
          "status": "ok",
          "timestamp": 1523982137812,
          "user_tz": 420,
          "elapsed": 345,
          "user": {
            "displayName": "Ray Heberer",
            "photoUrl": "//lh4.googleusercontent.com/-BMlr5I5Dhow/AAAAAAAAAAI/AAAAAAAAABc/XW4PF5A8K2Q/s50-c-k-no/photo.jpg",
            "userId": "116545933704048584401"
          }
        }
      },
      "cell_type": "code",
      "source": [
        "# brute force approach\n",
        "\n",
        "dist_list = [np.linalg.norm(vec_list[i]-vec_list[j]) for i in range(len(vec_list)) for j in range(len(vec_list)) if j > i]\n",
        "min_distance = min(dist_list)\n",
        "print(min_distance)"
      ],
      "execution_count": 4,
      "outputs": [
        {
          "output_type": "stream",
          "text": [
            "6.767142378809576\n"
          ],
          "name": "stdout"
        }
      ]
    },
    {
      "metadata": {
        "id": "fOtd__ax9R4D",
        "colab_type": "text"
      },
      "cell_type": "markdown",
      "source": [
        "Now find the two vectors furthest from one another."
      ]
    },
    {
      "metadata": {
        "id": "taeU63sy8VSJ",
        "colab_type": "code",
        "colab": {
          "autoexec": {
            "startup": false,
            "wait_interval": 0
          },
          "base_uri": "https://localhost:8080/",
          "height": 34
        },
        "outputId": "6fadcced-bddc-423a-fc46-eb0485dcefc2",
        "executionInfo": {
          "status": "ok",
          "timestamp": 1523982138505,
          "user_tz": 420,
          "elapsed": 337,
          "user": {
            "displayName": "Ray Heberer",
            "photoUrl": "//lh4.googleusercontent.com/-BMlr5I5Dhow/AAAAAAAAAAI/AAAAAAAAABc/XW4PF5A8K2Q/s50-c-k-no/photo.jpg",
            "userId": "116545933704048584401"
          }
        }
      },
      "cell_type": "code",
      "source": [
        "# Inversion of Closest Pair of Points algorithm\n",
        "max_distance = max(dist_list)\n",
        "print(max_distance)"
      ],
      "execution_count": 5,
      "outputs": [
        {
          "output_type": "stream",
          "text": [
            "12.83426243529165\n"
          ],
          "name": "stdout"
        }
      ]
    },
    {
      "metadata": {
        "id": "pQQL9mUZ78yP",
        "colab_type": "code",
        "colab": {
          "autoexec": {
            "startup": false,
            "wait_interval": 0
          }
        }
      },
      "cell_type": "code",
      "source": [
        "# Implementation of Closest Pair of Points algorithm\n",
        "\n",
        "def closest_pair_of_points(vec_list):\n",
        "    v_sorted = sorted(vec_list, key=lambda x: x[0])\n",
        "    \n",
        "    v_len = len(v_sorted)\n",
        "    \n",
        "    if v_len == 2:\n",
        "        return np.linalg.norm(v_sorted[0]-v_sorted[1])\n",
        "    \n",
        "    elif v_len == 3:\n",
        "        v_dists = [np.linalg.norm(v_sorted[0]-v_sorted[1]), np.linalg.norm(v_sorted[0]-v_sorted[2]), np.linalg.norm(v_sorted[1]-v_sorted[2])]\n",
        "        return min(v_dists)\n",
        "    \n",
        "    else:\n",
        "        split_index = v_len // 2\n",
        "        v_left = v_sorted[:split_index]\n",
        "        v_right = v_sorted[split_index:]\n",
        "                \n",
        "        min_left = closest_pair_of_points(v_left)\n",
        "        min_right = closest_pair_of_points(v_right)\n",
        "        \n",
        "        dist = min(min_left, min_right)\n",
        "        x = v_sorted[split_index][0]\n",
        "        x1 = x - dist\n",
        "        x2 = x + dist\n",
        "        \n",
        "        v_left_compare = [v for v in v_left if v[0] > x1]\n",
        "        v_right_compare = [v for v in v_right if v[0] < x2]\n",
        "        left_right_dists = [np.linalg.norm(v_left[i]-v_right_compare[j]) for i in range(len(v_left)) for j in range(len(v_right_compare))]\n",
        "        \n",
        "        if len(left_right_dists) > 0:\n",
        "            min_left_right = min(left_right_dists)\n",
        "        else:\n",
        "            min_left_right = np.inf\n",
        "        \n",
        "        return min(dist, min_left_right)\n",
        "        "
      ],
      "execution_count": 0,
      "outputs": []
    },
    {
      "metadata": {
        "id": "MuW3XJW9TYdf",
        "colab_type": "code",
        "colab": {
          "autoexec": {
            "startup": false,
            "wait_interval": 0
          },
          "base_uri": "https://localhost:8080/",
          "height": 34
        },
        "outputId": "282957c2-a2f3-43a5-cdc1-01a1d4c5b6af",
        "executionInfo": {
          "status": "ok",
          "timestamp": 1523982157693,
          "user_tz": 420,
          "elapsed": 350,
          "user": {
            "displayName": "Ray Heberer",
            "photoUrl": "//lh4.googleusercontent.com/-BMlr5I5Dhow/AAAAAAAAAAI/AAAAAAAAABc/XW4PF5A8K2Q/s50-c-k-no/photo.jpg",
            "userId": "116545933704048584401"
          }
        }
      },
      "cell_type": "code",
      "source": [
        "closest_pair_of_points(vec_list)"
      ],
      "execution_count": 8,
      "outputs": [
        {
          "output_type": "execute_result",
          "data": {
            "text/plain": [
              "6.767142378809576"
            ]
          },
          "metadata": {
            "tags": []
          },
          "execution_count": 8
        }
      ]
    },
    {
      "metadata": {
        "id": "5Ec_o2aEUo2f",
        "colab_type": "code",
        "colab": {
          "autoexec": {
            "startup": false,
            "wait_interval": 0
          },
          "base_uri": "https://localhost:8080/",
          "height": 51
        },
        "outputId": "a238e4cf-9fd9-4172-ebda-2fd33d50f224",
        "executionInfo": {
          "status": "ok",
          "timestamp": 1523982163917,
          "user_tz": 420,
          "elapsed": 343,
          "user": {
            "displayName": "Ray Heberer",
            "photoUrl": "//lh4.googleusercontent.com/-BMlr5I5Dhow/AAAAAAAAAAI/AAAAAAAAABc/XW4PF5A8K2Q/s50-c-k-no/photo.jpg",
            "userId": "116545933704048584401"
          }
        }
      },
      "cell_type": "code",
      "source": [
        "import time\n",
        "\n",
        "start = time.time()\n",
        "min([np.linalg.norm(vec_list[i]-vec_list[j]) for i in range(len(vec_list)) for j in range(len(vec_list)) if j > i])\n",
        "end = time.time()\n",
        "print(\"Brute force solution runs in {} seconds\".format(end - start))\n",
        "\n",
        "\n",
        "start = time.time()\n",
        "closest_pair_of_points(vec_list)\n",
        "end = time.time()\n",
        "print(\"Recursive solution runs in {} seconds\".format(end - start))"
      ],
      "execution_count": 10,
      "outputs": [
        {
          "output_type": "stream",
          "text": [
            "Brute force solution runs in 0.011104822158813477 seconds\n",
            "Recursive solution runs in 0.008973360061645508 seconds\n"
          ],
          "name": "stdout"
        }
      ]
    },
    {
      "metadata": {
        "id": "0Xsoc2WBY-aX",
        "colab_type": "code",
        "colab": {
          "autoexec": {
            "startup": false,
            "wait_interval": 0
          },
          "base_uri": "https://localhost:8080/",
          "height": 51
        },
        "outputId": "04018ff9-14b0-4635-ea84-397517e56de1",
        "executionInfo": {
          "status": "ok",
          "timestamp": 1523982289411,
          "user_tz": 420,
          "elapsed": 23478,
          "user": {
            "displayName": "Ray Heberer",
            "photoUrl": "//lh4.googleusercontent.com/-BMlr5I5Dhow/AAAAAAAAAAI/AAAAAAAAABc/XW4PF5A8K2Q/s50-c-k-no/photo.jpg",
            "userId": "116545933704048584401"
          }
        }
      },
      "cell_type": "code",
      "source": [
        "# test with 500 vectors\n",
        "\n",
        "vec_list = [rand_vec(50) for _ in range(2000)]\n",
        "\n",
        "start = time.time()\n",
        "min([np.linalg.norm(vec_list[i]-vec_list[j]) for i in range(len(vec_list)) for j in range(len(vec_list)) if j > i])\n",
        "end = time.time()\n",
        "print(\"Brute force solution runs in {} seconds\".format(end - start))\n",
        "\n",
        "\n",
        "start = time.time()\n",
        "closest_pair_of_points(vec_list)\n",
        "end = time.time()\n",
        "print(\"Recursive solution runs in {} seconds\".format(end - start))"
      ],
      "execution_count": 13,
      "outputs": [
        {
          "output_type": "stream",
          "text": [
            "Brute force solution runs in 11.683542490005493 seconds\n",
            "Recursive solution runs in 11.43949270248413 seconds\n"
          ],
          "name": "stdout"
        }
      ]
    }
  ]
}