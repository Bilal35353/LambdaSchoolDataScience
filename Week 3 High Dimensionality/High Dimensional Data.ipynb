{
  "nbformat": 4,
  "nbformat_minor": 0,
  "metadata": {
    "colab": {
      "name": "High Dimensional Research Assignment - Master.ipynb",
      "version": "0.3.2",
      "views": {},
      "default_view": {},
      "provenance": [
        {
          "file_id": "1qE1vRNNIJdTU8giVUVJliRgqPXiCUZWa",
          "timestamp": 1523995549010
        }
      ],
      "collapsed_sections": []
    },
    "kernelspec": {
      "name": "python3",
      "display_name": "Python 3"
    }
  },
  "cells": [
    {
      "metadata": {
        "id": "IG3tZqluIXWZ",
        "colab_type": "text"
      },
      "cell_type": "markdown",
      "source": [
        "# High Dimensional Data\n",
        "\n",
        "All of our work to this point is building dimensions on the bases of linear algebra and function analysis. This section involves studying some of the specific characteristics of high dimensionality that affect your analysis and data preparation.\n",
        "\n",
        "1. High dimensional data cannot be intuited without modification\n",
        "2. As dimensions increase, the number of choices explode\n",
        "3. Selecting good data gets more difficult\n",
        "4. In extremely high dimensional cases, only automated methods can be used."
      ]
    },
    {
      "metadata": {
        "id": "Nhblp0SjKmo1",
        "colab_type": "code",
        "colab": {
          "autoexec": {
            "startup": false,
            "wait_interval": 0
          }
        }
      },
      "cell_type": "code",
      "source": [
        "# LAMBDA SCHOOL\n",
        "#\n",
        "# MACHINE LEARNING\n",
        "#\n",
        "# MIT LICENSE\n",
        "\n",
        "import numpy as np\n",
        "import matplotlib.pyplot as plt"
      ],
      "execution_count": 0,
      "outputs": []
    },
    {
      "metadata": {
        "id": "rdmHVAQcILOL",
        "colab_type": "code",
        "colab": {
          "autoexec": {
            "startup": false,
            "wait_interval": 0
          },
          "base_uri": "https://localhost:8080/",
          "height": 123
        },
        "outputId": "7c552e11-04f0-488f-fad1-2d0ca2e59601",
        "executionInfo": {
          "status": "ok",
          "timestamp": 1524009456326,
          "user_tz": 420,
          "elapsed": 506,
          "user": {
            "displayName": "Ray Heberer",
            "photoUrl": "//lh4.googleusercontent.com/-BMlr5I5Dhow/AAAAAAAAAAI/AAAAAAAAABc/XW4PF5A8K2Q/s50-c-k-no/photo.jpg",
            "userId": "116545933704048584401"
          }
        }
      },
      "cell_type": "code",
      "source": [
        "# 1d data\n",
        "\n",
        "x = 5\n",
        "y = 6\n",
        "\n",
        "plt.figure(figsize=(4,1))\n",
        "plt.axhline(0)\n",
        "plt.plot(x,0,'ro')\n",
        "plt.plot(y,0,'bo')\n",
        "plt.plot((x+y)/2,'o',c=\"black\")\n",
        "plt.xlim((0,10))\n",
        "plt.ylim((-1,1))"
      ],
      "execution_count": 2,
      "outputs": [
        {
          "output_type": "execute_result",
          "data": {
            "text/plain": [
              "(-1, 1)"
            ]
          },
          "metadata": {
            "tags": []
          },
          "execution_count": 2
        },
        {
          "output_type": "display_data",
          "data": {
            "image/png": "[encoded data removed]",
            "text/plain": [
              "<matplotlib.figure.Figure at 0x7f24f51180f0>"
            ]
          },
          "metadata": {
            "tags": []
          }
        }
      ]
    },
    {
      "metadata": {
        "id": "Gc-41ySJLRQd",
        "colab_type": "code",
        "colab": {
          "autoexec": {
            "startup": false,
            "wait_interval": 0
          },
          "base_uri": "https://localhost:8080/",
          "height": 368
        },
        "outputId": "45e6bc86-d080-4d0f-c7fb-0d9932e54448",
        "executionInfo": {
          "status": "ok",
          "timestamp": 1524009457360,
          "user_tz": 420,
          "elapsed": 593,
          "user": {
            "displayName": "Ray Heberer",
            "photoUrl": "//lh4.googleusercontent.com/-BMlr5I5Dhow/AAAAAAAAAAI/AAAAAAAAABc/XW4PF5A8K2Q/s50-c-k-no/photo.jpg",
            "userId": "116545933704048584401"
          }
        }
      },
      "cell_type": "code",
      "source": [
        "# 2d data\n",
        "\n",
        "x = np.array([5,6])\n",
        "y = np.array([7,8])\n",
        "\n",
        "plt.plot(x[0],x[1],'ro')\n",
        "plt.plot(y[0],y[1],'bo')\n",
        "plt.xlim((0,10))\n",
        "plt.ylim((0,10))"
      ],
      "execution_count": 3,
      "outputs": [
        {
          "output_type": "execute_result",
          "data": {
            "text/plain": [
              "(0, 10)"
            ]
          },
          "metadata": {
            "tags": []
          },
          "execution_count": 3
        },
        {
          "output_type": "display_data",
          "data": {
            "image/png": "[encoded data removed]",
            "text/plain": [
              "<matplotlib.figure.Figure at 0x7f24f28d4780>"
            ]
          },
          "metadata": {
            "tags": []
          }
        }
      ]
    },
    {
      "metadata": {
        "id": "Z7D2b5gKKyDf",
        "colab_type": "code",
        "colab": {
          "autoexec": {
            "startup": false,
            "wait_interval": 0
          },
          "base_uri": "https://localhost:8080/",
          "height": 381
        },
        "outputId": "ec2b4f2b-f3d7-412e-ec28-dcb9706b5351",
        "executionInfo": {
          "status": "ok",
          "timestamp": 1524009458335,
          "user_tz": 420,
          "elapsed": 606,
          "user": {
            "displayName": "Ray Heberer",
            "photoUrl": "//lh4.googleusercontent.com/-BMlr5I5Dhow/AAAAAAAAAAI/AAAAAAAAABc/XW4PF5A8K2Q/s50-c-k-no/photo.jpg",
            "userId": "116545933704048584401"
          }
        }
      },
      "cell_type": "code",
      "source": [
        "# 3d data\n",
        "from mpl_toolkits.mplot3d import Axes3D\n",
        "import pandas as pd\n",
        "\n",
        "a = pd.DataFrame([5,6,7]).T\n",
        "b = pd.DataFrame([8,9,10]).T\n",
        "data = pd.concat([a,b])\n",
        "data.columns = ['x','y','z']\n",
        "print(data)\n",
        "fig = plt.figure()\n",
        "ax = fig.add_subplot(111, projection='3d')\n",
        "\n",
        "ax.scatter(data['x'], data['y'], data['z'], c=['r','b'])\n",
        "ax.set_xlim(0,10)\n",
        "ax.set_ylim(0,10)\n",
        "ax.set_zlim(0,10)\n",
        "\n",
        "import matplotlib.lines as lines\n",
        "scatter1_proxy = lines.Line2D([0],[0], linestyle=\"none\", c='r', marker = 'o')\n",
        "scatter2_proxy = lines.Line2D([0],[0], linestyle=\"none\", c='b', marker = 'o')\n",
        "ax.legend([scatter1_proxy, scatter2_proxy], ['dead', 'alive'], numpoints = 1);\n"
      ],
      "execution_count": 4,
      "outputs": [
        {
          "output_type": "stream",
          "text": [
            "   x  y   z\n",
            "0  5  6   7\n",
            "0  8  9  10\n"
          ],
          "name": "stdout"
        },
        {
          "output_type": "display_data",
          "data": {
            "image/png": "[encoded data removed]",
            "text/plain": [
              "<matplotlib.figure.Figure at 0x7f24f282ae48>"
            ]
          },
          "metadata": {
            "tags": []
          }
        }
      ]
    },
    {
      "metadata": {
        "id": "Y8LgcP1ndwgU",
        "colab_type": "text"
      },
      "cell_type": "markdown",
      "source": [
        "# What about 4d?\n",
        "\n",
        "We've played with high dimensional random datasets so far. Random data is random data, by and large, though we can create interesting datasets from it. Real data is better.\n",
        "\n",
        "## Back to Titanic"
      ]
    },
    {
      "metadata": {
        "id": "KH0--OyChhTC",
        "colab_type": "code",
        "colab": {
          "autoexec": {
            "startup": false,
            "wait_interval": 0
          }
        }
      },
      "cell_type": "code",
      "source": [
        "import seaborn as sns\n",
        "titanic = sns.load_dataset('titanic')\n",
        "titanic = titanic.drop(['alive','adult_male','who','class','embark_town'], axis=1)\n",
        "titanic['embarked'] = titanic['embarked'].fillna(method='ffill')\n",
        "titanic = titanic.drop(['deck'], axis=1)\n",
        "titanic['age'] = titanic['age'].fillna(method='ffill')\n"
      ],
      "execution_count": 0,
      "outputs": []
    },
    {
      "metadata": {
        "id": "1c6zQQP9j4Bj",
        "colab_type": "code",
        "colab": {
          "autoexec": {
            "startup": false,
            "wait_interval": 0
          },
          "base_uri": "https://localhost:8080/",
          "height": 1701
        },
        "outputId": "301c0b3c-d557-4250-b791-27beb8a73f65",
        "executionInfo": {
          "status": "ok",
          "timestamp": 1524009462528,
          "user_tz": 420,
          "elapsed": 1928,
          "user": {
            "displayName": "Ray Heberer",
            "photoUrl": "//lh4.googleusercontent.com/-BMlr5I5Dhow/AAAAAAAAAAI/AAAAAAAAABc/XW4PF5A8K2Q/s50-c-k-no/photo.jpg",
            "userId": "116545933704048584401"
          }
        }
      },
      "cell_type": "code",
      "source": [
        "print('Any more NaN?')\n",
        "print(titanic.isna().any())\n",
        "\n",
        "print(titanic.head())\n",
        "\n",
        "for col in titanic.columns:\n",
        "    plt.figure(figsize=(3,2))\n",
        "    titanic[col].hist()\n",
        "    plt.title(col)\n",
        "    plt.show()"
      ],
      "execution_count": 6,
      "outputs": [
        {
          "output_type": "stream",
          "text": [
            "Any more NaN?\n",
            "survived    False\n",
            "pclass      False\n",
            "sex         False\n",
            "age         False\n",
            "sibsp       False\n",
            "parch       False\n",
            "fare        False\n",
            "embarked    False\n",
            "alone       False\n",
            "dtype: bool\n",
            "   survived  pclass     sex   age  sibsp  parch     fare embarked  alone\n",
            "0         0       3    male  22.0      1      0   7.2500        S  False\n",
            "1         1       1  female  38.0      1      0  71.2833        C  False\n",
            "2         1       3  female  26.0      0      0   7.9250        S   True\n",
            "3         1       1  female  35.0      1      0  53.1000        S  False\n",
            "4         0       3    male  35.0      0      0   8.0500        S   True\n"
          ],
          "name": "stdout"
        },
        {
          "output_type": "display_data",
          "data": {
            "image/png": "[encoded data removed]",
            "text/plain": [
              "<matplotlib.figure.Figure at 0x7f24f286e5f8>"
            ]
          },
          "metadata": {
            "tags": []
          }
        },
        {
          "output_type": "display_data",
          "data": {
            "image/png": "[encoded data removed]",
            "text/plain": [
              "<matplotlib.figure.Figure at 0x7f24f26ec5f8>"
            ]
          },
          "metadata": {
            "tags": []
          }
        },
        {
          "output_type": "display_data",
          "data": {
            "image/png": "[encoded data removed]",
            "text/plain": [
              "<matplotlib.figure.Figure at 0x7f24f2651c50>"
            ]
          },
          "metadata": {
            "tags": []
          }
        },
        {
          "output_type": "display_data",
          "data": {
            "image/png": "[encoded data removed]",
            "text/plain": [
              "<matplotlib.figure.Figure at 0x7f24f263d630>"
            ]
          },
          "metadata": {
            "tags": []
          }
        },
        {
          "output_type": "display_data",
          "data": {
            "image/png": "[encoded data removed]",
            "text/plain": [
              "<matplotlib.figure.Figure at 0x7f24f259a470>"
            ]
          },
          "metadata": {
            "tags": []
          }
        },
        {
          "output_type": "display_data",
          "data": {
            "image/png": "[encoded data removed]",
            "text/plain": [
              "<matplotlib.figure.Figure at 0x7f24f24c05c0>"
            ]
          },
          "metadata": {
            "tags": []
          }
        },
        {
          "output_type": "display_data",
          "data": {
            "image/png": "[encoded data removed]",
            "text/plain": [
              "<matplotlib.figure.Figure at 0x7f24f24eb828>"
            ]
          },
          "metadata": {
            "tags": []
          }
        },
        {
          "output_type": "display_data",
          "data": {
            "image/png": "[encoded data removed]",
            "text/plain": [
              "<matplotlib.figure.Figure at 0x7f24f240db00>"
            ]
          },
          "metadata": {
            "tags": []
          }
        },
        {
          "output_type": "display_data",
          "data": {
            "image/png": "[encoded data removed]",
            "text/plain": [
              "<matplotlib.figure.Figure at 0x7f24f24a8898>"
            ]
          },
          "metadata": {
            "tags": []
          }
        }
      ]
    },
    {
      "metadata": {
        "id": "v4tvzyLFn7AE",
        "colab_type": "text"
      },
      "cell_type": "markdown",
      "source": [
        "Three binomials, two categoricals, and four numerical features."
      ]
    },
    {
      "metadata": {
        "id": "TDiHNaGZvE4c",
        "colab_type": "code",
        "colab": {
          "autoexec": {
            "startup": false,
            "wait_interval": 0
          }
        }
      },
      "cell_type": "code",
      "source": [
        "from sklearn.preprocessing import LabelEncoder\n",
        "\n",
        "# Convert binomials and categoricals to encoded labels\n",
        "for label in ['embarked','sex', 'alone']:\n",
        "    titanic[label] = LabelEncoder().fit_transform(titanic[label])"
      ],
      "execution_count": 0,
      "outputs": []
    },
    {
      "metadata": {
        "id": "nsRmBpGjlPeU",
        "colab_type": "code",
        "colab": {
          "autoexec": {
            "startup": false,
            "wait_interval": 0
          },
          "base_uri": "https://localhost:8080/",
          "height": 1017
        },
        "outputId": "bb6fe446-bbcf-4e8c-c922-3e5200938474",
        "executionInfo": {
          "status": "ok",
          "timestamp": 1524009466151,
          "user_tz": 420,
          "elapsed": 1178,
          "user": {
            "displayName": "Ray Heberer",
            "photoUrl": "//lh4.googleusercontent.com/-BMlr5I5Dhow/AAAAAAAAAAI/AAAAAAAAABc/XW4PF5A8K2Q/s50-c-k-no/photo.jpg",
            "userId": "116545933704048584401"
          }
        }
      },
      "cell_type": "code",
      "source": [
        "# 3d data\n",
        "from mpl_toolkits.mplot3d import Axes3D\n",
        "import pandas as pd\n",
        "\n",
        "labels = titanic['survived']\n",
        "features = titanic.drop(['survived'],axis=1)\n",
        "\n",
        "# 0, red\n",
        "# 1, blue\n",
        "#[\"red\",\"blue\"][0, 1, 1, 1, 0, 0, 0, 0, 1, 1]\n",
        "#[\"red\", \"red\", \"blue\", \"blue\", \"blue\"]\n",
        "\n",
        "# Convert labels to colors\n",
        "colors = pd.Series(['red','blue'])[labels.values]\n",
        "print(labels.head(10))\n",
        "print(colors.head(10))\n",
        "\n",
        "# Start graphing...\n",
        "def plot3axes(data,axes):\n",
        "    fig = plt.figure()\n",
        "    ax = fig.add_subplot(111, projection='3d')\n",
        "    ax.scatter(data[axes[0]], data[axes[1]], data[axes[2]], c=colors)\n",
        "\n",
        "plot3axes(features,['sex','age','sibsp'])\n",
        "plot3axes(features,['fare','embarked','alone'])"
      ],
      "execution_count": 8,
      "outputs": [
        {
          "output_type": "stream",
          "text": [
            "0    0\n",
            "1    1\n",
            "2    1\n",
            "3    1\n",
            "4    0\n",
            "5    0\n",
            "6    0\n",
            "7    0\n",
            "8    1\n",
            "9    1\n",
            "Name: survived, dtype: int64\n",
            "0     red\n",
            "1    blue\n",
            "1    blue\n",
            "1    blue\n",
            "0     red\n",
            "0     red\n",
            "0     red\n",
            "0     red\n",
            "1    blue\n",
            "1    blue\n",
            "dtype: object\n"
          ],
          "name": "stdout"
        },
        {
          "output_type": "display_data",
          "data": {
            "image/png": "[encoded data removed]",
            "text/plain": [
              "<matplotlib.figure.Figure at 0x7f24f512dbe0>"
            ]
          },
          "metadata": {
            "tags": []
          }
        },
        {
          "output_type": "display_data",
          "data": {
            "image/png": "[encoded data removed]",
            "text/plain": [
              "<matplotlib.figure.Figure at 0x7f24f512d160>"
            ]
          },
          "metadata": {
            "tags": []
          }
        }
      ]
    },
    {
      "metadata": {
        "id": "WWMMR8woqYCR",
        "colab_type": "code",
        "colab": {
          "autoexec": {
            "startup": false,
            "wait_interval": 0
          },
          "base_uri": "https://localhost:8080/",
          "height": 204
        },
        "outputId": "e9c3f46a-9abf-4d2b-84bc-52a2990c6a2d",
        "executionInfo": {
          "status": "ok",
          "timestamp": 1524009467024,
          "user_tz": 420,
          "elapsed": 370,
          "user": {
            "displayName": "Ray Heberer",
            "photoUrl": "//lh4.googleusercontent.com/-BMlr5I5Dhow/AAAAAAAAAAI/AAAAAAAAABc/XW4PF5A8K2Q/s50-c-k-no/photo.jpg",
            "userId": "116545933704048584401"
          }
        }
      },
      "cell_type": "code",
      "source": [
        "# separating the data by the category you want is huge\n",
        "\n",
        "women = titanic[titanic['sex'] == 0]\n",
        "men = titanic[titanic['sex'] == 1]\n",
        "print(women.head(10))"
      ],
      "execution_count": 9,
      "outputs": [
        {
          "output_type": "stream",
          "text": [
            "    survived  pclass  sex   age  sibsp  parch     fare  embarked  alone\n",
            "1          1       1    0  38.0      1      0  71.2833         0      0\n",
            "2          1       3    0  26.0      0      0   7.9250         2      1\n",
            "3          1       1    0  35.0      1      0  53.1000         2      0\n",
            "8          1       3    0  27.0      0      2  11.1333         2      0\n",
            "9          1       2    0  14.0      1      0  30.0708         0      0\n",
            "10         1       3    0   4.0      1      1  16.7000         2      0\n",
            "11         1       1    0  58.0      0      0  26.5500         2      1\n",
            "14         0       3    0  14.0      0      0   7.8542         2      1\n",
            "15         1       2    0  55.0      0      0  16.0000         2      1\n",
            "18         0       3    0  31.0      1      0  18.0000         2      0\n"
          ],
          "name": "stdout"
        }
      ]
    },
    {
      "metadata": {
        "id": "TNCfer2SXQL0",
        "colab_type": "text"
      },
      "cell_type": "markdown",
      "source": [
        "# Assignment in 8D\n",
        "\n",
        "* Calculate the centroid of the survivors.\n",
        "* Calculate the centroid of the casualties.\n",
        "* Calculate the average distance between each survivor.\n",
        "* Calculate the average distance between each casualty.\n",
        "* Calculate the distance between the two centroids. Along which axis is this distance the greatest? The least?\n"
      ]
    },
    {
      "metadata": {
        "id": "-uSmpPzMRL3S",
        "colab_type": "text"
      },
      "cell_type": "markdown",
      "source": [
        "## Additional Preprocessing\n",
        "\n",
        "So that some features do not contribute to the distance between points a disproportionate amount due to their scale, I will scale `fare` to be between 0 and 1. I will do the same with `pclass`, `parch`, and `sibsp`, since they are categorical variables with a meaningful ordering. Embarked does not have a meaningful order, so I will one-hot encode that feature.\n",
        "\n"
      ]
    },
    {
      "metadata": {
        "id": "SISn7JDXeuZY",
        "colab_type": "code",
        "colab": {
          "autoexec": {
            "startup": false,
            "wait_interval": 0
          }
        }
      },
      "cell_type": "code",
      "source": [
        "from sklearn.preprocessing import MinMaxScaler, OneHotEncoder\n",
        "\n",
        "titanic[['fare', 'age', 'pclass', 'sibsp', 'parch']] = pd.DataFrame(MinMaxScaler().fit_transform(titanic[['fare', 'age', 'pclass', 'sibsp', 'parch']]), \n",
        "                                                             columns=['fare', 'age', 'pclass', 'sibsp', 'parch'])"
      ],
      "execution_count": 0,
      "outputs": []
    },
    {
      "metadata": {
        "id": "u_YE3N0UUPjY",
        "colab_type": "code",
        "colab": {
          "autoexec": {
            "startup": false,
            "wait_interval": 0
          }
        }
      },
      "cell_type": "code",
      "source": [
        "embarked_one_hot = OneHotEncoder().fit_transform(titanic[['embarked']]).toarray()\n",
        "\n",
        "# by inspection, 0 -> Southampton, 1 -> Cherbourg, 2 -> Queenstown\n",
        "\n",
        "embarked = pd.DataFrame(embarked_one_hot, columns=['Southampton', 'Cherbourg', 'Queenstown'], dtype=np.int64)"
      ],
      "execution_count": 0,
      "outputs": []
    },
    {
      "metadata": {
        "id": "krmBIqs4VChO",
        "colab_type": "code",
        "colab": {
          "autoexec": {
            "startup": false,
            "wait_interval": 0
          }
        }
      },
      "cell_type": "code",
      "source": [
        "titanic_enc = titanic.join([embarked]).drop(['embarked'], axis=1)"
      ],
      "execution_count": 0,
      "outputs": []
    },
    {
      "metadata": {
        "id": "I5PrDOw1VHal",
        "colab_type": "code",
        "colab": {
          "autoexec": {
            "startup": false,
            "wait_interval": 0
          },
          "base_uri": "https://localhost:8080/",
          "height": 204
        },
        "outputId": "26714e71-fbf9-4866-c92d-06ecd2c3084d",
        "executionInfo": {
          "status": "ok",
          "timestamp": 1524009473124,
          "user_tz": 420,
          "elapsed": 394,
          "user": {
            "displayName": "Ray Heberer",
            "photoUrl": "//lh4.googleusercontent.com/-BMlr5I5Dhow/AAAAAAAAAAI/AAAAAAAAABc/XW4PF5A8K2Q/s50-c-k-no/photo.jpg",
            "userId": "116545933704048584401"
          }
        }
      },
      "cell_type": "code",
      "source": [
        "titanic_enc.head()"
      ],
      "execution_count": 13,
      "outputs": [
        {
          "output_type": "execute_result",
          "data": {
            "text/html": [
              "<div>\n",
              "<style scoped>\n",
              "    .dataframe tbody tr th:only-of-type {\n",
              "        vertical-align: middle;\n",
              "    }\n",
              "\n",
              "    .dataframe tbody tr th {\n",
              "        vertical-align: top;\n",
              "    }\n",
              "\n",
              "    .dataframe thead th {\n",
              "        text-align: right;\n",
              "    }\n",
              "</style>\n",
              "<table border=\"1\" class=\"dataframe\">\n",
              "  <thead>\n",
              "    <tr style=\"text-align: right;\">\n",
              "      <th></th>\n",
              "      <th>survived</th>\n",
              "      <th>pclass</th>\n",
              "      <th>sex</th>\n",
              "      <th>age</th>\n",
              "      <th>sibsp</th>\n",
              "      <th>parch</th>\n",
              "      <th>fare</th>\n",
              "      <th>alone</th>\n",
              "      <th>Southampton</th>\n",
              "      <th>Cherbourg</th>\n",
              "      <th>Queenstown</th>\n",
              "    </tr>\n",
              "  </thead>\n",
              "  <tbody>\n",
              "    <tr>\n",
              "      <th>0</th>\n",
              "      <td>0</td>\n",
              "      <td>1.0</td>\n",
              "      <td>1</td>\n",
              "      <td>0.271174</td>\n",
              "      <td>0.125</td>\n",
              "      <td>0.0</td>\n",
              "      <td>0.014151</td>\n",
              "      <td>0</td>\n",
              "      <td>0</td>\n",
              "      <td>0</td>\n",
              "      <td>1</td>\n",
              "    </tr>\n",
              "    <tr>\n",
              "      <th>1</th>\n",
              "      <td>1</td>\n",
              "      <td>0.0</td>\n",
              "      <td>0</td>\n",
              "      <td>0.472229</td>\n",
              "      <td>0.125</td>\n",
              "      <td>0.0</td>\n",
              "      <td>0.139136</td>\n",
              "      <td>0</td>\n",
              "      <td>1</td>\n",
              "      <td>0</td>\n",
              "      <td>0</td>\n",
              "    </tr>\n",
              "    <tr>\n",
              "      <th>2</th>\n",
              "      <td>1</td>\n",
              "      <td>1.0</td>\n",
              "      <td>0</td>\n",
              "      <td>0.321438</td>\n",
              "      <td>0.000</td>\n",
              "      <td>0.0</td>\n",
              "      <td>0.015469</td>\n",
              "      <td>1</td>\n",
              "      <td>0</td>\n",
              "      <td>0</td>\n",
              "      <td>1</td>\n",
              "    </tr>\n",
              "    <tr>\n",
              "      <th>3</th>\n",
              "      <td>1</td>\n",
              "      <td>0.0</td>\n",
              "      <td>0</td>\n",
              "      <td>0.434531</td>\n",
              "      <td>0.125</td>\n",
              "      <td>0.0</td>\n",
              "      <td>0.103644</td>\n",
              "      <td>0</td>\n",
              "      <td>0</td>\n",
              "      <td>0</td>\n",
              "      <td>1</td>\n",
              "    </tr>\n",
              "    <tr>\n",
              "      <th>4</th>\n",
              "      <td>0</td>\n",
              "      <td>1.0</td>\n",
              "      <td>1</td>\n",
              "      <td>0.434531</td>\n",
              "      <td>0.000</td>\n",
              "      <td>0.0</td>\n",
              "      <td>0.015713</td>\n",
              "      <td>1</td>\n",
              "      <td>0</td>\n",
              "      <td>0</td>\n",
              "      <td>1</td>\n",
              "    </tr>\n",
              "  </tbody>\n",
              "</table>\n",
              "</div>"
            ],
            "text/plain": [
              "   survived  pclass  sex       age  sibsp  parch      fare  alone  \\\n",
              "0         0     1.0    1  0.271174  0.125    0.0  0.014151      0   \n",
              "1         1     0.0    0  0.472229  0.125    0.0  0.139136      0   \n",
              "2         1     1.0    0  0.321438  0.000    0.0  0.015469      1   \n",
              "3         1     0.0    0  0.434531  0.125    0.0  0.103644      0   \n",
              "4         0     1.0    1  0.434531  0.000    0.0  0.015713      1   \n",
              "\n",
              "   Southampton  Cherbourg  Queenstown  \n",
              "0            0          0           1  \n",
              "1            1          0           0  \n",
              "2            0          0           1  \n",
              "3            0          0           1  \n",
              "4            0          0           1  "
            ]
          },
          "metadata": {
            "tags": []
          },
          "execution_count": 13
        }
      ]
    },
    {
      "metadata": {
        "id": "TV-UzCZUVhuF",
        "colab_type": "text"
      },
      "cell_type": "markdown",
      "source": [
        "## Finding Centroids\n",
        "\n",
        "The centroid of a set of 8D vector is itself an 8D vector where each component corresponds to the mean of the values of that component over the set.\n",
        "\n",
        "In order to solve this problem, I will first divide the data into two subsets, one for survivors and one for casualties. [`np.mean`](https://docs.scipy.org/doc/numpy-1.13.0/reference/generated/numpy.mean.html), with the appropriate `axis` argument, can then handle calculating the centroid. The pandas [`as_matrix()`](https://pandas.pydata.org/pandas-docs/stable/generated/pandas.DataFrame.as_matrix.html) DataFrame method can be used to convert the data to a numpy representation."
      ]
    },
    {
      "metadata": {
        "id": "O-l9J5CNWDaN",
        "colab_type": "code",
        "colab": {
          "autoexec": {
            "startup": false,
            "wait_interval": 0
          }
        }
      },
      "cell_type": "code",
      "source": [
        "survivors = titanic_enc[titanic_enc['survived'] == 1]\n",
        "casualties = titanic_enc[titanic_enc['survived'] == 0]"
      ],
      "execution_count": 0,
      "outputs": []
    },
    {
      "metadata": {
        "id": "AMK0onOcWQuD",
        "colab_type": "code",
        "colab": {
          "autoexec": {
            "startup": false,
            "wait_interval": 0
          },
          "base_uri": "https://localhost:8080/",
          "height": 142
        },
        "outputId": "e7d6030e-2346-440e-8cf3-80bc4fbb282d",
        "executionInfo": {
          "status": "ok",
          "timestamp": 1524009475404,
          "user_tz": 420,
          "elapsed": 356,
          "user": {
            "displayName": "Ray Heberer",
            "photoUrl": "//lh4.googleusercontent.com/-BMlr5I5Dhow/AAAAAAAAAAI/AAAAAAAAABc/XW4PF5A8K2Q/s50-c-k-no/photo.jpg",
            "userId": "116545933704048584401"
          }
        }
      },
      "cell_type": "code",
      "source": [
        "survivors.head(3)"
      ],
      "execution_count": 15,
      "outputs": [
        {
          "output_type": "execute_result",
          "data": {
            "text/html": [
              "<div>\n",
              "<style scoped>\n",
              "    .dataframe tbody tr th:only-of-type {\n",
              "        vertical-align: middle;\n",
              "    }\n",
              "\n",
              "    .dataframe tbody tr th {\n",
              "        vertical-align: top;\n",
              "    }\n",
              "\n",
              "    .dataframe thead th {\n",
              "        text-align: right;\n",
              "    }\n",
              "</style>\n",
              "<table border=\"1\" class=\"dataframe\">\n",
              "  <thead>\n",
              "    <tr style=\"text-align: right;\">\n",
              "      <th></th>\n",
              "      <th>survived</th>\n",
              "      <th>pclass</th>\n",
              "      <th>sex</th>\n",
              "      <th>age</th>\n",
              "      <th>sibsp</th>\n",
              "      <th>parch</th>\n",
              "      <th>fare</th>\n",
              "      <th>alone</th>\n",
              "      <th>Southampton</th>\n",
              "      <th>Cherbourg</th>\n",
              "      <th>Queenstown</th>\n",
              "    </tr>\n",
              "  </thead>\n",
              "  <tbody>\n",
              "    <tr>\n",
              "      <th>1</th>\n",
              "      <td>1</td>\n",
              "      <td>0.0</td>\n",
              "      <td>0</td>\n",
              "      <td>0.472229</td>\n",
              "      <td>0.125</td>\n",
              "      <td>0.0</td>\n",
              "      <td>0.139136</td>\n",
              "      <td>0</td>\n",
              "      <td>1</td>\n",
              "      <td>0</td>\n",
              "      <td>0</td>\n",
              "    </tr>\n",
              "    <tr>\n",
              "      <th>2</th>\n",
              "      <td>1</td>\n",
              "      <td>1.0</td>\n",
              "      <td>0</td>\n",
              "      <td>0.321438</td>\n",
              "      <td>0.000</td>\n",
              "      <td>0.0</td>\n",
              "      <td>0.015469</td>\n",
              "      <td>1</td>\n",
              "      <td>0</td>\n",
              "      <td>0</td>\n",
              "      <td>1</td>\n",
              "    </tr>\n",
              "    <tr>\n",
              "      <th>3</th>\n",
              "      <td>1</td>\n",
              "      <td>0.0</td>\n",
              "      <td>0</td>\n",
              "      <td>0.434531</td>\n",
              "      <td>0.125</td>\n",
              "      <td>0.0</td>\n",
              "      <td>0.103644</td>\n",
              "      <td>0</td>\n",
              "      <td>0</td>\n",
              "      <td>0</td>\n",
              "      <td>1</td>\n",
              "    </tr>\n",
              "  </tbody>\n",
              "</table>\n",
              "</div>"
            ],
            "text/plain": [
              "   survived  pclass  sex       age  sibsp  parch      fare  alone  \\\n",
              "1         1     0.0    0  0.472229  0.125    0.0  0.139136      0   \n",
              "2         1     1.0    0  0.321438  0.000    0.0  0.015469      1   \n",
              "3         1     0.0    0  0.434531  0.125    0.0  0.103644      0   \n",
              "\n",
              "   Southampton  Cherbourg  Queenstown  \n",
              "1            1          0           0  \n",
              "2            0          0           1  \n",
              "3            0          0           1  "
            ]
          },
          "metadata": {
            "tags": []
          },
          "execution_count": 15
        }
      ]
    },
    {
      "metadata": {
        "id": "V2rxOsAGWSJI",
        "colab_type": "code",
        "colab": {
          "autoexec": {
            "startup": false,
            "wait_interval": 0
          },
          "base_uri": "https://localhost:8080/",
          "height": 142
        },
        "outputId": "2e250d3f-aad5-41f3-8d76-0ae578942230",
        "executionInfo": {
          "status": "ok",
          "timestamp": 1524009476239,
          "user_tz": 420,
          "elapsed": 376,
          "user": {
            "displayName": "Ray Heberer",
            "photoUrl": "//lh4.googleusercontent.com/-BMlr5I5Dhow/AAAAAAAAAAI/AAAAAAAAABc/XW4PF5A8K2Q/s50-c-k-no/photo.jpg",
            "userId": "116545933704048584401"
          }
        }
      },
      "cell_type": "code",
      "source": [
        "casualties.head(3)"
      ],
      "execution_count": 16,
      "outputs": [
        {
          "output_type": "execute_result",
          "data": {
            "text/html": [
              "<div>\n",
              "<style scoped>\n",
              "    .dataframe tbody tr th:only-of-type {\n",
              "        vertical-align: middle;\n",
              "    }\n",
              "\n",
              "    .dataframe tbody tr th {\n",
              "        vertical-align: top;\n",
              "    }\n",
              "\n",
              "    .dataframe thead th {\n",
              "        text-align: right;\n",
              "    }\n",
              "</style>\n",
              "<table border=\"1\" class=\"dataframe\">\n",
              "  <thead>\n",
              "    <tr style=\"text-align: right;\">\n",
              "      <th></th>\n",
              "      <th>survived</th>\n",
              "      <th>pclass</th>\n",
              "      <th>sex</th>\n",
              "      <th>age</th>\n",
              "      <th>sibsp</th>\n",
              "      <th>parch</th>\n",
              "      <th>fare</th>\n",
              "      <th>alone</th>\n",
              "      <th>Southampton</th>\n",
              "      <th>Cherbourg</th>\n",
              "      <th>Queenstown</th>\n",
              "    </tr>\n",
              "  </thead>\n",
              "  <tbody>\n",
              "    <tr>\n",
              "      <th>0</th>\n",
              "      <td>0</td>\n",
              "      <td>1.0</td>\n",
              "      <td>1</td>\n",
              "      <td>0.271174</td>\n",
              "      <td>0.125</td>\n",
              "      <td>0.0</td>\n",
              "      <td>0.014151</td>\n",
              "      <td>0</td>\n",
              "      <td>0</td>\n",
              "      <td>0</td>\n",
              "      <td>1</td>\n",
              "    </tr>\n",
              "    <tr>\n",
              "      <th>4</th>\n",
              "      <td>0</td>\n",
              "      <td>1.0</td>\n",
              "      <td>1</td>\n",
              "      <td>0.434531</td>\n",
              "      <td>0.000</td>\n",
              "      <td>0.0</td>\n",
              "      <td>0.015713</td>\n",
              "      <td>1</td>\n",
              "      <td>0</td>\n",
              "      <td>0</td>\n",
              "      <td>1</td>\n",
              "    </tr>\n",
              "    <tr>\n",
              "      <th>5</th>\n",
              "      <td>0</td>\n",
              "      <td>1.0</td>\n",
              "      <td>1</td>\n",
              "      <td>0.434531</td>\n",
              "      <td>0.000</td>\n",
              "      <td>0.0</td>\n",
              "      <td>0.016510</td>\n",
              "      <td>1</td>\n",
              "      <td>0</td>\n",
              "      <td>1</td>\n",
              "      <td>0</td>\n",
              "    </tr>\n",
              "  </tbody>\n",
              "</table>\n",
              "</div>"
            ],
            "text/plain": [
              "   survived  pclass  sex       age  sibsp  parch      fare  alone  \\\n",
              "0         0     1.0    1  0.271174  0.125    0.0  0.014151      0   \n",
              "4         0     1.0    1  0.434531  0.000    0.0  0.015713      1   \n",
              "5         0     1.0    1  0.434531  0.000    0.0  0.016510      1   \n",
              "\n",
              "   Southampton  Cherbourg  Queenstown  \n",
              "0            0          0           1  \n",
              "4            0          0           1  \n",
              "5            0          1           0  "
            ]
          },
          "metadata": {
            "tags": []
          },
          "execution_count": 16
        }
      ]
    },
    {
      "metadata": {
        "id": "EkZG1SNtXBhB",
        "colab_type": "text"
      },
      "cell_type": "markdown",
      "source": [
        "I will drop the `survived` columns from these DataFrames, since it is a global label, and won't add information when the centroid is calculated from the features."
      ]
    },
    {
      "metadata": {
        "id": "K4jPxN6UXJII",
        "colab_type": "code",
        "colab": {
          "autoexec": {
            "startup": false,
            "wait_interval": 0
          }
        }
      },
      "cell_type": "code",
      "source": [
        "survivors = survivors.drop('survived', axis=1)\n",
        "casualties = casualties.drop('survived', axis=1)"
      ],
      "execution_count": 0,
      "outputs": []
    },
    {
      "metadata": {
        "id": "uEOHrtgFWWq5",
        "colab_type": "code",
        "colab": {
          "autoexec": {
            "startup": false,
            "wait_interval": 0
          },
          "base_uri": "https://localhost:8080/",
          "height": 85
        },
        "outputId": "f44ae6cc-026f-4bdb-cb67-7e06a6e2827e",
        "executionInfo": {
          "status": "ok",
          "timestamp": 1524009478423,
          "user_tz": 420,
          "elapsed": 379,
          "user": {
            "displayName": "Ray Heberer",
            "photoUrl": "//lh4.googleusercontent.com/-BMlr5I5Dhow/AAAAAAAAAAI/AAAAAAAAABc/XW4PF5A8K2Q/s50-c-k-no/photo.jpg",
            "userId": "116545933704048584401"
          }
        }
      },
      "cell_type": "code",
      "source": [
        "survivor_centroid = np.mean(survivors.as_matrix(), axis=0)\n",
        "casualty_centroid = np.mean(casualties.as_matrix(), axis=0)\n",
        "\n",
        "print(\"Survivors centered around:\", survivor_centroid)\n",
        "print(\"Casualties centered around:\", casualty_centroid)"
      ],
      "execution_count": 18,
      "outputs": [
        {
          "output_type": "stream",
          "text": [
            "Survivors centered around: [0.4751462  0.31871345 0.35125748 0.05921053 0.07748538 0.09446154\n",
            " 0.47660819 0.2748538  0.09064327 0.63450292]\n",
            "Casualties centered around: [0.76593807 0.85245902 0.37590337 0.06921676 0.05494839 0.04317124\n",
            " 0.68123862 0.13661202 0.0856102  0.77777778]\n"
          ],
          "name": "stdout"
        }
      ]
    },
    {
      "metadata": {
        "id": "WxA8JShpYGj0",
        "colab_type": "text"
      },
      "cell_type": "markdown",
      "source": [
        "## Average Distance Between Points in the Same Cluster"
      ]
    },
    {
      "metadata": {
        "id": "cM1hRh1oYPkR",
        "colab_type": "text"
      },
      "cell_type": "markdown",
      "source": [
        "I will simply enumerate all possible pairs of points, calculate the distances between them, and average."
      ]
    },
    {
      "metadata": {
        "id": "FaUUTYY2ZHuo",
        "colab_type": "code",
        "colab": {
          "autoexec": {
            "startup": false,
            "wait_interval": 0
          }
        }
      },
      "cell_type": "code",
      "source": [
        "def distance(v1, v2):\n",
        "    return np.linalg.norm(v1-v2)\n",
        "\n",
        "def average_point_distance(cluster):\n",
        "    \"\"\"Averages over all possible distances between any two points in a set of points\n",
        "    \n",
        "    Args:\n",
        "        cluster (np.ndarray): rank 2 array, with rows corresponding to vectors\n",
        "        \n",
        "    Returns:\n",
        "        The numeric (float) value of the average distance between points in 'cluster'\n",
        "    \"\"\"\n",
        "    \n",
        "    distances = [distance(cluster[i], cluster[j]) for i in range(cluster.shape[0]) for j in range(cluster.shape[0]) if j > i]\n",
        "    \n",
        "    return np.mean(distances)"
      ],
      "execution_count": 0,
      "outputs": []
    },
    {
      "metadata": {
        "id": "wtIBZjHlaWYL",
        "colab_type": "code",
        "colab": {
          "autoexec": {
            "startup": false,
            "wait_interval": 0
          }
        }
      },
      "cell_type": "code",
      "source": [
        "survivor_average_distance = average_point_distance(survivors.as_matrix())\n",
        "casualty_average_distance = average_point_distance(casualties.as_matrix())"
      ],
      "execution_count": 0,
      "outputs": []
    },
    {
      "metadata": {
        "id": "hcMsXjLLbd2r",
        "colab_type": "code",
        "colab": {
          "autoexec": {
            "startup": false,
            "wait_interval": 0
          },
          "base_uri": "https://localhost:8080/",
          "height": 51
        },
        "outputId": "f6f7eba5-1fd1-40fa-fa97-56f613c339b8",
        "executionInfo": {
          "status": "ok",
          "timestamp": 1524009485489,
          "user_tz": 420,
          "elapsed": 447,
          "user": {
            "displayName": "Ray Heberer",
            "photoUrl": "//lh4.googleusercontent.com/-BMlr5I5Dhow/AAAAAAAAAAI/AAAAAAAAABc/XW4PF5A8K2Q/s50-c-k-no/photo.jpg",
            "userId": "116545933704048584401"
          }
        }
      },
      "cell_type": "code",
      "source": [
        "print(\"Survivors an average of {} apart\".format(survivor_average_distance))\n",
        "print(\"Casualties an average of {} apart\".format(casualty_average_distance))"
      ],
      "execution_count": 21,
      "outputs": [
        {
          "output_type": "stream",
          "text": [
            "Survivors an average of 1.4965355772670488 apart\n",
            "Casualties an average of 1.2271173101548993 apart\n"
          ],
          "name": "stdout"
        }
      ]
    },
    {
      "metadata": {
        "id": "Z5aRxG17b7zq",
        "colab_type": "text"
      },
      "cell_type": "markdown",
      "source": [
        "## Distance Between Centroids\n",
        "\n",
        "Since the centroids are themselves vectors, their distance can be calculated as the magnitude of their vector difference."
      ]
    },
    {
      "metadata": {
        "id": "bsj6lyFtcE2o",
        "colab_type": "code",
        "colab": {
          "autoexec": {
            "startup": false,
            "wait_interval": 0
          },
          "base_uri": "https://localhost:8080/",
          "height": 34
        },
        "outputId": "f542d481-dedf-49f8-bbc5-49deeb644f7c",
        "executionInfo": {
          "status": "ok",
          "timestamp": 1524009489327,
          "user_tz": 420,
          "elapsed": 435,
          "user": {
            "displayName": "Ray Heberer",
            "photoUrl": "//lh4.googleusercontent.com/-BMlr5I5Dhow/AAAAAAAAAAI/AAAAAAAAABc/XW4PF5A8K2Q/s50-c-k-no/photo.jpg",
            "userId": "116545933704048584401"
          }
        }
      },
      "cell_type": "code",
      "source": [
        "centroid_distance = distance(survivor_centroid, casualty_centroid)\n",
        "\n",
        "print(\"Centroids {} apart\".format(centroid_distance))"
      ],
      "execution_count": 22,
      "outputs": [
        {
          "output_type": "stream",
          "text": [
            "Centroids 0.6744092334853754 apart\n"
          ],
          "name": "stdout"
        }
      ]
    },
    {
      "metadata": {
        "id": "dtHA3Rssnh-S",
        "colab_type": "text"
      },
      "cell_type": "markdown",
      "source": [
        "The distance between centroids as not as great as the average distance between both survivors and casualties. This indicates that considering all features of the data jointly does not yield too much predictive power. Clearly, the two clusters are not linearly separable in the 8D space."
      ]
    },
    {
      "metadata": {
        "id": "hDF-rNNHergj",
        "colab_type": "text"
      },
      "cell_type": "markdown",
      "source": [
        "## Considering Individual Dimensions\n",
        "\n",
        "So far, I have dealt with the global centroids of all 8 features (10, if the one hot encoded feature is treated as 3). We can also consider features individually and perform the same analysis. In one dimension, the term \"mean\" is generally used instead of centroid, since it is not as meaningful to treat the values as vectors."
      ]
    },
    {
      "metadata": {
        "id": "QdtUIP6Hg_MT",
        "colab_type": "code",
        "colab": {
          "autoexec": {
            "startup": false,
            "wait_interval": 0
          },
          "base_uri": "https://localhost:8080/",
          "height": 34
        },
        "outputId": "49743465-5d10-426f-aac5-dc5689a2754a",
        "executionInfo": {
          "status": "ok",
          "timestamp": 1524009553464,
          "user_tz": 420,
          "elapsed": 390,
          "user": {
            "displayName": "Ray Heberer",
            "photoUrl": "//lh4.googleusercontent.com/-BMlr5I5Dhow/AAAAAAAAAAI/AAAAAAAAABc/XW4PF5A8K2Q/s50-c-k-no/photo.jpg",
            "userId": "116545933704048584401"
          }
        }
      },
      "cell_type": "code",
      "source": [
        "print((survivors.columns.all()==casualties.columns.all()))\n",
        "\n",
        "# the features are the same for both survivors and casualties\n",
        "\n",
        "def get_cluster_data(survivors, casualties, subsets, log_every=50):\n",
        "    cluster_data = pd.DataFrame([])\n",
        "    for subset in subsets:\n",
        "        data_s = survivors[subset].as_matrix()\n",
        "        data_c = casualties[subset].as_matrix()\n",
        "        \n",
        "        centroid_s = np.mean(data_s, axis=0)\n",
        "        centroid_c = np.mean(data_c, axis=0)\n",
        "        \n",
        "        distance_s = average_point_distance(data_s)\n",
        "        distance_c = average_point_distance(data_c)\n",
        "        \n",
        "        centroid_distance = distance(centroid_s, centroid_c)\n",
        "        \n",
        "        data = pd.DataFrame([[distance_s, distance_c, centroid_distance]], index=[str(subset)], columns=[\"Average Distance Between Survivors\",\n",
        "                                         \"Average Distance Between Casualties\",\n",
        "                                         \"Distance Between Centroids\"])\n",
        "        \n",
        "        cluster_data = cluster_data.append(data)\n",
        "        \n",
        "        if cluster_data.shape[0] % log_every == 0:\n",
        "            print(\"{} subsets analyzed...\".format(cluster_data.shape[0]))\n",
        "        \n",
        "    return cluster_data"
      ],
      "execution_count": 31,
      "outputs": [
        {
          "output_type": "stream",
          "text": [
            "True\n"
          ],
          "name": "stdout"
        }
      ]
    },
    {
      "metadata": {
        "id": "S6EqshLZi_qY",
        "colab_type": "code",
        "colab": {
          "autoexec": {
            "startup": false,
            "wait_interval": 0
          }
        }
      },
      "cell_type": "code",
      "source": [
        "data = get_cluster_data(survivors, casualties, survivors.columns)"
      ],
      "execution_count": 0,
      "outputs": []
    },
    {
      "metadata": {
        "id": "g_xMjeBf1KsC",
        "colab_type": "code",
        "colab": {
          "autoexec": {
            "startup": false,
            "wait_interval": 0
          },
          "base_uri": "https://localhost:8080/",
          "height": 359
        },
        "outputId": "042af794-fff2-4e27-9074-3accf74f5567",
        "executionInfo": {
          "status": "ok",
          "timestamp": 1524009654394,
          "user_tz": 420,
          "elapsed": 320,
          "user": {
            "displayName": "Ray Heberer",
            "photoUrl": "//lh4.googleusercontent.com/-BMlr5I5Dhow/AAAAAAAAAAI/AAAAAAAAABc/XW4PF5A8K2Q/s50-c-k-no/photo.jpg",
            "userId": "116545933704048584401"
          }
        }
      },
      "cell_type": "code",
      "source": [
        "data"
      ],
      "execution_count": 33,
      "outputs": [
        {
          "output_type": "execute_result",
          "data": {
            "text/html": [
              "<div>\n",
              "<style scoped>\n",
              "    .dataframe tbody tr th:only-of-type {\n",
              "        vertical-align: middle;\n",
              "    }\n",
              "\n",
              "    .dataframe tbody tr th {\n",
              "        vertical-align: top;\n",
              "    }\n",
              "\n",
              "    .dataframe thead th {\n",
              "        text-align: right;\n",
              "    }\n",
              "</style>\n",
              "<table border=\"1\" class=\"dataframe\">\n",
              "  <thead>\n",
              "    <tr style=\"text-align: right;\">\n",
              "      <th></th>\n",
              "      <th>Average Distance Between Survivors</th>\n",
              "      <th>Average Distance Between Casualties</th>\n",
              "      <th>Distance Between Centroids</th>\n",
              "    </tr>\n",
              "  </thead>\n",
              "  <tbody>\n",
              "    <tr>\n",
              "      <th>pclass</th>\n",
              "      <td>0.467776</td>\n",
              "      <td>0.343571</td>\n",
              "      <td>0.290792</td>\n",
              "    </tr>\n",
              "    <tr>\n",
              "      <th>sex</th>\n",
              "      <td>0.435544</td>\n",
              "      <td>0.252004</td>\n",
              "      <td>0.533746</td>\n",
              "    </tr>\n",
              "    <tr>\n",
              "      <th>age</th>\n",
              "      <td>0.216515</td>\n",
              "      <td>0.196545</td>\n",
              "      <td>0.024646</td>\n",
              "    </tr>\n",
              "    <tr>\n",
              "      <th>sibsp</th>\n",
              "      <td>0.080435</td>\n",
              "      <td>0.115204</td>\n",
              "      <td>0.010006</td>\n",
              "    </tr>\n",
              "    <tr>\n",
              "      <th>parch</th>\n",
              "      <td>0.115882</td>\n",
              "      <td>0.094979</td>\n",
              "      <td>0.022537</td>\n",
              "    </tr>\n",
              "    <tr>\n",
              "      <th>fare</th>\n",
              "      <td>0.105845</td>\n",
              "      <td>0.044693</td>\n",
              "      <td>0.051290</td>\n",
              "    </tr>\n",
              "    <tr>\n",
              "      <th>alone</th>\n",
              "      <td>0.500369</td>\n",
              "      <td>0.435098</td>\n",
              "      <td>0.204630</td>\n",
              "    </tr>\n",
              "    <tr>\n",
              "      <th>Southampton</th>\n",
              "      <td>0.399787</td>\n",
              "      <td>0.236329</td>\n",
              "      <td>0.138242</td>\n",
              "    </tr>\n",
              "    <tr>\n",
              "      <th>Cherbourg</th>\n",
              "      <td>0.165338</td>\n",
              "      <td>0.156848</td>\n",
              "      <td>0.005033</td>\n",
              "    </tr>\n",
              "    <tr>\n",
              "      <th>Queenstown</th>\n",
              "      <td>0.465178</td>\n",
              "      <td>0.346310</td>\n",
              "      <td>0.143275</td>\n",
              "    </tr>\n",
              "  </tbody>\n",
              "</table>\n",
              "</div>"
            ],
            "text/plain": [
              "             Average Distance Between Survivors  \\\n",
              "pclass                                 0.467776   \n",
              "sex                                    0.435544   \n",
              "age                                    0.216515   \n",
              "sibsp                                  0.080435   \n",
              "parch                                  0.115882   \n",
              "fare                                   0.105845   \n",
              "alone                                  0.500369   \n",
              "Southampton                            0.399787   \n",
              "Cherbourg                              0.165338   \n",
              "Queenstown                             0.465178   \n",
              "\n",
              "             Average Distance Between Casualties  Distance Between Centroids  \n",
              "pclass                                  0.343571                    0.290792  \n",
              "sex                                     0.252004                    0.533746  \n",
              "age                                     0.196545                    0.024646  \n",
              "sibsp                                   0.115204                    0.010006  \n",
              "parch                                   0.094979                    0.022537  \n",
              "fare                                    0.044693                    0.051290  \n",
              "alone                                   0.435098                    0.204630  \n",
              "Southampton                             0.236329                    0.138242  \n",
              "Cherbourg                               0.156848                    0.005033  \n",
              "Queenstown                              0.346310                    0.143275  "
            ]
          },
          "metadata": {
            "tags": []
          },
          "execution_count": 33
        }
      ]
    },
    {
      "metadata": {
        "id": "S5f-WmlpkqXc",
        "colab_type": "code",
        "colab": {
          "autoexec": {
            "startup": false,
            "wait_interval": 0
          },
          "base_uri": "https://localhost:8080/",
          "height": 204
        },
        "outputId": "bcc63fb7-2d6b-4ffd-a8aa-4eb949cb3b5b",
        "executionInfo": {
          "status": "ok",
          "timestamp": 1524009657124,
          "user_tz": 420,
          "elapsed": 350,
          "user": {
            "displayName": "Ray Heberer",
            "photoUrl": "//lh4.googleusercontent.com/-BMlr5I5Dhow/AAAAAAAAAAI/AAAAAAAAABc/XW4PF5A8K2Q/s50-c-k-no/photo.jpg",
            "userId": "116545933704048584401"
          }
        }
      },
      "cell_type": "code",
      "source": [
        "print(\"Min:\")\n",
        "print(data.min(), '\\n')\n",
        "print(\"Max:\")\n",
        "print(data.max())"
      ],
      "execution_count": 34,
      "outputs": [
        {
          "output_type": "stream",
          "text": [
            "Min:\n",
            "Average Distance Between Survivors     0.080435\n",
            "Average Distance Between Casualties    0.044693\n",
            "Distance Between Centroids             0.005033\n",
            "dtype: float64 \n",
            "\n",
            "Max:\n",
            "Average Distance Between Survivors     0.500369\n",
            "Average Distance Between Casualties    0.435098\n",
            "Distance Between Centroids             0.533746\n",
            "dtype: float64\n"
          ],
          "name": "stdout"
        }
      ]
    },
    {
      "metadata": {
        "id": "Kh1XcP3xlf4S",
        "colab_type": "text"
      },
      "cell_type": "markdown",
      "source": [
        "The largest difference between centroid components is along the `sex` dimension. This is in line with well-known results. `pclass` and `alone` have the 2nd and 3rd greatest differences in their means. Large differences can be interpreted as saying that the average `sex` of a survivor, for instance, was quite different from he average `sex` of a casualty.\n",
        "\n",
        "The dimensions with the tightest clusters are `sibsp` and `fare`, for survivors and casualties respectively. This can be interpreted as meaning that survivors were similar to each other in terms of their `sibsp` value while casualties were similar to each other in terms of their `fare`.\n",
        "\n",
        "Note that these are two slightly different forms of reasoning about the distribution of features given the outcome (survivor vs casualty)."
      ]
    },
    {
      "metadata": {
        "id": "qC69sBb4ZSJ9",
        "colab_type": "text"
      },
      "cell_type": "markdown",
      "source": [
        "# Stretch Goal\n",
        "\n",
        "## Automate it: Find the optimal set of dimensions\n",
        "\n",
        "* Automate this: Find the set of dimensions where: the mean distance between each survivor and the mean distance between each casualty is less than the distance.\n",
        "\n",
        "The set of dimensions that maximizes centroid distance and minimizes the cluster distances is the \"best\" dataset. Or is it? Why do we need the other dimensions? What if we have 30 dimensions and not just 8? What if there is no optimal clustering arrangement?"
      ]
    },
    {
      "metadata": {
        "id": "xW2F3LMvn8T5",
        "colab_type": "text"
      },
      "cell_type": "markdown",
      "source": [
        "Instead of considering each dimension separately, I will now consider every possible subset of dimensions.\n",
        "\n",
        "What I am performing now is feature selection, where my selection criteria are the centroid and cluster distances."
      ]
    },
    {
      "metadata": {
        "id": "GbQjCnFXrazG",
        "colab_type": "code",
        "colab": {
          "autoexec": {
            "startup": false,
            "wait_interval": 0
          }
        }
      },
      "cell_type": "code",
      "source": [
        "from itertools import chain, combinations"
      ],
      "execution_count": 0,
      "outputs": []
    },
    {
      "metadata": {
        "id": "5zASME1LrFPB",
        "colab_type": "code",
        "colab": {
          "autoexec": {
            "startup": false,
            "wait_interval": 0
          }
        }
      },
      "cell_type": "code",
      "source": [
        "def all_subsets(data_cols):\n",
        "    return chain(*map(lambda x: combinations(data_cols, x), range(0, len(data_cols)+1)))"
      ],
      "execution_count": 0,
      "outputs": []
    },
    {
      "metadata": {
        "id": "PGa-Ilepyosq",
        "colab_type": "code",
        "colab": {
          "autoexec": {
            "startup": false,
            "wait_interval": 0
          }
        }
      },
      "cell_type": "code",
      "source": [
        "subsets = [list(subset) for subset in all_subsets(survivors.columns) if len(subset) > 0]"
      ],
      "execution_count": 0,
      "outputs": []
    },
    {
      "metadata": {
        "id": "5YPADgIE2c75",
        "colab_type": "code",
        "colab": {
          "autoexec": {
            "startup": false,
            "wait_interval": 0
          }
        }
      },
      "cell_type": "code",
      "source": [
        "data = get_cluster_data(survivors, casualties, subsets)"
      ],
      "execution_count": 0,
      "outputs": []
    },
    {
      "metadata": {
        "id": "DSCubQdi6d46",
        "colab_type": "code",
        "colab": {
          "autoexec": {
            "startup": false,
            "wait_interval": 0
          },
          "base_uri": "https://localhost:8080/",
          "height": 204
        },
        "outputId": "e3a7081f-2d73-4713-ee34-5f2ab12fd3bd",
        "executionInfo": {
          "status": "ok",
          "timestamp": 1524007314993,
          "user_tz": 420,
          "elapsed": 444,
          "user": {
            "displayName": "Ray Heberer",
            "photoUrl": "//lh4.googleusercontent.com/-BMlr5I5Dhow/AAAAAAAAAAI/AAAAAAAAABc/XW4PF5A8K2Q/s50-c-k-no/photo.jpg",
            "userId": "116545933704048584401"
          }
        }
      },
      "cell_type": "code",
      "source": [
        "data.head()"
      ],
      "execution_count": 89,
      "outputs": [
        {
          "output_type": "execute_result",
          "data": {
            "text/html": [
              "<div>\n",
              "<style scoped>\n",
              "    .dataframe tbody tr th:only-of-type {\n",
              "        vertical-align: middle;\n",
              "    }\n",
              "\n",
              "    .dataframe tbody tr th {\n",
              "        vertical-align: top;\n",
              "    }\n",
              "\n",
              "    .dataframe thead th {\n",
              "        text-align: right;\n",
              "    }\n",
              "</style>\n",
              "<table border=\"1\" class=\"dataframe\">\n",
              "  <thead>\n",
              "    <tr style=\"text-align: right;\">\n",
              "      <th></th>\n",
              "      <th>Average Distance Between Survivors</th>\n",
              "      <th>Average Distance Between Casualties</th>\n",
              "      <th>Distance Between Centroids</th>\n",
              "    </tr>\n",
              "  </thead>\n",
              "  <tbody>\n",
              "    <tr>\n",
              "      <th>['pclass']</th>\n",
              "      <td>0.467776</td>\n",
              "      <td>0.467776</td>\n",
              "      <td>0.0</td>\n",
              "    </tr>\n",
              "    <tr>\n",
              "      <th>['sex']</th>\n",
              "      <td>0.435544</td>\n",
              "      <td>0.435544</td>\n",
              "      <td>0.0</td>\n",
              "    </tr>\n",
              "    <tr>\n",
              "      <th>['age']</th>\n",
              "      <td>0.216515</td>\n",
              "      <td>0.216515</td>\n",
              "      <td>0.0</td>\n",
              "    </tr>\n",
              "    <tr>\n",
              "      <th>['sibsp']</th>\n",
              "      <td>0.080435</td>\n",
              "      <td>0.080435</td>\n",
              "      <td>0.0</td>\n",
              "    </tr>\n",
              "    <tr>\n",
              "      <th>['parch']</th>\n",
              "      <td>0.115882</td>\n",
              "      <td>0.115882</td>\n",
              "      <td>0.0</td>\n",
              "    </tr>\n",
              "  </tbody>\n",
              "</table>\n",
              "</div>"
            ],
            "text/plain": [
              "            Average Distance Between Survivors  \\\n",
              "['pclass']                            0.467776   \n",
              "['sex']                               0.435544   \n",
              "['age']                               0.216515   \n",
              "['sibsp']                             0.080435   \n",
              "['parch']                             0.115882   \n",
              "\n",
              "            Average Distance Between Casualties  Distance Between Centroids  \n",
              "['pclass']                             0.467776                         0.0  \n",
              "['sex']                                0.435544                         0.0  \n",
              "['age']                                0.216515                         0.0  \n",
              "['sibsp']                              0.080435                         0.0  \n",
              "['parch']                              0.115882                         0.0  "
            ]
          },
          "metadata": {
            "tags": []
          },
          "execution_count": 89
        }
      ]
    },
    {
      "metadata": {
        "id": "ayBq9GEl6iPb",
        "colab_type": "code",
        "colab": {
          "autoexec": {
            "startup": false,
            "wait_interval": 0
          },
          "base_uri": "https://localhost:8080/",
          "height": 306
        },
        "outputId": "14e08fd0-cc98-4831-f2b1-6686fa786f9b",
        "executionInfo": {
          "status": "ok",
          "timestamp": 1524007318023,
          "user_tz": 420,
          "elapsed": 401,
          "user": {
            "displayName": "Ray Heberer",
            "photoUrl": "//lh4.googleusercontent.com/-BMlr5I5Dhow/AAAAAAAAAAI/AAAAAAAAABc/XW4PF5A8K2Q/s50-c-k-no/photo.jpg",
            "userId": "116545933704048584401"
          }
        }
      },
      "cell_type": "code",
      "source": [
        "data.tail()"
      ],
      "execution_count": 90,
      "outputs": [
        {
          "output_type": "execute_result",
          "data": {
            "text/html": [
              "<div>\n",
              "<style scoped>\n",
              "    .dataframe tbody tr th:only-of-type {\n",
              "        vertical-align: middle;\n",
              "    }\n",
              "\n",
              "    .dataframe tbody tr th {\n",
              "        vertical-align: top;\n",
              "    }\n",
              "\n",
              "    .dataframe thead th {\n",
              "        text-align: right;\n",
              "    }\n",
              "</style>\n",
              "<table border=\"1\" class=\"dataframe\">\n",
              "  <thead>\n",
              "    <tr style=\"text-align: right;\">\n",
              "      <th></th>\n",
              "      <th>Average Distance Between Survivors</th>\n",
              "      <th>Average Distance Between Casualties</th>\n",
              "      <th>Distance Between Centroids</th>\n",
              "    </tr>\n",
              "  </thead>\n",
              "  <tbody>\n",
              "    <tr>\n",
              "      <th>['pclass', 'sex', 'age', 'parch', 'fare', 'alone', 'Southampton', 'Cherbourg', 'Queenstown']</th>\n",
              "      <td>1.490492</td>\n",
              "      <td>1.490492</td>\n",
              "      <td>0.0</td>\n",
              "    </tr>\n",
              "    <tr>\n",
              "      <th>['pclass', 'sex', 'sibsp', 'parch', 'fare', 'alone', 'Southampton', 'Cherbourg', 'Queenstown']</th>\n",
              "      <td>1.465475</td>\n",
              "      <td>1.465475</td>\n",
              "      <td>0.0</td>\n",
              "    </tr>\n",
              "    <tr>\n",
              "      <th>['pclass', 'age', 'sibsp', 'parch', 'fare', 'alone', 'Southampton', 'Cherbourg', 'Queenstown']</th>\n",
              "      <td>1.335193</td>\n",
              "      <td>1.335193</td>\n",
              "      <td>0.0</td>\n",
              "    </tr>\n",
              "    <tr>\n",
              "      <th>['sex', 'age', 'sibsp', 'parch', 'fare', 'alone', 'Southampton', 'Cherbourg', 'Queenstown']</th>\n",
              "      <td>1.357310</td>\n",
              "      <td>1.357310</td>\n",
              "      <td>0.0</td>\n",
              "    </tr>\n",
              "    <tr>\n",
              "      <th>['pclass', 'sex', 'age', 'sibsp', 'parch', 'fare', 'alone', 'Southampton', 'Cherbourg', 'Queenstown']</th>\n",
              "      <td>1.496536</td>\n",
              "      <td>1.496536</td>\n",
              "      <td>0.0</td>\n",
              "    </tr>\n",
              "  </tbody>\n",
              "</table>\n",
              "</div>"
            ],
            "text/plain": [
              "                                                    Average Distance Between Survivors  \\\n",
              "['pclass', 'sex', 'age', 'parch', 'fare', 'alon...                            1.490492   \n",
              "['pclass', 'sex', 'sibsp', 'parch', 'fare', 'al...                            1.465475   \n",
              "['pclass', 'age', 'sibsp', 'parch', 'fare', 'al...                            1.335193   \n",
              "['sex', 'age', 'sibsp', 'parch', 'fare', 'alone...                            1.357310   \n",
              "['pclass', 'sex', 'age', 'sibsp', 'parch', 'far...                            1.496536   \n",
              "\n",
              "                                                    Average Distance Between Casualties  \\\n",
              "['pclass', 'sex', 'age', 'parch', 'fare', 'alon...                             1.490492   \n",
              "['pclass', 'sex', 'sibsp', 'parch', 'fare', 'al...                             1.465475   \n",
              "['pclass', 'age', 'sibsp', 'parch', 'fare', 'al...                             1.335193   \n",
              "['sex', 'age', 'sibsp', 'parch', 'fare', 'alone...                             1.357310   \n",
              "['pclass', 'sex', 'age', 'sibsp', 'parch', 'far...                             1.496536   \n",
              "\n",
              "                                                    Distance Between Centroids  \n",
              "['pclass', 'sex', 'age', 'parch', 'fare', 'alon...                         0.0  \n",
              "['pclass', 'sex', 'sibsp', 'parch', 'fare', 'al...                         0.0  \n",
              "['pclass', 'age', 'sibsp', 'parch', 'fare', 'al...                         0.0  \n",
              "['sex', 'age', 'sibsp', 'parch', 'fare', 'alone...                         0.0  \n",
              "['pclass', 'sex', 'age', 'sibsp', 'parch', 'far...                         0.0  "
            ]
          },
          "metadata": {
            "tags": []
          },
          "execution_count": 90
        }
      ]
    },
    {
      "metadata": {
        "id": "gwmfgpcF-w0A",
        "colab_type": "code",
        "colab": {
          "autoexec": {
            "startup": false,
            "wait_interval": 0
          },
          "base_uri": "https://localhost:8080/",
          "height": 85
        },
        "outputId": "22ac333c-820d-4c98-c758-2602c205fcb8",
        "executionInfo": {
          "status": "ok",
          "timestamp": 1524008426088,
          "user_tz": 420,
          "elapsed": 369,
          "user": {
            "displayName": "Ray Heberer",
            "photoUrl": "//lh4.googleusercontent.com/-BMlr5I5Dhow/AAAAAAAAAAI/AAAAAAAAABc/XW4PF5A8K2Q/s50-c-k-no/photo.jpg",
            "userId": "116545933704048584401"
          }
        }
      },
      "cell_type": "code",
      "source": [
        "data.max()"
      ],
      "execution_count": 93,
      "outputs": [
        {
          "output_type": "execute_result",
          "data": {
            "text/plain": [
              "Average Distance Between Survivors     1.496536\n",
              "Average Distance Between Casualties    1.496536\n",
              "Distance Between Centroids             0.000000\n",
              "dtype: float64"
            ]
          },
          "metadata": {
            "tags": []
          },
          "execution_count": 93
        }
      ]
    },
    {
      "metadata": {
        "id": "pNP9tNJR-Mp5",
        "colab_type": "code",
        "colab": {
          "autoexec": {
            "startup": false,
            "wait_interval": 0
          },
          "base_uri": "https://localhost:8080/",
          "height": 51
        },
        "outputId": "0ba8e6da-4845-47fa-d42e-e9836b7ff7fa",
        "executionInfo": {
          "status": "ok",
          "timestamp": 1524008534065,
          "user_tz": 420,
          "elapsed": 384,
          "user": {
            "displayName": "Ray Heberer",
            "photoUrl": "//lh4.googleusercontent.com/-BMlr5I5Dhow/AAAAAAAAAAI/AAAAAAAAABc/XW4PF5A8K2Q/s50-c-k-no/photo.jpg",
            "userId": "116545933704048584401"
          }
        }
      },
      "cell_type": "code",
      "source": [
        "data[\"Average Distance Between Survivors\"][data[\"Average Distance Between Survivors\"] == data[\"Average Distance Between Survivors\"].min()]"
      ],
      "execution_count": 97,
      "outputs": [
        {
          "output_type": "execute_result",
          "data": {
            "text/plain": [
              "['sibsp']    0.080435\n",
              "Name: Average Distance Between Survivors, dtype: float64"
            ]
          },
          "metadata": {
            "tags": []
          },
          "execution_count": 97
        }
      ]
    },
    {
      "metadata": {
        "id": "oMa1nLm--OhX",
        "colab_type": "code",
        "colab": {
          "autoexec": {
            "startup": false,
            "wait_interval": 0
          },
          "base_uri": "https://localhost:8080/",
          "height": 51
        },
        "outputId": "1d6a31a9-ec8e-48a6-9984-779be95006b4",
        "executionInfo": {
          "status": "ok",
          "timestamp": 1524008580090,
          "user_tz": 420,
          "elapsed": 356,
          "user": {
            "displayName": "Ray Heberer",
            "photoUrl": "//lh4.googleusercontent.com/-BMlr5I5Dhow/AAAAAAAAAAI/AAAAAAAAABc/XW4PF5A8K2Q/s50-c-k-no/photo.jpg",
            "userId": "116545933704048584401"
          }
        }
      },
      "cell_type": "code",
      "source": [
        "data[\"Average Distance Between Casualties\"][data[\"Average Distance Between Casualties\"] == data[\"Average Distance Between Casualties\"].min()]"
      ],
      "execution_count": 98,
      "outputs": [
        {
          "output_type": "execute_result",
          "data": {
            "text/plain": [
              "['sibsp']    0.080435\n",
              "Name: Average Distance Between Casualties, dtype: float64"
            ]
          },
          "metadata": {
            "tags": []
          },
          "execution_count": 98
        }
      ]
    }
  ]
}