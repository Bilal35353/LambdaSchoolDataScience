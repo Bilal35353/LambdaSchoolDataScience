{
  "nbformat": 4,
  "nbformat_minor": 0,
  "metadata": {
    "colab": {
      "name": "Logistic Regression By Hand Coding Challenge.ipynb",
      "version": "0.3.2",
      "views": {},
      "default_view": {},
      "provenance": [
        {
          "file_id": "1AXNUWoYi2eFXWnQ5T349FP85X5KNjyif",
          "timestamp": 1525965260777
        }
      ],
      "collapsed_sections": []
    },
    "kernelspec": {
      "name": "python3",
      "display_name": "Python 3"
    }
  },
  "cells": [
    {
      "metadata": {
        "id": "FdAMsssKUtjs",
        "colab_type": "text"
      },
      "cell_type": "markdown",
      "source": [
        "# Logistic Regression By Hand Coding Challenge\n",
        "\n",
        "Logistic Regression computes the Maximum Likelihood Estimate (MLE) $p$ of the coefficients $w$ and the variable $x$.\n",
        "\n",
        "$ p_x = \\frac{1}{1+exp^{-(w^tx)}} $\n",
        "\n",
        "\n",
        "The MLE method for Logistic Regression is described in psuedocode as:\n",
        "\n",
        "```\n",
        "w = [0,...,0]\n",
        "for each epoch:\n",
        "  w = MLE(w_i,x,y,alpha)\n",
        "```  \n",
        "\n",
        "The maximum likelihood update method `MLE` is computed: $w \\leftarrow w + \\alpha\\sum_{i=1}^{N}(y_i-p_i)x_i$\n",
        "\n",
        "Compute the Logistic Regression coefficients $w$ for the following dataset:"
      ]
    },
    {
      "metadata": {
        "id": "vToRZL8MFppi",
        "colab_type": "code",
        "colab": {
          "autoexec": {
            "startup": false,
            "wait_interval": 0
          }
        }
      },
      "cell_type": "code",
      "source": [
        "# LAMBDA SCHOOL\n",
        "#\n",
        "# MACHINE LEARNING\n",
        "#\n",
        "# MIT LICENSE\n",
        "\n",
        "import numpy as np\n",
        "import matplotlib.pyplot as plt\n",
        "\n",
        "def ones(x):\n",
        "    return np.column_stack((np.ones(len(x)),x))\n",
        "\n",
        "def MLE(w, x, y, alpha):\n",
        "    X = ones(x)\n",
        "    dw = np.sum(y - (1/(1 + np.exp(-w*X))), axis=0)\n",
        "    return w + alpha*dw\n",
        "\n",
        "# Use the above pseudo code to calculate w for each epoch.\n",
        "\n",
        "def train(alpha, epochs, x, y, w):\n",
        "    for epoch in range(epochs):\n",
        "        w = MLE(w, x, y, alpha)\n",
        "                \n",
        "    return w"
      ],
      "execution_count": 0,
      "outputs": []
    },
    {
      "metadata": {
        "id": "7Q8hltB-GDEP",
        "colab_type": "code",
        "colab": {
          "autoexec": {
            "startup": false,
            "wait_interval": 0
          },
          "base_uri": "https://localhost:8080/",
          "height": 34
        },
        "outputId": "0c713074-e395-4849-96e8-91c43055110c",
        "executionInfo": {
          "status": "ok",
          "timestamp": 1525977014034,
          "user_tz": 420,
          "elapsed": 627,
          "user": {
            "displayName": "Ray Heberer",
            "photoUrl": "//lh4.googleusercontent.com/-BMlr5I5Dhow/AAAAAAAAAAI/AAAAAAAAABc/XW4PF5A8K2Q/s50-c-k-no/photo.jpg",
            "userId": "116545933704048584401"
          }
        }
      },
      "cell_type": "code",
      "source": [
        "alpha = 0.05\n",
        "epochs = 100\n",
        "x = np.array([1,3])\n",
        "y = np.array([0,1])\n",
        "w = np.array([0, 0])\n",
        "\n",
        "w = train(alpha, epochs, x, y, w)\n",
        "print(w)"
      ],
      "execution_count": 13,
      "outputs": [
        {
          "output_type": "stream",
          "text": [
            "[-2.1854715   1.69571205]\n"
          ],
          "name": "stdout"
        }
      ]
    },
    {
      "metadata": {
        "id": "lgyPeLQEGTuC",
        "colab_type": "code",
        "colab": {
          "autoexec": {
            "startup": false,
            "wait_interval": 0
          },
          "base_uri": "https://localhost:8080/",
          "height": 347
        },
        "outputId": "5fe658f3-8658-4006-8455-f81c1146eb82",
        "executionInfo": {
          "status": "ok",
          "timestamp": 1525977015398,
          "user_tz": 420,
          "elapsed": 455,
          "user": {
            "displayName": "Ray Heberer",
            "photoUrl": "//lh4.googleusercontent.com/-BMlr5I5Dhow/AAAAAAAAAAI/AAAAAAAAABc/XW4PF5A8K2Q/s50-c-k-no/photo.jpg",
            "userId": "116545933704048584401"
          }
        }
      },
      "cell_type": "code",
      "source": [
        "fig, ax = plt.subplots()\n",
        "smooth_x = np.linspace(min(x), max(x))\n",
        "logistic_curve = 1 / (1 + np.exp(-w[1]*(smooth_x + w[0])))\n",
        "\n",
        "ax.scatter(x, y)\n",
        "ax.plot(smooth_x, logistic_curve);"
      ],
      "execution_count": 14,
      "outputs": [
        {
          "output_type": "display_data",
          "data": {
            "image/png": "[encoded data removed]",
            "text/plain": [
              "<matplotlib.figure.Figure at 0x7f80b6d43748>"
            ]
          },
          "metadata": {
            "tags": []
          }
        }
      ]
    }
  ]
}