{
  "nbformat": 4,
  "nbformat_minor": 0,
  "metadata": {
    "colab": {
      "name": "Logistic Regression By Hand Coding Challenge.ipynb",
      "version": "0.3.2",
      "views": {},
      "default_view": {},
      "provenance": [
        {
          "file_id": "1AXNUWoYi2eFXWnQ5T349FP85X5KNjyif",
          "timestamp": 1525965260777
        }
      ],
      "collapsed_sections": []
    },
    "kernelspec": {
      "name": "python3",
      "display_name": "Python 3"
    }
  },
  "cells": [
    {
      "metadata": {
        "id": "FdAMsssKUtjs",
        "colab_type": "text"
      },
      "cell_type": "markdown",
      "source": [
        "# Logistic Regression By Hand Coding Challenge\n",
        "\n",
        "Logistic Regression computes the Maximum Likelihood Estimate (MLE) $p$ of the coefficients $w$ and the variable $x$.\n",
        "\n",
        "$ p_x = \\frac{1}{1+exp^{-(w^tx)}} $\n",
        "\n",
        "\n",
        "The MLE method for Logistic Regression is described in psuedocode as:\n",
        "\n",
        "```\n",
        "w = [0,...,0]\n",
        "for each epoch:\n",
        "  w = MLE(w_i,x,y,alpha)\n",
        "```  \n",
        "\n",
        "The maximum likelihood update method `MLE` is computed: $w \\leftarrow w + \\alpha\\sum_{i=1}^{N}(y_i-p_i)x_i$\n",
        "\n",
        "Compute the Logistic Regression coefficients $w$ for the following dataset:"
      ]
    },
    {
      "metadata": {
        "id": "vToRZL8MFppi",
        "colab_type": "code",
        "colab": {
          "autoexec": {
            "startup": false,
            "wait_interval": 0
          }
        }
      },
      "cell_type": "code",
      "source": [
        "# LAMBDA SCHOOL\n",
        "#\n",
        "# MACHINE LEARNING\n",
        "#\n",
        "# MIT LICENSE\n",
        "\n",
        "import numpy as np\n",
        "import matplotlib.pyplot as plt\n",
        "\n",
        "def ones(x):\n",
        "    return np.column_stack((np.ones(len(x)),x)).T\n",
        "\n",
        "def logistic(w, X):\n",
        "    return 1 / (1 + np.exp(np.dot(-w, X)))\n",
        "\n",
        "def MLE(w, x, y, alpha):\n",
        "    X = ones(x)\n",
        "    dw = np.sum((y - logistic(w, X))*X, axis=1)\n",
        "    return w + alpha*dw\n",
        "\n",
        "# Use the above pseudo code to calculate w for each epoch.\n",
        "\n",
        "def train(alpha, epochs, x, y, w):\n",
        "    for epoch in range(epochs):\n",
        "        w = MLE(w, x, y, alpha)\n",
        "                \n",
        "    return w"
      ],
      "execution_count": 0,
      "outputs": []
    },
    {
      "metadata": {
        "id": "7Q8hltB-GDEP",
        "colab_type": "code",
        "colab": {
          "autoexec": {
            "startup": false,
            "wait_interval": 0
          },
          "base_uri": "https://localhost:8080/",
          "height": 34
        },
        "outputId": "a5853343-de94-449a-8a0c-c4a956c40dcb",
        "executionInfo": {
          "status": "ok",
          "timestamp": 1525981799142,
          "user_tz": 420,
          "elapsed": 283,
          "user": {
            "displayName": "Ray Heberer",
            "photoUrl": "//lh4.googleusercontent.com/-BMlr5I5Dhow/AAAAAAAAAAI/AAAAAAAAABc/XW4PF5A8K2Q/s50-c-k-no/photo.jpg",
            "userId": "116545933704048584401"
          }
        }
      },
      "cell_type": "code",
      "source": [
        "alpha = 0.05\n",
        "epochs = 100\n",
        "x = np.array([1, 3])\n",
        "y = np.array([0, 1])\n",
        "w = np.array([0, 0])\n",
        "\n",
        "w = train(alpha, epochs, x, y, w)\n",
        "print(w)"
      ],
      "execution_count": 2,
      "outputs": [
        {
          "output_type": "stream",
          "text": [
            "[-1.32794304  0.96419276]\n"
          ],
          "name": "stdout"
        }
      ]
    },
    {
      "metadata": {
        "id": "lgyPeLQEGTuC",
        "colab_type": "code",
        "colab": {
          "autoexec": {
            "startup": false,
            "wait_interval": 0
          },
          "base_uri": "https://localhost:8080/",
          "height": 347
        },
        "outputId": "c1314c98-8d44-438f-e0e6-2c0e5f4acc0c",
        "executionInfo": {
          "status": "ok",
          "timestamp": 1525981799734,
          "user_tz": 420,
          "elapsed": 433,
          "user": {
            "displayName": "Ray Heberer",
            "photoUrl": "//lh4.googleusercontent.com/-BMlr5I5Dhow/AAAAAAAAAAI/AAAAAAAAABc/XW4PF5A8K2Q/s50-c-k-no/photo.jpg",
            "userId": "116545933704048584401"
          }
        }
      },
      "cell_type": "code",
      "source": [
        "fig, ax = plt.subplots()\n",
        "smooth_x = np.linspace(min(x), max(x))\n",
        "X = ones(smooth_x)\n",
        "\n",
        "logistic_curve = logistic(w, X)\n",
        "\n",
        "ax.scatter(x, y)\n",
        "ax.plot(smooth_x, logistic_curve);"
      ],
      "execution_count": 3,
      "outputs": [
        {
          "output_type": "display_data",
          "data": {
            "image/png": "[encoded data removed]",
            "text/plain": [
              "<matplotlib.figure.Figure at 0x7fd034b00fd0>"
            ]
          },
          "metadata": {
            "tags": []
          }
        }
      ]
    },
    {
      "metadata": {
        "id": "vgUdBruflZZC",
        "colab_type": "code",
        "colab": {
          "autoexec": {
            "startup": false,
            "wait_interval": 0
          },
          "base_uri": "https://localhost:8080/",
          "height": 347
        },
        "outputId": "1de99005-0ad0-430f-deba-987f4c6bf3f6",
        "executionInfo": {
          "status": "ok",
          "timestamp": 1525981801561,
          "user_tz": 420,
          "elapsed": 1020,
          "user": {
            "displayName": "Ray Heberer",
            "photoUrl": "//lh4.googleusercontent.com/-BMlr5I5Dhow/AAAAAAAAAAI/AAAAAAAAABc/XW4PF5A8K2Q/s50-c-k-no/photo.jpg",
            "userId": "116545933704048584401"
          }
        }
      },
      "cell_type": "code",
      "source": [
        "x1 = np.array([1, 2, 3, 4, 5, 6, 7])\n",
        "y1 = np.array([0, 0, 0, 1, 1, 1, 1])\n",
        "\n",
        "x2 = np.array([1, 2, 3, 4, 5])\n",
        "y2 = np.array([1, 1, 1, 0, 0])\n",
        "\n",
        "x3 = np.array([-3, -2, 0, 4, 5])\n",
        "y3 = np.array([0, 0, 0, 1, 1])\n",
        "\n",
        "\n",
        "fig, ax = plt.subplots(3)\n",
        "\n",
        "\n",
        "for x, y, i in zip([x1, x2, x3], [y1, y2, y3], range(3)):\n",
        "    w = np.array([0, 0])\n",
        "    w = train(alpha, epochs, x, y, w)\n",
        "    \n",
        "    smooth_x = np.linspace(min(x), max(x))\n",
        "    X = ones(smooth_x)\n",
        "    logistic_curve = logistic(w, X)\n",
        "    \n",
        "    ax[i].plot(smooth_x, logistic_curve)\n",
        "    ax[i].scatter(x, y);"
      ],
      "execution_count": 4,
      "outputs": [
        {
          "output_type": "display_data",
          "data": {
            "image/png": "[encoded data removed]",
            "text/plain": [
              "<matplotlib.figure.Figure at 0x7fd0322001d0>"
            ]
          },
          "metadata": {
            "tags": []
          }
        }
      ]
    },
    {
      "metadata": {
        "id": "OEt9OZdmlagN",
        "colab_type": "code",
        "colab": {
          "autoexec": {
            "startup": false,
            "wait_interval": 0
          }
        }
      },
      "cell_type": "code",
      "source": [
        ""
      ],
      "execution_count": 0,
      "outputs": []
    }
  ]
}