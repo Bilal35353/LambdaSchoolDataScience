{
  "nbformat": 4,
  "nbformat_minor": 0,
  "metadata": {
    "colab": {
      "name": "Copy of Vector Mean Coding Challenge.ipynb",
      "version": "0.3.2",
      "views": {},
      "default_view": {},
      "provenance": [
        {
          "file_id": "11vkypJApb_0RZFQxC47Kz-uUt5pQs1CF",
          "timestamp": 1522854268352
        },
        {
          "file_id": "1ZA73SQpZwa4rArNigO2HHMpCNHrRPRXr",
          "timestamp": 1522853996311
        }
      ],
      "collapsed_sections": []
    },
    "kernelspec": {
      "name": "python3",
      "display_name": "Python 3"
    }
  },
  "cells": [
    {
      "metadata": {
        "id": "pvORCN22-kUH",
        "colab_type": "code",
        "colab": {
          "autoexec": {
            "startup": false,
            "wait_interval": 0
          }
        }
      },
      "cell_type": "code",
      "source": [
        "import numpy as np\n",
        "import matplotlib.pyplot as plt"
      ],
      "execution_count": 0,
      "outputs": []
    },
    {
      "metadata": {
        "id": "P02PwVyLCkLE",
        "colab_type": "text"
      },
      "cell_type": "markdown",
      "source": [
        "Write a function that takes in a vector (in the form of a 1D numpy array) and returns the average value across its components.\n",
        "\n",
        "For example, [4,2] should return 3 and [5, 6, 7, 8] should return 6.5. You can assume the vector will have at least one coomponent."
      ]
    },
    {
      "metadata": {
        "id": "dmtDPKX9CsX0",
        "colab_type": "code",
        "colab": {
          "autoexec": {
            "startup": false,
            "wait_interval": 0
          }
        }
      },
      "cell_type": "code",
      "source": [
        "def average(vector):\n",
        "    return np.sum(vector) / len(vector)"
      ],
      "execution_count": 0,
      "outputs": []
    },
    {
      "metadata": {
        "id": "f0HXg2gTKR8B",
        "colab_type": "text"
      },
      "cell_type": "markdown",
      "source": [
        "Let's see if it worked:"
      ]
    },
    {
      "metadata": {
        "id": "2lrtNAjYKThU",
        "colab_type": "code",
        "colab": {
          "autoexec": {
            "startup": false,
            "wait_interval": 0
          },
          "output_extras": [
            {
              "item_id": 1
            }
          ],
          "base_uri": "https://localhost:8080/",
          "height": 136
        },
        "outputId": "e74591c0-c1a9-4969-d2dc-94d58628434e",
        "executionInfo": {
          "status": "ok",
          "timestamp": 1522856502701,
          "user_tz": 420,
          "elapsed": 324,
          "user": {
            "displayName": "Ray Heberer",
            "photoUrl": "//lh4.googleusercontent.com/-BMlr5I5Dhow/AAAAAAAAAAI/AAAAAAAAABc/XW4PF5A8K2Q/s50-c-k-no/photo.jpg",
            "userId": "116545933704048584401"
          }
        }
      },
      "cell_type": "code",
      "source": [
        "testSet = [[np.array([1, 2, 3, 4]), 2.5],\n",
        "        [np.array([18, 65, 11]), 94/3],\n",
        "        [np.array([10]), 10],\n",
        "        [np.array([-8]), -8],\n",
        "        [np.array([-4,-1,-2]), -7/3],\n",
        "        [np.array([0,0,0]), 0],\n",
        "        [np.array([-10,10]), 0]]\n",
        "\n",
        "for test in testSet:\n",
        "  if (average(test[0]) == test[1]):\n",
        "    print (\"Correct result\")\n",
        "  else:\n",
        "    print (\"Incorrect result\")"
      ],
      "execution_count": 3,
      "outputs": [
        {
          "output_type": "stream",
          "text": [
            "Correct result\n",
            "Correct result\n",
            "Correct result\n",
            "Correct result\n",
            "Correct result\n",
            "Correct result\n",
            "Correct result\n"
          ],
          "name": "stdout"
        }
      ]
    },
    {
      "metadata": {
        "id": "Jp20wSX3LPUF",
        "colab_type": "text"
      },
      "cell_type": "markdown",
      "source": [
        "## Bonus Challenge\n",
        "\n",
        "`testSet` is a small group of points. Rearrange the values in testSet to be 2d, then rotate them around their centroid by 45 degrees."
      ]
    },
    {
      "metadata": {
        "id": "EcpeYCxFLud2",
        "colab_type": "code",
        "colab": {
          "autoexec": {
            "startup": false,
            "wait_interval": 0
          },
          "output_extras": [
            {
              "item_id": 1
            },
            {
              "item_id": 2
            }
          ],
          "base_uri": "https://localhost:8080/",
          "height": 381
        },
        "outputId": "b7f04257-ecc0-4307-f62f-7290ae80e5b3",
        "executionInfo": {
          "status": "ok",
          "timestamp": 1522856555731,
          "user_tz": 420,
          "elapsed": 552,
          "user": {
            "displayName": "Ray Heberer",
            "photoUrl": "//lh4.googleusercontent.com/-BMlr5I5Dhow/AAAAAAAAAAI/AAAAAAAAABc/XW4PF5A8K2Q/s50-c-k-no/photo.jpg",
            "userId": "116545933704048584401"
          }
        }
      },
      "cell_type": "code",
      "source": [
        "# rearrange\n",
        "\n",
        "X = np.concatenate([x[0] for x in testSet])\n",
        "# extra zero padding because X would be shape (17, ) otherwise\n",
        "X = np.append(X, [0])\n",
        "\n",
        "# will use row vectors for convenience\n",
        "X = X.reshape((2, -1))\n",
        "print(X)\n",
        "\n",
        "plt.plot(X[0], X[1], 'bo');"
      ],
      "execution_count": 10,
      "outputs": [
        {
          "output_type": "stream",
          "text": [
            "[[  1   2   3   4  18  65  11  10  -8]\n",
            " [ -4  -1  -2   0   0   0 -10  10   0]]\n"
          ],
          "name": "stdout"
        },
        {
          "output_type": "display_data",
          "data": {
            "image/png": "[encoded data removed]",
            "text/plain": [
              "<matplotlib.figure.Figure at 0x7f2c31238ba8>"
            ]
          },
          "metadata": {
            "tags": []
          }
        }
      ]
    },
    {
      "metadata": {
        "id": "9kl_LAeaQEDd",
        "colab_type": "code",
        "colab": {
          "autoexec": {
            "startup": false,
            "wait_interval": 0
          }
        }
      },
      "cell_type": "code",
      "source": [
        "# find centroid\n",
        "centroid = np.array([average(X[0]), average(X[1])]).reshape(2, 1)"
      ],
      "execution_count": 0,
      "outputs": []
    },
    {
      "metadata": {
        "id": "JO0BzhlJQPa3",
        "colab_type": "code",
        "colab": {
          "autoexec": {
            "startup": false,
            "wait_interval": 0
          },
          "output_extras": [
            {
              "item_id": 1
            }
          ],
          "base_uri": "https://localhost:8080/",
          "height": 347
        },
        "outputId": "e95a96bc-37aa-4af3-b879-6283e5612cdd",
        "executionInfo": {
          "status": "ok",
          "timestamp": 1522856513391,
          "user_tz": 420,
          "elapsed": 544,
          "user": {
            "displayName": "Ray Heberer",
            "photoUrl": "//lh4.googleusercontent.com/-BMlr5I5Dhow/AAAAAAAAAAI/AAAAAAAAABc/XW4PF5A8K2Q/s50-c-k-no/photo.jpg",
            "userId": "116545933704048584401"
          }
        }
      },
      "cell_type": "code",
      "source": [
        "# translate\n",
        "X_shifted = X - centroid\n",
        "\n",
        "plt.plot(X_shifted[0], X_shifted[1], 'go');"
      ],
      "execution_count": 6,
      "outputs": [
        {
          "output_type": "display_data",
          "data": {
            "image/png": "[encoded data removed]",
            "text/plain": [
              "<matplotlib.figure.Figure at 0x7f2c33ba8ef0>"
            ]
          },
          "metadata": {
            "tags": []
          }
        }
      ]
    },
    {
      "metadata": {
        "id": "UHzfGyPXQ9Gj",
        "colab_type": "code",
        "colab": {
          "autoexec": {
            "startup": false,
            "wait_interval": 0
          },
          "output_extras": [
            {
              "item_id": 1
            },
            {
              "item_id": 2
            }
          ],
          "base_uri": "https://localhost:8080/",
          "height": 381
        },
        "outputId": "e12ab375-bec0-4ec3-9007-edbb0f803ac8",
        "executionInfo": {
          "status": "ok",
          "timestamp": 1522856514589,
          "user_tz": 420,
          "elapsed": 500,
          "user": {
            "displayName": "Ray Heberer",
            "photoUrl": "//lh4.googleusercontent.com/-BMlr5I5Dhow/AAAAAAAAAAI/AAAAAAAAABc/XW4PF5A8K2Q/s50-c-k-no/photo.jpg",
            "userId": "116545933704048584401"
          }
        }
      },
      "cell_type": "code",
      "source": [
        "# rotate\n",
        "\n",
        "# intuition from chapter 3 of https://www.youtube.com/playlist?list=PLZHQObOWTQDPD3MizzM2xVFitgF8hE_ab\n",
        "rotation = np.array([[1, 1], [-1, 1]]).T / np.sqrt(2)\n",
        "print(rotation)\n",
        "X_shifted = np.matmul(rotation, X_shifted)\n",
        "\n",
        "plt.plot(X_shifted[0], X_shifted[1], 'go');\n"
      ],
      "execution_count": 7,
      "outputs": [
        {
          "output_type": "stream",
          "text": [
            "[[ 0.70710678 -0.70710678]\n",
            " [ 0.70710678  0.70710678]]\n"
          ],
          "name": "stdout"
        },
        {
          "output_type": "display_data",
          "data": {
            "image/png": "[encoded data removed]",
            "text/plain": [
              "<matplotlib.figure.Figure at 0x7f2c33ba89b0>"
            ]
          },
          "metadata": {
            "tags": []
          }
        }
      ]
    },
    {
      "metadata": {
        "id": "XuXlpfqkRYbS",
        "colab_type": "code",
        "colab": {
          "autoexec": {
            "startup": false,
            "wait_interval": 0
          }
        }
      },
      "cell_type": "code",
      "source": [
        "# undo translation\n",
        "X_shifted = X_shifted + centroid"
      ],
      "execution_count": 0,
      "outputs": []
    },
    {
      "metadata": {
        "id": "Nr1Mr4gDUVGz",
        "colab_type": "code",
        "colab": {
          "autoexec": {
            "startup": false,
            "wait_interval": 0
          },
          "output_extras": [
            {
              "item_id": 1
            },
            {
              "item_id": 2
            },
            {
              "item_id": 3
            }
          ],
          "base_uri": "https://localhost:8080/",
          "height": 1015
        },
        "outputId": "c58d51ad-a54d-4ca9-b0bd-b0a309950d3b",
        "executionInfo": {
          "status": "ok",
          "timestamp": 1522856520398,
          "user_tz": 420,
          "elapsed": 781,
          "user": {
            "displayName": "Ray Heberer",
            "photoUrl": "//lh4.googleusercontent.com/-BMlr5I5Dhow/AAAAAAAAAAI/AAAAAAAAABc/XW4PF5A8K2Q/s50-c-k-no/photo.jpg",
            "userId": "116545933704048584401"
          }
        }
      },
      "cell_type": "code",
      "source": [
        "plt.plot(X_shifted[0], X_shifted[1], 'go');\n",
        "plt.show()\n",
        "\n",
        "plt.plot(X[0], X[1], 'bo');\n",
        "plt.show()\n",
        "\n",
        "plt.plot(X_shifted[0], X_shifted[1], 'go');\n",
        "plt.plot(X[0], X[1], 'bo');\n",
        "plt.show()"
      ],
      "execution_count": 9,
      "outputs": [
        {
          "output_type": "display_data",
          "data": {
            "image/png": "[encoded data removed]",
            "text/plain": [
              "<matplotlib.figure.Figure at 0x7f2c312386d8>"
            ]
          },
          "metadata": {
            "tags": []
          }
        },
        {
          "output_type": "display_data",
          "data": {
            "image/png": "[encoded data removed]",
            "text/plain": [
              "<matplotlib.figure.Figure at 0x7f2c312c77f0>"
            ]
          },
          "metadata": {
            "tags": []
          }
        },
        {
          "output_type": "display_data",
          "data": {
            "image/png": "[encoded data removed]",
            "text/plain": [
              "<matplotlib.figure.Figure at 0x7f2c311bc5c0>"
            ]
          },
          "metadata": {
            "tags": []
          }
        }
      ]
    },
    {
      "metadata": {
        "id": "1wvF8PRtStqW",
        "colab_type": "code",
        "colab": {
          "autoexec": {
            "startup": false,
            "wait_interval": 0
          }
        }
      },
      "cell_type": "code",
      "source": [
        ""
      ],
      "execution_count": 0,
      "outputs": []
    }
  ]
}