{
  "nbformat": 4,
  "nbformat_minor": 0,
  "metadata": {
    "colab": {
      "name": "Machine Learning Coding Challenge 1.ipynb",
      "version": "0.3.2",
      "views": {},
      "default_view": {},
      "provenance": [
        {
          "file_id": "1Pit_xXMXn-30_k7r5ds9fqWBWn6SAKXV",
          "timestamp": 1522681789614
        }
      ]
    },
    "kernelspec": {
      "name": "python3",
      "display_name": "Python 3"
    }
  },
  "cells": [
    {
      "metadata": {
        "id": "TASE2aSJ3lIc",
        "colab_type": "text"
      },
      "cell_type": "markdown",
      "source": [
        "# Coding challenge\n",
        "\n",
        "A function in Python is of the form:"
      ]
    },
    {
      "metadata": {
        "id": "N-8GKe3X3mb9",
        "colab_type": "code",
        "colab": {
          "autoexec": {
            "startup": false,
            "wait_interval": 0
          }
        }
      },
      "cell_type": "code",
      "source": [
        "def f(x):\n",
        "  return x**2"
      ],
      "execution_count": 0,
      "outputs": []
    },
    {
      "metadata": {
        "id": "e6MDZK7p3X8N",
        "colab_type": "text"
      },
      "cell_type": "markdown",
      "source": [
        "Create python definitions of the following five functions:\n",
        "\n",
        "$x^2$\n",
        "\n",
        "$x^3$\n",
        "\n",
        "$x^3 + x^2 - 5$\n",
        "\n",
        "$sin(x)$\n",
        "\n",
        "$cos(x)$\n",
        "\n"
      ]
    },
    {
      "metadata": {
        "id": "3EptVxnB3vUM",
        "colab_type": "code",
        "colab": {
          "autoexec": {
            "startup": false,
            "wait_interval": 0
          }
        }
      },
      "cell_type": "code",
      "source": [
        "# LAMBDA SCHOOL\n",
        "#\n",
        "# MACHINE LEARNING\n",
        "#\n",
        "# MIT LICENSE\n",
        "\n",
        "\"\"\"Your code here\"\"\"\n",
        "import math\n",
        "\n",
        "def f1(x):\n",
        "  return x**2\n",
        "\n",
        "def f2(x):\n",
        "  return x**3\n",
        "\n",
        "def f3(x):\n",
        "  return x**3 + x**2 - 5\n",
        "\n",
        "def f4(x):\n",
        "  return math.sin(x)\n",
        "\n",
        "def f5(x):\n",
        "  return math.cos(x)"
      ],
      "execution_count": 0,
      "outputs": []
    },
    {
      "metadata": {
        "id": "Vujamgd84xZ8",
        "colab_type": "text"
      },
      "cell_type": "markdown",
      "source": [
        "Call each of your functions and demonstrate their result:"
      ]
    },
    {
      "metadata": {
        "id": "WUpNee3241Mp",
        "colab_type": "code",
        "colab": {
          "autoexec": {
            "startup": false,
            "wait_interval": 0
          },
          "output_extras": [
            {
              "item_id": 1
            }
          ],
          "base_uri": "https://localhost:8080/",
          "height": 102
        },
        "outputId": "5a3c0fb5-5aed-41f1-a35a-1469995b5141",
        "executionInfo": {
          "status": "ok",
          "timestamp": 1522682139613,
          "user_tz": 420,
          "elapsed": 422,
          "user": {
            "displayName": "Ray Heberer",
            "photoUrl": "//lh4.googleusercontent.com/-BMlr5I5Dhow/AAAAAAAAAAI/AAAAAAAAABc/XW4PF5A8K2Q/s50-c-k-no/photo.jpg",
            "userId": "116545933704048584401"
          }
        }
      },
      "cell_type": "code",
      "source": [
        "\"\"\"Call your functions here\"\"\"\n",
        "\n",
        "print(f1(4))\n",
        "\n",
        "print(f2(3))\n",
        "\n",
        "print(f3(5))\n",
        "\n",
        "print(f4(math.pi / 2))\n",
        "\n",
        "print(f5(math.pi))"
      ],
      "execution_count": 6,
      "outputs": [
        {
          "output_type": "stream",
          "text": [
            "16\n",
            "27\n",
            "145\n",
            "1.0\n",
            "-1.0\n"
          ],
          "name": "stdout"
        }
      ]
    },
    {
      "metadata": {
        "id": "MbrLehNS4D30",
        "colab_type": "text"
      },
      "cell_type": "markdown",
      "source": [
        "## Bonus challenge\n",
        "\n",
        "`numpy.vectorize` copies a function that takes a single value as argument and returns a function that takes an array of values as argument, calling the single argument version for each value in the array. Implement your own version of `numpy.vectorize`."
      ]
    },
    {
      "metadata": {
        "id": "vgge6gWX-hnI",
        "colab_type": "code",
        "colab": {
          "autoexec": {
            "startup": false,
            "wait_interval": 0
          }
        }
      },
      "cell_type": "code",
      "source": [
        "def my_vectorize(x):\n",
        "  \"\"\"Your code here\n",
        "  \n",
        "  Args:\n",
        "    x (function): scalar function (1 input->1 output)\n",
        "    \n",
        "  Returns:\n",
        "    vectorize (function): vectorized element-wise function (n inputs->n outputs)\n",
        "  \n",
        "  \"\"\"\n",
        "  def vectorize(a):\n",
        "    return [x(e) for e in a]\n",
        "  return vectorize\n",
        "  "
      ],
      "execution_count": 0,
      "outputs": []
    },
    {
      "metadata": {
        "id": "D1sSDB0t-wqk",
        "colab_type": "code",
        "colab": {
          "autoexec": {
            "startup": false,
            "wait_interval": 0
          },
          "output_extras": [
            {
              "item_id": 1
            }
          ],
          "base_uri": "https://localhost:8080/",
          "height": 51
        },
        "outputId": "524fb77b-a519-4ed5-fc7d-2507faffed8a",
        "executionInfo": {
          "status": "ok",
          "timestamp": 1522683374251,
          "user_tz": 420,
          "elapsed": 537,
          "user": {
            "displayName": "Ray Heberer",
            "photoUrl": "//lh4.googleusercontent.com/-BMlr5I5Dhow/AAAAAAAAAAI/AAAAAAAAABc/XW4PF5A8K2Q/s50-c-k-no/photo.jpg",
            "userId": "116545933704048584401"
          }
        }
      },
      "cell_type": "code",
      "source": [
        "f2v = my_vectorize(f2)\n",
        "\n",
        "test_array = [1, 2, 3, 4, 5]\n",
        "\n",
        "print(f2v(test_array))\n",
        "\n",
        "print(my_vectorize(f4)([0, 1, 2, 3, math.pi]))"
      ],
      "execution_count": 19,
      "outputs": [
        {
          "output_type": "stream",
          "text": [
            "[1, 8, 27, 64, 125]\n",
            "[0.0, 0.8414709848078965, 0.9092974268256817, 0.1411200080598672, 1.2246467991473532e-16]\n"
          ],
          "name": "stdout"
        }
      ]
    }
  ]
}