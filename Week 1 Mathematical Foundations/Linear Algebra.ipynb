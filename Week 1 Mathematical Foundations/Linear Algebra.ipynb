{
  "nbformat": 4,
  "nbformat_minor": 0,
  "metadata": {
    "colab": {
      "name": "Linear Algebra Project.ipynb",
      "version": "0.3.2",
      "views": {},
      "default_view": {},
      "provenance": [
        {
          "file_id": "1MxZ39k0bqib6tiNXIF8g0Q5vJ5RhS0wM",
          "timestamp": 1522874772752
        }
      ],
      "collapsed_sections": []
    },
    "kernelspec": {
      "name": "python3",
      "display_name": "Python 3"
    }
  },
  "cells": [
    {
      "metadata": {
        "id": "NV8-PHX5Bd8P",
        "colab_type": "text"
      },
      "cell_type": "markdown",
      "source": [
        "# Transform Vectors with Matrices\n",
        "\n",
        "The most basic vectors are $v_0 = \\begin{pmatrix}1 \\\\ 0\\end{pmatrix}$ and $v_1 = \\begin{pmatrix}0 \\\\ 1\\end{pmatrix}$\n",
        "\n",
        "Any $2d$ point can be constructed with these two vectors.\n",
        "\n",
        "Using these $v_0$ and $v_1$\n",
        "\n",
        "```\n",
        "# This is formatted as code\n",
        "```\n",
        "\n",
        "construct the remainder of the vectors $v_i$ in this lesson with matrix multiplication."
      ]
    },
    {
      "metadata": {
        "id": "kItGSZNpBX5B",
        "colab_type": "code",
        "colab": {
          "autoexec": {
            "startup": false,
            "wait_interval": 0
          },
          "base_uri": "https://localhost:8080/",
          "height": 347
        },
        "outputId": "2487c5ea-4a12-43e8-ba52-a4060f463753",
        "executionInfo": {
          "status": "ok",
          "timestamp": 1522967467396,
          "user_tz": 420,
          "elapsed": 565,
          "user": {
            "displayName": "Ray Heberer",
            "photoUrl": "//lh4.googleusercontent.com/-BMlr5I5Dhow/AAAAAAAAAAI/AAAAAAAAABc/XW4PF5A8K2Q/s50-c-k-no/photo.jpg",
            "userId": "116545933704048584401"
          }
        }
      },
      "cell_type": "code",
      "source": [
        "# LAMBDA SCHOOL\n",
        "#\n",
        "# MACHINE LEARNING\n",
        "#\n",
        "# MIT LICENSE\n",
        "\n",
        "import numpy as np\n",
        "import matplotlib.pyplot as plt\n",
        "\n",
        "v_0 = np.matrix([[1],[0]])\n",
        "v_1 = np.matrix([[0],[1]])\n",
        "\n",
        "# You can build vectors using a loop:\n",
        "#for i in [0,1,2,3,4]:\n",
        "#  print(i * v_0)\n",
        "\n",
        "# Or you can build them with a map\n",
        "t_0 = np.column_stack(map(lambda x: x * v_0, [0,1,2,3,4]))\n",
        "plt.plot(t_0[0:1:,::],t_0[1:2:,::],'ro');"
      ],
      "execution_count": 2,
      "outputs": [
        {
          "output_type": "display_data",
          "data": {
            "image/png": "[encoded data removed]",
            "text/plain": [
              "<matplotlib.figure.Figure at 0x7f7615622f60>"
            ]
          },
          "metadata": {
            "tags": []
          }
        }
      ]
    },
    {
      "metadata": {
        "id": "ILNC0VduXhY3",
        "colab_type": "code",
        "colab": {
          "autoexec": {
            "startup": false,
            "wait_interval": 0
          },
          "base_uri": "https://localhost:8080/",
          "height": 347
        },
        "outputId": "a1d5c12a-a0a7-4fd4-f58b-ab85582b5400",
        "executionInfo": {
          "status": "ok",
          "timestamp": 1522967469025,
          "user_tz": 420,
          "elapsed": 638,
          "user": {
            "displayName": "Ray Heberer",
            "photoUrl": "//lh4.googleusercontent.com/-BMlr5I5Dhow/AAAAAAAAAAI/AAAAAAAAABc/XW4PF5A8K2Q/s50-c-k-no/photo.jpg",
            "userId": "116545933704048584401"
          }
        }
      },
      "cell_type": "code",
      "source": [
        "# Multiplying these vectors by a matrix allows us to transform them in interesting ways\n",
        "\n",
        "R = np.matrix([[0.7,-0.7],[0.7,0.7]])\n",
        "rotated = R * t_0\n",
        "plt.plot(rotated[0:1:,::],rotated[1:2:,::],'ro');\n",
        "\n",
        "# write a function that creates a rotation matrix R, taking only (theta) as argument\n",
        "def get_rotation_matrix(theta):\n",
        "    R = np.matrix([[np.cos(theta), -np.sin(theta)],[np.sin(theta), np.cos(theta)]])\n",
        "    return R # you fill this out\n",
        "\n",
        "# us it to transform t_0 around the origin and graph together\n",
        "# rotate by: 30, 90, 180, 225, and 310.\n",
        "\n",
        "plt.plot(t_0[0:1:,::], t_0[1:2:,::], 'bo')\n",
        "for theta in [30, 90, 180, 225, 310]:\n",
        "    theta = theta * (np.pi/180)\n",
        "    R = get_rotation_matrix(theta)\n",
        "    rotated = (R * t_0)\n",
        "    plt.plot(rotated[0:1:,::], rotated[1:2:,::], 'go')"
      ],
      "execution_count": 3,
      "outputs": [
        {
          "output_type": "display_data",
          "data": {
            "image/png": "[encoded data removed]",
            "text/plain": [
              "<matplotlib.figure.Figure at 0x7f7613508080>"
            ]
          },
          "metadata": {
            "tags": []
          }
        }
      ]
    },
    {
      "metadata": {
        "id": "DMSIJdjOY06k",
        "colab_type": "code",
        "colab": {
          "autoexec": {
            "startup": false,
            "wait_interval": 0
          },
          "base_uri": "https://localhost:8080/",
          "height": 1669
        },
        "outputId": "7699f1ba-c444-4f24-efa0-a936d34b6b80",
        "executionInfo": {
          "status": "ok",
          "timestamp": 1522967470821,
          "user_tz": 420,
          "elapsed": 1095,
          "user": {
            "displayName": "Ray Heberer",
            "photoUrl": "//lh4.googleusercontent.com/-BMlr5I5Dhow/AAAAAAAAAAI/AAAAAAAAABc/XW4PF5A8K2Q/s50-c-k-no/photo.jpg",
            "userId": "116545933704048584401"
          }
        }
      },
      "cell_type": "code",
      "source": [
        "# Multiplying these vectors by a matrix allows us to shrink or grow them\n",
        "\n",
        "S = np.matrix([[0.1,0],[0,0.1]])\n",
        "scaled = S * t_0\n",
        "plt.plot(scaled[0:1:,::],scaled[1:2:,::],'ro');\n",
        "plt.xlim(0, 10)\n",
        "\n",
        "# Write a function to create a scaling matrix\n",
        "def get_scale_matrix(scale):\n",
        "    S = scale * np.eye(2)\n",
        "    return np.asmatrix(S) # you fill this out\n",
        "\n",
        "# Use it and your rotation matrix to scale the rotated values from above by\n",
        "# 0.1, 0.5, 2.0, sqrt(2), and 40\n",
        "\n",
        "for scale in [0.1, 0.5, 2.0, np.sqrt(2)]:\n",
        "    S = get_scale_matrix(scale)\n",
        "    scaled = S * t_0\n",
        "    plt.plot(scaled[0:1:,::], scaled[1:2:,::], 'ro');\n",
        "    plt.xlim(-0.5, 8.5)\n",
        "    plt.show()\n",
        "\n",
        "S = get_scale_matrix(40)\n",
        "scaled = S * t_0\n",
        "plt.plot(scaled[0:1:,::], scaled[1:2:,::], 'ro');"
      ],
      "execution_count": 4,
      "outputs": [
        {
          "output_type": "display_data",
          "data": {
            "image/png": "[encoded data removed]",
            "text/plain": [
              "<matplotlib.figure.Figure at 0x7f761349f438>"
            ]
          },
          "metadata": {
            "tags": []
          }
        },
        {
          "output_type": "display_data",
          "data": {
            "image/png": "[encoded data removed]",
            "text/plain": [
              "<matplotlib.figure.Figure at 0x7f76133b0240>"
            ]
          },
          "metadata": {
            "tags": []
          }
        },
        {
          "output_type": "display_data",
          "data": {
            "image/png": "[encoded data removed]",
            "text/plain": [
              "<matplotlib.figure.Figure at 0x7f761332fa90>"
            ]
          },
          "metadata": {
            "tags": []
          }
        },
        {
          "output_type": "display_data",
          "data": {
            "image/png": "[encoded data removed]",
            "text/plain": [
              "<matplotlib.figure.Figure at 0x7f7613313cf8>"
            ]
          },
          "metadata": {
            "tags": []
          }
        },
        {
          "output_type": "display_data",
          "data": {
            "image/png": "[encoded data removed]",
            "text/plain": [
              "<matplotlib.figure.Figure at 0x7f761349f400>"
            ]
          },
          "metadata": {
            "tags": []
          }
        }
      ]
    },
    {
      "metadata": {
        "id": "wUTb9pwBIGlZ",
        "colab_type": "code",
        "colab": {
          "autoexec": {
            "startup": false,
            "wait_interval": 0
          },
          "base_uri": "https://localhost:8080/",
          "height": 34
        },
        "outputId": "6ba9682e-38ab-497b-f514-3ea27ab904de",
        "executionInfo": {
          "status": "ok",
          "timestamp": 1522967471668,
          "user_tz": 420,
          "elapsed": 300,
          "user": {
            "displayName": "Ray Heberer",
            "photoUrl": "//lh4.googleusercontent.com/-BMlr5I5Dhow/AAAAAAAAAAI/AAAAAAAAABc/XW4PF5A8K2Q/s50-c-k-no/photo.jpg",
            "userId": "116545933704048584401"
          }
        }
      },
      "cell_type": "code",
      "source": [
        "print(scaled.shape)"
      ],
      "execution_count": 5,
      "outputs": [
        {
          "output_type": "stream",
          "text": [
            "(2, 5)\n"
          ],
          "name": "stdout"
        }
      ]
    },
    {
      "metadata": {
        "id": "cCY8hvLmZeUT",
        "colab_type": "code",
        "colab": {
          "autoexec": {
            "startup": false,
            "wait_interval": 0
          }
        }
      },
      "cell_type": "code",
      "source": [
        "# Translation requires a special kind of matrix we will study tomorrow\n",
        "# You can translate with v_0 + x\n",
        "\n",
        "# You'll need to translate v_0 in order to reproduce sample_1 and sample_2 below"
      ],
      "execution_count": 0,
      "outputs": []
    },
    {
      "metadata": {
        "id": "CN2dFt69FN1S",
        "colab_type": "code",
        "colab": {
          "autoexec": {
            "startup": false,
            "wait_interval": 0
          },
          "base_uri": "https://localhost:8080/",
          "height": 347
        },
        "outputId": "c1727329-fa92-48b0-cd90-b083888b5b39",
        "executionInfo": {
          "status": "ok",
          "timestamp": 1522967475826,
          "user_tz": 420,
          "elapsed": 489,
          "user": {
            "displayName": "Ray Heberer",
            "photoUrl": "//lh4.googleusercontent.com/-BMlr5I5Dhow/AAAAAAAAAAI/AAAAAAAAABc/XW4PF5A8K2Q/s50-c-k-no/photo.jpg",
            "userId": "116545933704048584401"
          }
        }
      },
      "cell_type": "code",
      "source": [
        "# Use linear algebra to reproduce the following points:\n",
        "\n",
        "sample_1 = np.matrix([[3,2,1,0,-1,-2,-3],[-3,-2,-1,0,1,2,3]])\n",
        "sample_2 = np.matrix([[-3,-2,-1,0,1,2,3],[-3,-2,-1,-0,1,2,3]])\n",
        "t_1 = sample_1\n",
        "t_2 = sample_2\n",
        "plt.plot(t_1[0:1:,::],t_1[1:2:,::],'ro');\n",
        "plt.plot(t_2[0:1:,::],t_2[1:2:,::],'bo');\n"
      ],
      "execution_count": 7,
      "outputs": [
        {
          "output_type": "display_data",
          "data": {
            "image/png": "[encoded data removed]",
            "text/plain": [
              "<matplotlib.figure.Figure at 0x7f761342fba8>"
            ]
          },
          "metadata": {
            "tags": []
          }
        }
      ]
    },
    {
      "metadata": {
        "id": "JWGCqvXnZrNT",
        "colab_type": "code",
        "colab": {
          "autoexec": {
            "startup": false,
            "wait_interval": 0
          },
          "base_uri": "https://localhost:8080/",
          "height": 347
        },
        "outputId": "b56f6693-4dd7-41a3-ea0a-0cb223a63772",
        "executionInfo": {
          "status": "ok",
          "timestamp": 1522967511027,
          "user_tz": 420,
          "elapsed": 463,
          "user": {
            "displayName": "Ray Heberer",
            "photoUrl": "//lh4.googleusercontent.com/-BMlr5I5Dhow/AAAAAAAAAAI/AAAAAAAAABc/XW4PF5A8K2Q/s50-c-k-no/photo.jpg",
            "userId": "116545933704048584401"
          }
        }
      },
      "cell_type": "code",
      "source": [
        "v_0 = np.matrix([[1],[0]])\n",
        "v_1 = np.matrix([[0],[1]])\n",
        "\n",
        "t_0 = np.column_stack(map(lambda x: x*v_0, range(-3,4)))\n",
        "\n",
        "# finding transform matrices by inspection\n",
        "transform_1 = np.matrix([[1,-1],[1,1]]).T\n",
        "t_1 = transform_1 * t_0\n",
        "plt.plot(t_1[0:1:,::], t_1[1:2:,::], 'ro')\n",
        "\n",
        "transform_2 = np.matrix([[1,1],[-1,1]]).T\n",
        "t_2 = transform_2 * t_0\n",
        "plt.plot(t_2[0:1:,::], t_2[1:2:,::],'bo');"
      ],
      "execution_count": 8,
      "outputs": [
        {
          "output_type": "display_data",
          "data": {
            "image/png": "[encoded data removed]",
            "text/plain": [
              "<matplotlib.figure.Figure at 0x7f761321e710>"
            ]
          },
          "metadata": {
            "tags": []
          }
        }
      ]
    },
    {
      "metadata": {
        "id": "iYUEq33Gs6ES",
        "colab_type": "code",
        "colab": {
          "autoexec": {
            "startup": false,
            "wait_interval": 0
          },
          "base_uri": "https://localhost:8080/",
          "height": 347
        },
        "outputId": "1b1b1f7d-983c-46b5-c70f-082b6f9cb814",
        "executionInfo": {
          "status": "ok",
          "timestamp": 1522967512375,
          "user_tz": 420,
          "elapsed": 452,
          "user": {
            "displayName": "Ray Heberer",
            "photoUrl": "//lh4.googleusercontent.com/-BMlr5I5Dhow/AAAAAAAAAAI/AAAAAAAAABc/XW4PF5A8K2Q/s50-c-k-no/photo.jpg",
            "userId": "116545933704048584401"
          }
        }
      },
      "cell_type": "code",
      "source": [
        "# finding transform matrices using functions from project\n",
        "theta = -np.pi / 4\n",
        "R_1 = get_rotation_matrix(theta)\n",
        "scale = np.sqrt(2)\n",
        "S_1 = get_scale_matrix(scale)\n",
        "\n",
        "transform_1 = S_1 * R_1\n",
        "t_1 = transform_1 * t_0\n",
        "plt.plot(t_1[0:1:,::], t_1[1:2:,::], 'ro')\n",
        "\n",
        "theta = np.pi / 4\n",
        "R_2 = get_rotation_matrix(theta)\n",
        "scale = np.sqrt(2)\n",
        "S_2 = get_scale_matrix(scale)\n",
        "\n",
        "transform_2 = S_2 * R_2\n",
        "t_2 = transform_2 * t_0\n",
        "plt.plot(t_2[0:1:,::], t_2[1:2:,::], 'bo');"
      ],
      "execution_count": 9,
      "outputs": [
        {
          "output_type": "display_data",
          "data": {
            "image/png": "[encoded data removed]",
            "text/plain": [
              "<matplotlib.figure.Figure at 0x7f76131ea9b0>"
            ]
          },
          "metadata": {
            "tags": []
          }
        }
      ]
    },
    {
      "metadata": {
        "id": "0-uiq7JZbRbA",
        "colab_type": "code",
        "colab": {
          "autoexec": {
            "startup": false,
            "wait_interval": 0
          }
        }
      },
      "cell_type": "code",
      "source": [
        "# Draw me something using the rules above\n",
        "\n",
        "t_1 = np.column_stack(map(lambda x: x*v_0, range(-3,4)))\n",
        "\n",
        "def draw_line(x_1, x_2, num_dots=10):\n",
        "    x_1, x_2 = np.array(x_1), np.array(x_2)\n",
        "    \n",
        "    length = np.linalg.norm(x_2-x_1)\n",
        "    t_0 = np.column_stack(map(lambda x: x*v_0, np.linspace(0, 1, num_dots)))\n",
        "    \n",
        "    theta = np.arcsin((x_2[1]-x_1[1])/length)\n",
        "    R = get_rotation_matrix(theta)\n",
        "    \n",
        "    S = get_scale_matrix(length)\n",
        "    \n",
        "    line = (S * R * t_0) + x_1.reshape((2,1))\n",
        "    plt.plot(line[0:1:,::], line[1:2:,::], 'bo')\n",
        "    return line"
      ],
      "execution_count": 0,
      "outputs": []
    },
    {
      "metadata": {
        "id": "aRab9NHC2YzI",
        "colab_type": "code",
        "colab": {
          "autoexec": {
            "startup": false,
            "wait_interval": 0
          },
          "base_uri": "https://localhost:8080/",
          "height": 347
        },
        "outputId": "922d2599-d2b7-4174-a436-080df0c2a308",
        "executionInfo": {
          "status": "ok",
          "timestamp": 1522883402891,
          "user_tz": 420,
          "elapsed": 2732,
          "user": {
            "displayName": "Ray Heberer",
            "photoUrl": "//lh4.googleusercontent.com/-BMlr5I5Dhow/AAAAAAAAAAI/AAAAAAAAABc/XW4PF5A8K2Q/s50-c-k-no/photo.jpg",
            "userId": "116545933704048584401"
          }
        }
      },
      "cell_type": "code",
      "source": [
        "lines = [[(0,0), (4,6)],\n",
        "         [(0,6), (2,3)],\n",
        "         [(5,7), (8,7)],\n",
        "         [(5,5), (8,5)],\n",
        "         [(9,6), (11,6)],\n",
        "         [(10,3), (10,9)],\n",
        "         [(10,9), (11,9)],\n",
        "         [(12,3), (12,8)],\n",
        "         [(12,8), (13,8)],\n",
        "         [(12,3), (13,3)],\n",
        "         [(13,4), (16,7)],\n",
        "         [(13,7), (16,4)],\n",
        "         [(16,3), (17,3)],\n",
        "         [(16,8), (17,8)],\n",
        "         [(17,3), (17,8)]]\n",
        "\n",
        "num_dots = 100\n",
        "for line in lines:\n",
        "    draw_line(line[0], line[1], num_dots)\n"
      ],
      "execution_count": 0,
      "outputs": [
        {
          "output_type": "display_data",
          "data": {
            "image/png": "[encoded data removed]",
            "text/plain": [
              "<matplotlib.figure.Figure at 0x7fa077128e48>"
            ]
          },
          "metadata": {
            "tags": []
          }
        }
      ]
    },
    {
      "metadata": {
        "id": "IF4nxDme7JGW",
        "colab_type": "code",
        "colab": {
          "autoexec": {
            "startup": false,
            "wait_interval": 0
          }
        }
      },
      "cell_type": "code",
      "source": [
        ""
      ],
      "execution_count": 0,
      "outputs": []
    }
  ]
}