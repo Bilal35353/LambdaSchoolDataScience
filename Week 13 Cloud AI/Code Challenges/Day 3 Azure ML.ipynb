{
  "nbformat": 4,
  "nbformat_minor": 0,
  "metadata": {
    "colab": {
      "name": "AML Coding Challenge #1.ipynb",
      "version": "0.3.2",
      "views": {},
      "default_view": {},
      "provenance": [
        {
          "file_id": "15nYBnnxxX0qbvB-cQLDHlZlo8h5LANdj",
          "timestamp": 1530117217196
        },
        {
          "file_id": "1pfGE5rX3dz6Xuz24Nq-EoVjyG3G8Rgcq",
          "timestamp": 1530075115142
        },
        {
          "file_id": "1smA7V_jFgej50GtWscJz_hE1BH-iCpdj",
          "timestamp": 1529883984655
        },
        {
          "file_id": "14-ikqVBuAnePr8RJz6lERUqXYtas8zX9",
          "timestamp": 1529802169116
        },
        {
          "file_id": "1DfwquLAXV9tX_7U4a9PBzQVHogArCza_",
          "timestamp": 1529695626260
        }
      ]
    },
    "kernelspec": {
      "name": "python3",
      "display_name": "Python 3"
    }
  },
  "cells": [
    {
      "metadata": {
        "id": "FYbXz8ZO23fN",
        "colab_type": "text"
      },
      "cell_type": "markdown",
      "source": [
        "**Coding Challenge #1:** In this coding challenge, you will get exposed to some of the buidling blocks of Azure ML. When you build a Machine Learning pipeline in MS Azure, you go through a series of steps. This coding challenge is meant to provide you with exposure to some of the distinct steps that constitute the MS Azure Machine Learning pipeline."
      ]
    },
    {
      "metadata": {
        "id": "lhHbstZSZF53",
        "colab_type": "text"
      },
      "cell_type": "markdown",
      "source": [
        "**Question 1**: We have the following dataset i.e. Titanic-Updated\n",
        "\n",
        "**1)** Read in the dataset\n",
        "\n",
        "**2)** Utilize a  **'SQL Transformation'** to split the data into 2 groups based on 'sex' i.e. males and females\n",
        "\n",
        "**3) ** Treat missing values in the 'age' column. Replace any missing values with the 'mean' of that column\n",
        "\n",
        "**4)** Run the experiment and examine the output. Ensure the 'age' attribute has been treated approriately.\n",
        "\n",
        "**5)** Once the missing values have been treated, combine (i.e. append) the 2 data sets\n",
        "\n",
        "**6)** Select all columns except for PassengerId, Parch, Cabin and Embarked columns\n",
        "\n",
        "**Datasets: ** \n",
        "\n",
        "Titanic dataset:  https://www.dropbox.com/s/lifapv9qi69lpvy/Titanic-Updated.csv?raw=1"
      ]
    },
    {
      "metadata": {
        "id": "bMFFsOcBcP_9",
        "colab_type": "text"
      },
      "cell_type": "markdown",
      "source": [
        "![](https://raw.githubusercontent.com/rayheberer/LambdaSchoolDataScience/master/img/azureCC/Q1.PNG)"
      ]
    },
    {
      "metadata": {
        "id": "BECwfK7kq42f",
        "colab_type": "text"
      },
      "cell_type": "markdown",
      "source": [
        "**Question 2: ** In this question, you will go through the process of training/scoring a model. You will work with a dataset that contains Doctor Appointment related data where the goal is to predict \"Show/No Show\" for a doctor's appoitment.\n",
        "\n",
        "**1)** Read-in the dataset\n",
        "\n",
        "**2)** Select **only** the columns that will be utilized for model creation\n",
        "\n",
        "**3)** Specify the features that you would like to treat as categorical variables\n",
        "\n",
        "**4)** Specify the features that you would like to treat as numeric features/variables\n",
        "\n",
        "**5) ** Specify the label (i.e. the variable that will be predicted)\n",
        "\n",
        "**6) ** Split the underlying dataset for training/testing purposes. **70%** of the underlying dataset will constitute the training dataset and **30%** of the underlying dataset will constitute the test dataset\n",
        "\n",
        "**7) ** Once the data is split, train a model. In this case since we are dealing with a classification model, choose an appropriate model that should be trained\n",
        "\n",
        "**8) ** Once the training is completed, score/test the model with the test dataset\n",
        "\n",
        "**9) ** Once the testing is complete, evaluate the accuracy of the model by summarizing your findings highlighted in the **Confusion Matrix**\n",
        "\n",
        "**Dataset: ** https://www.dropbox.com/s/uekvopy7500lkqe/Doctor%20Appointments.zip?raw=1\n",
        "\n",
        "**Reference:**\n",
        "\n",
        "**Confusion Matrix:** https://www.geeksforgeeks.org/confusion-matrix-machine-learning/\n",
        "\n"
      ]
    },
    {
      "metadata": {
        "id": "W_gSW17lcW1k",
        "colab_type": "text"
      },
      "cell_type": "markdown",
      "source": [
        "![](https://raw.githubusercontent.com/rayheberer/LambdaSchoolDataScience/master/img/azureCC/Q2.PNG)\n",
        "\n",
        "![](https://raw.githubusercontent.com/rayheberer/LambdaSchoolDataScience/master/img/azureCC/Q2-confusion-matrix.PNG)"
      ]
    },
    {
      "metadata": {
        "id": "-jq1Kfw54UFe",
        "colab_type": "text"
      },
      "cell_type": "markdown",
      "source": [
        "**Question 3: ** In this question,  you will work with a dataset that contains Loan Related related data where the goal is to predict whether the loan will be approved or not.\n",
        "\n",
        "**1)** Read in the dataset\n",
        "\n",
        "**2)** Remove rows where values for the '\"Gender\" attribute is missing\n",
        "\n",
        "**3) ** Treat the *other* missing values based on the concepts you were exposed to in the data preparation part of this course\n",
        "\n",
        "**4) ** Select the columns that will be utilized for model creation; specify the categorial & non-categorical features\n",
        "\n",
        "**5) ** Split the underlying dataset for training/testing purposes. **70%** of the underlying dataset will constitute the training dataset and **30%** of the underlying dataset will constitute the test dataset\n",
        "\n",
        "**6) ** Once the data is split, train a model. In this case, train a Logistic Regression model\n",
        "\n",
        "**7) ** Once the training is completed, score/test the model with the test dataset. Scroll to the right and you will notice that 2 new columsn have been added. The first column hightlights the prediction and the 2nd column higlights the level of confidence in the prediction\n",
        "\n",
        "**8) ** Once the testing is complete, evaluate the accuracy of the model by summarizing your findings highlighted in the **Confusion Matrix**\n",
        "\n",
        "Now, you will get an opportunity to tweak the parameters of the \"Logistic Regression\" model to ascertain the impact on the accuracy of the model\n",
        "\n",
        "**9) ** Re-run your model by tweaking the following parameters:\n",
        "\n",
        "a) The \"Stratified Split\" option (i.e. for the \"Split\" data operator) - toggle it between \"True\" and \"False\" and see the impact on the output of the evaluation model\n",
        "\n",
        "b) High L1 Regularization weight /Low L2 Regularization weight\n",
        "\n",
        "c) Low L1 Regularization weight/ High L2 Regularization weight\n",
        "\n",
        "d) High L1 Regularization weight /High L2 Regularization weight\n",
        "\n",
        "e) Low L1 Regularization weight/ Low L2 Regularization weight\n",
        "\n",
        "**Reference:**\n",
        "\n",
        "https://towardsdatascience.com/l1-and-l2-regularization-methods-ce25e7fc831c\n",
        "\n",
        "https://towardsdatascience.com/regularization-in-machine-learning-76441ddcf99a\n",
        "\n",
        "**Dataset: ** https://www.dropbox.com/s/jiocadf6e50xqne/Loan-Approval-Prediction.csv?raw=1"
      ]
    },
    {
      "metadata": {
        "id": "UHvD0xJNcbE_",
        "colab_type": "text"
      },
      "cell_type": "markdown",
      "source": [
        "![](https://raw.githubusercontent.com/rayheberer/LambdaSchoolDataScience/master/img/azureCC/Q3.PNG)\n",
        "\n",
        "### Default Parameters\n",
        "![](https://raw.githubusercontent.com/rayheberer/LambdaSchoolDataScience/master/img/azureCC/Q3-default.PNG)\n",
        "\n",
        "### Stratified Split on `Gender`\n",
        "![](https://raw.githubusercontent.com/rayheberer/LambdaSchoolDataScience/master/img/azureCC/Q3-stratified-gender.PNG)\n",
        "\n",
        "### High L1 Regularization\n",
        "![](https://raw.githubusercontent.com/rayheberer/LambdaSchoolDataScience/master/img/azureCC/Q3-L1.PNG)\n",
        "\n",
        "### High L2 Regularization\n",
        "![](https://raw.githubusercontent.com/rayheberer/LambdaSchoolDataScience/master/img/azureCC/Q3-L2.PNG)\n",
        "\n",
        "### No Regularization\n",
        "![](https://raw.githubusercontent.com/rayheberer/LambdaSchoolDataScience/master/img/azureCC/Q3-unregularized.PNG)\n",
        "\n",
        "### High L1 and L2 Regularization\n",
        "![](https://raw.githubusercontent.com/rayheberer/LambdaSchoolDataScience/master/img/azureCC/Q3-L1L2.PNG)"
      ]
    },
    {
      "metadata": {
        "id": "uVG9OTcHG9AM",
        "colab_type": "text"
      },
      "cell_type": "markdown",
      "source": [
        "**Question 4: ** In this question, you will compare the output from 2 modules. You will utilize a Two-Class Decision Forest model and a Two-Class Support Vector Machine model to classify \"Income\" related data i.e. whethere an individial makes > `$50,000`  or <= `$50,000`\n",
        "\n",
        "**Ask:** Step through the machine learning pipeline and compare the output from the 2 modules (i.e. the output from the Evaluate Model operator). Which model will you use to classify the income related data? Why?\n",
        "\n",
        "**Answer:** The two models have comparable performance. At this stage in an analysis project, I would try tuning the hyperparameters of each before determining which will be better for the classification task.\n",
        "\n",
        "With default settings, the Random Forest has a slightly higher AUC than the SVM.\n",
        "\n",
        "***Hint: *** When preparing the data, drop the 'fnlwgt' attribute and keep one of the following attributes between \"education\" and \"education-num\" since they refer to the same information\n",
        "\n",
        "\n",
        "**Stretch Goal**: Now, use a \"**cross-validation**\" operator to ascertain the reliability of the predictions\n",
        "\n",
        "**Reference**: https://docs.microsoft.com/en-us/azure/machine-learning/studio-module-reference/cross-validate-model\n",
        "\n",
        "\n",
        "**Dataset: ** Use the \"Adult Census Income Binary Classification dataset\" which is part of the sample dataset available with Azure Machine Learning\n",
        "\n",
        "This dataset is accessible here as well: https://archive.ics.uci.edu/ml/machine-learning-databases/adult/adult.data\n"
      ]
    },
    {
      "metadata": {
        "id": "psBV69ssc9zd",
        "colab_type": "text"
      },
      "cell_type": "markdown",
      "source": [
        "![](https://raw.githubusercontent.com/rayheberer/LambdaSchoolDataScience/master/img/azureCC/Q4.PNG)\n",
        "\n",
        "![](https://raw.githubusercontent.com/rayheberer/LambdaSchoolDataScience/master/img/azureCC/Q4-ROC.PNG)"
      ]
    }
  ]
}