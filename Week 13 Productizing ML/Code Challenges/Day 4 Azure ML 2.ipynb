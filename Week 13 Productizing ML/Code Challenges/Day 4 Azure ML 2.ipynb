{
  "nbformat": 4,
  "nbformat_minor": 0,
  "metadata": {
    "colab": {
      "name": "AML Coding Challenge #2.ipynb",
      "version": "0.3.2",
      "views": {},
      "default_view": {},
      "provenance": [
        {
          "file_id": "1yyuz4q1pDqWXXOurHhgsSjW74b_5O395",
          "timestamp": 1530198089611
        },
        {
          "file_id": "1KUE6masU1wK6z7bxtX8HrwgsgpR70tyM",
          "timestamp": 1530075215610
        },
        {
          "file_id": "1pfGE5rX3dz6Xuz24Nq-EoVjyG3G8Rgcq",
          "timestamp": 1529973253088
        },
        {
          "file_id": "1smA7V_jFgej50GtWscJz_hE1BH-iCpdj",
          "timestamp": 1529883984655
        },
        {
          "file_id": "14-ikqVBuAnePr8RJz6lERUqXYtas8zX9",
          "timestamp": 1529802169116
        },
        {
          "file_id": "1DfwquLAXV9tX_7U4a9PBzQVHogArCza_",
          "timestamp": 1529695626260
        }
      ]
    },
    "kernelspec": {
      "name": "python3",
      "display_name": "Python 3"
    }
  },
  "cells": [
    {
      "metadata": {
        "id": "FYbXz8ZO23fN",
        "colab_type": "text"
      },
      "cell_type": "markdown",
      "source": [
        "**Coding Challenge #2:** In this coding challenge, you will further hone your skills in constructing Machine Learning pipelines by tackling a few additional scenarios"
      ]
    },
    {
      "metadata": {
        "id": "lhHbstZSZF53",
        "colab_type": "text"
      },
      "cell_type": "markdown",
      "source": [
        "**Question 1**: In this case, you will utilize a sample dataset available with MS Azure Machine Learning to predict automobile prices\n",
        "\n",
        "**1)** Read in the respective dataset\n",
        "\n",
        "**2)** Treat missing values\n",
        "\n",
        "**3)** Split the data into training (70%) and test (30%) sets \n",
        "\n",
        "**4)** Train an appropriate model that will help you predict the prices of automobiles\n",
        "\n",
        "**5) **Score the model against the test data\n",
        "\n",
        "**6)** Evaluate the model to ascertain the accuracy of the model\n",
        "\n",
        "**7)** Can you imporve the accuracy of the model by tweaking the model parameters. If so, what did you tweak and what was the reason for it?\n",
        "\n",
        "**8)** Utilize an alternate method to see if it impacts the accuracy of the model\n",
        "\n",
        "\n",
        "**Dataset: ** \n",
        "\n",
        "**Sample dataset:** Automobile price data (raw)\n",
        "\n",
        "\n",
        "\n"
      ]
    },
    {
      "metadata": {
        "id": "b46dqdc6-smS",
        "colab_type": "text"
      },
      "cell_type": "markdown",
      "source": [
        "![](https://raw.githubusercontent.com/rayheberer/LambdaSchoolDataScience/master/img/Week%2013/Code%20Challenges/Day%204/Q1.PNG)\n",
        "\n",
        "![](https://raw.githubusercontent.com/rayheberer/LambdaSchoolDataScience/master/img/Week%2013/Code%20Challenges/Day%204/Q1-error.PNG)\n",
        "\n",
        "Lowering the `\"Total number of trees constructed\"` parameter from 100 to 50 reduced the Mean Absolute Error of the model. This parameter is often the most meaningful one to tweak in boosted tree models, and I figured reducing it might help prevent overfitting.\n",
        "\n",
        "![](https://raw.githubusercontent.com/rayheberer/LambdaSchoolDataScience/master/img/Week%2013/Code%20Challenges/Day%204/Q1-error-lesstrees.PNG)\n",
        "\n",
        "Using the MICE algorithm instead of the median to impute missing numeric values also reduced the MAE, but only very slightly.\n",
        "\n",
        "![](https://raw.githubusercontent.com/rayheberer/LambdaSchoolDataScience/master/img/Week%2013/Code%20Challenges/Day%204/Q1-error-mice.PNG)"
      ]
    },
    {
      "metadata": {
        "id": "BECwfK7kq42f",
        "colab_type": "text"
      },
      "cell_type": "markdown",
      "source": [
        "**Question 2: ** This question is meant to help you build a recommender system. The link below contains step-by-step instructions on how to build a system that recommends movies. Once you have stepped through the guided tutorial, you will leverage the knowledge to build a system that recommends restaurants.\n",
        "\n",
        "**Guided Tutorial:** \n",
        "\n",
        "https://gallery.azure.ai/Experiment/3a02931f94114f47b4512dd9179b515e\n",
        "\n",
        "**Ask: ** Build and publish a Restaurant Recommender using the following datasets provided as part of the MS Azure Machine Learning environment:\n",
        "\n",
        "**a) **Restaurant Customer data\n",
        "\n",
        "**b)** Restaurant Feature data\n",
        "\n",
        "**c)** Restaurant ratings\n",
        "\n",
        "Once the recommender system is in place, **access it using a web service call**\n",
        "\n",
        "**Stretch Goal**: Build a front end web application that leverages the recommender to make restaurant recommendations\n",
        "\n"
      ]
    },
    {
      "metadata": {
        "id": "UuHNIOBtNCFO",
        "colab_type": "text"
      },
      "cell_type": "markdown",
      "source": [
        "### Training\n",
        "\n",
        "![](https://raw.githubusercontent.com/rayheberer/LambdaSchoolDataScience/master/img/Week%2013/Code%20Challenges/Day%204/Q2-training.PNG)\n",
        "\n",
        "![](https://raw.githubusercontent.com/rayheberer/LambdaSchoolDataScience/master/img/Week%2013/Code%20Challenges/Day%204/Q2-ratings-error.PNG)\n",
        "\n",
        "![](https://raw.githubusercontent.com/rayheberer/LambdaSchoolDataScience/master/img/Week%2013/Code%20Challenges/Day%204/Q2-recommend-item.PNG)\n",
        "\n",
        "\n",
        "### Deployment\n",
        "![](https://raw.githubusercontent.com/rayheberer/LambdaSchoolDataScience/master/img/Week%2013/Code%20Challenges/Day%204/Q2-deploy.PNG)"
      ]
    }
  ]
}