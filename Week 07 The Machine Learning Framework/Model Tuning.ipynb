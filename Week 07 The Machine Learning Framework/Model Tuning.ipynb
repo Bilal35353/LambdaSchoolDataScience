{
  "nbformat": 4,
  "nbformat_minor": 0,
  "metadata": {
    "colab": {
      "name": "Model Tuning Assignment.ipynb",
      "version": "0.3.2",
      "views": {},
      "default_view": {},
      "provenance": [
        {
          "file_id": "1YrBAc3X1e7P56U5HeVwjaVrs5GqDZDT6",
          "timestamp": 1526324841699
        },
        {
          "file_id": "1ec075s7oeOBxW6apQpDb4m7vbTuINdKh",
          "timestamp": 1526324756653
        }
      ],
      "collapsed_sections": []
    }
  },
  "cells": [
    {
      "metadata": {
        "id": "j3-9qZ80euzF",
        "colab_type": "text"
      },
      "cell_type": "markdown",
      "source": [
        "# Part One: K-fold Cross Validation\n",
        "\n",
        "The challenge of training machine learning models is to be able to make accurate predictions on previously unseen real-world data in spite of the fact that we only have a finite training dataset to learn from. \n",
        "\n",
        "One way of validating our model's quality-of-fit and avoiding overfitting/underfitting, is to use the test_train_split method like we did in the code challenge. With this method, the randomly selected test dataset can be used to evaluate how our model performs on data that it has not yet seen in the training process. However, there are downsides to this approach:\n",
        "\n",
        "*   We lose a valuable portion of data that we would prefer to be able to train on to serve as the test dataset. We would prefer to have both the testing and training datasets be as large as possible.\n",
        "*   With small datasets, measures of our model's quality using the test_train_split method often have a high variance. (We saw this behavior when we changed the random seed in the code challenge)\n",
        "\n",
        "We can reduce the severity of both of these drawbacks by using what is called K-fold Cross Validation:\n",
        "\n",
        "[Short Video Explaining K-Fold Cross Validation](https://www.youtube.com/watch?v=TIgfjmp-4BA)\n",
        "\n",
        "[How to Implement K-Fold Cross Validation on the Pima Indians Diabetes dataset](https://machinelearningmastery.com/evaluate-performance-machine-learning-algorithms-python-using-resampling/)"
      ]
    },
    {
      "metadata": {
        "id": "8-xSRguyK0SS",
        "colab_type": "text"
      },
      "cell_type": "markdown",
      "source": [
        "## DO THIS:\n",
        "\n",
        "**1)** Train a logistic regression model on the titanic dataset predicting survivors first using a 20-80% test_train_split and print the accuracy of your model using 5 different random seeds.\n",
        "\n",
        "**2)** Use 5-fold Cross Validation on the titanic dataset. Print out the accuracies from each of the 5 folds of the cross validation, then print the final mean and standard deviation of those cross validation accuracies. How do the accuracies on each of the inidvidual folds compare to the accuracies of the test_train_split approach? Is the variance in accuracies of the cross-validation approach higher or lower than the variance of the test_train_split approach? \n",
        "\n",
        "**3)** Try using 3-fold Cross Validation as well as 10-fold cross validation. How does the number of folds in the cross-validation process affect the outcome? How many folds should be used?\n",
        "\n",
        "---\n",
        "I would give you more boilerplate code here, but I don't want to make it too easy. The articles linked above should be sufficient for this purpose."
      ]
    },
    {
      "metadata": {
        "id": "Wd3B2oWCbUGJ",
        "colab_type": "code",
        "colab": {
          "autoexec": {
            "startup": false,
            "wait_interval": 0
          }
        }
      },
      "cell_type": "code",
      "source": [
        "import numpy as np\n",
        "import pandas as pd\n",
        "import matplotlib.pyplot as plt\n",
        "import seaborn as sns\n",
        "from sklearn.model_selection import KFold, train_test_split\n",
        "from sklearn.linear_model import LogisticRegression\n",
        "from sklearn.preprocessing import LabelEncoder, OneHotEncoder"
      ],
      "execution_count": 0,
      "outputs": []
    },
    {
      "metadata": {
        "id": "0ynECx_nbpUw",
        "colab_type": "text"
      },
      "cell_type": "markdown",
      "source": [
        "The following is a script that I've used multiple times to load and preprocess my Titanic data. It encodes the ordered categorical variables as integers, one-hot encodes `Embarked`, fills missing values with the most frequent value for categorical variables and the median for the continuous variables, and drops duplicate rows and redundant columns."
      ]
    },
    {
      "metadata": {
        "id": "kqwcuyA9K6dq",
        "colab_type": "code",
        "colab": {
          "autoexec": {
            "startup": false,
            "wait_interval": 0
          },
          "base_uri": "https://localhost:8080/",
          "height": 204
        },
        "outputId": "bc117cfb-9feb-490b-9a62-75f098bde8af",
        "executionInfo": {
          "status": "ok",
          "timestamp": 1526428608969,
          "user_tz": 420,
          "elapsed": 582,
          "user": {
            "displayName": "Ray Heberer",
            "photoUrl": "//lh4.googleusercontent.com/-BMlr5I5Dhow/AAAAAAAAAAI/AAAAAAAAABc/XW4PF5A8K2Q/s50-c-k-no/photo.jpg",
            "userId": "116545933704048584401"
          }
        }
      },
      "cell_type": "code",
      "source": [
        "def fill_mixed_median_mode(dataframe, medians=list()):\n",
        "    \"\"\" Fill missing values with median for specified column, otherwise mode\n",
        "    \n",
        "    Args:\n",
        "        dataframe (pandas.core.frame.DataFrame): rows of observations of features\n",
        "        medians (list): columns to fill missing values with median instead of mode\n",
        "        \n",
        "    Returns:\n",
        "        dataframe with no missing values\n",
        "    \"\"\"\n",
        "    \n",
        "    \n",
        "    null = dataframe.isnull().any()\n",
        "    null_cols = list(null[null].index)\n",
        "    \n",
        "    fill = pd.Series([data[c].median() if c in medians else data[c].mode()[0]\n",
        "                     for c in null_cols], index=null_cols)\n",
        "    \n",
        "    dataframe[null_cols] = dataframe[null_cols].fillna(fill)\n",
        "    return dataframe\n",
        "\n",
        "data = sns.load_dataset('titanic')\n",
        "data = data.drop(['alive','adult_male','who','class','embark_town', 'deck'], axis=1)\n",
        "data = data.drop_duplicates()\n",
        "\n",
        "data_f = fill_mixed_median_mode(data, ['age', 'fare'])\n",
        "\n",
        "for label in ['embarked','sex', 'alone']:\n",
        "    data_f[label] = LabelEncoder().fit_transform(data_f[label])\n",
        "\n",
        "embarked_one_hot = OneHotEncoder().fit_transform(data_f[['embarked']]).toarray()\n",
        "embarked = pd.DataFrame(embarked_one_hot, \n",
        "                        columns=['Southampton', 'Cherbourg', 'Queenstown'], \n",
        "                        dtype=np.int64)\n",
        "\n",
        "data_f = data_f.reset_index(drop=True)\n",
        "data_enc = data_f.join([embarked])\n",
        "data_enc = data_enc.drop(['embarked'], axis=1)\n",
        "\n",
        "data_enc.head()"
      ],
      "execution_count": 2,
      "outputs": [
        {
          "output_type": "execute_result",
          "data": {
            "text/html": [
              "<div>\n",
              "<style scoped>\n",
              "    .dataframe tbody tr th:only-of-type {\n",
              "        vertical-align: middle;\n",
              "    }\n",
              "\n",
              "    .dataframe tbody tr th {\n",
              "        vertical-align: top;\n",
              "    }\n",
              "\n",
              "    .dataframe thead th {\n",
              "        text-align: right;\n",
              "    }\n",
              "</style>\n",
              "<table border=\"1\" class=\"dataframe\">\n",
              "  <thead>\n",
              "    <tr style=\"text-align: right;\">\n",
              "      <th></th>\n",
              "      <th>survived</th>\n",
              "      <th>pclass</th>\n",
              "      <th>sex</th>\n",
              "      <th>age</th>\n",
              "      <th>sibsp</th>\n",
              "      <th>parch</th>\n",
              "      <th>fare</th>\n",
              "      <th>alone</th>\n",
              "      <th>Southampton</th>\n",
              "      <th>Cherbourg</th>\n",
              "      <th>Queenstown</th>\n",
              "    </tr>\n",
              "  </thead>\n",
              "  <tbody>\n",
              "    <tr>\n",
              "      <th>0</th>\n",
              "      <td>0</td>\n",
              "      <td>3</td>\n",
              "      <td>1</td>\n",
              "      <td>22.0</td>\n",
              "      <td>1</td>\n",
              "      <td>0</td>\n",
              "      <td>7.2500</td>\n",
              "      <td>0</td>\n",
              "      <td>0</td>\n",
              "      <td>0</td>\n",
              "      <td>1</td>\n",
              "    </tr>\n",
              "    <tr>\n",
              "      <th>1</th>\n",
              "      <td>1</td>\n",
              "      <td>1</td>\n",
              "      <td>0</td>\n",
              "      <td>38.0</td>\n",
              "      <td>1</td>\n",
              "      <td>0</td>\n",
              "      <td>71.2833</td>\n",
              "      <td>0</td>\n",
              "      <td>1</td>\n",
              "      <td>0</td>\n",
              "      <td>0</td>\n",
              "    </tr>\n",
              "    <tr>\n",
              "      <th>2</th>\n",
              "      <td>1</td>\n",
              "      <td>3</td>\n",
              "      <td>0</td>\n",
              "      <td>26.0</td>\n",
              "      <td>0</td>\n",
              "      <td>0</td>\n",
              "      <td>7.9250</td>\n",
              "      <td>1</td>\n",
              "      <td>0</td>\n",
              "      <td>0</td>\n",
              "      <td>1</td>\n",
              "    </tr>\n",
              "    <tr>\n",
              "      <th>3</th>\n",
              "      <td>1</td>\n",
              "      <td>1</td>\n",
              "      <td>0</td>\n",
              "      <td>35.0</td>\n",
              "      <td>1</td>\n",
              "      <td>0</td>\n",
              "      <td>53.1000</td>\n",
              "      <td>0</td>\n",
              "      <td>0</td>\n",
              "      <td>0</td>\n",
              "      <td>1</td>\n",
              "    </tr>\n",
              "    <tr>\n",
              "      <th>4</th>\n",
              "      <td>0</td>\n",
              "      <td>3</td>\n",
              "      <td>1</td>\n",
              "      <td>35.0</td>\n",
              "      <td>0</td>\n",
              "      <td>0</td>\n",
              "      <td>8.0500</td>\n",
              "      <td>1</td>\n",
              "      <td>0</td>\n",
              "      <td>0</td>\n",
              "      <td>1</td>\n",
              "    </tr>\n",
              "  </tbody>\n",
              "</table>\n",
              "</div>"
            ],
            "text/plain": [
              "   survived  pclass  sex   age  sibsp  parch     fare  alone  Southampton  \\\n",
              "0         0       3    1  22.0      1      0   7.2500      0            0   \n",
              "1         1       1    0  38.0      1      0  71.2833      0            1   \n",
              "2         1       3    0  26.0      0      0   7.9250      1            0   \n",
              "3         1       1    0  35.0      1      0  53.1000      0            0   \n",
              "4         0       3    1  35.0      0      0   8.0500      1            0   \n",
              "\n",
              "   Cherbourg  Queenstown  \n",
              "0          0           1  \n",
              "1          0           0  \n",
              "2          0           1  \n",
              "3          0           1  \n",
              "4          0           1  "
            ]
          },
          "metadata": {
            "tags": []
          },
          "execution_count": 2
        }
      ]
    },
    {
      "metadata": {
        "id": "KRWL-0Ssc3DE",
        "colab_type": "text"
      },
      "cell_type": "markdown",
      "source": [
        "## Train Test Split"
      ]
    },
    {
      "metadata": {
        "id": "Fh9AMEpBdByh",
        "colab_type": "code",
        "colab": {
          "autoexec": {
            "startup": false,
            "wait_interval": 0
          }
        }
      },
      "cell_type": "code",
      "source": [
        "X = data_enc.drop('survived', axis=1)\n",
        "Y = data_enc[['survived']]"
      ],
      "execution_count": 0,
      "outputs": []
    },
    {
      "metadata": {
        "id": "o7zFWTx1dZ_h",
        "colab_type": "code",
        "colab": {
          "autoexec": {
            "startup": false,
            "wait_interval": 0
          },
          "base_uri": "https://localhost:8080/",
          "height": 102
        },
        "outputId": "ce356058-19a8-4973-a229-71147858bc82",
        "executionInfo": {
          "status": "ok",
          "timestamp": 1526428610501,
          "user_tz": 420,
          "elapsed": 415,
          "user": {
            "displayName": "Ray Heberer",
            "photoUrl": "//lh4.googleusercontent.com/-BMlr5I5Dhow/AAAAAAAAAAI/AAAAAAAAABc/XW4PF5A8K2Q/s50-c-k-no/photo.jpg",
            "userId": "116545933704048584401"
          }
        }
      },
      "cell_type": "code",
      "source": [
        "seeds = [10, 21, 41, 42, 66]\n",
        "\n",
        "for seed in seeds:\n",
        "    X_train, X_test, Y_train, Y_test = train_test_split(X, Y.values.ravel(), \n",
        "                                                        test_size=0.2, random_state=seed)\n",
        "    \n",
        "    model = LogisticRegression()\n",
        "    model.fit(X_train, Y_train)\n",
        "    \n",
        "    accuracy = model.score(X_test, Y_test)\n",
        "    \n",
        "    print('Random Seed: {}, Accuracy: {:.1f}%'.format(seed, accuracy*100))"
      ],
      "execution_count": 4,
      "outputs": [
        {
          "output_type": "stream",
          "text": [
            "Random Seed: 10, Accuracy: 75.0%\n",
            "Random Seed: 21, Accuracy: 80.1%\n",
            "Random Seed: 41, Accuracy: 78.2%\n",
            "Random Seed: 42, Accuracy: 79.5%\n",
            "Random Seed: 66, Accuracy: 78.8%\n"
          ],
          "name": "stdout"
        }
      ]
    },
    {
      "metadata": {
        "id": "qxRmwDw0c5bl",
        "colab_type": "text"
      },
      "cell_type": "markdown",
      "source": [
        "## 5-fold Cross Validation"
      ]
    },
    {
      "metadata": {
        "id": "-Ijj-wZ_eiaE",
        "colab_type": "code",
        "colab": {
          "autoexec": {
            "startup": false,
            "wait_interval": 0
          },
          "base_uri": "https://localhost:8080/",
          "height": 88
        },
        "outputId": "c95bfad8-63c2-4a00-efb0-71eba49b24c4",
        "executionInfo": {
          "status": "ok",
          "timestamp": 1526428611266,
          "user_tz": 420,
          "elapsed": 521,
          "user": {
            "displayName": "Ray Heberer",
            "photoUrl": "//lh4.googleusercontent.com/-BMlr5I5Dhow/AAAAAAAAAAI/AAAAAAAAABc/XW4PF5A8K2Q/s50-c-k-no/photo.jpg",
            "userId": "116545933704048584401"
          }
        }
      },
      "cell_type": "code",
      "source": [
        "kf = KFold(n_splits=5, random_state=41)\n",
        "kf.get_n_splits(X)\n",
        "\n",
        "validation_accuracy = 0\n",
        "for train_index, test_index in kf.split(X):\n",
        "    X_train, X_test = X.iloc[train_index], X.iloc[test_index]\n",
        "    Y_train, Y_test = Y.iloc[train_index], Y.iloc[test_index]\n",
        "    \n",
        "    model = LogisticRegression()\n",
        "    model.fit(X_train, Y_train)\n",
        "    \n",
        "    accuracy = model.score(X_test, Y_test.values.ravel())\n",
        "    validation_accuracy += accuracy\n",
        "    \n",
        "validation_accuracy /= 5\n",
        "\n",
        "print('Mean Validation Accuracy Across 5 Folds: {:.1f}%'.format(validation_accuracy*100))"
      ],
      "execution_count": 5,
      "outputs": [
        {
          "output_type": "stream",
          "text": [
            "Mean Validation Accuracy Across 5 Folds: 76.2%\n"
          ],
          "name": "stdout"
        },
        {
          "output_type": "stream",
          "text": [
            "/usr/local/lib/python2.7/dist-packages/sklearn/utils/validation.py:578: DataConversionWarning: A column-vector y was passed when a 1d array was expected. Please change the shape of y to (n_samples, ), for example using ravel().\n",
            "  y = column_or_1d(y, warn=True)\n"
          ],
          "name": "stderr"
        }
      ]
    },
    {
      "metadata": {
        "id": "q57QHLwhc8KS",
        "colab_type": "text"
      },
      "cell_type": "markdown",
      "source": [
        "## Trying Multiple Folds"
      ]
    },
    {
      "metadata": {
        "id": "V58Fd58jgmRq",
        "colab_type": "text"
      },
      "cell_type": "markdown",
      "source": [
        "I will wrap the above code in a function so that it is straightforward to reuse it for differing amounts of folds."
      ]
    },
    {
      "metadata": {
        "id": "Xrtet_Ixgkmp",
        "colab_type": "code",
        "colab": {
          "autoexec": {
            "startup": false,
            "wait_interval": 0
          }
        }
      },
      "cell_type": "code",
      "source": [
        "def kfold_accuracy(X, Y, k=5, random_state=41):\n",
        "    kf = KFold(n_splits=k, random_state=random_state)\n",
        "    kf.get_n_splits(X)\n",
        "\n",
        "    validation_accuracy = 0\n",
        "    for train_index, test_index in kf.split(X):\n",
        "        X_train, X_test = X.iloc[train_index], X.iloc[test_index]\n",
        "        Y_train, Y_test = Y.iloc[train_index], Y.iloc[test_index]\n",
        "\n",
        "        model = LogisticRegression()\n",
        "        model.fit(X_train, Y_train)\n",
        "\n",
        "        accuracy = model.score(X_test, Y_test.values.ravel())\n",
        "        validation_accuracy += accuracy\n",
        "\n",
        "    return validation_accuracy / k"
      ],
      "execution_count": 0,
      "outputs": []
    },
    {
      "metadata": {
        "id": "GvJ76Y_Hg6-L",
        "colab_type": "code",
        "colab": {
          "autoexec": {
            "startup": false,
            "wait_interval": 0
          }
        }
      },
      "cell_type": "code",
      "source": [
        "folds = [2, 3, 4, 5, 6, 7, 8, 9, 10]\n",
        "accuracies = [kfold_accuracy(X, Y, k) for k in folds]"
      ],
      "execution_count": 0,
      "outputs": []
    },
    {
      "metadata": {
        "id": "PF-VXGhAhlFM",
        "colab_type": "code",
        "colab": {
          "autoexec": {
            "startup": false,
            "wait_interval": 0
          },
          "base_uri": "https://localhost:8080/",
          "height": 376
        },
        "outputId": "ce2dc2d2-9c05-467f-fb81-a5e7a0a25e8c",
        "executionInfo": {
          "status": "ok",
          "timestamp": 1526428613667,
          "user_tz": 420,
          "elapsed": 469,
          "user": {
            "displayName": "Ray Heberer",
            "photoUrl": "//lh4.googleusercontent.com/-BMlr5I5Dhow/AAAAAAAAAAI/AAAAAAAAABc/XW4PF5A8K2Q/s50-c-k-no/photo.jpg",
            "userId": "116545933704048584401"
          }
        }
      },
      "cell_type": "code",
      "source": [
        "fig, ax = plt.subplots()\n",
        "ax.scatter(folds, accuracies)\n",
        "ax.set(title='Average Validation Accuracy', \n",
        "       xlabel='Cross Validation Folds', \n",
        "       ylabel='Accuracy');"
      ],
      "execution_count": 8,
      "outputs": [
        {
          "output_type": "display_data",
          "data": {
            "image/png": "[encoded data removed]",
            "text/plain": [
              "<matplotlib.figure.Figure at 0x7f4c7aa61090>"
            ]
          },
          "metadata": {
            "tags": []
          }
        }
      ]
    },
    {
      "metadata": {
        "id": "VB4cLu7yity8",
        "colab_type": "text"
      },
      "cell_type": "markdown",
      "source": [
        "There is a noticeable jump in validation accuracy when going from using 2 to 3 folds. As the number of folds is increased, the model is trained on a larger proportion of the data, and so should benefit from this up to a certain point.\n",
        "\n",
        "The other trend is that as the folds increase, the proportion of the data used for validation decreases, and thus becomes less accurate as a statistical estimate of the model's ability to generalize to unseen data.\n",
        "\n",
        "One way to determine the number of folds to use is to also include the variance of the validation accuracy. This can then be used to understand how reliable of an estimate the average validation accuracy across folds then is. One can then construct selection criteria based off of this. For example, selecting a value for k such that no greater value has an estimate of the accuracy which is one standard deviation above the accuracy at k, using the standard deviation for the higher value.\n",
        "\n",
        "Of course, the choice to use 1 standard deviation as a sort of confidence interval is arbitrary. Better, more motivated choices likely exist."
      ]
    },
    {
      "metadata": {
        "id": "HhW-kEbzjkIG",
        "colab_type": "code",
        "colab": {
          "autoexec": {
            "startup": false,
            "wait_interval": 0
          }
        }
      },
      "cell_type": "code",
      "source": [
        "def kfold_accuracy_with_std(X, Y, k=5, random_state=41):\n",
        "    kf = KFold(n_splits=k, random_state=random_state)\n",
        "    kf.get_n_splits(X)\n",
        "\n",
        "    accuracies = []\n",
        "    for train_index, test_index in kf.split(X):\n",
        "        X_train, X_test = X.iloc[train_index], X.iloc[test_index]\n",
        "        Y_train, Y_test = Y.iloc[train_index], Y.iloc[test_index]\n",
        "\n",
        "        model = LogisticRegression()\n",
        "        model.fit(X_train, Y_train)\n",
        "\n",
        "        accuracy = model.score(X_test, Y_test.values.ravel())\n",
        "        accuracies.append(accuracy)\n",
        "\n",
        "    return np.mean(accuracies), np.std(accuracies)"
      ],
      "execution_count": 0,
      "outputs": []
    },
    {
      "metadata": {
        "id": "oGMSS23rj2sC",
        "colab_type": "code",
        "colab": {
          "autoexec": {
            "startup": false,
            "wait_interval": 0
          }
        }
      },
      "cell_type": "code",
      "source": [
        "accuracies = []\n",
        "stds = []\n",
        "for k in folds:\n",
        "    acc, std = kfold_accuracy_with_std(X, Y, k)\n",
        "    accuracies.append(acc)\n",
        "    stds.append(std)"
      ],
      "execution_count": 0,
      "outputs": []
    },
    {
      "metadata": {
        "id": "trvuq5YakZS4",
        "colab_type": "code",
        "colab": {
          "autoexec": {
            "startup": false,
            "wait_interval": 0
          },
          "base_uri": "https://localhost:8080/",
          "height": 376
        },
        "outputId": "b18d1625-1b04-433a-c4aa-6b981cb30710",
        "executionInfo": {
          "status": "ok",
          "timestamp": 1526428615810,
          "user_tz": 420,
          "elapsed": 386,
          "user": {
            "displayName": "Ray Heberer",
            "photoUrl": "//lh4.googleusercontent.com/-BMlr5I5Dhow/AAAAAAAAAAI/AAAAAAAAABc/XW4PF5A8K2Q/s50-c-k-no/photo.jpg",
            "userId": "116545933704048584401"
          }
        }
      },
      "cell_type": "code",
      "source": [
        "fig, ax = plt.subplots()\n",
        "ax.errorbar(folds, accuracies, yerr=stds, fmt='o')\n",
        "ax.set(title='Average Validation Accuracy', \n",
        "       xlabel='Cross Validation Folds', \n",
        "       ylabel='Accuracy');"
      ],
      "execution_count": 11,
      "outputs": [
        {
          "output_type": "display_data",
          "data": {
            "image/png": "[encoded data removed]",
            "text/plain": [
              "<matplotlib.figure.Figure at 0x7f4c7892c3d0>"
            ]
          },
          "metadata": {
            "tags": []
          }
        }
      ]
    },
    {
      "metadata": {
        "id": "48LtL4KFl2Me",
        "colab_type": "text"
      },
      "cell_type": "markdown",
      "source": [
        "Using the example selection criterion desribed above, I would select 3 folds, since one standard deviation below its accuracy estimate is still greater than the acuracy estimate for 2 folds."
      ]
    },
    {
      "metadata": {
        "id": "1qRSmAPZo0Qr",
        "colab_type": "text"
      },
      "cell_type": "markdown",
      "source": [
        "# Part Two: Hyperparameter Tuning\n",
        "\n",
        "An important technique for improving the accuracy of a machine learning model is to undertake a process known as Hyperparameter Tuning or Hyperparameter Optimization. In order to understand this process, we first need to understand the difference between a model parameter and a model hyperparameter. \n",
        "\n",
        "### What is a model parameter?\n",
        "\n",
        "A model parameter is a value that is generated by fitting our model to training data and is key to generating predictions with that model. They are **internal** to our model and we often are trying to estimate them as best as possible when we train the algorithm. \n",
        "\n",
        "For example, the parameters of a linear regression model would be its intercept value as well as the coefficient values on each of the X variables. Estimates of these crucial values (parameters) are obtained by fitting to the training data, perfectly define the model, are internal to the model, and are key to generating predictions. They are model parameters in every sense. \n",
        "\n",
        "### What is a model hyperparameter?\n",
        "\n",
        "Hyperparameters are values that are key to how well our algorithm runs, yet are **external** to our model and cannot be estimated from the training process. They are more like settings for our algorithm which must be designated before it is run and impact its performance. Here is some further reading:\n",
        "\n",
        "[Hyperparamters explanation on Quora](https://www.quora.com/What-are-hyperparameters-in-machine-learning)\n",
        "\n",
        "[Jason Brownlee Article on the difference between Parameters and Hyperparameters](https://machinelearningmastery.com/difference-between-a-parameter-and-a-hyperparameter/)\n",
        "\n",
        "### How do we find the best hyperparameters?\n",
        "\n",
        "Since we can't learn the best hyperparameters for our model from the data, we essentially just pick values and see which ones lead to the highest accuracy. This can be a tedious and complex process especially for certain models like neural networks which can have dozens of hyperparameters. We will get you familiar with the process using a more simple logistic regression model. \n",
        "\n",
        "### How do you know what hyperparameters exist for your particular model? \n",
        "\n",
        "Most models/libraries have default hyperparameters that will be used if we don't specify them. In the model selection process you might try out multiple models on a dataset and see which one gets you the highest out-of-the-box performance, (using the default hyperparameters) and then pick a couple of the highest performing algorithms and attempt hyperparameter tuning on them to compare how different models benefit from this process. Once you have narrowed down the models that you would like to tune, a quick google search can tell you what hyperparameters exist for that algorithm. \n",
        "\n",
        "Often you can learn about potential hyperparameters by looking at the documentation for a given algorithm in a library, here's the documentation for sklearn's logistic regression, see if you can spot the hyperparameters:\n",
        "\n",
        "[scikit-learn logistic regression docs](http://scikit-learn.org/stable/modules/generated/sklearn.linear_model.LogisticRegressionCV.html)\n",
        "\n"
      ]
    },
    {
      "metadata": {
        "id": "wADqKJAgSqgI",
        "colab_type": "text"
      },
      "cell_type": "markdown",
      "source": [
        "## DO THIS: \n",
        "\n",
        "Lets hyperparameter tune our **titanic** predictions using 5-fold cross validation to compare the accuracy of our tuned models. \n",
        "\n",
        "### Manual Hyperparameter Tuning:\n",
        "\n",
        "For our assignment today we are going to tune the 'C value' also known as the 'regularization strength' of our logistic regression as well as 'penalty' of our logistic regression algorithm.\n",
        "\n",
        "Read up on the regularlization strength and penalty of a logistic regression function. What might be some good values to test out? Hint: Look at the parameter definitions on the sci-kit learn logistic regression documentation. \n",
        "\n",
        "[scikit-learn logistic regression docs](http://scikit-learn.org/stable/modules/generated/sklearn.linear_model.LogisticRegression.html)\n",
        "\n",
        "[Regularization in Logistic Regression](https://www.kdnuggets.com/2016/06/regularization-logistic-regression.html)\n",
        "\n",
        "Fit your model 5 different times using 5 different C values of your choosing. Which value gives the highest accuracy? \n",
        "\n",
        "There are only two penalty values that we can use. Evaluate the model two more times using each penalty once. Which penalty gives the highest accuracy?"
      ]
    },
    {
      "metadata": {
        "id": "UJujhJnetnr3",
        "colab_type": "code",
        "colab": {
          "autoexec": {
            "startup": false,
            "wait_interval": 0
          },
          "base_uri": "https://localhost:8080/",
          "height": 34
        },
        "outputId": "88798a89-f7e3-4803-9c41-00c01a103c31",
        "executionInfo": {
          "status": "ok",
          "timestamp": 1526428616509,
          "user_tz": 420,
          "elapsed": 368,
          "user": {
            "displayName": "Ray Heberer",
            "photoUrl": "//lh4.googleusercontent.com/-BMlr5I5Dhow/AAAAAAAAAAI/AAAAAAAAABc/XW4PF5A8K2Q/s50-c-k-no/photo.jpg",
            "userId": "116545933704048584401"
          }
        }
      },
      "cell_type": "code",
      "source": [
        "# The sample code below uses the Pima Indans Diabetes Dataset. \n",
        "# Here we are setting the C value hyperparameter to 1 and the penalty hyperparameter to \"l1\". \n",
        "# You can designate your hyperparameters in a similar fashion.\n",
        "\n",
        "import pandas\n",
        "from sklearn import model_selection\n",
        "from sklearn.linear_model import LogisticRegression\n",
        "url = \"https://raw.githubusercontent.com/jbrownlee/Datasets/master/pima-indians-diabetes.data.csv\"\n",
        "names = ['preg', 'plas', 'pres', 'skin', 'test', 'mass', 'pedi', 'age', 'class']\n",
        "dataframe = pandas.read_csv(url, names=names)\n",
        "array = dataframe.values\n",
        "X = array[:,0:8]\n",
        "Y = array[:,8]\n",
        "num_instances = len(X)\n",
        "seed = 7\n",
        "kfold = model_selection.KFold(n_splits=5, random_state=seed)\n",
        "model = LogisticRegression(C=1, penalty='l1') ##### This is the important line\n",
        "results = model_selection.cross_val_score(model, X, Y, cv=kfold)\n",
        "print(results)"
      ],
      "execution_count": 12,
      "outputs": [
        {
          "output_type": "stream",
          "text": [
            "[0.75974026 0.72727273 0.76623377 0.83006536 0.76470588]\n"
          ],
          "name": "stdout"
        }
      ]
    },
    {
      "metadata": {
        "id": "CrwljGvubkpv",
        "colab_type": "text"
      },
      "cell_type": "markdown",
      "source": [
        "### 1) Grid-Search Hyperparameter Tuning:\n",
        "\n",
        "Imagine that your algorithm has 12 different potential hyperparameters and each them can take on 5 different values. Lets say that it takes your laptop 4 seconds to fit each fold of cross validation. For each 5-fold cross-validation it would then take 20 seconds to fit your model and get an accuracy reading reported back. Now imagine that you want to test every possible combination of hyperparameters on your algorithm to get the absolute highest accuracy. You can see how this might become exceedingly tedious and time-consuming to perform by hand. Some hyperparameters (like the C value) have much more than 5 potential values, making hyperparameter tuning a huge task. \n",
        "\n",
        "It is for this reason that more advanced optimization techniques exist, one of which we will be exploring today called GridSearch.\n",
        "\n",
        "### What does GridSearch do?\n",
        "\n",
        "GridSearch takes a dictionary of all of the different hyperparameters that you want to test, and then feeds all of the different combinations through the algorithm for you and then reports back to you which one had the highest accuracy. Pretty slick right? \n",
        "\n",
        "Here is some boilerplate code you can reference to create your implementations:\n",
        "\n",
        "[Chris Albon Logistic Regression sklearn Hyperparameter Tuning with GridSearch](https://chrisalbon.com/machine_learning/model_selection/hyperparameter_tuning_using_grid_search/)"
      ]
    },
    {
      "metadata": {
        "id": "dCZLjm7JjTwh",
        "colab_type": "code",
        "colab": {
          "autoexec": {
            "startup": false,
            "wait_interval": 0
          }
        }
      },
      "cell_type": "code",
      "source": [
        "# These import statements might be useful to you. \n",
        "from sklearn.model_selection import GridSearchCV"
      ],
      "execution_count": 0,
      "outputs": []
    },
    {
      "metadata": {
        "id": "sb4F7GlnjIvl",
        "colab_type": "code",
        "colab": {
          "autoexec": {
            "startup": false,
            "wait_interval": 0
          }
        }
      },
      "cell_type": "code",
      "source": [
        "# Create logistic regression object\n",
        "model = LogisticRegression()"
      ],
      "execution_count": 0,
      "outputs": []
    },
    {
      "metadata": {
        "id": "nrrfWSJOey0J",
        "colab_type": "code",
        "colab": {
          "autoexec": {
            "startup": false,
            "wait_interval": 0
          }
        }
      },
      "cell_type": "code",
      "source": [
        "# Create a list of all of the different penalty values that you want to test and save them to a variable called 'penalty'\n",
        "penalty = ['l1', 'l2']"
      ],
      "execution_count": 0,
      "outputs": []
    },
    {
      "metadata": {
        "id": "-m1rVmNwfbSH",
        "colab_type": "code",
        "colab": {
          "autoexec": {
            "startup": false,
            "wait_interval": 0
          }
        }
      },
      "cell_type": "code",
      "source": [
        "# Create a list of all of the different C values that you want to test and save them to a variable called 'C'\n",
        "C = np.logspace(-1, 3, 5)"
      ],
      "execution_count": 0,
      "outputs": []
    },
    {
      "metadata": {
        "id": "hy-B_Wm3fz-4",
        "colab_type": "code",
        "colab": {
          "autoexec": {
            "startup": false,
            "wait_interval": 0
          },
          "base_uri": "https://localhost:8080/",
          "height": 34
        },
        "outputId": "c0d5e7bb-2f3e-432d-fb1c-f1f1c3927f64",
        "executionInfo": {
          "status": "ok",
          "timestamp": 1526428621448,
          "user_tz": 420,
          "elapsed": 518,
          "user": {
            "displayName": "Ray Heberer",
            "photoUrl": "//lh4.googleusercontent.com/-BMlr5I5Dhow/AAAAAAAAAAI/AAAAAAAAABc/XW4PF5A8K2Q/s50-c-k-no/photo.jpg",
            "userId": "116545933704048584401"
          }
        }
      },
      "cell_type": "code",
      "source": [
        "# Now that you have two lists each holding the different values that you want test, use the dict() function to combine them into a dictionary. \n",
        "# Save your new dictionary to the variable 'hyperparameters'\n",
        "# Print out the dictionary if you're curious as to what it euds up looking like.\n",
        "\n",
        "hyperparameters = dict(C=C, penalty=penalty)\n",
        "print(hyperparameters)"
      ],
      "execution_count": 17,
      "outputs": [
        {
          "output_type": "stream",
          "text": [
            "{'penalty': ['l1', 'l2'], 'C': array([1.e-01, 1.e+00, 1.e+01, 1.e+02, 1.e+03])}\n"
          ],
          "name": "stdout"
        }
      ]
    },
    {
      "metadata": {
        "id": "v619p6o4j9-3",
        "colab_type": "code",
        "colab": {
          "autoexec": {
            "startup": false,
            "wait_interval": 0
          }
        }
      },
      "cell_type": "code",
      "source": [
        "# Fit your model using gridsearch\n",
        "\n",
        "clf = GridSearchCV(model, hyperparameters, cv=5, verbose=0)"
      ],
      "execution_count": 0,
      "outputs": []
    },
    {
      "metadata": {
        "id": "3aUuCQH4gdBc",
        "colab_type": "code",
        "colab": {
          "autoexec": {
            "startup": false,
            "wait_interval": 0
          },
          "base_uri": "https://localhost:8080/",
          "height": 34
        },
        "outputId": "c5840888-e84a-4bee-8cec-718360a28ec5",
        "executionInfo": {
          "status": "ok",
          "timestamp": 1526428623146,
          "user_tz": 420,
          "elapsed": 832,
          "user": {
            "displayName": "Ray Heberer",
            "photoUrl": "//lh4.googleusercontent.com/-BMlr5I5Dhow/AAAAAAAAAAI/AAAAAAAAABc/XW4PF5A8K2Q/s50-c-k-no/photo.jpg",
            "userId": "116545933704048584401"
          }
        }
      },
      "cell_type": "code",
      "source": [
        "# Print the best penalty and C value from best_model.best_estimator_.get_params()\n",
        "\n",
        "best_model = clf.fit(X, Y)\n",
        "best_params = best_model.best_estimator_.get_params()\n",
        "\n",
        "print('Best penalty: {}, Best C: {}'.format(best_params['penalty'], best_params['C']))"
      ],
      "execution_count": 19,
      "outputs": [
        {
          "output_type": "stream",
          "text": [
            "Best penalty: l2, Best C: 100.0\n"
          ],
          "name": "stdout"
        }
      ]
    },
    {
      "metadata": {
        "id": "IqG4tPaQkKgz",
        "colab_type": "code",
        "colab": {
          "autoexec": {
            "startup": false,
            "wait_interval": 0
          },
          "base_uri": "https://localhost:8080/",
          "height": 359
        },
        "outputId": "1352091e-7852-4e92-e53e-2015ccc8f58d",
        "executionInfo": {
          "status": "ok",
          "timestamp": 1526428623595,
          "user_tz": 420,
          "elapsed": 363,
          "user": {
            "displayName": "Ray Heberer",
            "photoUrl": "//lh4.googleusercontent.com/-BMlr5I5Dhow/AAAAAAAAAAI/AAAAAAAAABc/XW4PF5A8K2Q/s50-c-k-no/photo.jpg",
            "userId": "116545933704048584401"
          }
        }
      },
      "cell_type": "code",
      "source": [
        "# Print out all of the different combinations of your grid search values and their corresponding accuracies.\n",
        "# https://stackoverflow.com/questions/22155953/how-to-print-out-an-accuracy-score-for-each-combination-within-gridsearch\n",
        "\n",
        "params, mean, std = [clf.cv_results_[key] for key in ['params', 'mean_test_score', 'std_test_score']]\n",
        "pty = [p['penalty'] for p in params]\n",
        "c = [p['C'] for p in params]\n",
        "\n",
        "gridsearch = pd.DataFrame([pd.Series(x) for x in [pty, c, mean, std]]).T\n",
        "gridsearch.columns = ['Penalty', 'C', 'Accuracy: Mean', 'Accuracy: Standard Deviation']\n",
        "\n",
        "gridsearch"
      ],
      "execution_count": 20,
      "outputs": [
        {
          "output_type": "execute_result",
          "data": {
            "text/html": [
              "<div>\n",
              "<style scoped>\n",
              "    .dataframe tbody tr th:only-of-type {\n",
              "        vertical-align: middle;\n",
              "    }\n",
              "\n",
              "    .dataframe tbody tr th {\n",
              "        vertical-align: top;\n",
              "    }\n",
              "\n",
              "    .dataframe thead th {\n",
              "        text-align: right;\n",
              "    }\n",
              "</style>\n",
              "<table border=\"1\" class=\"dataframe\">\n",
              "  <thead>\n",
              "    <tr style=\"text-align: right;\">\n",
              "      <th></th>\n",
              "      <th>Penalty</th>\n",
              "      <th>C</th>\n",
              "      <th>Accuracy: Mean</th>\n",
              "      <th>Accuracy: Standard Deviation</th>\n",
              "    </tr>\n",
              "  </thead>\n",
              "  <tbody>\n",
              "    <tr>\n",
              "      <th>0</th>\n",
              "      <td>l1</td>\n",
              "      <td>0.1</td>\n",
              "      <td>0.759115</td>\n",
              "      <td>0.022952</td>\n",
              "    </tr>\n",
              "    <tr>\n",
              "      <th>1</th>\n",
              "      <td>l2</td>\n",
              "      <td>0.1</td>\n",
              "      <td>0.727865</td>\n",
              "      <td>0.0170129</td>\n",
              "    </tr>\n",
              "    <tr>\n",
              "      <th>2</th>\n",
              "      <td>l1</td>\n",
              "      <td>1</td>\n",
              "      <td>0.766927</td>\n",
              "      <td>0.0235538</td>\n",
              "    </tr>\n",
              "    <tr>\n",
              "      <th>3</th>\n",
              "      <td>l2</td>\n",
              "      <td>1</td>\n",
              "      <td>0.768229</td>\n",
              "      <td>0.0186303</td>\n",
              "    </tr>\n",
              "    <tr>\n",
              "      <th>4</th>\n",
              "      <td>l1</td>\n",
              "      <td>10</td>\n",
              "      <td>0.770833</td>\n",
              "      <td>0.0221773</td>\n",
              "    </tr>\n",
              "    <tr>\n",
              "      <th>5</th>\n",
              "      <td>l2</td>\n",
              "      <td>10</td>\n",
              "      <td>0.766927</td>\n",
              "      <td>0.0232765</td>\n",
              "    </tr>\n",
              "    <tr>\n",
              "      <th>6</th>\n",
              "      <td>l1</td>\n",
              "      <td>100</td>\n",
              "      <td>0.770833</td>\n",
              "      <td>0.0247179</td>\n",
              "    </tr>\n",
              "    <tr>\n",
              "      <th>7</th>\n",
              "      <td>l2</td>\n",
              "      <td>100</td>\n",
              "      <td>0.772135</td>\n",
              "      <td>0.0245323</td>\n",
              "    </tr>\n",
              "    <tr>\n",
              "      <th>8</th>\n",
              "      <td>l1</td>\n",
              "      <td>1000</td>\n",
              "      <td>0.770833</td>\n",
              "      <td>0.0247179</td>\n",
              "    </tr>\n",
              "    <tr>\n",
              "      <th>9</th>\n",
              "      <td>l2</td>\n",
              "      <td>1000</td>\n",
              "      <td>0.770833</td>\n",
              "      <td>0.0247179</td>\n",
              "    </tr>\n",
              "  </tbody>\n",
              "</table>\n",
              "</div>"
            ],
            "text/plain": [
              "  Penalty     C Accuracy: Mean Accuracy: Standard Deviation\n",
              "0      l1   0.1       0.759115                     0.022952\n",
              "1      l2   0.1       0.727865                    0.0170129\n",
              "2      l1     1       0.766927                    0.0235538\n",
              "3      l2     1       0.768229                    0.0186303\n",
              "4      l1    10       0.770833                    0.0221773\n",
              "5      l2    10       0.766927                    0.0232765\n",
              "6      l1   100       0.770833                    0.0247179\n",
              "7      l2   100       0.772135                    0.0245323\n",
              "8      l1  1000       0.770833                    0.0247179\n",
              "9      l2  1000       0.770833                    0.0247179"
            ]
          },
          "metadata": {
            "tags": []
          },
          "execution_count": 20
        }
      ]
    },
    {
      "metadata": {
        "id": "IwOTSHaUkd8J",
        "colab_type": "text"
      },
      "cell_type": "markdown",
      "source": [
        "What hyperparameters give you the highest accuracy? Keep on testing diferent values and report the hyperparameters that give you the highest accuracy."
      ]
    },
    {
      "metadata": {
        "id": "LJVa3cMmwV5b",
        "colab_type": "text"
      },
      "cell_type": "markdown",
      "source": [
        "Since performing a grid search with different orders of magnitude for C produced 100 as the best value, I will search more exhaustively around this."
      ]
    },
    {
      "metadata": {
        "id": "PrFdrTxvvgG4",
        "colab_type": "code",
        "colab": {
          "autoexec": {
            "startup": false,
            "wait_interval": 0
          }
        }
      },
      "cell_type": "code",
      "source": [
        "C = np.linspace(1, 150)\n",
        "hyperparameters = dict(C=C, penalty=penalty)\n",
        "clf = GridSearchCV(model, hyperparameters, cv=5, verbose=0)\n",
        "best_model = clf.fit(X, Y)"
      ],
      "execution_count": 0,
      "outputs": []
    },
    {
      "metadata": {
        "id": "pywcvbuavzQP",
        "colab_type": "code",
        "colab": {
          "autoexec": {
            "startup": false,
            "wait_interval": 0
          },
          "base_uri": "https://localhost:8080/",
          "height": 34
        },
        "outputId": "cacafa10-a540-443d-ace5-f3aac343fd52",
        "executionInfo": {
          "status": "ok",
          "timestamp": 1526428889509,
          "user_tz": 420,
          "elapsed": 733,
          "user": {
            "displayName": "Ray Heberer",
            "photoUrl": "//lh4.googleusercontent.com/-BMlr5I5Dhow/AAAAAAAAAAI/AAAAAAAAABc/XW4PF5A8K2Q/s50-c-k-no/photo.jpg",
            "userId": "116545933704048584401"
          }
        }
      },
      "cell_type": "code",
      "source": [
        "best_params = best_model.best_estimator_.get_params()\n",
        "print('Best penalty: {}, Best C: {}'.format(best_params['penalty'], best_params['C']))"
      ],
      "execution_count": 43,
      "outputs": [
        {
          "output_type": "stream",
          "text": [
            "Best penalty: l1, Best C: 19.2448979592\n"
          ],
          "name": "stdout"
        }
      ]
    },
    {
      "metadata": {
        "id": "H-dhzwBkQJ5Y",
        "colab_type": "text"
      },
      "cell_type": "markdown",
      "source": [
        "The C value found is still quite high, indicating that regularization hurts the performance of the model. This is unsurprising, since logistic regression as a model has very low variance, and penalizing its parameters values will lead to underfitting."
      ]
    },
    {
      "metadata": {
        "id": "r-ctaux7qOzv",
        "colab_type": "text"
      },
      "cell_type": "markdown",
      "source": [
        "# Stretch Goals:\n",
        "\n",
        "Explore more advanced automated approaches to hyperparameter tuning. Try and implemenet a random search approach: \n",
        "\n",
        "[Random Search Hyperparameter Tuning](https://machinelearningmastery.com/how-to-tune-algorithm-parameters-with-scikit-learn/)\n",
        "\n",
        "Then try a Bayesian Optimization Approach:\n",
        "\n",
        "[Bayesian Optimization](https://thuijskens.github.io/2016/12/29/bayesian-optimisation/)\n",
        "\n",
        "[scikit-optimize](https://scikit-optimize.github.io/notebooks/bayesian-optimization.html)\n",
        "\n",
        "[optunity](http://optunity.readthedocs.io/en/latest/notebooks/notebooks/sklearn-automated-classification.html)\n",
        "\n",
        "You could also try writing a blog post to show how well you understand Cross Validation or Hyperparameter Tuning, both are key concepts to practicing machine learning and would be valuable to demonstrate proficency in.\n"
      ]
    },
    {
      "metadata": {
        "id": "rRwas_XW0RUX",
        "colab_type": "text"
      },
      "cell_type": "markdown",
      "source": [
        "## Random Search Hyperparameter Tuning"
      ]
    },
    {
      "metadata": {
        "id": "wn5pW4GfxyOW",
        "colab_type": "code",
        "colab": {
          "autoexec": {
            "startup": false,
            "wait_interval": 0
          }
        }
      },
      "cell_type": "code",
      "source": [
        "from sklearn.model_selection import RandomizedSearchCV"
      ],
      "execution_count": 0,
      "outputs": []
    },
    {
      "metadata": {
        "id": "Y2cjeOCdyx2Q",
        "colab_type": "code",
        "colab": {
          "autoexec": {
            "startup": false,
            "wait_interval": 0
          }
        }
      },
      "cell_type": "code",
      "source": [
        "C = np.logspace(-1, 3, 1000)\n",
        "penalty = ['l1', 'l2']\n",
        "hyperparameters = dict(C=C, penalty=penalty)"
      ],
      "execution_count": 0,
      "outputs": []
    },
    {
      "metadata": {
        "id": "kRTKS_qgzBU0",
        "colab_type": "code",
        "colab": {
          "autoexec": {
            "startup": false,
            "wait_interval": 0
          }
        }
      },
      "cell_type": "code",
      "source": [
        "model = LogisticRegression()"
      ],
      "execution_count": 0,
      "outputs": []
    },
    {
      "metadata": {
        "id": "r73_j51KzRDG",
        "colab_type": "code",
        "colab": {
          "autoexec": {
            "startup": false,
            "wait_interval": 0
          },
          "base_uri": "https://localhost:8080/",
          "height": 34
        },
        "outputId": "a8cc29e9-083c-449d-aedb-6ef5aa67eb38",
        "executionInfo": {
          "status": "ok",
          "timestamp": 1526429003907,
          "user_tz": 420,
          "elapsed": 2824,
          "user": {
            "displayName": "Ray Heberer",
            "photoUrl": "//lh4.googleusercontent.com/-BMlr5I5Dhow/AAAAAAAAAAI/AAAAAAAAABc/XW4PF5A8K2Q/s50-c-k-no/photo.jpg",
            "userId": "116545933704048584401"
          }
        }
      },
      "cell_type": "code",
      "source": [
        "clf = RandomizedSearchCV(model, hyperparameters, n_iter=100, random_state=41)\n",
        "clf.fit(X, Y)\n",
        "print(clf.best_params_)"
      ],
      "execution_count": 50,
      "outputs": [
        {
          "output_type": "stream",
          "text": [
            "{'penalty': 'l2', 'C': 1.9828839491270713}\n"
          ],
          "name": "stdout"
        }
      ]
    },
    {
      "metadata": {
        "id": "CHm1_gTCQjlA",
        "colab_type": "text"
      },
      "cell_type": "markdown",
      "source": [
        "Random search finds a much lower C value. This is potentially due to the fact that the distribution created by `np.logspace` is skewed. I will repeat the analysis with `np.linspace`."
      ]
    },
    {
      "metadata": {
        "id": "k3Qt1quAQueH",
        "colab_type": "code",
        "colab": {
          "autoexec": {
            "startup": false,
            "wait_interval": 0
          },
          "base_uri": "https://localhost:8080/",
          "height": 34
        },
        "outputId": "b46a0630-42c3-44df-d623-ef6fa8799e85",
        "executionInfo": {
          "status": "ok",
          "timestamp": 1526429081105,
          "user_tz": 420,
          "elapsed": 3057,
          "user": {
            "displayName": "Ray Heberer",
            "photoUrl": "//lh4.googleusercontent.com/-BMlr5I5Dhow/AAAAAAAAAAI/AAAAAAAAABc/XW4PF5A8K2Q/s50-c-k-no/photo.jpg",
            "userId": "116545933704048584401"
          }
        }
      },
      "cell_type": "code",
      "source": [
        "C = np.linspace(1, 1000)\n",
        "penalty = ['l1', 'l2']\n",
        "hyperparameters = dict(C=C, penalty=penalty)\n",
        "\n",
        "clf = RandomizedSearchCV(model, hyperparameters, n_iter=100, random_state=41)\n",
        "clf.fit(X, Y)\n",
        "print(clf.best_params_)"
      ],
      "execution_count": 52,
      "outputs": [
        {
          "output_type": "stream",
          "text": [
            "{'penalty': 'l1', 'C': 21.387755102040817}\n"
          ],
          "name": "stdout"
        }
      ]
    },
    {
      "metadata": {
        "id": "_v1GEqkUQ4FR",
        "colab_type": "text"
      },
      "cell_type": "markdown",
      "source": [
        "Sure enough, this produces results more consistent with what was obtained with the grid search. This demonstrates the fact that a random search samples from the distributions provided, instead of exhaustively searching through their range. Thus, the shape and skew of the distributions influence the result."
      ]
    },
    {
      "metadata": {
        "id": "-n8NTMnl0VS0",
        "colab_type": "text"
      },
      "cell_type": "markdown",
      "source": [
        "## Bayesian Optimization"
      ]
    },
    {
      "metadata": {
        "id": "mPIqXjTgLkZW",
        "colab_type": "code",
        "colab": {
          "autoexec": {
            "startup": false,
            "wait_interval": 0
          }
        }
      },
      "cell_type": "code",
      "source": [
        "# https://github.com/thuijskens/bayesian-optimization/blob/master/python/gp.py\n",
        "\n",
        "import sklearn.gaussian_process as gp\n",
        "\n",
        "from sklearn.model_selection import cross_val_score\n",
        "from scipy.stats import norm\n",
        "from scipy.optimize import minimize\n",
        "\n",
        "def expected_improvement(x, gaussian_process, evaluated_loss, greater_is_better=False, n_params=1):\n",
        "    \"\"\" expected_improvement\n",
        "    Expected improvement acquisition function.\n",
        "    Arguments:\n",
        "    ----------\n",
        "        x: array-like, shape = [n_samples, n_hyperparams]\n",
        "            The point for which the expected improvement needs to be computed.\n",
        "        gaussian_process: GaussianProcessRegressor object.\n",
        "            Gaussian process trained on previously evaluated hyperparameters.\n",
        "        evaluated_loss: Numpy array.\n",
        "            Numpy array that contains the values off the loss function for the previously\n",
        "            evaluated hyperparameters.\n",
        "        greater_is_better: Boolean.\n",
        "            Boolean flag that indicates whether the loss function is to be maximised or minimised.\n",
        "        n_params: int.\n",
        "            Dimension of the hyperparameter space.\n",
        "    \"\"\"\n",
        "\n",
        "    x_to_predict = x.reshape(-1, n_params)\n",
        "\n",
        "    mu, sigma = gaussian_process.predict(x_to_predict, return_std=True)\n",
        "\n",
        "    if greater_is_better:\n",
        "        loss_optimum = np.max(evaluated_loss)\n",
        "    else:\n",
        "        loss_optimum = np.min(evaluated_loss)\n",
        "\n",
        "    scaling_factor = (-1) ** (not greater_is_better)\n",
        "\n",
        "    # In case sigma equals zero\n",
        "    with np.errstate(divide='ignore'):\n",
        "        Z = scaling_factor * (mu - loss_optimum) / sigma\n",
        "        expected_improvement = scaling_factor * (mu - loss_optimum) * norm.cdf(Z) + sigma * norm.pdf(Z)\n",
        "        expected_improvement[sigma == 0.0] == 0.0\n",
        "\n",
        "    return -1 * expected_improvement\n",
        "\n",
        "\n",
        "def sample_next_hyperparameter(acquisition_func, gaussian_process, evaluated_loss, greater_is_better=False,\n",
        "                               bounds=(0, 10), n_restarts=25):\n",
        "    \"\"\" sample_next_hyperparameter\n",
        "    Proposes the next hyperparameter to sample the loss function for.\n",
        "    Arguments:\n",
        "    ----------\n",
        "        acquisition_func: function.\n",
        "            Acquisition function to optimise.\n",
        "        gaussian_process: GaussianProcessRegressor object.\n",
        "            Gaussian process trained on previously evaluated hyperparameters.\n",
        "        evaluated_loss: array-like, shape = [n_obs,]\n",
        "            Numpy array that contains the values off the loss function for the previously\n",
        "            evaluated hyperparameters.\n",
        "        greater_is_better: Boolean.\n",
        "            Boolean flag that indicates whether the loss function is to be maximised or minimised.\n",
        "        bounds: Tuple.\n",
        "            Bounds for the L-BFGS optimiser.\n",
        "        n_restarts: integer.\n",
        "            Number of times to run the minimiser with different starting points.\n",
        "    \"\"\"\n",
        "    best_x = None\n",
        "    best_acquisition_value = 1\n",
        "    n_params = bounds.shape[0]\n",
        "\n",
        "    for starting_point in np.random.uniform(bounds[:, 0], bounds[:, 1], size=(n_restarts, n_params)):\n",
        "\n",
        "        res = minimize(fun=acquisition_func,\n",
        "                       x0=starting_point.reshape(1, -1),\n",
        "                       bounds=bounds,\n",
        "                       method='L-BFGS-B',\n",
        "                       args=(gaussian_process, evaluated_loss, greater_is_better, n_params))\n",
        "\n",
        "        if res.fun < best_acquisition_value:\n",
        "            best_acquisition_value = res.fun\n",
        "            best_x = res.x\n",
        "\n",
        "    return best_x\n",
        "\n",
        "\n",
        "def bayesian_optimisation(n_iters, sample_loss, bounds, x0=None, n_pre_samples=10,\n",
        "                          gp_params=None, random_search=False, alpha=1e-5, epsilon=1e-7):\n",
        "    \"\"\" bayesian_optimisation\n",
        "    Uses Gaussian Processes to optimise the loss function `sample_loss`.\n",
        "    Arguments:\n",
        "    ----------\n",
        "        n_iters: integer.\n",
        "            Number of iterations to run the search algorithm.\n",
        "        sample_loss: function.\n",
        "            Function to be optimised.\n",
        "        bounds: array-like, shape = [n_params, 2].\n",
        "            Lower and upper bounds on the parameters of the function `sample_loss`.\n",
        "        x0: array-like, shape = [n_pre_samples, n_params].\n",
        "            Array of initial points to sample the loss function for. If None, randomly\n",
        "            samples from the loss function.\n",
        "        n_pre_samples: integer.\n",
        "            If x0 is None, samples `n_pre_samples` initial points from the loss function.\n",
        "        gp_params: dictionary.\n",
        "            Dictionary of parameters to pass on to the underlying Gaussian Process.\n",
        "        random_search: integer.\n",
        "            Flag that indicates whether to perform random search or L-BFGS-B optimisation\n",
        "            over the acquisition function.\n",
        "        alpha: double.\n",
        "            Variance of the error term of the GP.\n",
        "        epsilon: double.\n",
        "            Precision tolerance for floats.\n",
        "    \"\"\"\n",
        "\n",
        "    x_list = []\n",
        "    y_list = []\n",
        "\n",
        "    n_params = bounds.shape[0]\n",
        "\n",
        "    if x0 is None:\n",
        "        for params in np.random.uniform(bounds[:, 0], bounds[:, 1], (n_pre_samples, bounds.shape[0])):\n",
        "            x_list.append(params)\n",
        "            y_list.append(sample_loss(params))\n",
        "    else:\n",
        "        for params in x0:\n",
        "            x_list.append(params)\n",
        "            y_list.append(sample_loss(params))\n",
        "\n",
        "    xp = np.array(x_list)\n",
        "    yp = np.array(y_list)\n",
        "\n",
        "    # Create the GP\n",
        "    if gp_params is not None:\n",
        "        model = gp.GaussianProcessRegressor(**gp_params)\n",
        "    else:\n",
        "        kernel = gp.kernels.Matern()\n",
        "        model = gp.GaussianProcessRegressor(kernel=kernel,\n",
        "                                            alpha=alpha,\n",
        "                                            n_restarts_optimizer=10,\n",
        "                                            normalize_y=True)\n",
        "\n",
        "    for n in range(n_iters):\n",
        "\n",
        "        model.fit(xp, yp)\n",
        "\n",
        "        # Sample next hyperparameter\n",
        "        if random_search:\n",
        "            x_random = np.random.uniform(bounds[:, 0], bounds[:, 1], size=(random_search, n_params))\n",
        "            ei = -1 * expected_improvement(x_random, model, yp, greater_is_better=True, n_params=n_params)\n",
        "            next_sample = x_random[np.argmax(ei), :]\n",
        "        else:\n",
        "            next_sample = sample_next_hyperparameter(expected_improvement, model, yp, greater_is_better=True, bounds=bounds, n_restarts=100)\n",
        "\n",
        "        # Duplicates will break the GP. In case of a duplicate, we will randomly sample a next query point.\n",
        "        if np.any(np.abs(next_sample - xp) <= epsilon):\n",
        "            next_sample = np.random.uniform(bounds[:, 0], bounds[:, 1], bounds.shape[0])\n",
        "\n",
        "        # Sample loss for new set of parameters\n",
        "        cv_score = sample_loss(next_sample)\n",
        "\n",
        "        # Update lists\n",
        "        x_list.append(next_sample)\n",
        "        y_list.append(cv_score)\n",
        "\n",
        "        # Update xp and yp\n",
        "        xp = np.array(x_list)\n",
        "        yp = np.array(y_list)\n",
        "\n",
        "    return xp, yp"
      ],
      "execution_count": 0,
      "outputs": []
    },
    {
      "metadata": {
        "id": "aLfgie5rNwDu",
        "colab_type": "text"
      },
      "cell_type": "markdown",
      "source": [
        "Because `penalty` is not a hyperparameter with continuous values, I will have to associate intervals with each individual type of penalty. The value for penalty found through Bayesian optimization can then be interpreted as a measure of certainty that the penalty is `l2`. The discontinuity introduced may hurt the performance of the optimizer, but since `C` is really the hyperparameter of interest, I am willing to accept this."
      ]
    },
    {
      "metadata": {
        "id": "rvoYGiVqL4iE",
        "colab_type": "code",
        "colab": {
          "autoexec": {
            "startup": false,
            "wait_interval": 0
          }
        }
      },
      "cell_type": "code",
      "source": [
        "def sample_loss(params):\n",
        "    C = params[0]\n",
        "    penalty = 'l1' if params[1] < (bounds[1,1]//2) else 'l2'\n",
        "    \n",
        "    model = LogisticRegression(C=C, penalty=penalty)\n",
        "    \n",
        "    return cross_val_score(model,\n",
        "                           X=X,\n",
        "                           y=Y,\n",
        "                           cv=5).mean()"
      ],
      "execution_count": 0,
      "outputs": []
    },
    {
      "metadata": {
        "id": "9xwnKEh9DzIo",
        "colab_type": "code",
        "colab": {
          "autoexec": {
            "startup": false,
            "wait_interval": 0
          },
          "base_uri": "https://localhost:8080/",
          "height": 71
        },
        "outputId": "d351453f-5641-4d3a-b169-046e89ae6c40",
        "executionInfo": {
          "status": "ok",
          "timestamp": 1526429205300,
          "user_tz": 420,
          "elapsed": 30007,
          "user": {
            "displayName": "Ray Heberer",
            "photoUrl": "//lh4.googleusercontent.com/-BMlr5I5Dhow/AAAAAAAAAAI/AAAAAAAAABc/XW4PF5A8K2Q/s50-c-k-no/photo.jpg",
            "userId": "116545933704048584401"
          }
        }
      },
      "cell_type": "code",
      "source": [
        "n_iters = 10\n",
        "bounds = np.array([[0, 10], [0, 1]])\n",
        "hyperparameters, scores = bayesian_optimisation(n_iters, sample_loss, bounds)"
      ],
      "execution_count": 55,
      "outputs": [
        {
          "output_type": "stream",
          "text": [
            "/usr/local/lib/python2.7/dist-packages/sklearn/gaussian_process/gpr.py:457: UserWarning: fmin_l_bfgs_b terminated abnormally with the  state: {'warnflag': 2, 'task': 'ABNORMAL_TERMINATION_IN_LNSRCH', 'grad': array([1.39546981e-05]), 'nit': 7, 'funcalls': 51}\n",
            "  \" state: %s\" % convergence_dict)\n"
          ],
          "name": "stderr"
        }
      ]
    },
    {
      "metadata": {
        "id": "o_vxT8Y8MtWM",
        "colab_type": "code",
        "colab": {
          "autoexec": {
            "startup": false,
            "wait_interval": 0
          },
          "base_uri": "https://localhost:8080/",
          "height": 51
        },
        "outputId": "a8286af9-ee8a-4960-d82c-c9744406143a",
        "executionInfo": {
          "status": "ok",
          "timestamp": 1526429217253,
          "user_tz": 420,
          "elapsed": 457,
          "user": {
            "displayName": "Ray Heberer",
            "photoUrl": "//lh4.googleusercontent.com/-BMlr5I5Dhow/AAAAAAAAAAI/AAAAAAAAABc/XW4PF5A8K2Q/s50-c-k-no/photo.jpg",
            "userId": "116545933704048584401"
          }
        }
      },
      "cell_type": "code",
      "source": [
        "best_ix = np.argmax(scores)\n",
        "print(best_ix)\n",
        "best_C = hyperparameters[best_ix,0]\n",
        "best_penalty = 'l1' if hyperparameters[best_ix,1] < 0.5 else 'l2'\n",
        "print('Best penalty: {}, Best C: {}'.format(best_penalty, best_C))"
      ],
      "execution_count": 56,
      "outputs": [
        {
          "output_type": "stream",
          "text": [
            "8\n",
            "Best penalty: l1, Best C: 5.71889177486\n"
          ],
          "name": "stdout"
        }
      ]
    },
    {
      "metadata": {
        "id": "Z4lL74TiRg4n",
        "colab_type": "text"
      },
      "cell_type": "markdown",
      "source": [
        "The best hyperparameters were not found over the course of the 10 Bayesian optimization iterations, but were from the 10 initial samples. I will try searching only for a value of C, with `l1` as the penalty."
      ]
    },
    {
      "metadata": {
        "id": "PrC9dOFkRtFZ",
        "colab_type": "code",
        "colab": {
          "autoexec": {
            "startup": false,
            "wait_interval": 0
          }
        }
      },
      "cell_type": "code",
      "source": [
        "def sample_loss(params):\n",
        "    C = params[0]\n",
        "    \n",
        "    model = LogisticRegression(C=C, penalty='l1')\n",
        "    \n",
        "    return cross_val_score(model,\n",
        "                           X=X,\n",
        "                           y=Y,\n",
        "                           cv=5).mean()"
      ],
      "execution_count": 0,
      "outputs": []
    },
    {
      "metadata": {
        "id": "yrZh0TSAR4b6",
        "colab_type": "code",
        "colab": {
          "autoexec": {
            "startup": false,
            "wait_interval": 0
          },
          "base_uri": "https://localhost:8080/",
          "height": 51
        },
        "outputId": "d7c4c94e-714e-44b5-ebf4-b9158cf108c8",
        "executionInfo": {
          "status": "ok",
          "timestamp": 1526429653817,
          "user_tz": 420,
          "elapsed": 25285,
          "user": {
            "displayName": "Ray Heberer",
            "photoUrl": "//lh4.googleusercontent.com/-BMlr5I5Dhow/AAAAAAAAAAI/AAAAAAAAABc/XW4PF5A8K2Q/s50-c-k-no/photo.jpg",
            "userId": "116545933704048584401"
          }
        }
      },
      "cell_type": "code",
      "source": [
        "n_iters = 10\n",
        "bounds = np.array([[0, 20]])\n",
        "hyperparameters, scores = bayesian_optimisation(n_iters, sample_loss, bounds, n_pre_samples=5)\n",
        "\n",
        "best_ix = np.argmax(scores)\n",
        "print(best_ix)\n",
        "best_C = hyperparameters[best_ix,0]\n",
        "print('Best C: {}'.format(best_C))"
      ],
      "execution_count": 63,
      "outputs": [
        {
          "output_type": "stream",
          "text": [
            "5\n",
            "Best C: 19.316149877\n"
          ],
          "name": "stdout"
        }
      ]
    },
    {
      "metadata": {
        "id": "z5KXqLyITGJ3",
        "colab_type": "text"
      },
      "cell_type": "markdown",
      "source": [
        "Bayesian optimization finds the best hyperparameter on its first iteration. This indicates that the presamples allowed for an accurate estimate of the loss as a function of the hyperparameters, but that taking further samples biased this estimate towards the neighborhood of these new samples."
      ]
    }
  ]
}