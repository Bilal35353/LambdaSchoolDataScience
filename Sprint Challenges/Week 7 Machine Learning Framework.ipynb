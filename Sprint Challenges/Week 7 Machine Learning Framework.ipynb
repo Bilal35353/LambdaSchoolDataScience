{
  "nbformat": 4,
  "nbformat_minor": 0,
  "metadata": {
    "colab": {
      "name": "Sprint Challenge.ipynb",
      "version": "0.3.2",
      "views": {},
      "default_view": {},
      "provenance": [
        {
          "file_id": "1__67BHEvsKJ67H4n0xAY-O8NhRYEXWOr",
          "timestamp": 1526665192631
        }
      ],
      "collapsed_sections": []
    },
    "kernelspec": {
      "name": "python3",
      "display_name": "Python 3"
    }
  },
  "cells": [
    {
      "metadata": {
        "id": "R7vsxp-BlrzW",
        "colab_type": "text"
      },
      "cell_type": "markdown",
      "source": [
        "# Machine Learning Framework Sprint Challenge\n",
        "\n",
        "This week you tackled a number of objectives related to training and testing multiple ML models. Some of those objectives include:\n",
        "\n",
        "### Model Tuning Objectives:\n",
        "\n",
        "* Use cross_validation library to run many experiments\n",
        "* Identify hyperparameters for tuning\n",
        "* Disambiguate \"parameters\" and \"hyperparameters\"\n",
        "* Use grid search to automatically explore some hyperparameters\n",
        "* Manually select a test/train/validation set to run a single controlled experiment\n",
        "* Compute AUC to validate a set of experimental result\n",
        "\n",
        "### Supervised Learning Objectives:\n",
        "\n",
        "* Train SVM, Random Forest, Naive Bayes, and other models\n",
        "* Adjust hyperparameters of supervised learning models\n",
        "* Save model parameterization for use during productization\n",
        "* Join Kaggle contests and submit results\n",
        "\n",
        "Measuring your ability to execute on individual tasks is becoming less important as we progress into this phase of the coursework. The importance of your ability to reason about and report on your work is growing.\n",
        "\n",
        "#### Assignment\n",
        "\n",
        "For this sprint challenge, write a Medium post about no fewer than 5 of the above objectives. Describe what makes those objectives interesting, how to perform them, and any gotchas you may have encountered during their development.\n",
        "\n",
        "Remember to follow the Medium posting guidelines, with code, images, citations, and so forth.\n",
        "\n",
        "#### Delivery\n",
        "\n",
        "Create a new file in your github repository: `machine-learning-framework.json` once you have posted your Medium article.\n",
        "\n",
        "_machine-learning-framework.json_\n",
        "\n",
        "\n"
      ]
    },
    {
      "metadata": {
        "id": "gxVZYMCVslHi",
        "colab_type": "code",
        "colab": {
          "autoexec": {
            "startup": false,
            "wait_interval": 0
          }
        }
      },
      "cell_type": "code",
      "source": [
        "{\n",
        "    \"url\": \"rayheberer.netlify.com/machine-learning-framework.json\",\n",
        "    \"objectives\": [\"Disambiguate parameters and hyperparameters\", \"Identify hyperparameters for tuning\", \"Use grid search to automatically explore some hyperparameters\", \"Compute AUC to validate a set of experimental result\", \"Compute AUC to validate a set of experimental result\"],\n",
        "    \"keywords\": [\"hyperparameters\", \"model tuning\", \"machine learning\", \"cross validation\", \"AUC\"]\n",
        "}"
      ],
      "execution_count": 0,
      "outputs": []
    },
    {
      "metadata": {
        "id": "PNzUpWn9spZd",
        "colab_type": "text"
      },
      "cell_type": "markdown",
      "source": [
        "where `objective-1...5` are sentences similar to those listed above describing which objectives you have decided to report on. Make `keyword-1...5` be the keywords you added to your Medium post metadata that should match the objectives you are reporting on.\n",
        "\n",
        "You should endeavor to have written the outline/first draft of the Medium post by lunch-time today.\n",
        "\n",
        "The above file should be available in your netflify account by the end of the day."
      ]
    }
  ]
}