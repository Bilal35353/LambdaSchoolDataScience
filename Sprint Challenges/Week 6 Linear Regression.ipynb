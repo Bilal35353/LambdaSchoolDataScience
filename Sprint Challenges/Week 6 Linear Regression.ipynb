{
  "nbformat": 4,
  "nbformat_minor": 0,
  "metadata": {
    "colab": {
      "name": "Linear Regression Sprint Challenge.ipynb",
      "version": "0.3.2",
      "views": {},
      "default_view": {},
      "provenance": [
        {
          "file_id": "1Ig9oLMQaJn0zM48BTqrZxM8F5QUHGAME",
          "timestamp": 1526051009722
        }
      ],
      "collapsed_sections": []
    },
    "kernelspec": {
      "name": "python3",
      "display_name": "Python 3"
    }
  },
  "cells": [
    {
      "metadata": {
        "id": "aD8Yb0P8D04e",
        "colab_type": "text"
      },
      "cell_type": "markdown",
      "source": [
        "# Linear Regression Sprint Challenge\n",
        "\n",
        "Objectives:\n",
        "* Describe linear regression: the simplest ML model\n",
        "* Use gradient descent to compute the Linear Regression (LR) parameters\n",
        "* Predict a vector $v_i$, given its x coordinate and a linear model relating x and y\n",
        "* Use the matrix form to compute the LR parameters"
      ]
    },
    {
      "metadata": {
        "id": "YP55JnJGEXWN",
        "colab_type": "code",
        "colab": {
          "autoexec": {
            "startup": false,
            "wait_interval": 0
          }
        }
      },
      "cell_type": "code",
      "source": [
        "# Linear Regression is the simplest ML model because:"
      ],
      "execution_count": 0,
      "outputs": []
    },
    {
      "metadata": {
        "id": "7sg9aaz1yZ6j",
        "colab_type": "text"
      },
      "cell_type": "markdown",
      "source": [
        "In regression, one attempts to estimate the relationship between a continuous outcome, or dependent variable, and one or more features, or independent variables.\n",
        "\n",
        "Typically, the form of the function describing this relationship is specified. Therefore, regression seeks to find the parameters according to the expression $\\textbf{E}(Y|X)=f(X, \\beta) $, which formalizes the understanding that $Y$ should be approximately equal to a function of $X$ and the parameters. Here $Y$ is the dependent variable, $X$ is the independent variables, and $\\beta$ represents the parameters.\n",
        "\n",
        "The simplest form of a function relating $X$ to $Y$ is a linear one. Polynomial functions involve higher order multiples of the independent variables, and may also contain sums between different terms. Furthermore, other classes of functions such as exponential, logarithmic and trigonometric are also less simple than linear functions.\n",
        "\n",
        "Linear regression is a Machine Learning model because it determines the best model, given the assumption that it is a linear one, based on the data. The values of the parameters specifying the linear relationship are not explicitly provided."
      ]
    },
    {
      "metadata": {
        "id": "aq9MJvtTE6lY",
        "colab_type": "text"
      },
      "cell_type": "markdown",
      "source": [
        "### 2. Compute Linear Regression Model\n",
        "\n",
        "Use sklearn.linear_model.LinearRegression to calculate the linear least-squares best fit minimizing $\\sum{(w_0x + w_1)-y)^2}$."
      ]
    },
    {
      "metadata": {
        "id": "8-wmjJ002aAe",
        "colab_type": "code",
        "colab": {
          "autoexec": {
            "startup": false,
            "wait_interval": 0
          }
        }
      },
      "cell_type": "code",
      "source": [
        "import numpy as np\n",
        "import matplotlib.pyplot as plt\n",
        "from sklearn.linear_model import LinearRegression"
      ],
      "execution_count": 0,
      "outputs": []
    },
    {
      "metadata": {
        "id": "I8nqyUEREiil",
        "colab_type": "code",
        "colab": {
          "autoexec": {
            "startup": false,
            "wait_interval": 0
          },
          "base_uri": "https://localhost:8080/",
          "height": 68
        },
        "outputId": "e55f93a5-85d4-4ed5-a05d-da1113b76fd0",
        "executionInfo": {
          "status": "ok",
          "timestamp": 1526059185479,
          "user_tz": 420,
          "elapsed": 361,
          "user": {
            "displayName": "Ray Heberer",
            "photoUrl": "//lh4.googleusercontent.com/-BMlr5I5Dhow/AAAAAAAAAAI/AAAAAAAAABc/XW4PF5A8K2Q/s50-c-k-no/photo.jpg",
            "userId": "116545933704048584401"
          }
        }
      },
      "cell_type": "code",
      "source": [
        "x = np.array([0,1,2,3,4])\n",
        "y = np.array([-1,2,5,5,9])\n",
        "\n",
        "# Compute LR\n",
        "model = LinearRegression()\n",
        "model.fit(x.reshape(-1, 1), y)\n",
        "\n",
        "# Print coefficients\n",
        "w0 = model.intercept_\n",
        "w1 = model.coef_[0]\n",
        "print('Coefficients\\nw0: {:.2f}\\nw1: {:.2f}'.format(w0, w1))"
      ],
      "execution_count": 3,
      "outputs": [
        {
          "output_type": "stream",
          "text": [
            "Coefficients\n",
            "w0: -0.60\n",
            "w1: 2.30\n"
          ],
          "name": "stdout"
        }
      ]
    },
    {
      "metadata": {
        "id": "-khOJR_Z2Xy4",
        "colab_type": "code",
        "colab": {
          "autoexec": {
            "startup": false,
            "wait_interval": 0
          },
          "base_uri": "https://localhost:8080/",
          "height": 376
        },
        "outputId": "fae45689-999e-4be8-a825-f347ade5adda",
        "executionInfo": {
          "status": "ok",
          "timestamp": 1526059186661,
          "user_tz": 420,
          "elapsed": 583,
          "user": {
            "displayName": "Ray Heberer",
            "photoUrl": "//lh4.googleusercontent.com/-BMlr5I5Dhow/AAAAAAAAAAI/AAAAAAAAABc/XW4PF5A8K2Q/s50-c-k-no/photo.jpg",
            "userId": "116545933704048584401"
          }
        }
      },
      "cell_type": "code",
      "source": [
        "fig, ax = plt.subplots()\n",
        "ax.scatter(x, y)\n",
        "\n",
        "x_smooth = np.linspace(-1, 5)\n",
        "ax.plot(x_smooth, w1*x_smooth + w0, 'g')\n",
        "\n",
        "ax.set(xlabel='x', ylabel='y', title='Linear Model');"
      ],
      "execution_count": 4,
      "outputs": [
        {
          "output_type": "display_data",
          "data": {
            "image/png": "[encoded data removed]",
            "text/plain": [
              "<matplotlib.figure.Figure at 0x7fe674488898>"
            ]
          },
          "metadata": {
            "tags": []
          }
        }
      ]
    },
    {
      "metadata": {
        "id": "jSfpHHfJFPc5",
        "colab_type": "text"
      },
      "cell_type": "markdown",
      "source": [
        "### 3. Predict the value $y_i = f(v_i)$"
      ]
    },
    {
      "metadata": {
        "id": "5J2XpSR17lg_",
        "colab_type": "text"
      },
      "cell_type": "markdown",
      "source": [
        "Since there is only one feature, the model should predict one y-value for each element of $v$"
      ]
    },
    {
      "metadata": {
        "id": "x3K306_pFUQc",
        "colab_type": "code",
        "colab": {
          "autoexec": {
            "startup": false,
            "wait_interval": 0
          },
          "base_uri": "https://localhost:8080/",
          "height": 34
        },
        "outputId": "e0525ca0-2561-4b9b-cf6d-86077fd6e770",
        "executionInfo": {
          "status": "ok",
          "timestamp": 1526059187463,
          "user_tz": 420,
          "elapsed": 369,
          "user": {
            "displayName": "Ray Heberer",
            "photoUrl": "//lh4.googleusercontent.com/-BMlr5I5Dhow/AAAAAAAAAAI/AAAAAAAAABc/XW4PF5A8K2Q/s50-c-k-no/photo.jpg",
            "userId": "116545933704048584401"
          }
        }
      },
      "cell_type": "code",
      "source": [
        "v = [7,2]\n",
        "\n",
        "# Use the model above to predict y_i here\n",
        "yv = model.predict(np.array([v]).T)\n",
        "\n",
        "# Print y\n",
        "print('y:', yv)"
      ],
      "execution_count": 5,
      "outputs": [
        {
          "output_type": "stream",
          "text": [
            "y: [15.5  4. ]\n"
          ],
          "name": "stdout"
        }
      ]
    },
    {
      "metadata": {
        "id": "lfRezDCJ8DS_",
        "colab_type": "code",
        "colab": {
          "autoexec": {
            "startup": false,
            "wait_interval": 0
          },
          "base_uri": "https://localhost:8080/",
          "height": 376
        },
        "outputId": "480e676b-2362-4b34-dead-961f23a81b98",
        "executionInfo": {
          "status": "ok",
          "timestamp": 1526059188680,
          "user_tz": 420,
          "elapsed": 597,
          "user": {
            "displayName": "Ray Heberer",
            "photoUrl": "//lh4.googleusercontent.com/-BMlr5I5Dhow/AAAAAAAAAAI/AAAAAAAAABc/XW4PF5A8K2Q/s50-c-k-no/photo.jpg",
            "userId": "116545933704048584401"
          }
        }
      },
      "cell_type": "code",
      "source": [
        "fig, ax = plt.subplots()\n",
        "ax.scatter(x, y)\n",
        "ax.plot(v, yv, 'ro')\n",
        "\n",
        "x_smooth = np.linspace(-1, 8)\n",
        "ax.plot(x_smooth, w1*x_smooth + w0, 'g')\n",
        "\n",
        "ax.set(xlabel='x', ylabel='y', title='Linear Model');"
      ],
      "execution_count": 6,
      "outputs": [
        {
          "output_type": "display_data",
          "data": {
            "image/png": "[encoded data removed]",
            "text/plain": [
              "<matplotlib.figure.Figure at 0x7fe673fc4cf8>"
            ]
          },
          "metadata": {
            "tags": []
          }
        }
      ]
    },
    {
      "metadata": {
        "id": "nDEdBrtYFjEr",
        "colab_type": "text"
      },
      "cell_type": "markdown",
      "source": [
        "### 4. Use the matrix form to compute Linear Regression\n",
        "\n",
        "The analytic solution to Linear Least Squares Regression:\n",
        "\n",
        "$\\beta = (X^TX)^{-1}X^TY$"
      ]
    },
    {
      "metadata": {
        "id": "zfI9TOcM8tOA",
        "colab_type": "text"
      },
      "cell_type": "markdown",
      "source": [
        "In order to use the analytic solution, we will need to make sure that $X$ and $Y$ are matrices. In the case of $Y$, it will be a column vector, or an n-by-1 matrix.\n",
        "\n",
        "In order to also solve for the value of the y-intercept, we will need to add a dummy feature to $X$, consisting of 1's. This can be achieved using the [`np.column_stack`](https://docs.scipy.org/doc/numpy-1.14.0/reference/generated/numpy.column_stack.html) and [`np.ones`](https://docs.scipy.org/doc/numpy-1.14.0/reference/generated/numpy.ones.html) methods."
      ]
    },
    {
      "metadata": {
        "id": "B73O-XcrF9Wd",
        "colab_type": "code",
        "colab": {
          "autoexec": {
            "startup": false,
            "wait_interval": 0
          },
          "base_uri": "https://localhost:8080/",
          "height": 68
        },
        "outputId": "2b3daa95-d5fb-41da-b25f-1cedc8f25880",
        "executionInfo": {
          "status": "ok",
          "timestamp": 1526059190431,
          "user_tz": 420,
          "elapsed": 408,
          "user": {
            "displayName": "Ray Heberer",
            "photoUrl": "//lh4.googleusercontent.com/-BMlr5I5Dhow/AAAAAAAAAAI/AAAAAAAAABc/XW4PF5A8K2Q/s50-c-k-no/photo.jpg",
            "userId": "116545933704048584401"
          }
        }
      },
      "cell_type": "code",
      "source": [
        "# Compute the above equation for x and y\n",
        "\n",
        "# Print the coefficients produced from this method, which should be equal to\n",
        "# the coefficients above.\n",
        "\n",
        "X = np.column_stack([np.ones(len(x)), x])\n",
        "Y = y.reshape(-1, 1)\n",
        "\n",
        "left = np.linalg.inv(np.matmul(X.T, X))\n",
        "right = np.matmul(X.T, Y)\n",
        "parameters = np.matmul(left, right)\n",
        "\n",
        "b0, b1 = float(parameters[0]), float(parameters[1])\n",
        "print('Coefficients via Normal Equation\\nb0: {:.2f}\\nb1: {:.2f}'.format(b0, b1))"
      ],
      "execution_count": 7,
      "outputs": [
        {
          "output_type": "stream",
          "text": [
            "Coefficients via Normal Equation\n",
            "b0: -0.60\n",
            "b1: 2.30\n"
          ],
          "name": "stdout"
        }
      ]
    },
    {
      "metadata": {
        "id": "Zp8sL_bz95kg",
        "colab_type": "text"
      },
      "cell_type": "markdown",
      "source": [
        "By inspection, these match the parameters found using the `sklearn` model."
      ]
    }
  ]
}