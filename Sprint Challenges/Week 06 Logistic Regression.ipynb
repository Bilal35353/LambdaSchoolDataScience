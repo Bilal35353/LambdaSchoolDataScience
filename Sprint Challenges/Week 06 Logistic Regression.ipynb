{
  "nbformat": 4,
  "nbformat_minor": 0,
  "metadata": {
    "colab": {
      "name": "Logistic Regression Sprint Challenge.ipynb",
      "version": "0.3.2",
      "views": {},
      "default_view": {},
      "provenance": [
        {
          "file_id": "1l2v-TFUpPYc746ZSv24U97i1g0TYhdgs",
          "timestamp": 1526051999114
        },
        {
          "file_id": "1Ig9oLMQaJn0zM48BTqrZxM8F5QUHGAME",
          "timestamp": 1526008523057
        }
      ],
      "collapsed_sections": []
    },
    "kernelspec": {
      "name": "python3",
      "display_name": "Python 3"
    }
  },
  "cells": [
    {
      "metadata": {
        "id": "aD8Yb0P8D04e",
        "colab_type": "text"
      },
      "cell_type": "markdown",
      "source": [
        "# Logistic Regression Sprint Challenge\n",
        "\n",
        "Objectives:\n",
        "* Create a training set and train a Logistic Regression model with it\n",
        "* Predict values for $\\hat{y}$ using a test set\n",
        "* Calculate sum-of-squared error $SSE(y,\\hat{y})$\n",
        "* Calculate the error rate of a model as a percentage\n",
        "\n",
        "Dataset: https://www.dropbox.com/s/bnwfu81bjpf22hp/logistic_regression.csv?raw=1"
      ]
    },
    {
      "metadata": {
        "id": "aq9MJvtTE6lY",
        "colab_type": "text"
      },
      "cell_type": "markdown",
      "source": [
        "### 1. Compute Linear Regression Model\n",
        "\n",
        "Create a training set and train a Logistic Regression model with it"
      ]
    },
    {
      "metadata": {
        "id": "I8nqyUEREiil",
        "colab_type": "code",
        "colab": {
          "autoexec": {
            "startup": false,
            "wait_interval": 0
          }
        }
      },
      "cell_type": "code",
      "source": [
        "# Import necessary libraries\n",
        "import numpy as np\n",
        "import pandas as pd\n",
        "import matplotlib.pyplot as plt\n",
        "\n",
        "from sklearn.linear_model import LogisticRegression\n",
        "from sklearn.model_selection import train_test_split"
      ],
      "execution_count": 0,
      "outputs": []
    },
    {
      "metadata": {
        "id": "EAM0kHmH_Lyv",
        "colab_type": "code",
        "colab": {
          "autoexec": {
            "startup": false,
            "wait_interval": 0
          },
          "base_uri": "https://localhost:8080/",
          "height": 221
        },
        "outputId": "8d7cfed4-d158-493b-9db6-af6c962a95f7",
        "executionInfo": {
          "status": "ok",
          "timestamp": 1526059210194,
          "user_tz": 420,
          "elapsed": 1290,
          "user": {
            "displayName": "Ray Heberer",
            "photoUrl": "//lh4.googleusercontent.com/-BMlr5I5Dhow/AAAAAAAAAAI/AAAAAAAAABc/XW4PF5A8K2Q/s50-c-k-no/photo.jpg",
            "userId": "116545933704048584401"
          }
        }
      },
      "cell_type": "code",
      "source": [
        "data = pd.read_csv('https://www.dropbox.com/s/bnwfu81bjpf22hp/logistic_regression.csv?raw=1')\n",
        "print(data.shape)\n",
        "data.head()"
      ],
      "execution_count": 2,
      "outputs": [
        {
          "output_type": "stream",
          "text": [
            "(40, 4)\n"
          ],
          "name": "stdout"
        },
        {
          "output_type": "execute_result",
          "data": {
            "text/html": [
              "<div>\n",
              "<style scoped>\n",
              "    .dataframe tbody tr th:only-of-type {\n",
              "        vertical-align: middle;\n",
              "    }\n",
              "\n",
              "    .dataframe tbody tr th {\n",
              "        vertical-align: top;\n",
              "    }\n",
              "\n",
              "    .dataframe thead th {\n",
              "        text-align: right;\n",
              "    }\n",
              "</style>\n",
              "<table border=\"1\" class=\"dataframe\">\n",
              "  <thead>\n",
              "    <tr style=\"text-align: right;\">\n",
              "      <th></th>\n",
              "      <th>Unnamed: 0</th>\n",
              "      <th>x1</th>\n",
              "      <th>x2</th>\n",
              "      <th>y</th>\n",
              "    </tr>\n",
              "  </thead>\n",
              "  <tbody>\n",
              "    <tr>\n",
              "      <th>0</th>\n",
              "      <td>0</td>\n",
              "      <td>2.903104</td>\n",
              "      <td>3.281307</td>\n",
              "      <td>0.0</td>\n",
              "    </tr>\n",
              "    <tr>\n",
              "      <th>1</th>\n",
              "      <td>1</td>\n",
              "      <td>3.838055</td>\n",
              "      <td>2.758941</td>\n",
              "      <td>0.0</td>\n",
              "    </tr>\n",
              "    <tr>\n",
              "      <th>2</th>\n",
              "      <td>2</td>\n",
              "      <td>1.407508</td>\n",
              "      <td>1.485069</td>\n",
              "      <td>0.0</td>\n",
              "    </tr>\n",
              "    <tr>\n",
              "      <th>3</th>\n",
              "      <td>3</td>\n",
              "      <td>0.332565</td>\n",
              "      <td>1.473001</td>\n",
              "      <td>0.0</td>\n",
              "    </tr>\n",
              "    <tr>\n",
              "      <th>4</th>\n",
              "      <td>4</td>\n",
              "      <td>2.756526</td>\n",
              "      <td>2.390291</td>\n",
              "      <td>0.0</td>\n",
              "    </tr>\n",
              "  </tbody>\n",
              "</table>\n",
              "</div>"
            ],
            "text/plain": [
              "   Unnamed: 0        x1        x2    y\n",
              "0           0  2.903104  3.281307  0.0\n",
              "1           1  3.838055  2.758941  0.0\n",
              "2           2  1.407508  1.485069  0.0\n",
              "3           3  0.332565  1.473001  0.0\n",
              "4           4  2.756526  2.390291  0.0"
            ]
          },
          "metadata": {
            "tags": []
          },
          "execution_count": 2
        }
      ]
    },
    {
      "metadata": {
        "id": "mWjqxpSt_TzQ",
        "colab_type": "text"
      },
      "cell_type": "markdown",
      "source": [
        "The first column appears to be an index column. I will briefly confirm whether this is the case, and if so, will drop it from the dataset."
      ]
    },
    {
      "metadata": {
        "id": "CwaBfrYv_a5g",
        "colab_type": "code",
        "colab": {
          "autoexec": {
            "startup": false,
            "wait_interval": 0
          },
          "base_uri": "https://localhost:8080/",
          "height": 34
        },
        "outputId": "aa228e56-91d4-41a7-96c2-76513578395e",
        "executionInfo": {
          "status": "ok",
          "timestamp": 1526059210711,
          "user_tz": 420,
          "elapsed": 398,
          "user": {
            "displayName": "Ray Heberer",
            "photoUrl": "//lh4.googleusercontent.com/-BMlr5I5Dhow/AAAAAAAAAAI/AAAAAAAAABc/XW4PF5A8K2Q/s50-c-k-no/photo.jpg",
            "userId": "116545933704048584401"
          }
        }
      },
      "cell_type": "code",
      "source": [
        "print((data['Unnamed: 0'] == data.index).all())\n",
        "\n",
        "data = data.drop('Unnamed: 0', axis=1)"
      ],
      "execution_count": 3,
      "outputs": [
        {
          "output_type": "stream",
          "text": [
            "True\n"
          ],
          "name": "stdout"
        }
      ]
    },
    {
      "metadata": {
        "id": "iU8lZUWe_1rG",
        "colab_type": "text"
      },
      "cell_type": "markdown",
      "source": [
        "Before being able to call [`train_test_split`](http://scikit-learn.org/stable/modules/generated/sklearn.model_selection.train_test_split.html), I will need to ensure that I have a matrix of features and a matrix of labels. Since there are only 40 samples of data, I will include 25% of them, or 10 samples, in the test set. \n",
        "\n",
        "This situation is not ideal because there are few enough values in the test set where it is not reliable statistically as an estimate of the model's performance, and enough samples have been removed from the training set that the optimal solution found will not perform as well as it would have given more data."
      ]
    },
    {
      "metadata": {
        "id": "e2cL0P5L_K55",
        "colab_type": "code",
        "colab": {
          "autoexec": {
            "startup": false,
            "wait_interval": 0
          }
        }
      },
      "cell_type": "code",
      "source": [
        "# Use train_test_split to create a training set\n",
        "X = data[['x1', 'x2']].as_matrix()\n",
        "Y = data['y'].values\n",
        "\n",
        "x_train, x_test, y_train, y_test = train_test_split(X, Y, test_size=0.25, random_state=42)"
      ],
      "execution_count": 0,
      "outputs": []
    },
    {
      "metadata": {
        "id": "gW4HjwxtAHOv",
        "colab_type": "code",
        "colab": {
          "autoexec": {
            "startup": false,
            "wait_interval": 0
          },
          "base_uri": "https://localhost:8080/",
          "height": 85
        },
        "outputId": "cfc5e703-e447-4e22-ca8b-7be379d0496a",
        "executionInfo": {
          "status": "ok",
          "timestamp": 1526059212536,
          "user_tz": 420,
          "elapsed": 539,
          "user": {
            "displayName": "Ray Heberer",
            "photoUrl": "//lh4.googleusercontent.com/-BMlr5I5Dhow/AAAAAAAAAAI/AAAAAAAAABc/XW4PF5A8K2Q/s50-c-k-no/photo.jpg",
            "userId": "116545933704048584401"
          }
        }
      },
      "cell_type": "code",
      "source": [
        "# Create and train(fit) the model\n",
        "model = LogisticRegression()\n",
        "model.fit(x_train, y_train)"
      ],
      "execution_count": 5,
      "outputs": [
        {
          "output_type": "execute_result",
          "data": {
            "text/plain": [
              "LogisticRegression(C=1.0, class_weight=None, dual=False, fit_intercept=True,\n",
              "          intercept_scaling=1, max_iter=100, multi_class='ovr', n_jobs=1,\n",
              "          penalty='l2', random_state=None, solver='liblinear', tol=0.0001,\n",
              "          verbose=0, warm_start=False)"
            ]
          },
          "metadata": {
            "tags": []
          },
          "execution_count": 5
        }
      ]
    },
    {
      "metadata": {
        "id": "jSfpHHfJFPc5",
        "colab_type": "text"
      },
      "cell_type": "markdown",
      "source": [
        "### 2. Predict values for $\\hat{y}$ for the test set"
      ]
    },
    {
      "metadata": {
        "id": "x3K306_pFUQc",
        "colab_type": "code",
        "colab": {
          "autoexec": {
            "startup": false,
            "wait_interval": 0
          }
        }
      },
      "cell_type": "code",
      "source": [
        "# Predict y_hat for the test set created previously\n",
        "yhat = model.predict(x_test)"
      ],
      "execution_count": 0,
      "outputs": []
    },
    {
      "metadata": {
        "id": "nDEdBrtYFjEr",
        "colab_type": "text"
      },
      "cell_type": "markdown",
      "source": [
        "### 3. Calculate SSE for the test-set"
      ]
    },
    {
      "metadata": {
        "id": "B73O-XcrF9Wd",
        "colab_type": "code",
        "colab": {
          "autoexec": {
            "startup": false,
            "wait_interval": 0
          },
          "base_uri": "https://localhost:8080/",
          "height": 34
        },
        "outputId": "28196f2b-dfcd-4d6d-8b04-8ea3e2aced2d",
        "executionInfo": {
          "status": "ok",
          "timestamp": 1526059213717,
          "user_tz": 420,
          "elapsed": 357,
          "user": {
            "displayName": "Ray Heberer",
            "photoUrl": "//lh4.googleusercontent.com/-BMlr5I5Dhow/AAAAAAAAAAI/AAAAAAAAABc/XW4PF5A8K2Q/s50-c-k-no/photo.jpg",
            "userId": "116545933704048584401"
          }
        }
      },
      "cell_type": "code",
      "source": [
        "# Calculate SSE\n",
        "sse = np.sum(np.power((yhat - y_test), 2))\n",
        "\n",
        "# Print SSE\n",
        "print('SSE:', sse)"
      ],
      "execution_count": 7,
      "outputs": [
        {
          "output_type": "stream",
          "text": [
            "SSE: 1.0\n"
          ],
          "name": "stdout"
        }
      ]
    },
    {
      "metadata": {
        "id": "QS0KgX-_QbX6",
        "colab_type": "text"
      },
      "cell_type": "markdown",
      "source": [
        "### 4. Calculate the error rate of the model as a percentage."
      ]
    },
    {
      "metadata": {
        "id": "k92kBzy4BhQI",
        "colab_type": "text"
      },
      "cell_type": "markdown",
      "source": [
        "Since a misclassified point will have a $(\\hat{y}-y)^2$ equal to one, the SSE is simply the count of misclassified points. The percentage error then is this count divided by the total number of points. "
      ]
    },
    {
      "metadata": {
        "id": "t2xGVuYcQfAo",
        "colab_type": "code",
        "colab": {
          "autoexec": {
            "startup": false,
            "wait_interval": 0
          },
          "base_uri": "https://localhost:8080/",
          "height": 34
        },
        "outputId": "1fcaf652-af24-4ee1-e517-c70fded87fb1",
        "executionInfo": {
          "status": "ok",
          "timestamp": 1526059214399,
          "user_tz": 420,
          "elapsed": 415,
          "user": {
            "displayName": "Ray Heberer",
            "photoUrl": "//lh4.googleusercontent.com/-BMlr5I5Dhow/AAAAAAAAAAI/AAAAAAAAABc/XW4PF5A8K2Q/s50-c-k-no/photo.jpg",
            "userId": "116545933704048584401"
          }
        }
      },
      "cell_type": "code",
      "source": [
        "# Calculate percentage\n",
        "error = sse / len(y_test)\n",
        "\n",
        "# Print percentage\n",
        "print('Percent error: {:.0f}%'.format(error*100))"
      ],
      "execution_count": 8,
      "outputs": [
        {
          "output_type": "stream",
          "text": [
            "Percent error: 10%\n"
          ],
          "name": "stdout"
        }
      ]
    },
    {
      "metadata": {
        "id": "wbM0evMfDOQ6",
        "colab_type": "code",
        "colab": {
          "autoexec": {
            "startup": false,
            "wait_interval": 0
          },
          "base_uri": "https://localhost:8080/",
          "height": 376
        },
        "outputId": "21395c61-39cb-48b9-9192-f2f6fbc7cb09",
        "executionInfo": {
          "status": "ok",
          "timestamp": 1526059215354,
          "user_tz": 420,
          "elapsed": 573,
          "user": {
            "displayName": "Ray Heberer",
            "photoUrl": "//lh4.googleusercontent.com/-BMlr5I5Dhow/AAAAAAAAAAI/AAAAAAAAABc/XW4PF5A8K2Q/s50-c-k-no/photo.jpg",
            "userId": "116545933704048584401"
          }
        }
      },
      "cell_type": "code",
      "source": [
        "fig, ax = plt.subplots(1, 2)\n",
        "\n",
        "ax[0].scatter(x_train[:,0], x_train[:,1], c=y_train, cmap='bwr')\n",
        "ax[0].set(title='Training Data', ylabel='x2', xlabel='x1')\n",
        "ax[1].scatter(x_test[:,0], x_test[:,1], c=y_test, cmap='bwr')\n",
        "ax[1].set(title='Test Data', xlabel='x1');"
      ],
      "execution_count": 9,
      "outputs": [
        {
          "output_type": "display_data",
          "data": {
            "image/png": "[encoded data removed]",
            "text/plain": [
              "<matplotlib.figure.Figure at 0x7ff4ab5daef0>"
            ]
          },
          "metadata": {
            "tags": []
          }
        }
      ]
    },
    {
      "metadata": {
        "id": "vg3mJPSIMmJf",
        "colab_type": "text"
      },
      "cell_type": "markdown",
      "source": [
        "The percentage error obtained is consistent with how separable the data appears to be. With a dataset of this size however, one would expect setting different random states for the train-test split to sometimes result in different errors."
      ]
    }
  ]
}