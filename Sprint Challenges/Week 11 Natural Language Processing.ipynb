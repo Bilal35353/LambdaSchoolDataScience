{
  "nbformat": 4,
  "nbformat_minor": 0,
  "metadata": {
    "colab": {
      "name": "Week 11 NLP Sprint Challenge.ipynb",
      "version": "0.3.2",
      "views": {},
      "default_view": {},
      "provenance": [
        {
          "file_id": "1-mBoySIOUJIKUvQ8_O2OyzPtCfIwfT2z",
          "timestamp": 1529074914822
        },
        {
          "file_id": "1DCjqlVwYG7kwQMktR_P8j6f0W-8VIRma",
          "timestamp": 1529030506725
        },
        {
          "file_id": "1BAg-tCE9gOu0TfPwL9yYG62zH41Gn-bE",
          "timestamp": 1528121514191
        }
      ]
    },
    "kernelspec": {
      "name": "python3",
      "display_name": "Python 3"
    }
  },
  "cells": [
    {
      "metadata": {
        "id": "B513-nWV9iSm",
        "colab_type": "text"
      },
      "cell_type": "markdown",
      "source": [
        "### Sprint Challenge: Natural Language Processing"
      ]
    },
    {
      "metadata": {
        "id": "Xo5zIUFW9tLl",
        "colab_type": "text"
      },
      "cell_type": "markdown",
      "source": [
        "In this Sprint Challenge, you will get an opportunity to work on additional exercises that will help further crystalize the concepts that you have been exposed to this week.\n",
        "\n",
        "\n",
        "\n",
        "\n"
      ]
    },
    {
      "metadata": {
        "id": "AWjkDBonEdg3",
        "colab_type": "code",
        "colab": {
          "autoexec": {
            "startup": false,
            "wait_interval": 0
          },
          "base_uri": "https://localhost:8080/",
          "height": 343
        },
        "outputId": "768810ba-42a9-4673-85a7-5d8d0d09ae33",
        "executionInfo": {
          "status": "ok",
          "timestamp": 1529081022952,
          "user_tz": 420,
          "elapsed": 2956,
          "user": {
            "displayName": "Ray Heberer",
            "photoUrl": "//lh4.googleusercontent.com/-BMlr5I5Dhow/AAAAAAAAAAI/AAAAAAAAABc/XW4PF5A8K2Q/s50-c-k-no/photo.jpg",
            "userId": "116545933704048584401"
          }
        }
      },
      "cell_type": "code",
      "source": [
        "!pip install --upgrade gensim"
      ],
      "execution_count": 1,
      "outputs": [
        {
          "output_type": "stream",
          "text": [
            "Requirement already up-to-date: gensim in /usr/local/lib/python3.6/dist-packages (3.4.0)\n",
            "Requirement not upgraded as not directly required: smart-open>=1.2.1 in /usr/local/lib/python3.6/dist-packages (from gensim) (1.5.7)\n",
            "Requirement not upgraded as not directly required: scipy>=0.18.1 in /usr/local/lib/python3.6/dist-packages (from gensim) (0.19.1)\n",
            "Requirement not upgraded as not directly required: six>=1.5.0 in /usr/local/lib/python3.6/dist-packages (from gensim) (1.11.0)\n",
            "Requirement not upgraded as not directly required: numpy>=1.11.3 in /usr/local/lib/python3.6/dist-packages (from gensim) (1.14.3)\n",
            "Requirement not upgraded as not directly required: boto3 in /usr/local/lib/python3.6/dist-packages (from smart-open>=1.2.1->gensim) (1.7.39)\n",
            "Requirement not upgraded as not directly required: requests in /usr/local/lib/python3.6/dist-packages (from smart-open>=1.2.1->gensim) (2.18.4)\n",
            "Requirement not upgraded as not directly required: bz2file in /usr/local/lib/python3.6/dist-packages (from smart-open>=1.2.1->gensim) (0.98)\n",
            "Requirement not upgraded as not directly required: boto>=2.32 in /usr/local/lib/python3.6/dist-packages (from smart-open>=1.2.1->gensim) (2.48.0)\n",
            "Requirement not upgraded as not directly required: jmespath<1.0.0,>=0.7.1 in /usr/local/lib/python3.6/dist-packages (from boto3->smart-open>=1.2.1->gensim) (0.9.3)\n",
            "Requirement not upgraded as not directly required: s3transfer<0.2.0,>=0.1.10 in /usr/local/lib/python3.6/dist-packages (from boto3->smart-open>=1.2.1->gensim) (0.1.13)\n",
            "Requirement not upgraded as not directly required: botocore<1.11.0,>=1.10.39 in /usr/local/lib/python3.6/dist-packages (from boto3->smart-open>=1.2.1->gensim) (1.10.39)\n",
            "Requirement not upgraded as not directly required: certifi>=2017.4.17 in /usr/local/lib/python3.6/dist-packages (from requests->smart-open>=1.2.1->gensim) (2018.4.16)\n",
            "Requirement not upgraded as not directly required: urllib3<1.23,>=1.21.1 in /usr/local/lib/python3.6/dist-packages (from requests->smart-open>=1.2.1->gensim) (1.22)\n",
            "Requirement not upgraded as not directly required: idna<2.7,>=2.5 in /usr/local/lib/python3.6/dist-packages (from requests->smart-open>=1.2.1->gensim) (2.6)\n",
            "Requirement not upgraded as not directly required: chardet<3.1.0,>=3.0.2 in /usr/local/lib/python3.6/dist-packages (from requests->smart-open>=1.2.1->gensim) (3.0.4)\n",
            "Requirement not upgraded as not directly required: python-dateutil<3.0.0,>=2.1; python_version >= \"2.7\" in /usr/local/lib/python3.6/dist-packages (from botocore<1.11.0,>=1.10.39->boto3->smart-open>=1.2.1->gensim) (2.5.3)\n",
            "Requirement not upgraded as not directly required: docutils>=0.10 in /usr/local/lib/python3.6/dist-packages (from botocore<1.11.0,>=1.10.39->boto3->smart-open>=1.2.1->gensim) (0.14)\n"
          ],
          "name": "stdout"
        }
      ]
    },
    {
      "metadata": {
        "id": "_MKjcvX_IS0C",
        "colab_type": "code",
        "colab": {
          "autoexec": {
            "startup": false,
            "wait_interval": 0
          },
          "base_uri": "https://localhost:8080/",
          "height": 68
        },
        "outputId": "bb1ae784-f99d-4e04-c432-3253e77c900a",
        "executionInfo": {
          "status": "ok",
          "timestamp": 1529081030157,
          "user_tz": 420,
          "elapsed": 2636,
          "user": {
            "displayName": "Ray Heberer",
            "photoUrl": "//lh4.googleusercontent.com/-BMlr5I5Dhow/AAAAAAAAAAI/AAAAAAAAABc/XW4PF5A8K2Q/s50-c-k-no/photo.jpg",
            "userId": "116545933704048584401"
          }
        }
      },
      "cell_type": "code",
      "source": [
        "!pip install textblob"
      ],
      "execution_count": 2,
      "outputs": [
        {
          "output_type": "stream",
          "text": [
            "Requirement already satisfied: textblob in /usr/local/lib/python3.6/dist-packages (0.15.1)\n",
            "Requirement already satisfied: nltk>=3.1 in /usr/local/lib/python3.6/dist-packages (from textblob) (3.2.5)\n",
            "Requirement already satisfied: six in /usr/local/lib/python3.6/dist-packages (from nltk>=3.1->textblob) (1.11.0)\n"
          ],
          "name": "stdout"
        }
      ]
    },
    {
      "metadata": {
        "id": "l7fXckmm-lB0",
        "colab_type": "code",
        "colab": {
          "autoexec": {
            "startup": false,
            "wait_interval": 0
          }
        }
      },
      "cell_type": "code",
      "source": [
        "import pandas as pd\n",
        "import numpy as np\n",
        "import nltk\n",
        "import gensim\n",
        "import matplotlib.pyplot as plt\n",
        "import itertools\n",
        "\n",
        "from sklearn.feature_extraction.text import CountVectorizer, TfidfVectorizer\n",
        "from sklearn.model_selection import train_test_split\n",
        "from sklearn.naive_bayes import GaussianNB\n",
        "from textblob import TextBlob\n",
        "from collections import Counter"
      ],
      "execution_count": 0,
      "outputs": []
    },
    {
      "metadata": {
        "id": "o9pi4DT-AWpr",
        "colab_type": "code",
        "colab": {
          "autoexec": {
            "startup": false,
            "wait_interval": 0
          },
          "base_uri": "https://localhost:8080/",
          "height": 170
        },
        "outputId": "9c2dc934-d380-4f97-fde4-32dfca0a0dd4",
        "executionInfo": {
          "status": "ok",
          "timestamp": 1529081034330,
          "user_tz": 420,
          "elapsed": 590,
          "user": {
            "displayName": "Ray Heberer",
            "photoUrl": "//lh4.googleusercontent.com/-BMlr5I5Dhow/AAAAAAAAAAI/AAAAAAAAABc/XW4PF5A8K2Q/s50-c-k-no/photo.jpg",
            "userId": "116545933704048584401"
          }
        }
      },
      "cell_type": "code",
      "source": [
        "nltk.download('punkt')\n",
        "nltk.download('stopwords')\n",
        "nltk.download('wordnet')\n",
        "nltk.download('movie_reviews')"
      ],
      "execution_count": 4,
      "outputs": [
        {
          "output_type": "stream",
          "text": [
            "[nltk_data] Downloading package punkt to /content/nltk_data...\n",
            "[nltk_data]   Package punkt is already up-to-date!\n",
            "[nltk_data] Downloading package stopwords to /content/nltk_data...\n",
            "[nltk_data]   Package stopwords is already up-to-date!\n",
            "[nltk_data] Downloading package wordnet to /content/nltk_data...\n",
            "[nltk_data]   Package wordnet is already up-to-date!\n",
            "[nltk_data] Downloading package movie_reviews to /content/nltk_data...\n",
            "[nltk_data]   Package movie_reviews is already up-to-date!\n"
          ],
          "name": "stdout"
        },
        {
          "output_type": "execute_result",
          "data": {
            "text/plain": [
              "True"
            ]
          },
          "metadata": {
            "tags": []
          },
          "execution_count": 4
        }
      ]
    },
    {
      "metadata": {
        "id": "C2epBzB0J8RT",
        "colab_type": "text"
      },
      "cell_type": "markdown",
      "source": [
        "**Question 1**: Load the dataset  (only the first 1000 rows)related to restaurant reviews (Dataset: https://www.dropbox.com/s/i4zh5fb82x7i3sm/restaurant-test.csv?raw=1). \n",
        "\n",
        "This data set is a slight variation of the data set that you worked on in the project assignment.\n",
        "\n",
        "Pre-process the dataset:\n",
        "\n",
        "a) You will need to eliminate punctuations\n",
        "\n",
        "b) You will have to deal with/remove stopwords\n",
        "\n",
        "c) Tokenize the text\n",
        "\n",
        "d) Stem or Lemmatize to determine the base form of the words"
      ]
    },
    {
      "metadata": {
        "id": "RjSZ_NFcJ7Rv",
        "colab_type": "code",
        "colab": {
          "autoexec": {
            "startup": false,
            "wait_interval": 0
          },
          "base_uri": "https://localhost:8080/",
          "height": 238
        },
        "outputId": "dea6aa7c-831f-497b-f050-325ac62c4a6b",
        "executionInfo": {
          "status": "ok",
          "timestamp": 1529081038543,
          "user_tz": 420,
          "elapsed": 2954,
          "user": {
            "displayName": "Ray Heberer",
            "photoUrl": "//lh4.googleusercontent.com/-BMlr5I5Dhow/AAAAAAAAAAI/AAAAAAAAABc/XW4PF5A8K2Q/s50-c-k-no/photo.jpg",
            "userId": "116545933704048584401"
          }
        }
      },
      "cell_type": "code",
      "source": [
        "restaurant_reviews = pd.read_table('https://www.dropbox.com/s/i4zh5fb82x7i3sm/restaurant-test.csv?raw=1', \n",
        "                                   header=None, \n",
        "                                   nrows=1000)\n",
        "\n",
        "print(restaurant_reviews.shape)\n",
        "print(restaurant_reviews.isnull().any().any())\n",
        "\n",
        "restaurant_reviews = restaurant_reviews.astype(str)\n",
        "restaurant_reviews.head()"
      ],
      "execution_count": 5,
      "outputs": [
        {
          "output_type": "stream",
          "text": [
            "(1000, 1)\n",
            "False\n"
          ],
          "name": "stdout"
        },
        {
          "output_type": "execute_result",
          "data": {
            "text/html": [
              "<div>\n",
              "<style scoped>\n",
              "    .dataframe tbody tr th:only-of-type {\n",
              "        vertical-align: middle;\n",
              "    }\n",
              "\n",
              "    .dataframe tbody tr th {\n",
              "        vertical-align: top;\n",
              "    }\n",
              "\n",
              "    .dataframe thead th {\n",
              "        text-align: right;\n",
              "    }\n",
              "</style>\n",
              "<table border=\"1\" class=\"dataframe\">\n",
              "  <thead>\n",
              "    <tr style=\"text-align: right;\">\n",
              "      <th></th>\n",
              "      <th>0</th>\n",
              "    </tr>\n",
              "  </thead>\n",
              "  <tbody>\n",
              "    <tr>\n",
              "      <th>0</th>\n",
              "      <td>My son just loves this place.  Weird that he'd...</td>\n",
              "    </tr>\n",
              "    <tr>\n",
              "      <th>1</th>\n",
              "      <td>We gave it a 9, so we will make that 5-, 4,5 s...</td>\n",
              "    </tr>\n",
              "    <tr>\n",
              "      <th>2</th>\n",
              "      <td>After three lunch visits I've come to the conc...</td>\n",
              "    </tr>\n",
              "    <tr>\n",
              "      <th>3</th>\n",
              "      <td>What started out as a simple attempt to find a...</td>\n",
              "    </tr>\n",
              "    <tr>\n",
              "      <th>4</th>\n",
              "      <td>If they had a Culver's on every street corner,...</td>\n",
              "    </tr>\n",
              "  </tbody>\n",
              "</table>\n",
              "</div>"
            ],
            "text/plain": [
              "                                                   0\n",
              "0  My son just loves this place.  Weird that he'd...\n",
              "1  We gave it a 9, so we will make that 5-, 4,5 s...\n",
              "2  After three lunch visits I've come to the conc...\n",
              "3  What started out as a simple attempt to find a...\n",
              "4  If they had a Culver's on every street corner,..."
            ]
          },
          "metadata": {
            "tags": []
          },
          "execution_count": 5
        }
      ]
    },
    {
      "metadata": {
        "id": "o8MaBHUsARUz",
        "colab_type": "code",
        "colab": {
          "autoexec": {
            "startup": false,
            "wait_interval": 0
          }
        }
      },
      "cell_type": "code",
      "source": [
        "def process_text(sentence):\n",
        "    stop_words = set(nltk.corpus.stopwords.words('english'))\n",
        "\n",
        "    # tokenize\n",
        "    sentence = nltk.word_tokenize(sentence)\n",
        "    \n",
        "    # remove stop words and punctuation, lemmatize\n",
        "    wnl = nltk.stem.WordNetLemmatizer()\n",
        "    sentence = [wnl.lemmatize(w) for w in sentence \n",
        "                if w not in stop_words and w.isalpha()]\n",
        "    \n",
        "    return sentence"
      ],
      "execution_count": 0,
      "outputs": []
    },
    {
      "metadata": {
        "id": "DSmjrhn7AmYl",
        "colab_type": "code",
        "colab": {
          "autoexec": {
            "startup": false,
            "wait_interval": 0
          },
          "base_uri": "https://localhost:8080/",
          "height": 119
        },
        "outputId": "0da85b84-00bc-4c99-8fa0-9db4a49e7ba2",
        "executionInfo": {
          "status": "ok",
          "timestamp": 1529081066646,
          "user_tz": 420,
          "elapsed": 3220,
          "user": {
            "displayName": "Ray Heberer",
            "photoUrl": "//lh4.googleusercontent.com/-BMlr5I5Dhow/AAAAAAAAAAI/AAAAAAAAABc/XW4PF5A8K2Q/s50-c-k-no/photo.jpg",
            "userId": "116545933704048584401"
          }
        }
      },
      "cell_type": "code",
      "source": [
        "restaurant_tokens = restaurant_reviews[0].apply(process_text)\n",
        "restaurant_tokens.head()"
      ],
      "execution_count": 9,
      "outputs": [
        {
          "output_type": "execute_result",
          "data": {
            "text/plain": [
              "0    [My, son, love, place, Weird, ask, come, every...\n",
              "1    [We, gave, make, star, To, start, beautiful, l...\n",
              "2    [After, three, lunch, visit, I, come, conclusi...\n",
              "3    [What, started, simple, attempt, find, perfect...\n",
              "4    [If, Culver, every, street, corner, cardiologi...\n",
              "Name: 0, dtype: object"
            ]
          },
          "metadata": {
            "tags": []
          },
          "execution_count": 9
        }
      ]
    },
    {
      "metadata": {
        "id": "v0JTuUR4K1Ct",
        "colab_type": "text"
      },
      "cell_type": "markdown",
      "source": [
        "**Question 2**: **Perform Vectorization** - you will apply 3 different vectorization techniques. Each technique will generate similar document term matrices where the rows of the matrix will represent the respective text messages and the columns will represent each word or a combination of words. Note that the biggest difference between the techniques is the value depicted in the actual cells of the matrix.\n",
        "\n",
        "1) Create a document term matrix based on the count of the words in the document. You may want to restrict the # of features/columns based on the top most features ordered by term frequency across the document\n",
        "\n",
        "2) Create a bigram vector using a combination of adjacent words. In this case, n=2\n",
        "\n",
        "3) Create a TF-IDF vector wherein the cells of the matrix contain values (i.e. weights) to depict how important a word is to an individual review"
      ]
    },
    {
      "metadata": {
        "id": "2bdCLLtpBjyy",
        "colab_type": "code",
        "colab": {
          "autoexec": {
            "startup": false,
            "wait_interval": 0
          },
          "base_uri": "https://localhost:8080/",
          "height": 207
        },
        "outputId": "6233251f-a1d5-4171-9405-c317ae6d3091",
        "executionInfo": {
          "status": "ok",
          "timestamp": 1529081070300,
          "user_tz": 420,
          "elapsed": 351,
          "user": {
            "displayName": "Ray Heberer",
            "photoUrl": "//lh4.googleusercontent.com/-BMlr5I5Dhow/AAAAAAAAAAI/AAAAAAAAABc/XW4PF5A8K2Q/s50-c-k-no/photo.jpg",
            "userId": "116545933704048584401"
          }
        }
      },
      "cell_type": "code",
      "source": [
        "restaurant_corpus = list(map(lambda x: ' '.join(x), restaurant_tokens))\n",
        "restaurant_corpus[:10]"
      ],
      "execution_count": 10,
      "outputs": [
        {
          "output_type": "execute_result",
          "data": {
            "text/plain": [
              "['My son love place Weird ask come everytime go grocery shopping bribe even care go Toys R Us Not complaining I little knick knack quite selection little travel toy educational material kid holiday stuff I bought couple red bow brass jingle wreath put porch light Why cheap end spending',\n",
              " 'We gave make star To start beautiful lucked outside heater next roaring fireplace The service could better thanks YELPing friend hardly needed menu The Portugese clam soup though salty side The pork belly steak taco top We gave dish Margaritas awesome Smokehouse Pomogranite short glass It long time since solid Thanks guy Oh table guac must PS get bread pudding get sauce side It top sweet My pancreas running lap right',\n",
              " 'After three lunch visit I come conclusion restaurant fare ok book I probably back ca guarantee many place walking quickly politey greeted taken table You notice decor nice somewhat cluttered I fan thing put right place Maybe price lunch come quickly expected I hoping little love put food tongue telling little bland Each visit I tried different item menu almost tasted place serf purpose quick hot inexpensive meal typical',\n",
              " 'What started simple attempt find perfect birthday present turned relationship fantastic jeweler wanted get girlfriend time simple diamond pendant necklace birthday could find anything even came close matching style I searched internet day reluctantly went jewelry store hoping best expecting worst I like people guy bad feeling store I went Pushy sale people looking upsale sky high price I getting discouraged process changed I came Hyde Park super friendly staff made everything easy There pushy sale process anyone trying upsell something I want They immediately offered bottle water started talk like real person After minute speaking lovely woman store suggested think something custom At first I thinking go I going get stuck I wrong looked loose stone I got great education diamond I went home later night research internet found price good better big online retailer I could never get head wrapped around buying diamond online sight unseen I glad I found Hyde Park end I used Hyde Park create custom pendant diamond necklace absolutely love perfect I also used Hyde Park get diamond engagement ring well everything else follow know service jewelry business check Hyde Park I picked amazing diamond engagement ring chose loose stone idea kind ring would want So Hyde Park said put classic Tiffany solitaire setting temporary setting give come back together pick perfect setting wedding band I like seriously You end Hyde Park jeweler life They helped create perfect simple birthday present took service way custom engagement ring matching wedding band set This jewelry store guy want great service great price like first clue make perfect decision Just let Hyde Park take stress like',\n",
              " 'If Culver every street corner cardiologist would twice much went first time today lunch I hoping good burger I got wish soft bun red onion lettuce fresh tomato fixing great The cheese good beef patty also good I got deluxe Since I never fried cheese curd I got side item It reasonably priced combo root beer Service fast food fresh hot But kicker looked nutrional information lunch I felt like I could get office chair This combo fat sodium Even watch eat number scare hell To put perspective diet call sodium DAILY I could gone gotten animal style fry saved gram fat saved sodium I could ordered quarter pounder cheese large fry still eaten fewer gram fat sodium Now see exactly bad burger Imagine I gotten bacon cheeseburger custard dessert That another gram fat We talking triple digit Scary I like splurge occasion great food Unfortunately caloric catastrophe simply worth It good burger definitely better typical fast food come These number beyond reasonable To fair fried cheese curd constituted fat alone Now I first time life I say I enjoyed They almost good fried mozzarella I still prefer Italian version Wisconsin want splurge enjoy custard I excellent especially vanilla But want blow diet even though food decent somewhere',\n",
              " 'A pricy place grab bite The plating food beautiful portion little small money The restaurant beautifully decorated I could barely hold conversation noise I taken aback loud There DJ spinning well put nicely I fan The noise volume absolutely smothered meal destroyed atmosphere',\n",
              " 'find store hit miss special stuff like amaaaaazing otherwise always leave feeling like decent organic section enough turnover ensure fresh quality produce always available section good selection price deli section exceptional sandwich meat cheese fresh fish meat great catch sale also like side store pricey good quality item',\n",
              " 'This located downtown Phoenix Heritage Square little area preserve Phoenix Victorian past converted house It located directly across infamous Pizzeria Bianco either blessing curse depending look On particular night went thinking might want wait line Pizzeria Bianco ultimately deciding hungry stick sense Rose Crown greatly benefited location across PB It lured u away best pizza ever convincing u sit patio chow roast beef slider vodka soda That said really enjoyed There something really homey relaxing sitting patio even go inside sipping cold drink looking around Victorian home The service friendly although bit slow time definitely would stayed lot longer outside',\n",
              " 'I blonde hair u know tricky get exact shade blonde want But alyse got first try I seeing almost year never happier Just recently told extentions I got even love hair I would reccommend Alyse anyone young old male female dog ect I sent close friend well also love hair Well done Alyse',\n",
              " 'I went Celsius first opened I impressed Unfortunately I think gone hill bit since It probably around year since initial visit I handful time since eat take say recent experience average The service ridiculously slow quality roll ordered mediocre I friend food came different time We server taking care u even two could manage keep water filled We ordered variety sushi including order salmon sashimi spicy tuna handroll tuna maki roll futomaki another specialty roll We also couple miso soup salad love sushi rare allow extra sushi go waste last night none u wanted finish extra piece lay table front u I think sign amazing place packed nice patio Celsius could probably stand brush service I ca complain much though total u bad sushi However I probably rush back Celsius I would probably choose go Malee Pure Sushi Brokers returning It bad average blah mediocre I think get point']"
            ]
          },
          "metadata": {
            "tags": []
          },
          "execution_count": 10
        }
      ]
    },
    {
      "metadata": {
        "id": "Gsa6J5nEDFZv",
        "colab_type": "code",
        "colab": {
          "autoexec": {
            "startup": false,
            "wait_interval": 0
          }
        }
      },
      "cell_type": "code",
      "source": [
        "def sparse_to_dataframe(vectorizer, matrix):\n",
        "    vocab = vectorizer.vocabulary_\n",
        "    columns = [' ' for _ in range(len(vocab))]\n",
        "    for word, number in vocab.items():\n",
        "        columns[number] = word\n",
        "\n",
        "    df = pd.DataFrame(matrix.todense(), columns=columns)\n",
        "    return df"
      ],
      "execution_count": 0,
      "outputs": []
    },
    {
      "metadata": {
        "id": "MXBDrBpeCPnH",
        "colab_type": "text"
      },
      "cell_type": "markdown",
      "source": [
        "### Document Term Matrix"
      ]
    },
    {
      "metadata": {
        "id": "l3gsYrZlC1Pu",
        "colab_type": "code",
        "colab": {
          "autoexec": {
            "startup": false,
            "wait_interval": 0
          }
        }
      },
      "cell_type": "code",
      "source": [
        "max_features = 1000"
      ],
      "execution_count": 0,
      "outputs": []
    },
    {
      "metadata": {
        "id": "MTum2aAFCXbY",
        "colab_type": "code",
        "colab": {
          "autoexec": {
            "startup": false,
            "wait_interval": 0
          }
        }
      },
      "cell_type": "code",
      "source": [
        "vectorizer = CountVectorizer(max_features=max_features)\n",
        "document_term_matrix = vectorizer.fit_transform(restaurant_corpus)"
      ],
      "execution_count": 0,
      "outputs": []
    },
    {
      "metadata": {
        "id": "qiRW5iRjDHsT",
        "colab_type": "code",
        "colab": {
          "autoexec": {
            "startup": false,
            "wait_interval": 0
          },
          "base_uri": "https://localhost:8080/",
          "height": 233
        },
        "outputId": "009797f9-7ca3-4110-b444-f6faa5c3bb9d",
        "executionInfo": {
          "status": "ok",
          "timestamp": 1529081076963,
          "user_tz": 420,
          "elapsed": 402,
          "user": {
            "displayName": "Ray Heberer",
            "photoUrl": "//lh4.googleusercontent.com/-BMlr5I5Dhow/AAAAAAAAAAI/AAAAAAAAABc/XW4PF5A8K2Q/s50-c-k-no/photo.jpg",
            "userId": "116545933704048584401"
          }
        }
      },
      "cell_type": "code",
      "source": [
        "sparse_to_dataframe(vectorizer, document_term_matrix).head()"
      ],
      "execution_count": 14,
      "outputs": [
        {
          "output_type": "execute_result",
          "data": {
            "text/html": [
              "<div>\n",
              "<style scoped>\n",
              "    .dataframe tbody tr th:only-of-type {\n",
              "        vertical-align: middle;\n",
              "    }\n",
              "\n",
              "    .dataframe tbody tr th {\n",
              "        vertical-align: top;\n",
              "    }\n",
              "\n",
              "    .dataframe thead th {\n",
              "        text-align: right;\n",
              "    }\n",
              "</style>\n",
              "<table border=\"1\" class=\"dataframe\">\n",
              "  <thead>\n",
              "    <tr style=\"text-align: right;\">\n",
              "      <th></th>\n",
              "      <th>able</th>\n",
              "      <th>absolutely</th>\n",
              "      <th>across</th>\n",
              "      <th>actual</th>\n",
              "      <th>actually</th>\n",
              "      <th>add</th>\n",
              "      <th>added</th>\n",
              "      <th>addition</th>\n",
              "      <th>after</th>\n",
              "      <th>afternoon</th>\n",
              "      <th>...</th>\n",
              "      <th>year</th>\n",
              "      <th>yelp</th>\n",
              "      <th>yes</th>\n",
              "      <th>yesterday</th>\n",
              "      <th>yet</th>\n",
              "      <th>yogurt</th>\n",
              "      <th>you</th>\n",
              "      <th>young</th>\n",
              "      <th>yum</th>\n",
              "      <th>yummy</th>\n",
              "    </tr>\n",
              "  </thead>\n",
              "  <tbody>\n",
              "    <tr>\n",
              "      <th>0</th>\n",
              "      <td>0</td>\n",
              "      <td>0</td>\n",
              "      <td>0</td>\n",
              "      <td>0</td>\n",
              "      <td>0</td>\n",
              "      <td>0</td>\n",
              "      <td>0</td>\n",
              "      <td>0</td>\n",
              "      <td>0</td>\n",
              "      <td>0</td>\n",
              "      <td>...</td>\n",
              "      <td>0</td>\n",
              "      <td>0</td>\n",
              "      <td>0</td>\n",
              "      <td>0</td>\n",
              "      <td>0</td>\n",
              "      <td>0</td>\n",
              "      <td>0</td>\n",
              "      <td>0</td>\n",
              "      <td>0</td>\n",
              "      <td>0</td>\n",
              "    </tr>\n",
              "    <tr>\n",
              "      <th>1</th>\n",
              "      <td>0</td>\n",
              "      <td>0</td>\n",
              "      <td>0</td>\n",
              "      <td>0</td>\n",
              "      <td>0</td>\n",
              "      <td>0</td>\n",
              "      <td>0</td>\n",
              "      <td>0</td>\n",
              "      <td>0</td>\n",
              "      <td>0</td>\n",
              "      <td>...</td>\n",
              "      <td>0</td>\n",
              "      <td>0</td>\n",
              "      <td>0</td>\n",
              "      <td>0</td>\n",
              "      <td>0</td>\n",
              "      <td>0</td>\n",
              "      <td>0</td>\n",
              "      <td>0</td>\n",
              "      <td>0</td>\n",
              "      <td>0</td>\n",
              "    </tr>\n",
              "    <tr>\n",
              "      <th>2</th>\n",
              "      <td>0</td>\n",
              "      <td>0</td>\n",
              "      <td>0</td>\n",
              "      <td>0</td>\n",
              "      <td>0</td>\n",
              "      <td>0</td>\n",
              "      <td>0</td>\n",
              "      <td>0</td>\n",
              "      <td>1</td>\n",
              "      <td>0</td>\n",
              "      <td>...</td>\n",
              "      <td>0</td>\n",
              "      <td>0</td>\n",
              "      <td>0</td>\n",
              "      <td>0</td>\n",
              "      <td>0</td>\n",
              "      <td>0</td>\n",
              "      <td>1</td>\n",
              "      <td>0</td>\n",
              "      <td>0</td>\n",
              "      <td>0</td>\n",
              "    </tr>\n",
              "    <tr>\n",
              "      <th>3</th>\n",
              "      <td>0</td>\n",
              "      <td>1</td>\n",
              "      <td>0</td>\n",
              "      <td>0</td>\n",
              "      <td>0</td>\n",
              "      <td>0</td>\n",
              "      <td>0</td>\n",
              "      <td>0</td>\n",
              "      <td>1</td>\n",
              "      <td>0</td>\n",
              "      <td>...</td>\n",
              "      <td>0</td>\n",
              "      <td>0</td>\n",
              "      <td>0</td>\n",
              "      <td>0</td>\n",
              "      <td>0</td>\n",
              "      <td>0</td>\n",
              "      <td>1</td>\n",
              "      <td>0</td>\n",
              "      <td>0</td>\n",
              "      <td>0</td>\n",
              "    </tr>\n",
              "    <tr>\n",
              "      <th>4</th>\n",
              "      <td>0</td>\n",
              "      <td>0</td>\n",
              "      <td>0</td>\n",
              "      <td>0</td>\n",
              "      <td>0</td>\n",
              "      <td>0</td>\n",
              "      <td>0</td>\n",
              "      <td>0</td>\n",
              "      <td>0</td>\n",
              "      <td>0</td>\n",
              "      <td>...</td>\n",
              "      <td>0</td>\n",
              "      <td>0</td>\n",
              "      <td>0</td>\n",
              "      <td>0</td>\n",
              "      <td>0</td>\n",
              "      <td>0</td>\n",
              "      <td>0</td>\n",
              "      <td>0</td>\n",
              "      <td>0</td>\n",
              "      <td>0</td>\n",
              "    </tr>\n",
              "  </tbody>\n",
              "</table>\n",
              "<p>5 rows × 1000 columns</p>\n",
              "</div>"
            ],
            "text/plain": [
              "   able  absolutely  across  actual  actually  add  added  addition  after  \\\n",
              "0     0           0       0       0         0    0      0         0      0   \n",
              "1     0           0       0       0         0    0      0         0      0   \n",
              "2     0           0       0       0         0    0      0         0      1   \n",
              "3     0           1       0       0         0    0      0         0      1   \n",
              "4     0           0       0       0         0    0      0         0      0   \n",
              "\n",
              "   afternoon  ...    year  yelp  yes  yesterday  yet  yogurt  you  young  yum  \\\n",
              "0          0  ...       0     0    0          0    0       0    0      0    0   \n",
              "1          0  ...       0     0    0          0    0       0    0      0    0   \n",
              "2          0  ...       0     0    0          0    0       0    1      0    0   \n",
              "3          0  ...       0     0    0          0    0       0    1      0    0   \n",
              "4          0  ...       0     0    0          0    0       0    0      0    0   \n",
              "\n",
              "   yummy  \n",
              "0      0  \n",
              "1      0  \n",
              "2      0  \n",
              "3      0  \n",
              "4      0  \n",
              "\n",
              "[5 rows x 1000 columns]"
            ]
          },
          "metadata": {
            "tags": []
          },
          "execution_count": 14
        }
      ]
    },
    {
      "metadata": {
        "id": "ZJI3ephZCQ9d",
        "colab_type": "text"
      },
      "cell_type": "markdown",
      "source": [
        "### Bigram Matrix"
      ]
    },
    {
      "metadata": {
        "id": "MGl3LSY6DQ_g",
        "colab_type": "code",
        "colab": {
          "autoexec": {
            "startup": false,
            "wait_interval": 0
          }
        }
      },
      "cell_type": "code",
      "source": [
        "bigram_vectorizer = CountVectorizer(max_features=max_features, \n",
        "                                    ngram_range=(2,2))\n",
        "\n",
        "bigram_matrix = bigram_vectorizer.fit_transform(restaurant_corpus)"
      ],
      "execution_count": 0,
      "outputs": []
    },
    {
      "metadata": {
        "id": "uBah31OgDbCO",
        "colab_type": "code",
        "colab": {
          "autoexec": {
            "startup": false,
            "wait_interval": 0
          },
          "base_uri": "https://localhost:8080/",
          "height": 250
        },
        "outputId": "7cdc241a-b2c8-4684-dad0-7c2a276af8af",
        "executionInfo": {
          "status": "ok",
          "timestamp": 1529081080154,
          "user_tz": 420,
          "elapsed": 525,
          "user": {
            "displayName": "Ray Heberer",
            "photoUrl": "//lh4.googleusercontent.com/-BMlr5I5Dhow/AAAAAAAAAAI/AAAAAAAAABc/XW4PF5A8K2Q/s50-c-k-no/photo.jpg",
            "userId": "116545933704048584401"
          }
        }
      },
      "cell_type": "code",
      "source": [
        "sparse_to_dataframe(bigram_vectorizer, bigram_matrix).head()"
      ],
      "execution_count": 16,
      "outputs": [
        {
          "output_type": "execute_result",
          "data": {
            "text/html": [
              "<div>\n",
              "<style scoped>\n",
              "    .dataframe tbody tr th:only-of-type {\n",
              "        vertical-align: middle;\n",
              "    }\n",
              "\n",
              "    .dataframe tbody tr th {\n",
              "        vertical-align: top;\n",
              "    }\n",
              "\n",
              "    .dataframe thead th {\n",
              "        text-align: right;\n",
              "    }\n",
              "</style>\n",
              "<table border=\"1\" class=\"dataframe\">\n",
              "  <thead>\n",
              "    <tr style=\"text-align: right;\">\n",
              "      <th></th>\n",
              "      <th>able find</th>\n",
              "      <th>absolutely love</th>\n",
              "      <th>across street</th>\n",
              "      <th>advance health</th>\n",
              "      <th>almost every</th>\n",
              "      <th>also get</th>\n",
              "      <th>also give</th>\n",
              "      <th>also good</th>\n",
              "      <th>also great</th>\n",
              "      <th>also ordered</th>\n",
              "      <th>...</th>\n",
              "      <th>would say</th>\n",
              "      <th>would take</th>\n",
              "      <th>write review</th>\n",
              "      <th>year ago</th>\n",
              "      <th>year old</th>\n",
              "      <th>yelp review</th>\n",
              "      <th>you ca</th>\n",
              "      <th>you could</th>\n",
              "      <th>you get</th>\n",
              "      <th>you know</th>\n",
              "    </tr>\n",
              "  </thead>\n",
              "  <tbody>\n",
              "    <tr>\n",
              "      <th>0</th>\n",
              "      <td>0</td>\n",
              "      <td>0</td>\n",
              "      <td>0</td>\n",
              "      <td>0</td>\n",
              "      <td>0</td>\n",
              "      <td>0</td>\n",
              "      <td>0</td>\n",
              "      <td>0</td>\n",
              "      <td>0</td>\n",
              "      <td>0</td>\n",
              "      <td>...</td>\n",
              "      <td>0</td>\n",
              "      <td>0</td>\n",
              "      <td>0</td>\n",
              "      <td>0</td>\n",
              "      <td>0</td>\n",
              "      <td>0</td>\n",
              "      <td>0</td>\n",
              "      <td>0</td>\n",
              "      <td>0</td>\n",
              "      <td>0</td>\n",
              "    </tr>\n",
              "    <tr>\n",
              "      <th>1</th>\n",
              "      <td>0</td>\n",
              "      <td>0</td>\n",
              "      <td>0</td>\n",
              "      <td>0</td>\n",
              "      <td>0</td>\n",
              "      <td>0</td>\n",
              "      <td>0</td>\n",
              "      <td>0</td>\n",
              "      <td>0</td>\n",
              "      <td>0</td>\n",
              "      <td>...</td>\n",
              "      <td>0</td>\n",
              "      <td>0</td>\n",
              "      <td>0</td>\n",
              "      <td>0</td>\n",
              "      <td>0</td>\n",
              "      <td>0</td>\n",
              "      <td>0</td>\n",
              "      <td>0</td>\n",
              "      <td>0</td>\n",
              "      <td>0</td>\n",
              "    </tr>\n",
              "    <tr>\n",
              "      <th>2</th>\n",
              "      <td>0</td>\n",
              "      <td>0</td>\n",
              "      <td>0</td>\n",
              "      <td>0</td>\n",
              "      <td>0</td>\n",
              "      <td>0</td>\n",
              "      <td>0</td>\n",
              "      <td>0</td>\n",
              "      <td>0</td>\n",
              "      <td>0</td>\n",
              "      <td>...</td>\n",
              "      <td>0</td>\n",
              "      <td>0</td>\n",
              "      <td>0</td>\n",
              "      <td>0</td>\n",
              "      <td>0</td>\n",
              "      <td>0</td>\n",
              "      <td>0</td>\n",
              "      <td>0</td>\n",
              "      <td>0</td>\n",
              "      <td>0</td>\n",
              "    </tr>\n",
              "    <tr>\n",
              "      <th>3</th>\n",
              "      <td>0</td>\n",
              "      <td>1</td>\n",
              "      <td>0</td>\n",
              "      <td>0</td>\n",
              "      <td>0</td>\n",
              "      <td>0</td>\n",
              "      <td>0</td>\n",
              "      <td>0</td>\n",
              "      <td>0</td>\n",
              "      <td>0</td>\n",
              "      <td>...</td>\n",
              "      <td>0</td>\n",
              "      <td>0</td>\n",
              "      <td>0</td>\n",
              "      <td>0</td>\n",
              "      <td>0</td>\n",
              "      <td>0</td>\n",
              "      <td>0</td>\n",
              "      <td>0</td>\n",
              "      <td>0</td>\n",
              "      <td>0</td>\n",
              "    </tr>\n",
              "    <tr>\n",
              "      <th>4</th>\n",
              "      <td>0</td>\n",
              "      <td>0</td>\n",
              "      <td>0</td>\n",
              "      <td>0</td>\n",
              "      <td>0</td>\n",
              "      <td>0</td>\n",
              "      <td>0</td>\n",
              "      <td>1</td>\n",
              "      <td>0</td>\n",
              "      <td>0</td>\n",
              "      <td>...</td>\n",
              "      <td>0</td>\n",
              "      <td>0</td>\n",
              "      <td>0</td>\n",
              "      <td>0</td>\n",
              "      <td>0</td>\n",
              "      <td>0</td>\n",
              "      <td>0</td>\n",
              "      <td>0</td>\n",
              "      <td>0</td>\n",
              "      <td>0</td>\n",
              "    </tr>\n",
              "  </tbody>\n",
              "</table>\n",
              "<p>5 rows × 1000 columns</p>\n",
              "</div>"
            ],
            "text/plain": [
              "   able find  absolutely love  across street  advance health  almost every  \\\n",
              "0          0                0              0               0             0   \n",
              "1          0                0              0               0             0   \n",
              "2          0                0              0               0             0   \n",
              "3          0                1              0               0             0   \n",
              "4          0                0              0               0             0   \n",
              "\n",
              "   also get  also give  also good  also great  also ordered    ...     \\\n",
              "0         0          0          0           0             0    ...      \n",
              "1         0          0          0           0             0    ...      \n",
              "2         0          0          0           0             0    ...      \n",
              "3         0          0          0           0             0    ...      \n",
              "4         0          0          1           0             0    ...      \n",
              "\n",
              "   would say  would take  write review  year ago  year old  yelp review  \\\n",
              "0          0           0             0         0         0            0   \n",
              "1          0           0             0         0         0            0   \n",
              "2          0           0             0         0         0            0   \n",
              "3          0           0             0         0         0            0   \n",
              "4          0           0             0         0         0            0   \n",
              "\n",
              "   you ca  you could  you get  you know  \n",
              "0       0          0        0         0  \n",
              "1       0          0        0         0  \n",
              "2       0          0        0         0  \n",
              "3       0          0        0         0  \n",
              "4       0          0        0         0  \n",
              "\n",
              "[5 rows x 1000 columns]"
            ]
          },
          "metadata": {
            "tags": []
          },
          "execution_count": 16
        }
      ]
    },
    {
      "metadata": {
        "id": "COV8pBxJCToc",
        "colab_type": "text"
      },
      "cell_type": "markdown",
      "source": [
        "### TF-IDF Matrix"
      ]
    },
    {
      "metadata": {
        "id": "bIGJ6yO8Dfay",
        "colab_type": "code",
        "colab": {
          "autoexec": {
            "startup": false,
            "wait_interval": 0
          }
        }
      },
      "cell_type": "code",
      "source": [
        "tfidf_vectorizer = TfidfVectorizer(max_features=max_features)\n",
        "tfidf_matrix = tfidf_vectorizer.fit_transform(restaurant_corpus)"
      ],
      "execution_count": 0,
      "outputs": []
    },
    {
      "metadata": {
        "id": "0KBXuEFMD_9u",
        "colab_type": "code",
        "colab": {
          "autoexec": {
            "startup": false,
            "wait_interval": 0
          },
          "base_uri": "https://localhost:8080/",
          "height": 253
        },
        "outputId": "3cf51db7-c676-4944-8fd1-ce4fa842c055",
        "executionInfo": {
          "status": "ok",
          "timestamp": 1529081082869,
          "user_tz": 420,
          "elapsed": 384,
          "user": {
            "displayName": "Ray Heberer",
            "photoUrl": "//lh4.googleusercontent.com/-BMlr5I5Dhow/AAAAAAAAAAI/AAAAAAAAABc/XW4PF5A8K2Q/s50-c-k-no/photo.jpg",
            "userId": "116545933704048584401"
          }
        }
      },
      "cell_type": "code",
      "source": [
        "sparse_to_dataframe(tfidf_vectorizer, tfidf_matrix).head()"
      ],
      "execution_count": 18,
      "outputs": [
        {
          "output_type": "execute_result",
          "data": {
            "text/html": [
              "<div>\n",
              "<style scoped>\n",
              "    .dataframe tbody tr th:only-of-type {\n",
              "        vertical-align: middle;\n",
              "    }\n",
              "\n",
              "    .dataframe tbody tr th {\n",
              "        vertical-align: top;\n",
              "    }\n",
              "\n",
              "    .dataframe thead th {\n",
              "        text-align: right;\n",
              "    }\n",
              "</style>\n",
              "<table border=\"1\" class=\"dataframe\">\n",
              "  <thead>\n",
              "    <tr style=\"text-align: right;\">\n",
              "      <th></th>\n",
              "      <th>able</th>\n",
              "      <th>absolutely</th>\n",
              "      <th>across</th>\n",
              "      <th>actual</th>\n",
              "      <th>actually</th>\n",
              "      <th>add</th>\n",
              "      <th>added</th>\n",
              "      <th>addition</th>\n",
              "      <th>after</th>\n",
              "      <th>afternoon</th>\n",
              "      <th>...</th>\n",
              "      <th>year</th>\n",
              "      <th>yelp</th>\n",
              "      <th>yes</th>\n",
              "      <th>yesterday</th>\n",
              "      <th>yet</th>\n",
              "      <th>yogurt</th>\n",
              "      <th>you</th>\n",
              "      <th>young</th>\n",
              "      <th>yum</th>\n",
              "      <th>yummy</th>\n",
              "    </tr>\n",
              "  </thead>\n",
              "  <tbody>\n",
              "    <tr>\n",
              "      <th>0</th>\n",
              "      <td>0.0</td>\n",
              "      <td>0.000000</td>\n",
              "      <td>0.0</td>\n",
              "      <td>0.0</td>\n",
              "      <td>0.0</td>\n",
              "      <td>0.0</td>\n",
              "      <td>0.0</td>\n",
              "      <td>0.0</td>\n",
              "      <td>0.000000</td>\n",
              "      <td>0.0</td>\n",
              "      <td>...</td>\n",
              "      <td>0.0</td>\n",
              "      <td>0.0</td>\n",
              "      <td>0.0</td>\n",
              "      <td>0.0</td>\n",
              "      <td>0.0</td>\n",
              "      <td>0.0</td>\n",
              "      <td>0.000000</td>\n",
              "      <td>0.0</td>\n",
              "      <td>0.0</td>\n",
              "      <td>0.0</td>\n",
              "    </tr>\n",
              "    <tr>\n",
              "      <th>1</th>\n",
              "      <td>0.0</td>\n",
              "      <td>0.000000</td>\n",
              "      <td>0.0</td>\n",
              "      <td>0.0</td>\n",
              "      <td>0.0</td>\n",
              "      <td>0.0</td>\n",
              "      <td>0.0</td>\n",
              "      <td>0.0</td>\n",
              "      <td>0.000000</td>\n",
              "      <td>0.0</td>\n",
              "      <td>...</td>\n",
              "      <td>0.0</td>\n",
              "      <td>0.0</td>\n",
              "      <td>0.0</td>\n",
              "      <td>0.0</td>\n",
              "      <td>0.0</td>\n",
              "      <td>0.0</td>\n",
              "      <td>0.000000</td>\n",
              "      <td>0.0</td>\n",
              "      <td>0.0</td>\n",
              "      <td>0.0</td>\n",
              "    </tr>\n",
              "    <tr>\n",
              "      <th>2</th>\n",
              "      <td>0.0</td>\n",
              "      <td>0.000000</td>\n",
              "      <td>0.0</td>\n",
              "      <td>0.0</td>\n",
              "      <td>0.0</td>\n",
              "      <td>0.0</td>\n",
              "      <td>0.0</td>\n",
              "      <td>0.0</td>\n",
              "      <td>0.143395</td>\n",
              "      <td>0.0</td>\n",
              "      <td>...</td>\n",
              "      <td>0.0</td>\n",
              "      <td>0.0</td>\n",
              "      <td>0.0</td>\n",
              "      <td>0.0</td>\n",
              "      <td>0.0</td>\n",
              "      <td>0.0</td>\n",
              "      <td>0.110147</td>\n",
              "      <td>0.0</td>\n",
              "      <td>0.0</td>\n",
              "      <td>0.0</td>\n",
              "    </tr>\n",
              "    <tr>\n",
              "      <th>3</th>\n",
              "      <td>0.0</td>\n",
              "      <td>0.056788</td>\n",
              "      <td>0.0</td>\n",
              "      <td>0.0</td>\n",
              "      <td>0.0</td>\n",
              "      <td>0.0</td>\n",
              "      <td>0.0</td>\n",
              "      <td>0.0</td>\n",
              "      <td>0.054264</td>\n",
              "      <td>0.0</td>\n",
              "      <td>...</td>\n",
              "      <td>0.0</td>\n",
              "      <td>0.0</td>\n",
              "      <td>0.0</td>\n",
              "      <td>0.0</td>\n",
              "      <td>0.0</td>\n",
              "      <td>0.0</td>\n",
              "      <td>0.041682</td>\n",
              "      <td>0.0</td>\n",
              "      <td>0.0</td>\n",
              "      <td>0.0</td>\n",
              "    </tr>\n",
              "    <tr>\n",
              "      <th>4</th>\n",
              "      <td>0.0</td>\n",
              "      <td>0.000000</td>\n",
              "      <td>0.0</td>\n",
              "      <td>0.0</td>\n",
              "      <td>0.0</td>\n",
              "      <td>0.0</td>\n",
              "      <td>0.0</td>\n",
              "      <td>0.0</td>\n",
              "      <td>0.000000</td>\n",
              "      <td>0.0</td>\n",
              "      <td>...</td>\n",
              "      <td>0.0</td>\n",
              "      <td>0.0</td>\n",
              "      <td>0.0</td>\n",
              "      <td>0.0</td>\n",
              "      <td>0.0</td>\n",
              "      <td>0.0</td>\n",
              "      <td>0.000000</td>\n",
              "      <td>0.0</td>\n",
              "      <td>0.0</td>\n",
              "      <td>0.0</td>\n",
              "    </tr>\n",
              "  </tbody>\n",
              "</table>\n",
              "<p>5 rows × 1000 columns</p>\n",
              "</div>"
            ],
            "text/plain": [
              "   able  absolutely  across  actual  actually  add  added  addition     after  \\\n",
              "0   0.0    0.000000     0.0     0.0       0.0  0.0    0.0       0.0  0.000000   \n",
              "1   0.0    0.000000     0.0     0.0       0.0  0.0    0.0       0.0  0.000000   \n",
              "2   0.0    0.000000     0.0     0.0       0.0  0.0    0.0       0.0  0.143395   \n",
              "3   0.0    0.056788     0.0     0.0       0.0  0.0    0.0       0.0  0.054264   \n",
              "4   0.0    0.000000     0.0     0.0       0.0  0.0    0.0       0.0  0.000000   \n",
              "\n",
              "   afternoon  ...    year  yelp  yes  yesterday  yet  yogurt       you  young  \\\n",
              "0        0.0  ...     0.0   0.0  0.0        0.0  0.0     0.0  0.000000    0.0   \n",
              "1        0.0  ...     0.0   0.0  0.0        0.0  0.0     0.0  0.000000    0.0   \n",
              "2        0.0  ...     0.0   0.0  0.0        0.0  0.0     0.0  0.110147    0.0   \n",
              "3        0.0  ...     0.0   0.0  0.0        0.0  0.0     0.0  0.041682    0.0   \n",
              "4        0.0  ...     0.0   0.0  0.0        0.0  0.0     0.0  0.000000    0.0   \n",
              "\n",
              "   yum  yummy  \n",
              "0  0.0    0.0  \n",
              "1  0.0    0.0  \n",
              "2  0.0    0.0  \n",
              "3  0.0    0.0  \n",
              "4  0.0    0.0  \n",
              "\n",
              "[5 rows x 1000 columns]"
            ]
          },
          "metadata": {
            "tags": []
          },
          "execution_count": 18
        }
      ]
    },
    {
      "metadata": {
        "id": "vEC8GiPuLMUc",
        "colab_type": "text"
      },
      "cell_type": "markdown",
      "source": [
        "**Question 3: ** \n",
        "\n",
        "**a)** Train the Word2vec model with tokenized content; size of the word vectors is 5; the word should show-up at least once in the raw content\n",
        "\n",
        "**b)** List the number of words in the model's vocabulary\n",
        "\n",
        "**c)**Examine word similarity to the word \"awesome\" and \"loves\"\n",
        "\n",
        "**d)**Consider each review to be a document on its own. Examine document similarity with Doc2vec to any body of text of your choice"
      ]
    },
    {
      "metadata": {
        "id": "NiqzPMyiFoMK",
        "colab_type": "text"
      },
      "cell_type": "markdown",
      "source": [
        "### Word2vec"
      ]
    },
    {
      "metadata": {
        "id": "a1vpsafyK_F9",
        "colab_type": "code",
        "colab": {
          "autoexec": {
            "startup": false,
            "wait_interval": 0
          }
        }
      },
      "cell_type": "code",
      "source": [
        "word2vec_model = gensim.models.Word2Vec(restaurant_tokens, size=5, min_count=1)"
      ],
      "execution_count": 0,
      "outputs": []
    },
    {
      "metadata": {
        "id": "XfifGBZrEz96",
        "colab_type": "code",
        "colab": {
          "autoexec": {
            "startup": false,
            "wait_interval": 0
          },
          "base_uri": "https://localhost:8080/",
          "height": 34
        },
        "outputId": "1a58090c-bb15-4a81-edaf-80e4293377f5",
        "executionInfo": {
          "status": "ok",
          "timestamp": 1529081087326,
          "user_tz": 420,
          "elapsed": 353,
          "user": {
            "displayName": "Ray Heberer",
            "photoUrl": "//lh4.googleusercontent.com/-BMlr5I5Dhow/AAAAAAAAAAI/AAAAAAAAABc/XW4PF5A8K2Q/s50-c-k-no/photo.jpg",
            "userId": "116545933704048584401"
          }
        }
      },
      "cell_type": "code",
      "source": [
        "print('Number of words:', len(word2vec_model.wv.vocab))"
      ],
      "execution_count": 20,
      "outputs": [
        {
          "output_type": "stream",
          "text": [
            "Number of words: 12051\n"
          ],
          "name": "stdout"
        }
      ]
    },
    {
      "metadata": {
        "id": "JLGPRfvwE8u2",
        "colab_type": "code",
        "colab": {
          "autoexec": {
            "startup": false,
            "wait_interval": 0
          },
          "base_uri": "https://localhost:8080/",
          "height": 204
        },
        "outputId": "2eee058f-1159-487c-cf51-0ba3c07d6acf",
        "executionInfo": {
          "status": "ok",
          "timestamp": 1529081088674,
          "user_tz": 420,
          "elapsed": 437,
          "user": {
            "displayName": "Ray Heberer",
            "photoUrl": "//lh4.googleusercontent.com/-BMlr5I5Dhow/AAAAAAAAAAI/AAAAAAAAABc/XW4PF5A8K2Q/s50-c-k-no/photo.jpg",
            "userId": "116545933704048584401"
          }
        }
      },
      "cell_type": "code",
      "source": [
        "print('Similar to \"awesome\"')\n",
        "word2vec_model.wv.most_similar(positive=['awesome'])"
      ],
      "execution_count": 21,
      "outputs": [
        {
          "output_type": "stream",
          "text": [
            "Similar to \"awesome\"\n"
          ],
          "name": "stdout"
        },
        {
          "output_type": "execute_result",
          "data": {
            "text/plain": [
              "[('live', 0.9999657869338989),\n",
              " ('Well', 0.9999562501907349),\n",
              " ('feel', 0.9999301433563232),\n",
              " ('looking', 0.9999288320541382),\n",
              " ('asked', 0.9999165534973145),\n",
              " ('slice', 0.9999029636383057),\n",
              " ('dog', 0.9998955726623535),\n",
              " ('find', 0.9998890161514282),\n",
              " ('enough', 0.9998877048492432),\n",
              " ('space', 0.9998694658279419)]"
            ]
          },
          "metadata": {
            "tags": []
          },
          "execution_count": 21
        }
      ]
    },
    {
      "metadata": {
        "id": "zt1Z8Y2oFgkD",
        "colab_type": "text"
      },
      "cell_type": "markdown",
      "source": [
        "\"loves\" is not in the vocabulary of the model, so I will examine words similar to \"love\"."
      ]
    },
    {
      "metadata": {
        "id": "X8eDAqKFFHb-",
        "colab_type": "code",
        "colab": {
          "autoexec": {
            "startup": false,
            "wait_interval": 0
          },
          "base_uri": "https://localhost:8080/",
          "height": 204
        },
        "outputId": "29412cc0-24c6-458a-a908-c4500c53f583",
        "executionInfo": {
          "status": "ok",
          "timestamp": 1529081090047,
          "user_tz": 420,
          "elapsed": 411,
          "user": {
            "displayName": "Ray Heberer",
            "photoUrl": "//lh4.googleusercontent.com/-BMlr5I5Dhow/AAAAAAAAAAI/AAAAAAAAABc/XW4PF5A8K2Q/s50-c-k-no/photo.jpg",
            "userId": "116545933704048584401"
          }
        }
      },
      "cell_type": "code",
      "source": [
        "print('Similar to \"love\"')\n",
        "word2vec_model.wv.most_similar(positive=['love'])"
      ],
      "execution_count": 22,
      "outputs": [
        {
          "output_type": "stream",
          "text": [
            "Similar to \"love\"\n"
          ],
          "name": "stdout"
        },
        {
          "output_type": "execute_result",
          "data": {
            "text/plain": [
              "[('Square', 0.9999426007270813),\n",
              " ('highly', 0.9999388456344604),\n",
              " ('went', 0.9998972415924072),\n",
              " ('pizza', 0.999876856803894),\n",
              " ('grab', 0.9998564124107361),\n",
              " ('chain', 0.9998213052749634),\n",
              " ('surprised', 0.9998061060905457),\n",
              " ('issue', 0.9997873902320862),\n",
              " ('Im', 0.9997825622558594),\n",
              " ('immediately', 0.9997657537460327)]"
            ]
          },
          "metadata": {
            "tags": []
          },
          "execution_count": 22
        }
      ]
    },
    {
      "metadata": {
        "id": "6i373uHiFqGx",
        "colab_type": "text"
      },
      "cell_type": "markdown",
      "source": [
        "### Doc2vec"
      ]
    },
    {
      "metadata": {
        "id": "rI3MbYLIGa-s",
        "colab_type": "code",
        "colab": {
          "autoexec": {
            "startup": false,
            "wait_interval": 0
          },
          "base_uri": "https://localhost:8080/",
          "height": 204
        },
        "outputId": "41e008ae-fe78-485c-8067-1027cddb627b",
        "executionInfo": {
          "status": "ok",
          "timestamp": 1529081092811,
          "user_tz": 420,
          "elapsed": 1672,
          "user": {
            "displayName": "Ray Heberer",
            "photoUrl": "//lh4.googleusercontent.com/-BMlr5I5Dhow/AAAAAAAAAAI/AAAAAAAAABc/XW4PF5A8K2Q/s50-c-k-no/photo.jpg",
            "userId": "116545933704048584401"
          }
        }
      },
      "cell_type": "code",
      "source": [
        "!wget https://raw.githubusercontent.com/PedramNavid/trump_speeches/master/data/speech_70.txt"
      ],
      "execution_count": 23,
      "outputs": [
        {
          "output_type": "stream",
          "text": [
            "--2018-06-15 16:44:53--  https://raw.githubusercontent.com/PedramNavid/trump_speeches/master/data/speech_70.txt\r\n",
            "Resolving raw.githubusercontent.com (raw.githubusercontent.com)... 151.101.0.133, 151.101.64.133, 151.101.128.133, ...\r\n",
            "Connecting to raw.githubusercontent.com (raw.githubusercontent.com)|151.101.0.133|:443... connected.\n",
            "HTTP request sent, awaiting response... 200 OK\n",
            "Length: 21652 (21K) [text/plain]\n",
            "Saving to: ‘speech_70.txt.1’\n",
            "\n",
            "speech_70.txt.1     100%[===================>]  21.14K  --.-KB/s    in 0.01s   \n",
            "\n",
            "2018-06-15 16:44:53 (1.61 MB/s) - ‘speech_70.txt.1’ saved [21652/21652]\n",
            "\n"
          ],
          "name": "stdout"
        }
      ]
    },
    {
      "metadata": {
        "id": "-gW0T5N1GmXS",
        "colab_type": "code",
        "colab": {
          "autoexec": {
            "startup": false,
            "wait_interval": 0
          }
        }
      },
      "cell_type": "code",
      "source": [
        "def cleaned_text(text):\n",
        "    punctuation = ['!', ',', '.', ':', ';', '?']\n",
        "    lowercase = 'abcdefghijklmnopqrstuvwxyz'\n",
        "    \n",
        "    for char in set(text):\n",
        "        if char not in punctuation and char not in lowercase:\n",
        "            text = text.replace(char, ' ')\n",
        "\n",
        "    return text"
      ],
      "execution_count": 0,
      "outputs": []
    },
    {
      "metadata": {
        "id": "-f3RbXpLGm38",
        "colab_type": "code",
        "colab": {
          "autoexec": {
            "startup": false,
            "wait_interval": 0
          },
          "base_uri": "https://localhost:8080/",
          "height": 34
        },
        "outputId": "06ef241d-3be8-42ac-ab08-38118c745289",
        "executionInfo": {
          "status": "ok",
          "timestamp": 1529081095704,
          "user_tz": 420,
          "elapsed": 370,
          "user": {
            "displayName": "Ray Heberer",
            "photoUrl": "//lh4.googleusercontent.com/-BMlr5I5Dhow/AAAAAAAAAAI/AAAAAAAAABc/XW4PF5A8K2Q/s50-c-k-no/photo.jpg",
            "userId": "116545933704048584401"
          }
        }
      },
      "cell_type": "code",
      "source": [
        "query_doc = open('speech_70.txt').read().lower()\n",
        "query_doc = cleaned_text(query_doc)\n",
        "\n",
        "print(query_doc[:100])"
      ],
      "execution_count": 25,
      "outputs": [
        {
          "output_type": "stream",
          "text": [
            "remarks at the central florida fairgrounds in orlando, florida thank you, everybody, thank you. wow.\n"
          ],
          "name": "stdout"
        }
      ]
    },
    {
      "metadata": {
        "id": "Zn5zuIZSF6ei",
        "colab_type": "code",
        "colab": {
          "autoexec": {
            "startup": false,
            "wait_interval": 0
          },
          "base_uri": "https://localhost:8080/",
          "height": 122
        },
        "outputId": "37151395-4584-4040-9ae5-9d423148f299",
        "executionInfo": {
          "status": "ok",
          "timestamp": 1529081097001,
          "user_tz": 420,
          "elapsed": 583,
          "user": {
            "displayName": "Ray Heberer",
            "photoUrl": "//lh4.googleusercontent.com/-BMlr5I5Dhow/AAAAAAAAAAI/AAAAAAAAABc/XW4PF5A8K2Q/s50-c-k-no/photo.jpg",
            "userId": "116545933704048584401"
          }
        }
      },
      "cell_type": "code",
      "source": [
        "doc_corpus = [gensim.models.doc2vec.TaggedDocument(doc, [i])\n",
        "              for i, doc in enumerate(restaurant_tokens)]\n",
        "\n",
        "doc_corpus[:5]"
      ],
      "execution_count": 26,
      "outputs": [
        {
          "output_type": "execute_result",
          "data": {
            "text/plain": [
              "[TaggedDocument(words=['My', 'son', 'love', 'place', 'Weird', 'ask', 'come', 'everytime', 'go', 'grocery', 'shopping', 'bribe', 'even', 'care', 'go', 'Toys', 'R', 'Us', 'Not', 'complaining', 'I', 'little', 'knick', 'knack', 'quite', 'selection', 'little', 'travel', 'toy', 'educational', 'material', 'kid', 'holiday', 'stuff', 'I', 'bought', 'couple', 'red', 'bow', 'brass', 'jingle', 'wreath', 'put', 'porch', 'light', 'Why', 'cheap', 'end', 'spending'], tags=[0]),\n",
              " TaggedDocument(words=['We', 'gave', 'make', 'star', 'To', 'start', 'beautiful', 'lucked', 'outside', 'heater', 'next', 'roaring', 'fireplace', 'The', 'service', 'could', 'better', 'thanks', 'YELPing', 'friend', 'hardly', 'needed', 'menu', 'The', 'Portugese', 'clam', 'soup', 'though', 'salty', 'side', 'The', 'pork', 'belly', 'steak', 'taco', 'top', 'We', 'gave', 'dish', 'Margaritas', 'awesome', 'Smokehouse', 'Pomogranite', 'short', 'glass', 'It', 'long', 'time', 'since', 'solid', 'Thanks', 'guy', 'Oh', 'table', 'guac', 'must', 'PS', 'get', 'bread', 'pudding', 'get', 'sauce', 'side', 'It', 'top', 'sweet', 'My', 'pancreas', 'running', 'lap', 'right'], tags=[1]),\n",
              " TaggedDocument(words=['After', 'three', 'lunch', 'visit', 'I', 'come', 'conclusion', 'restaurant', 'fare', 'ok', 'book', 'I', 'probably', 'back', 'ca', 'guarantee', 'many', 'place', 'walking', 'quickly', 'politey', 'greeted', 'taken', 'table', 'You', 'notice', 'decor', 'nice', 'somewhat', 'cluttered', 'I', 'fan', 'thing', 'put', 'right', 'place', 'Maybe', 'price', 'lunch', 'come', 'quickly', 'expected', 'I', 'hoping', 'little', 'love', 'put', 'food', 'tongue', 'telling', 'little', 'bland', 'Each', 'visit', 'I', 'tried', 'different', 'item', 'menu', 'almost', 'tasted', 'place', 'serf', 'purpose', 'quick', 'hot', 'inexpensive', 'meal', 'typical'], tags=[2]),\n",
              " TaggedDocument(words=['What', 'started', 'simple', 'attempt', 'find', 'perfect', 'birthday', 'present', 'turned', 'relationship', 'fantastic', 'jeweler', 'wanted', 'get', 'girlfriend', 'time', 'simple', 'diamond', 'pendant', 'necklace', 'birthday', 'could', 'find', 'anything', 'even', 'came', 'close', 'matching', 'style', 'I', 'searched', 'internet', 'day', 'reluctantly', 'went', 'jewelry', 'store', 'hoping', 'best', 'expecting', 'worst', 'I', 'like', 'people', 'guy', 'bad', 'feeling', 'store', 'I', 'went', 'Pushy', 'sale', 'people', 'looking', 'upsale', 'sky', 'high', 'price', 'I', 'getting', 'discouraged', 'process', 'changed', 'I', 'came', 'Hyde', 'Park', 'super', 'friendly', 'staff', 'made', 'everything', 'easy', 'There', 'pushy', 'sale', 'process', 'anyone', 'trying', 'upsell', 'something', 'I', 'want', 'They', 'immediately', 'offered', 'bottle', 'water', 'started', 'talk', 'like', 'real', 'person', 'After', 'minute', 'speaking', 'lovely', 'woman', 'store', 'suggested', 'think', 'something', 'custom', 'At', 'first', 'I', 'thinking', 'go', 'I', 'going', 'get', 'stuck', 'I', 'wrong', 'looked', 'loose', 'stone', 'I', 'got', 'great', 'education', 'diamond', 'I', 'went', 'home', 'later', 'night', 'research', 'internet', 'found', 'price', 'good', 'better', 'big', 'online', 'retailer', 'I', 'could', 'never', 'get', 'head', 'wrapped', 'around', 'buying', 'diamond', 'online', 'sight', 'unseen', 'I', 'glad', 'I', 'found', 'Hyde', 'Park', 'end', 'I', 'used', 'Hyde', 'Park', 'create', 'custom', 'pendant', 'diamond', 'necklace', 'absolutely', 'love', 'perfect', 'I', 'also', 'used', 'Hyde', 'Park', 'get', 'diamond', 'engagement', 'ring', 'well', 'everything', 'else', 'follow', 'know', 'service', 'jewelry', 'business', 'check', 'Hyde', 'Park', 'I', 'picked', 'amazing', 'diamond', 'engagement', 'ring', 'chose', 'loose', 'stone', 'idea', 'kind', 'ring', 'would', 'want', 'So', 'Hyde', 'Park', 'said', 'put', 'classic', 'Tiffany', 'solitaire', 'setting', 'temporary', 'setting', 'give', 'come', 'back', 'together', 'pick', 'perfect', 'setting', 'wedding', 'band', 'I', 'like', 'seriously', 'You', 'end', 'Hyde', 'Park', 'jeweler', 'life', 'They', 'helped', 'create', 'perfect', 'simple', 'birthday', 'present', 'took', 'service', 'way', 'custom', 'engagement', 'ring', 'matching', 'wedding', 'band', 'set', 'This', 'jewelry', 'store', 'guy', 'want', 'great', 'service', 'great', 'price', 'like', 'first', 'clue', 'make', 'perfect', 'decision', 'Just', 'let', 'Hyde', 'Park', 'take', 'stress', 'like'], tags=[3]),\n",
              " TaggedDocument(words=['If', 'Culver', 'every', 'street', 'corner', 'cardiologist', 'would', 'twice', 'much', 'went', 'first', 'time', 'today', 'lunch', 'I', 'hoping', 'good', 'burger', 'I', 'got', 'wish', 'soft', 'bun', 'red', 'onion', 'lettuce', 'fresh', 'tomato', 'fixing', 'great', 'The', 'cheese', 'good', 'beef', 'patty', 'also', 'good', 'I', 'got', 'deluxe', 'Since', 'I', 'never', 'fried', 'cheese', 'curd', 'I', 'got', 'side', 'item', 'It', 'reasonably', 'priced', 'combo', 'root', 'beer', 'Service', 'fast', 'food', 'fresh', 'hot', 'But', 'kicker', 'looked', 'nutrional', 'information', 'lunch', 'I', 'felt', 'like', 'I', 'could', 'get', 'office', 'chair', 'This', 'combo', 'fat', 'sodium', 'Even', 'watch', 'eat', 'number', 'scare', 'hell', 'To', 'put', 'perspective', 'diet', 'call', 'sodium', 'DAILY', 'I', 'could', 'gone', 'gotten', 'animal', 'style', 'fry', 'saved', 'gram', 'fat', 'saved', 'sodium', 'I', 'could', 'ordered', 'quarter', 'pounder', 'cheese', 'large', 'fry', 'still', 'eaten', 'fewer', 'gram', 'fat', 'sodium', 'Now', 'see', 'exactly', 'bad', 'burger', 'Imagine', 'I', 'gotten', 'bacon', 'cheeseburger', 'custard', 'dessert', 'That', 'another', 'gram', 'fat', 'We', 'talking', 'triple', 'digit', 'Scary', 'I', 'like', 'splurge', 'occasion', 'great', 'food', 'Unfortunately', 'caloric', 'catastrophe', 'simply', 'worth', 'It', 'good', 'burger', 'definitely', 'better', 'typical', 'fast', 'food', 'come', 'These', 'number', 'beyond', 'reasonable', 'To', 'fair', 'fried', 'cheese', 'curd', 'constituted', 'fat', 'alone', 'Now', 'I', 'first', 'time', 'life', 'I', 'say', 'I', 'enjoyed', 'They', 'almost', 'good', 'fried', 'mozzarella', 'I', 'still', 'prefer', 'Italian', 'version', 'Wisconsin', 'want', 'splurge', 'enjoy', 'custard', 'I', 'excellent', 'especially', 'vanilla', 'But', 'want', 'blow', 'diet', 'even', 'though', 'food', 'decent', 'somewhere'], tags=[4])]"
            ]
          },
          "metadata": {
            "tags": []
          },
          "execution_count": 26
        }
      ]
    },
    {
      "metadata": {
        "id": "nfcT6d9FGSqr",
        "colab_type": "code",
        "colab": {
          "autoexec": {
            "startup": false,
            "wait_interval": 0
          }
        }
      },
      "cell_type": "code",
      "source": [
        "doc2vec_model = gensim.models.Doc2Vec(doc_corpus, \n",
        "                                      vector_size=200, \n",
        "                                      min_count=5,\n",
        "                                      seed=42)"
      ],
      "execution_count": 0,
      "outputs": []
    },
    {
      "metadata": {
        "id": "16ek4eUuG3Mz",
        "colab_type": "code",
        "colab": {
          "autoexec": {
            "startup": false,
            "wait_interval": 0
          },
          "base_uri": "https://localhost:8080/",
          "height": 34
        },
        "outputId": "38ae5208-3a1b-4dd9-e078-2266b5457873",
        "executionInfo": {
          "status": "ok",
          "timestamp": 1529081120326,
          "user_tz": 420,
          "elapsed": 1153,
          "user": {
            "displayName": "Ray Heberer",
            "photoUrl": "//lh4.googleusercontent.com/-BMlr5I5Dhow/AAAAAAAAAAI/AAAAAAAAABc/XW4PF5A8K2Q/s50-c-k-no/photo.jpg",
            "userId": "116545933704048584401"
          }
        }
      },
      "cell_type": "code",
      "source": [
        "vocab = list(doc2vec_model.wv.vocab)\n",
        "query_doc = [w for w in query_doc if w in vocab]\n",
        "query_doc = doc2vec_model.infer_vector(query_doc)\n",
        "\n",
        "similar_docs = doc2vec_model.docvecs.most_similar([query_doc])\n",
        "similar_docs[0]"
      ],
      "execution_count": 30,
      "outputs": [
        {
          "output_type": "execute_result",
          "data": {
            "text/plain": [
              "(523, 0.0909188836812973)"
            ]
          },
          "metadata": {
            "tags": []
          },
          "execution_count": 30
        }
      ]
    },
    {
      "metadata": {
        "id": "xdwZZT2nHD86",
        "colab_type": "code",
        "colab": {
          "autoexec": {
            "startup": false,
            "wait_interval": 0
          },
          "base_uri": "https://localhost:8080/",
          "height": 54
        },
        "outputId": "11ceb6fd-fee9-4701-d332-be34c042afe7",
        "executionInfo": {
          "status": "ok",
          "timestamp": 1529081124646,
          "user_tz": 420,
          "elapsed": 423,
          "user": {
            "displayName": "Ray Heberer",
            "photoUrl": "//lh4.googleusercontent.com/-BMlr5I5Dhow/AAAAAAAAAAI/AAAAAAAAABc/XW4PF5A8K2Q/s50-c-k-no/photo.jpg",
            "userId": "116545933704048584401"
          }
        }
      },
      "cell_type": "code",
      "source": [
        "doc_corpus[523]"
      ],
      "execution_count": 31,
      "outputs": [
        {
          "output_type": "execute_result",
          "data": {
            "text/plain": [
              "TaggedDocument(words=['Friendly', 'service', 'I', 'enjoyed', 'food', 'I', 'like', 'go', 'back', 'try', 'item', 'right', 'I', 'kinda', 'perturbed', 'This', 'dumb', 'could', 'ever', 'think', 'putting', 'door', 'bathroo'], tags=[523])"
            ]
          },
          "metadata": {
            "tags": []
          },
          "execution_count": 31
        }
      ]
    },
    {
      "metadata": {
        "id": "n1_SZbC9H3E0",
        "colab_type": "code",
        "colab": {
          "autoexec": {
            "startup": false,
            "wait_interval": 0
          },
          "base_uri": "https://localhost:8080/",
          "height": 54
        },
        "outputId": "61c52fd2-5372-4204-a336-2a6011b48b7b",
        "executionInfo": {
          "status": "ok",
          "timestamp": 1529081129406,
          "user_tz": 420,
          "elapsed": 433,
          "user": {
            "displayName": "Ray Heberer",
            "photoUrl": "//lh4.googleusercontent.com/-BMlr5I5Dhow/AAAAAAAAAAI/AAAAAAAAABc/XW4PF5A8K2Q/s50-c-k-no/photo.jpg",
            "userId": "116545933704048584401"
          }
        }
      },
      "cell_type": "code",
      "source": [
        "restaurant_reviews.iloc[523][0]"
      ],
      "execution_count": 32,
      "outputs": [
        {
          "output_type": "execute_result",
          "data": {
            "text/plain": [
              "\"---Good--- Friendly service and I enjoyed the food.  I'd like to go back and try a few other items, but right now I'm kinda perturbed about this place.\\\\n\\\\n---Bad---  1) This is just dumb, how could you ever think of putting push/push doors on your bathroo,,,,,,,,,,,,,,,,,,,,,,,,,,,,,,,,,,,,,,,,,,,,,,,,,,,,,,,,,,,,,,,,,,,,,,,,\""
            ]
          },
          "metadata": {
            "tags": []
          },
          "execution_count": 32
        }
      ]
    },
    {
      "metadata": {
        "id": "zK36_yFRNiKL",
        "colab_type": "text"
      },
      "cell_type": "markdown",
      "source": [
        "**Question 4: **Iterate over the reviews and output the polarity and subjectivity of the respective reviews. What is the underlying trend with respect to polarity (i.e. positive or negative)?"
      ]
    },
    {
      "metadata": {
        "id": "kq1joKJpIZQ8",
        "colab_type": "code",
        "colab": {
          "autoexec": {
            "startup": false,
            "wait_interval": 0
          },
          "base_uri": "https://localhost:8080/",
          "height": 122
        },
        "outputId": "86961056-decd-4829-a27d-1b8fddb89596",
        "executionInfo": {
          "status": "ok",
          "timestamp": 1529081132905,
          "user_tz": 420,
          "elapsed": 359,
          "user": {
            "displayName": "Ray Heberer",
            "photoUrl": "//lh4.googleusercontent.com/-BMlr5I5Dhow/AAAAAAAAAAI/AAAAAAAAABc/XW4PF5A8K2Q/s50-c-k-no/photo.jpg",
            "userId": "116545933704048584401"
          }
        }
      },
      "cell_type": "code",
      "source": [
        "restaurant_textblobs = list(map(TextBlob, restaurant_corpus))\n",
        "restaurant_textblobs[:5]"
      ],
      "execution_count": 33,
      "outputs": [
        {
          "output_type": "execute_result",
          "data": {
            "text/plain": [
              "[TextBlob(\"My son love place Weird ask come everytime go grocery shopping bribe even care go Toys R Us Not complaining I little knick knack quite selection little travel toy educational material kid holiday stuff I bought couple red bow brass jingle wreath put porch light Why cheap end spending\"),\n",
              " TextBlob(\"We gave make star To start beautiful lucked outside heater next roaring fireplace The service could better thanks YELPing friend hardly needed menu The Portugese clam soup though salty side The pork belly steak taco top We gave dish Margaritas awesome Smokehouse Pomogranite short glass It long time since solid Thanks guy Oh table guac must PS get bread pudding get sauce side It top sweet My pancreas running lap right\"),\n",
              " TextBlob(\"After three lunch visit I come conclusion restaurant fare ok book I probably back ca guarantee many place walking quickly politey greeted taken table You notice decor nice somewhat cluttered I fan thing put right place Maybe price lunch come quickly expected I hoping little love put food tongue telling little bland Each visit I tried different item menu almost tasted place serf purpose quick hot inexpensive meal typical\"),\n",
              " TextBlob(\"What started simple attempt find perfect birthday present turned relationship fantastic jeweler wanted get girlfriend time simple diamond pendant necklace birthday could find anything even came close matching style I searched internet day reluctantly went jewelry store hoping best expecting worst I like people guy bad feeling store I went Pushy sale people looking upsale sky high price I getting discouraged process changed I came Hyde Park super friendly staff made everything easy There pushy sale process anyone trying upsell something I want They immediately offered bottle water started talk like real person After minute speaking lovely woman store suggested think something custom At first I thinking go I going get stuck I wrong looked loose stone I got great education diamond I went home later night research internet found price good better big online retailer I could never get head wrapped around buying diamond online sight unseen I glad I found Hyde Park end I used Hyde Park create custom pendant diamond necklace absolutely love perfect I also used Hyde Park get diamond engagement ring well everything else follow know service jewelry business check Hyde Park I picked amazing diamond engagement ring chose loose stone idea kind ring would want So Hyde Park said put classic Tiffany solitaire setting temporary setting give come back together pick perfect setting wedding band I like seriously You end Hyde Park jeweler life They helped create perfect simple birthday present took service way custom engagement ring matching wedding band set This jewelry store guy want great service great price like first clue make perfect decision Just let Hyde Park take stress like\"),\n",
              " TextBlob(\"If Culver every street corner cardiologist would twice much went first time today lunch I hoping good burger I got wish soft bun red onion lettuce fresh tomato fixing great The cheese good beef patty also good I got deluxe Since I never fried cheese curd I got side item It reasonably priced combo root beer Service fast food fresh hot But kicker looked nutrional information lunch I felt like I could get office chair This combo fat sodium Even watch eat number scare hell To put perspective diet call sodium DAILY I could gone gotten animal style fry saved gram fat saved sodium I could ordered quarter pounder cheese large fry still eaten fewer gram fat sodium Now see exactly bad burger Imagine I gotten bacon cheeseburger custard dessert That another gram fat We talking triple digit Scary I like splurge occasion great food Unfortunately caloric catastrophe simply worth It good burger definitely better typical fast food come These number beyond reasonable To fair fried cheese curd constituted fat alone Now I first time life I say I enjoyed They almost good fried mozzarella I still prefer Italian version Wisconsin want splurge enjoy custard I excellent especially vanilla But want blow diet even though food decent somewhere\")]"
            ]
          },
          "metadata": {
            "tags": []
          },
          "execution_count": 33
        }
      ]
    },
    {
      "metadata": {
        "id": "g-u6ePe_Io84",
        "colab_type": "code",
        "colab": {
          "autoexec": {
            "startup": false,
            "wait_interval": 0
          }
        }
      },
      "cell_type": "code",
      "source": [
        "polarity = [text.sentiment.polarity for text in restaurant_textblobs]\n",
        "subjectivity = [text.sentiment.subjectivity for text in restaurant_textblobs]"
      ],
      "execution_count": 0,
      "outputs": []
    },
    {
      "metadata": {
        "id": "dCKGC9svJAGk",
        "colab_type": "code",
        "colab": {
          "autoexec": {
            "startup": false,
            "wait_interval": 0
          },
          "base_uri": "https://localhost:8080/",
          "height": 361
        },
        "outputId": "74d9b6cd-2e57-48a6-ae71-20661200cb0a",
        "executionInfo": {
          "status": "ok",
          "timestamp": 1529081136927,
          "user_tz": 420,
          "elapsed": 604,
          "user": {
            "displayName": "Ray Heberer",
            "photoUrl": "//lh4.googleusercontent.com/-BMlr5I5Dhow/AAAAAAAAAAI/AAAAAAAAABc/XW4PF5A8K2Q/s50-c-k-no/photo.jpg",
            "userId": "116545933704048584401"
          }
        }
      },
      "cell_type": "code",
      "source": [
        "plt.hist(polarity, bins=50), plt.xlabel('Review Polarity');"
      ],
      "execution_count": 35,
      "outputs": [
        {
          "output_type": "display_data",
          "data": {
            "image/png": "[encoded data removed]",
            "text/plain": [
              "<matplotlib.figure.Figure at 0x7fcad57e5198>"
            ]
          },
          "metadata": {
            "tags": []
          }
        }
      ]
    },
    {
      "metadata": {
        "id": "pXJ9UtK7JKGd",
        "colab_type": "text"
      },
      "cell_type": "markdown",
      "source": [
        "The reviews appear to contain mostly sentiment that is slightly positive."
      ]
    },
    {
      "metadata": {
        "id": "CRUI4bmaO2tf",
        "colab_type": "text"
      },
      "cell_type": "markdown",
      "source": [
        "**Question 5:** Train a Naive Bayes classifier on a subset of the movie_reviews data set which is part of the NLTK corpus. Once the classifier has been trained, evaluate it's accuracy by testing it against a subset of data from the movie_reviews data set. \n",
        "\n",
        "**Step 1**: Import the data set from the nltk corpus\n",
        "\n",
        "**Step 2**: Examine the categories within the movie_reviews data set\n",
        "\n",
        "**Step 3**: Examine the files that constitute the movie_reviews data set\n",
        "\n",
        "**Step 4**: Store a list of words for each file ID, followed by the positive or negative label in one big list.\n",
        "*Note *that each review has its own ID\n",
        "\n",
        "**Step 5**:  Randomize the items of a list in place. This is required since there is a high likelihood that we would train on all of the negatives, some positives, and then test only against positives\n",
        "\n",
        "**Step 6**: Find the most-used words in the text and count how often they are used\n",
        "\n",
        "**Step 7**: Select the top 5,000 most common words\n",
        "\n",
        "**Step 8**: Iterate  over the top 5,000  words and build a **feature set **that contains words from across the reviews including whether the word is among the top 5000 words and the corresponding category \n",
        "\n",
        "**Step 9**: First split the feature set list in a training and testing subsets\n",
        "\n",
        "\n",
        "**Step 10**: Train the Naive Bayes Classifier model with the training data set\n",
        "\n",
        "**Step 11**: Evaluate the accuracy of the model against the testing subset\n",
        "\n",
        "**Step 12**: Output the most informative features - (for example: which features appear more often in a postive review as compared to a negative review or vice versa).\n",
        "\n"
      ]
    },
    {
      "metadata": {
        "id": "TTMJw2ekMTG_",
        "colab_type": "code",
        "colab": {
          "autoexec": {
            "startup": false,
            "wait_interval": 0
          }
        }
      },
      "cell_type": "code",
      "source": [
        "# Step 1\n",
        "from nltk.corpus import movie_reviews"
      ],
      "execution_count": 0,
      "outputs": []
    },
    {
      "metadata": {
        "id": "xe2KUcEZLjAm",
        "colab_type": "code",
        "colab": {
          "autoexec": {
            "startup": false,
            "wait_interval": 0
          },
          "base_uri": "https://localhost:8080/",
          "height": 71
        },
        "outputId": "1fb8b751-9a78-4dcb-c3c9-ac3eb790ffd9",
        "executionInfo": {
          "status": "ok",
          "timestamp": 1529081153792,
          "user_tz": 420,
          "elapsed": 392,
          "user": {
            "displayName": "Ray Heberer",
            "photoUrl": "//lh4.googleusercontent.com/-BMlr5I5Dhow/AAAAAAAAAAI/AAAAAAAAABc/XW4PF5A8K2Q/s50-c-k-no/photo.jpg",
            "userId": "116545933704048584401"
          }
        }
      },
      "cell_type": "code",
      "source": [
        "# Steps 2 and 3\n",
        "print('Categories:', movie_reviews.categories())\n",
        "print('Files', movie_reviews.fileids()[:10])"
      ],
      "execution_count": 37,
      "outputs": [
        {
          "output_type": "stream",
          "text": [
            "Categories: ['neg', 'pos']\n",
            "Files ['neg/cv000_29416.txt', 'neg/cv001_19502.txt', 'neg/cv002_17424.txt', 'neg/cv003_12683.txt', 'neg/cv004_12641.txt', 'neg/cv005_29357.txt', 'neg/cv006_17022.txt', 'neg/cv007_4992.txt', 'neg/cv008_29326.txt', 'neg/cv009_29417.txt']\n"
          ],
          "name": "stdout"
        }
      ]
    },
    {
      "metadata": {
        "id": "jepL1FCNPQPT",
        "colab_type": "code",
        "colab": {
          "autoexec": {
            "startup": false,
            "wait_interval": 0
          }
        }
      },
      "cell_type": "code",
      "source": [
        "# Step 4 (removing stopwords as well)\n",
        "stop = nltk.corpus.stopwords.words('english')\n",
        "\n",
        "documents = [([w for w in movie_reviews.words(i) if w.lower() not in stop \n",
        "               and w.isalpha()], i.split('/')[0]) \n",
        "               for i in movie_reviews.fileids()]"
      ],
      "execution_count": 0,
      "outputs": []
    },
    {
      "metadata": {
        "id": "iEQlKw9LKkyg",
        "colab_type": "code",
        "colab": {
          "autoexec": {
            "startup": false,
            "wait_interval": 0
          },
          "base_uri": "https://localhost:8080/",
          "height": 71
        },
        "outputId": "2bfa2234-481d-4050-a2c1-a8a31d59dbc7",
        "executionInfo": {
          "status": "ok",
          "timestamp": 1529081162953,
          "user_tz": 420,
          "elapsed": 401,
          "user": {
            "displayName": "Ray Heberer",
            "photoUrl": "//lh4.googleusercontent.com/-BMlr5I5Dhow/AAAAAAAAAAI/AAAAAAAAABc/XW4PF5A8K2Q/s50-c-k-no/photo.jpg",
            "userId": "116545933704048584401"
          }
        }
      },
      "cell_type": "code",
      "source": [
        "print(documents[0][0])\n",
        "print(documents[0][1])"
      ],
      "execution_count": 39,
      "outputs": [
        {
          "output_type": "stream",
          "text": [
            "['plot', 'two', 'teen', 'couples', 'go', 'church', 'party', 'drink', 'drive', 'get', 'accident', 'one', 'guys', 'dies', 'girlfriend', 'continues', 'see', 'life', 'nightmares', 'deal', 'watch', 'movie', 'sorta', 'find', 'critique', 'mind', 'fuck', 'movie', 'teen', 'generation', 'touches', 'cool', 'idea', 'presents', 'bad', 'package', 'makes', 'review', 'even', 'harder', 'one', 'write', 'since', 'generally', 'applaud', 'films', 'attempt', 'break', 'mold', 'mess', 'head', 'lost', 'highway', 'memento', 'good', 'bad', 'ways', 'making', 'types', 'films', 'folks', 'snag', 'one', 'correctly', 'seem', 'taken', 'pretty', 'neat', 'concept', 'executed', 'terribly', 'problems', 'movie', 'well', 'main', 'problem', 'simply', 'jumbled', 'starts', 'normal', 'downshifts', 'fantasy', 'world', 'audience', 'member', 'idea', 'going', 'dreams', 'characters', 'coming', 'back', 'dead', 'others', 'look', 'like', 'dead', 'strange', 'apparitions', 'disappearances', 'looooot', 'chase', 'scenes', 'tons', 'weird', 'things', 'happen', 'simply', 'explained', 'personally', 'mind', 'trying', 'unravel', 'film', 'every', 'give', 'clue', 'get', 'kind', 'fed', 'film', 'biggest', 'problem', 'obviously', 'got', 'big', 'secret', 'hide', 'seems', 'want', 'hide', 'completely', 'final', 'five', 'minutes', 'make', 'things', 'entertaining', 'thrilling', 'even', 'engaging', 'meantime', 'really', 'sad', 'part', 'arrow', 'dig', 'flicks', 'like', 'actually', 'figured', 'half', 'way', 'point', 'strangeness', 'start', 'make', 'little', 'bit', 'sense', 'still', 'make', 'film', 'entertaining', 'guess', 'bottom', 'line', 'movies', 'like', 'always', 'make', 'sure', 'audience', 'even', 'given', 'secret', 'password', 'enter', 'world', 'understanding', 'mean', 'showing', 'melissa', 'sagemiller', 'running', 'away', 'visions', 'minutes', 'throughout', 'movie', 'plain', 'lazy', 'okay', 'get', 'people', 'chasing', 'know', 'really', 'need', 'see', 'giving', 'us', 'different', 'scenes', 'offering', 'insight', 'strangeness', 'going', 'movie', 'apparently', 'studio', 'took', 'film', 'away', 'director', 'chopped', 'shows', 'might', 'pretty', 'decent', 'teen', 'mind', 'fuck', 'movie', 'somewhere', 'guess', 'suits', 'decided', 'turning', 'music', 'video', 'little', 'edge', 'would', 'make', 'sense', 'actors', 'pretty', 'good', 'part', 'although', 'wes', 'bentley', 'seemed', 'playing', 'exact', 'character', 'american', 'beauty', 'new', 'neighborhood', 'biggest', 'kudos', 'go', 'sagemiller', 'holds', 'throughout', 'entire', 'film', 'actually', 'feeling', 'character', 'unraveling', 'overall', 'film', 'stick', 'entertain', 'confusing', 'rarely', 'excites', 'feels', 'pretty', 'redundant', 'runtime', 'despite', 'pretty', 'cool', 'ending', 'explanation', 'craziness', 'came', 'oh', 'way', 'horror', 'teen', 'slasher', 'flick', 'packaged', 'look', 'way', 'someone', 'apparently', 'assuming', 'genre', 'still', 'hot', 'kids', 'also', 'wrapped', 'production', 'two', 'years', 'ago', 'sitting', 'shelves', 'ever', 'since', 'whatever', 'skip', 'joblo', 'coming', 'nightmare', 'elm', 'street', 'blair', 'witch', 'crow', 'crow', 'salvation', 'lost', 'highway', 'memento', 'others', 'stir', 'echoes']\n",
            "neg\n"
          ],
          "name": "stdout"
        }
      ]
    },
    {
      "metadata": {
        "id": "17Q9_cA4MiNY",
        "colab_type": "code",
        "colab": {
          "autoexec": {
            "startup": false,
            "wait_interval": 0
          },
          "base_uri": "https://localhost:8080/",
          "height": 71
        },
        "outputId": "cd01c35a-3902-4ca2-f043-e37a1a2b00c8",
        "executionInfo": {
          "status": "ok",
          "timestamp": 1529081164348,
          "user_tz": 420,
          "elapsed": 378,
          "user": {
            "displayName": "Ray Heberer",
            "photoUrl": "//lh4.googleusercontent.com/-BMlr5I5Dhow/AAAAAAAAAAI/AAAAAAAAABc/XW4PF5A8K2Q/s50-c-k-no/photo.jpg",
            "userId": "116545933704048584401"
          }
        }
      },
      "cell_type": "code",
      "source": [
        "# Step 5\n",
        "np.random.shuffle(documents)\n",
        "print(documents[0][0])\n",
        "print(documents[0][1])"
      ],
      "execution_count": 40,
      "outputs": [
        {
          "output_type": "stream",
          "text": [
            "['naturally', 'core', 'leon', 'gast', 'kings', 'fight', 'fight', 'thanks', 'business', 'savvy', 'king', 'ageing', 'muhammad', 'ali', 'pitted', 'formidable', 'hulk', 'heavyweight', 'champion', 'george', 'foreman', 'fans', 'treated', 'round', 'battle', 'endurance', 'strategy', 'much', 'brute', 'strength', 'immediately', 'entered', 'boxing', 'lore', 'benefit', 'first', 'hand', 'recollections', 'old', 'ex', 'pug', 'norman', 'mailer', 'classic', 'conflict', 'brought', 'back', 'life', 'kings', 'tackles', 'issues', 'harder', 'pin', 'simple', 'facts', 'boxing', 'match', 'questions', 'political', 'power', 'social', 'justice', 'appear', 'throughout', 'documentary', 'gast', 'could', 'hardly', 'choose', 'otherwise', 'considering', 'vocal', 'uncompromising', 'politics', 'muhammad', 'ali', 'member', 'controversial', 'black', 'separatist', 'movement', 'nation', 'islam', 'ali', 'opens', 'gast', 'film', 'forceful', 'swipe', 'united', 'states', 'ali', 'hollers', 'damn', 'america', 'audience', 'knows', 'imprecation', 'heartfelt', 'brutal', 'yet', 'casual', 'way', 'uttered', 'leaves', 'doubt', 'ali', 'speaking', 'mind', 'decision', 'buck', 'draft', 'vietnam', 'defended', 'admirable', 'fury', 'viet', 'cong', 'ever', 'called', 'nigger', 'ali', 'reasons', 'despite', 'showcasing', 'ali', 'proud', 'unequivocal', 'politics', 'one', 'impressive', 'features', 'kings', 'subtle', 'way', 'documentary', 'considers', 'difficulties', 'inherent', 'overarching', 'philosophy', 'black', 'unity', 'black', 'symbolism', 'ali', 'supporters', 'champion', 'listening', 'film', 'numerous', 'commentators', 'clear', 'geographic', 'location', 'rumble', 'jungle', 'etched', 'imagination', 'anywhere', 'could', 'place', 'map', 'spike', 'lee', 'tells', 'us', 'event', 'pilgrimage', 'coming', 'home', 'africa', 'foreman', 'reminds', 'us', 'africa', 'cradle', 'civilisation', 'fair', 'enough', 'homeland', 'specific', 'nation', 'cursed', 'less', 'inspiring', 'reality', 'newly', 'founded', 'zaire', 'ruled', 'president', 'mobutu', 'brutal', 'dictator', 'ali', 'respects', 'mobutu', 'ability', 'forge', 'independent', 'african', 'state', 'mailer', 'notes', 'beneath', 'stadium', 'titans', 'battled', 'lay', 'hidden', 'presidents', 'well', 'stocked', 'torture', 'chambers', 'mailer', 'insights', 'lost', 'film', 'commentators', 'george', 'plimpton', 'recalls', 'always', 'felt', 'congo', 'rather', 'newly', 'christened', 'zaire', 'admirable', 'restraint', 'gast', 'quietly', 'suggests', 'many', 'grandeur', 'myth', 'history', 'obscured', 'reality', 'zaire', 'squalid', 'ruling', 'elite', 'mobutu', 'dubious', 'character', 'benefit', 'heady', 'symbolism', 'black', 'power', 'king', 'resplendent', 'yellow', 'kaftan', 'ease', 'messiah', 'label', 'attributed', 'loyal', 'disciple', 'passes', 'voice', 'new', 'black', 'international', 'solidarity', 'understandably', 'foreman', 'believes', 'gotten', 'raw', 'deal', 'may', 'one', 'sympathiser', 'notes', 'blacker', 'ali', 'denied', 'iconic', 'status', 'shared', 'ali', 'thuggish', 'mobutu', 'tacky', 'huckster', 'king', 'africa', 'zaire', 'inspirational', 'leader', 'vicious', 'dictator', 'left', 'undifferentiated', 'unconsidered', 'optimistic', 'celebration', 'black', 'unity', 'little', 'wonder', 'people', 'zaire', 'shocked', 'find', 'ali', 'opponent', 'white', 'admittedly', 'issues', 'hinted', 'rather', 'substantially', 'explored', 'audience', 'must', 'consider', 'significance', 'issues', 'time', 'much', 'cover', 'much', 'truly', 'worthy', 'celebration', 'protracted', 'political', 'analysis', 'justified', 'excitement', 'james', 'brown', 'b', 'b', 'king', 'concert', 'instance', 'course', 'always', 'ali', 'consider', 'shamelessly', 'hilariously', 'hams', 'front', 'camera', 'shadow', 'boxing', 'uttering', 'one', 'inspired', 'rhyme', 'another', 'gonna', 'get', 'coz', 'get', 'along', 'doubtlessly', 'considering', 'multi', 'faceted', 'nature', 'extravaganza', 'chose', 'cover', 'makers', 'kings', 'faced', 'numerous', 'difficulties', 'deciding', 'issues', 'personalities', 'best', 'deserved', 'attention', 'fortunately', 'refusing', 'simplify', 'complex', 'subject', 'matter', 'captured', 'richness', 'excitement', 'unique', 'event']\n",
            "pos\n"
          ],
          "name": "stdout"
        }
      ]
    },
    {
      "metadata": {
        "id": "4yWUH-YsNaIO",
        "colab_type": "code",
        "colab": {
          "autoexec": {
            "startup": false,
            "wait_interval": 0
          },
          "base_uri": "https://localhost:8080/",
          "height": 71
        },
        "outputId": "8881f412-67d0-4eda-96d3-413b3bcc2747",
        "executionInfo": {
          "status": "ok",
          "timestamp": 1529081168381,
          "user_tz": 420,
          "elapsed": 597,
          "user": {
            "displayName": "Ray Heberer",
            "photoUrl": "//lh4.googleusercontent.com/-BMlr5I5Dhow/AAAAAAAAAAI/AAAAAAAAABc/XW4PF5A8K2Q/s50-c-k-no/photo.jpg",
            "userId": "116545933704048584401"
          }
        }
      },
      "cell_type": "code",
      "source": [
        "# Step 6\n",
        "reviews = map(lambda x: x[0], documents)\n",
        "words = list(itertools.chain(*reviews))\n",
        "word_counts = Counter(words)\n",
        "\n",
        "print('Most Frequent Words:\\n', word_counts.most_common(10))"
      ],
      "execution_count": 41,
      "outputs": [
        {
          "output_type": "stream",
          "text": [
            "Most Frequent Words:\n",
            " [('film', 9517), ('one', 5852), ('movie', 5771), ('like', 3690), ('even', 2565), ('time', 2411), ('good', 2411), ('story', 2169), ('would', 2109), ('much', 2049)]\n"
          ],
          "name": "stdout"
        }
      ]
    },
    {
      "metadata": {
        "id": "9PUgmgzfO-Jh",
        "colab_type": "code",
        "colab": {
          "autoexec": {
            "startup": false,
            "wait_interval": 0
          }
        }
      },
      "cell_type": "code",
      "source": [
        "reviews = list(map(lambda x: ' '.join(x[0]), documents))\n",
        "categories = list(map(lambda x: x[1], documents))\n",
        "\n",
        "# Steps 7 and 8\n",
        "vectorizer = TfidfVectorizer(max_features=5000)\n",
        "X = vectorizer.fit_transform(reviews)"
      ],
      "execution_count": 0,
      "outputs": []
    },
    {
      "metadata": {
        "id": "zEEBuVgDRQ3t",
        "colab_type": "code",
        "colab": {
          "autoexec": {
            "startup": false,
            "wait_interval": 0
          }
        }
      },
      "cell_type": "code",
      "source": [
        "# Step 9\n",
        "X_train, X_test, y_train, y_test = train_test_split(X, categories, \n",
        "                                                    test_size=0.2, \n",
        "                                                    random_state=42)"
      ],
      "execution_count": 0,
      "outputs": []
    },
    {
      "metadata": {
        "id": "jnG1ZjaURp4S",
        "colab_type": "code",
        "colab": {
          "autoexec": {
            "startup": false,
            "wait_interval": 0
          },
          "base_uri": "https://localhost:8080/",
          "height": 34
        },
        "outputId": "01df239b-c4b3-429f-e167-aa8ce9c0ea17",
        "executionInfo": {
          "status": "ok",
          "timestamp": 1529081631972,
          "user_tz": 420,
          "elapsed": 511,
          "user": {
            "displayName": "Ray Heberer",
            "photoUrl": "//lh4.googleusercontent.com/-BMlr5I5Dhow/AAAAAAAAAAI/AAAAAAAAABc/XW4PF5A8K2Q/s50-c-k-no/photo.jpg",
            "userId": "116545933704048584401"
          }
        }
      },
      "cell_type": "code",
      "source": [
        "# Step 10\n",
        "clf = GaussianNB()\n",
        "clf.fit(X_train.toarray(), y_train)"
      ],
      "execution_count": 58,
      "outputs": [
        {
          "output_type": "execute_result",
          "data": {
            "text/plain": [
              "GaussianNB(priors=None)"
            ]
          },
          "metadata": {
            "tags": []
          },
          "execution_count": 58
        }
      ]
    },
    {
      "metadata": {
        "id": "zLukFd7_R7uh",
        "colab_type": "code",
        "colab": {
          "autoexec": {
            "startup": false,
            "wait_interval": 0
          },
          "base_uri": "https://localhost:8080/",
          "height": 34
        },
        "outputId": "4c2c21b7-ab25-4e10-e365-d6f12ee6317d",
        "executionInfo": {
          "status": "ok",
          "timestamp": 1529081633728,
          "user_tz": 420,
          "elapsed": 364,
          "user": {
            "displayName": "Ray Heberer",
            "photoUrl": "//lh4.googleusercontent.com/-BMlr5I5Dhow/AAAAAAAAAAI/AAAAAAAAABc/XW4PF5A8K2Q/s50-c-k-no/photo.jpg",
            "userId": "116545933704048584401"
          }
        }
      },
      "cell_type": "code",
      "source": [
        "# Step 11\n",
        "print('Test Accuracy: {}%'.format(clf.score(X_test.toarray(), y_test)*100))"
      ],
      "execution_count": 59,
      "outputs": [
        {
          "output_type": "stream",
          "text": [
            "Test Accuracy: 70.5%\n"
          ],
          "name": "stdout"
        }
      ]
    },
    {
      "metadata": {
        "id": "_ROMBg4JWrO7",
        "colab_type": "text"
      },
      "cell_type": "markdown",
      "source": [
        "There are exactly 1000 'pos' reviews and 1000 'neg' reviews, so this is better than random or informed guessing."
      ]
    },
    {
      "metadata": {
        "id": "QN5r9r3iSVsB",
        "colab_type": "code",
        "colab": {
          "autoexec": {
            "startup": false,
            "wait_interval": 0
          },
          "base_uri": "https://localhost:8080/",
          "height": 85
        },
        "outputId": "c23f8c0e-ea21-4a99-d883-06fdcf28da0a",
        "executionInfo": {
          "status": "ok",
          "timestamp": 1529081639013,
          "user_tz": 420,
          "elapsed": 391,
          "user": {
            "displayName": "Ray Heberer",
            "photoUrl": "//lh4.googleusercontent.com/-BMlr5I5Dhow/AAAAAAAAAAI/AAAAAAAAABc/XW4PF5A8K2Q/s50-c-k-no/photo.jpg",
            "userId": "116545933704048584401"
          }
        }
      },
      "cell_type": "code",
      "source": [
        "# Step 12\n",
        "\n",
        "# I will select informative features on the criterion that their means for\n",
        "# each category are far apart\n",
        "\n",
        "n_features = 20\n",
        "mean_differences = np.absolute(clf.theta_[1] - clf.theta_[0])\n",
        "top_features = mean_differences.argsort()[-1:-n_features:-1]\n",
        "\n",
        "sparse_to_dataframe(vectorizer, X).columns[top_features]"
      ],
      "execution_count": 60,
      "outputs": [
        {
          "output_type": "execute_result",
          "data": {
            "text/plain": [
              "Index(['bad', 'movie', 'plot', 'life', 'truman', 'worst', 'boring', 'great',\n",
              "       'stupid', 'even', 'also', 'supposed', 'war', 'nothing', 'reason',\n",
              "       'world', 'family', 'jackie', 'godzilla'],\n",
              "      dtype='object')"
            ]
          },
          "metadata": {
            "tags": []
          },
          "execution_count": 60
        }
      ]
    },
    {
      "metadata": {
        "id": "eEcYiMA-PTac",
        "colab_type": "text"
      },
      "cell_type": "markdown",
      "source": [
        "**Question 6: ** Write a blog post on how you could apply one or more of the techniques that you have learned this week. The recommended approach would be explore a data set (Netflix reviews or Yelp reviews) and utilize text processing that we have covered to derive insights from the body of text.\n"
      ]
    }
  ]
}