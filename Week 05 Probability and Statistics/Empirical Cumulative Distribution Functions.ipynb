{
  "nbformat": 4,
  "nbformat_minor": 0,
  "metadata": {
    "colab": {
      "name": "Project Assignment #2.ipynb",
      "version": "0.3.2",
      "views": {},
      "default_view": {},
      "provenance": [
        {
          "file_id": "1Lb3bDxxrcSQeEHWIftH1RQnIhTswj-D5",
          "timestamp": 1525276337734
        },
        {
          "file_id": "1AqavyGsXVumV4pBk2IJWuKZPfwnYczDD",
          "timestamp": 1525179655230
        },
        {
          "file_id": "1g1EcnZi5sAyBqeoy7IxmuMPkEPio7xyf",
          "timestamp": 1525133396508
        },
        {
          "file_id": "1EwF8mAbi5OEaWG92UDBIpVC67qJjFvW4",
          "timestamp": 1525109917451
        },
        {
          "file_id": "1whyv7pmOGEMQoBsaBjTTGhfHbrs51cnj",
          "timestamp": 1525047564732
        },
        {
          "file_id": "175ySQYZQY1zDjXI1ssRUaIw5_RwjdZKH",
          "timestamp": 1524855810938
        },
        {
          "file_id": "11EzSwRg3zz6Pf9s5XdLXZn92ScKCJAUe",
          "timestamp": 1524838565783
        }
      ]
    },
    "kernelspec": {
      "name": "python3",
      "display_name": "Python 3"
    }
  },
  "cells": [
    {
      "metadata": {
        "id": "Vim6ATB8ADUI",
        "colab_type": "text"
      },
      "cell_type": "markdown",
      "source": [
        "## Project Assignment #2\n",
        "\n",
        "In this project assignment, we will get exposed to 'Empirical Cumulative Distribution Function' (i.e. ECDF)\n",
        "\n",
        "One of the drawbacks of Bee Swarm plots is that if you have a lot of data, then the plot can get quite cluttered. Therefore when working with large data sets, it is better to leverage the ECDF plot since it provides a complete picture into the distribution of the data. \n",
        "\n",
        "**Ask #1**\n",
        "\n",
        "The first ask in this assignment is to plot the ECDF depicting the age distribution for the city of NEW HAVEN. Utilize the same dataset that you utilized in Coding Challenge #1 (i.e. \"Accidental Drug Related Deaths 2012-2017 (State of Connecticut)\" data set available from the Data.Gov website)\n",
        "\n",
        "https://catalog.data.gov/dataset?groups=local&organization_type=State+Government#topic=local_navigation\n",
        "\n",
        "What insights can you glean regarding the distribution of data?\n",
        "\n",
        "**Key Takeaway:** When examining the distribution of data, a good rule of thumb is to plot the ECDF first\n",
        "\n",
        "**Ask #2**\n",
        "\n",
        "Compare the ECDF to percentiles. Recall that you computed the 25th, 50th and 75th percentiles using the Box Plot\n",
        "\n",
        "**Hint**: **1)** First plot the ECDF and then overlay the ECDF with markers (i.e. Diamonds) depicting the 25th, 50th and 75th percentiles, **2)** Ensure that the Y-axis of the ECDF plot remains between 0 and 1\n"
      ]
    },
    {
      "metadata": {
        "id": "-xSGbFTSP-b6",
        "colab_type": "code",
        "colab": {
          "autoexec": {
            "startup": false,
            "wait_interval": 0
          }
        }
      },
      "cell_type": "code",
      "source": [
        "import numpy as np\n",
        "import pandas as pd\n",
        "import matplotlib.pyplot as plt\n",
        "import seaborn as sns\n",
        "\n",
        "from statsmodels.distributions.empirical_distribution import ECDF"
      ],
      "execution_count": 0,
      "outputs": []
    },
    {
      "metadata": {
        "id": "ptMwHrOdQCYP",
        "colab_type": "code",
        "colab": {
          "autoexec": {
            "startup": false,
            "wait_interval": 0
          }
        }
      },
      "cell_type": "code",
      "source": [
        "data = pd.read_csv('https://data.ct.gov/api/views/rybz-nyjw/rows.csv')"
      ],
      "execution_count": 0,
      "outputs": []
    },
    {
      "metadata": {
        "id": "lJa_KJTkQHBe",
        "colab_type": "code",
        "colab": {
          "autoexec": {
            "startup": false,
            "wait_interval": 0
          },
          "base_uri": "https://localhost:8080/",
          "height": 440
        },
        "outputId": "77a63897-22ab-45b8-99dc-7c7c88f4edb9",
        "executionInfo": {
          "status": "ok",
          "timestamp": 1525289866893,
          "user_tz": 420,
          "elapsed": 373,
          "user": {
            "displayName": "Ray Heberer",
            "photoUrl": "//lh4.googleusercontent.com/-BMlr5I5Dhow/AAAAAAAAAAI/AAAAAAAAABc/XW4PF5A8K2Q/s50-c-k-no/photo.jpg",
            "userId": "116545933704048584401"
          }
        }
      },
      "cell_type": "code",
      "source": [
        "data.head()"
      ],
      "execution_count": 4,
      "outputs": [
        {
          "output_type": "execute_result",
          "data": {
            "text/html": [
              "<div>\n",
              "<style scoped>\n",
              "    .dataframe tbody tr th:only-of-type {\n",
              "        vertical-align: middle;\n",
              "    }\n",
              "\n",
              "    .dataframe tbody tr th {\n",
              "        vertical-align: top;\n",
              "    }\n",
              "\n",
              "    .dataframe thead th {\n",
              "        text-align: right;\n",
              "    }\n",
              "</style>\n",
              "<table border=\"1\" class=\"dataframe\">\n",
              "  <thead>\n",
              "    <tr style=\"text-align: right;\">\n",
              "      <th></th>\n",
              "      <th>CaseNumber</th>\n",
              "      <th>Date</th>\n",
              "      <th>Sex</th>\n",
              "      <th>Race</th>\n",
              "      <th>Age</th>\n",
              "      <th>Residence City</th>\n",
              "      <th>Residence State</th>\n",
              "      <th>Residence County</th>\n",
              "      <th>Death City</th>\n",
              "      <th>Death State</th>\n",
              "      <th>...</th>\n",
              "      <th>Benzodiazepine</th>\n",
              "      <th>Methadone</th>\n",
              "      <th>Amphet</th>\n",
              "      <th>Tramad</th>\n",
              "      <th>Morphine (not heroin)</th>\n",
              "      <th>Other</th>\n",
              "      <th>Any Opioid</th>\n",
              "      <th>MannerofDeath</th>\n",
              "      <th>AmendedMannerofDeath</th>\n",
              "      <th>DeathLoc</th>\n",
              "    </tr>\n",
              "  </thead>\n",
              "  <tbody>\n",
              "    <tr>\n",
              "      <th>0</th>\n",
              "      <td>14-9876</td>\n",
              "      <td>06/28/2014</td>\n",
              "      <td>NaN</td>\n",
              "      <td>NaN</td>\n",
              "      <td>NaN</td>\n",
              "      <td>NaN</td>\n",
              "      <td>NaN</td>\n",
              "      <td>NaN</td>\n",
              "      <td>NaN</td>\n",
              "      <td>NaN</td>\n",
              "      <td>...</td>\n",
              "      <td>Y</td>\n",
              "      <td>NaN</td>\n",
              "      <td>NaN</td>\n",
              "      <td>NaN</td>\n",
              "      <td>NaN</td>\n",
              "      <td>NaN</td>\n",
              "      <td>NaN</td>\n",
              "      <td>Accident</td>\n",
              "      <td>NaN</td>\n",
              "      <td>CT\\n(41.544654, -72.651713)</td>\n",
              "    </tr>\n",
              "    <tr>\n",
              "      <th>1</th>\n",
              "      <td>12-16897</td>\n",
              "      <td>11/30/2012</td>\n",
              "      <td>Male</td>\n",
              "      <td>White</td>\n",
              "      <td>45.0</td>\n",
              "      <td>NaN</td>\n",
              "      <td>NaN</td>\n",
              "      <td>NaN</td>\n",
              "      <td>NEW HAVEN</td>\n",
              "      <td>NaN</td>\n",
              "      <td>...</td>\n",
              "      <td>NaN</td>\n",
              "      <td>NaN</td>\n",
              "      <td>NaN</td>\n",
              "      <td>NaN</td>\n",
              "      <td>NaN</td>\n",
              "      <td>NaN</td>\n",
              "      <td>NaN</td>\n",
              "      <td>Accident</td>\n",
              "      <td>NaN</td>\n",
              "      <td>NEW HAVEN, CT\\n(41.308252, -72.924161)</td>\n",
              "    </tr>\n",
              "    <tr>\n",
              "      <th>2</th>\n",
              "      <td>13-11849</td>\n",
              "      <td>08/12/2013</td>\n",
              "      <td>Male</td>\n",
              "      <td>White</td>\n",
              "      <td>30.0</td>\n",
              "      <td>NEW HAVEN</td>\n",
              "      <td>NaN</td>\n",
              "      <td>NaN</td>\n",
              "      <td>NEW HAVEN</td>\n",
              "      <td>NaN</td>\n",
              "      <td>...</td>\n",
              "      <td>NaN</td>\n",
              "      <td>Y</td>\n",
              "      <td>NaN</td>\n",
              "      <td>NaN</td>\n",
              "      <td>NaN</td>\n",
              "      <td>NaN</td>\n",
              "      <td>NaN</td>\n",
              "      <td>Accident</td>\n",
              "      <td>NaN</td>\n",
              "      <td>NEW HAVEN, CT\\n(41.308252, -72.924161)</td>\n",
              "    </tr>\n",
              "    <tr>\n",
              "      <th>3</th>\n",
              "      <td>14-17578</td>\n",
              "      <td>11/23/2014</td>\n",
              "      <td>Male</td>\n",
              "      <td>White</td>\n",
              "      <td>27.0</td>\n",
              "      <td>NAUGATUCK</td>\n",
              "      <td>NaN</td>\n",
              "      <td>NaN</td>\n",
              "      <td>NEW MILFORD</td>\n",
              "      <td>NaN</td>\n",
              "      <td>...</td>\n",
              "      <td>NaN</td>\n",
              "      <td>NaN</td>\n",
              "      <td>NaN</td>\n",
              "      <td>NaN</td>\n",
              "      <td>NaN</td>\n",
              "      <td>NaN</td>\n",
              "      <td>NaN</td>\n",
              "      <td>Accident</td>\n",
              "      <td>NaN</td>\n",
              "      <td>NEW MILFORD, CT\\n(41.576633, -73.408713)</td>\n",
              "    </tr>\n",
              "    <tr>\n",
              "      <th>4</th>\n",
              "      <td>12-11497</td>\n",
              "      <td>08/14/2012</td>\n",
              "      <td>Male</td>\n",
              "      <td>White</td>\n",
              "      <td>21.0</td>\n",
              "      <td>ENFIELD</td>\n",
              "      <td>NaN</td>\n",
              "      <td>NaN</td>\n",
              "      <td>ENFIELD</td>\n",
              "      <td>NaN</td>\n",
              "      <td>...</td>\n",
              "      <td>NaN</td>\n",
              "      <td>NaN</td>\n",
              "      <td>NaN</td>\n",
              "      <td>NaN</td>\n",
              "      <td>NaN</td>\n",
              "      <td>NaN</td>\n",
              "      <td>NaN</td>\n",
              "      <td>Accident</td>\n",
              "      <td>NaN</td>\n",
              "      <td>ENFIELD, CT\\n(41.976501, -72.591985)</td>\n",
              "    </tr>\n",
              "  </tbody>\n",
              "</table>\n",
              "<p>5 rows × 32 columns</p>\n",
              "</div>"
            ],
            "text/plain": [
              "  CaseNumber        Date   Sex   Race   Age Residence City Residence State  \\\n",
              "0    14-9876  06/28/2014   NaN    NaN   NaN            NaN             NaN   \n",
              "1   12-16897  11/30/2012  Male  White  45.0            NaN             NaN   \n",
              "2   13-11849  08/12/2013  Male  White  30.0      NEW HAVEN             NaN   \n",
              "3   14-17578  11/23/2014  Male  White  27.0      NAUGATUCK             NaN   \n",
              "4   12-11497  08/14/2012  Male  White  21.0        ENFIELD             NaN   \n",
              "\n",
              "  Residence County   Death City Death State  \\\n",
              "0              NaN          NaN         NaN   \n",
              "1              NaN    NEW HAVEN         NaN   \n",
              "2              NaN    NEW HAVEN         NaN   \n",
              "3              NaN  NEW MILFORD         NaN   \n",
              "4              NaN      ENFIELD         NaN   \n",
              "\n",
              "                     ...                    Benzodiazepine Methadone Amphet  \\\n",
              "0                    ...                                 Y       NaN    NaN   \n",
              "1                    ...                               NaN       NaN    NaN   \n",
              "2                    ...                               NaN         Y    NaN   \n",
              "3                    ...                               NaN       NaN    NaN   \n",
              "4                    ...                               NaN       NaN    NaN   \n",
              "\n",
              "  Tramad Morphine (not heroin) Other Any Opioid MannerofDeath  \\\n",
              "0    NaN                   NaN   NaN        NaN      Accident   \n",
              "1    NaN                   NaN   NaN        NaN      Accident   \n",
              "2    NaN                   NaN   NaN        NaN      Accident   \n",
              "3    NaN                   NaN   NaN        NaN      Accident   \n",
              "4    NaN                   NaN   NaN        NaN      Accident   \n",
              "\n",
              "  AmendedMannerofDeath                                  DeathLoc  \n",
              "0                  NaN               CT\\n(41.544654, -72.651713)  \n",
              "1                  NaN    NEW HAVEN, CT\\n(41.308252, -72.924161)  \n",
              "2                  NaN    NEW HAVEN, CT\\n(41.308252, -72.924161)  \n",
              "3                  NaN  NEW MILFORD, CT\\n(41.576633, -73.408713)  \n",
              "4                  NaN      ENFIELD, CT\\n(41.976501, -72.591985)  \n",
              "\n",
              "[5 rows x 32 columns]"
            ]
          },
          "metadata": {
            "tags": []
          },
          "execution_count": 4
        }
      ]
    },
    {
      "metadata": {
        "id": "AoZvW9HvcuwI",
        "colab_type": "text"
      },
      "cell_type": "markdown",
      "source": [
        "## ECDF"
      ]
    },
    {
      "metadata": {
        "id": "r5q-eUIdXFS5",
        "colab_type": "code",
        "colab": {
          "autoexec": {
            "startup": false,
            "wait_interval": 0
          },
          "base_uri": "https://localhost:8080/",
          "height": 51
        },
        "outputId": "efb3d20c-e9e1-483e-deb1-ff54c59047f0",
        "executionInfo": {
          "status": "ok",
          "timestamp": 1525290536088,
          "user_tz": 420,
          "elapsed": 324,
          "user": {
            "displayName": "Ray Heberer",
            "photoUrl": "//lh4.googleusercontent.com/-BMlr5I5Dhow/AAAAAAAAAAI/AAAAAAAAABc/XW4PF5A8K2Q/s50-c-k-no/photo.jpg",
            "userId": "116545933704048584401"
          }
        }
      },
      "cell_type": "code",
      "source": [
        "newhaven_data = data[['Age']][data['Residence City']=='NEW HAVEN']\n",
        "print(newhaven_data.isnull().any())"
      ],
      "execution_count": 29,
      "outputs": [
        {
          "output_type": "stream",
          "text": [
            "Age    False\n",
            "dtype: bool\n"
          ],
          "name": "stdout"
        }
      ]
    },
    {
      "metadata": {
        "id": "6-Q4PVT0XUdV",
        "colab_type": "code",
        "colab": {
          "autoexec": {
            "startup": false,
            "wait_interval": 0
          }
        }
      },
      "cell_type": "code",
      "source": [
        "newhaven_ecdf = ECDF(newhaven_data.as_matrix().flatten())"
      ],
      "execution_count": 0,
      "outputs": []
    },
    {
      "metadata": {
        "id": "CAIsU8elX0X9",
        "colab_type": "code",
        "colab": {
          "autoexec": {
            "startup": false,
            "wait_interval": 0
          },
          "base_uri": "https://localhost:8080/",
          "height": 376
        },
        "outputId": "0f6bdab1-c583-497f-c126-1b111e17fbb2",
        "executionInfo": {
          "status": "ok",
          "timestamp": 1525290856597,
          "user_tz": 420,
          "elapsed": 484,
          "user": {
            "displayName": "Ray Heberer",
            "photoUrl": "//lh4.googleusercontent.com/-BMlr5I5Dhow/AAAAAAAAAAI/AAAAAAAAABc/XW4PF5A8K2Q/s50-c-k-no/photo.jpg",
            "userId": "116545933704048584401"
          }
        }
      },
      "cell_type": "code",
      "source": [
        "x = np.linspace(newhaven_data.min(), newhaven_data.max())\n",
        "y = newhaven_ecdf(x)\n",
        "\n",
        "fig = plt.figure()\n",
        "ax = plt.subplot()\n",
        "ax.step(x, y)\n",
        "ax.set(title=\"New Haven Drug-Related Deaths ECDF\", xlabel='Age');"
      ],
      "execution_count": 43,
      "outputs": [
        {
          "output_type": "display_data",
          "data": {
            "image/png": "[encoded data removed]",
            "text/plain": [
              "<matplotlib.figure.Figure at 0x7f32c9ab0240>"
            ]
          },
          "metadata": {
            "tags": []
          }
        }
      ]
    },
    {
      "metadata": {
        "id": "ipF2foRKa9Mc",
        "colab_type": "text"
      },
      "cell_type": "markdown",
      "source": [
        "The relationship between the ECDF and the distribution of the data is that where the ECDF is steeper, the data will be more tightly distributed around that point. In other words, the probability distribution function will take on a higher value.\n",
        "\n",
        "In fact, the probability distribution function is the derivative of the cumulative distribution function, so this relationship becomes exact as the empirical CDF better approximates the true underlying CDF, if one exists.\n",
        "\n",
        "Examining the ECDF for the age of those involved in drug-related deaths in New Haven, we observe that it is steeper around the middle of the domain of the data, and tapers off after age 60. We can see how this translates into the distribution of the data by making another plot."
      ]
    },
    {
      "metadata": {
        "id": "eKguAbfWcFu5",
        "colab_type": "code",
        "colab": {
          "autoexec": {
            "startup": false,
            "wait_interval": 0
          },
          "base_uri": "https://localhost:8080/",
          "height": 347
        },
        "outputId": "b41f1ed1-012f-41ae-b068-18e0b60a3d41",
        "executionInfo": {
          "status": "ok",
          "timestamp": 1525291308156,
          "user_tz": 420,
          "elapsed": 473,
          "user": {
            "displayName": "Ray Heberer",
            "photoUrl": "//lh4.googleusercontent.com/-BMlr5I5Dhow/AAAAAAAAAAI/AAAAAAAAABc/XW4PF5A8K2Q/s50-c-k-no/photo.jpg",
            "userId": "116545933704048584401"
          }
        }
      },
      "cell_type": "code",
      "source": [
        "sns.distplot(newhaven_data);"
      ],
      "execution_count": 47,
      "outputs": [
        {
          "output_type": "display_data",
          "data": {
            "image/png": "[encoded data removed]",
            "text/plain": [
              "<matplotlib.figure.Figure at 0x7f32c98d8780>"
            ]
          },
          "metadata": {
            "tags": []
          }
        }
      ]
    },
    {
      "metadata": {
        "id": "6AV1g4KHcxkG",
        "colab_type": "text"
      },
      "cell_type": "markdown",
      "source": [
        "## Quartiles"
      ]
    },
    {
      "metadata": {
        "id": "SKGFPOt2clIm",
        "colab_type": "code",
        "colab": {
          "autoexec": {
            "startup": false,
            "wait_interval": 0
          },
          "base_uri": "https://localhost:8080/",
          "height": 142
        },
        "outputId": "dad17676-bcc3-4082-b881-0c805f64537d",
        "executionInfo": {
          "status": "ok",
          "timestamp": 1525291435282,
          "user_tz": 420,
          "elapsed": 374,
          "user": {
            "displayName": "Ray Heberer",
            "photoUrl": "//lh4.googleusercontent.com/-BMlr5I5Dhow/AAAAAAAAAAI/AAAAAAAAABc/XW4PF5A8K2Q/s50-c-k-no/photo.jpg",
            "userId": "116545933704048584401"
          }
        }
      },
      "cell_type": "code",
      "source": [
        "quartiles = newhaven_data.describe().loc[['25%', '50%', '75%']]\n",
        "quartiles"
      ],
      "execution_count": 52,
      "outputs": [
        {
          "output_type": "execute_result",
          "data": {
            "text/html": [
              "<div>\n",
              "<style scoped>\n",
              "    .dataframe tbody tr th:only-of-type {\n",
              "        vertical-align: middle;\n",
              "    }\n",
              "\n",
              "    .dataframe tbody tr th {\n",
              "        vertical-align: top;\n",
              "    }\n",
              "\n",
              "    .dataframe thead th {\n",
              "        text-align: right;\n",
              "    }\n",
              "</style>\n",
              "<table border=\"1\" class=\"dataframe\">\n",
              "  <thead>\n",
              "    <tr style=\"text-align: right;\">\n",
              "      <th></th>\n",
              "      <th>Age</th>\n",
              "    </tr>\n",
              "  </thead>\n",
              "  <tbody>\n",
              "    <tr>\n",
              "      <th>25%</th>\n",
              "      <td>35.0</td>\n",
              "    </tr>\n",
              "    <tr>\n",
              "      <th>50%</th>\n",
              "      <td>47.0</td>\n",
              "    </tr>\n",
              "    <tr>\n",
              "      <th>75%</th>\n",
              "      <td>54.0</td>\n",
              "    </tr>\n",
              "  </tbody>\n",
              "</table>\n",
              "</div>"
            ],
            "text/plain": [
              "      Age\n",
              "25%  35.0\n",
              "50%  47.0\n",
              "75%  54.0"
            ]
          },
          "metadata": {
            "tags": []
          },
          "execution_count": 52
        }
      ]
    },
    {
      "metadata": {
        "id": "G9wudBN4dUSf",
        "colab_type": "code",
        "colab": {
          "autoexec": {
            "startup": false,
            "wait_interval": 0
          },
          "base_uri": "https://localhost:8080/",
          "height": 68
        },
        "outputId": "1ca19eae-8a17-40ae-a056-44c208d4ae6b",
        "executionInfo": {
          "status": "ok",
          "timestamp": 1525291513711,
          "user_tz": 420,
          "elapsed": 322,
          "user": {
            "displayName": "Ray Heberer",
            "photoUrl": "//lh4.googleusercontent.com/-BMlr5I5Dhow/AAAAAAAAAAI/AAAAAAAAABc/XW4PF5A8K2Q/s50-c-k-no/photo.jpg",
            "userId": "116545933704048584401"
          }
        }
      },
      "cell_type": "code",
      "source": [
        "for q in quartiles['Age']:\n",
        "    print(q)"
      ],
      "execution_count": 55,
      "outputs": [
        {
          "output_type": "stream",
          "text": [
            "35.0\n",
            "47.0\n",
            "54.0\n"
          ],
          "name": "stdout"
        }
      ]
    },
    {
      "metadata": {
        "id": "Sm6exki1c2EQ",
        "colab_type": "code",
        "colab": {
          "autoexec": {
            "startup": false,
            "wait_interval": 0
          },
          "base_uri": "https://localhost:8080/",
          "height": 376
        },
        "outputId": "4718cdae-8477-4dea-c5af-c0fa53643b4c",
        "executionInfo": {
          "status": "ok",
          "timestamp": 1525291635192,
          "user_tz": 420,
          "elapsed": 515,
          "user": {
            "displayName": "Ray Heberer",
            "photoUrl": "//lh4.googleusercontent.com/-BMlr5I5Dhow/AAAAAAAAAAI/AAAAAAAAABc/XW4PF5A8K2Q/s50-c-k-no/photo.jpg",
            "userId": "116545933704048584401"
          }
        }
      },
      "cell_type": "code",
      "source": [
        "fig = plt.figure()\n",
        "ax = plt.subplot()\n",
        "ax.step(x, y)\n",
        "\n",
        "for q in quartiles['Age']:\n",
        "    qy = newhaven_ecdf(q)\n",
        "    ax.plot(q, qy, 'kD')\n",
        "\n",
        "ax.set(title=\"New Haven Drug-Related Deaths ECDF\", xlabel='Age');"
      ],
      "execution_count": 59,
      "outputs": [
        {
          "output_type": "display_data",
          "data": {
            "image/png": "[encoded data removed]",
            "text/plain": [
              "<matplotlib.figure.Figure at 0x7f32c97bc470>"
            ]
          },
          "metadata": {
            "tags": []
          }
        }
      ]
    },
    {
      "metadata": {
        "id": "dyQKzCKTd_ZC",
        "colab_type": "text"
      },
      "cell_type": "markdown",
      "source": [
        "The quartiles, and more generally any percentile, of the data will have the value of the ECDF at its point be nearly precisely the proportion it denotes. This is expected, given the definition of a percentile: the data value below which a given percent of the data is contained. This corresponds exactly to the definition of a cumulative distribution function: the proportion of data contained below some data value, as a function of the values. Any discrepancy between the numerical label of a percentile and the output of an ECDF as a function of that percentile is due to the empirical nature of the ECDF, and the finite amount of data used to calculate it."
      ]
    }
  ]
}