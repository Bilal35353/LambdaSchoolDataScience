{
  "nbformat": 4,
  "nbformat_minor": 0,
  "metadata": {
    "colab": {
      "name": "Copy of Coding Challenge #4.ipynb",
      "version": "0.3.2",
      "views": {},
      "default_view": {},
      "provenance": [
        {
          "file_id": "1g1EcnZi5sAyBqeoy7IxmuMPkEPio7xyf",
          "timestamp": 1525360002047
        },
        {
          "file_id": "1EwF8mAbi5OEaWG92UDBIpVC67qJjFvW4",
          "timestamp": 1525109917451
        },
        {
          "file_id": "1whyv7pmOGEMQoBsaBjTTGhfHbrs51cnj",
          "timestamp": 1525047564732
        },
        {
          "file_id": "175ySQYZQY1zDjXI1ssRUaIw5_RwjdZKH",
          "timestamp": 1524855810938
        },
        {
          "file_id": "11EzSwRg3zz6Pf9s5XdLXZn92ScKCJAUe",
          "timestamp": 1524838565783
        }
      ]
    },
    "kernelspec": {
      "name": "python3",
      "display_name": "Python 3"
    }
  },
  "cells": [
    {
      "metadata": {
        "id": "Vim6ATB8ADUI",
        "colab_type": "text"
      },
      "cell_type": "markdown",
      "source": [
        "## Coding Challenge #4\n",
        "\n",
        "In this coding challenge, we will construct a bionomial distribution based on the concepts of Bernoulli trials.\n",
        "\n",
        "In a nutshell, a Bernoulli trial is an random experiment with 2 possible outcomes i.e. Success (Yes) or Failure (No). More details on the Bernoulli trial can be found on this website:\n",
        "\n",
        "https://en.wikipedia.org/wiki/Bernoulli_trial\n",
        "\n",
        "**Problem Statement**: Let's say the DCVC venture fund invests in 100 startups. Anywhere between 0 and 100 of the startups will succeed. \n",
        "\n",
        "**Ask?** Construct a biomial distribution of getting a given number of startup successes, given that the probability of a successful startup is p = 0.1\n",
        "\n",
        "\n",
        "We will leverage a step-by-step process to construct the bionomial distribution:\n",
        "\n",
        "**Step 1**: Write a function called conduct_binomial_trials\n",
        "\n",
        "The function takes in 2 arguments and returns the number of successes (i.e. return number_successful) out of n Bionomial trials, each of which has probability p of success. \n",
        "\n",
        "During each Bionomial trial, use the np.random.random() function, which returns a random number between zero and one and compare the *returned* random number to the propability of success. If the random number is less than the probability p of success, increment the \"number_successful\" variable by 1 during each *iteration* of the Bionimial Trial.\n",
        "\n",
        "**Step 2**: Set up a for loop with 10000 iterations to compute the number of successes per 100 investments using the the defined function and store the results returned from each call to the function in an array.  Each call to the defined function will pass in 2 arguments: *the number of trials n* - in this case 100 - and *the probability of success p* - in this case the probability of success 0.1\n",
        "\n",
        "\n",
        "**Step 3**: # Plot the histogram with the size of the array reprensenting the # of bin and label your axes accordingly\n",
        "\n",
        "Use: plt.hist(b_array, normed=True)\n",
        "\n",
        "In this case, b_array is the array you defined in \"Step 2\" aboe to store the number of successes from each call to the conduct_binomial_trails function\n",
        "\n",
        "Setting *normed to true* will esnure that the counts in the array are normalized to form a probability density\n",
        "\n",
        "\n",
        "\n",
        "\n"
      ]
    },
    {
      "metadata": {
        "id": "tIymOrV1i7hv",
        "colab_type": "code",
        "colab": {
          "autoexec": {
            "startup": false,
            "wait_interval": 0
          }
        }
      },
      "cell_type": "code",
      "source": [
        "import numpy as np\n",
        "import matplotlib.pyplot as plt"
      ],
      "execution_count": 0,
      "outputs": []
    },
    {
      "metadata": {
        "id": "MVGJgtkRjDv0",
        "colab_type": "code",
        "colab": {
          "autoexec": {
            "startup": false,
            "wait_interval": 0
          }
        }
      },
      "cell_type": "code",
      "source": [
        "def conduct_binomial_trials(n, p):\n",
        "    \"\"\"Conduct n trials with probability of success p\n",
        "    \n",
        "    Returns:\n",
        "        number_successful (int): number of trials that succeeded\n",
        "    \"\"\"\n",
        "    \n",
        "    number_successful = 0\n",
        "    for _ in range(n):\n",
        "        trial = np.random.random()\n",
        "        if trial < p:\n",
        "            number_successful += 1\n",
        "    return number_successful"
      ],
      "execution_count": 0,
      "outputs": []
    },
    {
      "metadata": {
        "id": "976ScIfCjuEI",
        "colab_type": "code",
        "colab": {
          "autoexec": {
            "startup": false,
            "wait_interval": 0
          }
        }
      },
      "cell_type": "code",
      "source": [
        "b_array = [conduct_binomial_trials(100, 0.1) for _ in range(10000)]"
      ],
      "execution_count": 0,
      "outputs": []
    },
    {
      "metadata": {
        "id": "6QOwtG4Vj3JE",
        "colab_type": "code",
        "colab": {
          "autoexec": {
            "startup": false,
            "wait_interval": 0
          },
          "base_uri": "https://localhost:8080/",
          "height": 376
        },
        "outputId": "2dea6367-1bdf-4ec1-e851-91b74260d30d",
        "executionInfo": {
          "status": "ok",
          "timestamp": 1525360672537,
          "user_tz": 420,
          "elapsed": 2464,
          "user": {
            "displayName": "Ray Heberer",
            "photoUrl": "//lh4.googleusercontent.com/-BMlr5I5Dhow/AAAAAAAAAAI/AAAAAAAAABc/XW4PF5A8K2Q/s50-c-k-no/photo.jpg",
            "userId": "116545933704048584401"
          }
        }
      },
      "cell_type": "code",
      "source": [
        "fig, ax = plt.subplots()\n",
        "ax.hist(b_array, normed=True, bins=range(100))\n",
        "ax.set(title=\"Distribution of Successes in 100 Bernoulli Trials\",\n",
        "      xlabel=\"# Successes\",\n",
        "      ylabel=\"Relative Frequency\");"
      ],
      "execution_count": 4,
      "outputs": [
        {
          "output_type": "display_data",
          "data": {
            "image/png": "[encoded data removed]",
            "text/plain": [
              "<matplotlib.figure.Figure at 0x7fafd3f4b710>"
            ]
          },
          "metadata": {
            "tags": []
          }
        }
      ]
    }
  ]
}