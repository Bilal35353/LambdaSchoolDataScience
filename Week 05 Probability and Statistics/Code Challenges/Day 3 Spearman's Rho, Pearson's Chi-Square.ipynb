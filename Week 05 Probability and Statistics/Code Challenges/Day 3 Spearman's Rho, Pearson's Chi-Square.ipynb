{
  "nbformat": 4,
  "nbformat_minor": 0,
  "metadata": {
    "colab": {
      "name": "Coding Challenge #3.ipynb",
      "version": "0.3.2",
      "views": {},
      "default_view": {},
      "provenance": [
        {
          "file_id": "1EwF8mAbi5OEaWG92UDBIpVC67qJjFvW4",
          "timestamp": 1525273333485
        },
        {
          "file_id": "1whyv7pmOGEMQoBsaBjTTGhfHbrs51cnj",
          "timestamp": 1525047564732
        },
        {
          "file_id": "175ySQYZQY1zDjXI1ssRUaIw5_RwjdZKH",
          "timestamp": 1524855810938
        },
        {
          "file_id": "11EzSwRg3zz6Pf9s5XdLXZn92ScKCJAUe",
          "timestamp": 1524838565783
        }
      ]
    },
    "kernelspec": {
      "name": "python3",
      "display_name": "Python 3"
    }
  },
  "cells": [
    {
      "metadata": {
        "id": "Vim6ATB8ADUI",
        "colab_type": "text"
      },
      "cell_type": "markdown",
      "source": [
        "## Coding Challenge #3\n",
        "\n",
        "In this coding challenge, we will use Spearman's Rank to find the correlation between **categorical, non-linearly related and non-normally distributed variables**. You will gain exposure to 2 key concepts:\n",
        "\n",
        "1) Spearman's Rank Correlation\n",
        "\n",
        "2) Chi-Square tables (The Chi-Square method was covered in the \"Goodness Of Fit\" module. As a pre-requisite to this coding challenge, those models should be reviewed to understand the Chi-Square method)\n",
        "\n",
        "As a guideline:\n",
        "\n",
        "If the p-value is < 0.05 then you reject the null hypothesis and conclude that the variables are **correlated**\n",
        "\n",
        "If the p-value is > 0.05 then you cannot reject the null hypothesis and conclude that the variables are **independent**\n",
        "\n",
        "When computing Spearman's Rank Correlation, you have to ensure the following:\n",
        "\n",
        "a) The variables/attributes are numeric and able to be bucketed into categories\n",
        "\n",
        "b) The variables are related non-lineraly\n",
        "\n",
        "c) The variables are non-normally distibuted\n",
        "\n",
        "\n",
        "Given this background on Spearman's Rank Correlation, there are 3 main objectives you need to accomplish:\n",
        "\n",
        "1) Construct a Scatter Plot of cyl versus am, gear and carb (i.e. 3 different scatter plots) to verify thatthe variables are related non-lineraly and and are not-normally distributed. *A visual examination of the data proves that cycl, am, gear and carb are numeric variables that can be placed in categories.*\n",
        "\n",
        "2) Compute the Spearman's Rank Correlation Coefficient\n",
        "\n",
        "3) Conduct the Chi-Square test to ascertain how the 'cyl' variable is related to am, gear and carb\n",
        "\n",
        "\n",
        "**Dataset to be used**: mtcars dataset that we have used in one of the previous sessions. The dataset is accessible via the following link:\n",
        "\n",
        "https://gist.github.com/seankross/a412dfbd88b3db70b74b\n",
        "\n",
        "\n",
        "\n",
        "\n"
      ]
    },
    {
      "metadata": {
        "id": "x8FG5J-VYfUm",
        "colab_type": "code",
        "colab": {
          "autoexec": {
            "startup": false,
            "wait_interval": 0
          }
        }
      },
      "cell_type": "code",
      "source": [
        "import pandas as pd\n",
        "import numpy as np\n",
        "import matplotlib.pyplot as plt\n",
        "import seaborn as sns\n",
        "from scipy.stats import spearmanr, chi2_contingency"
      ],
      "execution_count": 0,
      "outputs": []
    },
    {
      "metadata": {
        "id": "UX5TyVQwYhNN",
        "colab_type": "code",
        "colab": {
          "autoexec": {
            "startup": false,
            "wait_interval": 0
          }
        }
      },
      "cell_type": "code",
      "source": [
        "data = pd.read_csv('https://gist.githubusercontent.com/seankross/a412dfbd88b3db70b74b/raw/5f23f993cd87c283ce766e7ac6b329ee7cc2e1d1/mtcars.csv')"
      ],
      "execution_count": 0,
      "outputs": []
    },
    {
      "metadata": {
        "id": "JMnDw-rAYjy1",
        "colab_type": "code",
        "colab": {
          "autoexec": {
            "startup": false,
            "wait_interval": 0
          },
          "base_uri": "https://localhost:8080/",
          "height": 204
        },
        "outputId": "34e05ab0-5456-4e4e-f6f5-3a566729c995",
        "executionInfo": {
          "status": "ok",
          "timestamp": 1525273480057,
          "user_tz": 420,
          "elapsed": 473,
          "user": {
            "displayName": "Ray Heberer",
            "photoUrl": "//lh4.googleusercontent.com/-BMlr5I5Dhow/AAAAAAAAAAI/AAAAAAAAABc/XW4PF5A8K2Q/s50-c-k-no/photo.jpg",
            "userId": "116545933704048584401"
          }
        }
      },
      "cell_type": "code",
      "source": [
        "data.head()"
      ],
      "execution_count": 3,
      "outputs": [
        {
          "output_type": "execute_result",
          "data": {
            "text/html": [
              "<div>\n",
              "<style scoped>\n",
              "    .dataframe tbody tr th:only-of-type {\n",
              "        vertical-align: middle;\n",
              "    }\n",
              "\n",
              "    .dataframe tbody tr th {\n",
              "        vertical-align: top;\n",
              "    }\n",
              "\n",
              "    .dataframe thead th {\n",
              "        text-align: right;\n",
              "    }\n",
              "</style>\n",
              "<table border=\"1\" class=\"dataframe\">\n",
              "  <thead>\n",
              "    <tr style=\"text-align: right;\">\n",
              "      <th></th>\n",
              "      <th>model</th>\n",
              "      <th>mpg</th>\n",
              "      <th>cyl</th>\n",
              "      <th>disp</th>\n",
              "      <th>hp</th>\n",
              "      <th>drat</th>\n",
              "      <th>wt</th>\n",
              "      <th>qsec</th>\n",
              "      <th>vs</th>\n",
              "      <th>am</th>\n",
              "      <th>gear</th>\n",
              "      <th>carb</th>\n",
              "    </tr>\n",
              "  </thead>\n",
              "  <tbody>\n",
              "    <tr>\n",
              "      <th>0</th>\n",
              "      <td>Mazda RX4</td>\n",
              "      <td>21.0</td>\n",
              "      <td>6</td>\n",
              "      <td>160.0</td>\n",
              "      <td>110</td>\n",
              "      <td>3.90</td>\n",
              "      <td>2.620</td>\n",
              "      <td>16.46</td>\n",
              "      <td>0</td>\n",
              "      <td>1</td>\n",
              "      <td>4</td>\n",
              "      <td>4</td>\n",
              "    </tr>\n",
              "    <tr>\n",
              "      <th>1</th>\n",
              "      <td>Mazda RX4 Wag</td>\n",
              "      <td>21.0</td>\n",
              "      <td>6</td>\n",
              "      <td>160.0</td>\n",
              "      <td>110</td>\n",
              "      <td>3.90</td>\n",
              "      <td>2.875</td>\n",
              "      <td>17.02</td>\n",
              "      <td>0</td>\n",
              "      <td>1</td>\n",
              "      <td>4</td>\n",
              "      <td>4</td>\n",
              "    </tr>\n",
              "    <tr>\n",
              "      <th>2</th>\n",
              "      <td>Datsun 710</td>\n",
              "      <td>22.8</td>\n",
              "      <td>4</td>\n",
              "      <td>108.0</td>\n",
              "      <td>93</td>\n",
              "      <td>3.85</td>\n",
              "      <td>2.320</td>\n",
              "      <td>18.61</td>\n",
              "      <td>1</td>\n",
              "      <td>1</td>\n",
              "      <td>4</td>\n",
              "      <td>1</td>\n",
              "    </tr>\n",
              "    <tr>\n",
              "      <th>3</th>\n",
              "      <td>Hornet 4 Drive</td>\n",
              "      <td>21.4</td>\n",
              "      <td>6</td>\n",
              "      <td>258.0</td>\n",
              "      <td>110</td>\n",
              "      <td>3.08</td>\n",
              "      <td>3.215</td>\n",
              "      <td>19.44</td>\n",
              "      <td>1</td>\n",
              "      <td>0</td>\n",
              "      <td>3</td>\n",
              "      <td>1</td>\n",
              "    </tr>\n",
              "    <tr>\n",
              "      <th>4</th>\n",
              "      <td>Hornet Sportabout</td>\n",
              "      <td>18.7</td>\n",
              "      <td>8</td>\n",
              "      <td>360.0</td>\n",
              "      <td>175</td>\n",
              "      <td>3.15</td>\n",
              "      <td>3.440</td>\n",
              "      <td>17.02</td>\n",
              "      <td>0</td>\n",
              "      <td>0</td>\n",
              "      <td>3</td>\n",
              "      <td>2</td>\n",
              "    </tr>\n",
              "  </tbody>\n",
              "</table>\n",
              "</div>"
            ],
            "text/plain": [
              "               model   mpg  cyl   disp   hp  drat     wt   qsec  vs  am  gear  \\\n",
              "0          Mazda RX4  21.0    6  160.0  110  3.90  2.620  16.46   0   1     4   \n",
              "1      Mazda RX4 Wag  21.0    6  160.0  110  3.90  2.875  17.02   0   1     4   \n",
              "2         Datsun 710  22.8    4  108.0   93  3.85  2.320  18.61   1   1     4   \n",
              "3     Hornet 4 Drive  21.4    6  258.0  110  3.08  3.215  19.44   1   0     3   \n",
              "4  Hornet Sportabout  18.7    8  360.0  175  3.15  3.440  17.02   0   0     3   \n",
              "\n",
              "   carb  \n",
              "0     4  \n",
              "1     4  \n",
              "2     1  \n",
              "3     1  \n",
              "4     2  "
            ]
          },
          "metadata": {
            "tags": []
          },
          "execution_count": 3
        }
      ]
    },
    {
      "metadata": {
        "id": "gEJ8kqDSePLD",
        "colab_type": "text"
      },
      "cell_type": "markdown",
      "source": [
        "## Confirming Nonlinearity and Non-normal Distributions"
      ]
    },
    {
      "metadata": {
        "id": "eGLXW3f7YtgP",
        "colab_type": "code",
        "colab": {
          "autoexec": {
            "startup": false,
            "wait_interval": 0
          },
          "base_uri": "https://localhost:8080/",
          "height": 349
        },
        "outputId": "25537666-78b6-4bd6-ee2c-fbe88e4748ec",
        "executionInfo": {
          "status": "ok",
          "timestamp": 1525273781687,
          "user_tz": 420,
          "elapsed": 708,
          "user": {
            "displayName": "Ray Heberer",
            "photoUrl": "//lh4.googleusercontent.com/-BMlr5I5Dhow/AAAAAAAAAAI/AAAAAAAAABc/XW4PF5A8K2Q/s50-c-k-no/photo.jpg",
            "userId": "116545933704048584401"
          }
        }
      },
      "cell_type": "code",
      "source": [
        "fig, axs = plt.subplots(1, 3, figsize=(12, 5))\n",
        "\n",
        "for ix, d in enumerate(['am', 'gear', 'carb']):\n",
        "    axs[ix].scatter(y=data['cyl'], x=data[d])\n",
        "    axs[ix].set(title='cyl vs {}'.format(d), ylabel='cyl', xlabel=d)"
      ],
      "execution_count": 11,
      "outputs": [
        {
          "output_type": "display_data",
          "data": {
            "image/png": "[encoded data removed]",
            "text/plain": [
              "<matplotlib.figure.Figure at 0x7f25c16f5160>"
            ]
          },
          "metadata": {
            "tags": []
          }
        }
      ]
    },
    {
      "metadata": {
        "id": "A9zIAy1-ZyYd",
        "colab_type": "text"
      },
      "cell_type": "markdown",
      "source": [
        "None of the variables in question are related linearly to `'cyl'`."
      ]
    },
    {
      "metadata": {
        "id": "3ph6poTQZ4bX",
        "colab_type": "code",
        "colab": {
          "autoexec": {
            "startup": false,
            "wait_interval": 0
          },
          "base_uri": "https://localhost:8080/",
          "height": 376
        },
        "outputId": "4da0d585-a82d-49a4-e290-977ad6db5476",
        "executionInfo": {
          "status": "ok",
          "timestamp": 1525274022123,
          "user_tz": 420,
          "elapsed": 939,
          "user": {
            "displayName": "Ray Heberer",
            "photoUrl": "//lh4.googleusercontent.com/-BMlr5I5Dhow/AAAAAAAAAAI/AAAAAAAAABc/XW4PF5A8K2Q/s50-c-k-no/photo.jpg",
            "userId": "116545933704048584401"
          }
        }
      },
      "cell_type": "code",
      "source": [
        "fig, axs = plt.subplots(2, 2)\n",
        "fig.subplots_adjust(hspace=0.5)\n",
        "\n",
        "for ix, d in enumerate(['cyl', 'am', 'gear', 'carb']):\n",
        "    x = ix // 2\n",
        "    y = ix % 2\n",
        "    \n",
        "    sns.distplot(data[d], ax=axs[x,y])\n",
        "    axs[x,y].set(title='Distribution of {}'.format(d))"
      ],
      "execution_count": 17,
      "outputs": [
        {
          "output_type": "display_data",
          "data": {
            "image/png": "[encoded data removed]",
            "text/plain": [
              "<matplotlib.figure.Figure at 0x7f25c1036a90>"
            ]
          },
          "metadata": {
            "tags": []
          }
        }
      ]
    },
    {
      "metadata": {
        "id": "aW-3V-WVata6",
        "colab_type": "text"
      },
      "cell_type": "markdown",
      "source": [
        "None of the variables appear to be normally distributed, though there is little data with which to make estimates of the distributions."
      ]
    },
    {
      "metadata": {
        "id": "ry6IP_gkeZhu",
        "colab_type": "text"
      },
      "cell_type": "markdown",
      "source": [
        "## Spearman's Rank Correlation"
      ]
    },
    {
      "metadata": {
        "id": "WXamVxNFa0IS",
        "colab_type": "code",
        "colab": {
          "autoexec": {
            "startup": false,
            "wait_interval": 0
          },
          "base_uri": "https://localhost:8080/",
          "height": 153
        },
        "outputId": "72cba7f6-5ade-493c-c43c-f6a25fde859d",
        "executionInfo": {
          "status": "ok",
          "timestamp": 1525274682499,
          "user_tz": 420,
          "elapsed": 441,
          "user": {
            "displayName": "Ray Heberer",
            "photoUrl": "//lh4.googleusercontent.com/-BMlr5I5Dhow/AAAAAAAAAAI/AAAAAAAAABc/XW4PF5A8K2Q/s50-c-k-no/photo.jpg",
            "userId": "116545933704048584401"
          }
        }
      },
      "cell_type": "code",
      "source": [
        "M = data[['cyl', 'am', 'gear', 'carb']].as_matrix()\n",
        "\n",
        "rho, pval = spearmanr(M)\n",
        "print(rho, '\\n', pval)"
      ],
      "execution_count": 24,
      "outputs": [
        {
          "output_type": "stream",
          "text": [
            "[[ 1.         -0.52207118 -0.56431047  0.58006798]\n",
            " [-0.52207118  1.          0.807688   -0.06436525]\n",
            " [-0.56431047  0.807688    1.          0.11488698]\n",
            " [ 0.58006798 -0.06436525  0.11488698  1.        ]] \n",
            " [[7.44413602e-232 2.17804644e-003 7.67820884e-004 5.01664321e-004]\n",
            " [2.17804644e-003 0.00000000e+000 2.30406284e-008 7.26352356e-001]\n",
            " [7.67820884e-004 2.30406284e-008 0.00000000e+000 5.31235752e-001]\n",
            " [5.01664321e-004 7.26352356e-001 5.31235752e-001 7.44413602e-232]]\n"
          ],
          "name": "stdout"
        }
      ]
    },
    {
      "metadata": {
        "id": "DCpUWChDcoVc",
        "colab_type": "text"
      },
      "cell_type": "markdown",
      "source": [
        "The rank correlation coefficient for `'cyl'` with the other variables is given by the first column/row of the correlation matrix. The associated column of the p-value matrix contains the results of a hypothesis test, showing the probability that two uncorrelated variables would result in the corresponding correlation coefficient obtained."
      ]
    },
    {
      "metadata": {
        "id": "FmWGkUEddGgh",
        "colab_type": "code",
        "colab": {
          "autoexec": {
            "startup": false,
            "wait_interval": 0
          }
        }
      },
      "cell_type": "code",
      "source": [
        "rho_cyl_am, p_cyl_am = rho[0, 1], pval[0, 1]\n",
        "rho_cyl_gear, p_cyl_gear = rho[0, 2], pval[0, 2]\n",
        "rho_cyl_carb, p_cyl_carb = rho[0, 3], pval[0, 3]"
      ],
      "execution_count": 0,
      "outputs": []
    },
    {
      "metadata": {
        "id": "8j36greqdhJ-",
        "colab_type": "code",
        "colab": {
          "autoexec": {
            "startup": false,
            "wait_interval": 0
          },
          "base_uri": "https://localhost:8080/",
          "height": 142
        },
        "outputId": "69d8bec2-9212-4a45-fc1d-cd987e3871d5",
        "executionInfo": {
          "status": "ok",
          "timestamp": 1525274946540,
          "user_tz": 420,
          "elapsed": 558,
          "user": {
            "displayName": "Ray Heberer",
            "photoUrl": "//lh4.googleusercontent.com/-BMlr5I5Dhow/AAAAAAAAAAI/AAAAAAAAABc/XW4PF5A8K2Q/s50-c-k-no/photo.jpg",
            "userId": "116545933704048584401"
          }
        }
      },
      "cell_type": "code",
      "source": [
        "correlation = pd.DataFrame([[rho_cyl_am, rho_cyl_gear, rho_cyl_carb], [p_cyl_am, p_cyl_gear, p_cyl_carb]]).T\n",
        "correlation.columns = ['Coefficient', 'p-value']\n",
        "correlation.index = ['cyl-am', 'cyl-gear', 'cyl-carb']\n",
        "correlation"
      ],
      "execution_count": 32,
      "outputs": [
        {
          "output_type": "execute_result",
          "data": {
            "text/html": [
              "<div>\n",
              "<style scoped>\n",
              "    .dataframe tbody tr th:only-of-type {\n",
              "        vertical-align: middle;\n",
              "    }\n",
              "\n",
              "    .dataframe tbody tr th {\n",
              "        vertical-align: top;\n",
              "    }\n",
              "\n",
              "    .dataframe thead th {\n",
              "        text-align: right;\n",
              "    }\n",
              "</style>\n",
              "<table border=\"1\" class=\"dataframe\">\n",
              "  <thead>\n",
              "    <tr style=\"text-align: right;\">\n",
              "      <th></th>\n",
              "      <th>Coefficient</th>\n",
              "      <th>p-value</th>\n",
              "    </tr>\n",
              "  </thead>\n",
              "  <tbody>\n",
              "    <tr>\n",
              "      <th>cyl-am</th>\n",
              "      <td>-0.522071</td>\n",
              "      <td>0.002178</td>\n",
              "    </tr>\n",
              "    <tr>\n",
              "      <th>cyl-gear</th>\n",
              "      <td>-0.564310</td>\n",
              "      <td>0.000768</td>\n",
              "    </tr>\n",
              "    <tr>\n",
              "      <th>cyl-carb</th>\n",
              "      <td>0.580068</td>\n",
              "      <td>0.000502</td>\n",
              "    </tr>\n",
              "  </tbody>\n",
              "</table>\n",
              "</div>"
            ],
            "text/plain": [
              "          Coefficient   p-value\n",
              "cyl-am      -0.522071  0.002178\n",
              "cyl-gear    -0.564310  0.000768\n",
              "cyl-carb     0.580068  0.000502"
            ]
          },
          "metadata": {
            "tags": []
          },
          "execution_count": 32
        }
      ]
    },
    {
      "metadata": {
        "id": "gs6wIdGtedVb",
        "colab_type": "text"
      },
      "cell_type": "markdown",
      "source": [
        "## Pearson's Chi-Squared Test"
      ]
    },
    {
      "metadata": {
        "id": "w9EXTcIuiFAW",
        "colab_type": "text"
      },
      "cell_type": "markdown",
      "source": [
        "[Pearson's chi-squared test](https://en.wikipedia.org/wiki/Pearson%27s_chi-squared_test) can assess whether unpaired observations of two categorical variables are independent, when they are expressed in a contingency table. [pd.crosstab](https://pandas.pydata.org/pandas-docs/stable/generated/pandas.crosstab.html) can easily construct contingency tables."
      ]
    },
    {
      "metadata": {
        "id": "VUu-raRrgVHh",
        "colab_type": "code",
        "colab": {
          "autoexec": {
            "startup": false,
            "wait_interval": 0
          }
        }
      },
      "cell_type": "code",
      "source": [
        "cont_cyl_am = pd.crosstab(data['cyl'], data['am'])\n",
        "cont_cyl_gear = pd.crosstab(data['cyl'], data['gear'])\n",
        "cont_cyl_carb = pd.crosstab(data['cyl'], data['carb'])"
      ],
      "execution_count": 0,
      "outputs": []
    },
    {
      "metadata": {
        "id": "6pOtwHe1gi76",
        "colab_type": "code",
        "colab": {
          "autoexec": {
            "startup": false,
            "wait_interval": 0
          },
          "base_uri": "https://localhost:8080/",
          "height": 173
        },
        "outputId": "24c6c66a-cfd3-4ab6-b408-1929b30af0a4",
        "executionInfo": {
          "status": "ok",
          "timestamp": 1525275578240,
          "user_tz": 420,
          "elapsed": 608,
          "user": {
            "displayName": "Ray Heberer",
            "photoUrl": "//lh4.googleusercontent.com/-BMlr5I5Dhow/AAAAAAAAAAI/AAAAAAAAABc/XW4PF5A8K2Q/s50-c-k-no/photo.jpg",
            "userId": "116545933704048584401"
          }
        }
      },
      "cell_type": "code",
      "source": [
        "cont_cyl_am"
      ],
      "execution_count": 43,
      "outputs": [
        {
          "output_type": "execute_result",
          "data": {
            "text/html": [
              "<div>\n",
              "<style scoped>\n",
              "    .dataframe tbody tr th:only-of-type {\n",
              "        vertical-align: middle;\n",
              "    }\n",
              "\n",
              "    .dataframe tbody tr th {\n",
              "        vertical-align: top;\n",
              "    }\n",
              "\n",
              "    .dataframe thead th {\n",
              "        text-align: right;\n",
              "    }\n",
              "</style>\n",
              "<table border=\"1\" class=\"dataframe\">\n",
              "  <thead>\n",
              "    <tr style=\"text-align: right;\">\n",
              "      <th>am</th>\n",
              "      <th>0</th>\n",
              "      <th>1</th>\n",
              "    </tr>\n",
              "    <tr>\n",
              "      <th>cyl</th>\n",
              "      <th></th>\n",
              "      <th></th>\n",
              "    </tr>\n",
              "  </thead>\n",
              "  <tbody>\n",
              "    <tr>\n",
              "      <th>4</th>\n",
              "      <td>3</td>\n",
              "      <td>8</td>\n",
              "    </tr>\n",
              "    <tr>\n",
              "      <th>6</th>\n",
              "      <td>4</td>\n",
              "      <td>3</td>\n",
              "    </tr>\n",
              "    <tr>\n",
              "      <th>8</th>\n",
              "      <td>12</td>\n",
              "      <td>2</td>\n",
              "    </tr>\n",
              "  </tbody>\n",
              "</table>\n",
              "</div>"
            ],
            "text/plain": [
              "am    0  1\n",
              "cyl       \n",
              "4     3  8\n",
              "6     4  3\n",
              "8    12  2"
            ]
          },
          "metadata": {
            "tags": []
          },
          "execution_count": 43
        }
      ]
    },
    {
      "metadata": {
        "id": "0cW9CJ2PgmRa",
        "colab_type": "code",
        "colab": {
          "autoexec": {
            "startup": false,
            "wait_interval": 0
          },
          "base_uri": "https://localhost:8080/",
          "height": 142
        },
        "outputId": "0c7928cd-2b38-4d3b-b102-657684ce8678",
        "executionInfo": {
          "status": "ok",
          "timestamp": 1525275793885,
          "user_tz": 420,
          "elapsed": 591,
          "user": {
            "displayName": "Ray Heberer",
            "photoUrl": "//lh4.googleusercontent.com/-BMlr5I5Dhow/AAAAAAAAAAI/AAAAAAAAABc/XW4PF5A8K2Q/s50-c-k-no/photo.jpg",
            "userId": "116545933704048584401"
          }
        }
      },
      "cell_type": "code",
      "source": [
        "chi2_am, p_am = chi2_contingency(cont_cyl_am)[0:2]\n",
        "chi2_gear, p_gear = chi2_contingency(cont_cyl_gear)[0:2]\n",
        "chi2_carb, p_carb = chi2_contingency(cont_cyl_carb)[0:2]\n",
        "\n",
        "chisquare = pd.DataFrame([[chi2_am, chi2_gear, chi2_carb], [p_am, p_gear, p_carb]]).T\n",
        "chisquare.columns = ['Chi-Square', 'p-value']\n",
        "chisquare.index = ['cyl-am', 'cyl-gear', 'cyl-carb']\n",
        "chisquare"
      ],
      "execution_count": 50,
      "outputs": [
        {
          "output_type": "execute_result",
          "data": {
            "text/html": [
              "<div>\n",
              "<style scoped>\n",
              "    .dataframe tbody tr th:only-of-type {\n",
              "        vertical-align: middle;\n",
              "    }\n",
              "\n",
              "    .dataframe tbody tr th {\n",
              "        vertical-align: top;\n",
              "    }\n",
              "\n",
              "    .dataframe thead th {\n",
              "        text-align: right;\n",
              "    }\n",
              "</style>\n",
              "<table border=\"1\" class=\"dataframe\">\n",
              "  <thead>\n",
              "    <tr style=\"text-align: right;\">\n",
              "      <th></th>\n",
              "      <th>Chi-Square</th>\n",
              "      <th>p-value</th>\n",
              "    </tr>\n",
              "  </thead>\n",
              "  <tbody>\n",
              "    <tr>\n",
              "      <th>cyl-am</th>\n",
              "      <td>8.740733</td>\n",
              "      <td>0.012647</td>\n",
              "    </tr>\n",
              "    <tr>\n",
              "      <th>cyl-gear</th>\n",
              "      <td>18.036364</td>\n",
              "      <td>0.001214</td>\n",
              "    </tr>\n",
              "    <tr>\n",
              "      <th>cyl-carb</th>\n",
              "      <td>24.388868</td>\n",
              "      <td>0.006632</td>\n",
              "    </tr>\n",
              "  </tbody>\n",
              "</table>\n",
              "</div>"
            ],
            "text/plain": [
              "          Chi-Square   p-value\n",
              "cyl-am      8.740733  0.012647\n",
              "cyl-gear   18.036364  0.001214\n",
              "cyl-carb   24.388868  0.006632"
            ]
          },
          "metadata": {
            "tags": []
          },
          "execution_count": 50
        }
      ]
    },
    {
      "metadata": {
        "id": "w3UUzgnrhjrS",
        "colab_type": "text"
      },
      "cell_type": "markdown",
      "source": [
        "With 2 degrees of freedom, a chi-square statistic greater than 5.99 corresponds to a p-value of 0.05, while a statistic greater than 9.21 coresponds to a p-value below 0.01.\n",
        "\n",
        "This is consistent with our results, and we can reject the null hypotheses that `cyl` is independent of `am`, that `cyl` is independent of `gear`, and that `cyl` is independent of `carb`"
      ]
    }
  ]
}