{
  "nbformat": 4,
  "nbformat_minor": 0,
  "metadata": {
    "colab": {
      "name": "Project Assignment # 1.ipynb",
      "version": "0.3.2",
      "views": {},
      "default_view": {},
      "provenance": [
        {
          "file_id": "11J50q1mLiAIsQp8jGMW1nGfkl7vD8_Vo",
          "timestamp": 1525120891049
        },
        {
          "file_id": "19LpsAk1DQoHmJFhF9-182mfvdRdFcvja",
          "timestamp": 1524873191752
        }
      ]
    },
    "kernelspec": {
      "name": "python3",
      "display_name": "Python 3"
    }
  },
  "cells": [
    {
      "metadata": {
        "id": "5Df5yvC99sYU",
        "colab_type": "text"
      },
      "cell_type": "markdown",
      "source": [
        "Project Assignment #1\n",
        "In this project assignment, we are going to use the \"Traffic Tickets Issued: Four Year Window\" data set available from the Data.Gov website (https://catalog.data.gov/dataset?groups=local&organization_type=State+Government#topic=local_navigation).\n",
        "\n",
        "The focus of the analysis will be oriented towards the following attributes within the cities of :\n",
        "\n",
        "1) Violation Year\n",
        "\n",
        "2) Violation Month\n",
        "\n",
        "3) Violation Day of Week\n",
        "\n",
        "4) Age at Violation\n",
        "\n",
        "5) Gender\n",
        "\n",
        "There are a few objectives you need to accomplish:\n",
        "\n",
        "1) Examine the above-mentioned attributes in the data set for any missing values\n",
        "\n",
        "2) If there are any missing values, treat the misisng values. Here is a article that provides insight into the common methods to deal with missing values:\n",
        "\n",
        "https://towardsdatascience.com/working-with-missing-data-in-machine-learning-9c0a430df4ce\n",
        "\n",
        "Please the tips provided in the article to deal with missing values\n",
        "\n",
        "3) Compute summary statistics for the \"age at violation\" for Males and Females respectively\n",
        "\n",
        "a) Mean, b) Median, c) Standard Deviation, d) Variance\n",
        "\n",
        "4) Construct a Boxplot to surface the 25%, 50% and 75% percentiles of \"Age at Violation\" by Gender\n",
        "\n",
        "5) Construct Histograms to showcase the following:\n",
        "\n",
        "a) Count of Violations by Day of Week\n",
        "\n",
        "b) Count of Violations by Month\n",
        "\n",
        "c) Count of Violations by Gender\n",
        "\n",
        "6) Hone in on the data set for the Year 2015. Does the 'Age at Violations' and the total number of violations vary together? Construct a scatter plot that plots the 'Violation at Age' v/s the Total # Of Violation'. Does the Scatter Plot point to a positive covariance? Now, compute the Covariance. Perform this analysis for both the genders.\n",
        "\n",
        "7) Compute the Correlation Coefficient between the 2 variable i.e. 'Violation at Age' and the 'Total # Of Violations'. Perform this analysis for both the genders."
      ]
    },
    {
      "metadata": {
        "id": "nk67NLwYUWCG",
        "colab_type": "code",
        "colab": {
          "autoexec": {
            "startup": false,
            "wait_interval": 0
          }
        }
      },
      "cell_type": "code",
      "source": [
        "import numpy as np\n",
        "import pandas as pd\n",
        "import matplotlib.pyplot as plt\n",
        "import seaborn as sns"
      ],
      "execution_count": 0,
      "outputs": []
    },
    {
      "metadata": {
        "id": "UWANZYTDUTv4",
        "colab_type": "text"
      },
      "cell_type": "markdown",
      "source": [
        "## Load Data"
      ]
    },
    {
      "metadata": {
        "id": "du2HMes6acZE",
        "colab_type": "code",
        "colab": {
          "autoexec": {
            "startup": false,
            "wait_interval": 0
          }
        }
      },
      "cell_type": "code",
      "source": [
        "# run only once!\n",
        "\n",
        "!pip install -U -q PyDrive"
      ],
      "execution_count": 0,
      "outputs": []
    },
    {
      "metadata": {
        "id": "PtqfDflUad13",
        "colab_type": "code",
        "colab": {
          "autoexec": {
            "startup": false,
            "wait_interval": 0
          }
        }
      },
      "cell_type": "code",
      "source": [
        "from pydrive.auth import GoogleAuth\n",
        "from pydrive.drive import GoogleDrive\n",
        "from google.colab import auth\n",
        "from oauth2client.client import GoogleCredentials\n",
        "\n",
        "# file_id: string (id of the file you want to download)\n",
        "# title: string (name which you want to give to the file being downloaded)\n",
        "\n",
        "    \n",
        "def upload_file_to_drive(file, title):\n",
        "    auth.authenticate_user()\n",
        "    gauth = GoogleAuth()\n",
        "    gauth.credentials = GoogleCredentials.get_application_default()\n",
        "    drive = GoogleDrive(gauth)\n",
        "\n",
        "    export = drive.CreateFile({'title':title})  \n",
        "    export.SetContentFile(file)\n",
        "    export.Upload()\n",
        "\n",
        "    return export['id']  \n",
        "\n",
        "def download_file_from_drive(file_id, title):\n",
        "    auth.authenticate_user()\n",
        "    gauth = GoogleAuth()\n",
        "    gauth.credentials = GoogleCredentials.get_application_default()\n",
        "    drive = GoogleDrive(gauth)\n",
        "  \n",
        "    download = drive.CreateFile({'id': file_id})\n",
        "    download.GetContentFile(title)\n"
      ],
      "execution_count": 0,
      "outputs": []
    },
    {
      "metadata": {
        "id": "Zt7vgMFEaywd",
        "colab_type": "code",
        "colab": {
          "autoexec": {
            "startup": false,
            "wait_interval": 0
          },
          "base_uri": "https://localhost:8080/",
          "height": 221
        },
        "outputId": "7ba313c2-1f62-4a0d-f9ec-02cc0738a1c1",
        "executionInfo": {
          "status": "ok",
          "timestamp": 1525206986565,
          "user_tz": 420,
          "elapsed": 13358,
          "user": {
            "displayName": "Ray Heberer",
            "photoUrl": "//lh4.googleusercontent.com/-BMlr5I5Dhow/AAAAAAAAAAI/AAAAAAAAABc/XW4PF5A8K2Q/s50-c-k-no/photo.jpg",
            "userId": "116545933704048584401"
          }
        }
      },
      "cell_type": "code",
      "source": [
        "# run only once!\n",
        "\n",
        "!wget https://data.ny.gov/api/views/q4hy-kbtf/rows.csv -O violations.csv"
      ],
      "execution_count": 4,
      "outputs": [
        {
          "output_type": "stream",
          "text": [
            "--2018-05-01 20:36:16--  https://data.ny.gov/api/views/q4hy-kbtf/rows.csv\n",
            "Resolving data.ny.gov (data.ny.gov)... 52.206.140.199\n",
            "Connecting to data.ny.gov (data.ny.gov)|52.206.140.199|:443... connected.\n",
            "HTTP request sent, awaiting response... 200 OK\n",
            "Length: unspecified [text/csv]\n",
            "Saving to: ‘violations.csv’\n",
            "\n",
            "violations.csv          [           <=>      ]   1.45G   108MB/s    in 12s     \n",
            "\n",
            "Last-modified header invalid -- time-stamp ignored.\n",
            "2018-05-01 20:36:28 (128 MB/s) - ‘violations.csv’ saved [1558223985]\n",
            "\n"
          ],
          "name": "stdout"
        }
      ]
    },
    {
      "metadata": {
        "id": "ygM5cVyPbGAT",
        "colab_type": "code",
        "colab": {
          "autoexec": {
            "startup": false,
            "wait_interval": 0
          }
        }
      },
      "cell_type": "code",
      "source": [
        "# run only once!\n",
        "\n",
        "file_id = upload_file_to_drive('violations.csv', 'violations_uploaded.csv')\n",
        "download_file_from_drive(file_id, 'violations_downloaded.csv')"
      ],
      "execution_count": 0,
      "outputs": []
    },
    {
      "metadata": {
        "id": "hVB-lXnZUXhN",
        "colab_type": "code",
        "colab": {
          "autoexec": {
            "startup": false,
            "wait_interval": 0
          }
        }
      },
      "cell_type": "code",
      "source": [
        "data = pd.read_csv('violations_downloaded.csv')"
      ],
      "execution_count": 0,
      "outputs": []
    },
    {
      "metadata": {
        "id": "TA7m96K8bSmN",
        "colab_type": "text"
      },
      "cell_type": "markdown",
      "source": [
        "## Examine/Treat Data"
      ]
    },
    {
      "metadata": {
        "id": "i9QcabBDUsdK",
        "colab_type": "code",
        "colab": {
          "autoexec": {
            "startup": false,
            "wait_interval": 0
          },
          "base_uri": "https://localhost:8080/",
          "height": 340
        },
        "outputId": "dcce5b1e-8311-411d-cf1a-43c7f04808f3",
        "executionInfo": {
          "status": "ok",
          "timestamp": 1525215397397,
          "user_tz": 420,
          "elapsed": 562,
          "user": {
            "displayName": "Ray Heberer",
            "photoUrl": "//lh4.googleusercontent.com/-BMlr5I5Dhow/AAAAAAAAAAI/AAAAAAAAABc/XW4PF5A8K2Q/s50-c-k-no/photo.jpg",
            "userId": "116545933704048584401"
          }
        }
      },
      "cell_type": "code",
      "source": [
        "print(data.shape)\n",
        "data.head()"
      ],
      "execution_count": 34,
      "outputs": [
        {
          "output_type": "stream",
          "text": [
            "(14275009, 11)\n"
          ],
          "name": "stdout"
        },
        {
          "output_type": "execute_result",
          "data": {
            "text/html": [
              "<div>\n",
              "<style scoped>\n",
              "    .dataframe tbody tr th:only-of-type {\n",
              "        vertical-align: middle;\n",
              "    }\n",
              "\n",
              "    .dataframe tbody tr th {\n",
              "        vertical-align: top;\n",
              "    }\n",
              "\n",
              "    .dataframe thead th {\n",
              "        text-align: right;\n",
              "    }\n",
              "</style>\n",
              "<table border=\"1\" class=\"dataframe\">\n",
              "  <thead>\n",
              "    <tr style=\"text-align: right;\">\n",
              "      <th></th>\n",
              "      <th>Violation Charged Code</th>\n",
              "      <th>Violation Description</th>\n",
              "      <th>Violation Year</th>\n",
              "      <th>Violation Month</th>\n",
              "      <th>Violation Day of Week</th>\n",
              "      <th>Age at Violation</th>\n",
              "      <th>Gender</th>\n",
              "      <th>State of License</th>\n",
              "      <th>Police Agency</th>\n",
              "      <th>Court</th>\n",
              "      <th>Source</th>\n",
              "    </tr>\n",
              "  </thead>\n",
              "  <tbody>\n",
              "    <tr>\n",
              "      <th>0</th>\n",
              "      <td>5091G</td>\n",
              "      <td>UNLICENSED GT 60DAYS</td>\n",
              "      <td>2015</td>\n",
              "      <td>1</td>\n",
              "      <td>THURSDAY</td>\n",
              "      <td>55.0</td>\n",
              "      <td>M</td>\n",
              "      <td>NEW YORK</td>\n",
              "      <td>NYC POLICE DEPT</td>\n",
              "      <td>QUEENS SOUTH TVB</td>\n",
              "      <td>TVB</td>\n",
              "    </tr>\n",
              "    <tr>\n",
              "      <th>1</th>\n",
              "      <td>376</td>\n",
              "      <td>LIGHTING-VARIOUS VIO</td>\n",
              "      <td>2015</td>\n",
              "      <td>1</td>\n",
              "      <td>THURSDAY</td>\n",
              "      <td>24.0</td>\n",
              "      <td>M</td>\n",
              "      <td>NEW YORK</td>\n",
              "      <td>NYC POLICE DEPT</td>\n",
              "      <td>QUEENS SOUTH TVB</td>\n",
              "      <td>TVB</td>\n",
              "    </tr>\n",
              "    <tr>\n",
              "      <th>2</th>\n",
              "      <td>1160C</td>\n",
              "      <td>IMPROPER LEFT TURN ON ONE-WAY RDWY</td>\n",
              "      <td>2015</td>\n",
              "      <td>2</td>\n",
              "      <td>MONDAY</td>\n",
              "      <td>62.0</td>\n",
              "      <td>M</td>\n",
              "      <td>NEW YORK</td>\n",
              "      <td>NYC POLICE DEPT</td>\n",
              "      <td>MANHATTAN SOUTH TVB</td>\n",
              "      <td>TVB</td>\n",
              "    </tr>\n",
              "    <tr>\n",
              "      <th>3</th>\n",
              "      <td>5091G</td>\n",
              "      <td>UNLICENSED GT 60DAYS</td>\n",
              "      <td>2015</td>\n",
              "      <td>9</td>\n",
              "      <td>THURSDAY</td>\n",
              "      <td>33.0</td>\n",
              "      <td>F</td>\n",
              "      <td>MICHIGAN</td>\n",
              "      <td>TRIBOROUGH BRIDGE TUNNEL AUTH</td>\n",
              "      <td>QUEENS SOUTH TVB</td>\n",
              "      <td>TVB</td>\n",
              "    </tr>\n",
              "    <tr>\n",
              "      <th>4</th>\n",
              "      <td>5091G</td>\n",
              "      <td>UNLICENSED GT 60DAYS</td>\n",
              "      <td>2015</td>\n",
              "      <td>5</td>\n",
              "      <td>SATURDAY</td>\n",
              "      <td>45.0</td>\n",
              "      <td>M</td>\n",
              "      <td>UNKNOWN</td>\n",
              "      <td>NYC POLICE DEPT</td>\n",
              "      <td>BROOKLYN SOUTH TVB</td>\n",
              "      <td>TVB</td>\n",
              "    </tr>\n",
              "  </tbody>\n",
              "</table>\n",
              "</div>"
            ],
            "text/plain": [
              "  Violation Charged Code               Violation Description  Violation Year  \\\n",
              "0                  5091G                UNLICENSED GT 60DAYS            2015   \n",
              "1                    376                LIGHTING-VARIOUS VIO            2015   \n",
              "2                  1160C  IMPROPER LEFT TURN ON ONE-WAY RDWY            2015   \n",
              "3                  5091G                UNLICENSED GT 60DAYS            2015   \n",
              "4                  5091G                UNLICENSED GT 60DAYS            2015   \n",
              "\n",
              "   Violation Month Violation Day of Week  Age at Violation Gender  \\\n",
              "0                1              THURSDAY              55.0      M   \n",
              "1                1              THURSDAY              24.0      M   \n",
              "2                2                MONDAY              62.0      M   \n",
              "3                9              THURSDAY              33.0      F   \n",
              "4                5              SATURDAY              45.0      M   \n",
              "\n",
              "  State of License                  Police Agency                Court Source  \n",
              "0         NEW YORK                NYC POLICE DEPT     QUEENS SOUTH TVB    TVB  \n",
              "1         NEW YORK                NYC POLICE DEPT     QUEENS SOUTH TVB    TVB  \n",
              "2         NEW YORK                NYC POLICE DEPT  MANHATTAN SOUTH TVB    TVB  \n",
              "3         MICHIGAN  TRIBOROUGH BRIDGE TUNNEL AUTH     QUEENS SOUTH TVB    TVB  \n",
              "4          UNKNOWN                NYC POLICE DEPT   BROOKLYN SOUTH TVB    TVB  "
            ]
          },
          "metadata": {
            "tags": []
          },
          "execution_count": 34
        }
      ]
    },
    {
      "metadata": {
        "id": "HhiMx04XajHv",
        "colab_type": "code",
        "colab": {
          "autoexec": {
            "startup": false,
            "wait_interval": 0
          },
          "base_uri": "https://localhost:8080/",
          "height": 204
        },
        "outputId": "09b6b28b-3530-4e5b-9cfa-dbe5e29b0b11",
        "executionInfo": {
          "status": "ok",
          "timestamp": 1525215408822,
          "user_tz": 420,
          "elapsed": 912,
          "user": {
            "displayName": "Ray Heberer",
            "photoUrl": "//lh4.googleusercontent.com/-BMlr5I5Dhow/AAAAAAAAAAI/AAAAAAAAABc/XW4PF5A8K2Q/s50-c-k-no/photo.jpg",
            "userId": "116545933704048584401"
          }
        }
      },
      "cell_type": "code",
      "source": [
        "data = data[['Violation Year', 'Violation Month', 'Violation Day of Week', 'Age at Violation', 'Gender']]\n",
        "data.head()"
      ],
      "execution_count": 35,
      "outputs": [
        {
          "output_type": "execute_result",
          "data": {
            "text/html": [
              "<div>\n",
              "<style scoped>\n",
              "    .dataframe tbody tr th:only-of-type {\n",
              "        vertical-align: middle;\n",
              "    }\n",
              "\n",
              "    .dataframe tbody tr th {\n",
              "        vertical-align: top;\n",
              "    }\n",
              "\n",
              "    .dataframe thead th {\n",
              "        text-align: right;\n",
              "    }\n",
              "</style>\n",
              "<table border=\"1\" class=\"dataframe\">\n",
              "  <thead>\n",
              "    <tr style=\"text-align: right;\">\n",
              "      <th></th>\n",
              "      <th>Violation Year</th>\n",
              "      <th>Violation Month</th>\n",
              "      <th>Violation Day of Week</th>\n",
              "      <th>Age at Violation</th>\n",
              "      <th>Gender</th>\n",
              "    </tr>\n",
              "  </thead>\n",
              "  <tbody>\n",
              "    <tr>\n",
              "      <th>0</th>\n",
              "      <td>2015</td>\n",
              "      <td>1</td>\n",
              "      <td>THURSDAY</td>\n",
              "      <td>55.0</td>\n",
              "      <td>M</td>\n",
              "    </tr>\n",
              "    <tr>\n",
              "      <th>1</th>\n",
              "      <td>2015</td>\n",
              "      <td>1</td>\n",
              "      <td>THURSDAY</td>\n",
              "      <td>24.0</td>\n",
              "      <td>M</td>\n",
              "    </tr>\n",
              "    <tr>\n",
              "      <th>2</th>\n",
              "      <td>2015</td>\n",
              "      <td>2</td>\n",
              "      <td>MONDAY</td>\n",
              "      <td>62.0</td>\n",
              "      <td>M</td>\n",
              "    </tr>\n",
              "    <tr>\n",
              "      <th>3</th>\n",
              "      <td>2015</td>\n",
              "      <td>9</td>\n",
              "      <td>THURSDAY</td>\n",
              "      <td>33.0</td>\n",
              "      <td>F</td>\n",
              "    </tr>\n",
              "    <tr>\n",
              "      <th>4</th>\n",
              "      <td>2015</td>\n",
              "      <td>5</td>\n",
              "      <td>SATURDAY</td>\n",
              "      <td>45.0</td>\n",
              "      <td>M</td>\n",
              "    </tr>\n",
              "  </tbody>\n",
              "</table>\n",
              "</div>"
            ],
            "text/plain": [
              "   Violation Year  Violation Month Violation Day of Week  Age at Violation  \\\n",
              "0            2015                1              THURSDAY              55.0   \n",
              "1            2015                1              THURSDAY              24.0   \n",
              "2            2015                2                MONDAY              62.0   \n",
              "3            2015                9              THURSDAY              33.0   \n",
              "4            2015                5              SATURDAY              45.0   \n",
              "\n",
              "  Gender  \n",
              "0      M  \n",
              "1      M  \n",
              "2      M  \n",
              "3      F  \n",
              "4      M  "
            ]
          },
          "metadata": {
            "tags": []
          },
          "execution_count": 35
        }
      ]
    },
    {
      "metadata": {
        "id": "kYMM_Sc0cf-Z",
        "colab_type": "code",
        "colab": {
          "autoexec": {
            "startup": false,
            "wait_interval": 0
          },
          "base_uri": "https://localhost:8080/",
          "height": 119
        },
        "outputId": "9685321c-521c-4731-eae2-fbc7a9aad9a7",
        "executionInfo": {
          "status": "ok",
          "timestamp": 1525215419331,
          "user_tz": 420,
          "elapsed": 3162,
          "user": {
            "displayName": "Ray Heberer",
            "photoUrl": "//lh4.googleusercontent.com/-BMlr5I5Dhow/AAAAAAAAAAI/AAAAAAAAABc/XW4PF5A8K2Q/s50-c-k-no/photo.jpg",
            "userId": "116545933704048584401"
          }
        }
      },
      "cell_type": "code",
      "source": [
        "data.isnull().any()"
      ],
      "execution_count": 36,
      "outputs": [
        {
          "output_type": "execute_result",
          "data": {
            "text/plain": [
              "Violation Year           False\n",
              "Violation Month          False\n",
              "Violation Day of Week    False\n",
              "Age at Violation          True\n",
              "Gender                   False\n",
              "dtype: bool"
            ]
          },
          "metadata": {
            "tags": []
          },
          "execution_count": 36
        }
      ]
    },
    {
      "metadata": {
        "id": "T7MtiaobdRar",
        "colab_type": "code",
        "colab": {
          "autoexec": {
            "startup": false,
            "wait_interval": 0
          },
          "base_uri": "https://localhost:8080/",
          "height": 221
        },
        "outputId": "15ad7e7a-fcb2-4aef-a07f-368aa16f7f0a",
        "executionInfo": {
          "status": "ok",
          "timestamp": 1525215424826,
          "user_tz": 420,
          "elapsed": 4705,
          "user": {
            "displayName": "Ray Heberer",
            "photoUrl": "//lh4.googleusercontent.com/-BMlr5I5Dhow/AAAAAAAAAAI/AAAAAAAAABc/XW4PF5A8K2Q/s50-c-k-no/photo.jpg",
            "userId": "116545933704048584401"
          }
        }
      },
      "cell_type": "code",
      "source": [
        "data['Age at Violation'] = data['Age at Violation'].fillna(data['Age at Violation'].mode()[0])\n",
        "data.isnull().any()"
      ],
      "execution_count": 37,
      "outputs": [
        {
          "output_type": "stream",
          "text": [
            "/usr/local/lib/python3.6/dist-packages/ipykernel_launcher.py:1: SettingWithCopyWarning: \n",
            "A value is trying to be set on a copy of a slice from a DataFrame.\n",
            "Try using .loc[row_indexer,col_indexer] = value instead\n",
            "\n",
            "See the caveats in the documentation: http://pandas.pydata.org/pandas-docs/stable/indexing.html#indexing-view-versus-copy\n",
            "  \"\"\"Entry point for launching an IPython kernel.\n"
          ],
          "name": "stderr"
        },
        {
          "output_type": "execute_result",
          "data": {
            "text/plain": [
              "Violation Year           False\n",
              "Violation Month          False\n",
              "Violation Day of Week    False\n",
              "Age at Violation         False\n",
              "Gender                   False\n",
              "dtype: bool"
            ]
          },
          "metadata": {
            "tags": []
          },
          "execution_count": 37
        }
      ]
    },
    {
      "metadata": {
        "id": "i-fkBtUZWAEp",
        "colab_type": "text"
      },
      "cell_type": "markdown",
      "source": [
        "## Summary Statistics"
      ]
    },
    {
      "metadata": {
        "id": "DS4gOM_6WChO",
        "colab_type": "code",
        "colab": {
          "autoexec": {
            "startup": false,
            "wait_interval": 0
          }
        }
      },
      "cell_type": "code",
      "source": [
        "males = data[data['Gender']=='M']\n",
        "males_summary = males.describe()\n",
        "males_summary = males_summary.loc[['mean', '50%', 'std']]"
      ],
      "execution_count": 0,
      "outputs": []
    },
    {
      "metadata": {
        "id": "toz4HfwahKlk",
        "colab_type": "code",
        "colab": {
          "autoexec": {
            "startup": false,
            "wait_interval": 0
          }
        }
      },
      "cell_type": "code",
      "source": [
        "males_variance = np.power(males_summary.loc[['std']], 2)\n",
        "males_summary = males_summary.append(males_variance, ignore_index=True)"
      ],
      "execution_count": 0,
      "outputs": []
    },
    {
      "metadata": {
        "id": "kPGlo85Uiu8v",
        "colab_type": "code",
        "colab": {
          "autoexec": {
            "startup": false,
            "wait_interval": 0
          },
          "base_uri": "https://localhost:8080/",
          "height": 173
        },
        "outputId": "f0199621-2945-40a4-dc2e-75734d035e24",
        "executionInfo": {
          "status": "ok",
          "timestamp": 1525215443780,
          "user_tz": 420,
          "elapsed": 624,
          "user": {
            "displayName": "Ray Heberer",
            "photoUrl": "//lh4.googleusercontent.com/-BMlr5I5Dhow/AAAAAAAAAAI/AAAAAAAAABc/XW4PF5A8K2Q/s50-c-k-no/photo.jpg",
            "userId": "116545933704048584401"
          }
        }
      },
      "cell_type": "code",
      "source": [
        "males_summary = males_summary.rename({0: 'mean', 1: 'median', 2: 'std', 3: 'variance'})\n",
        "males_summary"
      ],
      "execution_count": 40,
      "outputs": [
        {
          "output_type": "execute_result",
          "data": {
            "text/html": [
              "<div>\n",
              "<style scoped>\n",
              "    .dataframe tbody tr th:only-of-type {\n",
              "        vertical-align: middle;\n",
              "    }\n",
              "\n",
              "    .dataframe tbody tr th {\n",
              "        vertical-align: top;\n",
              "    }\n",
              "\n",
              "    .dataframe thead th {\n",
              "        text-align: right;\n",
              "    }\n",
              "</style>\n",
              "<table border=\"1\" class=\"dataframe\">\n",
              "  <thead>\n",
              "    <tr style=\"text-align: right;\">\n",
              "      <th></th>\n",
              "      <th>Violation Year</th>\n",
              "      <th>Violation Month</th>\n",
              "      <th>Age at Violation</th>\n",
              "    </tr>\n",
              "  </thead>\n",
              "  <tbody>\n",
              "    <tr>\n",
              "      <th>mean</th>\n",
              "      <td>2014.491902</td>\n",
              "      <td>6.346118</td>\n",
              "      <td>37.006002</td>\n",
              "    </tr>\n",
              "    <tr>\n",
              "      <th>median</th>\n",
              "      <td>2014.000000</td>\n",
              "      <td>6.000000</td>\n",
              "      <td>34.000000</td>\n",
              "    </tr>\n",
              "    <tr>\n",
              "      <th>std</th>\n",
              "      <td>1.120125</td>\n",
              "      <td>3.362163</td>\n",
              "      <td>13.849183</td>\n",
              "    </tr>\n",
              "    <tr>\n",
              "      <th>variance</th>\n",
              "      <td>1.254681</td>\n",
              "      <td>11.304139</td>\n",
              "      <td>191.799870</td>\n",
              "    </tr>\n",
              "  </tbody>\n",
              "</table>\n",
              "</div>"
            ],
            "text/plain": [
              "          Violation Year  Violation Month  Age at Violation\n",
              "mean         2014.491902         6.346118         37.006002\n",
              "median       2014.000000         6.000000         34.000000\n",
              "std             1.120125         3.362163         13.849183\n",
              "variance        1.254681        11.304139        191.799870"
            ]
          },
          "metadata": {
            "tags": []
          },
          "execution_count": 40
        }
      ]
    },
    {
      "metadata": {
        "id": "AbkjAzy6d7r3",
        "colab_type": "code",
        "colab": {
          "autoexec": {
            "startup": false,
            "wait_interval": 0
          },
          "base_uri": "https://localhost:8080/",
          "height": 173
        },
        "outputId": "43e8ae8b-3fca-4df8-ecaa-02af846cf6af",
        "executionInfo": {
          "status": "ok",
          "timestamp": 1525215459006,
          "user_tz": 420,
          "elapsed": 3359,
          "user": {
            "displayName": "Ray Heberer",
            "photoUrl": "//lh4.googleusercontent.com/-BMlr5I5Dhow/AAAAAAAAAAI/AAAAAAAAABc/XW4PF5A8K2Q/s50-c-k-no/photo.jpg",
            "userId": "116545933704048584401"
          }
        }
      },
      "cell_type": "code",
      "source": [
        "females = data[data['Gender']=='F']\n",
        "females_summary = females.describe()\n",
        "females_summary = females_summary.loc[['mean', '50%', 'std']]\n",
        "females_variance = np.power(females_summary.loc[['std']], 2)\n",
        "females_summary = females_summary.append(females_variance, ignore_index=True)\n",
        "females_summary = females_summary.rename({0: 'mean', 1: 'median', 2: 'std', 3: 'variance'})\n",
        "females_summary"
      ],
      "execution_count": 41,
      "outputs": [
        {
          "output_type": "execute_result",
          "data": {
            "text/html": [
              "<div>\n",
              "<style scoped>\n",
              "    .dataframe tbody tr th:only-of-type {\n",
              "        vertical-align: middle;\n",
              "    }\n",
              "\n",
              "    .dataframe tbody tr th {\n",
              "        vertical-align: top;\n",
              "    }\n",
              "\n",
              "    .dataframe thead th {\n",
              "        text-align: right;\n",
              "    }\n",
              "</style>\n",
              "<table border=\"1\" class=\"dataframe\">\n",
              "  <thead>\n",
              "    <tr style=\"text-align: right;\">\n",
              "      <th></th>\n",
              "      <th>Violation Year</th>\n",
              "      <th>Violation Month</th>\n",
              "      <th>Age at Violation</th>\n",
              "    </tr>\n",
              "  </thead>\n",
              "  <tbody>\n",
              "    <tr>\n",
              "      <th>mean</th>\n",
              "      <td>2014.498879</td>\n",
              "      <td>6.366151</td>\n",
              "      <td>36.268697</td>\n",
              "    </tr>\n",
              "    <tr>\n",
              "      <th>median</th>\n",
              "      <td>2014.000000</td>\n",
              "      <td>6.000000</td>\n",
              "      <td>33.000000</td>\n",
              "    </tr>\n",
              "    <tr>\n",
              "      <th>std</th>\n",
              "      <td>1.120372</td>\n",
              "      <td>3.377081</td>\n",
              "      <td>13.512275</td>\n",
              "    </tr>\n",
              "    <tr>\n",
              "      <th>variance</th>\n",
              "      <td>1.255234</td>\n",
              "      <td>11.404674</td>\n",
              "      <td>182.581583</td>\n",
              "    </tr>\n",
              "  </tbody>\n",
              "</table>\n",
              "</div>"
            ],
            "text/plain": [
              "          Violation Year  Violation Month  Age at Violation\n",
              "mean         2014.498879         6.366151         36.268697\n",
              "median       2014.000000         6.000000         33.000000\n",
              "std             1.120372         3.377081         13.512275\n",
              "variance        1.255234        11.404674        182.581583"
            ]
          },
          "metadata": {
            "tags": []
          },
          "execution_count": 41
        }
      ]
    },
    {
      "metadata": {
        "id": "ef7eKQCgWDzz",
        "colab_type": "text"
      },
      "cell_type": "markdown",
      "source": [
        "## Plots"
      ]
    },
    {
      "metadata": {
        "id": "ZYcYvA5bhbqO",
        "colab_type": "code",
        "colab": {
          "autoexec": {
            "startup": false,
            "wait_interval": 0
          },
          "base_uri": "https://localhost:8080/",
          "height": 395
        },
        "outputId": "f4415734-c9bc-4bea-d74a-ece472364e3c",
        "executionInfo": {
          "status": "ok",
          "timestamp": 1525215471576,
          "user_tz": 420,
          "elapsed": 11272,
          "user": {
            "displayName": "Ray Heberer",
            "photoUrl": "//lh4.googleusercontent.com/-BMlr5I5Dhow/AAAAAAAAAAI/AAAAAAAAABc/XW4PF5A8K2Q/s50-c-k-no/photo.jpg",
            "userId": "116545933704048584401"
          }
        }
      },
      "cell_type": "code",
      "source": [
        "ax = sns.boxplot(data['Gender'], data['Age at Violation']);"
      ],
      "execution_count": 42,
      "outputs": [
        {
          "output_type": "stream",
          "text": [
            "/usr/local/lib/python3.6/dist-packages/seaborn/categorical.py:454: FutureWarning: remove_na is deprecated and is a private function. Do not use.\n",
            "  box_data = remove_na(group_data)\n"
          ],
          "name": "stderr"
        },
        {
          "output_type": "display_data",
          "data": {
            "image/png": "[encoded data removed]",
            "text/plain": [
              "<matplotlib.figure.Figure at 0x7f0efdea80f0>"
            ]
          },
          "metadata": {
            "tags": []
          }
        }
      ]
    },
    {
      "metadata": {
        "id": "lnJOAsbAreIH",
        "colab_type": "code",
        "colab": {
          "autoexec": {
            "startup": false,
            "wait_interval": 0
          },
          "base_uri": "https://localhost:8080/",
          "height": 266
        },
        "outputId": "2e165249-2689-46a2-c214-10fd49404217",
        "executionInfo": {
          "status": "ok",
          "timestamp": 1525215532592,
          "user_tz": 420,
          "elapsed": 1936,
          "user": {
            "displayName": "Ray Heberer",
            "photoUrl": "//lh4.googleusercontent.com/-BMlr5I5Dhow/AAAAAAAAAAI/AAAAAAAAABc/XW4PF5A8K2Q/s50-c-k-no/photo.jpg",
            "userId": "116545933704048584401"
          }
        }
      },
      "cell_type": "code",
      "source": [
        "count_byday = pd.DataFrame(data.groupby('Violation Day of Week').count()[['Violation Year']].reset_index())\n",
        "count_byday.columns = ['Day of Week', 'Violations']\n",
        "count_byday"
      ],
      "execution_count": 43,
      "outputs": [
        {
          "output_type": "execute_result",
          "data": {
            "text/html": [
              "<div>\n",
              "<style scoped>\n",
              "    .dataframe tbody tr th:only-of-type {\n",
              "        vertical-align: middle;\n",
              "    }\n",
              "\n",
              "    .dataframe tbody tr th {\n",
              "        vertical-align: top;\n",
              "    }\n",
              "\n",
              "    .dataframe thead th {\n",
              "        text-align: right;\n",
              "    }\n",
              "</style>\n",
              "<table border=\"1\" class=\"dataframe\">\n",
              "  <thead>\n",
              "    <tr style=\"text-align: right;\">\n",
              "      <th></th>\n",
              "      <th>Day of Week</th>\n",
              "      <th>Violations</th>\n",
              "    </tr>\n",
              "  </thead>\n",
              "  <tbody>\n",
              "    <tr>\n",
              "      <th>0</th>\n",
              "      <td>FRIDAY</td>\n",
              "      <td>2230294</td>\n",
              "    </tr>\n",
              "    <tr>\n",
              "      <th>1</th>\n",
              "      <td>MONDAY</td>\n",
              "      <td>1886748</td>\n",
              "    </tr>\n",
              "    <tr>\n",
              "      <th>2</th>\n",
              "      <td>SATURDAY</td>\n",
              "      <td>1977429</td>\n",
              "    </tr>\n",
              "    <tr>\n",
              "      <th>3</th>\n",
              "      <td>SUNDAY</td>\n",
              "      <td>1688825</td>\n",
              "    </tr>\n",
              "    <tr>\n",
              "      <th>4</th>\n",
              "      <td>THURSDAY</td>\n",
              "      <td>2175701</td>\n",
              "    </tr>\n",
              "    <tr>\n",
              "      <th>5</th>\n",
              "      <td>TUESDAY</td>\n",
              "      <td>2132309</td>\n",
              "    </tr>\n",
              "    <tr>\n",
              "      <th>6</th>\n",
              "      <td>WEDNESDAY</td>\n",
              "      <td>2183703</td>\n",
              "    </tr>\n",
              "  </tbody>\n",
              "</table>\n",
              "</div>"
            ],
            "text/plain": [
              "  Day of Week  Violations\n",
              "0      FRIDAY     2230294\n",
              "1      MONDAY     1886748\n",
              "2    SATURDAY     1977429\n",
              "3      SUNDAY     1688825\n",
              "4    THURSDAY     2175701\n",
              "5     TUESDAY     2132309\n",
              "6   WEDNESDAY     2183703"
            ]
          },
          "metadata": {
            "tags": []
          },
          "execution_count": 43
        }
      ]
    },
    {
      "metadata": {
        "id": "OOnfIf8asUQb",
        "colab_type": "code",
        "colab": {
          "autoexec": {
            "startup": false,
            "wait_interval": 0
          }
        }
      },
      "cell_type": "code",
      "source": [
        "count_bymonth = pd.DataFrame(data.groupby('Violation Month').count()[['Violation Year']].reset_index())\n",
        "count_bymonth.columns = ['Month', 'Violations']\n",
        "\n",
        "count_bygender = pd.DataFrame(data.groupby('Gender').count()[['Violation Year']].reset_index())\n",
        "count_bygender.columns = ['Gender', 'Violations']"
      ],
      "execution_count": 0,
      "outputs": []
    },
    {
      "metadata": {
        "id": "N45hRplNh1Ps",
        "colab_type": "code",
        "colab": {
          "autoexec": {
            "startup": false,
            "wait_interval": 0
          },
          "base_uri": "https://localhost:8080/",
          "height": 606
        },
        "outputId": "c20d7685-33c3-4102-c8c5-38625f166a3c",
        "executionInfo": {
          "status": "ok",
          "timestamp": 1525215540625,
          "user_tz": 420,
          "elapsed": 861,
          "user": {
            "displayName": "Ray Heberer",
            "photoUrl": "//lh4.googleusercontent.com/-BMlr5I5Dhow/AAAAAAAAAAI/AAAAAAAAABc/XW4PF5A8K2Q/s50-c-k-no/photo.jpg",
            "userId": "116545933704048584401"
          }
        }
      },
      "cell_type": "code",
      "source": [
        "fig, axs = plt.subplots(3, 1, figsize=(10, 10))\n",
        "fig.subplots_adjust(hspace=0.3)\n",
        "\n",
        "axs[0].bar(count_byday['Day of Week'], count_byday['Violations'])\n",
        "axs[0].set(title='Violation Count by Day of Week')\n",
        "\n",
        "axs[1].bar(count_bymonth['Month'], count_bymonth['Violations'])\n",
        "axs[1].set(title='Violation Count by Month')\n",
        "\n",
        "axs[2].bar(count_bygender['Gender'], count_bygender['Violations'])\n",
        "axs[2].set(title='Violation Count by Gender');"
      ],
      "execution_count": 45,
      "outputs": [
        {
          "output_type": "display_data",
          "data": {
            "image/png": "[encoded data removed]",
            "text/plain": [
              "<matplotlib.figure.Figure at 0x7f0efac3aac8>"
            ]
          },
          "metadata": {
            "tags": []
          }
        }
      ]
    },
    {
      "metadata": {
        "id": "pk9Pjnl9WNPX",
        "colab_type": "text"
      },
      "cell_type": "markdown",
      "source": [
        "## Covariance and Correlation Analysis"
      ]
    },
    {
      "metadata": {
        "id": "evi5Q6w04aj7",
        "colab_type": "text"
      },
      "cell_type": "markdown",
      "source": [
        "As there is no `Total # of Violations` feature in the dataset, I will compute this aggregate measure, grouping by `Age at Violation`. Furthermore, I will ignore the `\"C\"` gender, as there are relatively few entries with this feature, as demonstrated by the histogram above."
      ]
    },
    {
      "metadata": {
        "id": "0TfGLd6nu0M4",
        "colab_type": "code",
        "colab": {
          "autoexec": {
            "startup": false,
            "wait_interval": 0
          },
          "base_uri": "https://localhost:8080/",
          "height": 204
        },
        "outputId": "14525cf3-b254-4ffd-e228-99033f6a3bc7",
        "executionInfo": {
          "status": "ok",
          "timestamp": 1525215549425,
          "user_tz": 420,
          "elapsed": 433,
          "user": {
            "displayName": "Ray Heberer",
            "photoUrl": "//lh4.googleusercontent.com/-BMlr5I5Dhow/AAAAAAAAAAI/AAAAAAAAABc/XW4PF5A8K2Q/s50-c-k-no/photo.jpg",
            "userId": "116545933704048584401"
          }
        }
      },
      "cell_type": "code",
      "source": [
        "data_2015 = data[data['Violation Year'] == 2015]\n",
        "data_2015.head()"
      ],
      "execution_count": 46,
      "outputs": [
        {
          "output_type": "execute_result",
          "data": {
            "text/html": [
              "<div>\n",
              "<style scoped>\n",
              "    .dataframe tbody tr th:only-of-type {\n",
              "        vertical-align: middle;\n",
              "    }\n",
              "\n",
              "    .dataframe tbody tr th {\n",
              "        vertical-align: top;\n",
              "    }\n",
              "\n",
              "    .dataframe thead th {\n",
              "        text-align: right;\n",
              "    }\n",
              "</style>\n",
              "<table border=\"1\" class=\"dataframe\">\n",
              "  <thead>\n",
              "    <tr style=\"text-align: right;\">\n",
              "      <th></th>\n",
              "      <th>Violation Year</th>\n",
              "      <th>Violation Month</th>\n",
              "      <th>Violation Day of Week</th>\n",
              "      <th>Age at Violation</th>\n",
              "      <th>Gender</th>\n",
              "    </tr>\n",
              "  </thead>\n",
              "  <tbody>\n",
              "    <tr>\n",
              "      <th>0</th>\n",
              "      <td>2015</td>\n",
              "      <td>1</td>\n",
              "      <td>THURSDAY</td>\n",
              "      <td>55.0</td>\n",
              "      <td>M</td>\n",
              "    </tr>\n",
              "    <tr>\n",
              "      <th>1</th>\n",
              "      <td>2015</td>\n",
              "      <td>1</td>\n",
              "      <td>THURSDAY</td>\n",
              "      <td>24.0</td>\n",
              "      <td>M</td>\n",
              "    </tr>\n",
              "    <tr>\n",
              "      <th>2</th>\n",
              "      <td>2015</td>\n",
              "      <td>2</td>\n",
              "      <td>MONDAY</td>\n",
              "      <td>62.0</td>\n",
              "      <td>M</td>\n",
              "    </tr>\n",
              "    <tr>\n",
              "      <th>3</th>\n",
              "      <td>2015</td>\n",
              "      <td>9</td>\n",
              "      <td>THURSDAY</td>\n",
              "      <td>33.0</td>\n",
              "      <td>F</td>\n",
              "    </tr>\n",
              "    <tr>\n",
              "      <th>4</th>\n",
              "      <td>2015</td>\n",
              "      <td>5</td>\n",
              "      <td>SATURDAY</td>\n",
              "      <td>45.0</td>\n",
              "      <td>M</td>\n",
              "    </tr>\n",
              "  </tbody>\n",
              "</table>\n",
              "</div>"
            ],
            "text/plain": [
              "   Violation Year  Violation Month Violation Day of Week  Age at Violation  \\\n",
              "0            2015                1              THURSDAY              55.0   \n",
              "1            2015                1              THURSDAY              24.0   \n",
              "2            2015                2                MONDAY              62.0   \n",
              "3            2015                9              THURSDAY              33.0   \n",
              "4            2015                5              SATURDAY              45.0   \n",
              "\n",
              "  Gender  \n",
              "0      M  \n",
              "1      M  \n",
              "2      M  \n",
              "3      F  \n",
              "4      M  "
            ]
          },
          "metadata": {
            "tags": []
          },
          "execution_count": 46
        }
      ]
    },
    {
      "metadata": {
        "id": "XA0koEtI09G9",
        "colab_type": "code",
        "colab": {
          "autoexec": {
            "startup": false,
            "wait_interval": 0
          }
        }
      },
      "cell_type": "code",
      "source": [
        "male_2015 = data_2015[data_2015['Gender']=='M']\n",
        "female_2015 = data_2015[data_2015['Gender']=='F']"
      ],
      "execution_count": 0,
      "outputs": []
    },
    {
      "metadata": {
        "id": "sHx65EXp0wnI",
        "colab_type": "code",
        "colab": {
          "autoexec": {
            "startup": false,
            "wait_interval": 0
          }
        }
      },
      "cell_type": "code",
      "source": [
        "male_byage = pd.DataFrame(male_2015.groupby('Age at Violation').count()[['Violation Year']].reset_index())\n",
        "male_byage.columns = ['Age', 'Total # of Violations']"
      ],
      "execution_count": 0,
      "outputs": []
    },
    {
      "metadata": {
        "id": "zR3AiaHr1TPc",
        "colab_type": "code",
        "colab": {
          "autoexec": {
            "startup": false,
            "wait_interval": 0
          }
        }
      },
      "cell_type": "code",
      "source": [
        "female_byage = pd.DataFrame(female_2015.groupby('Age at Violation').count()[['Violation Year']].reset_index())\n",
        "female_byage.columns = ['Age', 'Total # of Violations']"
      ],
      "execution_count": 0,
      "outputs": []
    },
    {
      "metadata": {
        "id": "ViLqFk5l2Oi-",
        "colab_type": "code",
        "colab": {
          "autoexec": {
            "startup": false,
            "wait_interval": 0
          },
          "base_uri": "https://localhost:8080/",
          "height": 400
        },
        "outputId": "e5e63942-53ac-4cb7-ea02-c488b2e8728b",
        "executionInfo": {
          "status": "ok",
          "timestamp": 1525215575695,
          "user_tz": 420,
          "elapsed": 954,
          "user": {
            "displayName": "Ray Heberer",
            "photoUrl": "//lh4.googleusercontent.com/-BMlr5I5Dhow/AAAAAAAAAAI/AAAAAAAAABc/XW4PF5A8K2Q/s50-c-k-no/photo.jpg",
            "userId": "116545933704048584401"
          }
        }
      },
      "cell_type": "code",
      "source": [
        "fig, axs = plt.subplots(1, 2)\n",
        "fig.suptitle('Total # of Recorded Violations by Age')\n",
        "\n",
        "axs[0].scatter(male_byage['Age'], male_byage['Total # of Violations'])\n",
        "axs[0].set(title='Male', xlabel='Age', ylabel='Violation Count')\n",
        "\n",
        "axs[1].scatter(female_byage['Age'], female_byage['Total # of Violations'])\n",
        "axs[1].set(title='Female', xlabel='Age');"
      ],
      "execution_count": 51,
      "outputs": [
        {
          "output_type": "display_data",
          "data": {
            "image/png": "[encoded data removed]",
            "text/plain": [
              "<matplotlib.figure.Figure at 0x7f0efad02668>"
            ]
          },
          "metadata": {
            "tags": []
          }
        }
      ]
    },
    {
      "metadata": {
        "id": "4HyIsT5f2fb8",
        "colab_type": "text"
      },
      "cell_type": "markdown",
      "source": [
        "`Total # of Violations` appears to be negatively correlated with `Age` for the most part, peaking somewhere between 20 and 30 for both genders. As such, both the covariance, and the correlation coefficient (which is the covariance scaled down by the product of the individual variances) will be negative."
      ]
    },
    {
      "metadata": {
        "id": "98Nrh3Mm26FI",
        "colab_type": "code",
        "colab": {
          "autoexec": {
            "startup": false,
            "wait_interval": 0
          },
          "base_uri": "https://localhost:8080/",
          "height": 111
        },
        "outputId": "3f454824-e5c4-424e-9f1d-91c8656b4ecb",
        "executionInfo": {
          "status": "ok",
          "timestamp": 1525215657695,
          "user_tz": 420,
          "elapsed": 486,
          "user": {
            "displayName": "Ray Heberer",
            "photoUrl": "//lh4.googleusercontent.com/-BMlr5I5Dhow/AAAAAAAAAAI/AAAAAAAAABc/XW4PF5A8K2Q/s50-c-k-no/photo.jpg",
            "userId": "116545933704048584401"
          }
        }
      },
      "cell_type": "code",
      "source": [
        "male_M, female_M = (male_byage[['Total # of Violations', 'Age']].as_matrix(),\n",
        "                    female_byage[['Total # of Violations', 'Age']].as_matrix())\n",
        "\n",
        "male_cov, female_cov = np.cov(male_M.T)[0,1], np.cov(female_M.T)[0,1]\n",
        "male_corr, female_corr = np.corrcoef(male_M.T)[0,1], np.corrcoef(female_M.T)[0,1]\n",
        "\n",
        "cov = pd.DataFrame([male_cov, female_cov], columns=['Covariance'], index=['Male Violations with Age', 'Female Violations with Age'])\n",
        "corr = pd.DataFrame([male_corr, female_corr], columns=['Correlation Coefficient'], index=['Male Violations with Age', 'Female Violations with Age'])\n",
        "\n",
        "cov.join(corr)"
      ],
      "execution_count": 52,
      "outputs": [
        {
          "output_type": "execute_result",
          "data": {
            "text/html": [
              "<div>\n",
              "<style scoped>\n",
              "    .dataframe tbody tr th:only-of-type {\n",
              "        vertical-align: middle;\n",
              "    }\n",
              "\n",
              "    .dataframe tbody tr th {\n",
              "        vertical-align: top;\n",
              "    }\n",
              "\n",
              "    .dataframe thead th {\n",
              "        text-align: right;\n",
              "    }\n",
              "</style>\n",
              "<table border=\"1\" class=\"dataframe\">\n",
              "  <thead>\n",
              "    <tr style=\"text-align: right;\">\n",
              "      <th></th>\n",
              "      <th>Covariance</th>\n",
              "      <th>Correlation Coefficient</th>\n",
              "    </tr>\n",
              "  </thead>\n",
              "  <tbody>\n",
              "    <tr>\n",
              "      <th>Male Violations with Age</th>\n",
              "      <td>-587065.208861</td>\n",
              "      <td>-0.891185</td>\n",
              "    </tr>\n",
              "    <tr>\n",
              "      <th>Female Violations with Age</th>\n",
              "      <td>-232887.512658</td>\n",
              "      <td>-0.884907</td>\n",
              "    </tr>\n",
              "  </tbody>\n",
              "</table>\n",
              "</div>"
            ],
            "text/plain": [
              "                               Covariance  Correlation Coefficient\n",
              "Male Violations with Age   -587065.208861                -0.891185\n",
              "Female Violations with Age -232887.512658                -0.884907"
            ]
          },
          "metadata": {
            "tags": []
          },
          "execution_count": 52
        }
      ]
    }
  ]
}