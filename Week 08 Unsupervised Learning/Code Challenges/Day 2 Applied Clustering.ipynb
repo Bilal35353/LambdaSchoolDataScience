{
  "nbformat": 4,
  "nbformat_minor": 0,
  "metadata": {
    "colab": {
      "name": "Applied Clustering CC.ipynb",
      "version": "0.3.2",
      "views": {},
      "default_view": {},
      "provenance": [
        {
          "file_id": "1bNFpravgiaqFBykoj5juWN6xw2mZxJiy",
          "timestamp": 1527010708816
        },
        {
          "file_id": "194plE6zidjJndMylpQ4IUs5g6YuazoUA",
          "timestamp": 1526997103169
        },
        {
          "file_id": "1iUontTLW-BwISFNTr_SzBvS77gPzP5TR",
          "timestamp": 1526996754373
        }
      ],
      "collapsed_sections": []
    },
    "kernelspec": {
      "name": "python3",
      "display_name": "Python 3"
    }
  },
  "cells": [
    {
      "metadata": {
        "id": "TQ0tjkDTQmR_",
        "colab_type": "text"
      },
      "cell_type": "markdown",
      "source": [
        "## Applied Clustering Coding Challenge\n",
        "\n",
        "# Clustering text documents using k-means\n",
        "\n",
        "Clustering is commonly used to create classifications for written text using Natural Language Processing ([NLP](https://learn.lambdaschool.com/ml/sprint/recelerz9zemekmia)) techniques. This approach is highlighted by a combination of supervised and unsupervised techniques - given a huge (and growing) corpus of literature, it may be very hard for observers to classify each document. A clustering approach allows classes to be generated automatically, grouping each document into like clusters. Then, researchers may fit the clustering to specific documents that they wish to get better insight into. Any document that shares a cluster with the tagged documents of interest then becomes a document of interest.\n",
        "\n",
        "In this CC, we will do feature extraction and clustering on a collection of newgroup documents.\n",
        "\n",
        "Text documents are not directly classifiable by ML algorithms, the must first be \"Vectorized\", that is, turned into numerical vectors by some process. Then each document becomes (as you are now familiar with) a single point in a high dimensional space. Then k-Means or any other ML algorithm can be used for processing. Vectorizing the documents is also called \"feature extraction\": using either of the two below algorithms a text file is converted into a set of features, aka a numerical row in a database, aka a single sample of `X`, aka a point in a high dimensional space.\n",
        "\n",
        "Two feature extraction methods can be used in this example:\n",
        "\n",
        "  - [TfidfVectorizer](http://scikit-learn.org/stable/modules/generated/sklearn.feature_extraction.text.TfidfVectorizer.html) ([Term-Frequency Inverse-Document Frequency](https://en.wikipedia.org/wiki/Tf%E2%80%93idf)) uses an in-memory vocabulary (a python dict) to map the most frequent words to features indices and hence compute a word occurrence frequency (sparse) matrix. The word frequencies are then reweighted using the Inverse Document Frequency (IDF) vector collected feature-wise over the corpus.\n",
        "\n",
        "  - [HashingVectorizer](http://scikit-learn.org/stable/modules/generated/sklearn.feature_extraction.text.HashingVectorizer.html) hashes word occurrences to a fixed dimensional space, possibly with collisions. The word count vectors are then normalized to each have l2-norm equal to one (projected to the euclidean unit-ball) which seems to be important for k-means to work in high dimensional space.\n",
        "\n",
        "    HashingVectorizer does not provide IDF weighting as this is a stateless\n",
        "    model (the fit method does nothing). When IDF weighting is needed it can\n",
        "    be added by pipelining its output to a TfidfTransformer instance.\n",
        "    \n",
        "Try both of these feature extractors and compare them:"
      ]
    },
    {
      "metadata": {
        "id": "yDYQSP-gQgBn",
        "colab_type": "code",
        "colab": {
          "autoexec": {
            "startup": false,
            "wait_interval": 0
          },
          "base_uri": "https://localhost:8080/",
          "height": 462
        },
        "outputId": "bec248fe-9c5e-4da3-d8af-7d0af9d212fa",
        "executionInfo": {
          "status": "ok",
          "timestamp": 1527010915271,
          "user_tz": 420,
          "elapsed": 700,
          "user": {
            "displayName": "Ray Heberer",
            "photoUrl": "//lh4.googleusercontent.com/-BMlr5I5Dhow/AAAAAAAAAAI/AAAAAAAAABc/XW4PF5A8K2Q/s50-c-k-no/photo.jpg",
            "userId": "116545933704048584401"
          }
        }
      },
      "cell_type": "code",
      "source": [
        "# Author: Peter Prettenhofer <peter.prettenhofer@gmail.com>\n",
        "#         Lars Buitinck\n",
        "# License: BSD 3 clause\n",
        "\n",
        "from __future__ import print_function\n",
        "\n",
        "from sklearn.datasets import fetch_20newsgroups\n",
        "from sklearn.decomposition import TruncatedSVD\n",
        "from sklearn.feature_extraction.text import TfidfVectorizer\n",
        "from sklearn.feature_extraction.text import HashingVectorizer\n",
        "from sklearn.feature_extraction.text import TfidfTransformer\n",
        "from sklearn.pipeline import make_pipeline\n",
        "from sklearn.preprocessing import Normalizer\n",
        "from sklearn import metrics\n",
        "\n",
        "from sklearn.cluster import KMeans, MiniBatchKMeans\n",
        "\n",
        "import logging\n",
        "import sys\n",
        "from time import time\n",
        "\n",
        "import numpy as np\n",
        "\n",
        "\n",
        "# #############################################################################\n",
        "# Load all categories from the training set\n",
        "categories = None\n",
        "\n",
        "print(\"Loading 20 newsgroups dataset for categories:\")\n",
        "print(categories)\n",
        "\n",
        "dataset = fetch_20newsgroups(subset='all', categories=categories,\n",
        "                             shuffle=True)\n",
        "\n",
        "print(\"%d documents\" % len(dataset.data))\n",
        "print(\"%d categories\" % len(dataset.target_names))\n",
        "print()\n",
        "\n",
        "labels = dataset.target\n",
        "\n",
        "print('Dataset example:')\n",
        "print(dataset.data[0])\n",
        "\n",
        "# How many actual classes are there?\n",
        "true_k = np.unique(labels).shape[0]"
      ],
      "execution_count": 2,
      "outputs": [
        {
          "output_type": "stream",
          "text": [
            "Loading 20 newsgroups dataset for categories:\n",
            "None\n",
            "18846 documents\n",
            "20 categories\n",
            "\n",
            "Dataset example:\n",
            "From: Mamatha Devineni Ratnam <mr47+@andrew.cmu.edu>\n",
            "Subject: Pens fans reactions\n",
            "Organization: Post Office, Carnegie Mellon, Pittsburgh, PA\n",
            "Lines: 12\n",
            "NNTP-Posting-Host: po4.andrew.cmu.edu\n",
            "\n",
            "\n",
            "\n",
            "I am sure some bashers of Pens fans are pretty confused about the lack\n",
            "of any kind of posts about the recent Pens massacre of the Devils. Actually,\n",
            "I am  bit puzzled too and a bit relieved. However, I am going to put an end\n",
            "to non-PIttsburghers' relief with a bit of praise for the Pens. Man, they\n",
            "are killing those Devils worse than I thought. Jagr just showed you why\n",
            "he is much better than his regular season stats. He is also a lot\n",
            "fo fun to watch in the playoffs. Bowman should let JAgr have a lot of\n",
            "fun in the next couple of games since the Pens are going to beat the pulp out of Jersey anyway. I was very disappointed not to see the Islanders lose the final\n",
            "regular season game.          PENS RULE!!!\n",
            "\n",
            "\n"
          ],
          "name": "stdout"
        }
      ]
    },
    {
      "metadata": {
        "id": "1oJYuDLrUfPU",
        "colab_type": "text"
      },
      "cell_type": "markdown",
      "source": [
        "## Specify the method of feature extraction and other parameters\n"
      ]
    },
    {
      "metadata": {
        "id": "sEZ0Hy_3Umuz",
        "colab_type": "code",
        "colab": {
          "autoexec": {
            "startup": false,
            "wait_interval": 0
          }
        }
      },
      "cell_type": "code",
      "source": [
        "use_hashing = True\n",
        "use_idf = True\n",
        "n_features = 10000\n",
        "n_components = 0"
      ],
      "execution_count": 0,
      "outputs": []
    },
    {
      "metadata": {
        "id": "2RhQWW9xXOdc",
        "colab_type": "text"
      },
      "cell_type": "markdown",
      "source": [
        "## Define the feature extractor class and apply it to the  dataset"
      ]
    },
    {
      "metadata": {
        "id": "tiFv3PexXTn-",
        "colab_type": "code",
        "colab": {
          "autoexec": {
            "startup": false,
            "wait_interval": 0
          },
          "base_uri": "https://localhost:8080/",
          "height": 85
        },
        "outputId": "2a270056-bd46-4c4b-8be5-dfdbe04d5950",
        "executionInfo": {
          "status": "ok",
          "timestamp": 1527010943080,
          "user_tz": 420,
          "elapsed": 4470,
          "user": {
            "displayName": "Ray Heberer",
            "photoUrl": "//lh4.googleusercontent.com/-BMlr5I5Dhow/AAAAAAAAAAI/AAAAAAAAABc/XW4PF5A8K2Q/s50-c-k-no/photo.jpg",
            "userId": "116545933704048584401"
          }
        }
      },
      "cell_type": "code",
      "source": [
        "print(\"Extracting features from the training dataset using a sparse vectorizer\")\n",
        "t0 = time()\n",
        "\n",
        "if use_hashing:\n",
        "    if use_idf:\n",
        "        # Perform an IDF normalization on the output of HashingVectorizer\n",
        "        hasher = HashingVectorizer(n_features=n_features,\n",
        "                                   stop_words='english', alternate_sign=False,\n",
        "                                   norm=None, binary=False)\n",
        "        vectorizer = make_pipeline(hasher, TfidfTransformer())\n",
        "    else:\n",
        "        vectorizer = HashingVectorizer(n_features=n_features,\n",
        "                                       stop_words='english',\n",
        "                                       alternate_sign=False, norm='l2',\n",
        "                                       binary=False)\n",
        "else:\n",
        "    vectorizer = TfidfVectorizer(max_df=0.5, max_features=n_features,\n",
        "                                 min_df=2, stop_words='english',\n",
        "                                 use_idf=use_idf)\n",
        "X = vectorizer.fit_transform(dataset.data)\n",
        "\n",
        "print(\"done in %fs\" % (time() - t0))\n",
        "print(\"n_samples: %d, n_features: %d\" % X.shape)\n",
        "print()"
      ],
      "execution_count": 4,
      "outputs": [
        {
          "output_type": "stream",
          "text": [
            "Extracting features from the training dataset using a sparse vectorizer\n",
            "done in 3.987566s\n",
            "n_samples: 18846, n_features: 10000\n",
            "\n"
          ],
          "name": "stdout"
        }
      ]
    },
    {
      "metadata": {
        "id": "-5rHJtfpXaA0",
        "colab_type": "text"
      },
      "cell_type": "markdown",
      "source": [
        "## Potentially, also do dimensionality reduction"
      ]
    },
    {
      "metadata": {
        "id": "SX8F3RGbXd9E",
        "colab_type": "code",
        "colab": {
          "autoexec": {
            "startup": false,
            "wait_interval": 0
          }
        }
      },
      "cell_type": "code",
      "source": [
        "if n_components:\n",
        "    print(\"Performing dimensionality reduction using LSA\")\n",
        "    t0 = time()\n",
        "    # Vectorizer results are normalized, which makes KMeans behave as\n",
        "    # spherical k-means for better results. Since LSA/SVD results are\n",
        "    # not normalized, we have to redo the normalization.\n",
        "    svd = TruncatedSVD(n_components)\n",
        "    normalizer = Normalizer(copy=False)\n",
        "    lsa = make_pipeline(svd, normalizer)\n",
        "\n",
        "    X = lsa.fit_transform(X)\n",
        "\n",
        "    print(\"done in %fs\" % (time() - t0))\n",
        "\n",
        "    explained_variance = svd.explained_variance_ratio_.sum()\n",
        "    print(\"Explained variance of the SVD step: {}%\".format(\n",
        "        int(explained_variance * 100)))"
      ],
      "execution_count": 0,
      "outputs": []
    },
    {
      "metadata": {
        "id": "l1Sj87MrX1-j",
        "colab_type": "text"
      },
      "cell_type": "markdown",
      "source": [
        "## Then do the actual clustering and output clustering metrics\n",
        "\n",
        "Look at using [MiniBatchKmeans](http://scikit-learn.org/stable/modules/generated/sklearn.cluster.MiniBatchKMeans.html) insead of regular KMeans - MiniBatch means to use a smaller subset of the data over a few passes and average their results. MiniBatch has a shorter runtime than full KMeans and can actually complete on very-large datasets.\n",
        "\n",
        "Compare the clustering performance metrics between using KMeans and MiniBatchKMeans:\n",
        "* Homogeneity\n",
        "* Completeness\n",
        "* V-measure\n",
        "* Adjusted Rand-Index\n",
        "* Silhouette\n",
        "\n",
        "After you've finished examining the differing performance between KMeans and MiniBatchKMeans, try using a `k` other than `true_k`.\n",
        "\n",
        "Suggestion: Write a loop that computes and outputs the Clustering Metrics for $k \\in \\{2...30\\}$. Graph one or more of the metrics with $k$ as the `x` axis. We should see them maximize around $k=20$, the true number of clusters. Do we?\n",
        "\n",
        "Finally, after clustering, draw some exemplar data samples from each cluster and compare them in your own mind. Is the clustering process working for separating out the content of different emails?"
      ]
    },
    {
      "metadata": {
        "id": "DHOeGxRdX39c",
        "colab_type": "code",
        "colab": {
          "autoexec": {
            "startup": false,
            "wait_interval": 0
          }
        }
      },
      "cell_type": "code",
      "source": [
        "# Your implementation of Clustering Execution and Performance Metrics\n",
        "def bench_k_means(estimator, name, data, labels, verbose=True):\n",
        "    t0 = time()\n",
        "    \n",
        "    # Run the k-means algoritmh\n",
        "    estimator.fit(data)\n",
        "    \n",
        "    homogeneity = metrics.homogeneity_score(labels, estimator.labels_)\n",
        "    completeness = metrics.completeness_score(labels, estimator.labels_)\n",
        "    v_measure = metrics.v_measure_score(labels, estimator.labels_)\n",
        "    adjusted_rand = metrics.adjusted_rand_score(labels, estimator.labels_)\n",
        "    silhouette = metrics.silhouette_score(data, estimator.labels_, metric='euclidean', sample_size=300)\n",
        "    \n",
        "    # Print metrics\n",
        "    if verbose:\n",
        "        print('Algorithm: {}\\nTime: {:.3f}\\nHomogeneity: {:.3f}\\nCompleteness: {:.3f}\\\n",
        "        \\nV-measure: {:.3f}\\nAdjusted Rand-Index: {:.3f}\\nSilhouette: {:.3f}'.format(\n",
        "            name,\n",
        "            time()-t0, \n",
        "            homogeneity,\n",
        "            completeness,\n",
        "            v_measure,\n",
        "            adjusted_rand,\n",
        "            silhouette\n",
        "        ))\n",
        "    \n",
        "    return (homogeneity, completeness, v_measure, adjusted_rand, silhouette)"
      ],
      "execution_count": 0,
      "outputs": []
    },
    {
      "metadata": {
        "id": "seTexFn0-dmI",
        "colab_type": "code",
        "colab": {
          "autoexec": {
            "startup": false,
            "wait_interval": 0
          },
          "base_uri": "https://localhost:8080/",
          "height": 221
        },
        "outputId": "c1a34155-0d5b-4456-ff88-df8a565a971a",
        "executionInfo": {
          "status": "ok",
          "timestamp": 1527013667166,
          "user_tz": 420,
          "elapsed": 1795,
          "user": {
            "displayName": "Ray Heberer",
            "photoUrl": "//lh4.googleusercontent.com/-BMlr5I5Dhow/AAAAAAAAAAI/AAAAAAAAABc/XW4PF5A8K2Q/s50-c-k-no/photo.jpg",
            "userId": "116545933704048584401"
          }
        }
      },
      "cell_type": "code",
      "source": [
        "bench_k_means(MiniBatchKMeans(n_clusters=true_k), 'MiniBatchKMeans, k={}'.format(true_k), X, labels)"
      ],
      "execution_count": 89,
      "outputs": [
        {
          "output_type": "stream",
          "text": [
            "Algorithm: MiniBatchKMeans, k=20\n",
            "Time: 1.027\n",
            "Homogeneity: 0.172\n",
            "Completeness: 0.380        \n",
            "V-measure: 0.237\n",
            "Adjusted Rand-Index: 0.022\n",
            "Silhouette: -0.001\n"
          ],
          "name": "stdout"
        },
        {
          "output_type": "execute_result",
          "data": {
            "text/plain": [
              "(0.17207267836274748,\n",
              " 0.3800888622947314,\n",
              " 0.23689773276503936,\n",
              " 0.022339278648427607,\n",
              " -0.001010355769287428)"
            ]
          },
          "metadata": {
            "tags": []
          },
          "execution_count": 89
        }
      ]
    },
    {
      "metadata": {
        "id": "gNL18_3sG3J3",
        "colab_type": "code",
        "colab": {
          "autoexec": {
            "startup": false,
            "wait_interval": 0
          },
          "base_uri": "https://localhost:8080/",
          "height": 221
        },
        "outputId": "b36d5157-b698-4a51-c8c3-4cb2412d2792",
        "executionInfo": {
          "status": "ok",
          "timestamp": 1527013744282,
          "user_tz": 420,
          "elapsed": 74065,
          "user": {
            "displayName": "Ray Heberer",
            "photoUrl": "//lh4.googleusercontent.com/-BMlr5I5Dhow/AAAAAAAAAAI/AAAAAAAAABc/XW4PF5A8K2Q/s50-c-k-no/photo.jpg",
            "userId": "116545933704048584401"
          }
        }
      },
      "cell_type": "code",
      "source": [
        "# must have low max iterations to run in reasonable time\n",
        "bench_k_means(KMeans(n_clusters=true_k, max_iter=5), 'KMeans, k={}'.format(true_k), X, labels)"
      ],
      "execution_count": 90,
      "outputs": [
        {
          "output_type": "stream",
          "text": [
            "Algorithm: KMeans, k=20\n",
            "Time: 73.525\n",
            "Homogeneity: 0.289\n",
            "Completeness: 0.321        \n",
            "V-measure: 0.304\n",
            "Adjusted Rand-Index: 0.123\n",
            "Silhouette: 0.000\n"
          ],
          "name": "stdout"
        },
        {
          "output_type": "execute_result",
          "data": {
            "text/plain": [
              "(0.28893595484176066,\n",
              " 0.32128349788226235,\n",
              " 0.3042523597735767,\n",
              " 0.12293781480414154,\n",
              " 0.0004264620917653861)"
            ]
          },
          "metadata": {
            "tags": []
          },
          "execution_count": 90
        }
      ]
    },
    {
      "metadata": {
        "id": "ZPbuT6Rc-UyP",
        "colab_type": "code",
        "colab": {
          "autoexec": {
            "startup": false,
            "wait_interval": 0
          }
        }
      },
      "cell_type": "code",
      "source": [
        "measures = bench_k_means(MiniBatchKMeans(n_clusters=2), 'KMeans, k={}'.format(2), X, labels, verbose=False)\n",
        "\n",
        "for k in range(3, 31):\n",
        "    new = bench_k_means(MiniBatchKMeans(n_clusters=k), 'KMeans, k={}'.format(k), X, labels, verbose=False)\n",
        "    measures = np.concatenate([measures, np.array(new)])\n",
        "    "
      ],
      "execution_count": 0,
      "outputs": []
    },
    {
      "metadata": {
        "id": "zRj81lPVDM7S",
        "colab_type": "code",
        "colab": {
          "autoexec": {
            "startup": false,
            "wait_interval": 0
          }
        }
      },
      "cell_type": "code",
      "source": [
        "import matplotlib.pyplot as plt"
      ],
      "execution_count": 0,
      "outputs": []
    },
    {
      "metadata": {
        "id": "uRmutUK1Dcz7",
        "colab_type": "code",
        "colab": {
          "autoexec": {
            "startup": false,
            "wait_interval": 0
          },
          "base_uri": "https://localhost:8080/",
          "height": 932
        },
        "outputId": "3c0bc0a4-40a4-469a-95c6-c98393c4a2f6",
        "executionInfo": {
          "status": "ok",
          "timestamp": 1527013499578,
          "user_tz": 420,
          "elapsed": 1431,
          "user": {
            "displayName": "Ray Heberer",
            "photoUrl": "//lh4.googleusercontent.com/-BMlr5I5Dhow/AAAAAAAAAAI/AAAAAAAAABc/XW4PF5A8K2Q/s50-c-k-no/photo.jpg",
            "userId": "116545933704048584401"
          }
        }
      },
      "cell_type": "code",
      "source": [
        "fig, axs = plt.subplots(5, figsize=(8,16))\n",
        "fig.subplots_adjust(hspace=0.3)\n",
        "for i, measure in enumerate(['homogeneity', 'completeness', 'V-measure', 'adjusted Rand index', 'silhouette']):\n",
        "    axs[i].scatter(range(2, 31), measures[:,i])\n",
        "    axs[i].set(xlabel='k', ylabel=measure)"
      ],
      "execution_count": 86,
      "outputs": [
        {
          "output_type": "display_data",
          "data": {
            "image/png": "[encoded data removed]",
            "text/plain": [
              "<matplotlib.figure.Figure at 0x7f36fba86e10>"
            ]
          },
          "metadata": {
            "tags": []
          }
        }
      ]
    }
  ]
}