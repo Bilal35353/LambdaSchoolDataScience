{
 "cells": [
  {
   "cell_type": "markdown",
   "metadata": {
    "colab_type": "text",
    "id": "b-y9l5SxPLKQ"
   },
   "source": [
    "### Coding Challenge #1:"
   ]
  },
  {
   "cell_type": "markdown",
   "metadata": {
    "colab_type": "text",
    "id": "oXX0kIcBNJdq"
   },
   "source": [
    "In this coding challenge, you will work through mini-challenges that help you become familiar with the nuances of Spark programming.\n",
    "\n"
   ]
  },
  {
   "cell_type": "markdown",
   "metadata": {
    "colab_type": "text",
    "id": "RAnKnW3-T6rG"
   },
   "source": [
    "**Question 1**:  The dataset contains information about airports around the world. The first few columns are the **1**) Airport Id, **2) **Name of the Airport, **3) ** City of the Airport, **4)** Country of the Airport, etc. The ask is to retreive the a) Name of the Airport and b) City of the Airport for a country of your choice (i.e. Iceland, Canada or United States) and output the details to a 'select_airports.txt' file.\n",
    "\n",
    "Hint: **1)** Initialize a Spark Context, **2)** Specify how many cores you would like to dedicate to the application, **3)** Leverage the Filter-Map transformation to retrieve the **a)** Name of the Airport and **b)** City of the Airport for a country of your choice.\n",
    "\n",
    "**Dataset**: https://www.dropbox.com/s/zup13k470xj7hhh/airports.txt?raw=1 - Download the file and save it to a local folder and then utilize the textfile method of the SparkContext package to read in the file\n",
    "\n",
    "Reference: https://www.tutorialkart.com/apache-spark/read-input-text-file-to-rdd-example/\n",
    "\n",
    "Reference on Regular Expressions: http://www.pythonforbeginners.com/regex/regular-expressions-in-python"
   ]
  },
  {
   "cell_type": "code",
   "execution_count": 1,
   "metadata": {},
   "outputs": [],
   "source": [
    "import re\n",
    "import os\n",
    "from pyspark import SparkContext, SparkConf, SparkFiles"
   ]
  },
  {
   "cell_type": "code",
   "execution_count": 2,
   "metadata": {},
   "outputs": [],
   "source": [
    "conf = SparkConf().setAppName(\"CC1\").setMaster(\"local[2]\")\n",
    "sc = SparkContext(conf=conf)"
   ]
  },
  {
   "cell_type": "code",
   "execution_count": 3,
   "metadata": {},
   "outputs": [],
   "source": [
    "sc.addFile('https://uc557ef0cc08d9b1c56ab1be8f81.dl.dropboxusercontent.com/cd/0/inline/AJMIZP6Jl2SdI8_ghUmnxrI69-83FMxiVIgMdCJfNs-Gips36eDBfS33GAD6C5rEPlPXBAmCqtGVutJu__nOT27iS2dxcptfXxQ-1qAS-VhIwpq1ptnEY-RqQ2gKcPNuvsfqh2SgtTYl9LGNodhDtxuPcttXh7YRNbg8Ui6gTEaWNJHxM1mmlLttKbU01GHe_T8/file')"
   ]
  },
  {
   "cell_type": "code",
   "execution_count": 4,
   "metadata": {},
   "outputs": [],
   "source": [
    "airports = sc.textFile(SparkFiles.get('file'))"
   ]
  },
  {
   "cell_type": "code",
   "execution_count": 5,
   "metadata": {},
   "outputs": [
    {
     "data": {
      "text/plain": [
       "['1,\"Goroka\",\"Goroka\",\"Papua New Guinea\",\"GKA\",\"AYGA\",-6.081689,145.391881,5282,10,\"U\",\"Pacific/Port_Moresby\"',\n",
       " '2,\"Madang\",\"Madang\",\"Papua New Guinea\",\"MAG\",\"AYMD\",-5.207083,145.7887,20,10,\"U\",\"Pacific/Port_Moresby\"',\n",
       " '3,\"Mount Hagen\",\"Mount Hagen\",\"Papua New Guinea\",\"HGU\",\"AYMH\",-5.826789,144.295861,5388,10,\"U\",\"Pacific/Port_Moresby\"',\n",
       " '4,\"Nadzab\",\"Nadzab\",\"Papua New Guinea\",\"LAE\",\"AYNZ\",-6.569828,146.726242,239,10,\"U\",\"Pacific/Port_Moresby\"',\n",
       " '5,\"Port Moresby Jacksons Intl\",\"Port Moresby\",\"Papua New Guinea\",\"POM\",\"AYPY\",-9.443383,147.22005,146,10,\"U\",\"Pacific/Port_Moresby\"']"
      ]
     },
     "execution_count": 5,
     "metadata": {},
     "output_type": "execute_result"
    }
   ],
   "source": [
    "airports.collect()[:5]"
   ]
  },
  {
   "cell_type": "code",
   "execution_count": 6,
   "metadata": {},
   "outputs": [],
   "source": [
    "# https://stackoverflow.com/questions/26810010/need-explanation-on-this-regex?rq=1\n",
    "\n",
    "def split_on_comma(line: str):\n",
    "    splits = re.compile(''',(?=(?:[^\"]*\"[^\"]*\")*[^\"]*$)''').split(line)\n",
    "    return \"{}, {}\".format(splits[1], splits[2])"
   ]
  },
  {
   "cell_type": "code",
   "execution_count": 7,
   "metadata": {},
   "outputs": [],
   "source": [
    "canada_airports = airports.filter(lambda line: \n",
    "                                  re.compile(''',(?=(?:[^\"]*\"[^\"]*\")*[^\"]*$)''')\n",
    "                                  .split(line)[3]== '\"Canada\"')"
   ]
  },
  {
   "cell_type": "code",
   "execution_count": 8,
   "metadata": {},
   "outputs": [
    {
     "data": {
      "text/plain": [
       "['21,\"Sault Ste Marie\",\"Sault Sainte Marie\",\"Canada\",\"YAM\",\"CYAM\",46.485001,-84.509445,630,-5,\"A\",\"America/Toronto\"',\n",
       " '22,\"Winnipeg St Andrews\",\"Winnipeg\",\"Canada\",\"YAV\",\"CYAV\",50.056389,-97.0325,760,-6,\"A\",\"America/Winnipeg\"',\n",
       " '23,\"Shearwater\",\"Halifax\",\"Canada\",\"YAW\",\"CYAW\",44.639721,-63.499444,167,-4,\"A\",\"America/Halifax\"',\n",
       " '24,\"St Anthony\",\"St. Anthony\",\"Canada\",\"YAY\",\"CYAY\",51.391944,-56.083056,108,-3.5,\"A\",\"America/St_Johns\"',\n",
       " '25,\"Tofino\",\"Tofino\",\"Canada\",\"YAZ\",\"CYAZ\",49.082222,-125.7725,80,-8,\"A\",\"America/Vancouver\"']"
      ]
     },
     "execution_count": 8,
     "metadata": {},
     "output_type": "execute_result"
    }
   ],
   "source": [
    "canada_airports.collect()[:5]"
   ]
  },
  {
   "cell_type": "code",
   "execution_count": 9,
   "metadata": {},
   "outputs": [],
   "source": [
    "canada_airports_names_cities = canada_airports.map(lambda line: split_on_comma(line))"
   ]
  },
  {
   "cell_type": "code",
   "execution_count": 10,
   "metadata": {},
   "outputs": [
    {
     "data": {
      "text/plain": [
       "['\"Sault Ste Marie\", \"Sault Sainte Marie\"',\n",
       " '\"Winnipeg St Andrews\", \"Winnipeg\"',\n",
       " '\"Shearwater\", \"Halifax\"',\n",
       " '\"St Anthony\", \"St. Anthony\"',\n",
       " '\"Tofino\", \"Tofino\"']"
      ]
     },
     "execution_count": 10,
     "metadata": {},
     "output_type": "execute_result"
    }
   ],
   "source": [
    "canada_airports_names_cities.collect()[:5]"
   ]
  },
  {
   "cell_type": "code",
   "execution_count": 11,
   "metadata": {},
   "outputs": [],
   "source": [
    "os.remove(SparkFiles.get('file'))"
   ]
  },
  {
   "cell_type": "markdown",
   "metadata": {
    "colab_type": "text",
    "id": "KnRKOrxM4s5s"
   },
   "source": [
    "\n",
    "**Question 2**: For this question, you will leverage pair RDD's. Pair RDD's expose operations that enable you to act on each key of a key-value in parallel to regroup/aggregate data across the network. In this case, you will leverage a pair RDD to count the number of words in a file. The **ask** is to utilize a pair RDD to count the number of times a word occurs in a body of text (i.e. the WordCount.txt file).\n",
    "\n",
    "**Dataset**: https://www.dropbox.com/s/unau4wxfsidrddq/WordCount.txt?raw=1 - Download the file and save it to a local folder and then utilize the textfile method of the SparkContext package to read in the file\n",
    "\n",
    "Reference(s):\n",
    "\n",
    "https://programmathics.com/big-data/apache-spark/apache-spark-resilient-distributed-dataset-rdd-programming-part-1/apache-spark-resilient-distributed-dataset-rdd-programming-action-operations/\n",
    "\n",
    "https://programmathics.com/big-data/apache-spark/apache-spark-working-with-key-value-pairs-in-rdd/apache-spark-pyspark-actions-on-pair-rdd/\n",
    "\n",
    "\n"
   ]
  },
  {
   "cell_type": "code",
   "execution_count": 12,
   "metadata": {},
   "outputs": [],
   "source": [
    "sc.addFile('https://uc96933343f8cf158207d9d5f37d.dl.dropboxusercontent.com/cd/0/inline/AJMzZSb-Yrd5lJemNl0DdAV6YlJzJUNn3xIpkEGbfhdeohdGYiliaspHUbTUpd8tkbTkignXOfyKFchYRb5nCbhIFKbjXmycJi61z1hT-j5AD6w5lm_o32MW1u3WZ6I1ppOYxp2K32Vy8xuXuyaZbi9GKn3NwqlLDycK-sJgqBDcuQPswEbsATjFP54VZkwACAk/file')"
   ]
  },
  {
   "cell_type": "code",
   "execution_count": 13,
   "metadata": {},
   "outputs": [],
   "source": [
    "history = sc.textFile(SparkFiles.get('file'))"
   ]
  },
  {
   "cell_type": "code",
   "execution_count": 14,
   "metadata": {},
   "outputs": [
    {
     "data": {
      "text/plain": [
       "\"The history of New York begins around 10,000 BC, when the first Native Americans arrived. By 1100 AD, New York's main native cultures, the Iroquoian and Algonquian, had developed. European discovery of New York was led by the French in 1524 and the first land claim came in 1609 by the Dutch. As part of New Netherland, the colony was important in the fur trade and eventually became an agricultural resource thanks to the patroon system. In 1626 the Dutch bought the island of Manhattan from Native Americans.[1] In 1664, England renamed the colony New York, after the Duke of York (later James II & VII.) New York City gained prominence in the 18th century as a major trading port in the Thirteen Colonies.\""
      ]
     },
     "execution_count": 14,
     "metadata": {},
     "output_type": "execute_result"
    }
   ],
   "source": [
    "history.collect()[0]"
   ]
  },
  {
   "cell_type": "code",
   "execution_count": 15,
   "metadata": {},
   "outputs": [],
   "source": [
    "history = history.flatMap(lambda x: x.split(' '))"
   ]
  },
  {
   "cell_type": "code",
   "execution_count": 16,
   "metadata": {},
   "outputs": [
    {
     "name": "stdout",
     "output_type": "stream",
     "text": [
      "['The', 'history', 'of', 'New', 'York', 'begins', 'around', '10,000', 'BC,', 'when']\n"
     ]
    }
   ],
   "source": [
    "print(history.collect()[:10])"
   ]
  },
  {
   "cell_type": "code",
   "execution_count": 17,
   "metadata": {},
   "outputs": [
    {
     "data": {
      "text/plain": [
       "pyspark.rdd.PipelinedRDD"
      ]
     },
     "execution_count": 17,
     "metadata": {},
     "output_type": "execute_result"
    }
   ],
   "source": [
    "type(history)"
   ]
  },
  {
   "cell_type": "code",
   "execution_count": 18,
   "metadata": {},
   "outputs": [
    {
     "data": {
      "text/plain": [
       "defaultdict(int,\n",
       "            {'The': 10,\n",
       "             'history': 1,\n",
       "             'of': 33,\n",
       "             'New': 20,\n",
       "             'York': 17,\n",
       "             'begins': 1,\n",
       "             'around': 4,\n",
       "             '10,000': 1,\n",
       "             'BC,': 1,\n",
       "             'when': 1,\n",
       "             'the': 71,\n",
       "             'first': 5,\n",
       "             'Native': 2,\n",
       "             'Americans': 1,\n",
       "             'arrived.': 1,\n",
       "             'By': 1,\n",
       "             '1100': 1,\n",
       "             'AD,': 1,\n",
       "             \"York's\": 2,\n",
       "             'main': 2,\n",
       "             'native': 1,\n",
       "             'cultures,': 1,\n",
       "             'Iroquoian': 1,\n",
       "             'and': 21,\n",
       "             'Algonquian,': 1,\n",
       "             'had': 1,\n",
       "             'developed.': 1,\n",
       "             'European': 2,\n",
       "             'discovery': 1,\n",
       "             'was': 8,\n",
       "             'led': 2,\n",
       "             'by': 2,\n",
       "             'French': 1,\n",
       "             'in': 21,\n",
       "             '1524': 1,\n",
       "             'land': 1,\n",
       "             'claim': 1,\n",
       "             'came': 2,\n",
       "             '1609': 1,\n",
       "             'Dutch.': 1,\n",
       "             'As': 1,\n",
       "             'part': 1,\n",
       "             'Netherland,': 1,\n",
       "             'colony': 2,\n",
       "             'important': 1,\n",
       "             'fur': 1,\n",
       "             'trade': 3,\n",
       "             'eventually': 1,\n",
       "             'became': 6,\n",
       "             'an': 1,\n",
       "             'agricultural': 1,\n",
       "             'resource': 1,\n",
       "             'thanks': 1,\n",
       "             'to': 17,\n",
       "             'patroon': 1,\n",
       "             'system.': 1,\n",
       "             'In': 3,\n",
       "             '1626': 1,\n",
       "             'Dutch': 1,\n",
       "             'bought': 1,\n",
       "             'island': 1,\n",
       "             'Manhattan': 1,\n",
       "             'from': 8,\n",
       "             'Americans.[1]': 1,\n",
       "             '1664,': 1,\n",
       "             'England': 1,\n",
       "             'renamed': 1,\n",
       "             'York,': 1,\n",
       "             'after': 1,\n",
       "             'Duke': 1,\n",
       "             '(later': 1,\n",
       "             'James': 1,\n",
       "             'II': 2,\n",
       "             '&': 1,\n",
       "             'VII.)': 1,\n",
       "             'City': 7,\n",
       "             'gained': 1,\n",
       "             'prominence': 1,\n",
       "             '18th': 1,\n",
       "             'century': 1,\n",
       "             'as': 4,\n",
       "             'a': 11,\n",
       "             'major': 3,\n",
       "             'trading': 1,\n",
       "             'port': 2,\n",
       "             'Thirteen': 2,\n",
       "             'Colonies.': 1,\n",
       "             '': 7,\n",
       "             'played': 1,\n",
       "             'pivotal': 1,\n",
       "             'role': 1,\n",
       "             'during': 3,\n",
       "             'American': 3,\n",
       "             'Revolution': 1,\n",
       "             'subsequent': 1,\n",
       "             'war.': 2,\n",
       "             'Stamp': 1,\n",
       "             'Act': 1,\n",
       "             'Congress': 1,\n",
       "             '1765': 1,\n",
       "             'brought': 1,\n",
       "             'together': 1,\n",
       "             'representatives': 1,\n",
       "             'across': 1,\n",
       "             'Colonies': 1,\n",
       "             'form': 1,\n",
       "             'unified': 1,\n",
       "             'response': 1,\n",
       "             'British': 3,\n",
       "             'policies.': 1,\n",
       "             'Sons': 1,\n",
       "             'Liberty': 2,\n",
       "             'were': 3,\n",
       "             'active': 1,\n",
       "             'challenge': 1,\n",
       "             'authority.': 1,\n",
       "             'After': 1,\n",
       "             'loss': 1,\n",
       "             'at': 2,\n",
       "             'Battle': 2,\n",
       "             'Long': 1,\n",
       "             'Island,': 1,\n",
       "             'Continental': 1,\n",
       "             'Army': 1,\n",
       "             'suffered': 1,\n",
       "             'series': 1,\n",
       "             'additional': 1,\n",
       "             'defeats': 1,\n",
       "             'that': 1,\n",
       "             'forced': 1,\n",
       "             'retreat': 1,\n",
       "             'area,': 1,\n",
       "             'leaving': 1,\n",
       "             'strategic': 1,\n",
       "             'harbor': 1,\n",
       "             'army': 1,\n",
       "             'navy': 1,\n",
       "             'their': 2,\n",
       "             'North': 1,\n",
       "             'base': 2,\n",
       "             'operations': 1,\n",
       "             'for': 3,\n",
       "             'rest': 1,\n",
       "             'Saratoga': 1,\n",
       "             'turning': 1,\n",
       "             'point': 2,\n",
       "             'war': 1,\n",
       "             'favor': 1,\n",
       "             'Americans,': 1,\n",
       "             'convincing': 1,\n",
       "             'France': 1,\n",
       "             'formally': 1,\n",
       "             'ally': 1,\n",
       "             'with': 3,\n",
       "             'them.': 1,\n",
       "             'constitution': 1,\n",
       "             'adopted': 1,\n",
       "             '1777,': 1,\n",
       "             'strongly': 1,\n",
       "             'influenced': 1,\n",
       "             'United': 4,\n",
       "             'States': 3,\n",
       "             'Constitution.': 2,\n",
       "             'national': 2,\n",
       "             'capital': 3,\n",
       "             'various': 1,\n",
       "             'times': 1,\n",
       "             'between': 1,\n",
       "             '1785': 1,\n",
       "             '1790,': 1,\n",
       "             'where': 1,\n",
       "             'Bill': 1,\n",
       "             'Rights': 1,\n",
       "             'drafted.': 1,\n",
       "             'Albany': 1,\n",
       "             'permanent': 1,\n",
       "             'state': 5,\n",
       "             '1797.': 1,\n",
       "             '1787,': 1,\n",
       "             'eleventh': 1,\n",
       "             'ratify': 1,\n",
       "             'hosted': 2,\n",
       "             'significant': 2,\n",
       "             'transportation': 2,\n",
       "             'advancements': 2,\n",
       "             '19th': 2,\n",
       "             'century,': 3,\n",
       "             'including': 1,\n",
       "             'steamboat': 1,\n",
       "             'line': 1,\n",
       "             '1807,': 1,\n",
       "             'Erie': 1,\n",
       "             'Canal': 1,\n",
       "             '1825,': 1,\n",
       "             \"America's\": 1,\n",
       "             'regularly': 1,\n",
       "             'scheduled': 1,\n",
       "             'rail': 1,\n",
       "             'service': 2,\n",
       "             '1831.': 1,\n",
       "             'These': 1,\n",
       "             'expanded': 1,\n",
       "             'settlement': 1,\n",
       "             'western': 1,\n",
       "             'ties': 2,\n",
       "             'Midwest': 1,\n",
       "             'settlements': 1,\n",
       "             'Great': 3,\n",
       "             'Lakes.': 1,\n",
       "             'Due': 1,\n",
       "             \"City's\": 1,\n",
       "             'South,': 1,\n",
       "             'there': 1,\n",
       "             'numerous': 1,\n",
       "             'southern': 2,\n",
       "             'sympathizers': 1,\n",
       "             'early': 1,\n",
       "             'days': 1,\n",
       "             'Civil': 1,\n",
       "             'War': 2,\n",
       "             'mayor': 1,\n",
       "             'proposed': 1,\n",
       "             'secession.': 1,\n",
       "             'Far': 1,\n",
       "             'any': 1,\n",
       "             'battles,': 1,\n",
       "             'ultimately': 1,\n",
       "             'sent': 1,\n",
       "             'most': 3,\n",
       "             'men': 1,\n",
       "             'money': 1,\n",
       "             'support': 1,\n",
       "             'Union': 1,\n",
       "             'cause.': 1,\n",
       "             'Thereafter,': 1,\n",
       "             'helped': 1,\n",
       "             'create': 1,\n",
       "             'industrial': 1,\n",
       "             'age': 1,\n",
       "             'consequently': 1,\n",
       "             'home': 1,\n",
       "             'some': 1,\n",
       "             'labor': 1,\n",
       "             'unions.': 1,\n",
       "             'During': 1,\n",
       "             'entry': 1,\n",
       "             'immigrants': 1,\n",
       "             'States,': 1,\n",
       "             'beginning': 1,\n",
       "             'wave': 1,\n",
       "             'Irish': 1,\n",
       "             'Famine.': 1,\n",
       "             'Millions': 1,\n",
       "             'through': 1,\n",
       "             'Castle': 1,\n",
       "             'Clinton': 1,\n",
       "             'Battery': 1,\n",
       "             'Park': 1,\n",
       "             'before': 2,\n",
       "             'Ellis': 1,\n",
       "             'Island': 1,\n",
       "             'opened': 3,\n",
       "             '1892': 1,\n",
       "             'welcome': 1,\n",
       "             'millions': 1,\n",
       "             'more,': 1,\n",
       "             'increasingly': 1,\n",
       "             'eastern': 1,\n",
       "             'Europe.': 1,\n",
       "             'Statue': 1,\n",
       "             '1886': 1,\n",
       "             'symbol': 1,\n",
       "             'hope.': 1,\n",
       "             'boomed': 1,\n",
       "             'Roaring': 1,\n",
       "             'Twenties,': 1,\n",
       "             'Wall': 1,\n",
       "             'Street': 1,\n",
       "             'Crash': 1,\n",
       "             '1929,': 1,\n",
       "             'skyscrapers': 1,\n",
       "             'expressed': 1,\n",
       "             'energy': 1,\n",
       "             'city.': 1,\n",
       "             'site': 1,\n",
       "             'successive': 1,\n",
       "             'tallest': 1,\n",
       "             'buildings': 1,\n",
       "             'world': 1,\n",
       "             '1913–74.': 1,\n",
       "             'buildup': 1,\n",
       "             'defense': 1,\n",
       "             'industries': 1,\n",
       "             'World': 2,\n",
       "             'turned': 1,\n",
       "             \"state's\": 2,\n",
       "             'economy': 1,\n",
       "             'Depression,': 1,\n",
       "             'hundreds': 1,\n",
       "             'thousands': 1,\n",
       "             'worked': 1,\n",
       "             'defeat': 1,\n",
       "             'Axis': 1,\n",
       "             'powers.': 1,\n",
       "             'Following': 2,\n",
       "             'war,': 1,\n",
       "             'experienced': 1,\n",
       "             'suburbanization': 1,\n",
       "             'all': 1,\n",
       "             'cities,': 1,\n",
       "             'central': 1,\n",
       "             'cities': 1,\n",
       "             'shrank.': 1,\n",
       "             'Thruway': 1,\n",
       "             'system': 1,\n",
       "             '1956,': 1,\n",
       "             'signalling': 1,\n",
       "             'another': 1,\n",
       "             'era': 1,\n",
       "             'advances.': 1,\n",
       "             'period': 1,\n",
       "             'near–bankruptcy': 1,\n",
       "             'late': 1,\n",
       "             '1970s,': 1,\n",
       "             'renewed': 1,\n",
       "             'its': 2,\n",
       "             'stature': 1,\n",
       "             'cultural': 1,\n",
       "             'center,': 1,\n",
       "             'attracted': 1,\n",
       "             'more': 1,\n",
       "             'immigration,': 1,\n",
       "             'development': 1,\n",
       "             'new': 1,\n",
       "             'music': 1,\n",
       "             'styles.': 1,\n",
       "             'city': 1,\n",
       "             'developed': 1,\n",
       "             'publishing': 1,\n",
       "             'become': 1,\n",
       "             'media': 1,\n",
       "             'over': 1,\n",
       "             'second': 1,\n",
       "             'half': 1,\n",
       "             '20th': 1,\n",
       "             'hosting': 1,\n",
       "             'news': 1,\n",
       "             'channels': 1,\n",
       "             'broadcasts.': 1,\n",
       "             'Some': 1,\n",
       "             'newspapers': 1,\n",
       "             'nationally': 1,\n",
       "             'globallyrenowned.': 1,\n",
       "             'manufacturing': 1,\n",
       "             'eroded': 1,\n",
       "             'restructuring': 1,\n",
       "             'industry,': 1,\n",
       "             'transitioned': 1,\n",
       "             'into': 1,\n",
       "             'industries.': 1,\n",
       "             'September': 1,\n",
       "             '11': 1,\n",
       "             'attacks': 2,\n",
       "             '2001': 1,\n",
       "             'destroyed': 1,\n",
       "             'Trade': 1,\n",
       "             'Center,': 1,\n",
       "             'killing': 1,\n",
       "             'almost': 1,\n",
       "             '3,000': 1,\n",
       "             'people;': 1,\n",
       "             'they': 1,\n",
       "             'largest': 1,\n",
       "             'terrorist': 1,\n",
       "             'on': 1,\n",
       "             'soil.': 1})"
      ]
     },
     "execution_count": 18,
     "metadata": {},
     "output_type": "execute_result"
    }
   ],
   "source": [
    "history.countByValue()"
   ]
  },
  {
   "cell_type": "code",
   "execution_count": 19,
   "metadata": {},
   "outputs": [],
   "source": [
    "os.remove(SparkFiles.get('file'))"
   ]
  },
  {
   "cell_type": "markdown",
   "metadata": {
    "colab_type": "text",
    "id": "6oryAmAq42V1"
   },
   "source": [
    "**Question 3:** This question will provide an opportunity to work with the \"groupByKey\" operator. The \"groupByKey\" operator when called on a **key, value** pair  returns a dataset of (K, Iterable<V>) pairs. For example, you can utilize the \"groupByKey\" operator to list all the airport within a country. The **ask** here is to leverage the \"groupByKey\" operator to get a listing of all locations by status. \n",
    "  \n",
    " **Dataset**: https://www.dropbox.com/s/4z3i0b05p7p22b2/RealEstate.csv?raw=1"
   ]
  },
  {
   "cell_type": "code",
   "execution_count": 20,
   "metadata": {},
   "outputs": [],
   "source": [
    "sc.addFile('https://uc7a338832108755c134c082fcb1.dl.dropboxusercontent.com/cd/0/inline/AJNX8cCB_IMQJ6YZfsTrgVbgS0FT-w_rQRqeV_Dsu2W93GuzxLJ7b7pU6_KDekOWoYkm5FWFD7GAeMxJVoD0Nwvqb_eWeDSfSWvNM7G5_CHWc2fxx_gmiEljmxRIE89ytQcCScf8AcUWmlOjjCg-jFfJZKrwU3peKWrQdQrfwHINhoET-oiQ3A_yWcpCd-5Xodc/file')"
   ]
  },
  {
   "cell_type": "code",
   "execution_count": 21,
   "metadata": {},
   "outputs": [],
   "source": [
    "real_estate = sc.textFile(SparkFiles.get('file'))"
   ]
  },
  {
   "cell_type": "code",
   "execution_count": 22,
   "metadata": {},
   "outputs": [
    {
     "data": {
      "text/plain": [
       "['MLS,Location,Price,Bedrooms,Bathrooms,Size,Price SQ Ft,Status',\n",
       " '132842,Arroyo Grande,795000.00,3,3,2371,335.30,Short Sale',\n",
       " '134364,Paso Robles,399000.00,4,3,2818,141.59,Short Sale',\n",
       " '135141,Paso Robles,545000.00,4,3,3032,179.75,Short Sale',\n",
       " '135712,Morro Bay,909000.00,4,4,3540,256.78,Short Sale']"
      ]
     },
     "execution_count": 22,
     "metadata": {},
     "output_type": "execute_result"
    }
   ],
   "source": [
    "real_estate.collect()[:5]"
   ]
  },
  {
   "cell_type": "code",
   "execution_count": 23,
   "metadata": {},
   "outputs": [],
   "source": [
    "real_estate = real_estate.map(lambda x: x.split(','))"
   ]
  },
  {
   "cell_type": "code",
   "execution_count": 24,
   "metadata": {},
   "outputs": [
    {
     "name": "stdout",
     "output_type": "stream",
     "text": [
      "[['MLS', 'Location', 'Price', 'Bedrooms', 'Bathrooms', 'Size', 'Price SQ Ft', 'Status'], ['132842', 'Arroyo Grande', '795000.00', '3', '3', '2371', '335.30', 'Short Sale']]\n"
     ]
    }
   ],
   "source": [
    "print(real_estate.collect()[:2])"
   ]
  },
  {
   "cell_type": "code",
   "execution_count": 25,
   "metadata": {},
   "outputs": [],
   "source": [
    "real_estate = real_estate.map(lambda x: (x.pop(), x))"
   ]
  },
  {
   "cell_type": "code",
   "execution_count": 26,
   "metadata": {},
   "outputs": [
    {
     "name": "stdout",
     "output_type": "stream",
     "text": [
      "[('Status', ['MLS', 'Location', 'Price', 'Bedrooms', 'Bathrooms', 'Size', 'Price SQ Ft']), ('Short Sale', ['132842', 'Arroyo Grande', '795000.00', '3', '3', '2371', '335.30']), ('Short Sale', ['134364', 'Paso Robles', '399000.00', '4', '3', '2818', '141.59'])]\n"
     ]
    }
   ],
   "source": [
    "print(real_estate.collect()[:3])"
   ]
  },
  {
   "cell_type": "code",
   "execution_count": 27,
   "metadata": {},
   "outputs": [],
   "source": [
    "real_estate = real_estate.groupByKey()"
   ]
  },
  {
   "cell_type": "code",
   "execution_count": 28,
   "metadata": {},
   "outputs": [
    {
     "data": {
      "text/plain": [
       "[('Short Sale', <pyspark.resultiterable.ResultIterable at 0x22f35e196d8>),\n",
       " ('Status', <pyspark.resultiterable.ResultIterable at 0x22f35e9feb8>),\n",
       " ('Foreclosure', <pyspark.resultiterable.ResultIterable at 0x22f35e9fef0>),\n",
       " ('Regular', <pyspark.resultiterable.ResultIterable at 0x22f35eb74a8>)]"
      ]
     },
     "execution_count": 28,
     "metadata": {},
     "output_type": "execute_result"
    }
   ],
   "source": [
    "real_estate.collect()"
   ]
  },
  {
   "cell_type": "code",
   "execution_count": 29,
   "metadata": {},
   "outputs": [],
   "source": [
    "foreclosures = real_estate.filter(lambda item: item[0]=='Foreclosure').map(lambda item: item[1])"
   ]
  },
  {
   "cell_type": "code",
   "execution_count": 30,
   "metadata": {},
   "outputs": [
    {
     "data": {
      "text/plain": [
       "PythonRDD[17] at RDD at PythonRDD.scala:49"
      ]
     },
     "execution_count": 30,
     "metadata": {},
     "output_type": "execute_result"
    }
   ],
   "source": [
    "foreclosures"
   ]
  },
  {
   "cell_type": "code",
   "execution_count": 31,
   "metadata": {},
   "outputs": [
    {
     "data": {
      "text/plain": [
       "[<pyspark.resultiterable.ResultIterable at 0x22f35e4c3c8>]"
      ]
     },
     "execution_count": 31,
     "metadata": {},
     "output_type": "execute_result"
    }
   ],
   "source": [
    "foreclosures.collect()"
   ]
  },
  {
   "cell_type": "code",
   "execution_count": 32,
   "metadata": {},
   "outputs": [
    {
     "data": {
      "text/plain": [
       "[['143436', 'Templeton', '1399000.00', '4', '3', '6500', '215.23'],\n",
       " ['143534', 'Morro Bay', '789000.00', '3', '3', '2100', '375.71'],\n",
       " ['144314', 'Morro Bay', '899000.00', '3', '3', '2430', '369.96'],\n",
       " ['144316', 'Morro Bay', '1045000.00', '3', '3', '2100', '497.62'],\n",
       " ['144318', 'Morro Bay', '774000.00', '2', '2', '1550', '499.35']]"
      ]
     },
     "execution_count": 32,
     "metadata": {},
     "output_type": "execute_result"
    }
   ],
   "source": [
    "list(foreclosures.collect()[0])[:5]"
   ]
  },
  {
   "cell_type": "markdown",
   "metadata": {
    "colab_type": "text",
    "id": "Tkcj7Fa-9efS"
   },
   "source": [
    "**Question 4**: In tie question, we will step through select operations in SparkSQL. The dataset that we will use is the same one as Question 3. \n",
    "\n",
    "**a)** Read in the file and output the schema of the file\n",
    "\n",
    "**b)** Print only the following columns from the table: \"location\", \"price\", \n",
    "   \"bedrooms\", \"bathrooms\", \"status\"\n",
    "   \n",
    "**c) ** Print records where the location is Morro Bay\n",
    "\n",
    "**d) ** Print the count of locations \n",
    "\n",
    "**e) ** Print records with price less than 500000 \n",
    "\n",
    "**f) ** Print the records by price in descending order\n",
    "\n",
    "**g)** Group the records by location and aggregate by average price\n",
    "\n",
    "**h)** Group by location, aggregate the average price and sort by average price\n",
    "\n",
    "\n",
    "**Reference (Spark SQL)**: https://spark.apache.org/docs/1.2.1/sql-programming-guide.html"
   ]
  },
  {
   "cell_type": "code",
   "execution_count": 33,
   "metadata": {},
   "outputs": [],
   "source": [
    "from pyspark.sql import SQLContext, Row"
   ]
  },
  {
   "cell_type": "code",
   "execution_count": 34,
   "metadata": {},
   "outputs": [],
   "source": [
    "sqlContext = SQLContext(sc)"
   ]
  },
  {
   "cell_type": "markdown",
   "metadata": {},
   "source": [
    "**a)** Read in the file and output the schema of the file"
   ]
  },
  {
   "cell_type": "code",
   "execution_count": 35,
   "metadata": {},
   "outputs": [],
   "source": [
    "df = sqlContext.read.format(\"csv\").option(\"header\", \"true\")\\\n",
    "                                  .option(\"inferSchema\", \"true\")\\\n",
    "                                  .load(SparkFiles.get('file'))"
   ]
  },
  {
   "cell_type": "code",
   "execution_count": 36,
   "metadata": {},
   "outputs": [
    {
     "name": "stdout",
     "output_type": "stream",
     "text": [
      "root\n",
      " |-- MLS: integer (nullable = true)\n",
      " |-- Location: string (nullable = true)\n",
      " |-- Price: double (nullable = true)\n",
      " |-- Bedrooms: integer (nullable = true)\n",
      " |-- Bathrooms: integer (nullable = true)\n",
      " |-- Size: integer (nullable = true)\n",
      " |-- Price SQ Ft: double (nullable = true)\n",
      " |-- Status: string (nullable = true)\n",
      "\n"
     ]
    }
   ],
   "source": [
    "df.printSchema()"
   ]
  },
  {
   "cell_type": "markdown",
   "metadata": {},
   "source": [
    "**b)** Print only the following columns from the table: \"location\", \"price\", \"bedrooms\", \"bathrooms\", \"status\""
   ]
  },
  {
   "cell_type": "code",
   "execution_count": 37,
   "metadata": {},
   "outputs": [
    {
     "name": "stdout",
     "output_type": "stream",
     "text": [
      "+------------------+--------+--------+---------+----------+\n",
      "|          location|   price|bedrooms|bathrooms|    status|\n",
      "+------------------+--------+--------+---------+----------+\n",
      "|     Arroyo Grande|795000.0|       3|        3|Short Sale|\n",
      "|       Paso Robles|399000.0|       4|        3|Short Sale|\n",
      "|       Paso Robles|545000.0|       4|        3|Short Sale|\n",
      "|         Morro Bay|909000.0|       4|        4|Short Sale|\n",
      "|Santa Maria-Orcutt|109900.0|       3|        1|Short Sale|\n",
      "|            Oceano|324900.0|       3|        3|Short Sale|\n",
      "|Santa Maria-Orcutt|192900.0|       4|        2|Short Sale|\n",
      "|Santa Maria-Orcutt|215000.0|       3|        2|Short Sale|\n",
      "|         Morro Bay|999000.0|       4|        3|Short Sale|\n",
      "|        Atascadero|319000.0|       3|        2|Short Sale|\n",
      "|Santa Maria-Orcutt|350000.0|       3|        2|Short Sale|\n",
      "|Santa Maria-Orcutt|249000.0|       3|        2|Short Sale|\n",
      "|     Arroyo Grande|299000.0|       2|        2|Short Sale|\n",
      "|Santa Maria-Orcutt|235900.0|       3|        2|Short Sale|\n",
      "|Santa Maria-Orcutt|348000.0|       3|        2|Short Sale|\n",
      "|       Paso Robles|314000.0|       4|        3|Short Sale|\n",
      "|        Los Alamos|399000.0|       4|        2|Short Sale|\n",
      "|        San Miguel|599000.0|       3|        3|Short Sale|\n",
      "|       Paso Robles|299000.0|       3|        2|Short Sale|\n",
      "|   San Luis Obispo|425000.0|       3|        3|Short Sale|\n",
      "+------------------+--------+--------+---------+----------+\n",
      "only showing top 20 rows\n",
      "\n"
     ]
    }
   ],
   "source": [
    "df[[\"location\", \"price\", \"bedrooms\", \"bathrooms\", \"status\"]].show()"
   ]
  },
  {
   "cell_type": "markdown",
   "metadata": {},
   "source": [
    "**c)** Print records where the location is Morro Bay"
   ]
  },
  {
   "cell_type": "code",
   "execution_count": 38,
   "metadata": {},
   "outputs": [
    {
     "name": "stdout",
     "output_type": "stream",
     "text": [
      "+------+---------+---------+--------+---------+----+-----------+-----------+\n",
      "|   MLS| Location|    Price|Bedrooms|Bathrooms|Size|Price SQ Ft|     Status|\n",
      "+------+---------+---------+--------+---------+----+-----------+-----------+\n",
      "|135712|Morro Bay| 909000.0|       4|        4|3540|     256.78| Short Sale|\n",
      "|137159|Morro Bay| 999000.0|       4|        3|3360|     297.32| Short Sale|\n",
      "|140077|Morro Bay|1100000.0|       4|        3|4168|     263.92| Short Sale|\n",
      "|142528|Morro Bay| 415000.0|       3|        3|1350|     307.41| Short Sale|\n",
      "|143534|Morro Bay| 789000.0|       3|        3|2100|     375.71|Foreclosure|\n",
      "|144314|Morro Bay| 899000.0|       3|        3|2430|     369.96|Foreclosure|\n",
      "|144316|Morro Bay|1045000.0|       3|        3|2100|     497.62|Foreclosure|\n",
      "|144318|Morro Bay| 774000.0|       2|        2|1550|     499.35|Foreclosure|\n",
      "|149230|Morro Bay| 359000.0|       3|        2|1008|     356.15| Short Sale|\n",
      "|150262|Morro Bay| 395000.0|       4|        2|1736|     227.53| Short Sale|\n",
      "|150987|Morro Bay| 311900.0|       0|        1| 910|     342.75|Foreclosure|\n",
      "|151470|Morro Bay| 529000.0|       3|        3|1510|     350.33| Short Sale|\n",
      "|153769|Morro Bay| 435000.0|       3|        2|1236|     351.94| Short Sale|\n",
      "+------+---------+---------+--------+---------+----+-----------+-----------+\n",
      "\n"
     ]
    }
   ],
   "source": [
    "df.filter(df['location']=='Morro Bay').show()"
   ]
  },
  {
   "cell_type": "markdown",
   "metadata": {},
   "source": [
    "**d) ** Print the count of locations "
   ]
  },
  {
   "cell_type": "code",
   "execution_count": 39,
   "metadata": {},
   "outputs": [
    {
     "name": "stdout",
     "output_type": "stream",
     "text": [
      "+-------------------+-----+\n",
      "|           location|count|\n",
      "+-------------------+-----+\n",
      "|        Pismo Beach|   12|\n",
      "|          King City|    3|\n",
      "|         New Cuyama|    1|\n",
      "|             Nipomo|    3|\n",
      "|             Oceano|   10|\n",
      "|             Nipomo|   34|\n",
      "|          Templeton|   11|\n",
      "|      Arroyo Grande|   12|\n",
      "|        Bakersfield|    1|\n",
      "|          Guadalupe|    4|\n",
      "|            Creston|    1|\n",
      "|       Grover Beach|   20|\n",
      "|         Atascadero|   10|\n",
      "|          Morro Bay|    4|\n",
      "| Santa Maria-Orcutt|   13|\n",
      "|        Avila Beach|    3|\n",
      "|             Lompoc|    1|\n",
      "|        Paso Robles|   85|\n",
      "|            Creston|    1|\n",
      "|            Cayucos|    2|\n",
      "+-------------------+-----+\n",
      "only showing top 20 rows\n",
      "\n"
     ]
    }
   ],
   "source": [
    "df.groupBy('location').count().show()"
   ]
  },
  {
   "cell_type": "markdown",
   "metadata": {},
   "source": [
    "**e) ** Print records with price less than 500000 "
   ]
  },
  {
   "cell_type": "code",
   "execution_count": 40,
   "metadata": {},
   "outputs": [
    {
     "name": "stdout",
     "output_type": "stream",
     "text": [
      "+------+------------------+--------+--------+---------+----+-----------+----------+\n",
      "|   MLS|          Location|   Price|Bedrooms|Bathrooms|Size|Price SQ Ft|    Status|\n",
      "+------+------------------+--------+--------+---------+----+-----------+----------+\n",
      "|134364|       Paso Robles|399000.0|       4|        3|2818|     141.59|Short Sale|\n",
      "|136282|Santa Maria-Orcutt|109900.0|       3|        1|1249|      87.99|Short Sale|\n",
      "|136431|            Oceano|324900.0|       3|        3|1800|      180.5|Short Sale|\n",
      "|137036|Santa Maria-Orcutt|192900.0|       4|        2|1603|     120.34|Short Sale|\n",
      "|137090|Santa Maria-Orcutt|215000.0|       3|        2|1450|     148.28|Short Sale|\n",
      "|137570|        Atascadero|319000.0|       3|        2|1323|     241.12|Short Sale|\n",
      "|138053|Santa Maria-Orcutt|350000.0|       3|        2|1750|      200.0|Short Sale|\n",
      "|138730|Santa Maria-Orcutt|249000.0|       3|        2|1400|     177.86|Short Sale|\n",
      "|139291|     Arroyo Grande|299000.0|       2|        2|1257|     237.87|Short Sale|\n",
      "|139427|Santa Maria-Orcutt|235900.0|       3|        2|1400|      168.5|Short Sale|\n",
      "|139461|Santa Maria-Orcutt|348000.0|       3|        2|1600|      217.5|Short Sale|\n",
      "|139661|       Paso Robles|314000.0|       4|        3|1794|     175.03|Short Sale|\n",
      "|139918|        Los Alamos|399000.0|       4|        2|1850|     215.68|Short Sale|\n",
      "|140044|       Paso Robles|299000.0|       3|        2|1719|     173.94|Short Sale|\n",
      "|140073|   San Luis Obispo|425000.0|       3|        3|1472|     288.72|Short Sale|\n",
      "|140113|Santa Maria-Orcutt|110000.0|       2|        1|1000|      110.0|Short Sale|\n",
      "|140395|Santa Maria-Orcutt|200000.0|       3|        2|1139|     175.59|Short Sale|\n",
      "|140460|Santa Maria-Orcutt|134900.0|       3|        1|1080|     124.91|Short Sale|\n",
      "|140703|Santa Maria-Orcutt|250000.0|       4|        3|2000|      125.0|Short Sale|\n",
      "|140731|Santa Maria-Orcutt|239950.0|       4|        2|1348|      178.0|Short Sale|\n",
      "+------+------------------+--------+--------+---------+----+-----------+----------+\n",
      "only showing top 20 rows\n",
      "\n"
     ]
    }
   ],
   "source": [
    "df.filter(df['Price']<500000).show()"
   ]
  },
  {
   "cell_type": "markdown",
   "metadata": {},
   "source": [
    "**f) ** Print the records by price in descending order"
   ]
  },
  {
   "cell_type": "code",
   "execution_count": 41,
   "metadata": {
    "scrolled": true
   },
   "outputs": [
    {
     "name": "stdout",
     "output_type": "stream",
     "text": [
      "+------+----------------+---------+--------+---------+----+-----------+-----------+\n",
      "|   MLS|        Location|    Price|Bedrooms|Bathrooms|Size|Price SQ Ft|     Status|\n",
      "+------+----------------+---------+--------+---------+----+-----------+-----------+\n",
      "|154526|   Arroyo Grande|5499000.0|       4|        5|5060|    1086.76|    Regular|\n",
      "|154491|         Cambria|2995000.0|       5|        4|3684|     812.98|    Regular|\n",
      "|154463| San Luis Obispo|2369000.0|       5|        6|4174|     567.56|    Regular|\n",
      "|154434|         Cambria|2000000.0|       4|        4|3576|     559.28|    Regular|\n",
      "|152768|     Avila Beach|1999000.0|       4|        5|5307|     376.67| Short Sale|\n",
      "|150439|   Arroyo Grande|1900000.0|       4|        5|5411|     351.14| Short Sale|\n",
      "|151419|     Pismo Beach|1799000.0|       4|        4|3609|     498.48|Foreclosure|\n",
      "|150949|          Nipomo|1700000.0|       3|        5|4463|     380.91| Short Sale|\n",
      "|154533|         Bradley|1600000.0|       3|        3|2640|     606.06|    Regular|\n",
      "|140080|         Cayucos|1500000.0|       3|        3|3880|      386.6| Short Sale|\n",
      "|150143|   Arroyo Grande|1499000.0|       5|        7|6800|     220.44| Short Sale|\n",
      "|154466| San Luis Obispo|1490000.0|       3|        3|3201|     465.48|    Regular|\n",
      "|153516|          Nipomo|1399900.0|       4|        4|5190|     269.73| Short Sale|\n",
      "|143436|       Templeton|1399000.0|       4|        3|6500|     215.23|Foreclosure|\n",
      "|154516|      Santa Ynez|1395000.0|       4|        4|2693|     518.01| Short Sale|\n",
      "|154354|        Los Osos|1350000.0|       3|        3|2502|     539.57|    Regular|\n",
      "|154428|         Cambria|1290000.0|       3|        3|2130|     605.63|    Regular|\n",
      "|149860|          Oceano|1250000.0|       3|        3|2586|     483.37| Short Sale|\n",
      "|152999|        Los Osos|1249000.0|       6|        7|5103|     244.76|Foreclosure|\n",
      "|154410|   Arroyo Grande|1249000.0|       3|        3|2480|     503.63|    Regular|\n",
      "+------+----------------+---------+--------+---------+----+-----------+-----------+\n",
      "only showing top 20 rows\n",
      "\n"
     ]
    }
   ],
   "source": [
    "df.sort('Price', ascending=False).show()"
   ]
  },
  {
   "cell_type": "markdown",
   "metadata": {},
   "source": [
    "**g)** Group the records by location and aggregate by average price"
   ]
  },
  {
   "cell_type": "code",
   "execution_count": 42,
   "metadata": {},
   "outputs": [
    {
     "name": "stdout",
     "output_type": "stream",
     "text": [
      "+-------------------+------------------+\n",
      "|           Location|        avg(Price)|\n",
      "+-------------------+------------------+\n",
      "|        Pismo Beach| 772374.5833333334|\n",
      "|          King City|          131190.0|\n",
      "|         New Cuyama|           40900.0|\n",
      "|             Nipomo| 454166.6666666667|\n",
      "|             Oceano|          392640.0|\n",
      "|             Nipomo| 430629.4117647059|\n",
      "|          Templeton| 705890.9090909091|\n",
      "|      Arroyo Grande|1013958.3333333334|\n",
      "|        Bakersfield|           91500.0|\n",
      "|          Guadalupe|          117250.0|\n",
      "|            Creston|          309900.0|\n",
      "|       Grover Beach|          365615.0|\n",
      "|         Atascadero|          477950.0|\n",
      "|          Morro Bay|          659700.0|\n",
      "| Santa Maria-Orcutt|332546.07692307694|\n",
      "|        Avila Beach|1205666.6666666667|\n",
      "|             Lompoc|          149900.0|\n",
      "|        Paso Robles|334280.22352941177|\n",
      "|            Creston|          549000.0|\n",
      "|            Cayucos|          610000.0|\n",
      "+-------------------+------------------+\n",
      "only showing top 20 rows\n",
      "\n"
     ]
    }
   ],
   "source": [
    "avg_price_by_loc = df.groupBy('Location').mean('Price')\n",
    "avg_price_by_loc.show()"
   ]
  },
  {
   "cell_type": "markdown",
   "metadata": {},
   "source": [
    "**h)** Group by location, aggregate the average price and sort by average price"
   ]
  },
  {
   "cell_type": "code",
   "execution_count": 43,
   "metadata": {},
   "outputs": [
    {
     "name": "stdout",
     "output_type": "stream",
     "text": [
      "+----------------+------------------+\n",
      "|        Location|        avg(Price)|\n",
      "+----------------+------------------+\n",
      "|         Bradley|         1600000.0|\n",
      "|         Cayucos|         1500000.0|\n",
      "| San Luis Obispo|1444666.6666666667|\n",
      "|     Avila Beach|1205666.6666666667|\n",
      "|          Oceano|         1195000.0|\n",
      "|     Out Of Area|         1195000.0|\n",
      "|         Cambria|1076333.3333333333|\n",
      "|   Arroyo Grande|1013958.3333333334|\n",
      "|      Santa Ynez|          881800.0|\n",
      "|     Pismo Beach| 772374.5833333334|\n",
      "|       Templeton| 705890.9090909091|\n",
      "|       Morro Bay| 689223.0769230769|\n",
      "|    Grover Beach|          684000.0|\n",
      "|       Morro Bay|          659700.0|\n",
      "|     Pismo Beach|          636037.5|\n",
      "|         Cayucos|          610000.0|\n",
      "|      San Miguel|          595000.0|\n",
      "|         Creston|          549000.0|\n",
      "|   Arroyo Grande| 537023.2142857143|\n",
      "|        Los Osos|          531000.0|\n",
      "+----------------+------------------+\n",
      "only showing top 20 rows\n",
      "\n"
     ]
    }
   ],
   "source": [
    "avg_price_by_loc.sort('avg(Price)', ascending=False).show()"
   ]
  }
 ],
 "metadata": {
  "colab": {
   "default_view": {},
   "name": "Spark Coding Challenge #1.ipynb",
   "provenance": [
    {
     "file_id": "1mWSr9tgrne8zw56P0xWsk3oUgMY5MeiJ",
     "timestamp": 1529334962720
    },
    {
     "file_id": "1oJCI_YSdpHmHwcpGYmnB5c-LBXh50MHM",
     "timestamp": 1529334094320
    },
    {
     "file_id": "15VZIkdnCuuYPwgQYuf958E09sP4lTISb",
     "timestamp": 1528642554887
    },
    {
     "file_id": "1ze4oqASRYRH4sM47GcSEvsIy9HlVxi6p",
     "timestamp": 1528579590698
    },
    {
     "file_id": "1-EV69_DVCzbpMWLiPYHSroeL91624q7j",
     "timestamp": 1528555981083
    },
    {
     "file_id": "1O-exHskPOjgEs1Hrm7utpkHJ-bLmWxbS",
     "timestamp": 1528507363505
    }
   ],
   "version": "0.3.2",
   "views": {}
  },
  "kernelspec": {
   "display_name": "Python 3",
   "language": "python",
   "name": "python3"
  },
  "language_info": {
   "codemirror_mode": {
    "name": "ipython",
    "version": 3
   },
   "file_extension": ".py",
   "mimetype": "text/x-python",
   "name": "python",
   "nbconvert_exporter": "python",
   "pygments_lexer": "ipython3",
   "version": "3.6.5"
  }
 },
 "nbformat": 4,
 "nbformat_minor": 1
}
