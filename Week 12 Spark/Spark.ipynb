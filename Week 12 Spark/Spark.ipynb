{
 "cells": [
  {
   "cell_type": "markdown",
   "metadata": {
    "colab_type": "text",
    "id": "b-y9l5SxPLKQ"
   },
   "source": [
    "### Spark Project Assignment:"
   ]
  },
  {
   "cell_type": "markdown",
   "metadata": {
    "colab_type": "text",
    "id": "oXX0kIcBNJdq"
   },
   "source": [
    "In this project assignment, you will utilize the Spark Mllib package to search for words within a body of text. Similar to the capabilities afforded by a search engine, you will surface all documents that contains the **word** that you want to look up.\n"
   ]
  },
  {
   "cell_type": "markdown",
   "metadata": {
    "colab_type": "text",
    "id": "WkXkd3TTTk_H"
   },
   "source": [
    "**Question 1:**\n",
    "\n",
    "As you go through this assignment, you will get a chance to apply some of the techniques that you were exposed to in the last session on NLP. However note that, you need to apply Spark programming constructs to come up with a solution for this assignment.\n",
    "\n",
    "**a)** Compute the TF-IDF for every word in the entire body of documents that we have\n",
    "\n",
    "**b)** Construct a Document Term Matrix that contains the TF-IDF for each each word across the entire set of documents\n",
    "\n",
    "**c) ** Look up the column index for the *word* you are searching from within the *Document Term Matrix* that you constructed; then extract all documents that contain the word (based on the TF-IDF score) into a  RDD based on the index\n",
    "\n",
    "**d)** Output the document(s) that contain the word you were searching on; and also output the name of document with the maximum **tf-idf** score\n",
    "\n",
    "**Dataset**: https://www.dropbox.com/s/m6u5v1mt18crxtv/small_body_of_text_on_history.tsv?raw=1 - Download the file and save it to a local folder and then utilize the textfile method of the SparkContext package to read in the file\n",
    "\n"
   ]
  },
  {
   "cell_type": "code",
   "execution_count": 1,
   "metadata": {},
   "outputs": [],
   "source": [
    "from pyspark import SparkContext, SparkConf, SparkFiles\n",
    "from pyspark.mllib.feature import HashingTF, IDF\n",
    "\n",
    "import numpy as np\n",
    "import string"
   ]
  },
  {
   "cell_type": "code",
   "execution_count": 2,
   "metadata": {},
   "outputs": [],
   "source": [
    "conf = SparkConf().setAppName(\"Lambda\").setMaster(\"local[2]\")\n",
    "sc = SparkContext(conf=conf)"
   ]
  },
  {
   "cell_type": "code",
   "execution_count": 3,
   "metadata": {},
   "outputs": [],
   "source": [
    "sc.addFile('https://ucd30554c87233f77ae39e2a5d78.dl.dropboxusercontent.com/cd/0/inline/AJVC7evwNMoBnuAMIzu4A90IDgdVEbXBum96fEatTFYcxGbyTOjjg-iKeM9ofCCmZW-iESA09JKs4YL4Tmki3NNy7hnA__hnw2D1tYyyJfFcQAMGqaHyL90WbBC4piHt5w16a-zznfs1jv66OS7sJgA9DkDIA17Fx3IA5HKvPWckb1nTzwhkvoLi_E0-K-S_W2s/file')"
   ]
  },
  {
   "cell_type": "code",
   "execution_count": 4,
   "metadata": {},
   "outputs": [],
   "source": [
    "data = sc.textFile(SparkFiles.get('file'))"
   ]
  },
  {
   "cell_type": "code",
   "execution_count": 5,
   "metadata": {},
   "outputs": [
    {
     "name": "stdout",
     "output_type": "stream",
     "text": [
      "There are 1000 documents\n"
     ]
    }
   ],
   "source": [
    "print(\"There are {} documents\".format(data.count()))"
   ]
  },
  {
   "cell_type": "markdown",
   "metadata": {},
   "source": [
    "### Data Preprocessing"
   ]
  },
  {
   "cell_type": "code",
   "execution_count": 6,
   "metadata": {},
   "outputs": [],
   "source": [
    "def remove_punct(text):\n",
    "    text = text.replace('\\n', ' ')\n",
    "    for char in string.punctuation:\n",
    "        text = text.replace(char, '')\n",
    "\n",
    "    return text.lower()"
   ]
  },
  {
   "cell_type": "code",
   "execution_count": 7,
   "metadata": {},
   "outputs": [],
   "source": [
    "documents = data.map(lambda line: remove_punct(line).split())"
   ]
  },
  {
   "cell_type": "code",
   "execution_count": 8,
   "metadata": {},
   "outputs": [],
   "source": [
    "names = documents.map(lambda line: ': '.join(line[:2]))\n",
    "documents = documents.map(lambda line: line[4:])"
   ]
  },
  {
   "cell_type": "code",
   "execution_count": 9,
   "metadata": {},
   "outputs": [
    {
     "name": "stdout",
     "output_type": "stream",
     "text": [
      "['anarchism', 'sometimes', 'referred', 'to', 'as', 'libertarianism', 'though', 'that', 'term', 'sometimes', 'has', 'other', 'meanings', 'as', 'well', 'is', 'a', 'political', 'philosophy', 'encompassing', 'theories', 'and', 'attitudes', 'which', 'support', 'the', 'elimination', 'of', 'all', 'forms', 'of', 'compulsory', 'government', 'the', 'term', 'anarchism', 'derives', 'from', 'the', 'greek', 'ἀναρχος', 'anarchos', 'meaning', 'without', 'rulers', 'from', 'the', 'prefix', 'ἀν', 'an', 'without', 'ἄρχή', 'archê', 'sovereignty', 'realm', 'magistracy', 'ισμός', 'ismos', 'from', 'a', 'stem', 'ιζειν', 'izein', 'it', 'is', 'defined', 'by', 'the', 'concise', 'oxford', 'dictionary', 'of', 'politics', 'as', 'the', 'view', 'that', 'society', 'can', 'and', 'should', 'be', 'organized', 'without', 'a', 'coercive', 'state', 'specific', 'anarchists', 'may', 'have', 'additional', 'criteria', 'for', 'what', 'constitutes', 'anarchism', 'and', 'they', 'often']\n"
     ]
    }
   ],
   "source": [
    "print(documents.collect()[0][:100])"
   ]
  },
  {
   "cell_type": "code",
   "execution_count": 10,
   "metadata": {
    "scrolled": true
   },
   "outputs": [
    {
     "name": "stdout",
     "output_type": "stream",
     "text": [
      "['autism', 'is', 'a', 'brain', 'development', 'disorder', 'that', 'is', 'characterized', 'by', 'impaired', 'social', 'interaction', 'and', 'communication', 'and', 'restricted', 'and', 'repetitive', 'behavior', 'all', 'starting', 'before', 'a', 'child', 'is', 'three', 'years', 'old', 'this', 'set', 'of', 'signs', 'distinguishes', 'autism', 'from', 'milder', 'autism', 'spectrum', 'disorder', 'asd', 'such', 'as', 'pervasive', 'developmental', 'disorder', 'not', 'otherwise', 'specified', 'pddnosnnautism', 'has', 'a', 'strong', 'genetic', 'basis', 'although', 'the', 'genetics', 'of', 'autism', 'are', 'complex', 'and', 'it', 'is', 'unclear', 'whether', 'asd', 'is', 'explained', 'more', 'by', 'multigene', 'interactions', 'or', 'by', 'rare', 'mutation', 'in', 'rare', 'cases', 'autism', 'is', 'strongly', 'associated', 'with', 'agents', 'that', 'cause', 'birth', 'defects', 'other', 'proposed', 'causes', 'such', 'as', 'childhood', 'vaccine', 'are', 'controversial']\n"
     ]
    }
   ],
   "source": [
    "print(documents.collect()[1][:100])"
   ]
  },
  {
   "cell_type": "markdown",
   "metadata": {},
   "source": [
    "### Vectorizing"
   ]
  },
  {
   "cell_type": "code",
   "execution_count": 11,
   "metadata": {},
   "outputs": [],
   "source": [
    "hashingTF = HashingTF()\n",
    "tf = hashingTF.transform(documents)"
   ]
  },
  {
   "cell_type": "code",
   "execution_count": 12,
   "metadata": {},
   "outputs": [],
   "source": [
    "idf = IDF()\n",
    "idfModel = idf.fit(tf)\n",
    "tfidf = idfModel.transform(tf)"
   ]
  },
  {
   "cell_type": "code",
   "execution_count": 13,
   "metadata": {},
   "outputs": [],
   "source": [
    "dataset = names.zip(tfidf)"
   ]
  },
  {
   "cell_type": "code",
   "execution_count": 14,
   "metadata": {},
   "outputs": [],
   "source": [
    "term_frequencies = names.zip(tf)"
   ]
  },
  {
   "cell_type": "code",
   "execution_count": 15,
   "metadata": {},
   "outputs": [],
   "source": [
    "documents = names.zip(documents)"
   ]
  },
  {
   "cell_type": "markdown",
   "metadata": {},
   "source": [
    "### Word Lookup"
   ]
  },
  {
   "cell_type": "code",
   "execution_count": 16,
   "metadata": {},
   "outputs": [],
   "source": [
    "query = 'astronomy'\n",
    "\n",
    "# takes a while due to .collect(), produces an integer\n",
    "index = int(hashingTF.transform(sc.parallelize([[query]])).collect()[0].indices[0])"
   ]
  },
  {
   "cell_type": "code",
   "execution_count": 17,
   "metadata": {},
   "outputs": [],
   "source": [
    "filtered = dataset.filter(lambda doc: index in doc[1].indices)"
   ]
  },
  {
   "cell_type": "markdown",
   "metadata": {},
   "source": [
    "### Matching Document Names and Maximum TF-IDF"
   ]
  },
  {
   "cell_type": "code",
   "execution_count": 18,
   "metadata": {},
   "outputs": [
    {
     "name": "stdout",
     "output_type": "stream",
     "text": [
      "['39: albedo', '308: aristotle', '580: astronomer', '737: afghanistan', '748: amateur', '1049: amateur', '1130: avicenna', '1168: anaximander', '1181: astrometry', '1196: angle']\n"
     ]
    }
   ],
   "source": [
    "names = filtered.map(lambda x: x[0])\n",
    "print(names.collect()[:10])"
   ]
  },
  {
   "cell_type": "code",
   "execution_count": 19,
   "metadata": {},
   "outputs": [],
   "source": [
    "scores = filtered.map(lambda x: x[1][index])"
   ]
  },
  {
   "cell_type": "code",
   "execution_count": 20,
   "metadata": {},
   "outputs": [],
   "source": [
    "# can't see how to do this without collect() or an spark sql context, since order matters\n",
    "top_document_name = names.collect()[np.argmax(scores.collect())]"
   ]
  },
  {
   "cell_type": "code",
   "execution_count": 21,
   "metadata": {},
   "outputs": [
    {
     "name": "stdout",
     "output_type": "stream",
     "text": [
      "[('748: amateur', ['030754', 'thumbnnamateur', 'astronomy', 'a', 'subset', 'of', 'astronomy', 'is', 'a', 'hobby', 'whose', 'participants', 'enjoy', 'studying', 'and', 'observing', 'celestial', 'objectsnnthe', 'typical', 'amateur', 'astronomer', 'is', 'one', 'who', 'does', 'not', 'depend', 'on', 'the', 'field', 'of', 'astronomy', 'as', 'a', 'primary', 'source', 'of', 'income', 'or', 'support', 'and', 'does', 'not', 'have', 'a', 'professional', 'degree', 'or', 'advanced', 'academic', 'training', 'many', 'amateurs', 'are', 'beginners', 'while', 'others', 'have', 'a', 'high', 'degree', 'in', 'astronomy', 'and', 'often', 'assist', 'and', 'work', 'alongside', 'professional', 'astronomersnnamateur', 'astronomy', 'is', 'usually', 'associated', 'with', 'viewing', 'the', 'night', 'sky', 'when', 'most', 'celestial', 'objects', 'and', 'events', 'are', 'visible', 'but', 'sometimes', 'amateur', 'astronomers', 'also', 'operate', 'during', 'the', 'day', 'for', 'events', 'such', 'as', 'sunspot', 'and', 'solar', 'eclipse', 'amateur', 'astronomers', 'often', 'look', 'at', 'the', 'sky', 'using', 'nothing', 'more', 'than', 'their', 'eyes', 'but', 'common', 'tools', 'for', 'amateur', 'astronomy', 'include', 'portable', 'telescopes', 'and', 'binocularsnnpeople', 'have', 'studied', 'the', 'sky', 'throughout', 'history', 'in', 'an', 'amateur', 'framework', 'without', 'any', 'formal', 'method', 'of', 'funding', 'it', 'is', 'only', 'within', 'about', 'the', 'past', 'century', 'however', 'that', 'amateur', 'astronomy', 'has', 'become', 'an', 'activity', 'clearly', 'distinguished', 'from', 'professional', 'astronomy', 'and', 'other', 'related', 'activitiesnncollectively', 'amateur', 'astronomers', 'observe', 'a', 'variety', 'of', 'celestial', 'objects', 'and', 'phenomena', 'common', 'targets', 'of', 'amateur', 'astronomers', 'include', 'the', 'moon', 'planet', 'star', 'comet', 'meteor', 'shower', 'and', 'a', 'variety', 'of', 'deep', 'sky', 'object', 'such', 'as', 'star', 'cluster', 'galaxies', 'and', 'nebula', 'many', 'amateurs', 'like', 'to', 'specialise', 'in', 'observing', 'particular', 'objects', 'types', 'of', 'objects', 'or', 'types', 'of', 'events', 'which', 'interest', 'them', 'one', 'branch', 'of', 'amateur', 'astronomy', 'amateur', 'astrophotography', 'involves', 'the', 'taking', 'of', 'photos', 'of', 'the', 'night', 'sky', 'astrophotography', 'has', 'become', 'more', 'popular', 'for', 'amateurs', 'in', 'recent', 'times', 'as', 'relatively', 'sophisticated', 'equipment', 'such', 'as', 'high', 'quality', 'ccd', 'camera', 'has', 'become', 'more', 'affordablennmost', 'amateurs', 'work', 'at', 'visible', 'wavelength', 'but', 'a', 'small', 'minority', 'experiment', 'with', 'wavelengths', 'outside', 'the', 'visible', 'spectrum', 'the', 'pioneer', 'of', 'amateur', 'radio', 'astronomy', 'was', 'karl', 'jansky', 'who', 'started', 'observing', 'the', 'sky', 'at', 'radio', 'wavelength', 'in', 'the', '1930s', 'and', 'interest', 'has', 'increased', 'over', 'time', 'nonvisual', 'amateur', 'astronomy', 'includes', 'the', 'use', 'of', 'infrared', 'filter', 'on', 'conventional', 'telescopes', 'and', 'also', 'the', 'use', 'of', 'radio', 'telescope', 'some', 'amateur', 'astronomers', 'use', 'homemade', 'radio', 'telescopes', 'while', 'others', 'use', 'radio', 'telescopes', 'that', 'were', 'originally', 'built', 'for', 'astronomy', 'research', 'but', 'have', 'since', 'been', 'made', 'available', 'for', 'use', 'by', 'amateurs', 'the', 'onemile', 'telescope', 'is', 'one', 'such', 'examplennamateur', 'astronomers', 'use', 'a', 'range', 'of', 'instruments', 'to', 'study', 'the', 'sky', 'depending', 'on', 'a', 'combination', 'of', 'their', 'interests', 'and', 'resources', 'methods', 'include', 'simply', 'looking', 'at', 'the', 'night', 'sky', 'with', 'the', 'naked', 'eye', 'using', 'binoculars', 'and', 'using', 'a', 'variety', 'of', 'optical', 'telescope', 'of', 'varying', 'power', 'and', 'quality', 'as', 'well', 'as', 'additional', 'sophisticated', 'equipment', 'such', 'as', 'camera', 'to', 'study', 'light', 'from', 'the', 'sky', 'in', 'both', 'the', 'visual', 'and', 'nonvisual', 'parts', 'of', 'the', 'spectrum', 'commercial', 'telescopes', 'are', 'available', 'and', 'used', 'but', 'in', 'some', 'places', 'it', 'is', 'also', 'common', 'for', 'amateur', 'astronomers', 'to', 'build', 'or', 'commission', 'the', 'building', 'of', 'their', 'own', 'custom', 'telescope', 'some', 'people', 'even', 'focus', 'on', 'amateur', 'telescope', 'making', 'as', 'their', 'primary', 'interest', 'within', 'the', 'hobby', 'of', 'amateur', 'astronomynnalthough', 'specialised', 'and', 'experienced', 'amateur', 'astronomers', 'tend', 'to', 'acquire', 'more', 'specialised', 'and', 'more', 'powerful', 'equipment', 'over', 'time', 'relatively', 'simple', 'equipment', 'is', 'often', 'preferred', 'for', 'certain', 'tasks', 'binoculars', 'for', 'instance', 'although', 'generally', 'of', 'lower', 'power', 'than', 'the', 'majority', 'of', 'telescopes', 'also', 'tend', 'to', 'provide', 'a', 'wider', 'field', 'of', 'view', 'which', 'is', 'preferable', 'for', 'looking', 'at', 'some', 'objects', 'in', 'the', 'night', 'skynnamateur', 'astronomers', 'also', 'use', 'star', 'charts', 'that', 'depending', 'on', 'experience', 'and', 'intentions', 'may', 'range', 'from', 'simple', 'planisphere', 'through', 'to', 'detailed', 'charts', 'of', 'very', 'specific', 'areas', 'of', 'the', 'night', 'sky', 'a', 'range', 'of', 'astronomy', 'software', 'is', 'available', 'and', 'used', 'by', 'amateur', 'astronomers', 'including', 'software', 'that', 'generates', 'maps', 'of', 'the', 'sky', 'software', 'to', 'assist', 'with', 'astrophotography', 'observation', 'scheduling', 'software', 'and', 'software', 'to', 'perform', 'various', 'calculations', 'pertaining', 'to', 'astronomical', 'phenomenannamateur', 'astronomers', 'often', 'like', 'to', 'keep', 'records', 'of', 'their', 'observations', 'which', 'usually', 'takes', 'the', 'form', 'of', 'an', 'observing', 'log', 'observing', 'logs', 'typically', 'record', 'details', 'about', 'which', 'objects', 'were', 'observed', 'and', 'when', 'as', 'well', 'as', 'describing', 'the', 'details', 'that', 'were', 'seen', 'sketching', 'is', 'sometimes', 'used', 'within', 'logs', 'and', 'photographic', 'records', 'of', 'observations', 'have', 'also', 'been', 'used', 'in', 'recent', 'timesnnthe', 'internet', 'is', 'an', 'essential', 'tool', 'of', 'amateur', 'astronomers', 'almost', 'all', 'astronomy', 'clubs', 'even', 'those', 'with', 'very', 'few', 'members', 'have', 'a', 'web', 'site', 'the', 'popularity', 'of', 'ccd', 'imaging', 'among', 'amateurs', 'has', 'lead', 'to', 'large', 'numbers', 'of', 'web', 'sites', 'being', 'written', 'by', 'individuals', 'about', 'their', 'images', 'and', 'equipment', 'much', 'of', 'the', 'social', 'interaction', 'of', 'amateur', 'astronomy', 'occurs', 'on', 'mailing', 'lists', 'or', 'discussion', 'groups', 'discussion', 'group', 'servers', 'host', 'numerous', 'astronomy', 'lists', 'a', 'great', 'deal', 'of', 'the', 'commerce', 'of', 'amateur', 'astronomy', 'the', 'buying', 'and', 'selling', 'of', 'equipment', 'occurs', 'online', 'many', 'amateurs', 'use', 'online', 'tools', 'to', 'plan', 'their', 'nightly', 'observing', 'sessions', 'using', 'tools', 'such', 'as', 'the', 'clear', 'sky', 'chartnnwhile', 'a', 'number', 'of', 'interesting', 'celestial', 'objects', 'are', 'readily', 'identified', 'by', 'the', 'naked', 'eye', 'sometimes', 'with', 'the', 'aid', 'of', 'a', 'star', 'chart', 'many', 'others', 'are', 'so', 'faint', 'or', 'inconspicuous', 'that', 'technical', 'means', 'are', 'necessary', 'to', 'locate', 'them', 'many', 'methods', 'are', 'used', 'in', 'amateur', 'astronomy', 'but', 'most', 'are', 'variations', 'of', 'a', 'few', 'specific', 'techniquesnnstar', 'hopping', 'is', 'a', 'method', 'often', 'used', 'by', 'amateur', 'astronomers', 'with', 'lowtech', 'equipment', 'such', 'as', 'binoculars', 'or', 'a', 'manually', 'driven', 'telescope', 'it', 'involves', 'the', 'use', 'of', 'maps', 'or', 'memory', 'to', 'locate', 'known', 'landmark', 'stars', 'and', 'hopping', 'between', 'them', 'often', 'with', 'the', 'aid', 'of', 'a', 'finderscope', 'because', 'of', 'its', 'simplicity', 'star', 'hopping', 'is', 'a', 'very', 'common', 'method', 'for', 'finding', 'objects', 'that', 'are', 'close', 'to', 'nakedeye', 'starsnnmore', 'advanced', 'methods', 'of', 'locating', 'objects', 'in', 'the', 'sky', 'include', 'telescope', 'mount', 'with', 'setting', 'circles', 'which', 'assist', 'with', 'pointing', 'telescopes', 'to', 'positions', 'in', 'the', 'sky', 'that', 'are', 'known', 'to', 'contain', 'objects', 'of', 'interest', 'and', 'goto', 'telescopes', 'which', 'are', 'fully', 'automated', 'telescopes', 'that', 'are', 'capable', 'of', 'locating', 'objects', 'on', 'demand', 'having', 'first', 'been', 'calibratednnsetting', 'circles', 'are', 'angular', 'measurement', 'scales', 'that', 'can', 'be', 'placed', 'on', 'the', 'two', 'main', 'rotation', 'axes', 'of', 'some', 'telescopes', 'since', 'the', 'widespread', 'adoption', 'of', 'digital', 'setting', 'circles', 'any', 'classical', 'engraved', 'setting', 'circle', 'is', 'now', 'specifically', 'identified', 'as', 'an', 'analog', 'setting', 'circle', 'asc', 'by', 'knowing', 'the', 'coordinate', 'of', 'an', 'object', 'usually', 'given', 'in', 'equatorial', 'coordinates', 'the', 'telescope', 'user', 'can', 'use', 'the', 'setting', 'circle', 'to', 'align', 'the', 'telescope', 'in', 'the', 'appropriate', 'direction', 'before', 'looking', 'through', 'its', 'eyepiece', 'a', 'computerized', 'setting', 'circle', 'is', 'called', 'a', 'digital', 'setting', 'circle', 'dsc', 'although', 'digital', 'setting', 'circles', 'can', 'be', 'used', 'to', 'display', 'a', 'telescopes', 'ra', 'and', 'dec', 'coordinates', 'they', 'are', 'not', 'simply', 'a', 'digital', 'readout', 'of', 'what', 'can', 'be', 'seen', 'on', 'the', 'telescopes', 'analog', 'setting', 'circles', 'as', 'with', 'goto', 'telescopes', 'digital', 'setting', 'circle', 'computers', 'commercial', 'names', 'include', 'argo', 'navis', 'sky', 'commander', 'and', 'ngc', 'max', 'contain', 'databases', 'of', 'tens', 'of', 'thousands', 'of', 'celestial', 'objects', 'and', 'projections', 'of', 'planet', 'positionsnnto', 'find', 'an', 'object', 'such', 'as', 'globular', 'cluster', 'ngc', '6712', 'one', 'does', 'not', 'need', 'to', 'look', 'up', 'the', 'ra', 'and', 'dec', 'coordinates', 'in', 'a', 'book', 'and', 'then', 'move', 'the', 'telescope', 'to', 'those', 'numerical', 'readings', 'rather', 'the', 'object', 'is', 'chosen', 'from', 'the', 'database', 'and', 'arrow', 'markers', 'appear', 'in', 'the', 'display', 'which', 'indicate', 'the', 'direction', 'to', 'move', 'the', 'telescope', 'the', 'telescope', 'is', 'moved', 'until', 'the', 'distance', 'value', 'reaches', 'zero', 'when', 'both', 'the', 'ra', 'and', 'dec', 'axes', 'are', 'thus', 'zeroed', 'out', 'the', 'object', 'should', 'be', 'in', 'the', 'eyepiece', 'the', 'user', 'therefore', 'does', 'not', 'have', 'to', 'go', 'back', 'and', 'forth', 'from', 'some', 'other', 'database', 'such', 'as', 'a', 'book', 'or', 'laptop', 'to', 'match', 'the', 'desired', 'objects', 'listed', 'coordinates', 'to', 'the', 'coordinates', 'on', 'the', 'telescope', 'however', 'many', 'dscs', 'and', 'also', 'goto', 'systems', 'can', 'work', 'in', 'conjunction', 'with', 'laptop', 'sky', 'programsnncomputerized', 'systems', 'provide', 'the', 'further', 'advantage', 'of', 'computing', 'coordinate', 'precession', 'traditional', 'printed', 'sources', 'are', 'subtitled', 'by', 'the', 'epoch', 'year', 'which', 'refers', 'to', 'the', 'positions', 'of', 'celestial', 'objects', 'at', 'a', 'given', 'time', 'to', 'the', 'nearest', 'year', 'eg', 'j2005', 'j2007', 'most', 'such', 'printed', 'sources', 'have', 'been', 'updated', 'for', 'intervals', 'of', 'only', 'about', 'every', 'fifty', 'years', 'eg', 'j1900', 'j1950', 'j2000', 'computerized', 'sources', 'on', 'the', 'other', 'hand', 'are', 'able', 'to', 'calculate', 'the', 'right', 'ascension', 'and', 'declination', 'of', 'the', 'epoch', 'of', 'date', 'to', 'the', 'exact', 'instant', 'of', 'observationnngoto', 'telescopes', 'have', 'become', 'more', 'popular', 'in', 'recent', 'times', 'as', 'technology', 'has', 'improved', 'and', 'prices', 'have', 'been', 'reduced', 'with', 'these', 'computerdriven', 'telescopes', 'the', 'user', 'typically', 'enters', 'the', 'name', 'of', 'the', 'item', 'of', 'interest', 'and', 'the', 'mechanics', 'of', 'the', 'telescope', 'point', 'the', 'telescope', 'towards', 'that', 'item', 'automatically', 'they', 'have', 'several', 'notable', 'advantages', 'for', 'amateur', 'astronomers', 'intent', 'on', 'research', 'for', 'example', 'goto', 'telescopes', 'tend', 'to', 'be', 'faster', 'for', 'locating', 'items', 'of', 'interest', 'than', 'star', 'hopping', 'allowing', 'more', 'time', 'for', 'studying', 'of', 'the', 'object', 'goto', 'also', 'allows', 'manufacturers', 'to', 'add', 'equatorial', 'tracking', 'to', 'mechanically', 'simpler', 'altazmuth', 'telescope', 'mounts', 'allowing', 'them', 'to', 'produce', 'an', 'over', 'all', 'less', 'expensive', 'productnnbecause', 'goto', 'telescopes', 'have', 'become', 'increasingly', 'affordable', 'a', 'new', 'type', 'of', 'beginning', 'amateur', 'astronomer', 'has', 'emerged', 'in', 'that', 'goto', 'telescopes', 'offer', 'a', 'form', 'of', 'instant', 'gratification', 'sometimes', 'allowing', 'difficult', 'objects', 'to', 'be', 'found', 'quickly', 'without', 'requiring', 'the', 'experience', 'of', 'learning', 'to', 'find', 'themnnamateur', 'astronomers', 'engage', 'in', 'many', 'imaging', 'techniques', 'including', 'film', 'and', 'ccd', 'astrophotography', 'because', 'ccd', 'imagers', 'are', 'linear', 'image', 'processing', 'may', 'be', 'used', 'to', 'subtract', 'away', 'the', 'effects', 'of', 'light', 'pollution', 'which', 'has', 'increased', 'the', 'popularity', 'of', 'astrophotography', 'in', 'urban', 'areasnnscientific', 'research', 'is', 'most', 'often', 'not', 'the', 'main', 'goal', 'for', 'many', 'amateur', 'astronomers', 'unlike', 'professional', 'astronomy', 'work', 'of', 'scientific', 'merit', 'is', 'possible', 'however', 'and', 'many', 'amateurs', 'successfully', 'contribute', 'to', 'the', 'knowledge', 'base', 'of', 'professional', 'astronomers', 'astronomy', 'is', 'sometimes', 'promoted', 'as', 'one', 'of', 'the', 'few', 'remaining', 'sciences', 'for', 'which', 'amateurs', 'can', 'still', 'contribute', 'useful', 'data', 'to', 'recognise', 'this', 'the', 'astronomical', 'society', 'of', 'the', 'pacific', 'annually', 'gives', 'amateur', 'achievement', 'awards', 'for', 'significant', 'contributions', 'to', 'astronomy', 'by', 'amateursnnthe', 'majority', 'of', 'scientific', 'contributions', 'by', 'amateur', 'astronomers', 'are', 'in', 'the', 'area', 'of', 'data', 'collection', 'in', 'particular', 'this', 'applies', 'where', 'large', 'numbers', 'of', 'amateur', 'astronomers', 'with', 'small', 'telescopes', 'are', 'more', 'effective', 'than', 'the', 'relatively', 'small', 'number', 'of', 'large', 'telescopes', 'that', 'are', 'available', 'to', 'professional', 'astronomers', 'several', 'organisations', 'such', 'as', 'the', 'center', 'for', 'backyard', 'astrophysics', 'exist', 'to', 'help', 'coordinate', 'these', 'contributionsnnamateur', 'astronomers', 'often', 'contribute', 'toward', 'activities', 'such', 'as', 'monitoring', 'the', 'changes', 'in', 'brightness', 'of', 'variable', 'star', 'helping', 'to', 'track', 'asteroid', 'and', 'observing', 'occultation', 'to', 'determine', 'both', 'the', 'shape', 'of', 'asteroids', 'and', 'the', 'shape', 'of', 'the', 'terrain', 'on', 'the', 'apparent', 'edge', 'of', 'the', 'moon', 'as', 'seen', 'from', 'earth', 'with', 'more', 'advanced', 'equipment', 'but', 'still', 'cheap', 'in', 'comparison', 'to', 'professional', 'setups', 'amateur', 'astronomers', 'can', 'measure', 'the', 'light', 'spectrum', 'emitted', 'from', 'astronomical', 'objects', 'which', 'can', 'yield', 'highquality', 'scientific', 'data', 'if', 'the', 'measurements', 'are', 'performed', 'with', 'due', 'care', 'a', 'relatively', 'recent', 'role', 'for', 'amateur', 'astronomers', 'is', 'searching', 'for', 'overlooked', 'phenomena', 'eg', 'kreutz', 'sungrazers', 'in', 'the', 'vast', 'libraries', 'of', 'digital', 'images', 'and', 'other', 'data', 'captured', 'by', 'earth', 'and', 'space', 'based', 'observatories', 'much', 'of', 'which', 'is', 'available', 'over', 'the', 'internetnnin', 'the', 'past', 'and', 'present', 'amateur', 'astronomers', 'have', 'played', 'a', 'major', 'role', 'in', 'discovering', 'new', 'comet', 'recently', 'however', 'funding', 'of', 'projects', 'such', 'as', 'the', 'lincoln', 'nearearth', 'asteroid', 'research', 'and', 'near', 'earth', 'asteroid', 'tracking', 'projects', 'has', 'meant', 'that', 'most', 'comets', 'are', 'now', 'discovered', 'by', 'automated', 'systems', 'long', 'before', 'it', 'is', 'possible', 'for', 'amateurs', 'to', 'see', 'themnnthere', 'is', 'a', 'large', 'number', 'of', 'amateur', 'astronomical', 'societies', 'around', 'the', 'world', 'that', 'serve', 'as', 'a', 'meeting', 'point', 'for', 'those', 'interested', 'in', 'amateur', 'astronomy', 'whether', 'they', 'be', 'people', 'who', 'are', 'actively', 'interested', 'in', 'observing', 'or', 'armchair', 'astronomers', 'who', 'may', 'be', 'simply', 'interested', 'in', 'the', 'topic', 'societies', 'range', 'widely', 'in', 'their', 'goals', 'depending', 'on', 'a', 'variety', 'of', 'factors', 'such', 'as', 'geographic', 'spread', 'local', 'circumstances', 'size', 'and', 'membership', 'for', 'instance', 'a', 'local', 'society', 'in', 'the', 'middle', 'of', 'a', 'large', 'city', 'may', 'have', 'regular', 'meetings', 'with', 'speakers', 'focusing', 'less', 'on', 'observing', 'the', 'night', 'sky', 'if', 'the', 'membership', 'is', 'less', 'able', 'to', 'observe', 'due', 'to', 'factors', 'such', 'as', 'light', 'pollutionnnit', 'is', 'common', 'for', 'local', 'societies', 'to', 'hold', 'regular', 'meetings', 'which', 'may', 'include', 'activities', 'such', 'as', 'star', 'parties', 'or', 'presentations', 'societies', 'are', 'also', 'a', 'meeting', 'point', 'for', 'people', 'with', 'particular', 'interests', 'such', 'as', 'amateur', 'telescope', 'makingnnamateur', 'astronomy', 'organizationsnnprizes', 'recognizing', 'amateur', 'astronomersnn'])]\n"
     ]
    }
   ],
   "source": [
    "print(documents.filter(lambda x: x[0] == top_document_name).collect())"
   ]
  },
  {
   "cell_type": "markdown",
   "metadata": {
    "colab_type": "text",
    "id": "dfIs3jm9qfbN"
   },
   "source": [
    "**Question 2:** Using the same dataset -\n",
    "\n",
    "\n",
    "**a)** Construct a Document Term Matrix that contains the Term Frequency of each each word in the set of documents\n",
    "\n",
    "**b) ** Look up the column index for the *word* you are searching from within the *Document Term Matrix* that you constructed; then extract all documents that contain the word (based on the TF score) into a  RDD based on the index\n",
    "\n",
    "**c)** Identify the document that has the maximum count for the word you are looking for and output the name of the document along with the term frequency"
   ]
  },
  {
   "cell_type": "code",
   "execution_count": 22,
   "metadata": {},
   "outputs": [],
   "source": [
    "def top_document(query, frequencies):\n",
    "    index = int(hashingTF.transform(sc.parallelize([[query]])).collect()[0].indices[0])\n",
    "    \n",
    "    filtered = frequencies.filter(lambda doc: index in doc[1].indices)\n",
    "    names = filtered.map(lambda x: x[0])\n",
    "    scores = filtered.map(lambda x: x[1][index])\n",
    "    \n",
    "    top_document_name = names.collect()[np.argmax(scores.collect())]\n",
    "    return documents.filter(lambda x: x[0] == top_document_name)"
   ]
  },
  {
   "cell_type": "code",
   "execution_count": 23,
   "metadata": {},
   "outputs": [
    {
     "name": "stdout",
     "output_type": "stream",
     "text": [
      "[('748: amateur', ['030754', 'thumbnnamateur', 'astronomy', 'a', 'subset', 'of', 'astronomy', 'is', 'a', 'hobby', 'whose', 'participants', 'enjoy', 'studying', 'and', 'observing', 'celestial', 'objectsnnthe', 'typical', 'amateur', 'astronomer', 'is', 'one', 'who', 'does', 'not', 'depend', 'on', 'the', 'field', 'of', 'astronomy', 'as', 'a', 'primary', 'source', 'of', 'income', 'or', 'support', 'and', 'does', 'not', 'have', 'a', 'professional', 'degree', 'or', 'advanced', 'academic', 'training', 'many', 'amateurs', 'are', 'beginners', 'while', 'others', 'have', 'a', 'high', 'degree', 'in', 'astronomy', 'and', 'often', 'assist', 'and', 'work', 'alongside', 'professional', 'astronomersnnamateur', 'astronomy', 'is', 'usually', 'associated', 'with', 'viewing', 'the', 'night', 'sky', 'when', 'most', 'celestial', 'objects', 'and', 'events', 'are', 'visible', 'but', 'sometimes', 'amateur', 'astronomers', 'also', 'operate', 'during', 'the', 'day', 'for', 'events', 'such', 'as', 'sunspot', 'and', 'solar', 'eclipse', 'amateur', 'astronomers', 'often', 'look', 'at', 'the', 'sky', 'using', 'nothing', 'more', 'than', 'their', 'eyes', 'but', 'common', 'tools', 'for', 'amateur', 'astronomy', 'include', 'portable', 'telescopes', 'and', 'binocularsnnpeople', 'have', 'studied', 'the', 'sky', 'throughout', 'history', 'in', 'an', 'amateur', 'framework', 'without', 'any', 'formal', 'method', 'of', 'funding', 'it', 'is', 'only', 'within', 'about', 'the', 'past', 'century', 'however', 'that', 'amateur', 'astronomy', 'has', 'become', 'an', 'activity', 'clearly', 'distinguished', 'from', 'professional', 'astronomy', 'and', 'other', 'related', 'activitiesnncollectively', 'amateur', 'astronomers', 'observe', 'a', 'variety', 'of', 'celestial', 'objects', 'and', 'phenomena', 'common', 'targets', 'of', 'amateur', 'astronomers', 'include', 'the', 'moon', 'planet', 'star', 'comet', 'meteor', 'shower', 'and', 'a', 'variety', 'of', 'deep', 'sky', 'object', 'such', 'as', 'star', 'cluster', 'galaxies', 'and', 'nebula', 'many', 'amateurs', 'like', 'to', 'specialise', 'in', 'observing', 'particular', 'objects', 'types', 'of', 'objects', 'or', 'types', 'of', 'events', 'which', 'interest', 'them', 'one', 'branch', 'of', 'amateur', 'astronomy', 'amateur', 'astrophotography', 'involves', 'the', 'taking', 'of', 'photos', 'of', 'the', 'night', 'sky', 'astrophotography', 'has', 'become', 'more', 'popular', 'for', 'amateurs', 'in', 'recent', 'times', 'as', 'relatively', 'sophisticated', 'equipment', 'such', 'as', 'high', 'quality', 'ccd', 'camera', 'has', 'become', 'more', 'affordablennmost', 'amateurs', 'work', 'at', 'visible', 'wavelength', 'but', 'a', 'small', 'minority', 'experiment', 'with', 'wavelengths', 'outside', 'the', 'visible', 'spectrum', 'the', 'pioneer', 'of', 'amateur', 'radio', 'astronomy', 'was', 'karl', 'jansky', 'who', 'started', 'observing', 'the', 'sky', 'at', 'radio', 'wavelength', 'in', 'the', '1930s', 'and', 'interest', 'has', 'increased', 'over', 'time', 'nonvisual', 'amateur', 'astronomy', 'includes', 'the', 'use', 'of', 'infrared', 'filter', 'on', 'conventional', 'telescopes', 'and', 'also', 'the', 'use', 'of', 'radio', 'telescope', 'some', 'amateur', 'astronomers', 'use', 'homemade', 'radio', 'telescopes', 'while', 'others', 'use', 'radio', 'telescopes', 'that', 'were', 'originally', 'built', 'for', 'astronomy', 'research', 'but', 'have', 'since', 'been', 'made', 'available', 'for', 'use', 'by', 'amateurs', 'the', 'onemile', 'telescope', 'is', 'one', 'such', 'examplennamateur', 'astronomers', 'use', 'a', 'range', 'of', 'instruments', 'to', 'study', 'the', 'sky', 'depending', 'on', 'a', 'combination', 'of', 'their', 'interests', 'and', 'resources', 'methods', 'include', 'simply', 'looking', 'at', 'the', 'night', 'sky', 'with', 'the', 'naked', 'eye', 'using', 'binoculars', 'and', 'using', 'a', 'variety', 'of', 'optical', 'telescope', 'of', 'varying', 'power', 'and', 'quality', 'as', 'well', 'as', 'additional', 'sophisticated', 'equipment', 'such', 'as', 'camera', 'to', 'study', 'light', 'from', 'the', 'sky', 'in', 'both', 'the', 'visual', 'and', 'nonvisual', 'parts', 'of', 'the', 'spectrum', 'commercial', 'telescopes', 'are', 'available', 'and', 'used', 'but', 'in', 'some', 'places', 'it', 'is', 'also', 'common', 'for', 'amateur', 'astronomers', 'to', 'build', 'or', 'commission', 'the', 'building', 'of', 'their', 'own', 'custom', 'telescope', 'some', 'people', 'even', 'focus', 'on', 'amateur', 'telescope', 'making', 'as', 'their', 'primary', 'interest', 'within', 'the', 'hobby', 'of', 'amateur', 'astronomynnalthough', 'specialised', 'and', 'experienced', 'amateur', 'astronomers', 'tend', 'to', 'acquire', 'more', 'specialised', 'and', 'more', 'powerful', 'equipment', 'over', 'time', 'relatively', 'simple', 'equipment', 'is', 'often', 'preferred', 'for', 'certain', 'tasks', 'binoculars', 'for', 'instance', 'although', 'generally', 'of', 'lower', 'power', 'than', 'the', 'majority', 'of', 'telescopes', 'also', 'tend', 'to', 'provide', 'a', 'wider', 'field', 'of', 'view', 'which', 'is', 'preferable', 'for', 'looking', 'at', 'some', 'objects', 'in', 'the', 'night', 'skynnamateur', 'astronomers', 'also', 'use', 'star', 'charts', 'that', 'depending', 'on', 'experience', 'and', 'intentions', 'may', 'range', 'from', 'simple', 'planisphere', 'through', 'to', 'detailed', 'charts', 'of', 'very', 'specific', 'areas', 'of', 'the', 'night', 'sky', 'a', 'range', 'of', 'astronomy', 'software', 'is', 'available', 'and', 'used', 'by', 'amateur', 'astronomers', 'including', 'software', 'that', 'generates', 'maps', 'of', 'the', 'sky', 'software', 'to', 'assist', 'with', 'astrophotography', 'observation', 'scheduling', 'software', 'and', 'software', 'to', 'perform', 'various', 'calculations', 'pertaining', 'to', 'astronomical', 'phenomenannamateur', 'astronomers', 'often', 'like', 'to', 'keep', 'records', 'of', 'their', 'observations', 'which', 'usually', 'takes', 'the', 'form', 'of', 'an', 'observing', 'log', 'observing', 'logs', 'typically', 'record', 'details', 'about', 'which', 'objects', 'were', 'observed', 'and', 'when', 'as', 'well', 'as', 'describing', 'the', 'details', 'that', 'were', 'seen', 'sketching', 'is', 'sometimes', 'used', 'within', 'logs', 'and', 'photographic', 'records', 'of', 'observations', 'have', 'also', 'been', 'used', 'in', 'recent', 'timesnnthe', 'internet', 'is', 'an', 'essential', 'tool', 'of', 'amateur', 'astronomers', 'almost', 'all', 'astronomy', 'clubs', 'even', 'those', 'with', 'very', 'few', 'members', 'have', 'a', 'web', 'site', 'the', 'popularity', 'of', 'ccd', 'imaging', 'among', 'amateurs', 'has', 'lead', 'to', 'large', 'numbers', 'of', 'web', 'sites', 'being', 'written', 'by', 'individuals', 'about', 'their', 'images', 'and', 'equipment', 'much', 'of', 'the', 'social', 'interaction', 'of', 'amateur', 'astronomy', 'occurs', 'on', 'mailing', 'lists', 'or', 'discussion', 'groups', 'discussion', 'group', 'servers', 'host', 'numerous', 'astronomy', 'lists', 'a', 'great', 'deal', 'of', 'the', 'commerce', 'of', 'amateur', 'astronomy', 'the', 'buying', 'and', 'selling', 'of', 'equipment', 'occurs', 'online', 'many', 'amateurs', 'use', 'online', 'tools', 'to', 'plan', 'their', 'nightly', 'observing', 'sessions', 'using', 'tools', 'such', 'as', 'the', 'clear', 'sky', 'chartnnwhile', 'a', 'number', 'of', 'interesting', 'celestial', 'objects', 'are', 'readily', 'identified', 'by', 'the', 'naked', 'eye', 'sometimes', 'with', 'the', 'aid', 'of', 'a', 'star', 'chart', 'many', 'others', 'are', 'so', 'faint', 'or', 'inconspicuous', 'that', 'technical', 'means', 'are', 'necessary', 'to', 'locate', 'them', 'many', 'methods', 'are', 'used', 'in', 'amateur', 'astronomy', 'but', 'most', 'are', 'variations', 'of', 'a', 'few', 'specific', 'techniquesnnstar', 'hopping', 'is', 'a', 'method', 'often', 'used', 'by', 'amateur', 'astronomers', 'with', 'lowtech', 'equipment', 'such', 'as', 'binoculars', 'or', 'a', 'manually', 'driven', 'telescope', 'it', 'involves', 'the', 'use', 'of', 'maps', 'or', 'memory', 'to', 'locate', 'known', 'landmark', 'stars', 'and', 'hopping', 'between', 'them', 'often', 'with', 'the', 'aid', 'of', 'a', 'finderscope', 'because', 'of', 'its', 'simplicity', 'star', 'hopping', 'is', 'a', 'very', 'common', 'method', 'for', 'finding', 'objects', 'that', 'are', 'close', 'to', 'nakedeye', 'starsnnmore', 'advanced', 'methods', 'of', 'locating', 'objects', 'in', 'the', 'sky', 'include', 'telescope', 'mount', 'with', 'setting', 'circles', 'which', 'assist', 'with', 'pointing', 'telescopes', 'to', 'positions', 'in', 'the', 'sky', 'that', 'are', 'known', 'to', 'contain', 'objects', 'of', 'interest', 'and', 'goto', 'telescopes', 'which', 'are', 'fully', 'automated', 'telescopes', 'that', 'are', 'capable', 'of', 'locating', 'objects', 'on', 'demand', 'having', 'first', 'been', 'calibratednnsetting', 'circles', 'are', 'angular', 'measurement', 'scales', 'that', 'can', 'be', 'placed', 'on', 'the', 'two', 'main', 'rotation', 'axes', 'of', 'some', 'telescopes', 'since', 'the', 'widespread', 'adoption', 'of', 'digital', 'setting', 'circles', 'any', 'classical', 'engraved', 'setting', 'circle', 'is', 'now', 'specifically', 'identified', 'as', 'an', 'analog', 'setting', 'circle', 'asc', 'by', 'knowing', 'the', 'coordinate', 'of', 'an', 'object', 'usually', 'given', 'in', 'equatorial', 'coordinates', 'the', 'telescope', 'user', 'can', 'use', 'the', 'setting', 'circle', 'to', 'align', 'the', 'telescope', 'in', 'the', 'appropriate', 'direction', 'before', 'looking', 'through', 'its', 'eyepiece', 'a', 'computerized', 'setting', 'circle', 'is', 'called', 'a', 'digital', 'setting', 'circle', 'dsc', 'although', 'digital', 'setting', 'circles', 'can', 'be', 'used', 'to', 'display', 'a', 'telescopes', 'ra', 'and', 'dec', 'coordinates', 'they', 'are', 'not', 'simply', 'a', 'digital', 'readout', 'of', 'what', 'can', 'be', 'seen', 'on', 'the', 'telescopes', 'analog', 'setting', 'circles', 'as', 'with', 'goto', 'telescopes', 'digital', 'setting', 'circle', 'computers', 'commercial', 'names', 'include', 'argo', 'navis', 'sky', 'commander', 'and', 'ngc', 'max', 'contain', 'databases', 'of', 'tens', 'of', 'thousands', 'of', 'celestial', 'objects', 'and', 'projections', 'of', 'planet', 'positionsnnto', 'find', 'an', 'object', 'such', 'as', 'globular', 'cluster', 'ngc', '6712', 'one', 'does', 'not', 'need', 'to', 'look', 'up', 'the', 'ra', 'and', 'dec', 'coordinates', 'in', 'a', 'book', 'and', 'then', 'move', 'the', 'telescope', 'to', 'those', 'numerical', 'readings', 'rather', 'the', 'object', 'is', 'chosen', 'from', 'the', 'database', 'and', 'arrow', 'markers', 'appear', 'in', 'the', 'display', 'which', 'indicate', 'the', 'direction', 'to', 'move', 'the', 'telescope', 'the', 'telescope', 'is', 'moved', 'until', 'the', 'distance', 'value', 'reaches', 'zero', 'when', 'both', 'the', 'ra', 'and', 'dec', 'axes', 'are', 'thus', 'zeroed', 'out', 'the', 'object', 'should', 'be', 'in', 'the', 'eyepiece', 'the', 'user', 'therefore', 'does', 'not', 'have', 'to', 'go', 'back', 'and', 'forth', 'from', 'some', 'other', 'database', 'such', 'as', 'a', 'book', 'or', 'laptop', 'to', 'match', 'the', 'desired', 'objects', 'listed', 'coordinates', 'to', 'the', 'coordinates', 'on', 'the', 'telescope', 'however', 'many', 'dscs', 'and', 'also', 'goto', 'systems', 'can', 'work', 'in', 'conjunction', 'with', 'laptop', 'sky', 'programsnncomputerized', 'systems', 'provide', 'the', 'further', 'advantage', 'of', 'computing', 'coordinate', 'precession', 'traditional', 'printed', 'sources', 'are', 'subtitled', 'by', 'the', 'epoch', 'year', 'which', 'refers', 'to', 'the', 'positions', 'of', 'celestial', 'objects', 'at', 'a', 'given', 'time', 'to', 'the', 'nearest', 'year', 'eg', 'j2005', 'j2007', 'most', 'such', 'printed', 'sources', 'have', 'been', 'updated', 'for', 'intervals', 'of', 'only', 'about', 'every', 'fifty', 'years', 'eg', 'j1900', 'j1950', 'j2000', 'computerized', 'sources', 'on', 'the', 'other', 'hand', 'are', 'able', 'to', 'calculate', 'the', 'right', 'ascension', 'and', 'declination', 'of', 'the', 'epoch', 'of', 'date', 'to', 'the', 'exact', 'instant', 'of', 'observationnngoto', 'telescopes', 'have', 'become', 'more', 'popular', 'in', 'recent', 'times', 'as', 'technology', 'has', 'improved', 'and', 'prices', 'have', 'been', 'reduced', 'with', 'these', 'computerdriven', 'telescopes', 'the', 'user', 'typically', 'enters', 'the', 'name', 'of', 'the', 'item', 'of', 'interest', 'and', 'the', 'mechanics', 'of', 'the', 'telescope', 'point', 'the', 'telescope', 'towards', 'that', 'item', 'automatically', 'they', 'have', 'several', 'notable', 'advantages', 'for', 'amateur', 'astronomers', 'intent', 'on', 'research', 'for', 'example', 'goto', 'telescopes', 'tend', 'to', 'be', 'faster', 'for', 'locating', 'items', 'of', 'interest', 'than', 'star', 'hopping', 'allowing', 'more', 'time', 'for', 'studying', 'of', 'the', 'object', 'goto', 'also', 'allows', 'manufacturers', 'to', 'add', 'equatorial', 'tracking', 'to', 'mechanically', 'simpler', 'altazmuth', 'telescope', 'mounts', 'allowing', 'them', 'to', 'produce', 'an', 'over', 'all', 'less', 'expensive', 'productnnbecause', 'goto', 'telescopes', 'have', 'become', 'increasingly', 'affordable', 'a', 'new', 'type', 'of', 'beginning', 'amateur', 'astronomer', 'has', 'emerged', 'in', 'that', 'goto', 'telescopes', 'offer', 'a', 'form', 'of', 'instant', 'gratification', 'sometimes', 'allowing', 'difficult', 'objects', 'to', 'be', 'found', 'quickly', 'without', 'requiring', 'the', 'experience', 'of', 'learning', 'to', 'find', 'themnnamateur', 'astronomers', 'engage', 'in', 'many', 'imaging', 'techniques', 'including', 'film', 'and', 'ccd', 'astrophotography', 'because', 'ccd', 'imagers', 'are', 'linear', 'image', 'processing', 'may', 'be', 'used', 'to', 'subtract', 'away', 'the', 'effects', 'of', 'light', 'pollution', 'which', 'has', 'increased', 'the', 'popularity', 'of', 'astrophotography', 'in', 'urban', 'areasnnscientific', 'research', 'is', 'most', 'often', 'not', 'the', 'main', 'goal', 'for', 'many', 'amateur', 'astronomers', 'unlike', 'professional', 'astronomy', 'work', 'of', 'scientific', 'merit', 'is', 'possible', 'however', 'and', 'many', 'amateurs', 'successfully', 'contribute', 'to', 'the', 'knowledge', 'base', 'of', 'professional', 'astronomers', 'astronomy', 'is', 'sometimes', 'promoted', 'as', 'one', 'of', 'the', 'few', 'remaining', 'sciences', 'for', 'which', 'amateurs', 'can', 'still', 'contribute', 'useful', 'data', 'to', 'recognise', 'this', 'the', 'astronomical', 'society', 'of', 'the', 'pacific', 'annually', 'gives', 'amateur', 'achievement', 'awards', 'for', 'significant', 'contributions', 'to', 'astronomy', 'by', 'amateursnnthe', 'majority', 'of', 'scientific', 'contributions', 'by', 'amateur', 'astronomers', 'are', 'in', 'the', 'area', 'of', 'data', 'collection', 'in', 'particular', 'this', 'applies', 'where', 'large', 'numbers', 'of', 'amateur', 'astronomers', 'with', 'small', 'telescopes', 'are', 'more', 'effective', 'than', 'the', 'relatively', 'small', 'number', 'of', 'large', 'telescopes', 'that', 'are', 'available', 'to', 'professional', 'astronomers', 'several', 'organisations', 'such', 'as', 'the', 'center', 'for', 'backyard', 'astrophysics', 'exist', 'to', 'help', 'coordinate', 'these', 'contributionsnnamateur', 'astronomers', 'often', 'contribute', 'toward', 'activities', 'such', 'as', 'monitoring', 'the', 'changes', 'in', 'brightness', 'of', 'variable', 'star', 'helping', 'to', 'track', 'asteroid', 'and', 'observing', 'occultation', 'to', 'determine', 'both', 'the', 'shape', 'of', 'asteroids', 'and', 'the', 'shape', 'of', 'the', 'terrain', 'on', 'the', 'apparent', 'edge', 'of', 'the', 'moon', 'as', 'seen', 'from', 'earth', 'with', 'more', 'advanced', 'equipment', 'but', 'still', 'cheap', 'in', 'comparison', 'to', 'professional', 'setups', 'amateur', 'astronomers', 'can', 'measure', 'the', 'light', 'spectrum', 'emitted', 'from', 'astronomical', 'objects', 'which', 'can', 'yield', 'highquality', 'scientific', 'data', 'if', 'the', 'measurements', 'are', 'performed', 'with', 'due', 'care', 'a', 'relatively', 'recent', 'role', 'for', 'amateur', 'astronomers', 'is', 'searching', 'for', 'overlooked', 'phenomena', 'eg', 'kreutz', 'sungrazers', 'in', 'the', 'vast', 'libraries', 'of', 'digital', 'images', 'and', 'other', 'data', 'captured', 'by', 'earth', 'and', 'space', 'based', 'observatories', 'much', 'of', 'which', 'is', 'available', 'over', 'the', 'internetnnin', 'the', 'past', 'and', 'present', 'amateur', 'astronomers', 'have', 'played', 'a', 'major', 'role', 'in', 'discovering', 'new', 'comet', 'recently', 'however', 'funding', 'of', 'projects', 'such', 'as', 'the', 'lincoln', 'nearearth', 'asteroid', 'research', 'and', 'near', 'earth', 'asteroid', 'tracking', 'projects', 'has', 'meant', 'that', 'most', 'comets', 'are', 'now', 'discovered', 'by', 'automated', 'systems', 'long', 'before', 'it', 'is', 'possible', 'for', 'amateurs', 'to', 'see', 'themnnthere', 'is', 'a', 'large', 'number', 'of', 'amateur', 'astronomical', 'societies', 'around', 'the', 'world', 'that', 'serve', 'as', 'a', 'meeting', 'point', 'for', 'those', 'interested', 'in', 'amateur', 'astronomy', 'whether', 'they', 'be', 'people', 'who', 'are', 'actively', 'interested', 'in', 'observing', 'or', 'armchair', 'astronomers', 'who', 'may', 'be', 'simply', 'interested', 'in', 'the', 'topic', 'societies', 'range', 'widely', 'in', 'their', 'goals', 'depending', 'on', 'a', 'variety', 'of', 'factors', 'such', 'as', 'geographic', 'spread', 'local', 'circumstances', 'size', 'and', 'membership', 'for', 'instance', 'a', 'local', 'society', 'in', 'the', 'middle', 'of', 'a', 'large', 'city', 'may', 'have', 'regular', 'meetings', 'with', 'speakers', 'focusing', 'less', 'on', 'observing', 'the', 'night', 'sky', 'if', 'the', 'membership', 'is', 'less', 'able', 'to', 'observe', 'due', 'to', 'factors', 'such', 'as', 'light', 'pollutionnnit', 'is', 'common', 'for', 'local', 'societies', 'to', 'hold', 'regular', 'meetings', 'which', 'may', 'include', 'activities', 'such', 'as', 'star', 'parties', 'or', 'presentations', 'societies', 'are', 'also', 'a', 'meeting', 'point', 'for', 'people', 'with', 'particular', 'interests', 'such', 'as', 'amateur', 'telescope', 'makingnnamateur', 'astronomy', 'organizationsnnprizes', 'recognizing', 'amateur', 'astronomersnn'])]\n"
     ]
    }
   ],
   "source": [
    "query = 'astronomy'\n",
    "\n",
    "doc = top_document(query, term_frequencies)\n",
    "print(doc.collect())"
   ]
  },
  {
   "cell_type": "code",
   "execution_count": 24,
   "metadata": {},
   "outputs": [
    {
     "name": "stdout",
     "output_type": "stream",
     "text": [
      "[('1368: assembly', ['215845', 'an', 'assembly', 'language', 'is', 'a', 'lowlevel', 'language', 'for', 'programming', 'computer', 'it', 'implements', 'a', 'symbolic', 'representation', 'of', 'the', 'numeric', 'machine', 'code', 'and', 'other', 'constants', 'needed', 'to', 'program', 'a', 'particular', 'cpu', 'architecture', 'this', 'representation', 'is', 'usually', 'defined', 'by', 'the', 'hardware', 'manufacturer', 'and', 'is', 'based', 'on', 'abbreviations', 'called', 'mnemonics', 'that', 'help', 'the', 'programmer', 'remember', 'individual', 'instructions', 'registers', 'etc', 'an', 'assembly', 'language', 'is', 'thus', 'specific', 'to', 'a', 'certain', 'physical', 'or', 'virtual', 'computer', 'architecture', 'as', 'opposed', 'to', 'most', 'highlevel', 'language', 'which', 'are', 'usually', 'portablennassembly', 'languages', 'were', 'first', 'developed', 'in', 'the', '1950s', 'when', 'they', 'were', 'referred', 'to', 'as', 'second', 'generation', 'programming', 'language', 'they', 'eliminated', 'much', 'of', 'the', 'errorprone', 'and', 'timeconsuming', 'firstgeneration', 'programming', 'needed', 'with', 'the', 'earliest', 'computers', 'freeing', 'the', 'programmer', 'from', 'tedium', 'such', 'as', 'remembering', 'numeric', 'codes', 'and', 'calculating', 'addresses', 'they', 'were', 'once', 'widely', 'used', 'for', 'all', 'sorts', 'of', 'programming', 'however', 'by', 'the', '1980s', '1990s', 'on', 'small', 'computers', 'their', 'use', 'had', 'largely', 'been', 'supplanted', 'by', 'highlevel', 'language', 'in', 'the', 'search', 'for', 'improved', 'programming', 'productivity', 'today', 'assembly', 'language', 'is', 'used', 'primarily', 'for', 'direct', 'hardware', 'manipulation', 'access', 'to', 'specialized', 'processor', 'instructions', 'or', 'to', 'address', 'critical', 'performance', 'issues', 'typical', 'uses', 'are', 'device', 'drivers', 'lowlevel', 'embedded', 'systems', 'and', 'realtime', 'systemsnna', 'utility', 'program', 'called', 'an', 'assembler', 'is', 'used', 'to', 'translate', 'assembly', 'language', 'statements', 'into', 'the', 'target', 'computers', 'machine', 'code', 'the', 'assembler', 'performs', 'a', 'more', 'or', 'less', 'isomorphic', 'translation', 'a', 'onetoone', 'mapping', 'from', 'mnemonic', 'statements', 'into', 'machine', 'instructions', 'and', 'data', 'this', 'is', 'in', 'contrast', 'with', 'highlevel', 'language', 'in', 'which', 'a', 'single', 'statement', 'generally', 'results', 'in', 'many', 'machine', 'instructions', 'this', 'is', 'done', 'by', 'one', 'of', 'two', 'means', 'a', 'compiler', 'is', 'used', 'to', 'mostefficiently', 'translate', 'highlevel', 'language', 'statements', 'into', 'machine', 'code', 'executable', 'files', 'an', 'interpreter', 'executes', 'similar', 'statements', 'directly', 'and', 'in', 'its', 'own', 'application', 'environmentnnmany', 'sophisticated', 'assemblers', 'offer', 'additional', 'mechanisms', 'to', 'facilitate', 'program', 'development', 'control', 'the', 'assembly', 'process', 'and', 'aid', 'debugging', 'in', 'particular', 'most', 'modern', 'assemblers', 'although', 'many', 'have', 'been', 'available', 'for', 'more', 'than', '40', 'years', 'already', 'include', 'a', 'macro', 'facility', 'described', 'below', 'and', 'are', 'called', 'macro', 'assemblersnntypically', 'a', 'modern', 'assembler', 'creates', 'object', 'code', 'by', 'translating', 'assembly', 'instruction', 'mnemonics', 'into', 'opcode', 'and', 'by', 'resolving', 'symbolic', 'names', 'for', 'memory', 'locations', 'and', 'other', 'entities', 'the', 'use', 'of', 'symbolic', 'references', 'is', 'a', 'key', 'feature', 'of', 'assemblers', 'saving', 'tedious', 'calculations', 'and', 'manual', 'address', 'updates', 'after', 'program', 'modifications', 'most', 'assemblers', 'also', 'include', 'macro', 'facilities', 'for', 'performing', 'textual', 'substitution—eg', 'to', 'generate', 'common', 'short', 'sequences', 'of', 'instructions', 'to', 'run', 'inline', 'instead', 'of', 'in', 'a', 'subroutinennassemblers', 'are', 'generally', 'simpler', 'to', 'write', 'than', 'compiler', 'for', 'highlevel', 'language', 'and', 'have', 'been', 'available', 'since', 'the', '1950s', 'modern', 'assemblers', 'especially', 'for', 'risc', 'based', 'architectures', 'such', 'as', 'mips', 'sun', 'sparc', 'and', 'hp', 'parisc', 'optimize', 'instruction', 'scheduling', 'to', 'exploit', 'the', 'cpu', 'pipeline', 'efficientlynnmore', 'sophisticated', 'highlevel', 'assembler', 'provide', 'language', 'abstractions', 'such', 'asnnsee', 'language', 'design', 'below', 'for', 'more', 'detailsnnnote', 'that', 'in', 'normal', 'professional', 'usage', 'the', 'term', 'assembler', 'is', 'often', 'used', 'ambiguously', 'it', 'is', 'frequently', 'used', 'to', 'refer', 'to', 'an', 'assembly', 'language', 'itself', 'rather', 'than', 'to', 'the', 'assembler', 'utility', 'thus', 'cpcms', 'was', 'written', 'in', 's360', 'assembler', 'as', 'opposed', 'to', 'asmh', 'was', 'a', 'widelyused', 's370', 'assemblernna', 'program', 'written', 'in', 'assembly', 'language', 'consists', 'of', 'a', 'series', 'of', 'instructionsmnemonics', 'that', 'correspond', 'to', 'a', 'stream', 'of', 'executable', 'instructions', 'when', 'translated', 'by', 'an', 'assembler', 'that', 'can', 'be', 'loaded', 'into', 'memory', 'and', 'executednnfor', 'example', 'an', 'x86ia32', 'processor', 'can', 'execute', 'the', 'following', 'binary', 'instruction', 'as', 'expressed', 'in', 'machine', 'language', 'see', 'x86', 'assembly', 'languagennthe', 'equivalent', 'assembly', 'language', 'representation', 'is', 'easier', 'to', 'remember', 'example', 'in', 'intel', 'syntax', 'more', 'mnemonicnnthis', 'instruction', 'meansnnthe', 'mnemonic', 'mov', 'represents', 'the', 'opcode', '1011', 'which', 'moves', 'the', 'value', 'in', 'the', 'second', 'operand', 'into', 'the', 'register', 'indicated', 'by', 'the', 'first', 'operand', 'the', 'mnemonic', 'was', 'chosen', 'by', 'the', 'instruction', 'set', 'designer', 'to', 'abbreviate', 'move', 'making', 'it', 'easier', 'for', 'the', 'programmer', 'to', 'remember', 'a', 'commaseparated', 'list', 'of', 'arguments', 'or', 'parameters', 'follows', 'the', 'opcode', 'this', 'is', 'a', 'typical', 'assembly', 'language', 'statementnnin', 'practice', 'many', 'programmers', 'drop', 'the', 'word', 'mnemonic', 'and', 'technically', 'incorrectly', 'call', 'mov', 'an', 'opcode', 'when', 'they', 'do', 'this', 'they', 'are', 'referring', 'to', 'the', 'underlying', 'binary', 'code', 'which', 'it', 'represents', 'to', 'put', 'it', 'another', 'way', 'a', 'mnemonic', 'such', 'as', 'mov', 'is', 'not', 'an', 'opcode', 'but', 'as', 'it', 'symbolizes', 'an', 'opcode', 'one', 'might', 'refer', 'to', 'the', 'opcode', 'mov', 'for', 'example', 'when', 'one', 'intends', 'to', 'refer', 'to', 'the', 'binary', 'opcode', 'it', 'symbolizes', 'rather', 'than', 'to', 'the', 'symbolthe', 'mnemonicitself', 'as', 'few', 'modern', 'programmers', 'have', 'need', 'to', 'be', 'mindful', 'of', 'actually', 'what', 'binary', 'patterns', 'are', 'the', 'opcodes', 'for', 'specific', 'instructions', 'the', 'distinction', 'has', 'in', 'practice', 'become', 'a', 'bit', 'blurred', 'among', 'programmers', 'but', 'not', 'among', 'processor', 'designersnntransforming', 'assembly', 'into', 'machine', 'language', 'is', 'accomplished', 'by', 'an', 'assembler', 'and', 'the', 'reverse', 'by', 'a', 'disassembler', 'unlike', 'in', 'highlevel', 'language', 'there', 'is', 'usually', 'a', 'onetoone', 'correspondence', 'between', 'simple', 'assembly', 'statements', 'and', 'machine', 'language', 'instructions', 'however', 'in', 'some', 'cases', 'an', 'assembler', 'may', 'provide', 'pseudoinstructions', 'which', 'expand', 'into', 'several', 'machine', 'language', 'instructions', 'to', 'provide', 'commonly', 'needed', 'functionality', 'for', 'example', 'for', 'a', 'machine', 'that', 'lacks', 'a', 'branch', 'if', 'greater', 'or', 'equal', 'instruction', 'an', 'assembler', 'may', 'provide', 'a', 'pseudoinstruction', 'that', 'expands', 'to', 'the', 'machines', 'set', 'if', 'less', 'than', 'and', 'branch', 'if', 'zero', 'on', 'the', 'result', 'of', 'the', 'set', 'instruction', 'most', 'fullfeatured', 'assemblers', 'also', 'provide', 'a', 'rich', 'macro', 'language', 'discussed', 'below', 'which', 'is', 'used', 'by', 'vendors', 'and', 'programmers', 'to', 'generate', 'more', 'complex', 'code', 'and', 'data', 'sequencesnneach', 'computer', 'architecture', 'and', 'processor', 'architecture', 'has', 'its', 'own', 'machine', 'languageon', 'this', 'level', 'each', 'instruction', 'is', 'simple', 'enough', 'to', 'be', 'executed', 'using', 'a', 'relatively', 'small', 'number', 'of', 'electronic', 'circuits', 'computers', 'differ', 'by', 'the', 'number', 'and', 'type', 'of', 'operations', 'they', 'support', 'for', 'example', 'a', 'new', '64bit', 'machine', 'would', 'have', 'different', 'circuitry', 'from', 'a', '32bit', 'machine', 'they', 'may', 'also', 'have', 'different', 'sizes', 'and', 'numbers', 'of', 'registers', 'and', 'different', 'representations', 'of', 'data', 'types', 'in', 'storage', 'while', 'most', 'generalpurpose', 'computers', 'are', 'able', 'to', 'carry', 'out', 'essentially', 'the', 'same', 'functionality', 'the', 'ways', 'they', 'do', 'so', 'differ', 'the', 'corresponding', 'assembly', 'languages', 'reflect', 'these', 'differencesnnmultiple', 'sets', 'of', 'mnemonic', 'or', 'assemblylanguage', 'syntax', 'may', 'exist', 'for', 'a', 'single', 'instruction', 'set', 'typically', 'instantiated', 'in', 'different', 'assembler', 'programs', 'in', 'these', 'cases', 'the', 'most', 'popular', 'one', 'is', 'usually', 'that', 'supplied', 'by', 'the', 'manufacturer', 'and', 'used', 'in', 'its', 'documentationnninstructions', 'statements', 'in', 'assembly', 'language', 'are', 'generally', 'very', 'simple', 'unlike', 'those', 'in', 'highlevel', 'languages', 'each', 'instruction', 'typically', 'consists', 'of', 'an', 'operation', 'or', 'opcode', 'plus', 'zero', 'or', 'more', 'operands', 'most', 'instructions', 'refer', 'to', 'a', 'single', 'value', 'or', 'a', 'pair', 'of', 'values', 'generally', 'an', 'opcode', 'is', 'a', 'symbolic', 'name', 'for', 'a', 'single', 'executable', 'machine', 'language', 'instruction', 'operands', 'can', 'be', 'either', 'immediate', 'typically', 'one', 'byte', 'values', 'coded', 'in', 'the', 'instruction', 'itself', 'or', 'the', 'addresses', 'of', 'data', 'located', 'elsewhere', 'in', 'storage', 'this', 'is', 'determined', 'by', 'the', 'underlying', 'processor', 'architecture', 'the', 'assembler', 'merely', 'reflects', 'how', 'this', 'architecture', 'worksnnmost', 'modern', 'assemblers', 'also', 'support', 'pseudooperations', 'which', 'are', 'directives', 'obeyed', 'by', 'the', 'assembler', 'at', 'assembly', 'time', 'instead', 'of', 'the', 'cpu', 'at', 'run', 'time', 'for', 'example', 'pseudoops', 'would', 'be', 'used', 'to', 'reserve', 'storage', 'areas', 'and', 'optionally', 'set', 'their', 'initial', 'contents', 'the', 'names', 'of', 'pseudoops', 'often', 'start', 'with', 'a', 'dot', 'to', 'distinguish', 'them', 'from', 'machine', 'instructionsnnsome', 'assemblers', 'also', 'support', 'pseudoinstructions', 'which', 'generate', 'two', 'or', 'more', 'machine', 'instructionsnnsymbolic', 'assemblers', 'allow', 'programmers', 'to', 'associate', 'arbitrary', 'names', 'label', 'or', 'symbols', 'with', 'memory', 'locations', 'usually', 'every', 'constant', 'and', 'variable', 'is', 'given', 'a', 'name', 'so', 'instructions', 'can', 'reference', 'those', 'locations', 'by', 'name', 'thus', 'promoting', 'selfdocumenting', 'code', 'in', 'executable', 'code', 'the', 'name', 'of', 'each', 'subroutine', 'is', 'associated', 'with', 'its', 'entry', 'point', 'so', 'any', 'calls', 'to', 'a', 'subroutine', 'can', 'use', 'its', 'name', 'inside', 'subroutines', 'goto', 'destinations', 'are', 'given', 'labels', 'some', 'assemblers', 'support', 'local', 'symbols', 'which', 'are', 'lexically', 'distinct', 'from', 'normal', 'symbols', 'eg', 'the', 'use', 'of', '10', 'as', 'a', 'goto', 'destinationnnmost', 'assemblers', 'provide', 'flexible', 'symbol', 'management', 'allowing', 'programmers', 'to', 'manage', 'different', 'namespaces', 'automatically', 'calculate', 'offsets', 'within', 'data', 'structures', 'and', 'assign', 'labels', 'that', 'refer', 'to', 'literal', 'values', 'or', 'the', 'result', 'of', 'simple', 'computations', 'performed', 'by', 'the', 'assembler', 'labels', 'can', 'also', 'be', 'used', 'to', 'initialize', 'constants', 'and', 'variables', 'with', 'relocatable', 'addressesnnassembly', 'languages', 'like', 'most', 'other', 'computer', 'languages', 'allow', 'comments', 'to', 'be', 'added', 'to', 'assembly', 'source', 'code', 'that', 'are', 'ignored', 'by', 'the', 'assembler', 'good', 'use', 'of', 'comments', 'is', 'even', 'more', 'important', 'with', 'assembly', 'code', 'than', 'with', 'higherlevel', 'languages', 'as', 'the', 'meaning', 'of', 'a', 'sequence', 'of', 'instructions', 'is', 'harder', 'to', 'decipher', 'from', 'the', 'code', 'itselfnnwise', 'use', 'of', 'these', 'facilities', 'can', 'greatly', 'simplify', 'the', 'problems', 'of', 'coding', 'and', 'maintaining', 'lowlevel', 'code', 'raw', 'assembly', 'source', 'code', 'as', 'generated', 'by', 'compilers', 'or', 'disassemblers', '—', 'code', 'without', 'any', 'comments', 'meaningful', 'symbols', 'or', 'data', 'definitions', '—', 'is', 'quite', 'difficult', 'to', 'read', 'when', 'changes', 'must', 'be', 'madennmany', 'assemblers', 'support', 'macros', 'programmerdefined', 'symbols', 'that', 'stand', 'for', 'some', 'sequence', 'of', 'text', 'lines', 'this', 'sequence', 'of', 'text', 'lines', 'may', 'include', 'a', 'sequence', 'of', 'instructions', 'or', 'a', 'sequence', 'of', 'data', 'storage', 'pseudoops', 'once', 'a', 'macro', 'has', 'been', 'defined', 'using', 'the', 'appropriate', 'pseudoop', 'its', 'name', 'may', 'be', 'used', 'in', 'place', 'of', 'an', 'mnemonic', 'when', 'the', 'assembler', 'processes', 'such', 'a', 'statement', 'it', 'replaces', 'the', 'statement', 'with', 'the', 'text', 'lines', 'associated', 'with', 'that', 'macro', 'then', 'processes', 'them', 'just', 'as', 'though', 'they', 'had', 'appeared', 'in', 'the', 'source', 'code', 'file', 'all', 'along', 'including', 'in', 'better', 'assemblers', 'expansion', 'of', 'any', 'macros', 'appearing', 'in', 'the', 'replacement', 'textnnsince', 'macros', 'can', 'have', 'short', 'names', 'but', 'expand', 'to', 'several', 'or', 'indeed', 'many', 'lines', 'of', 'code', 'they', 'can', 'be', 'used', 'to', 'make', 'assembly', 'language', 'programs', 'appear', 'to', 'be', 'much', 'shorter', 'require', 'less', 'lines', 'of', 'source', 'code', 'from', 'the', 'application', 'programmer', 'as', 'with', 'a', 'higher', 'level', 'language', 'they', 'can', 'also', 'be', 'used', 'to', 'add', 'higher', 'levels', 'of', 'structure', 'to', 'assembly', 'programs', 'optionally', 'introduce', 'embedded', 'debugging', 'code', 'via', 'parameters', 'and', 'other', 'similar', 'featuresnnmany', 'assemblers', 'have', 'builtin', 'macros', 'for', 'system', 'calls', 'and', 'other', 'special', 'code', 'sequencesnnmacro', 'assemblers', 'often', 'allow', 'macros', 'to', 'take', 'parameter', 'some', 'assemblers', 'include', 'quite', 'sophisticated', 'macro', 'languages', 'incorporating', 'such', 'highlevel', 'language', 'elements', 'as', 'optional', 'parameters', 'symbolic', 'variables', 'conditionals', 'string', 'manipulation', 'and', 'arithmetic', 'operations', 'all', 'usable', 'during', 'the', 'execution', 'of', 'a', 'given', 'macros', 'and', 'allowing', 'macros', 'to', 'save', 'context', 'or', 'exchange', 'information', 'thus', 'a', 'macro', 'might', 'generate', 'a', 'large', 'number', 'of', 'assembly', 'language', 'instructions', 'or', 'data', 'definitions', 'based', 'on', 'the', 'macro', 'arguments', 'this', 'could', 'be', 'used', 'to', 'generate', 'recordstyle', 'data', 'structures', 'or', 'unrolled', 'loops', 'for', 'example', 'or', 'could', 'generate', 'entire', 'algorithms', 'based', 'on', 'complex', 'parameters', 'an', 'organization', 'using', 'assembly', 'language', 'that', 'has', 'been', 'heavily', 'extended', 'using', 'such', 'a', 'macro', 'suite', 'can', 'be', 'considered', 'to', 'be', 'working', 'in', 'a', 'higherlevel', 'language', 'since', 'such', 'programmers', 'are', 'not', 'working', 'with', 'a', 'computers', 'lowestlevel', 'conceptual', 'elementsnnmacros', 'were', 'used', 'to', 'customize', 'large', 'scale', 'software', 'systems', 'for', 'specific', 'customers', 'in', 'the', 'mainframe', 'era', 'and', 'were', 'also', 'used', 'by', 'customer', 'personnel', 'to', 'satisfy', 'their', 'employers', 'needs', 'by', 'making', 'specific', 'versions', 'of', 'manufacturer', 'operating', 'systems', 'this', 'was', 'done', 'for', 'example', 'by', 'systems', 'programmers', 'working', 'with', 'ibms', 'conversational', 'monitor', 'systemvirtual', 'machine', 'cmsvm', 'and', 'with', 'ibms', 'real', 'time', 'transaction', 'processing', 'addon', 'customer', 'information', 'control', 'system', 'cicsnnit', 'was', 'also', 'possible', 'to', 'use', 'solely', 'the', 'macro', 'processing', 'capabilities', 'of', 'an', 'assembler', 'to', 'generate', 'code', 'written', 'in', 'completely', 'different', 'languages', 'for', 'example', 'to', 'generate', 'a', 'version', 'of', 'a', 'program', 'in', 'cobol', 'using', 'a', 'pure', 'macro', 'assembler', 'program', 'containing', 'lines', 'of', 'cobol', 'code', 'inside', 'assembly', 'time', 'operators', 'instructing', 'the', 'assembler', 'to', 'generate', 'arbitrary', 'codennthis', 'was', 'because', 'as', 'was', 'realized', 'in', 'the', '1970s', 'the', 'concept', 'of', 'macro', 'processing', 'is', 'independent', 'of', 'the', 'concept', 'of', 'assembly', 'the', 'former', 'being', 'in', 'modern', 'terms', 'more', 'word', 'processing', 'text', 'processing', 'than', 'generating', 'object', 'code', 'the', 'concept', 'of', 'macro', 'processing', 'in', 'fact', 'appeared', 'in', 'and', 'appears', 'in', 'the', 'c', 'programming', 'language', 'which', 'supports', 'preprocessor', 'instructions', 'to', 'set', 'variables', 'and', 'make', 'conditional', 'tests', 'on', 'their', 'values', 'note', 'that', 'unlike', 'certain', 'previous', 'macro', 'processors', 'inside', 'assemblers', 'the', 'c', 'preprocessor', 'was', 'not', 'turingcomplete', 'because', 'it', 'lacked', 'the', 'ability', 'to', 'either', 'loop', 'or', 'go', 'to', 'the', 'latter', 'allowing', 'the', 'programmer', 'to', 'loopnndespite', 'the', 'power', 'of', 'macro', 'processing', 'it', 'fell', 'into', 'disuse', 'in', 'high', 'level', 'languages', 'while', 'remaining', 'a', 'perennial', 'for', 'assemblersnnthis', 'was', 'because', 'many', 'programmers', 'were', 'rather', 'confused', 'by', 'macro', 'parameter', 'substitution', 'and', 'did', 'not', 'disambiguate', 'macro', 'processing', 'from', 'assembly', 'and', 'executionnnmacro', 'parameter', 'substitution', 'is', 'strictly', 'by', 'name', 'at', 'macro', 'processing', 'time', 'the', 'value', 'of', 'a', 'parameter', 'is', 'textually', 'substituted', 'for', 'its', 'name', 'the', 'most', 'famous', 'class', 'of', 'bugs', 'resulting', 'was', 'the', 'use', 'of', 'a', 'parameter', 'that', 'itself', 'was', 'an', 'expression', 'and', 'not', 'a', 'simple', 'name', 'when', 'the', 'macro', 'writer', 'expected', 'a', 'name', 'in', 'the', 'macrothe', 'intention', 'was', 'that', 'the', 'caller', 'would', 'provide', 'the', 'name', 'of', 'a', 'variable', 'and', 'the', 'global', 'variable', 'or', 'constant', 'b', 'would', 'be', 'used', 'to', 'multiply', 'a', 'if', 'foo', 'is', 'called', 'with', 'the', 'parameter', 'ac', 'an', 'unexpected', 'macro', 'expansion', 'occursnnto', 'avoid', 'this', 'users', 'of', 'macro', 'processors', 'learned', 'to', 'religiously', 'parenthesize', 'formal', 'parameters', 'inside', 'macro', 'definitions', 'and', 'callers', 'had', 'to', 'do', 'the', 'same', 'to', 'their', 'actual', 'parametersnnpli', 'and', 'c', 'feature', 'macros', 'but', 'this', 'facility', 'was', 'underused', 'or', 'dangerous', 'when', 'used', 'because', 'they', 'can', 'only', 'manipulate', 'text', 'on', 'the', 'other', 'hand', 'homoiconic', 'languages', 'such', 'as', 'lisp', 'prolog', 'and', 'forth', 'retain', 'the', 'power', 'of', 'assembly', 'language', 'macros', 'because', 'they', 'are', 'able', 'to', 'manipulate', 'their', 'own', 'code', 'as', 'datannsome', 'assemblers', 'have', 'incorporated', 'structured', 'programming', 'elements', 'to', 'encode', 'execution', 'flow', 'the', 'earliest', 'example', 'of', 'this', 'approach', 'was', 'in', 'the', 'concept14', 'macro', 'set', 'developed', 'by', 'marvin', 'zloof', 'at', 'ibms', 'thomas', 'watson', 'research', 'center', 'which', 'extended', 'the', 's370', 'macro', 'assembler', 'with', 'ifelseendif', 'and', 'similar', 'control', 'flow', 'blocks', 'this', 'was', 'a', 'way', 'to', 'reduce', 'or', 'eliminate', 'the', 'use', 'of', 'goto', 'operations', 'in', 'assembly', 'code', 'one', 'of', 'the', 'main', 'factors', 'causing', 'spaghetti', 'code', 'in', 'assembly', 'language', 'this', 'approach', 'was', 'widely', 'accepted', 'in', 'the', 'early', '80s', 'the', 'latter', 'days', 'of', 'largescale', 'assembly', 'language', 'usenna', 'curious', 'design', 'was', 'anatural', 'a', 'streamoriented', 'assembler', 'for', '8080z80', 'processors', 'from', 'whitesmiths', 'ltd', 'developers', 'of', 'the', 'unixlike', 'idris', 'operating', 'system', 'and', 'what', 'was', 'reported', 'to', 'be', 'the', 'first', 'commercial', 'c', 'compiler', 'the', 'language', 'was', 'classified', 'as', 'an', 'assembler', 'because', 'it', 'worked', 'with', 'raw', 'machine', 'elements', 'such', 'as', 'opcodes', 'registers', 'and', 'memory', 'references', 'but', 'it', 'incorporated', 'an', 'expression', 'syntax', 'to', 'indicate', 'execution', 'order', 'parentheses', 'and', 'other', 'special', 'symbols', 'along', 'with', 'blockoriented', 'structured', 'programming', 'constructs', 'controlled', 'the', 'sequence', 'of', 'the', 'generated', 'instructions', 'anatural', 'was', 'built', 'as', 'the', 'object', 'language', 'of', 'a', 'c', 'compiler', 'rather', 'than', 'for', 'handcoding', 'but', 'its', 'logical', 'syntax', 'won', 'some', 'fansnnthere', 'has', 'been', 'little', 'apparent', 'demand', 'for', 'more', 'sophisticated', 'assemblers', 'since', 'the', 'decline', 'of', 'largescale', 'assembly', 'language', 'development', 'in', 'spite', 'of', 'that', 'they', 'are', 'still', 'being', 'developed', 'and', 'applied', 'in', 'cases', 'where', 'resource', 'constraints', 'or', 'peculiarities', 'in', 'the', 'target', 'systems', 'architecture', 'prevent', 'the', 'effective', 'use', 'of', 'higherlevel', 'languagesnnhistorically', 'a', 'large', 'number', 'of', 'programs', 'have', 'been', 'written', 'entirely', 'in', 'assembly', 'language', 'operating', 'systems', 'were', 'almost', 'exclusively', 'written', 'in', 'assembly', 'language', 'until', 'the', 'widespread', 'acceptance', 'of', 'c', 'in', 'the', '1970s', 'and', 'early', '1980s', 'many', 'commercial', 'applications', 'were', 'written', 'in', 'assembly', 'language', 'as', 'well', 'including', 'a', 'large', 'amount', 'of', 'the', 'ibm', 'mainframe', 'software', 'written', 'by', 'large', 'corporations', 'cobol', 'and', 'fortran', 'eventually', 'displaced', 'much', 'of', 'this', 'work', 'although', 'a', 'number', 'of', 'large', 'organizations', 'retained', 'assemblylanguage', 'application', 'infrastructures', 'well', 'into', 'the', '90snnmost', 'early', 'microcomputers', 'relied', 'on', 'handcoded', 'assembly', 'language', 'including', 'most', 'operating', 'systems', 'and', 'large', 'applications', 'this', 'was', 'because', 'these', 'systems', 'had', 'severe', 'resource', 'constraints', 'imposed', 'idiosyncratic', 'memory', 'and', 'display', 'architectures', 'and', 'provided', 'limited', 'buggy', 'system', 'services', 'perhaps', 'more', 'important', 'was', 'the', 'lack', 'of', 'firstclass', 'highlevel', 'language', 'compilers', 'suitable', 'for', 'microcomputer', 'use', 'a', 'psychological', 'factor', 'may', 'have', 'also', 'played', 'a', 'role', 'the', 'first', 'generation', 'of', 'microcomputer', 'programmers', 'retained', 'a', 'hobbyist', 'wires', 'and', 'pliers', 'attitudennin', 'a', 'more', 'commercial', 'context', 'the', 'biggest', 'reasons', 'for', 'using', 'assembly', 'language', 'were', 'size', 'speed', 'and', 'reliability', 'the', 'writers', 'of', 'cardboxplus', 'said', 'simply', 'we', 'use', 'assembler', 'because', 'then', 'all', 'the', 'bugs', 'are', 'ours', 'this', 'held', 'true', 'for', '8bit', 'versions', 'of', 'the', 'program', 'which', 'had', 'no', 'bugs', 'at', 'all', 'but', 'ironically', 'it', 'turned', 'out', 'to', 'be', 'false', 'with', '16', 'bits', 'cardboxplus', '20', 'had', 'to', 'be', 'upgraded', 'to', 'cardboxplus', '21', 'because', 'a', 'bug', 'in', 'microsofts', 'macro', 'assembler', 'caused', 'cardboxplus', 'to', 'index', 'the', 'number', '0', 'differently', 'from', 'the', 'number', '0nntypical', 'examples', 'of', 'large', 'assembly', 'language', 'programs', 'from', 'this', 'time', 'are', 'the', 'msdos', 'operating', 'system', 'the', 'early', 'ibm', 'pc', 'spreadsheet', 'program', 'lotus', '123', 'and', 'almost', 'all', 'popular', 'games', 'for', 'the', 'atari', '800', 'family', 'of', 'home', 'computers', 'even', 'into', 'the', '1990s', 'most', 'console', 'video', 'games', 'were', 'written', 'in', 'assembly', 'including', 'most', 'games', 'for', 'the', 'mega', 'drivegenesis', 'and', 'the', 'super', 'nintendo', 'entertainment', 'system', 'according', 'to', 'some', 'industry', 'insiders', 'the', 'assembly', 'language', 'was', 'the', 'best', 'computer', 'language', 'to', 'use', 'to', 'get', 'the', 'best', 'performance', 'out', 'the', 'sega', 'saturn', 'a', 'console', 'that', 'was', 'notoriously', 'challenging', 'to', 'develop', 'and', 'program', 'games', 'for', 'the', 'popular', 'arcade', 'game', 'nba', 'jam', '1993', 'is', 'another', 'example', 'on', 'the', 'commodore', '64', 'amiga', 'atari', 'st', 'as', 'well', 'as', 'zx', 'spectrum', 'home', 'computers', 'assembler', 'has', 'long', 'been', 'the', 'primary', 'development', 'language', 'this', 'was', 'in', 'large', 'part', 'due', 'to', 'the', 'fact', 'that', 'basic', 'dialects', 'on', 'these', 'systems', 'offered', 'insufficient', 'execution', 'speed', 'as', 'well', 'as', 'insufficient', 'facilities', 'to', 'take', 'full', 'advantage', 'of', 'the', 'available', 'hardware', 'on', 'these', 'systems', 'some', 'systems', 'most', 'notably', 'amiga', 'even', 'have', 'ides', 'with', 'highly', 'advanced', 'debugging', 'and', 'macro', 'facilities', 'such', 'as', 'the', 'freeware', 'asmone', 'assembler', 'comparable', 'to', 'that', 'of', 'microsoft', 'visual', 'studio', 'facilities', 'asmone', 'predates', 'microsoft', 'visual', 'studionnthe', 'assembler', 'for', 'the', 'vic20', 'was', 'written', 'by', 'don', 'french', 'and', 'published', 'by', 'french', 'silk', 'at', '1639', 'bytes', 'in', 'length', 'its', 'author', 'believes', 'it', 'is', 'the', 'smallest', 'symbolic', 'assembler', 'ever', 'written', 'the', 'assembler', 'supported', 'the', 'usual', 'symbolic', 'addressing', 'and', 'the', 'definition', 'of', 'character', 'string', 'or', 'hex', 'strings', 'it', 'also', 'allowed', 'address', 'expressions', 'which', 'could', 'be', 'combined', 'with', 'addition', 'subtraction', 'multiplication', 'division', 'logical', 'and', 'logical', 'or', 'and', 'exponentiation', 'operatorsnnthere', 'have', 'always', 'been', 'debates', 'over', 'the', 'usefulness', 'and', 'performance', 'of', 'assembly', 'language', 'relative', 'to', 'highlevel', 'languages', 'assembly', 'language', 'has', 'specific', 'niche', 'uses', 'where', 'it', 'is', 'important', 'see', 'below', 'but', 'in', 'general', 'modern', 'optimizing', 'compiler', 'are', 'claimed', 'to', 'render', 'highlevel', 'languages', 'into', 'code', 'that', 'can', 'run', 'as', 'fast', 'as', 'handwritten', 'assembly', 'despite', 'some', 'counterexamples', 'that', 'can', 'be', 'created', 'the', 'complexity', 'of', 'modern', 'processors', 'makes', 'effective', 'handoptimization', 'increasingly', 'difficult', 'moreover', 'and', 'to', 'the', 'dismay', 'of', 'efficiency', 'lovers', 'increasing', 'processor', 'performance', 'has', 'meant', 'that', 'most', 'cpus', 'sit', 'idle', 'most', 'of', 'the', 'time', 'with', 'delays', 'caused', 'by', 'predictable', 'bottlenecks', 'such', 'as', 'io', 'operations', 'and', 'paging', 'this', 'has', 'made', 'raw', 'code', 'execution', 'speed', 'a', 'nonissue', 'for', 'most', 'programmersnnhere', 'are', 'some', 'situations', 'in', 'which', 'practitioners', 'might', 'choose', 'to', 'use', 'assembly', 'languagennnevertheless', 'assembly', 'language', 'is', 'still', 'taught', 'in', 'most', 'computer', 'science', 'and', 'electronic', 'engineering', 'programs', 'although', 'few', 'programmers', 'today', 'regularly', 'work', 'with', 'assembly', 'language', 'as', 'a', 'tool', 'the', 'underlying', 'concepts', 'remain', 'very', 'important', 'such', 'fundamental', 'topics', 'as', 'binary', 'arithmetic', 'memory', 'allocation', 'stack', 'processing', 'character', 'set', 'encoding', 'interrupt', 'processing', 'and', 'compiler', 'design', 'would', 'be', 'hard', 'to', 'study', 'in', 'detail', 'without', 'a', 'grasp', 'of', 'how', 'a', 'computer', 'operates', 'at', 'the', 'hardware', 'level', 'since', 'a', 'computers', 'behavior', 'is', 'fundamentally', 'defined', 'by', 'its', 'instruction', 'set', 'the', 'logical', 'way', 'to', 'learn', 'such', 'concepts', 'is', 'to', 'study', 'an', 'assembly', 'language', 'most', 'modern', 'computers', 'have', 'similar', 'instruction', 'sets', 'therefore', 'studying', 'a', 'single', 'assembly', 'language', 'is', 'sufficient', 'to', 'learn', 'i', 'the', 'basic', 'concepts', 'ii', 'to', 'recognize', 'situations', 'where', 'the', 'use', 'of', 'assembly', 'language', 'might', 'be', 'appropriate', 'and', 'iii', 'to', 'see', 'how', 'efficient', 'executable', 'code', 'can', 'be', 'created', 'from', 'highlevel', 'languagesnnhardcoded', 'assembly', 'language', 'is', 'typically', 'used', 'in', 'a', 'systems', 'boot', 'rom', 'bios', 'on', 'ibmcompatible', 'pc', 'systems', 'this', 'lowlevel', 'code', 'is', 'used', 'among', 'other', 'things', 'to', 'initialize', 'and', 'test', 'the', 'system', 'hardware', 'prior', 'to', 'booting', 'the', 'os', 'and', 'is', 'stored', 'in', 'rom', 'once', 'a', 'certain', 'level', 'of', 'hardware', 'initialization', 'has', 'taken', 'place', 'execution', 'transfers', 'to', 'other', 'code', 'typically', 'written', 'in', 'higher', 'level', 'languages', 'but', 'the', 'code', 'running', 'immediately', 'after', 'power', 'is', 'applied', 'is', 'usually', 'written', 'in', 'assembly', 'language', 'the', 'same', 'is', 'true', 'of', 'most', 'boot', 'loadernnmany', 'compilers', 'render', 'highlevel', 'languages', 'into', 'assembly', 'first', 'before', 'fully', 'compiling', 'allowing', 'the', 'assembly', 'code', 'to', 'be', 'viewed', 'for', 'debug', 'and', 'optimization', 'purposes', 'relatively', 'lowlevel', 'languages', 'such', 'as', 'c', 'often', 'provide', 'special', 'syntax', 'to', 'embed', 'assembly', 'language', 'directly', 'in', 'the', 'source', 'code', 'programs', 'using', 'such', 'facilities', 'such', 'as', 'the', 'linux', 'kernel', 'can', 'then', 'construct', 'abstractions', 'utilizing', 'different', 'assembly', 'language', 'on', 'each', 'hardware', 'platform', 'the', 'systems', 'portable', 'code', 'can', 'then', 'utilize', 'these', 'processorspecific', 'components', 'through', 'a', 'uniform', 'interfacennassembly', 'language', 'is', 'also', 'valuable', 'in', 'reverse', 'engineering', 'since', 'many', 'programs', 'are', 'distributed', 'only', 'in', 'machine', 'code', 'form', 'and', 'machine', 'code', 'is', 'usually', 'easy', 'to', 'translate', 'into', 'assembly', 'language', 'and', 'carefully', 'examine', 'in', 'this', 'form', 'but', 'very', 'difficult', 'to', 'translate', 'into', 'a', 'higherlevel', 'language', 'tools', 'such', 'as', 'the', 'interactive', 'disassembler', 'make', 'extensive', 'use', 'of', 'disassembly', 'for', 'such', 'a', 'purposenna', 'particular', 'niche', 'that', 'makes', 'use', 'of', 'assembly', 'language', 'is', 'the', 'demoscene', 'certain', 'competitions', 'require', 'the', 'contestants', 'to', 'restrict', 'their', 'creations', 'to', 'a', 'very', 'small', 'size', 'eg', '256b', '1kb', '4kb', 'or', '64', 'kb', 'and', 'assembly', 'language', 'is', 'the', 'language', 'of', 'choice', 'to', 'achieve', 'this', 'goal', 'when', 'resources', 'particularly', 'cpuprocessing', 'constrained', 'systems', 'like', 'the', 'earlier', 'amiga', 'models', 'and', 'the', 'commodore', '64', 'are', 'a', 'concern', 'assembler', 'coding', 'is', 'a', 'must', 'optimized', 'assembler', 'code', 'is', 'written', 'by', 'hand', 'and', 'instructions', 'are', 'sequenced', 'manually', 'by', 'the', 'coders', 'in', 'an', 'attempt', 'to', 'minimize', 'the', 'number', 'of', 'cpu', 'cycles', 'used', 'the', 'cpu', 'constraints', 'are', 'so', 'great', 'that', 'every', 'cpu', 'cycle', 'counts', 'however', 'using', 'such', 'techniques', 'has', 'enabled', 'systems', 'like', 'the', 'commodore', '64', 'to', 'produce', 'realtime', '3d', 'graphics', 'with', 'advanced', 'effects', 'a', 'feat', 'which', 'might', 'be', 'considered', 'unlikely', 'or', 'even', 'impossible', 'for', 'a', 'system', 'with', 'a', '099mhz', 'processornnfor', 'any', 'given', 'personal', 'computer', 'mainframe', 'embedded', 'system', 'and', 'game', 'console', 'both', 'past', 'and', 'present', 'at', 'least', 'onepossibly', 'dozensof', 'assemblers', 'have', 'been', 'written', 'for', 'some', 'examples', 'see', 'the', 'list', 'of', 'assemblersnnon', 'unix', 'systems', 'the', 'assembler', 'is', 'traditionally', 'called', 'as', 'although', 'it', 'is', 'not', 'a', 'single', 'body', 'of', 'code', 'being', 'typically', 'written', 'anew', 'for', 'each', 'port', 'a', 'number', 'of', 'unix', 'variants', 'use', 'gasnnwithin', 'processor', 'groups', 'each', 'assembler', 'has', 'its', 'own', 'dialect', 'sometimes', 'some', 'assemblers', 'can', 'read', 'another', 'assemblers', 'dialect', 'for', 'example', 'tasm', 'can', 'read', 'old', 'masm', 'code', 'but', 'not', 'the', 'reverse', 'fasm', 'and', 'nasm', 'have', 'similar', 'syntax', 'but', 'each', 'support', 'different', 'macros', 'that', 'could', 'make', 'them', 'difficult', 'to', 'translate', 'to', 'each', 'other', 'the', 'basics', 'are', 'all', 'the', 'same', 'but', 'the', 'advanced', 'features', 'will', 'differnnalso', 'assembly', 'can', 'sometimes', 'be', 'portable', 'across', 'different', 'operating', 'systems', 'on', 'the', 'same', 'type', 'of', 'cpu', 'calling', 'convention', 'between', 'operating', 'systems', 'often', 'differ', 'slightly', 'or', 'not', 'at', 'all', 'and', 'with', 'care', 'it', 'is', 'possible', 'to', 'gain', 'some', 'portability', 'in', 'assembly', 'language', 'usually', 'by', 'linking', 'with', 'a', 'c', 'library', 'that', 'does', 'not', 'change', 'between', 'operating', 'systemsnnfor', 'example', 'many', 'things', 'in', 'libc', 'depend', 'on', 'the', 'preprocessor', 'to', 'do', 'osspecific', 'cspecific', 'things', 'to', 'the', 'program', 'before', 'compiling', 'in', 'fact', 'some', 'functions', 'and', 'symbols', 'are', 'not', 'even', 'guaranteed', 'to', 'exist', 'outside', 'of', 'the', 'preprocessor', 'worse', 'the', 'size', 'and', 'field', 'order', 'of', 'structs', 'as', 'well', 'as', 'the', 'size', 'of', 'certain', 'typedef', 'such', 'as', 'offt', 'are', 'entirely', 'unavailable', 'in', 'assembly', 'language', 'without', 'help', 'from', 'a', 'configure', 'script', 'and', 'differ', 'even', 'between', 'versions', 'of', 'linux', 'making', 'it', 'impossible', 'to', 'portably', 'call', 'functions', 'in', 'libc', 'other', 'than', 'ones', 'that', 'only', 'take', 'simple', 'integers', 'and', 'pointers', 'as', 'parameters', 'to', 'address', 'this', 'issue', 'fasmlib', 'project', 'provides', 'a', 'portable', 'assembly', 'library', 'for', 'win32', 'and', 'linux', 'platforms', 'but', 'it', 'is', 'yet', 'very', 'incompletennsome', 'higher', 'level', 'computer', 'languages', 'such', 'as', 'c', 'and', 'borland', 'pascal', 'support', 'inline', 'assembly', 'where', 'relatively', 'brief', 'sections', 'of', 'assembly', 'code', 'can', 'be', 'embedded', 'into', 'the', 'high', 'level', 'language', 'code', 'the', 'forth', 'programming', 'language', 'commonly', 'contains', 'an', 'assembler', 'used', 'in', 'code', 'wordsnnmany', 'people', 'use', 'an', 'emulator', 'to', 'debug', 'assemblylanguage', 'programsnnexample', 'of', 'a', 'selection', 'of', 'instructions', 'for', 'a', 'virtual', 'computer', 'with', 'thecorresponding', 'address', 'in', 'memory', 'where', 'each', 'instruction', 'will', 'be', 'placed', 'these', 'addresses', 'are', 'not', 'static', 'see', 'memory', 'managementaccompanying', 'each', 'instruction', 'is', 'the', 'generated', 'by', 'the', 'assembler', 'object', 'code', 'that', 'coincides', 'with', 'the', 'virtual', 'computers', 'architecture', 'or', 'isannassembly', 'languageassemblernn'])]\n"
     ]
    }
   ],
   "source": [
    "query = 'machine'\n",
    "\n",
    "doc = top_document(query, term_frequencies)\n",
    "print(doc.collect())"
   ]
  }
 ],
 "metadata": {
  "colab": {
   "default_view": {},
   "name": "Spark Project Assignment.ipynb",
   "provenance": [
    {
     "file_id": "1ynYAlO3MZLiZoIJq-mU8mCKRhN1Znxxd",
     "timestamp": 1529350662875
    },
    {
     "file_id": "1WkgmnBd3wTIW5DR1jvokNlfnCQNrfR9l",
     "timestamp": 1528979233025
    },
    {
     "file_id": "1oJCI_YSdpHmHwcpGYmnB5c-LBXh50MHM",
     "timestamp": 1528924839108
    },
    {
     "file_id": "15VZIkdnCuuYPwgQYuf958E09sP4lTISb",
     "timestamp": 1528642554887
    },
    {
     "file_id": "1ze4oqASRYRH4sM47GcSEvsIy9HlVxi6p",
     "timestamp": 1528579590698
    },
    {
     "file_id": "1-EV69_DVCzbpMWLiPYHSroeL91624q7j",
     "timestamp": 1528555981083
    },
    {
     "file_id": "1O-exHskPOjgEs1Hrm7utpkHJ-bLmWxbS",
     "timestamp": 1528507363505
    }
   ],
   "version": "0.3.2",
   "views": {}
  },
  "kernelspec": {
   "display_name": "Python 3",
   "language": "python",
   "name": "python3"
  },
  "language_info": {
   "codemirror_mode": {
    "name": "ipython",
    "version": 3
   },
   "file_extension": ".py",
   "mimetype": "text/x-python",
   "name": "python",
   "nbconvert_exporter": "python",
   "pygments_lexer": "ipython3",
   "version": "3.6.5"
  }
 },
 "nbformat": 4,
 "nbformat_minor": 1
}
