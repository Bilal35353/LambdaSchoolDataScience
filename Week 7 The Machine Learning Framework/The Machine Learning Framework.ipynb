{
  "nbformat": 4,
  "nbformat_minor": 0,
  "metadata": {
    "colab": {
      "name": "The Machine Learning Framework",
      "version": "0.3.2",
      "views": {},
      "default_view": {},
      "provenance": [
        {
          "file_id": "1kn-GeTyCqx5uZauPfTpqnWne-TsN9o4G",
          "timestamp": 1526485473508
        }
      ]
    },
    "kernelspec": {
      "name": "python3",
      "display_name": "Python 3"
    }
  },
  "cells": [
    {
      "metadata": {
        "id": "8UORNq1nmNgV",
        "colab_type": "text"
      },
      "cell_type": "markdown",
      "source": [
        "# The Machine Learning Framework:\n",
        "\n",
        "By the end of this assignment, I hope you begin to feel like a real data scientist. \n",
        "\n",
        "For your assignment I have obtained a dataset of 3333 records of cell phone user data. Your mission -should you choose to accept it- is to train a model that can predict whether or not a user \"churns\" -cancels their plan at the end of the month. \n",
        "\n",
        "The purpose of this assignment is for you to familiarize yourself with what we call **The Machine Learning Framework**:\n",
        "\n",
        "![The Machine Learning Framework](http://www.ryanleeallred.com/wp-content/uploads/2018/05/machine-learning-framework-1.png)\n",
        "\n",
        "This will be one of your first opportunities to go from A-Z on a project. What's exciting about this assignment is that you are free to do whatever you think will get you the best performing classifier using the Machine Learning Framework as a guide. \n",
        "\n",
        "What is also exciting about this assignment is that we will be using a private Kaggle competition to score your models!"
      ]
    },
    {
      "metadata": {
        "id": "i_eoSXCjNT2w",
        "colab_type": "text"
      },
      "cell_type": "markdown",
      "source": [
        "## The Process: \n",
        "\n",
        "**You shouldn't just go through the cycle pictured above just once.**\n",
        "\n",
        "Start off by doing what seems like the *bare minimum* in order to train your classifier and make predictions that are slightly better than random. As you explore the data, make a note of ways that you can improve your model. Then, after you have made your first-pass predictions, prioritize your list of improvements based on their difficulty and estimated value. Each time you make an improvement, re-train and re-validate your model to see if your changes have truly made your classifier better. \n",
        "\n",
        "As you go through this cycle of improving your data/model and validating your improvements, your predictions will get better and better until you simply run out of time to make more improvements.  \n"
      ]
    },
    {
      "metadata": {
        "id": "h1xxJyqYn9Hz",
        "colab_type": "text"
      },
      "cell_type": "markdown",
      "source": [
        "## Business Understanding\n",
        "\n",
        "Gaining domain knowledge and a business understanding about a problem is extremely useful. It wil help you communicate your findings to stakeholders and give you insights about the data exploration process.\n",
        "\n",
        "[What is churn analysis?](https://www.datascience.com/blog/what-is-a-churn-analysis-and-why-is-it-valuable-for-business)\n",
        "\n",
        "[The importance of predicting customer churn ](https://www.optimove.com/learning-center/customer-churn-prediction-and-prevention)"
      ]
    },
    {
      "metadata": {
        "id": "0qdSrKas4Sbn",
        "colab_type": "text"
      },
      "cell_type": "markdown",
      "source": [
        "## The Data:\n",
        "\n",
        "You will have access to a randomly selected 66.66% of the data for your training dataset. This will have all of the columns **including** whether or not the customer churned. The other 33.33% will be in the test dataset **without** any information about the customer churn. You will run experiments on the training dataset, but ultimately will be required to make predictions and submissions to our private Kaggle Leaderboard using the test dataset.\n",
        "\n",
        "## [Access the data and the Kaggle leaderboard here](https://www.kaggle.com/t/148ead80810e46ae8383517a543756dd)\n",
        "\n",
        "**You are going to need to create an account on Kaggle if you don't already have one.**"
      ]
    },
    {
      "metadata": {
        "id": "OFq0XUvKdJp6",
        "colab_type": "code",
        "colab": {
          "autoexec": {
            "startup": false,
            "wait_interval": 0
          }
        }
      },
      "cell_type": "code",
      "source": [
        "import numpy as np\n",
        "import pandas as pd\n",
        "import matplotlib.pyplot as plt\n",
        "import seaborn as sns"
      ],
      "execution_count": 0,
      "outputs": []
    },
    {
      "metadata": {
        "id": "mKy5LVAslzoo",
        "colab_type": "code",
        "colab": {
          "autoexec": {
            "startup": false,
            "wait_interval": 0
          },
          "base_uri": "https://localhost:8080/",
          "height": 328
        },
        "outputId": "ed04af21-49c3-45dc-ca5b-b99e6583420f",
        "executionInfo": {
          "status": "ok",
          "timestamp": 1526601469288,
          "user_tz": 420,
          "elapsed": 685,
          "user": {
            "displayName": "Ray Heberer",
            "photoUrl": "//lh4.googleusercontent.com/-BMlr5I5Dhow/AAAAAAAAAAI/AAAAAAAAABc/XW4PF5A8K2Q/s50-c-k-no/photo.jpg",
            "userId": "116545933704048584401"
          }
        }
      },
      "cell_type": "code",
      "source": [
        "train_raw = pd.read_csv('https://raw.githubusercontent.com/ryanleeallred/churn-data/master/train.csv')\n",
        "test_raw = pd.read_csv('https://raw.githubusercontent.com/ryanleeallred/churn-data/master/test.csv')\n",
        "submit_raw = pd.read_csv('https://raw.githubusercontent.com/ryanleeallred/churn-data/master/sampleSubmission.csv')\n",
        "\n",
        "train_raw.head()"
      ],
      "execution_count": 196,
      "outputs": [
        {
          "output_type": "execute_result",
          "data": {
            "text/html": [
              "<div>\n",
              "<style scoped>\n",
              "    .dataframe tbody tr th:only-of-type {\n",
              "        vertical-align: middle;\n",
              "    }\n",
              "\n",
              "    .dataframe tbody tr th {\n",
              "        vertical-align: top;\n",
              "    }\n",
              "\n",
              "    .dataframe thead th {\n",
              "        text-align: right;\n",
              "    }\n",
              "</style>\n",
              "<table border=\"1\" class=\"dataframe\">\n",
              "  <thead>\n",
              "    <tr style=\"text-align: right;\">\n",
              "      <th></th>\n",
              "      <th>id</th>\n",
              "      <th>state</th>\n",
              "      <th>account_length</th>\n",
              "      <th>area_code</th>\n",
              "      <th>phone</th>\n",
              "      <th>international_plan</th>\n",
              "      <th>vmail_plan</th>\n",
              "      <th>vmail_message</th>\n",
              "      <th>day_mins</th>\n",
              "      <th>day_calls</th>\n",
              "      <th>...</th>\n",
              "      <th>eve_calls</th>\n",
              "      <th>eve_charge</th>\n",
              "      <th>night_mins</th>\n",
              "      <th>night_calls</th>\n",
              "      <th>night_charge</th>\n",
              "      <th>intl_mins</th>\n",
              "      <th>intl_calls</th>\n",
              "      <th>intl_charge</th>\n",
              "      <th>custserv_calls</th>\n",
              "      <th>churn</th>\n",
              "    </tr>\n",
              "  </thead>\n",
              "  <tbody>\n",
              "    <tr>\n",
              "      <th>0</th>\n",
              "      <td>3200</td>\n",
              "      <td>CT</td>\n",
              "      <td>100</td>\n",
              "      <td>510</td>\n",
              "      <td>416-1536</td>\n",
              "      <td>yes</td>\n",
              "      <td>no</td>\n",
              "      <td>0</td>\n",
              "      <td>107.2</td>\n",
              "      <td>98</td>\n",
              "      <td>...</td>\n",
              "      <td>122</td>\n",
              "      <td>7.38</td>\n",
              "      <td>156.2</td>\n",
              "      <td>117</td>\n",
              "      <td>7.03</td>\n",
              "      <td>9.7</td>\n",
              "      <td>4</td>\n",
              "      <td>2.62</td>\n",
              "      <td>1</td>\n",
              "      <td>0</td>\n",
              "    </tr>\n",
              "    <tr>\n",
              "      <th>1</th>\n",
              "      <td>2129</td>\n",
              "      <td>CT</td>\n",
              "      <td>146</td>\n",
              "      <td>408</td>\n",
              "      <td>380-3329</td>\n",
              "      <td>no</td>\n",
              "      <td>yes</td>\n",
              "      <td>23</td>\n",
              "      <td>149.6</td>\n",
              "      <td>96</td>\n",
              "      <td>...</td>\n",
              "      <td>124</td>\n",
              "      <td>20.38</td>\n",
              "      <td>293.5</td>\n",
              "      <td>135</td>\n",
              "      <td>13.21</td>\n",
              "      <td>7.4</td>\n",
              "      <td>4</td>\n",
              "      <td>2</td>\n",
              "      <td>2</td>\n",
              "      <td>0</td>\n",
              "    </tr>\n",
              "    <tr>\n",
              "      <th>2</th>\n",
              "      <td>598</td>\n",
              "      <td>AZ</td>\n",
              "      <td>84</td>\n",
              "      <td>415</td>\n",
              "      <td>341-2360</td>\n",
              "      <td>no</td>\n",
              "      <td>no</td>\n",
              "      <td>0</td>\n",
              "      <td>159.0</td>\n",
              "      <td>80</td>\n",
              "      <td>...</td>\n",
              "      <td>128</td>\n",
              "      <td>14.27</td>\n",
              "      <td>167.6</td>\n",
              "      <td>101</td>\n",
              "      <td>7.54</td>\n",
              "      <td>12.3</td>\n",
              "      <td>5</td>\n",
              "      <td>3.32</td>\n",
              "      <td>1</td>\n",
              "      <td>0</td>\n",
              "    </tr>\n",
              "    <tr>\n",
              "      <th>3</th>\n",
              "      <td>2507</td>\n",
              "      <td>VT</td>\n",
              "      <td>43</td>\n",
              "      <td>408</td>\n",
              "      <td>331-8713</td>\n",
              "      <td>no</td>\n",
              "      <td>no</td>\n",
              "      <td>0</td>\n",
              "      <td>135.8</td>\n",
              "      <td>125</td>\n",
              "      <td>...</td>\n",
              "      <td>88</td>\n",
              "      <td>13.87</td>\n",
              "      <td>229.8</td>\n",
              "      <td>106</td>\n",
              "      <td>10.34</td>\n",
              "      <td>12.6</td>\n",
              "      <td>?</td>\n",
              "      <td>3.4</td>\n",
              "      <td>0</td>\n",
              "      <td>0</td>\n",
              "    </tr>\n",
              "    <tr>\n",
              "      <th>4</th>\n",
              "      <td>1248</td>\n",
              "      <td>PA</td>\n",
              "      <td>101</td>\n",
              "      <td>415</td>\n",
              "      <td>368-2074</td>\n",
              "      <td>?</td>\n",
              "      <td>no</td>\n",
              "      <td>0</td>\n",
              "      <td>193.7</td>\n",
              "      <td>108</td>\n",
              "      <td>...</td>\n",
              "      <td>?</td>\n",
              "      <td>15.86</td>\n",
              "      <td>223.0</td>\n",
              "      <td>100</td>\n",
              "      <td>?</td>\n",
              "      <td>11.6</td>\n",
              "      <td>8</td>\n",
              "      <td>3.13</td>\n",
              "      <td>0</td>\n",
              "      <td>0</td>\n",
              "    </tr>\n",
              "  </tbody>\n",
              "</table>\n",
              "<p>5 rows × 22 columns</p>\n",
              "</div>"
            ],
            "text/plain": [
              "     id state  account_length area_code     phone international_plan  \\\n",
              "0  3200    CT             100       510  416-1536                yes   \n",
              "1  2129    CT             146       408  380-3329                 no   \n",
              "2   598    AZ              84       415  341-2360                 no   \n",
              "3  2507    VT              43       408  331-8713                 no   \n",
              "4  1248    PA             101       415  368-2074                  ?   \n",
              "\n",
              "  vmail_plan  vmail_message  day_mins  day_calls  ...  eve_calls eve_charge  \\\n",
              "0         no              0     107.2         98  ...        122       7.38   \n",
              "1        yes             23     149.6         96  ...        124      20.38   \n",
              "2         no              0     159.0         80  ...        128      14.27   \n",
              "3         no              0     135.8        125  ...         88      13.87   \n",
              "4         no              0     193.7        108  ...          ?      15.86   \n",
              "\n",
              "  night_mins  night_calls  night_charge  intl_mins intl_calls  intl_charge  \\\n",
              "0      156.2          117          7.03        9.7          4         2.62   \n",
              "1      293.5          135         13.21        7.4          4            2   \n",
              "2      167.6          101          7.54       12.3          5         3.32   \n",
              "3      229.8          106         10.34       12.6          ?          3.4   \n",
              "4      223.0          100             ?       11.6          8         3.13   \n",
              "\n",
              "  custserv_calls churn  \n",
              "0              1     0  \n",
              "1              2     0  \n",
              "2              1     0  \n",
              "3              0     0  \n",
              "4              0     0  \n",
              "\n",
              "[5 rows x 22 columns]"
            ]
          },
          "metadata": {
            "tags": []
          },
          "execution_count": 196
        }
      ]
    },
    {
      "metadata": {
        "id": "sAU9YwvnoG4g",
        "colab_type": "text"
      },
      "cell_type": "markdown",
      "source": [
        "## Data Preparation\n",
        "\n",
        "You will probably go back and forth between data preparation and data understanding. Some of the data you won't be able to explore until it is cleaned, and vice versa.\n",
        "\n",
        "Real world data is messy, and this dataset is no exception. Start off by identifying the features that seem useful, and work on cleaning/preparing those columns first. Remember that you don't have to use every column of a dataset when you are fitting your model."
      ]
    },
    {
      "metadata": {
        "id": "WjtByVXxm1Rz",
        "colab_type": "text"
      },
      "cell_type": "markdown",
      "source": [
        "### Missing Values\n",
        "\n",
        "To fill missing values, I will use the most frequent category for the categorical variables (e.g. `international plan`). For the missing numeric values, I will calculate the average relationship between minutes, calls, and charge, and fill accordingly on a case-by-case basis."
      ]
    },
    {
      "metadata": {
        "id": "1V96YTQYNlIF",
        "colab_type": "code",
        "colab": {
          "autoexec": {
            "startup": false,
            "wait_interval": 0
          }
        }
      },
      "cell_type": "code",
      "source": [
        "categorical_features = ['state', 'area_code', 'international_plan', 'vmail_plan']\n",
        "integer_features = ['account_length', 'day_calls', 'eve_calls', 'night_calls', 'intl_calls', 'custserv_calls']\n",
        "continuous_features = ['day_mins', 'day_charge', 'eve_mins', 'eve_charge', \n",
        "                       'night_mins', 'night_charge', 'intl_mins', 'intl_charge']\n",
        "\n",
        "churn = train_raw[['churn']]\n",
        "train = train_raw.drop('churn', axis=1).replace('?', np.nan)\n",
        "\n",
        "for feature in categorical_features:\n",
        "    train[feature] = train[feature].fillna(train[feature].mode()[0])\n",
        "\n",
        "# some numeric features are actually strings, or some other non-numeric data type\n",
        "for feature in integer_features+continuous_features:\n",
        "    train[feature] = train[feature].astype(np.float64)"
      ],
      "execution_count": 0,
      "outputs": []
    },
    {
      "metadata": {
        "id": "vEW53cF5srUY",
        "colab_type": "code",
        "colab": {
          "autoexec": {
            "startup": false,
            "wait_interval": 0
          },
          "base_uri": "https://localhost:8080/",
          "height": 118
        },
        "outputId": "c7d1363d-d973-4bca-8a57-66595693dfe4",
        "executionInfo": {
          "status": "ok",
          "timestamp": 1526601470338,
          "user_tz": 420,
          "elapsed": 291,
          "user": {
            "displayName": "Ray Heberer",
            "photoUrl": "//lh4.googleusercontent.com/-BMlr5I5Dhow/AAAAAAAAAAI/AAAAAAAAABc/XW4PF5A8K2Q/s50-c-k-no/photo.jpg",
            "userId": "116545933704048584401"
          }
        }
      },
      "cell_type": "code",
      "source": [
        "train['day_charge'].iloc[:5] / train['day_mins'][:5]"
      ],
      "execution_count": 198,
      "outputs": [
        {
          "output_type": "execute_result",
          "data": {
            "text/plain": [
              "0    0.169963\n",
              "1    0.169987\n",
              "2    0.170000\n",
              "3    0.170029\n",
              "4    0.170005\n",
              "dtype: float64"
            ]
          },
          "metadata": {
            "tags": []
          },
          "execution_count": 198
        }
      ]
    },
    {
      "metadata": {
        "id": "bW4KNdi1uo1n",
        "colab_type": "code",
        "colab": {
          "autoexec": {
            "startup": false,
            "wait_interval": 0
          },
          "base_uri": "https://localhost:8080/",
          "height": 118
        },
        "outputId": "0eecc00c-e593-453a-aae4-a8dfadaf65b4",
        "executionInfo": {
          "status": "ok",
          "timestamp": 1526601470977,
          "user_tz": 420,
          "elapsed": 332,
          "user": {
            "displayName": "Ray Heberer",
            "photoUrl": "//lh4.googleusercontent.com/-BMlr5I5Dhow/AAAAAAAAAAI/AAAAAAAAABc/XW4PF5A8K2Q/s50-c-k-no/photo.jpg",
            "userId": "116545933704048584401"
          }
        }
      },
      "cell_type": "code",
      "source": [
        "train['intl_charge'].iloc[:5] / train['intl_mins'][:5]"
      ],
      "execution_count": 199,
      "outputs": [
        {
          "output_type": "execute_result",
          "data": {
            "text/plain": [
              "0    0.270103\n",
              "1    0.270270\n",
              "2    0.269919\n",
              "3    0.269841\n",
              "4    0.269828\n",
              "dtype: float64"
            ]
          },
          "metadata": {
            "tags": []
          },
          "execution_count": 199
        }
      ]
    },
    {
      "metadata": {
        "id": "wgWlADRGs8uf",
        "colab_type": "text"
      },
      "cell_type": "markdown",
      "source": [
        "It seems there is a relatively stable relationship between minutes are charge. I will check for the average minutes per call, and then use this data to fill in my missing numeric values."
      ]
    },
    {
      "metadata": {
        "id": "zfw66QEotPuJ",
        "colab_type": "code",
        "colab": {
          "autoexec": {
            "startup": false,
            "wait_interval": 0
          }
        }
      },
      "cell_type": "code",
      "source": [
        "day_charge_per_min = np.mean(train['day_charge'] / train['day_mins'])\n",
        "eve_charge_per_min = np.mean(train['eve_charge'] / train['eve_mins'])\n",
        "night_charge_per_min = np.mean(train['night_charge'] / train['night_mins'])\n",
        "intl_charge_per_min = np.mean(train['intl_charge'] / train['intl_mins'])\n",
        "\n",
        "charge_min_ratios = [day_charge_per_min, eve_charge_per_min, night_charge_per_min, intl_charge_per_min]\n",
        "min_charge_ratios = [1/r for r in charge_min_ratios]\n",
        "\n",
        "day_calls_per_min = int(np.mean(train['day_calls'] / train['day_mins']))\n",
        "eve_calls_per_min = int(np.mean(train['eve_calls'] / train['eve_mins']))\n",
        "night_calls_per_min = int(np.mean(train['night_calls'] / train['night_mins']))\n",
        "intl_calls_per_min = int(np.mean(train['intl_calls'] / train['intl_mins']))\n",
        "\n",
        "calls_min_ratios = [day_calls_per_min, eve_calls_per_min, night_calls_per_min, intl_calls_per_min]"
      ],
      "execution_count": 0,
      "outputs": []
    },
    {
      "metadata": {
        "id": "ziFYV9PmvGUX",
        "colab_type": "code",
        "colab": {
          "autoexec": {
            "startup": false,
            "wait_interval": 0
          },
          "base_uri": "https://localhost:8080/",
          "height": 345
        },
        "outputId": "c7124956-c7bf-48df-f7bc-498b4eaa6640",
        "executionInfo": {
          "status": "ok",
          "timestamp": 1526601472128,
          "user_tz": 420,
          "elapsed": 351,
          "user": {
            "displayName": "Ray Heberer",
            "photoUrl": "//lh4.googleusercontent.com/-BMlr5I5Dhow/AAAAAAAAAAI/AAAAAAAAABc/XW4PF5A8K2Q/s50-c-k-no/photo.jpg",
            "userId": "116545933704048584401"
          }
        }
      },
      "cell_type": "code",
      "source": [
        "feature_suffixes = ['mins', 'charge', 'calls']\n",
        "anchor_suffixes = ['charge', 'mins', 'mins']\n",
        "ratios_collection = [min_charge_ratios, charge_min_ratios, calls_min_ratios]\n",
        "\n",
        "feature_prefixes = ['day_', 'eve_', 'night_', 'intl_']\n",
        "\n",
        "for suffix, anchor_s, ratios in zip(feature_suffixes, anchor_suffixes, ratios_collection):\n",
        "    for prefix, ratio in zip(feature_prefixes, ratios):\n",
        "        feature = prefix + suffix\n",
        "        anchor = prefix + anchor_s\n",
        "        \n",
        "        fill = train[anchor] * ratio\n",
        "        fill = fill.fillna(fill.mean())\n",
        "        \n",
        "        train[feature] = train[feature].fillna(fill)\n",
        "        \n",
        "print('Any nulls remaining:', train.isnull().any().any())\n",
        "train.head()"
      ],
      "execution_count": 201,
      "outputs": [
        {
          "output_type": "stream",
          "text": [
            "Any nulls remaining: False\n"
          ],
          "name": "stdout"
        },
        {
          "output_type": "execute_result",
          "data": {
            "text/html": [
              "<div>\n",
              "<style scoped>\n",
              "    .dataframe tbody tr th:only-of-type {\n",
              "        vertical-align: middle;\n",
              "    }\n",
              "\n",
              "    .dataframe tbody tr th {\n",
              "        vertical-align: top;\n",
              "    }\n",
              "\n",
              "    .dataframe thead th {\n",
              "        text-align: right;\n",
              "    }\n",
              "</style>\n",
              "<table border=\"1\" class=\"dataframe\">\n",
              "  <thead>\n",
              "    <tr style=\"text-align: right;\">\n",
              "      <th></th>\n",
              "      <th>id</th>\n",
              "      <th>state</th>\n",
              "      <th>account_length</th>\n",
              "      <th>area_code</th>\n",
              "      <th>phone</th>\n",
              "      <th>international_plan</th>\n",
              "      <th>vmail_plan</th>\n",
              "      <th>vmail_message</th>\n",
              "      <th>day_mins</th>\n",
              "      <th>day_calls</th>\n",
              "      <th>...</th>\n",
              "      <th>eve_mins</th>\n",
              "      <th>eve_calls</th>\n",
              "      <th>eve_charge</th>\n",
              "      <th>night_mins</th>\n",
              "      <th>night_calls</th>\n",
              "      <th>night_charge</th>\n",
              "      <th>intl_mins</th>\n",
              "      <th>intl_calls</th>\n",
              "      <th>intl_charge</th>\n",
              "      <th>custserv_calls</th>\n",
              "    </tr>\n",
              "  </thead>\n",
              "  <tbody>\n",
              "    <tr>\n",
              "      <th>0</th>\n",
              "      <td>3200</td>\n",
              "      <td>CT</td>\n",
              "      <td>100.0</td>\n",
              "      <td>510</td>\n",
              "      <td>416-1536</td>\n",
              "      <td>yes</td>\n",
              "      <td>no</td>\n",
              "      <td>0</td>\n",
              "      <td>107.2</td>\n",
              "      <td>98.0</td>\n",
              "      <td>...</td>\n",
              "      <td>86.8</td>\n",
              "      <td>122.0</td>\n",
              "      <td>7.38</td>\n",
              "      <td>156.2</td>\n",
              "      <td>117.0</td>\n",
              "      <td>7.030000</td>\n",
              "      <td>9.7</td>\n",
              "      <td>4.0</td>\n",
              "      <td>2.62</td>\n",
              "      <td>1.0</td>\n",
              "    </tr>\n",
              "    <tr>\n",
              "      <th>1</th>\n",
              "      <td>2129</td>\n",
              "      <td>CT</td>\n",
              "      <td>146.0</td>\n",
              "      <td>408</td>\n",
              "      <td>380-3329</td>\n",
              "      <td>no</td>\n",
              "      <td>yes</td>\n",
              "      <td>23</td>\n",
              "      <td>149.6</td>\n",
              "      <td>96.0</td>\n",
              "      <td>...</td>\n",
              "      <td>239.8</td>\n",
              "      <td>124.0</td>\n",
              "      <td>20.38</td>\n",
              "      <td>293.5</td>\n",
              "      <td>135.0</td>\n",
              "      <td>13.210000</td>\n",
              "      <td>7.4</td>\n",
              "      <td>4.0</td>\n",
              "      <td>2.00</td>\n",
              "      <td>2.0</td>\n",
              "    </tr>\n",
              "    <tr>\n",
              "      <th>2</th>\n",
              "      <td>598</td>\n",
              "      <td>AZ</td>\n",
              "      <td>84.0</td>\n",
              "      <td>415</td>\n",
              "      <td>341-2360</td>\n",
              "      <td>no</td>\n",
              "      <td>no</td>\n",
              "      <td>0</td>\n",
              "      <td>159.0</td>\n",
              "      <td>80.0</td>\n",
              "      <td>...</td>\n",
              "      <td>167.9</td>\n",
              "      <td>128.0</td>\n",
              "      <td>14.27</td>\n",
              "      <td>167.6</td>\n",
              "      <td>101.0</td>\n",
              "      <td>7.540000</td>\n",
              "      <td>12.3</td>\n",
              "      <td>5.0</td>\n",
              "      <td>3.32</td>\n",
              "      <td>1.0</td>\n",
              "    </tr>\n",
              "    <tr>\n",
              "      <th>3</th>\n",
              "      <td>2507</td>\n",
              "      <td>VT</td>\n",
              "      <td>43.0</td>\n",
              "      <td>408</td>\n",
              "      <td>331-8713</td>\n",
              "      <td>no</td>\n",
              "      <td>no</td>\n",
              "      <td>0</td>\n",
              "      <td>135.8</td>\n",
              "      <td>125.0</td>\n",
              "      <td>...</td>\n",
              "      <td>163.2</td>\n",
              "      <td>88.0</td>\n",
              "      <td>13.87</td>\n",
              "      <td>229.8</td>\n",
              "      <td>106.0</td>\n",
              "      <td>10.340000</td>\n",
              "      <td>12.6</td>\n",
              "      <td>0.0</td>\n",
              "      <td>3.40</td>\n",
              "      <td>0.0</td>\n",
              "    </tr>\n",
              "    <tr>\n",
              "      <th>4</th>\n",
              "      <td>1248</td>\n",
              "      <td>PA</td>\n",
              "      <td>101.0</td>\n",
              "      <td>415</td>\n",
              "      <td>368-2074</td>\n",
              "      <td>no</td>\n",
              "      <td>no</td>\n",
              "      <td>0</td>\n",
              "      <td>193.7</td>\n",
              "      <td>108.0</td>\n",
              "      <td>...</td>\n",
              "      <td>186.6</td>\n",
              "      <td>0.0</td>\n",
              "      <td>15.86</td>\n",
              "      <td>223.0</td>\n",
              "      <td>100.0</td>\n",
              "      <td>10.034979</td>\n",
              "      <td>11.6</td>\n",
              "      <td>8.0</td>\n",
              "      <td>3.13</td>\n",
              "      <td>0.0</td>\n",
              "    </tr>\n",
              "  </tbody>\n",
              "</table>\n",
              "<p>5 rows × 21 columns</p>\n",
              "</div>"
            ],
            "text/plain": [
              "     id state  account_length area_code     phone international_plan  \\\n",
              "0  3200    CT           100.0       510  416-1536                yes   \n",
              "1  2129    CT           146.0       408  380-3329                 no   \n",
              "2   598    AZ            84.0       415  341-2360                 no   \n",
              "3  2507    VT            43.0       408  331-8713                 no   \n",
              "4  1248    PA           101.0       415  368-2074                 no   \n",
              "\n",
              "  vmail_plan  vmail_message  day_mins  day_calls       ...        eve_mins  \\\n",
              "0         no              0     107.2       98.0       ...            86.8   \n",
              "1        yes             23     149.6       96.0       ...           239.8   \n",
              "2         no              0     159.0       80.0       ...           167.9   \n",
              "3         no              0     135.8      125.0       ...           163.2   \n",
              "4         no              0     193.7      108.0       ...           186.6   \n",
              "\n",
              "   eve_calls  eve_charge  night_mins  night_calls  night_charge  intl_mins  \\\n",
              "0      122.0        7.38       156.2        117.0      7.030000        9.7   \n",
              "1      124.0       20.38       293.5        135.0     13.210000        7.4   \n",
              "2      128.0       14.27       167.6        101.0      7.540000       12.3   \n",
              "3       88.0       13.87       229.8        106.0     10.340000       12.6   \n",
              "4        0.0       15.86       223.0        100.0     10.034979       11.6   \n",
              "\n",
              "   intl_calls  intl_charge  custserv_calls  \n",
              "0         4.0         2.62             1.0  \n",
              "1         4.0         2.00             2.0  \n",
              "2         5.0         3.32             1.0  \n",
              "3         0.0         3.40             0.0  \n",
              "4         8.0         3.13             0.0  \n",
              "\n",
              "[5 rows x 21 columns]"
            ]
          },
          "metadata": {
            "tags": []
          },
          "execution_count": 201
        }
      ]
    },
    {
      "metadata": {
        "id": "lumIQPAtx2eX",
        "colab_type": "code",
        "colab": {
          "autoexec": {
            "startup": false,
            "wait_interval": 0
          }
        }
      },
      "cell_type": "code",
      "source": [
        "# integer features were floats in order to have nans. convert back to integers now\n",
        "\n",
        "for feature in integer_features:\n",
        "    train[feature] = train[feature].astype(np.int64)"
      ],
      "execution_count": 0,
      "outputs": []
    },
    {
      "metadata": {
        "id": "qp1U9vrhnalJ",
        "colab_type": "text"
      },
      "cell_type": "markdown",
      "source": [
        "### Selecting and Encoding Features\n",
        "\n",
        "Since `id` is unique to the individual customer. It will not have predictive value. I will drop this from the data that I train on, although when making predictions on the test set it will be important to know which prediction corresponds to which id. Similarly, `phone` almost serves as a second id, and I expect it to be mostly unique to the customer, not providing much predictive value.\n",
        "\n",
        "Although tree-based algorithms can work with unencoded categorical features, they work just as well when these are encoded, and most other algorithms require all features to be encoded as numbers. There is a bit of a problem when it comes to features like state that have many values, but have no meaningful ordering. For now, I will integer encode them, but may use one-hot encodings specifically for certain models, and may often not use the features at all."
      ]
    },
    {
      "metadata": {
        "id": "LpgEqvfzq3ra",
        "colab_type": "code",
        "colab": {
          "autoexec": {
            "startup": false,
            "wait_interval": 0
          },
          "base_uri": "https://localhost:8080/",
          "height": 490
        },
        "outputId": "4fd968ec-7583-4e3f-9ae8-57077070e880",
        "executionInfo": {
          "status": "ok",
          "timestamp": 1526601473147,
          "user_tz": 420,
          "elapsed": 321,
          "user": {
            "displayName": "Ray Heberer",
            "photoUrl": "//lh4.googleusercontent.com/-BMlr5I5Dhow/AAAAAAAAAAI/AAAAAAAAABc/XW4PF5A8K2Q/s50-c-k-no/photo.jpg",
            "userId": "116545933704048584401"
          }
        }
      },
      "cell_type": "code",
      "source": [
        "from sklearn.preprocessing import LabelEncoder\n",
        "\n",
        "train_enc = train.drop(['id', 'phone'], axis=1)\n",
        "\n",
        "for feature in categorical_features:\n",
        "    train_enc[feature] = LabelEncoder().fit_transform(train_enc[feature])\n",
        "    \n",
        "train_one_hot = pd.get_dummies(train.drop(['id', 'phone'], axis=1))\n",
        "\n",
        "print('One-Hot Encoded:')\n",
        "display(train_one_hot.head())\n",
        "print('Shape:', train_one_hot.shape)\n",
        "\n",
        "print('Integer Encoded:')\n",
        "display(train_enc.head())\n",
        "print('Shape:', train_enc.shape)"
      ],
      "execution_count": 203,
      "outputs": [
        {
          "output_type": "stream",
          "text": [
            "One-Hot Encoded:\n"
          ],
          "name": "stdout"
        },
        {
          "output_type": "display_data",
          "data": {
            "text/html": [
              "<div>\n",
              "<style scoped>\n",
              "    .dataframe tbody tr th:only-of-type {\n",
              "        vertical-align: middle;\n",
              "    }\n",
              "\n",
              "    .dataframe tbody tr th {\n",
              "        vertical-align: top;\n",
              "    }\n",
              "\n",
              "    .dataframe thead th {\n",
              "        text-align: right;\n",
              "    }\n",
              "</style>\n",
              "<table border=\"1\" class=\"dataframe\">\n",
              "  <thead>\n",
              "    <tr style=\"text-align: right;\">\n",
              "      <th></th>\n",
              "      <th>account_length</th>\n",
              "      <th>vmail_message</th>\n",
              "      <th>day_mins</th>\n",
              "      <th>day_calls</th>\n",
              "      <th>day_charge</th>\n",
              "      <th>eve_mins</th>\n",
              "      <th>eve_calls</th>\n",
              "      <th>eve_charge</th>\n",
              "      <th>night_mins</th>\n",
              "      <th>night_calls</th>\n",
              "      <th>...</th>\n",
              "      <th>state_WI</th>\n",
              "      <th>state_WV</th>\n",
              "      <th>state_WY</th>\n",
              "      <th>area_code_408</th>\n",
              "      <th>area_code_415</th>\n",
              "      <th>area_code_510</th>\n",
              "      <th>international_plan_no</th>\n",
              "      <th>international_plan_yes</th>\n",
              "      <th>vmail_plan_no</th>\n",
              "      <th>vmail_plan_yes</th>\n",
              "    </tr>\n",
              "  </thead>\n",
              "  <tbody>\n",
              "    <tr>\n",
              "      <th>0</th>\n",
              "      <td>100</td>\n",
              "      <td>0</td>\n",
              "      <td>107.2</td>\n",
              "      <td>98</td>\n",
              "      <td>18.22</td>\n",
              "      <td>86.8</td>\n",
              "      <td>122</td>\n",
              "      <td>7.38</td>\n",
              "      <td>156.2</td>\n",
              "      <td>117</td>\n",
              "      <td>...</td>\n",
              "      <td>0</td>\n",
              "      <td>0</td>\n",
              "      <td>0</td>\n",
              "      <td>0</td>\n",
              "      <td>0</td>\n",
              "      <td>1</td>\n",
              "      <td>0</td>\n",
              "      <td>1</td>\n",
              "      <td>1</td>\n",
              "      <td>0</td>\n",
              "    </tr>\n",
              "    <tr>\n",
              "      <th>1</th>\n",
              "      <td>146</td>\n",
              "      <td>23</td>\n",
              "      <td>149.6</td>\n",
              "      <td>96</td>\n",
              "      <td>25.43</td>\n",
              "      <td>239.8</td>\n",
              "      <td>124</td>\n",
              "      <td>20.38</td>\n",
              "      <td>293.5</td>\n",
              "      <td>135</td>\n",
              "      <td>...</td>\n",
              "      <td>0</td>\n",
              "      <td>0</td>\n",
              "      <td>0</td>\n",
              "      <td>1</td>\n",
              "      <td>0</td>\n",
              "      <td>0</td>\n",
              "      <td>1</td>\n",
              "      <td>0</td>\n",
              "      <td>0</td>\n",
              "      <td>1</td>\n",
              "    </tr>\n",
              "    <tr>\n",
              "      <th>2</th>\n",
              "      <td>84</td>\n",
              "      <td>0</td>\n",
              "      <td>159.0</td>\n",
              "      <td>80</td>\n",
              "      <td>27.03</td>\n",
              "      <td>167.9</td>\n",
              "      <td>128</td>\n",
              "      <td>14.27</td>\n",
              "      <td>167.6</td>\n",
              "      <td>101</td>\n",
              "      <td>...</td>\n",
              "      <td>0</td>\n",
              "      <td>0</td>\n",
              "      <td>0</td>\n",
              "      <td>0</td>\n",
              "      <td>1</td>\n",
              "      <td>0</td>\n",
              "      <td>1</td>\n",
              "      <td>0</td>\n",
              "      <td>1</td>\n",
              "      <td>0</td>\n",
              "    </tr>\n",
              "    <tr>\n",
              "      <th>3</th>\n",
              "      <td>43</td>\n",
              "      <td>0</td>\n",
              "      <td>135.8</td>\n",
              "      <td>125</td>\n",
              "      <td>23.09</td>\n",
              "      <td>163.2</td>\n",
              "      <td>88</td>\n",
              "      <td>13.87</td>\n",
              "      <td>229.8</td>\n",
              "      <td>106</td>\n",
              "      <td>...</td>\n",
              "      <td>0</td>\n",
              "      <td>0</td>\n",
              "      <td>0</td>\n",
              "      <td>1</td>\n",
              "      <td>0</td>\n",
              "      <td>0</td>\n",
              "      <td>1</td>\n",
              "      <td>0</td>\n",
              "      <td>1</td>\n",
              "      <td>0</td>\n",
              "    </tr>\n",
              "    <tr>\n",
              "      <th>4</th>\n",
              "      <td>101</td>\n",
              "      <td>0</td>\n",
              "      <td>193.7</td>\n",
              "      <td>108</td>\n",
              "      <td>32.93</td>\n",
              "      <td>186.6</td>\n",
              "      <td>0</td>\n",
              "      <td>15.86</td>\n",
              "      <td>223.0</td>\n",
              "      <td>100</td>\n",
              "      <td>...</td>\n",
              "      <td>0</td>\n",
              "      <td>0</td>\n",
              "      <td>0</td>\n",
              "      <td>0</td>\n",
              "      <td>1</td>\n",
              "      <td>0</td>\n",
              "      <td>1</td>\n",
              "      <td>0</td>\n",
              "      <td>1</td>\n",
              "      <td>0</td>\n",
              "    </tr>\n",
              "  </tbody>\n",
              "</table>\n",
              "<p>5 rows × 73 columns</p>\n",
              "</div>"
            ],
            "text/plain": [
              "   account_length  vmail_message  day_mins  day_calls  day_charge  eve_mins  \\\n",
              "0             100              0     107.2         98       18.22      86.8   \n",
              "1             146             23     149.6         96       25.43     239.8   \n",
              "2              84              0     159.0         80       27.03     167.9   \n",
              "3              43              0     135.8        125       23.09     163.2   \n",
              "4             101              0     193.7        108       32.93     186.6   \n",
              "\n",
              "   eve_calls  eve_charge  night_mins  night_calls       ...        state_WI  \\\n",
              "0        122        7.38       156.2          117       ...               0   \n",
              "1        124       20.38       293.5          135       ...               0   \n",
              "2        128       14.27       167.6          101       ...               0   \n",
              "3         88       13.87       229.8          106       ...               0   \n",
              "4          0       15.86       223.0          100       ...               0   \n",
              "\n",
              "   state_WV  state_WY  area_code_408  area_code_415  area_code_510  \\\n",
              "0         0         0              0              0              1   \n",
              "1         0         0              1              0              0   \n",
              "2         0         0              0              1              0   \n",
              "3         0         0              1              0              0   \n",
              "4         0         0              0              1              0   \n",
              "\n",
              "   international_plan_no  international_plan_yes  vmail_plan_no  \\\n",
              "0                      0                       1              1   \n",
              "1                      1                       0              0   \n",
              "2                      1                       0              1   \n",
              "3                      1                       0              1   \n",
              "4                      1                       0              1   \n",
              "\n",
              "   vmail_plan_yes  \n",
              "0               0  \n",
              "1               1  \n",
              "2               0  \n",
              "3               0  \n",
              "4               0  \n",
              "\n",
              "[5 rows x 73 columns]"
            ]
          },
          "metadata": {
            "tags": []
          }
        },
        {
          "output_type": "stream",
          "text": [
            "Shape: (2222, 73)\n",
            "Integer Encoded:\n"
          ],
          "name": "stdout"
        },
        {
          "output_type": "display_data",
          "data": {
            "text/html": [
              "<div>\n",
              "<style scoped>\n",
              "    .dataframe tbody tr th:only-of-type {\n",
              "        vertical-align: middle;\n",
              "    }\n",
              "\n",
              "    .dataframe tbody tr th {\n",
              "        vertical-align: top;\n",
              "    }\n",
              "\n",
              "    .dataframe thead th {\n",
              "        text-align: right;\n",
              "    }\n",
              "</style>\n",
              "<table border=\"1\" class=\"dataframe\">\n",
              "  <thead>\n",
              "    <tr style=\"text-align: right;\">\n",
              "      <th></th>\n",
              "      <th>state</th>\n",
              "      <th>account_length</th>\n",
              "      <th>area_code</th>\n",
              "      <th>international_plan</th>\n",
              "      <th>vmail_plan</th>\n",
              "      <th>vmail_message</th>\n",
              "      <th>day_mins</th>\n",
              "      <th>day_calls</th>\n",
              "      <th>day_charge</th>\n",
              "      <th>eve_mins</th>\n",
              "      <th>eve_calls</th>\n",
              "      <th>eve_charge</th>\n",
              "      <th>night_mins</th>\n",
              "      <th>night_calls</th>\n",
              "      <th>night_charge</th>\n",
              "      <th>intl_mins</th>\n",
              "      <th>intl_calls</th>\n",
              "      <th>intl_charge</th>\n",
              "      <th>custserv_calls</th>\n",
              "    </tr>\n",
              "  </thead>\n",
              "  <tbody>\n",
              "    <tr>\n",
              "      <th>0</th>\n",
              "      <td>6</td>\n",
              "      <td>100</td>\n",
              "      <td>2</td>\n",
              "      <td>1</td>\n",
              "      <td>0</td>\n",
              "      <td>0</td>\n",
              "      <td>107.2</td>\n",
              "      <td>98</td>\n",
              "      <td>18.22</td>\n",
              "      <td>86.8</td>\n",
              "      <td>122</td>\n",
              "      <td>7.38</td>\n",
              "      <td>156.2</td>\n",
              "      <td>117</td>\n",
              "      <td>7.030000</td>\n",
              "      <td>9.7</td>\n",
              "      <td>4</td>\n",
              "      <td>2.62</td>\n",
              "      <td>1</td>\n",
              "    </tr>\n",
              "    <tr>\n",
              "      <th>1</th>\n",
              "      <td>6</td>\n",
              "      <td>146</td>\n",
              "      <td>0</td>\n",
              "      <td>0</td>\n",
              "      <td>1</td>\n",
              "      <td>23</td>\n",
              "      <td>149.6</td>\n",
              "      <td>96</td>\n",
              "      <td>25.43</td>\n",
              "      <td>239.8</td>\n",
              "      <td>124</td>\n",
              "      <td>20.38</td>\n",
              "      <td>293.5</td>\n",
              "      <td>135</td>\n",
              "      <td>13.210000</td>\n",
              "      <td>7.4</td>\n",
              "      <td>4</td>\n",
              "      <td>2.00</td>\n",
              "      <td>2</td>\n",
              "    </tr>\n",
              "    <tr>\n",
              "      <th>2</th>\n",
              "      <td>3</td>\n",
              "      <td>84</td>\n",
              "      <td>1</td>\n",
              "      <td>0</td>\n",
              "      <td>0</td>\n",
              "      <td>0</td>\n",
              "      <td>159.0</td>\n",
              "      <td>80</td>\n",
              "      <td>27.03</td>\n",
              "      <td>167.9</td>\n",
              "      <td>128</td>\n",
              "      <td>14.27</td>\n",
              "      <td>167.6</td>\n",
              "      <td>101</td>\n",
              "      <td>7.540000</td>\n",
              "      <td>12.3</td>\n",
              "      <td>5</td>\n",
              "      <td>3.32</td>\n",
              "      <td>1</td>\n",
              "    </tr>\n",
              "    <tr>\n",
              "      <th>3</th>\n",
              "      <td>46</td>\n",
              "      <td>43</td>\n",
              "      <td>0</td>\n",
              "      <td>0</td>\n",
              "      <td>0</td>\n",
              "      <td>0</td>\n",
              "      <td>135.8</td>\n",
              "      <td>125</td>\n",
              "      <td>23.09</td>\n",
              "      <td>163.2</td>\n",
              "      <td>88</td>\n",
              "      <td>13.87</td>\n",
              "      <td>229.8</td>\n",
              "      <td>106</td>\n",
              "      <td>10.340000</td>\n",
              "      <td>12.6</td>\n",
              "      <td>0</td>\n",
              "      <td>3.40</td>\n",
              "      <td>0</td>\n",
              "    </tr>\n",
              "    <tr>\n",
              "      <th>4</th>\n",
              "      <td>38</td>\n",
              "      <td>101</td>\n",
              "      <td>1</td>\n",
              "      <td>0</td>\n",
              "      <td>0</td>\n",
              "      <td>0</td>\n",
              "      <td>193.7</td>\n",
              "      <td>108</td>\n",
              "      <td>32.93</td>\n",
              "      <td>186.6</td>\n",
              "      <td>0</td>\n",
              "      <td>15.86</td>\n",
              "      <td>223.0</td>\n",
              "      <td>100</td>\n",
              "      <td>10.034979</td>\n",
              "      <td>11.6</td>\n",
              "      <td>8</td>\n",
              "      <td>3.13</td>\n",
              "      <td>0</td>\n",
              "    </tr>\n",
              "  </tbody>\n",
              "</table>\n",
              "</div>"
            ],
            "text/plain": [
              "   state  account_length  area_code  international_plan  vmail_plan  \\\n",
              "0      6             100          2                   1           0   \n",
              "1      6             146          0                   0           1   \n",
              "2      3              84          1                   0           0   \n",
              "3     46              43          0                   0           0   \n",
              "4     38             101          1                   0           0   \n",
              "\n",
              "   vmail_message  day_mins  day_calls  day_charge  eve_mins  eve_calls  \\\n",
              "0              0     107.2         98       18.22      86.8        122   \n",
              "1             23     149.6         96       25.43     239.8        124   \n",
              "2              0     159.0         80       27.03     167.9        128   \n",
              "3              0     135.8        125       23.09     163.2         88   \n",
              "4              0     193.7        108       32.93     186.6          0   \n",
              "\n",
              "   eve_charge  night_mins  night_calls  night_charge  intl_mins  intl_calls  \\\n",
              "0        7.38       156.2          117      7.030000        9.7           4   \n",
              "1       20.38       293.5          135     13.210000        7.4           4   \n",
              "2       14.27       167.6          101      7.540000       12.3           5   \n",
              "3       13.87       229.8          106     10.340000       12.6           0   \n",
              "4       15.86       223.0          100     10.034979       11.6           8   \n",
              "\n",
              "   intl_charge  custserv_calls  \n",
              "0         2.62               1  \n",
              "1         2.00               2  \n",
              "2         3.32               1  \n",
              "3         3.40               0  \n",
              "4         3.13               0  "
            ]
          },
          "metadata": {
            "tags": []
          }
        },
        {
          "output_type": "stream",
          "text": [
            "Shape: (2222, 19)\n"
          ],
          "name": "stdout"
        }
      ]
    },
    {
      "metadata": {
        "id": "PgJXpKmO1Zr8",
        "colab_type": "text"
      },
      "cell_type": "markdown",
      "source": [
        "### Feature Scaling\n",
        "\n",
        "Some algorithms, such as K-Nearest Neighbors, are sensitive to the scale of the data. I will create a version of the data with rescaled features for use with these models."
      ]
    },
    {
      "metadata": {
        "id": "lpITFmIW1mfH",
        "colab_type": "code",
        "colab": {
          "autoexec": {
            "startup": false,
            "wait_interval": 0
          },
          "base_uri": "https://localhost:8080/",
          "height": 215
        },
        "outputId": "16055150-0d63-4588-ec4d-6dfec92d5b25",
        "executionInfo": {
          "status": "ok",
          "timestamp": 1526601473844,
          "user_tz": 420,
          "elapsed": 523,
          "user": {
            "displayName": "Ray Heberer",
            "photoUrl": "//lh4.googleusercontent.com/-BMlr5I5Dhow/AAAAAAAAAAI/AAAAAAAAABc/XW4PF5A8K2Q/s50-c-k-no/photo.jpg",
            "userId": "116545933704048584401"
          }
        }
      },
      "cell_type": "code",
      "source": [
        "from sklearn.preprocessing import StandardScaler\n",
        "\n",
        "train_enc_scaled = pd.DataFrame(StandardScaler().fit_transform(train_enc), columns=train_enc.columns)\n",
        "train_one_hot_scaled = pd.DataFrame(StandardScaler().fit_transform(train_one_hot), columns=train_one_hot.columns)\n",
        "\n",
        "train_enc_scaled.head()"
      ],
      "execution_count": 204,
      "outputs": [
        {
          "output_type": "execute_result",
          "data": {
            "text/html": [
              "<div>\n",
              "<style scoped>\n",
              "    .dataframe tbody tr th:only-of-type {\n",
              "        vertical-align: middle;\n",
              "    }\n",
              "\n",
              "    .dataframe tbody tr th {\n",
              "        vertical-align: top;\n",
              "    }\n",
              "\n",
              "    .dataframe thead th {\n",
              "        text-align: right;\n",
              "    }\n",
              "</style>\n",
              "<table border=\"1\" class=\"dataframe\">\n",
              "  <thead>\n",
              "    <tr style=\"text-align: right;\">\n",
              "      <th></th>\n",
              "      <th>state</th>\n",
              "      <th>account_length</th>\n",
              "      <th>area_code</th>\n",
              "      <th>international_plan</th>\n",
              "      <th>vmail_plan</th>\n",
              "      <th>vmail_message</th>\n",
              "      <th>day_mins</th>\n",
              "      <th>day_calls</th>\n",
              "      <th>day_charge</th>\n",
              "      <th>eve_mins</th>\n",
              "      <th>eve_calls</th>\n",
              "      <th>eve_charge</th>\n",
              "      <th>night_mins</th>\n",
              "      <th>night_calls</th>\n",
              "      <th>night_charge</th>\n",
              "      <th>intl_mins</th>\n",
              "      <th>intl_calls</th>\n",
              "      <th>intl_charge</th>\n",
              "      <th>custserv_calls</th>\n",
              "    </tr>\n",
              "  </thead>\n",
              "  <tbody>\n",
              "    <tr>\n",
              "      <th>0</th>\n",
              "      <td>-1.400177</td>\n",
              "      <td>-0.006865</td>\n",
              "      <td>1.460422</td>\n",
              "      <td>3.409545</td>\n",
              "      <td>-0.556904</td>\n",
              "      <td>-0.579395</td>\n",
              "      <td>-1.316713</td>\n",
              "      <td>-0.101346</td>\n",
              "      <td>-1.317207</td>\n",
              "      <td>-2.257157</td>\n",
              "      <td>0.933670</td>\n",
              "      <td>-2.256715</td>\n",
              "      <td>-0.868827</td>\n",
              "      <td>0.865660</td>\n",
              "      <td>-0.868360</td>\n",
              "      <td>-0.190658</td>\n",
              "      <td>0.146592</td>\n",
              "      <td>-0.190105</td>\n",
              "      <td>-0.446258</td>\n",
              "    </tr>\n",
              "    <tr>\n",
              "      <th>1</th>\n",
              "      <td>-1.400177</td>\n",
              "      <td>1.137743</td>\n",
              "      <td>-1.464371</td>\n",
              "      <td>-0.293294</td>\n",
              "      <td>1.795643</td>\n",
              "      <td>1.106472</td>\n",
              "      <td>-0.538214</td>\n",
              "      <td>-0.202806</td>\n",
              "      <td>-0.538490</td>\n",
              "      <td>0.789452</td>\n",
              "      <td>0.983028</td>\n",
              "      <td>0.788694</td>\n",
              "      <td>1.864227</td>\n",
              "      <td>1.790098</td>\n",
              "      <td>1.865258</td>\n",
              "      <td>-1.015700</td>\n",
              "      <td>0.146592</td>\n",
              "      <td>-1.013807</td>\n",
              "      <td>0.329023</td>\n",
              "    </tr>\n",
              "    <tr>\n",
              "      <th>2</th>\n",
              "      <td>-1.603638</td>\n",
              "      <td>-0.404989</td>\n",
              "      <td>-0.001974</td>\n",
              "      <td>-0.293294</td>\n",
              "      <td>-0.556904</td>\n",
              "      <td>-0.579395</td>\n",
              "      <td>-0.365622</td>\n",
              "      <td>-1.014487</td>\n",
              "      <td>-0.365682</td>\n",
              "      <td>-0.642255</td>\n",
              "      <td>1.081744</td>\n",
              "      <td>-0.642648</td>\n",
              "      <td>-0.641902</td>\n",
              "      <td>0.043938</td>\n",
              "      <td>-0.642770</td>\n",
              "      <td>0.741999</td>\n",
              "      <td>0.497213</td>\n",
              "      <td>0.739881</td>\n",
              "      <td>-0.446258</td>\n",
              "    </tr>\n",
              "    <tr>\n",
              "      <th>3</th>\n",
              "      <td>1.312639</td>\n",
              "      <td>-1.425183</td>\n",
              "      <td>-1.464371</td>\n",
              "      <td>-0.293294</td>\n",
              "      <td>-0.556904</td>\n",
              "      <td>-0.579395</td>\n",
              "      <td>-0.791593</td>\n",
              "      <td>1.268365</td>\n",
              "      <td>-0.791222</td>\n",
              "      <td>-0.735844</td>\n",
              "      <td>0.094584</td>\n",
              "      <td>-0.736353</td>\n",
              "      <td>0.596233</td>\n",
              "      <td>0.300726</td>\n",
              "      <td>0.595763</td>\n",
              "      <td>0.849613</td>\n",
              "      <td>-1.255892</td>\n",
              "      <td>0.846165</td>\n",
              "      <td>-1.221539</td>\n",
              "    </tr>\n",
              "    <tr>\n",
              "      <th>4</th>\n",
              "      <td>0.770076</td>\n",
              "      <td>0.018018</td>\n",
              "      <td>-0.001974</td>\n",
              "      <td>-0.293294</td>\n",
              "      <td>-0.556904</td>\n",
              "      <td>-0.579395</td>\n",
              "      <td>0.271498</td>\n",
              "      <td>0.405955</td>\n",
              "      <td>0.271549</td>\n",
              "      <td>-0.269892</td>\n",
              "      <td>-2.077167</td>\n",
              "      <td>-0.270171</td>\n",
              "      <td>0.460875</td>\n",
              "      <td>-0.007419</td>\n",
              "      <td>0.460842</td>\n",
              "      <td>0.490899</td>\n",
              "      <td>1.549075</td>\n",
              "      <td>0.487456</td>\n",
              "      <td>-1.221539</td>\n",
              "    </tr>\n",
              "  </tbody>\n",
              "</table>\n",
              "</div>"
            ],
            "text/plain": [
              "      state  account_length  area_code  international_plan  vmail_plan  \\\n",
              "0 -1.400177       -0.006865   1.460422            3.409545   -0.556904   \n",
              "1 -1.400177        1.137743  -1.464371           -0.293294    1.795643   \n",
              "2 -1.603638       -0.404989  -0.001974           -0.293294   -0.556904   \n",
              "3  1.312639       -1.425183  -1.464371           -0.293294   -0.556904   \n",
              "4  0.770076        0.018018  -0.001974           -0.293294   -0.556904   \n",
              "\n",
              "   vmail_message  day_mins  day_calls  day_charge  eve_mins  eve_calls  \\\n",
              "0      -0.579395 -1.316713  -0.101346   -1.317207 -2.257157   0.933670   \n",
              "1       1.106472 -0.538214  -0.202806   -0.538490  0.789452   0.983028   \n",
              "2      -0.579395 -0.365622  -1.014487   -0.365682 -0.642255   1.081744   \n",
              "3      -0.579395 -0.791593   1.268365   -0.791222 -0.735844   0.094584   \n",
              "4      -0.579395  0.271498   0.405955    0.271549 -0.269892  -2.077167   \n",
              "\n",
              "   eve_charge  night_mins  night_calls  night_charge  intl_mins  intl_calls  \\\n",
              "0   -2.256715   -0.868827     0.865660     -0.868360  -0.190658    0.146592   \n",
              "1    0.788694    1.864227     1.790098      1.865258  -1.015700    0.146592   \n",
              "2   -0.642648   -0.641902     0.043938     -0.642770   0.741999    0.497213   \n",
              "3   -0.736353    0.596233     0.300726      0.595763   0.849613   -1.255892   \n",
              "4   -0.270171    0.460875    -0.007419      0.460842   0.490899    1.549075   \n",
              "\n",
              "   intl_charge  custserv_calls  \n",
              "0    -0.190105       -0.446258  \n",
              "1    -1.013807        0.329023  \n",
              "2     0.739881       -0.446258  \n",
              "3     0.846165       -1.221539  \n",
              "4     0.487456       -1.221539  "
            ]
          },
          "metadata": {
            "tags": []
          },
          "execution_count": 204
        }
      ]
    },
    {
      "metadata": {
        "id": "H8v2H30l77k_",
        "colab_type": "text"
      },
      "cell_type": "markdown",
      "source": [
        "### Processing Test Data\n",
        "I will quickly repeat all the above steps on the test data."
      ]
    },
    {
      "metadata": {
        "id": "p2NROeEQ8ARa",
        "colab_type": "code",
        "colab": {
          "autoexec": {
            "startup": false,
            "wait_interval": 0
          }
        }
      },
      "cell_type": "code",
      "source": [
        "test = test_raw.drop('churn', axis=1).replace('?', np.nan)\n",
        "\n",
        "for feature in categorical_features:\n",
        "    test[feature] = test[feature].fillna(test[feature].mode()[0])\n",
        "\n",
        "# some numeric features are actually strings, or some other non-numeric data type\n",
        "for feature in integer_features+continuous_features:\n",
        "    test[feature] = test[feature].astype(np.float64)\n",
        "    \n",
        "day_charge_per_min = np.mean(test['day_charge'] / test['day_mins'])\n",
        "eve_charge_per_min = np.mean(test['eve_charge'] / test['eve_mins'])\n",
        "night_charge_per_min = np.mean(test['night_charge'] / test['night_mins'])\n",
        "intl_charge_per_min = np.mean(test['intl_charge'] / test['intl_mins'])\n",
        "\n",
        "charge_min_ratios = [day_charge_per_min, eve_charge_per_min, night_charge_per_min, intl_charge_per_min]\n",
        "min_charge_ratios = [1/r for r in charge_min_ratios]\n",
        "\n",
        "day_calls_per_min = int(np.mean(test['day_calls'] / test['day_mins']))\n",
        "eve_calls_per_min = int(np.mean(test['eve_calls'] / test['eve_mins']))\n",
        "night_calls_per_min = int(np.mean(test['night_calls'] / test['night_mins']))\n",
        "intl_calls_per_min = int(np.mean(test['intl_calls'] / test['intl_mins']))\n",
        "\n",
        "calls_min_ratios = [day_calls_per_min, eve_calls_per_min, night_calls_per_min, intl_calls_per_min]\n",
        "\n",
        "feature_suffixes = ['mins', 'charge', 'calls']\n",
        "anchor_suffixes = ['charge', 'mins', 'mins']\n",
        "ratios_collection = [min_charge_ratios, charge_min_ratios, calls_min_ratios]\n",
        "\n",
        "feature_prefixes = ['day_', 'eve_', 'night_', 'intl_']\n",
        "\n",
        "for suffix, anchor_s, ratios in zip(feature_suffixes, anchor_suffixes, ratios_collection):\n",
        "    for prefix, ratio in zip(feature_prefixes, ratios):\n",
        "        feature = prefix + suffix\n",
        "        anchor = prefix + anchor_s\n",
        "        \n",
        "        fill = test[anchor] * ratio\n",
        "        fill = fill.fillna(fill.mean())\n",
        "        \n",
        "        test[feature] = test[feature].fillna(fill)\n",
        "\n",
        "# integer features were floats in order to have nans. convert back to integers now\n",
        "\n",
        "for feature in integer_features:\n",
        "    test[feature] = test[feature].astype(np.int64)\n",
        "    \n",
        "test_enc = test.drop(['id', 'phone'], axis=1)\n",
        "\n",
        "for feature in categorical_features:\n",
        "    test_enc[feature] = LabelEncoder().fit_transform(test_enc[feature])\n",
        "    \n",
        "test_one_hot = pd.get_dummies(test.drop(['id', 'phone'], axis=1))\n",
        "\n",
        "test_enc_scaled = pd.DataFrame(StandardScaler().fit_transform(test_enc), columns=test_enc.columns)\n",
        "test_one_hot_scaled = pd.DataFrame(StandardScaler().fit_transform(test_one_hot), columns=test_one_hot.columns)"
      ],
      "execution_count": 0,
      "outputs": []
    },
    {
      "metadata": {
        "id": "gr1e0vkDoAy1",
        "colab_type": "text"
      },
      "cell_type": "markdown",
      "source": [
        "## Data Understanding\n",
        "\n",
        "Do whatever exploratory data analysis you need to do in order to be educated about what's in this dataset. You're going to need some graphs at the bare minimum."
      ]
    },
    {
      "metadata": {
        "id": "UWRgpRH_36DN",
        "colab_type": "text"
      },
      "cell_type": "markdown",
      "source": [
        "### Distributions"
      ]
    },
    {
      "metadata": {
        "id": "qd2rg_3NHl-g",
        "colab_type": "code",
        "colab": {
          "autoexec": {
            "startup": false,
            "wait_interval": 0
          },
          "base_uri": "https://localhost:8080/",
          "height": 932
        },
        "outputId": "7277308d-aa1f-4408-ef0e-b07b3ee3e091",
        "executionInfo": {
          "status": "ok",
          "timestamp": 1526600439560,
          "user_tz": 420,
          "elapsed": 4460,
          "user": {
            "displayName": "Ray Heberer",
            "photoUrl": "//lh4.googleusercontent.com/-BMlr5I5Dhow/AAAAAAAAAAI/AAAAAAAAABc/XW4PF5A8K2Q/s50-c-k-no/photo.jpg",
            "userId": "116545933704048584401"
          }
        }
      },
      "cell_type": "code",
      "source": [
        "fig, axs = plt.subplots(4, 5, figsize=(16, 16))\n",
        "\n",
        "for ix, col in enumerate(train_enc.columns):\n",
        "    p0 = ix // 5\n",
        "    p1 = ix % 5\n",
        "    \n",
        "    sns.distplot(train_enc[col], ax=axs[p0, p1])\n",
        "    axs[p0, p1].set(xlabel=col)"
      ],
      "execution_count": 147,
      "outputs": [
        {
          "output_type": "display_data",
          "data": {
            "image/png": "[encoded data removed]",
            "text/plain": [
              "<matplotlib.figure.Figure at 0x7f407dcc4a20>"
            ]
          },
          "metadata": {
            "tags": []
          }
        }
      ]
    },
    {
      "metadata": {
        "id": "uqIGMc1q3eVV",
        "colab_type": "text"
      },
      "cell_type": "markdown",
      "source": [
        "Most of the continuous variables have bell shaped curves. There are only 3 area codes. The number of data entries per state seem to be relatively consistent across states."
      ]
    },
    {
      "metadata": {
        "id": "0vguiPs939Bd",
        "colab_type": "text"
      },
      "cell_type": "markdown",
      "source": [
        "### Relationships with Churn"
      ]
    },
    {
      "metadata": {
        "id": "qhjmqwy24Aw3",
        "colab_type": "code",
        "colab": {
          "autoexec": {
            "startup": false,
            "wait_interval": 0
          },
          "base_uri": "https://localhost:8080/",
          "height": 497
        },
        "outputId": "0c89cf2a-c1c2-47e2-f342-51a5d41dc3ac",
        "executionInfo": {
          "status": "ok",
          "timestamp": 1526594902040,
          "user_tz": 420,
          "elapsed": 2133,
          "user": {
            "displayName": "Ray Heberer",
            "photoUrl": "//lh4.googleusercontent.com/-BMlr5I5Dhow/AAAAAAAAAAI/AAAAAAAAABc/XW4PF5A8K2Q/s50-c-k-no/photo.jpg",
            "userId": "116545933704048584401"
          }
        }
      },
      "cell_type": "code",
      "source": [
        "fig, axs = plt.subplots(2, 7, figsize=(12, 8))\n",
        "\n",
        "for ix, feature in enumerate(integer_features+continuous_features):\n",
        "    p0 = ix // 7\n",
        "    p1 = ix % 7\n",
        "    \n",
        "    axs[p0, p1].scatter(train_enc[feature], churn)\n",
        "    axs[p0, p1].set(xlabel=feature)"
      ],
      "execution_count": 13,
      "outputs": [
        {
          "output_type": "display_data",
          "data": {
            "image/png": "[encoded data removed]",
            "text/plain": [
              "<matplotlib.figure.Figure at 0x7f407dab9ba8>"
            ]
          },
          "metadata": {
            "tags": []
          }
        }
      ]
    },
    {
      "metadata": {
        "id": "ruF-kq-u5xC5",
        "colab_type": "text"
      },
      "cell_type": "markdown",
      "source": [
        "There are no features here that would allow churn to be separable by something like a logistic function. However, there are hints that those that churn do not tend to have low charges."
      ]
    },
    {
      "metadata": {
        "id": "hvzCWfRSoWXS",
        "colab_type": "text"
      },
      "cell_type": "markdown",
      "source": [
        "## Modeling\n",
        "\n",
        "We've talked a lot about Logistic Regression so far, but there are a **lot** of classification models that you could use. In this section you will get a chance to do a little bit of research about 5 important classification algorithms. \n",
        "\n",
        "The purpose of this section is to give you a very very brief introduction to a few of the most popular supervised learning classification algorithms. It is **not** the purpose of this section/assignment that you understand all of the mathematical and programmatic inner-workings of these algorithms, but rather to give you a high level overview of their usage. Please defer your curiosity and perfectionism temporarily and focus on what you need to know in order to get an out-of-the box prediction from these classifiers using the sklearn library.\n",
        "\n",
        "*   Support Vector Machine\n",
        "*   Decision Tree Classifier\n",
        "*   Random Forest Classifier\n",
        "*   Naive Bayes Classifier\n",
        "*   K-Nearest Neighbors Classifier\n",
        "\n",
        "\n",
        "Once you have successfully fit each of these models to the test dataset and calculated their out-of-the-box ROC_AUC score, pick the top two highest performing classifiers and research their hyperparameters for future hyperparameter tuning.\n",
        "\n",
        "List their hyperparameters here:\n",
        "\n",
        "### Highest performing model's hyperparameters:\n",
        "\n",
        "SVC(C=1.0, cache_size=200, class_weight=None, coef0=0.0,\n",
        "  decision_function_shape='ovr', degree=3, gamma='auto', kernel='rbf',\n",
        "  max_iter=-1, probability=False, random_state=None, shrinking=True,\n",
        "  tol=0.001, verbose=False)\n",
        "\n",
        "### Second highest performing model's hyperparameters:\n",
        "RandomForestClassifier(bootstrap=True, class_weight=None, criterion='gini',\n",
        "            max_depth=None, max_features='auto', max_leaf_nodes=None,\n",
        "            min_impurity_decrease=0.0, min_impurity_split=None,\n",
        "            min_samples_leaf=1, min_samples_split=2,\n",
        "            min_weight_fraction_leaf=0.0, n_estimators=10, n_jobs=1,\n",
        "            oob_score=False, random_state=None, verbose=0,\n",
        "            warm_start=False)\n"
      ]
    },
    {
      "metadata": {
        "id": "-GHyDZ686V_E",
        "colab_type": "text"
      },
      "cell_type": "markdown",
      "source": [
        "### Baseline Models\n",
        "\n",
        "I will use two baselines. Both will be logistic regression models, one fit on all of the features, as well as the best performing univariate model."
      ]
    },
    {
      "metadata": {
        "id": "jahV0FZH6zWL",
        "colab_type": "code",
        "colab": {
          "autoexec": {
            "startup": false,
            "wait_interval": 0
          }
        }
      },
      "cell_type": "code",
      "source": [
        "from sklearn.linear_model import LogisticRegression\n",
        "from sklearn.model_selection import cross_val_score\n",
        "\n",
        "from google.colab import files"
      ],
      "execution_count": 0,
      "outputs": []
    },
    {
      "metadata": {
        "id": "r8hrbpYFAA_J",
        "colab_type": "code",
        "colab": {
          "autoexec": {
            "startup": false,
            "wait_interval": 0
          }
        }
      },
      "cell_type": "code",
      "source": [
        "def submit(X, Y, model, X_test, fit=True):\n",
        "    if fit:\n",
        "        model.fit(X, Y)\n",
        "    yhat = model.predict(X_test)\n",
        "    yhat = np.round(yhat)\n",
        "    \n",
        "    submit = submit_raw.copy()\n",
        "    submit['churn'] = yhat\n",
        "    submit.to_csv('submit.csv', index=False)\n",
        "    \n",
        "    files.download('submit.csv')"
      ],
      "execution_count": 0,
      "outputs": []
    },
    {
      "metadata": {
        "id": "TbWavCLsNnH7",
        "colab_type": "code",
        "colab": {
          "autoexec": {
            "startup": false,
            "wait_interval": 0
          },
          "base_uri": "https://localhost:8080/",
          "height": 34
        },
        "outputId": "c847d404-81ef-4c04-955f-65a0a7ac7026",
        "executionInfo": {
          "status": "ok",
          "timestamp": 1526594906976,
          "user_tz": 420,
          "elapsed": 1246,
          "user": {
            "displayName": "Ray Heberer",
            "photoUrl": "//lh4.googleusercontent.com/-BMlr5I5Dhow/AAAAAAAAAAI/AAAAAAAAABc/XW4PF5A8K2Q/s50-c-k-no/photo.jpg",
            "userId": "116545933704048584401"
          }
        }
      },
      "cell_type": "code",
      "source": [
        "X = train_enc.as_matrix()\n",
        "Y = churn.values.ravel()\n",
        "X_test = test_enc.as_matrix()\n",
        "\n",
        "model = LogisticRegression()\n",
        "scores = cross_val_score(model, X, Y, cv=3, scoring='roc_auc')\n",
        "print(\"Mean AUC Score - Logistic Regression: \", scores.mean())\n",
        "\n",
        "submit(X, Y, model, X_test)\n",
        "# score: 0.58445"
      ],
      "execution_count": 16,
      "outputs": [
        {
          "output_type": "stream",
          "text": [
            "Mean AUC Score - Logistic Regression:  0.8024585946771395\n"
          ],
          "name": "stdout"
        }
      ]
    },
    {
      "metadata": {
        "id": "hujBSk-X-mV6",
        "colab_type": "code",
        "colab": {
          "autoexec": {
            "startup": false,
            "wait_interval": 0
          },
          "base_uri": "https://localhost:8080/",
          "height": 34
        },
        "outputId": "11fc8a50-b026-40a1-8511-487e6681c372",
        "executionInfo": {
          "status": "ok",
          "timestamp": 1526594913128,
          "user_tz": 420,
          "elapsed": 1072,
          "user": {
            "displayName": "Ray Heberer",
            "photoUrl": "//lh4.googleusercontent.com/-BMlr5I5Dhow/AAAAAAAAAAI/AAAAAAAAABc/XW4PF5A8K2Q/s50-c-k-no/photo.jpg",
            "userId": "116545933704048584401"
          }
        }
      },
      "cell_type": "code",
      "source": [
        "best_score = 0\n",
        "best_feature = None\n",
        "best_model = None\n",
        "for feature in train_enc.columns:\n",
        "    X = train_enc[[feature]].as_matrix()\n",
        "    model = LogisticRegression()\n",
        "    scores = cross_val_score(model, X, Y, cv=3, scoring='roc_auc')\n",
        "    \n",
        "    score = scores.mean()\n",
        "    if score > best_score:\n",
        "        best_score = score\n",
        "        best_model = model\n",
        "        best_feature = feature\n",
        "        \n",
        "print(\"Mean AUC Score - Logistic Regression: \", best_score)\n",
        "\n",
        "submit(train_enc[[best_feature]].as_matrix(), Y, best_model, test_enc[[best_feature]].as_matrix())\n",
        "\n",
        "# score: 0.50000"
      ],
      "execution_count": 17,
      "outputs": [
        {
          "output_type": "stream",
          "text": [
            "Mean AUC Score - Logistic Regression:  0.6428929428728093\n"
          ],
          "name": "stdout"
        }
      ]
    },
    {
      "metadata": {
        "id": "3tjzskZuBJt_",
        "colab_type": "text"
      },
      "cell_type": "markdown",
      "source": [
        "### Out-of-the-box Models\n",
        "\n",
        "I will try the models on 4 versions of the data, two without the `state` feature, and two that are scaled, and the appropriate combinations of these aspects."
      ]
    },
    {
      "metadata": {
        "id": "Dp3QZZLzGSOJ",
        "colab_type": "code",
        "colab": {
          "autoexec": {
            "startup": false,
            "wait_interval": 0
          }
        }
      },
      "cell_type": "code",
      "source": [
        "from sklearn.svm import SVC\n",
        "from sklearn.tree import DecisionTreeClassifier\n",
        "from sklearn.ensemble import RandomForestClassifier\n",
        "from sklearn.naive_bayes import GaussianNB\n",
        "from sklearn.neighbors import KNeighborsClassifier"
      ],
      "execution_count": 0,
      "outputs": []
    },
    {
      "metadata": {
        "id": "PNKAcAxWB5kq",
        "colab_type": "code",
        "colab": {
          "autoexec": {
            "startup": false,
            "wait_interval": 0
          }
        }
      },
      "cell_type": "code",
      "source": [
        "X = train_enc.drop('state', axis=1).as_matrix()\n",
        "X_state = train_enc.as_matrix()\n",
        "X_scaled = train_enc_scaled.drop('state', axis=1).as_matrix()\n",
        "X_scaled_state = train_enc_scaled.as_matrix()\n",
        "\n",
        "X_test = test_enc.drop('state', axis=1).as_matrix()\n",
        "X_test_state = test_enc.as_matrix()\n",
        "X_test_scaled = test_enc_scaled.drop('state', axis=1).as_matrix()\n",
        "X_test_scaled_state = test_enc_scaled.as_matrix()"
      ],
      "execution_count": 0,
      "outputs": []
    },
    {
      "metadata": {
        "id": "G6LytPKaBL5X",
        "colab_type": "code",
        "colab": {
          "autoexec": {
            "startup": false,
            "wait_interval": 0
          },
          "base_uri": "https://localhost:8080/",
          "height": 554
        },
        "outputId": "1e7279e0-10ad-4607-9cdb-5e76aad2251d",
        "executionInfo": {
          "status": "ok",
          "timestamp": 1526594921375,
          "user_tz": 420,
          "elapsed": 2984,
          "user": {
            "displayName": "Ray Heberer",
            "photoUrl": "//lh4.googleusercontent.com/-BMlr5I5Dhow/AAAAAAAAAAI/AAAAAAAAABc/XW4PF5A8K2Q/s50-c-k-no/photo.jpg",
            "userId": "116545933704048584401"
          }
        }
      },
      "cell_type": "code",
      "source": [
        "X_variants = [X, X_state, X_scaled, X_scaled_state]\n",
        "X_names = ['X without state', 'X with state', 'X scaled without state', 'X scaled with state']\n",
        "\n",
        "for train_X, X_name in zip(X_variants, X_names):\n",
        "    print('Data:', X_name)\n",
        "    svc = SVC()\n",
        "    svc_scores = cross_val_score(svc, train_X, Y, cv=3, scoring='roc_auc')\n",
        "    print(\"Mean AUC Score - SVC: \", svc_scores.mean())\n",
        "\n",
        "    decision_tree = DecisionTreeClassifier()\n",
        "    decision_tree_scores = cross_val_score(decision_tree, train_X, Y, cv=3, scoring='roc_auc')\n",
        "    print(\"Mean AUC Score - Decision Tree: \", decision_tree_scores.mean())\n",
        "\n",
        "    random_forest = RandomForestClassifier()\n",
        "    random_forest_scores = cross_val_score(random_forest, train_X, Y, cv=3, scoring='roc_auc')\n",
        "    print(\"Mean AUC Score - Random Forest: \", random_forest_scores.mean())\n",
        "\n",
        "    naive_bayes = GaussianNB()\n",
        "    naive_bayes_scores = cross_val_score(naive_bayes, train_X, Y, cv=3, scoring='roc_auc')\n",
        "    print(\"Mean AUC Score - Naive Bayes: \", naive_bayes_scores.mean())\n",
        "\n",
        "    knn = KNeighborsClassifier()\n",
        "    knn_scores = cross_val_score(knn, train_X, Y, cv=3, scoring='roc_auc')\n",
        "    print(\"Mean AUC Score - KNN: \", knn_scores.mean())\n",
        "    print('\\n')"
      ],
      "execution_count": 20,
      "outputs": [
        {
          "output_type": "stream",
          "text": [
            "Data: X without state\n",
            "Mean AUC Score - SVC:  0.5010121039943636\n",
            "Mean AUC Score - Decision Tree:  0.8115716433066683\n",
            "Mean AUC Score - Random Forest:  0.8764658863491356\n",
            "Mean AUC Score - Naive Bayes:  0.8314302103719751\n",
            "Mean AUC Score - KNN:  0.6510842368408891\n",
            "\n",
            "\n",
            "Data: X with state\n",
            "Mean AUC Score - SVC:  0.500552849461422\n",
            "Mean AUC Score - Decision Tree:  0.8084486545991615\n",
            "Mean AUC Score - Random Forest:  0.8643936205752466\n",
            "Mean AUC Score - Naive Bayes:  0.830738426912451\n",
            "Mean AUC Score - KNN:  0.6528291318692109\n",
            "\n",
            "\n",
            "Data: X scaled without state\n",
            "Mean AUC Score - SVC:  0.8876609277334541\n",
            "Mean AUC Score - Decision Tree:  0.8102547443391904\n",
            "Mean AUC Score - Random Forest:  0.8708383249467738\n",
            "Mean AUC Score - Naive Bayes:  0.8314302103719751\n",
            "Mean AUC Score - KNN:  0.805815117203673\n",
            "\n",
            "\n",
            "Data: X scaled with state\n",
            "Mean AUC Score - SVC:  0.8863699854616343\n",
            "Mean AUC Score - Decision Tree:  0.813550400854176\n",
            "Mean AUC Score - Random Forest:  0.88045449397363\n",
            "Mean AUC Score - Naive Bayes:  0.830738426912451\n",
            "Mean AUC Score - KNN:  0.7900151630402732\n",
            "\n",
            "\n"
          ],
          "name": "stdout"
        }
      ]
    },
    {
      "metadata": {
        "id": "HDqVnw9KIRcn",
        "colab_type": "text"
      },
      "cell_type": "markdown",
      "source": [
        "The best two out-of-the-box models are the SVC, training on the scaled data without `state`, and the random forest, on the unscaled data without `state`"
      ]
    },
    {
      "metadata": {
        "id": "bXppsn3Uoiy8",
        "colab_type": "text"
      },
      "cell_type": "markdown",
      "source": [
        "## Evaluation\n",
        "\n",
        "Start off by making a submission to the Kaggle leaderboard that is purely a column of all 1s or 0s as a baseline. There is a sampleSubmission.csv file that is already prepared in this format if you would like to use that.\n",
        "\n",
        "Pick one of the better models from your out-of-the-box analysis and then use it to make predictions on the test dataset. Then take those predictions and make a new submission to the leaderboad. You are allowed 20 submissions to the leaderboard per day, so don't go submitting willy nilly.\n",
        "\n",
        "Try and ensure that you have truly improved your classifier before making a new submission. Use the cross-validation techniques that we have been studying to evaluate your model on the training dataset before going to the trouble of making predictions on the test dataset and having to format a new submission."
      ]
    },
    {
      "metadata": {
        "id": "sRz3ktU8IQ3i",
        "colab_type": "code",
        "colab": {
          "autoexec": {
            "startup": false,
            "wait_interval": 0
          }
        }
      },
      "cell_type": "code",
      "source": [
        "submit(X_scaled, Y, svc, X_test_scaled)\n",
        "# mean auc: 0.88766, test auc: 0.74158\n",
        "\n",
        "submit(X, Y, random_forest, X_test)\n",
        "# mean auc: 0.87647, test auc: 0.74581"
      ],
      "execution_count": 0,
      "outputs": []
    },
    {
      "metadata": {
        "id": "TndTe_TElERf",
        "colab_type": "text"
      },
      "cell_type": "markdown",
      "source": [
        "## Repeat\n",
        "\n",
        "The Machine Learning Framework is a cycle. Keep on looping through it and improving your classifier. Don't delete your previous work since we want to see how your thinking developed. Go back and try some hyperparameter tuning, format additional columns/features so that they are ready to be fed to the model. Keep on working down below, don't be afraid to add lots of code cells to your Colab.\n",
        "\n",
        "## Stretch Goal:\n",
        "\n",
        "Try and get the highest score that you possibly can. If you're not on the top of the leaderboard, then there must still be ways to improve your classifier that you haven't considered yet."
      ]
    },
    {
      "metadata": {
        "id": "JaladDQrLNsV",
        "colab_type": "text"
      },
      "cell_type": "markdown",
      "source": [
        "### Feature Selection\n",
        "I will work with the random forest model to begin with. To find the best set of features, I will run backward feature elimination (beginning with all of the features, remove the feature that the model performs best without, until no more improvements can be made)."
      ]
    },
    {
      "metadata": {
        "id": "j07kh0LZlHGM",
        "colab_type": "code",
        "colab": {
          "autoexec": {
            "startup": false,
            "wait_interval": 0
          },
          "base_uri": "https://localhost:8080/",
          "height": 34
        },
        "outputId": "dc8f761e-04ca-4dac-f753-d76e5029c20b",
        "executionInfo": {
          "status": "ok",
          "timestamp": 1526598027561,
          "user_tz": 420,
          "elapsed": 1450,
          "user": {
            "displayName": "Ray Heberer",
            "photoUrl": "//lh4.googleusercontent.com/-BMlr5I5Dhow/AAAAAAAAAAI/AAAAAAAAABc/XW4PF5A8K2Q/s50-c-k-no/photo.jpg",
            "userId": "116545933704048584401"
          }
        }
      },
      "cell_type": "code",
      "source": [
        "from sklearn.feature_selection import RFE\n",
        "from sklearn.model_selection import StratifiedKFold\n",
        "\n",
        "model = RandomForestClassifier()\n",
        "\n",
        "rfe = RFE(estimator=model, step=1)\n",
        "scores = cross_val_score(rfe, X, Y, cv=3, scoring='roc_auc')\n",
        "print(\"Mean AUC Score - Random Forest: \", scores.mean())"
      ],
      "execution_count": 68,
      "outputs": [
        {
          "output_type": "stream",
          "text": [
            "Mean AUC Score - Random Forest:  0.8172285066932288\n"
          ],
          "name": "stdout"
        }
      ]
    },
    {
      "metadata": {
        "id": "qnGfXsvdN_r0",
        "colab_type": "code",
        "colab": {
          "autoexec": {
            "startup": false,
            "wait_interval": 0
          }
        }
      },
      "cell_type": "code",
      "source": [
        "submit(X, Y, rfe, X_test) # score: 0.74586"
      ],
      "execution_count": 0,
      "outputs": []
    },
    {
      "metadata": {
        "id": "AEYmVsMNOxfi",
        "colab_type": "text"
      },
      "cell_type": "markdown",
      "source": [
        "There is less of a gap between the CV and the test AUC scores, indicating that less overfitting is taking place."
      ]
    },
    {
      "metadata": {
        "id": "N3uYo3TnVVuD",
        "colab_type": "code",
        "colab": {
          "autoexec": {
            "startup": false,
            "wait_interval": 0
          }
        }
      },
      "cell_type": "code",
      "source": [
        "rfe.fit(X, Y)\n",
        "X_sub = np.delete(X, np.arange(18)[~rfe.support_], axis=1)\n",
        "X_test_sub = np.delete(X, np.arange(18)[~rfe.support_], axis=1)\n",
        "X_scaled_sub = np.delete(X_scaled, np.arange(18)[~rfe.support_], axis=1)\n",
        "X_test_scaled_sub = np.delete(X_test_scaled, np.arange(18)[~rfe.support_], axis=1)"
      ],
      "execution_count": 0,
      "outputs": []
    },
    {
      "metadata": {
        "id": "THxG-inwfrtd",
        "colab_type": "code",
        "colab": {
          "autoexec": {
            "startup": false,
            "wait_interval": 0
          },
          "base_uri": "https://localhost:8080/",
          "height": 84
        },
        "outputId": "81200dfe-9868-4986-a332-c95727161a48",
        "executionInfo": {
          "status": "ok",
          "timestamp": 1526600791112,
          "user_tz": 420,
          "elapsed": 321,
          "user": {
            "displayName": "Ray Heberer",
            "photoUrl": "//lh4.googleusercontent.com/-BMlr5I5Dhow/AAAAAAAAAAI/AAAAAAAAABc/XW4PF5A8K2Q/s50-c-k-no/photo.jpg",
            "userId": "116545933704048584401"
          }
        }
      },
      "cell_type": "code",
      "source": [
        "(train_enc.columns[1:])[rfe.support_]"
      ],
      "execution_count": 161,
      "outputs": [
        {
          "output_type": "execute_result",
          "data": {
            "text/plain": [
              "Index(['international_plan', 'day_mins', 'day_charge', 'eve_mins',\n",
              "       'eve_charge', 'night_mins', 'night_charge', 'intl_charge',\n",
              "       'custserv_calls'],\n",
              "      dtype='object')"
            ]
          },
          "metadata": {
            "tags": []
          },
          "execution_count": 161
        }
      ]
    },
    {
      "metadata": {
        "id": "qK_uYNO-PTgT",
        "colab_type": "text"
      },
      "cell_type": "markdown",
      "source": [
        "### Hyperparameter Tuning\n",
        "\n",
        "I will try tuning the hyperparameters of the SVC and the Random Forest"
      ]
    },
    {
      "metadata": {
        "id": "u_0bVLHRO3zm",
        "colab_type": "code",
        "colab": {
          "autoexec": {
            "startup": false,
            "wait_interval": 0
          },
          "base_uri": "https://localhost:8080/",
          "height": 34
        },
        "outputId": "cee29ba0-c2f7-45c0-c111-5c7d0f1d347c",
        "executionInfo": {
          "status": "ok",
          "timestamp": 1526598664427,
          "user_tz": 420,
          "elapsed": 47079,
          "user": {
            "displayName": "Ray Heberer",
            "photoUrl": "//lh4.googleusercontent.com/-BMlr5I5Dhow/AAAAAAAAAAI/AAAAAAAAABc/XW4PF5A8K2Q/s50-c-k-no/photo.jpg",
            "userId": "116545933704048584401"
          }
        }
      },
      "cell_type": "code",
      "source": [
        "from sklearn.model_selection import RandomizedSearchCV\n",
        "\n",
        "n_estimators = range(1, 21)\n",
        "max_features = range(1, X_sub.shape[1]//2)\n",
        "min_samples_split = range(X_sub.shape[0]//20, X_sub.shape[0]//5, 20)\n",
        "hyperparameters = dict(n_estimators=n_estimators, \n",
        "                       max_features=max_features, \n",
        "                       min_samples_split=min_samples_split)\n",
        "\n",
        "model = RandomForestClassifier()\n",
        "clf = RandomizedSearchCV(model, hyperparameters, n_iter=500, cv=3, scoring='roc_auc', random_state=41)\n",
        "\n",
        "clf.fit(X_sub, Y)\n",
        "print(\"Mean AUC Score - Random Forest: \", clf.best_score_)"
      ],
      "execution_count": 111,
      "outputs": [
        {
          "output_type": "stream",
          "text": [
            "Mean AUC Score - Random Forest:  0.8795256717377514\n"
          ],
          "name": "stdout"
        }
      ]
    },
    {
      "metadata": {
        "id": "ZJLywgpyUPWA",
        "colab_type": "code",
        "colab": {
          "autoexec": {
            "startup": false,
            "wait_interval": 0
          }
        }
      },
      "cell_type": "code",
      "source": [
        "submit(X, Y, clf.best_estimator_, X_test) # score: 0.59496"
      ],
      "execution_count": 0,
      "outputs": []
    },
    {
      "metadata": {
        "id": "fQBq6uz1nTE6",
        "colab_type": "text"
      },
      "cell_type": "markdown",
      "source": [
        ""
      ]
    },
    {
      "metadata": {
        "id": "p_GAFrZ6XthK",
        "colab_type": "text"
      },
      "cell_type": "markdown",
      "source": [
        "### Ensembling\n",
        "I will try combining the results of 2 or more classifiers."
      ]
    },
    {
      "metadata": {
        "id": "mx2sOAo9YAAf",
        "colab_type": "code",
        "colab": {
          "autoexec": {
            "startup": false,
            "wait_interval": 0
          },
          "base_uri": "https://localhost:8080/",
          "height": 34
        },
        "outputId": "aaeffd4c-3ae1-44db-e223-8764b47d21d9",
        "executionInfo": {
          "status": "ok",
          "timestamp": 1526600084633,
          "user_tz": 420,
          "elapsed": 1091,
          "user": {
            "displayName": "Ray Heberer",
            "photoUrl": "//lh4.googleusercontent.com/-BMlr5I5Dhow/AAAAAAAAAAI/AAAAAAAAABc/XW4PF5A8K2Q/s50-c-k-no/photo.jpg",
            "userId": "116545933704048584401"
          }
        }
      },
      "cell_type": "code",
      "source": [
        "from sklearn.ensemble import VotingClassifier\n",
        "\n",
        "logistic = LogisticRegression()\n",
        "svc = SVC(probability=True)\n",
        "random_forest = RandomForestClassifier()\n",
        "naive_bayes = GaussianNB()\n",
        "knn = KNeighborsClassifier()\n",
        "\n",
        "estimators = [('lr', logistic), ('svc', svc), ('rf', random_forest), \n",
        "              ('nb', naive_bayes), ('knn', knn)]\n",
        "\n",
        "ens = VotingClassifier(estimators, voting='soft')\n",
        "scores = cross_val_score(ens, X_scaled_sub, Y, cv=3, scoring='roc_auc')\n",
        "print(\"Mean AUC Score - Random Forest: \", scores.mean())"
      ],
      "execution_count": 127,
      "outputs": [
        {
          "output_type": "stream",
          "text": [
            "Mean AUC Score - Random Forest:  0.8849171866023703\n"
          ],
          "name": "stdout"
        }
      ]
    },
    {
      "metadata": {
        "id": "5ZLhXV2Kcitc",
        "colab_type": "code",
        "colab": {
          "autoexec": {
            "startup": false,
            "wait_interval": 0
          },
          "base_uri": "https://localhost:8080/",
          "height": 70
        },
        "outputId": "15cc0cb9-af6a-471f-d7b5-58db3354d3bf",
        "executionInfo": {
          "status": "ok",
          "timestamp": 1526600101286,
          "user_tz": 420,
          "elapsed": 1400,
          "user": {
            "displayName": "Ray Heberer",
            "photoUrl": "//lh4.googleusercontent.com/-BMlr5I5Dhow/AAAAAAAAAAI/AAAAAAAAABc/XW4PF5A8K2Q/s50-c-k-no/photo.jpg",
            "userId": "116545933704048584401"
          }
        }
      },
      "cell_type": "code",
      "source": [
        "submit(X_scaled_sub, Y, ens, X_test_scaled_sub) # score: 0.73212"
      ],
      "execution_count": 128,
      "outputs": [
        {
          "output_type": "stream",
          "text": [
            "/usr/local/lib/python3.6/dist-packages/sklearn/preprocessing/label.py:151: DeprecationWarning: The truth value of an empty array is ambiguous. Returning False, but in future this will result in an error. Use `array.size > 0` to check that an array is not empty.\n",
            "  if diff:\n"
          ],
          "name": "stderr"
        }
      ]
    },
    {
      "metadata": {
        "id": "i3VVGwr-ddcr",
        "colab_type": "text"
      },
      "cell_type": "markdown",
      "source": [
        "### State Data\n",
        "A lot of data might be thrown away since I am not considering the state. Since there are too many states to one hot encode, considering the amount of data, and they are not meaningfully ordered, I will try reporting state-based statistics instead."
      ]
    },
    {
      "metadata": {
        "id": "x5lspmdyg0-N",
        "colab_type": "code",
        "colab": {
          "autoexec": {
            "startup": false,
            "wait_interval": 0
          }
        }
      },
      "cell_type": "code",
      "source": [
        "def replace_category_with_churn_frequency(data, category, from_):\n",
        "    by_category = from_.groupby(category)['churn'].mean()\n",
        "    \n",
        "    data[category] = from_[category].replace(dict(by_category))\n",
        "    return data"
      ],
      "execution_count": 0,
      "outputs": []
    },
    {
      "metadata": {
        "id": "NECP6sY7eoBd",
        "colab_type": "code",
        "colab": {
          "autoexec": {
            "startup": false,
            "wait_interval": 0
          },
          "base_uri": "https://localhost:8080/",
          "height": 215
        },
        "outputId": "64df8ef9-ac42-4757-ddb7-94aae8e563fe",
        "executionInfo": {
          "status": "ok",
          "timestamp": 1526601483785,
          "user_tz": 420,
          "elapsed": 368,
          "user": {
            "displayName": "Ray Heberer",
            "photoUrl": "//lh4.googleusercontent.com/-BMlr5I5Dhow/AAAAAAAAAAI/AAAAAAAAABc/XW4PF5A8K2Q/s50-c-k-no/photo.jpg",
            "userId": "116545933704048584401"
          }
        }
      },
      "cell_type": "code",
      "source": [
        "train_enc = replace_category_with_churn_frequency(train_enc, 'state', train_raw)\n",
        "display(train_enc.head())\n",
        "\n",
        "test_enc = replace_category_with_churn_frequency(test_enc, 'state', test_raw)\n",
        "train_enc_scaled = replace_category_with_churn_frequency(train_enc_scaled, 'state', train_raw)\n",
        "test_enc_scaled = replace_category_with_churn_frequency(test_enc_scaled, 'state', test_raw)"
      ],
      "execution_count": 207,
      "outputs": [
        {
          "output_type": "display_data",
          "data": {
            "text/html": [
              "<div>\n",
              "<style scoped>\n",
              "    .dataframe tbody tr th:only-of-type {\n",
              "        vertical-align: middle;\n",
              "    }\n",
              "\n",
              "    .dataframe tbody tr th {\n",
              "        vertical-align: top;\n",
              "    }\n",
              "\n",
              "    .dataframe thead th {\n",
              "        text-align: right;\n",
              "    }\n",
              "</style>\n",
              "<table border=\"1\" class=\"dataframe\">\n",
              "  <thead>\n",
              "    <tr style=\"text-align: right;\">\n",
              "      <th></th>\n",
              "      <th>state</th>\n",
              "      <th>account_length</th>\n",
              "      <th>area_code</th>\n",
              "      <th>international_plan</th>\n",
              "      <th>vmail_plan</th>\n",
              "      <th>vmail_message</th>\n",
              "      <th>day_mins</th>\n",
              "      <th>day_calls</th>\n",
              "      <th>day_charge</th>\n",
              "      <th>eve_mins</th>\n",
              "      <th>eve_calls</th>\n",
              "      <th>eve_charge</th>\n",
              "      <th>night_mins</th>\n",
              "      <th>night_calls</th>\n",
              "      <th>night_charge</th>\n",
              "      <th>intl_mins</th>\n",
              "      <th>intl_calls</th>\n",
              "      <th>intl_charge</th>\n",
              "      <th>custserv_calls</th>\n",
              "    </tr>\n",
              "  </thead>\n",
              "  <tbody>\n",
              "    <tr>\n",
              "      <th>0</th>\n",
              "      <td>0.170213</td>\n",
              "      <td>100</td>\n",
              "      <td>2</td>\n",
              "      <td>1</td>\n",
              "      <td>0</td>\n",
              "      <td>0</td>\n",
              "      <td>107.2</td>\n",
              "      <td>98</td>\n",
              "      <td>18.22</td>\n",
              "      <td>86.8</td>\n",
              "      <td>122</td>\n",
              "      <td>7.38</td>\n",
              "      <td>156.2</td>\n",
              "      <td>117</td>\n",
              "      <td>7.030000</td>\n",
              "      <td>9.7</td>\n",
              "      <td>4</td>\n",
              "      <td>2.62</td>\n",
              "      <td>1</td>\n",
              "    </tr>\n",
              "    <tr>\n",
              "      <th>1</th>\n",
              "      <td>0.170213</td>\n",
              "      <td>146</td>\n",
              "      <td>0</td>\n",
              "      <td>0</td>\n",
              "      <td>1</td>\n",
              "      <td>23</td>\n",
              "      <td>149.6</td>\n",
              "      <td>96</td>\n",
              "      <td>25.43</td>\n",
              "      <td>239.8</td>\n",
              "      <td>124</td>\n",
              "      <td>20.38</td>\n",
              "      <td>293.5</td>\n",
              "      <td>135</td>\n",
              "      <td>13.210000</td>\n",
              "      <td>7.4</td>\n",
              "      <td>4</td>\n",
              "      <td>2.00</td>\n",
              "      <td>2</td>\n",
              "    </tr>\n",
              "    <tr>\n",
              "      <th>2</th>\n",
              "      <td>0.055556</td>\n",
              "      <td>84</td>\n",
              "      <td>1</td>\n",
              "      <td>0</td>\n",
              "      <td>0</td>\n",
              "      <td>0</td>\n",
              "      <td>159.0</td>\n",
              "      <td>80</td>\n",
              "      <td>27.03</td>\n",
              "      <td>167.9</td>\n",
              "      <td>128</td>\n",
              "      <td>14.27</td>\n",
              "      <td>167.6</td>\n",
              "      <td>101</td>\n",
              "      <td>7.540000</td>\n",
              "      <td>12.3</td>\n",
              "      <td>5</td>\n",
              "      <td>3.32</td>\n",
              "      <td>1</td>\n",
              "    </tr>\n",
              "    <tr>\n",
              "      <th>3</th>\n",
              "      <td>0.111111</td>\n",
              "      <td>43</td>\n",
              "      <td>0</td>\n",
              "      <td>0</td>\n",
              "      <td>0</td>\n",
              "      <td>0</td>\n",
              "      <td>135.8</td>\n",
              "      <td>125</td>\n",
              "      <td>23.09</td>\n",
              "      <td>163.2</td>\n",
              "      <td>88</td>\n",
              "      <td>13.87</td>\n",
              "      <td>229.8</td>\n",
              "      <td>106</td>\n",
              "      <td>10.340000</td>\n",
              "      <td>12.6</td>\n",
              "      <td>0</td>\n",
              "      <td>3.40</td>\n",
              "      <td>0</td>\n",
              "    </tr>\n",
              "    <tr>\n",
              "      <th>4</th>\n",
              "      <td>0.222222</td>\n",
              "      <td>101</td>\n",
              "      <td>1</td>\n",
              "      <td>0</td>\n",
              "      <td>0</td>\n",
              "      <td>0</td>\n",
              "      <td>193.7</td>\n",
              "      <td>108</td>\n",
              "      <td>32.93</td>\n",
              "      <td>186.6</td>\n",
              "      <td>0</td>\n",
              "      <td>15.86</td>\n",
              "      <td>223.0</td>\n",
              "      <td>100</td>\n",
              "      <td>10.034979</td>\n",
              "      <td>11.6</td>\n",
              "      <td>8</td>\n",
              "      <td>3.13</td>\n",
              "      <td>0</td>\n",
              "    </tr>\n",
              "  </tbody>\n",
              "</table>\n",
              "</div>"
            ],
            "text/plain": [
              "      state  account_length  area_code  international_plan  vmail_plan  \\\n",
              "0  0.170213             100          2                   1           0   \n",
              "1  0.170213             146          0                   0           1   \n",
              "2  0.055556              84          1                   0           0   \n",
              "3  0.111111              43          0                   0           0   \n",
              "4  0.222222             101          1                   0           0   \n",
              "\n",
              "   vmail_message  day_mins  day_calls  day_charge  eve_mins  eve_calls  \\\n",
              "0              0     107.2         98       18.22      86.8        122   \n",
              "1             23     149.6         96       25.43     239.8        124   \n",
              "2              0     159.0         80       27.03     167.9        128   \n",
              "3              0     135.8        125       23.09     163.2         88   \n",
              "4              0     193.7        108       32.93     186.6          0   \n",
              "\n",
              "   eve_charge  night_mins  night_calls  night_charge  intl_mins  intl_calls  \\\n",
              "0        7.38       156.2          117      7.030000        9.7           4   \n",
              "1       20.38       293.5          135     13.210000        7.4           4   \n",
              "2       14.27       167.6          101      7.540000       12.3           5   \n",
              "3       13.87       229.8          106     10.340000       12.6           0   \n",
              "4       15.86       223.0          100     10.034979       11.6           8   \n",
              "\n",
              "   intl_charge  custserv_calls  \n",
              "0         2.62               1  \n",
              "1         2.00               2  \n",
              "2         3.32               1  \n",
              "3         3.40               0  \n",
              "4         3.13               0  "
            ]
          },
          "metadata": {
            "tags": []
          }
        }
      ]
    },
    {
      "metadata": {
        "id": "M37-zFaLdcnH",
        "colab_type": "code",
        "colab": {
          "autoexec": {
            "startup": false,
            "wait_interval": 0
          },
          "base_uri": "https://localhost:8080/",
          "height": 50
        },
        "outputId": "001221c2-f041-4ecc-df7f-55eab9974ca2",
        "executionInfo": {
          "status": "ok",
          "timestamp": 1526601497007,
          "user_tz": 420,
          "elapsed": 538,
          "user": {
            "displayName": "Ray Heberer",
            "photoUrl": "//lh4.googleusercontent.com/-BMlr5I5Dhow/AAAAAAAAAAI/AAAAAAAAABc/XW4PF5A8K2Q/s50-c-k-no/photo.jpg",
            "userId": "116545933704048584401"
          }
        }
      },
      "cell_type": "code",
      "source": [
        "X = train_enc.as_matrix()\n",
        "X_test = test_enc.as_matrix()\n",
        "\n",
        "X_scaled = train_enc_scaled.as_matrix()\n",
        "X_test_scaled = test_enc_scaled.as_matrix()\n",
        "\n",
        "svc = SVC()\n",
        "scores = cross_val_score(svc, X_scaled, Y, cv=3, scoring='roc_auc')\n",
        "print(\"Mean AUC Score - SVC: \", scores.mean())\n",
        "\n",
        "rf = RandomForestClassifier()\n",
        "scores = cross_val_score(rf, X, Y, cv=3, scoring='roc_auc')\n",
        "print(\"Mean AUC Score - Random Forest: \", scores.mean())"
      ],
      "execution_count": 209,
      "outputs": [
        {
          "output_type": "stream",
          "text": [
            "Mean AUC Score - SVC:  0.8884270721721793\n",
            "Mean AUC Score - Random Forest:  0.87346441743229\n"
          ],
          "name": "stdout"
        }
      ]
    },
    {
      "metadata": {
        "id": "UjxXbc_uis5M",
        "colab_type": "code",
        "colab": {
          "autoexec": {
            "startup": false,
            "wait_interval": 0
          }
        }
      },
      "cell_type": "code",
      "source": [
        "submit(X, Y, rf, X_test) # score: 0.76059"
      ],
      "execution_count": 0,
      "outputs": []
    },
    {
      "metadata": {
        "id": "o7yg9ifjkSL4",
        "colab_type": "text"
      },
      "cell_type": "markdown",
      "source": [
        "#### Feature Selection"
      ]
    },
    {
      "metadata": {
        "id": "7xqsyft9iJoC",
        "colab_type": "code",
        "colab": {
          "autoexec": {
            "startup": false,
            "wait_interval": 0
          },
          "base_uri": "https://localhost:8080/",
          "height": 34
        },
        "outputId": "edafa956-1edd-4f14-d7bd-506c731cd394",
        "executionInfo": {
          "status": "ok",
          "timestamp": 1526601959574,
          "user_tz": 420,
          "elapsed": 1514,
          "user": {
            "displayName": "Ray Heberer",
            "photoUrl": "//lh4.googleusercontent.com/-BMlr5I5Dhow/AAAAAAAAAAI/AAAAAAAAABc/XW4PF5A8K2Q/s50-c-k-no/photo.jpg",
            "userId": "116545933704048584401"
          }
        }
      },
      "cell_type": "code",
      "source": [
        "model = RandomForestClassifier()\n",
        "\n",
        "rfe = RFE(estimator=model, step=1)\n",
        "scores = cross_val_score(rfe, X, Y, cv=3, scoring='roc_auc')\n",
        "print(\"Mean AUC Score - Random Forest: \", scores.mean())"
      ],
      "execution_count": 220,
      "outputs": [
        {
          "output_type": "stream",
          "text": [
            "Mean AUC Score - Random Forest:  0.8279636636421359\n"
          ],
          "name": "stdout"
        }
      ]
    },
    {
      "metadata": {
        "id": "lJQEOVwSjwQs",
        "colab_type": "code",
        "colab": {
          "autoexec": {
            "startup": false,
            "wait_interval": 0
          }
        }
      },
      "cell_type": "code",
      "source": [
        "submit(X, Y, rfe, X_test) # score: 0.78284"
      ],
      "execution_count": 0,
      "outputs": []
    },
    {
      "metadata": {
        "id": "tiQqvOo9kVAc",
        "colab_type": "text"
      },
      "cell_type": "markdown",
      "source": [
        "#### More Estimators"
      ]
    },
    {
      "metadata": {
        "id": "X68PM0kSkW5G",
        "colab_type": "code",
        "colab": {
          "autoexec": {
            "startup": false,
            "wait_interval": 0
          },
          "base_uri": "https://localhost:8080/",
          "height": 34
        },
        "outputId": "ce4303d7-e900-4d6e-c2bc-a8715d8642d6",
        "executionInfo": {
          "status": "ok",
          "timestamp": 1526602014660,
          "user_tz": 420,
          "elapsed": 6068,
          "user": {
            "displayName": "Ray Heberer",
            "photoUrl": "//lh4.googleusercontent.com/-BMlr5I5Dhow/AAAAAAAAAAI/AAAAAAAAABc/XW4PF5A8K2Q/s50-c-k-no/photo.jpg",
            "userId": "116545933704048584401"
          }
        }
      },
      "cell_type": "code",
      "source": [
        "model = RandomForestClassifier(n_estimators=50)\n",
        "\n",
        "rfe = RFE(estimator=model, step=1)\n",
        "scores = cross_val_score(rfe, X, Y, cv=3, scoring='roc_auc')\n",
        "print(\"Mean AUC Score - Random Forest: \", scores.mean())"
      ],
      "execution_count": 221,
      "outputs": [
        {
          "output_type": "stream",
          "text": [
            "Mean AUC Score - Random Forest:  0.8602463684093742\n"
          ],
          "name": "stdout"
        }
      ]
    },
    {
      "metadata": {
        "id": "b8UBy0IJki0I",
        "colab_type": "code",
        "colab": {
          "autoexec": {
            "startup": false,
            "wait_interval": 0
          }
        }
      },
      "cell_type": "code",
      "source": [
        "submit(X, Y, rfe, X_test) # score: 0.72558"
      ],
      "execution_count": 0,
      "outputs": []
    },
    {
      "metadata": {
        "id": "wjV6UFyWlFSb",
        "colab_type": "text"
      },
      "cell_type": "markdown",
      "source": [
        "#### Gradient Boosting"
      ]
    },
    {
      "metadata": {
        "id": "2abfZ6FXlGZ9",
        "colab_type": "code",
        "colab": {
          "autoexec": {
            "startup": false,
            "wait_interval": 0
          },
          "base_uri": "https://localhost:8080/",
          "height": 34
        },
        "outputId": "3194d335-a634-4eee-9e2b-f1419b62c822",
        "executionInfo": {
          "status": "ok",
          "timestamp": 1526602242263,
          "user_tz": 420,
          "elapsed": 944,
          "user": {
            "displayName": "Ray Heberer",
            "photoUrl": "//lh4.googleusercontent.com/-BMlr5I5Dhow/AAAAAAAAAAI/AAAAAAAAABc/XW4PF5A8K2Q/s50-c-k-no/photo.jpg",
            "userId": "116545933704048584401"
          }
        }
      },
      "cell_type": "code",
      "source": [
        "from sklearn.ensemble import GradientBoostingClassifier\n",
        "\n",
        "model = GradientBoostingClassifier()\n",
        "scores = cross_val_score(model, X, Y, cv=3, scoring='roc_auc')\n",
        "print(\"Mean AUC Score - Gradient Boosting: \", scores.mean())"
      ],
      "execution_count": 226,
      "outputs": [
        {
          "output_type": "stream",
          "text": [
            "Mean AUC Score - Gradient Boosting:  0.9031022767116715\n"
          ],
          "name": "stdout"
        }
      ]
    },
    {
      "metadata": {
        "id": "p1vwQQD6lZS1",
        "colab_type": "code",
        "colab": {
          "autoexec": {
            "startup": false,
            "wait_interval": 0
          }
        }
      },
      "cell_type": "code",
      "source": [
        "submit(X, Y, model, X_test) # score: 0.82922"
      ],
      "execution_count": 0,
      "outputs": []
    },
    {
      "metadata": {
        "id": "eii2OVAilmtd",
        "colab_type": "code",
        "colab": {
          "autoexec": {
            "startup": false,
            "wait_interval": 0
          },
          "base_uri": "https://localhost:8080/",
          "height": 34
        },
        "outputId": "2a5fece9-b984-426b-c6a2-4589ed8d2c1e",
        "executionInfo": {
          "status": "ok",
          "timestamp": 1526603270718,
          "user_tz": 420,
          "elapsed": 6380,
          "user": {
            "displayName": "Ray Heberer",
            "photoUrl": "//lh4.googleusercontent.com/-BMlr5I5Dhow/AAAAAAAAAAI/AAAAAAAAABc/XW4PF5A8K2Q/s50-c-k-no/photo.jpg",
            "userId": "116545933704048584401"
          }
        }
      },
      "cell_type": "code",
      "source": [
        "model = GradientBoostingClassifier()\n",
        "\n",
        "rfe = RFE(estimator=model, step=1)\n",
        "scores = cross_val_score(rfe, X, Y, cv=3, scoring='roc_auc')\n",
        "print(\"Mean AUC Score - Gradient Boosting: \", scores.mean())"
      ],
      "execution_count": 241,
      "outputs": [
        {
          "output_type": "stream",
          "text": [
            "Mean AUC Score - Gradient Boosting:  0.8554410132963648\n"
          ],
          "name": "stdout"
        }
      ]
    },
    {
      "metadata": {
        "id": "PTkmHUM8lsBX",
        "colab_type": "code",
        "colab": {
          "autoexec": {
            "startup": false,
            "wait_interval": 0
          }
        }
      },
      "cell_type": "code",
      "source": [
        "submit(X, Y, rfe, X_test) # score: 0.73649"
      ],
      "execution_count": 0,
      "outputs": []
    }
  ]
}