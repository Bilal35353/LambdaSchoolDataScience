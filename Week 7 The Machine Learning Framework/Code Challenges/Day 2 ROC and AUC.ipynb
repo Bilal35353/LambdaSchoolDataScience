{
  "nbformat": 4,
  "nbformat_minor": 0,
  "metadata": {
    "colab": {
      "name": "AUC Coding Challenge.ipynb",
      "version": "0.3.2",
      "views": {},
      "default_view": {},
      "provenance": [
        {
          "file_id": "1xuLPji93MPmkVTQIgq1YLCWUH0P2WKCj",
          "timestamp": 1526396505928
        },
        {
          "file_id": "1ZvTSgIadSujpndPYx_Zpysz0xDvOCXQg",
          "timestamp": 1526076252059
        },
        {
          "file_id": "1l2v-TFUpPYc746ZSv24U97i1g0TYhdgs",
          "timestamp": 1526009592603
        },
        {
          "file_id": "1Ig9oLMQaJn0zM48BTqrZxM8F5QUHGAME",
          "timestamp": 1526008523057
        }
      ],
      "collapsed_sections": []
    },
    "kernelspec": {
      "name": "python3",
      "display_name": "Python 3"
    }
  },
  "cells": [
    {
      "metadata": {
        "id": "aD8Yb0P8D04e",
        "colab_type": "text"
      },
      "cell_type": "markdown",
      "source": [
        "# Area-Under-Curve Measurement\n",
        "\n",
        "Objectives:\n",
        "* Compute true positive, true negative, false positive, and false negative classification rate\n",
        "* Adjust classification threshold to control above rates\n",
        "* Plot AUC  to demonstrate accuracy\n",
        "* Calculate AUC as a single value\n",
        "\n",
        "### Background\n",
        "\n",
        "You want to be familiar with ROC and AUC.\n",
        "\n",
        "#### Receiver Operating Characteristic Curve (ROC)\n",
        "\n",
        "[wikipedia](https://en.wikipedia.org/wiki/Receiver_operating_characteristic)\n",
        "[Precision and Recall](https://en.wikipedia.org/wiki/Precision_and_recall) [sklearn](http://scikit-learn.org/stable/auto_examples/model_selection/plot_roc.html)\n",
        "\n",
        "#### Area Under Curve (AUC)\n",
        "\n",
        "[sklearn](http://scikit-learn.org/stable/modules/generated/sklearn.metrics.auc.html)\n",
        "\n",
        "The ROC curve provides a visualization of the performance of a classifier, with false-positive rates along the $x$ axis and true-positive rates along the $y$ axis. A perfect classifier produces no false positives (100% specificity) and no false negatives (100% sensitivity). In reality, classifiers are not so discerning.\n",
        "\n",
        "### Do:\n",
        "\n",
        "Correct the bugs in the following code blocks in order to work through the mechanics of building an AUC. \n",
        "\n",
        "Once you've calculated `FPR` and `TPR` for the Logistic Regression classifier on its Sprint Challenge dataset and visualized the results, modify it to compute the same data using the _test_ data, instead of the _train_ data."
      ]
    },
    {
      "metadata": {
        "id": "9JrCk2HEPwoI",
        "colab_type": "text"
      },
      "cell_type": "markdown",
      "source": [
        "### 1. Compute Linear Regression Model\n",
        "\n",
        "Create a training set and train a Logistic Regression model with it"
      ]
    },
    {
      "metadata": {
        "id": "5UeD3N5_PwCF",
        "colab_type": "code",
        "colab": {
          "autoexec": {
            "startup": false,
            "wait_interval": 0
          },
          "base_uri": "https://localhost:8080/",
          "height": 85
        },
        "outputId": "71f8d960-94e5-44c9-a789-0cc193da00a0",
        "executionInfo": {
          "status": "ok",
          "timestamp": 1526402939077,
          "user_tz": 420,
          "elapsed": 1798,
          "user": {
            "displayName": "Ray Heberer",
            "photoUrl": "//lh4.googleusercontent.com/-BMlr5I5Dhow/AAAAAAAAAAI/AAAAAAAAABc/XW4PF5A8K2Q/s50-c-k-no/photo.jpg",
            "userId": "116545933704048584401"
          }
        }
      },
      "cell_type": "code",
      "source": [
        "import numpy as np\n",
        "import pandas as pd\n",
        "from sklearn.linear_model import LogisticRegression\n",
        "from sklearn.model_selection import train_test_split\n",
        "\n",
        "data = pd.read_csv('https://www.dropbox.com/s/bnwfu81bjpf22hp/logistic_regression.csv?raw=1', index_col=0)\n",
        "# Use train_test_split to create a training set\n",
        "train_x, test_x, train_y, test_y = train_test_split(data[['x1','x2']],data['y'])\n",
        "\n",
        "# Create and train(fit) the model\n",
        "regr = LogisticRegression()\n",
        "regr.fit(train_x, train_y)"
      ],
      "execution_count": 12,
      "outputs": [
        {
          "output_type": "execute_result",
          "data": {
            "text/plain": [
              "LogisticRegression(C=1.0, class_weight=None, dual=False, fit_intercept=True,\n",
              "          intercept_scaling=1, max_iter=100, multi_class='ovr', n_jobs=1,\n",
              "          penalty='l2', random_state=None, solver='liblinear', tol=0.0001,\n",
              "          verbose=0, warm_start=False)"
            ]
          },
          "metadata": {
            "tags": []
          },
          "execution_count": 12
        }
      ]
    },
    {
      "metadata": {
        "id": "jSfpHHfJFPc5",
        "colab_type": "text"
      },
      "cell_type": "markdown",
      "source": [
        "### 2. Predict values for $\\hat{y}$ for the train set"
      ]
    },
    {
      "metadata": {
        "id": "x3K306_pFUQc",
        "colab_type": "code",
        "colab": {
          "autoexec": {
            "startup": false,
            "wait_interval": 0
          },
          "base_uri": "https://localhost:8080/",
          "height": 51
        },
        "outputId": "ff81cc3d-e7b7-4702-9e4e-ce47d0338564",
        "executionInfo": {
          "status": "ok",
          "timestamp": 1526402939817,
          "user_tz": 420,
          "elapsed": 321,
          "user": {
            "displayName": "Ray Heberer",
            "photoUrl": "//lh4.googleusercontent.com/-BMlr5I5Dhow/AAAAAAAAAAI/AAAAAAAAABc/XW4PF5A8K2Q/s50-c-k-no/photo.jpg",
            "userId": "116545933704048584401"
          }
        }
      },
      "cell_type": "code",
      "source": [
        "# Predict y_hat for the test set created previously\n",
        "\n",
        "y_hat = regr.predict(train_x)\n",
        "print(y_hat)"
      ],
      "execution_count": 13,
      "outputs": [
        {
          "output_type": "stream",
          "text": [
            "[1. 0. 1. 0. 0. 1. 1. 1. 1. 1. 0. 0. 1. 0. 0. 1. 1. 0. 0. 1. 1. 0. 0. 0.\n",
            " 1. 1. 0. 1. 1. 0.]\n"
          ],
          "name": "stdout"
        }
      ]
    },
    {
      "metadata": {
        "id": "xS6VlmpYTzPx",
        "colab_type": "text"
      },
      "cell_type": "markdown",
      "source": [
        "### Observe precision"
      ]
    },
    {
      "metadata": {
        "id": "Fv_8vZvrT44v",
        "colab_type": "code",
        "colab": {
          "autoexec": {
            "startup": false,
            "wait_interval": 0
          },
          "base_uri": "https://localhost:8080/",
          "height": 1071
        },
        "outputId": "51177314-71c6-474d-abc3-d439243bc351",
        "executionInfo": {
          "status": "ok",
          "timestamp": 1526402940796,
          "user_tz": 420,
          "elapsed": 369,
          "user": {
            "displayName": "Ray Heberer",
            "photoUrl": "//lh4.googleusercontent.com/-BMlr5I5Dhow/AAAAAAAAAAI/AAAAAAAAABc/XW4PF5A8K2Q/s50-c-k-no/photo.jpg",
            "userId": "116545933704048584401"
          }
        }
      },
      "cell_type": "code",
      "source": [
        "# True positive: if the prediction is 1, and the original data is 1, their sum is 2\n",
        "true_positives = (y_hat+train_y)==2\n",
        "# False positive: if the prediction is 1, but the original data is 0, their difference is 1\n",
        "false_positives = (y_hat-train_y)==1\n",
        "print(true_positives.T)\n",
        "print(false_positives.T)"
      ],
      "execution_count": 14,
      "outputs": [
        {
          "output_type": "stream",
          "text": [
            "27     True\n",
            "14    False\n",
            "22     True\n",
            "8     False\n",
            "11    False\n",
            "23     True\n",
            "21     True\n",
            "38     True\n",
            "31     True\n",
            "29     True\n",
            "10    False\n",
            "15    False\n",
            "26     True\n",
            "12    False\n",
            "4     False\n",
            "24     True\n",
            "20     True\n",
            "19    False\n",
            "2     False\n",
            "39     True\n",
            "33     True\n",
            "0     False\n",
            "30    False\n",
            "17    False\n",
            "32     True\n",
            "25     True\n",
            "9     False\n",
            "18    False\n",
            "34     True\n",
            "13    False\n",
            "Name: y, dtype: bool\n",
            "27    False\n",
            "14    False\n",
            "22    False\n",
            "8     False\n",
            "11    False\n",
            "23    False\n",
            "21    False\n",
            "38    False\n",
            "31    False\n",
            "29    False\n",
            "10    False\n",
            "15    False\n",
            "26    False\n",
            "12    False\n",
            "4     False\n",
            "24    False\n",
            "20    False\n",
            "19    False\n",
            "2     False\n",
            "39    False\n",
            "33    False\n",
            "0     False\n",
            "30    False\n",
            "17    False\n",
            "32    False\n",
            "25    False\n",
            "9     False\n",
            "18     True\n",
            "34    False\n",
            "13    False\n",
            "Name: y, dtype: bool\n"
          ],
          "name": "stdout"
        }
      ]
    },
    {
      "metadata": {
        "id": "Yybc_0TTTo6s",
        "colab_type": "code",
        "colab": {
          "autoexec": {
            "startup": false,
            "wait_interval": 0
          },
          "base_uri": "https://localhost:8080/",
          "height": 663
        },
        "outputId": "0d9687bf-afa8-4bd1-ef2a-0f59b4345ff8",
        "executionInfo": {
          "status": "ok",
          "timestamp": 1526402941568,
          "user_tz": 420,
          "elapsed": 353,
          "user": {
            "displayName": "Ray Heberer",
            "photoUrl": "//lh4.googleusercontent.com/-BMlr5I5Dhow/AAAAAAAAAAI/AAAAAAAAABc/XW4PF5A8K2Q/s50-c-k-no/photo.jpg",
            "userId": "116545933704048584401"
          }
        }
      },
      "cell_type": "code",
      "source": [
        "# The probabilities computed by Logistic Regression:\n",
        "# The columns correspond with class 0 or 1\n",
        "proba = regr.predict_proba(train_x)\n",
        "print(proba)\n",
        "\n",
        "# The decision function computed by Logistic Regression - this is simply\n",
        "# \\sum w_i x_i + b, before the logit function has been applied\n",
        "dec = regr.decision_function(train_x)\n",
        "print(dec)"
      ],
      "execution_count": 15,
      "outputs": [
        {
          "output_type": "stream",
          "text": [
            "[[0.04299791 0.95700209]\n",
            " [0.7670653  0.2329347 ]\n",
            " [0.06236116 0.93763884]\n",
            " [0.77799392 0.22200608]\n",
            " [0.60377749 0.39622251]\n",
            " [0.15056577 0.84943423]\n",
            " [0.06807052 0.93192948]\n",
            " [0.02071227 0.97928773]\n",
            " [0.24292107 0.75707893]\n",
            " [0.03357862 0.96642138]\n",
            " [0.97585297 0.02414703]\n",
            " [0.80005491 0.19994509]\n",
            " [0.01188305 0.98811695]\n",
            " [0.7639275  0.2360725 ]\n",
            " [0.73404761 0.26595239]\n",
            " [0.19587197 0.80412803]\n",
            " [0.01621208 0.98378792]\n",
            " [0.50013439 0.49986561]\n",
            " [0.81341707 0.18658293]\n",
            " [0.29989042 0.70010958]\n",
            " [0.18264982 0.81735018]\n",
            " [0.85818779 0.14181221]\n",
            " [0.63558272 0.36441728]\n",
            " [0.78538967 0.21461033]\n",
            " [0.01512351 0.98487649]\n",
            " [0.00670616 0.99329384]\n",
            " [0.97241177 0.02758823]\n",
            " [0.27665629 0.72334371]\n",
            " [0.08000676 0.91999324]\n",
            " [0.92569802 0.07430198]]\n",
            "[ 3.10265402e+00 -1.19181375e+00  2.71042211e+00 -1.25401393e+00\n",
            " -4.21229802e-01  1.73017049e+00  2.61671288e+00  3.85609940e+00\n",
            "  1.13673096e+00  3.35971036e+00 -3.69915049e+00 -1.38663756e+00\n",
            "  4.42068811e+00 -1.17433391e+00 -1.01525658e+00  1.41229730e+00\n",
            "  4.10565362e+00 -5.37552253e-04 -1.47236820e+00  8.47819743e-01\n",
            "  1.49849683e+00 -1.80031924e+00 -5.56242661e-01 -1.29735601e+00\n",
            "  4.17626604e+00  4.99799945e+00 -3.56239005e+00  9.61108578e-01\n",
            "  2.44225524e+00 -2.52241054e+00]\n"
          ],
          "name": "stdout"
        }
      ]
    },
    {
      "metadata": {
        "id": "PYmuA8VwJ4_y",
        "colab_type": "text"
      },
      "cell_type": "markdown",
      "source": [
        "### 2.1 Build ROC curves"
      ]
    },
    {
      "metadata": {
        "id": "Jcyi6Z16OGuM",
        "colab_type": "code",
        "colab": {
          "autoexec": {
            "startup": false,
            "wait_interval": 0
          },
          "base_uri": "https://localhost:8080/",
          "height": 544
        },
        "outputId": "e54854bf-6897-40d0-b62e-a40fa6ed4248",
        "executionInfo": {
          "status": "ok",
          "timestamp": 1526402942169,
          "user_tz": 420,
          "elapsed": 367,
          "user": {
            "displayName": "Ray Heberer",
            "photoUrl": "//lh4.googleusercontent.com/-BMlr5I5Dhow/AAAAAAAAAAI/AAAAAAAAABc/XW4PF5A8K2Q/s50-c-k-no/photo.jpg",
            "userId": "116545933704048584401"
          }
        }
      },
      "cell_type": "code",
      "source": [
        "thresholds = np.linspace(0.0,1.0,11)\n",
        "predictions = pd.DataFrame()\n",
        "\n",
        "for decision_threshold in thresholds:\n",
        "    decision_threshold = np.round(decision_threshold,2)\n",
        "    true_false_array = (proba[::,1:2:] > decision_threshold).T[0]\n",
        "    predictions[str(decision_threshold)] = true_false_array.astype(int)\n",
        "        \n",
        "print(predictions)"
      ],
      "execution_count": 16,
      "outputs": [
        {
          "output_type": "stream",
          "text": [
            "    0.0  0.1  0.2  0.3  0.4  0.5  0.6  0.7  0.8  0.9  1.0\n",
            "0     1    1    1    1    1    1    1    1    1    1    0\n",
            "1     1    1    1    0    0    0    0    0    0    0    0\n",
            "2     1    1    1    1    1    1    1    1    1    1    0\n",
            "3     1    1    1    0    0    0    0    0    0    0    0\n",
            "4     1    1    1    1    0    0    0    0    0    0    0\n",
            "5     1    1    1    1    1    1    1    1    1    0    0\n",
            "6     1    1    1    1    1    1    1    1    1    1    0\n",
            "7     1    1    1    1    1    1    1    1    1    1    0\n",
            "8     1    1    1    1    1    1    1    1    0    0    0\n",
            "9     1    1    1    1    1    1    1    1    1    1    0\n",
            "10    1    0    0    0    0    0    0    0    0    0    0\n",
            "11    1    1    0    0    0    0    0    0    0    0    0\n",
            "12    1    1    1    1    1    1    1    1    1    1    0\n",
            "13    1    1    1    0    0    0    0    0    0    0    0\n",
            "14    1    1    1    0    0    0    0    0    0    0    0\n",
            "15    1    1    1    1    1    1    1    1    1    0    0\n",
            "16    1    1    1    1    1    1    1    1    1    1    0\n",
            "17    1    1    1    1    1    0    0    0    0    0    0\n",
            "18    1    1    0    0    0    0    0    0    0    0    0\n",
            "19    1    1    1    1    1    1    1    1    0    0    0\n",
            "20    1    1    1    1    1    1    1    1    1    0    0\n",
            "21    1    1    0    0    0    0    0    0    0    0    0\n",
            "22    1    1    1    1    0    0    0    0    0    0    0\n",
            "23    1    1    1    0    0    0    0    0    0    0    0\n",
            "24    1    1    1    1    1    1    1    1    1    1    0\n",
            "25    1    1    1    1    1    1    1    1    1    1    0\n",
            "26    1    0    0    0    0    0    0    0    0    0    0\n",
            "27    1    1    1    1    1    1    1    1    0    0    0\n",
            "28    1    1    1    1    1    1    1    1    1    1    0\n",
            "29    1    0    0    0    0    0    0    0    0    0    0\n"
          ],
          "name": "stdout"
        }
      ]
    },
    {
      "metadata": {
        "id": "nDEdBrtYFjEr",
        "colab_type": "text"
      },
      "cell_type": "markdown",
      "source": [
        "### 3. Calculate TP and FP at each discrimination level"
      ]
    },
    {
      "metadata": {
        "id": "B73O-XcrF9Wd",
        "colab_type": "code",
        "colab": {
          "autoexec": {
            "startup": false,
            "wait_interval": 0
          },
          "base_uri": "https://localhost:8080/",
          "height": 818
        },
        "outputId": "e34b20ac-d3be-43ab-e359-3a0c82950f60",
        "executionInfo": {
          "status": "ok",
          "timestamp": 1526402943215,
          "user_tz": 420,
          "elapsed": 803,
          "user": {
            "displayName": "Ray Heberer",
            "photoUrl": "//lh4.googleusercontent.com/-BMlr5I5Dhow/AAAAAAAAAAI/AAAAAAAAABc/XW4PF5A8K2Q/s50-c-k-no/photo.jpg",
            "userId": "116545933704048584401"
          }
        }
      },
      "cell_type": "code",
      "source": [
        "# Base case:\n",
        "false_positives = np.sum(predictions['0.1']-train_y.values==1)\n",
        "true_positives = np.sum(predictions['0.1']+train_y.values==2)\n",
        "print('False positive rate at threshold 0.1: ',false_positives/np.sum(train_y==0))\n",
        "print('True positive rate at threshold 0.1: ',true_positives/np.sum(train_y==1))\n",
        "\n",
        "# Now automate the base case across the set of all decision thresholds\n",
        "fp = pd.DataFrame()\n",
        "tp = pd.DataFrame()\n",
        "for threshold in predictions.columns:\n",
        "    fp[threshold] = [np.sum(predictions[threshold]-train_y.values==1)/np.sum(train_y==0)]\n",
        "    tp[threshold] = [np.sum(predictions[threshold]+train_y.values==2)/np.sum(train_y==1)]\n",
        "\n",
        "# The false positives and true positive rated, based on the sliding decision threshold\n",
        "print(fp.T)\n",
        "print(tp.T)\n",
        "\n",
        "import matplotlib.pyplot as plt\n",
        "plt.plot(fp.T,tp.T);\n",
        "plt.plot([0, 1], [0, 1], 'k--', lw=2)\n",
        "plt.xlabel('False Positive Rate')\n",
        "plt.ylabel('True Positive Rate')\n",
        "plt.title('Receiver operator characteristic example');\n",
        "    "
      ],
      "execution_count": 17,
      "outputs": [
        {
          "output_type": "stream",
          "text": [
            "False positive rate at threshold 0.1:  0.7857142857142857\n",
            "True positive rate at threshold 0.1:  1.0\n",
            "            0\n",
            "0.0  1.000000\n",
            "0.1  0.785714\n",
            "0.2  0.571429\n",
            "0.3  0.214286\n",
            "0.4  0.142857\n",
            "0.5  0.071429\n",
            "0.6  0.071429\n",
            "0.7  0.071429\n",
            "0.8  0.000000\n",
            "0.9  0.000000\n",
            "1.0  0.000000\n",
            "          0\n",
            "0.0  1.0000\n",
            "0.1  1.0000\n",
            "0.2  1.0000\n",
            "0.3  1.0000\n",
            "0.4  0.9375\n",
            "0.5  0.9375\n",
            "0.6  0.9375\n",
            "0.7  0.9375\n",
            "0.8  0.8125\n",
            "0.9  0.6250\n",
            "1.0  0.0000\n"
          ],
          "name": "stdout"
        },
        {
          "output_type": "display_data",
          "data": {
            "image/png": "[encoded data removed]",
            "text/plain": [
              "<matplotlib.figure.Figure at 0x7f1514ad12b0>"
            ]
          },
          "metadata": {
            "tags": []
          }
        }
      ]
    },
    {
      "metadata": {
        "id": "Jhg7EM4YQ6nG",
        "colab_type": "text"
      },
      "cell_type": "markdown",
      "source": [
        "### 4. Example using sklearn"
      ]
    },
    {
      "metadata": {
        "id": "t2xGVuYcQfAo",
        "colab_type": "code",
        "colab": {
          "autoexec": {
            "startup": false,
            "wait_interval": 0
          }
        }
      },
      "cell_type": "code",
      "source": [
        "from sklearn import metrics"
      ],
      "execution_count": 0,
      "outputs": []
    },
    {
      "metadata": {
        "id": "O1_hD-raG2s2",
        "colab_type": "code",
        "colab": {
          "autoexec": {
            "startup": false,
            "wait_interval": 0
          },
          "base_uri": "https://localhost:8080/",
          "height": 432
        },
        "outputId": "bcff78f7-21d5-4bd9-fb31-f583039d3c8d",
        "executionInfo": {
          "status": "ok",
          "timestamp": 1526402945146,
          "user_tz": 420,
          "elapsed": 506,
          "user": {
            "displayName": "Ray Heberer",
            "photoUrl": "//lh4.googleusercontent.com/-BMlr5I5Dhow/AAAAAAAAAAI/AAAAAAAAABc/XW4PF5A8K2Q/s50-c-k-no/photo.jpg",
            "userId": "116545933704048584401"
          }
        }
      },
      "cell_type": "code",
      "source": [
        "# The Area-Under-The-Curve Score\n",
        "print(metrics.auc(fp.T,tp.T))\n",
        "print(metrics.roc_auc_score(train_y.values,proba[::,1:2:]))\n",
        "\n",
        "# Producing the same false/true positive data via a library and plotting it\n",
        "fpr, tpr, _ = metrics.roc_curve(train_y.values,proba[::,1:2:])\n",
        "print(fpr)\n",
        "print(tpr)\n",
        "plt.plot(fpr,tpr);"
      ],
      "execution_count": 19,
      "outputs": [
        {
          "output_type": "stream",
          "text": [
            "0.9843749999999999\n",
            "0.9821428571428571\n",
            "[0.         0.         0.07142857 0.07142857 0.21428571 0.21428571\n",
            " 1.        ]\n",
            "[0.0625 0.875  0.875  0.9375 0.9375 1.     1.    ]\n"
          ],
          "name": "stdout"
        },
        {
          "output_type": "display_data",
          "data": {
            "image/png": "[encoded data removed]",
            "text/plain": [
              "<matplotlib.figure.Figure at 0x7f1514a38630>"
            ]
          },
          "metadata": {
            "tags": []
          }
        }
      ]
    },
    {
      "metadata": {
        "id": "QS0KgX-_QbX6",
        "colab_type": "text"
      },
      "cell_type": "markdown",
      "source": [
        "## Do\n",
        "\n",
        "### 5. Compute the ROC and AUC using the _testset_ instead of the _trainset_\n"
      ]
    },
    {
      "metadata": {
        "id": "CVtzXgERHI4B",
        "colab_type": "code",
        "colab": {
          "autoexec": {
            "startup": false,
            "wait_interval": 0
          },
          "base_uri": "https://localhost:8080/",
          "height": 364
        },
        "outputId": "e24ffa2e-1edb-4848-dd19-926f83b82d92",
        "executionInfo": {
          "status": "ok",
          "timestamp": 1526402945763,
          "user_tz": 420,
          "elapsed": 363,
          "user": {
            "displayName": "Ray Heberer",
            "photoUrl": "//lh4.googleusercontent.com/-BMlr5I5Dhow/AAAAAAAAAAI/AAAAAAAAABc/XW4PF5A8K2Q/s50-c-k-no/photo.jpg",
            "userId": "116545933704048584401"
          }
        }
      },
      "cell_type": "code",
      "source": [
        "# Compute and plot\n",
        "proba = regr.predict_proba(test_x)\n",
        "\n",
        "fpr, tpr, _ = metrics.roc_curve(test_y.values,proba[::,1:2:])\n",
        "\n",
        "print('AUC:', metrics.auc(fpr.T,tpr.T))\n",
        "\n",
        "plt.plot(fpr,tpr);\n",
        "    "
      ],
      "execution_count": 20,
      "outputs": [
        {
          "output_type": "stream",
          "text": [
            "AUC: 0.9583333333333334\n"
          ],
          "name": "stdout"
        },
        {
          "output_type": "display_data",
          "data": {
            "image/png": "[encoded data removed]",
            "text/plain": [
              "<matplotlib.figure.Figure at 0x7f1514ad1b38>"
            ]
          },
          "metadata": {
            "tags": []
          }
        }
      ]
    }
  ]
}