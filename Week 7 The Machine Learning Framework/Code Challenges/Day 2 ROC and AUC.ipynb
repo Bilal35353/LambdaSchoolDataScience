{
  "nbformat": 4,
  "nbformat_minor": 0,
  "metadata": {
    "colab": {
      "name": "AUC Coding Challenge.ipynb",
      "version": "0.3.2",
      "views": {},
      "default_view": {},
      "provenance": [
        {
          "file_id": "1xuLPji93MPmkVTQIgq1YLCWUH0P2WKCj",
          "timestamp": 1526396505928
        },
        {
          "file_id": "1ZvTSgIadSujpndPYx_Zpysz0xDvOCXQg",
          "timestamp": 1526076252059
        },
        {
          "file_id": "1l2v-TFUpPYc746ZSv24U97i1g0TYhdgs",
          "timestamp": 1526009592603
        },
        {
          "file_id": "1Ig9oLMQaJn0zM48BTqrZxM8F5QUHGAME",
          "timestamp": 1526008523057
        }
      ],
      "collapsed_sections": []
    },
    "kernelspec": {
      "name": "python3",
      "display_name": "Python 3"
    }
  },
  "cells": [
    {
      "metadata": {
        "id": "aD8Yb0P8D04e",
        "colab_type": "text"
      },
      "cell_type": "markdown",
      "source": [
        "# Area-Under-Curve Measurement\n",
        "\n",
        "Objectives:\n",
        "* Compute true positive, true negative, false positive, and false negative classification rate\n",
        "* Adjust classification threshold to control above rates\n",
        "* Plot AUC  to demonstrate accuracy\n",
        "* Calculate AUC as a single value\n",
        "\n",
        "### Background\n",
        "\n",
        "You want to be familiar with ROC and AUC.\n",
        "\n",
        "#### Receiver Operating Characteristic Curve (ROC)\n",
        "\n",
        "[wikipedia](https://en.wikipedia.org/wiki/Receiver_operating_characteristic)\n",
        "[Precision and Recall](https://en.wikipedia.org/wiki/Precision_and_recall) [sklearn](http://scikit-learn.org/stable/auto_examples/model_selection/plot_roc.html)\n",
        "\n",
        "#### Area Under Curve (AUC)\n",
        "\n",
        "[sklearn](http://scikit-learn.org/stable/modules/generated/sklearn.metrics.auc.html)\n",
        "\n",
        "The ROC curve provides a visualization of the performance of a classifier, with false-positive rates along the $x$ axis and true-positive rates along the $y$ axis. A perfect classifier produces no false positives (100% specificity) and no false negatives (100% sensitivity). In reality, classifiers are not so discerning.\n",
        "\n",
        "### Do:\n",
        "\n",
        "Correct the bugs in the following code blocks in order to work through the mechanics of building an AUC. \n",
        "\n",
        "Once you've calculated `FPR` and `TPR` for the Logistic Regression classifier on its Sprint Challenge dataset and visualized the results, modify it to compute the same data using the _test_ data, instead of the _train_ data."
      ]
    },
    {
      "metadata": {
        "id": "9JrCk2HEPwoI",
        "colab_type": "text"
      },
      "cell_type": "markdown",
      "source": [
        "### 1. Compute Linear Regression Model\n",
        "\n",
        "Create a training set and train a Logistic Regression model with it"
      ]
    },
    {
      "metadata": {
        "id": "5UeD3N5_PwCF",
        "colab_type": "code",
        "colab": {
          "autoexec": {
            "startup": false,
            "wait_interval": 0
          },
          "base_uri": "https://localhost:8080/",
          "height": 85
        },
        "outputId": "31c5ef4f-66cf-485d-911f-98ea927046f5",
        "executionInfo": {
          "status": "ok",
          "timestamp": 1526398063092,
          "user_tz": 420,
          "elapsed": 2416,
          "user": {
            "displayName": "Ray Heberer",
            "photoUrl": "//lh4.googleusercontent.com/-BMlr5I5Dhow/AAAAAAAAAAI/AAAAAAAAABc/XW4PF5A8K2Q/s50-c-k-no/photo.jpg",
            "userId": "116545933704048584401"
          }
        }
      },
      "cell_type": "code",
      "source": [
        "import numpy as np\n",
        "import pandas as pd\n",
        "from sklearn.linear_model import LogisticRegression\n",
        "from sklearn.model_selection import train_test_split\n",
        "\n",
        "data = pd.read_csv('https://www.dropbox.com/s/bnwfu81bjpf22hp/logistic_regression.csv?raw=1')\n",
        "# Use train_test_split to create a training set\n",
        "train_x, test_x, train_y, test_y = train_test_split(data[['x1','x2']],data['y'])\n",
        "\n",
        "# Create and train(fit) the model\n",
        "regr = LogisticRegression()\n",
        "regr.fit(train_x, train_y)"
      ],
      "execution_count": 12,
      "outputs": [
        {
          "output_type": "execute_result",
          "data": {
            "text/plain": [
              "LogisticRegression(C=1.0, class_weight=None, dual=False, fit_intercept=True,\n",
              "          intercept_scaling=1, max_iter=100, multi_class='ovr', n_jobs=1,\n",
              "          penalty='l2', random_state=None, solver='liblinear', tol=0.0001,\n",
              "          verbose=0, warm_start=False)"
            ]
          },
          "metadata": {
            "tags": []
          },
          "execution_count": 12
        }
      ]
    },
    {
      "metadata": {
        "id": "jSfpHHfJFPc5",
        "colab_type": "text"
      },
      "cell_type": "markdown",
      "source": [
        "### 2. Predict values for $\\hat{y}$ for the train set"
      ]
    },
    {
      "metadata": {
        "id": "x3K306_pFUQc",
        "colab_type": "code",
        "colab": {
          "autoexec": {
            "startup": false,
            "wait_interval": 0
          },
          "base_uri": "https://localhost:8080/",
          "height": 51
        },
        "outputId": "dc93769c-72d9-44c6-b7c7-a232b000c0d8",
        "executionInfo": {
          "status": "ok",
          "timestamp": 1526398066500,
          "user_tz": 420,
          "elapsed": 413,
          "user": {
            "displayName": "Ray Heberer",
            "photoUrl": "//lh4.googleusercontent.com/-BMlr5I5Dhow/AAAAAAAAAAI/AAAAAAAAABc/XW4PF5A8K2Q/s50-c-k-no/photo.jpg",
            "userId": "116545933704048584401"
          }
        }
      },
      "cell_type": "code",
      "source": [
        "# Predict y_hat for the test set created previously\n",
        "\n",
        "y_hat = regr.predict(train_x)\n",
        "print(y_hat)"
      ],
      "execution_count": 13,
      "outputs": [
        {
          "output_type": "stream",
          "text": [
            "[0. 0. 1. 0. 1. 0. 1. 1. 1. 0. 1. 1. 1. 1. 1. 1. 0. 0. 0. 0. 1. 1. 0. 1.\n",
            " 1. 0. 0. 0. 0. 1.]\n"
          ],
          "name": "stdout"
        }
      ]
    },
    {
      "metadata": {
        "id": "xS6VlmpYTzPx",
        "colab_type": "text"
      },
      "cell_type": "markdown",
      "source": [
        "### Observe precision"
      ]
    },
    {
      "metadata": {
        "id": "Fv_8vZvrT44v",
        "colab_type": "code",
        "colab": {
          "autoexec": {
            "startup": false,
            "wait_interval": 0
          },
          "base_uri": "https://localhost:8080/",
          "height": 1071
        },
        "outputId": "f16f4053-64f4-4187-f33f-82040804a901",
        "executionInfo": {
          "status": "ok",
          "timestamp": 1526398069165,
          "user_tz": 420,
          "elapsed": 499,
          "user": {
            "displayName": "Ray Heberer",
            "photoUrl": "//lh4.googleusercontent.com/-BMlr5I5Dhow/AAAAAAAAAAI/AAAAAAAAABc/XW4PF5A8K2Q/s50-c-k-no/photo.jpg",
            "userId": "116545933704048584401"
          }
        }
      },
      "cell_type": "code",
      "source": [
        "# True positive: if the prediction is 1, and the original data is 1, their sum is 2\n",
        "true_positives = (y_hat+train_y)==2\n",
        "# False positive: if the prediction is 1, but the original data is 0, their sum is 1\n",
        "false_positives = (y_hat+train_y)==1\n",
        "print(true_positives.T)\n",
        "print(false_positives.T)"
      ],
      "execution_count": 14,
      "outputs": [
        {
          "output_type": "stream",
          "text": [
            "16    False\n",
            "6     False\n",
            "22     True\n",
            "19    False\n",
            "21     True\n",
            "8     False\n",
            "38     True\n",
            "39     True\n",
            "33     True\n",
            "11    False\n",
            "31     True\n",
            "20     True\n",
            "37     True\n",
            "18    False\n",
            "25     True\n",
            "34     True\n",
            "7     False\n",
            "12    False\n",
            "14    False\n",
            "13    False\n",
            "24     True\n",
            "36     True\n",
            "0     False\n",
            "35     True\n",
            "32     True\n",
            "10    False\n",
            "15    False\n",
            "5     False\n",
            "4     False\n",
            "26     True\n",
            "Name: y, dtype: bool\n",
            "16    False\n",
            "6     False\n",
            "22    False\n",
            "19    False\n",
            "21    False\n",
            "8     False\n",
            "38    False\n",
            "39    False\n",
            "33    False\n",
            "11    False\n",
            "31    False\n",
            "20    False\n",
            "37    False\n",
            "18     True\n",
            "25    False\n",
            "34    False\n",
            "7     False\n",
            "12    False\n",
            "14    False\n",
            "13    False\n",
            "24    False\n",
            "36    False\n",
            "0     False\n",
            "35    False\n",
            "32    False\n",
            "10    False\n",
            "15    False\n",
            "5     False\n",
            "4     False\n",
            "26    False\n",
            "Name: y, dtype: bool\n"
          ],
          "name": "stdout"
        }
      ]
    },
    {
      "metadata": {
        "id": "Yybc_0TTTo6s",
        "colab_type": "code",
        "colab": {
          "autoexec": {
            "startup": false,
            "wait_interval": 0
          },
          "base_uri": "https://localhost:8080/",
          "height": 612
        },
        "outputId": "79bc187f-12c7-4322-e40e-891ccb30aae1",
        "executionInfo": {
          "status": "ok",
          "timestamp": 1526398070591,
          "user_tz": 420,
          "elapsed": 433,
          "user": {
            "displayName": "Ray Heberer",
            "photoUrl": "//lh4.googleusercontent.com/-BMlr5I5Dhow/AAAAAAAAAAI/AAAAAAAAABc/XW4PF5A8K2Q/s50-c-k-no/photo.jpg",
            "userId": "116545933704048584401"
          }
        }
      },
      "cell_type": "code",
      "source": [
        "# The probabilities computed by Logistic Regression:\n",
        "# The columns correspond with class 0 or 1\n",
        "proba = regr.predict_proba(train_x)\n",
        "print(proba)\n",
        "\n",
        "# The decision function computed by Logistic Regression - this is simply\n",
        "# \\sum w_i x_i + b, before the logit function has been applied\n",
        "dec = regr.decision_function(train_x)\n",
        "print(dec)"
      ],
      "execution_count": 15,
      "outputs": [
        {
          "output_type": "stream",
          "text": [
            "[[0.94569669 0.05430331]\n",
            " [0.83074498 0.16925502]\n",
            " [0.05886417 0.94113583]\n",
            " [0.51485386 0.48514614]\n",
            " [0.07690938 0.92309062]\n",
            " [0.80782679 0.19217321]\n",
            " [0.01744823 0.98255177]\n",
            " [0.35783056 0.64216944]\n",
            " [0.22559398 0.77440602]\n",
            " [0.65143499 0.34856501]\n",
            " [0.26253666 0.73746334]\n",
            " [0.01319793 0.98680207]\n",
            " [0.00638096 0.99361904]\n",
            " [0.29242457 0.70757543]\n",
            " [0.00522789 0.99477211]\n",
            " [0.08047281 0.91952719]\n",
            " [0.90257484 0.09742516]\n",
            " [0.789324   0.210676  ]\n",
            " [0.79300857 0.20699143]\n",
            " [0.94371902 0.05628098]\n",
            " [0.20296641 0.79703359]\n",
            " [0.32870694 0.67129306]\n",
            " [0.8947321  0.1052679 ]\n",
            " [0.05360997 0.94639003]\n",
            " [0.01345659 0.98654341]\n",
            " [0.98288949 0.01711051]\n",
            " [0.82814176 0.17185824]\n",
            " [0.97450913 0.02549087]\n",
            " [0.77420754 0.22579246]\n",
            " [0.01084965 0.98915035]]\n",
            "[-2.85733671 -1.5909163   2.77185492 -0.05943293  2.48509962 -1.43595058\n",
            "  4.03091483  0.5847926   1.23335945 -0.62535284  1.03282563  4.31440954\n",
            "  5.04803576  0.88363748  5.24850507  2.4359403  -2.22616712 -1.32085545\n",
            " -1.34315662 -2.81947182  1.3678563   0.7140392  -2.1400158   2.87091965\n",
            "  4.29473855 -4.05080377 -1.57251439 -3.64361337 -1.23222371  4.51271372]\n"
          ],
          "name": "stdout"
        }
      ]
    },
    {
      "metadata": {
        "id": "PYmuA8VwJ4_y",
        "colab_type": "text"
      },
      "cell_type": "markdown",
      "source": [
        "### 2.1 Build ROC curves"
      ]
    },
    {
      "metadata": {
        "id": "Jcyi6Z16OGuM",
        "colab_type": "code",
        "colab": {
          "autoexec": {
            "startup": false,
            "wait_interval": 0
          },
          "base_uri": "https://localhost:8080/",
          "height": 544
        },
        "outputId": "1bc6975d-93aa-47d6-f920-1cd167790d8f",
        "executionInfo": {
          "status": "ok",
          "timestamp": 1526398072366,
          "user_tz": 420,
          "elapsed": 347,
          "user": {
            "displayName": "Ray Heberer",
            "photoUrl": "//lh4.googleusercontent.com/-BMlr5I5Dhow/AAAAAAAAAAI/AAAAAAAAABc/XW4PF5A8K2Q/s50-c-k-no/photo.jpg",
            "userId": "116545933704048584401"
          }
        }
      },
      "cell_type": "code",
      "source": [
        "thresholds = np.linspace(0.0,1.0,11)\n",
        "predictions = pd.DataFrame()\n",
        "\n",
        "for decision_threshold in thresholds:\n",
        "    decision_threshold = np.round(decision_threshold,2)\n",
        "    true_false_array = (proba[::,1:2:] > decision_threshold).T[0]\n",
        "    predictions[str(decision_threshold)] = true_false_array.astype(int)\n",
        "        \n",
        "print(predictions)"
      ],
      "execution_count": 16,
      "outputs": [
        {
          "output_type": "stream",
          "text": [
            "    0.0  0.1  0.2  0.3  0.4  0.5  0.6  0.7  0.8  0.9  1.0\n",
            "0     1    0    0    0    0    0    0    0    0    0    0\n",
            "1     1    1    0    0    0    0    0    0    0    0    0\n",
            "2     1    1    1    1    1    1    1    1    1    1    0\n",
            "3     1    1    1    1    1    0    0    0    0    0    0\n",
            "4     1    1    1    1    1    1    1    1    1    1    0\n",
            "5     1    1    0    0    0    0    0    0    0    0    0\n",
            "6     1    1    1    1    1    1    1    1    1    1    0\n",
            "7     1    1    1    1    1    1    1    0    0    0    0\n",
            "8     1    1    1    1    1    1    1    1    0    0    0\n",
            "9     1    1    1    1    0    0    0    0    0    0    0\n",
            "10    1    1    1    1    1    1    1    1    0    0    0\n",
            "11    1    1    1    1    1    1    1    1    1    1    0\n",
            "12    1    1    1    1    1    1    1    1    1    1    0\n",
            "13    1    1    1    1    1    1    1    1    0    0    0\n",
            "14    1    1    1    1    1    1    1    1    1    1    0\n",
            "15    1    1    1    1    1    1    1    1    1    1    0\n",
            "16    1    0    0    0    0    0    0    0    0    0    0\n",
            "17    1    1    1    0    0    0    0    0    0    0    0\n",
            "18    1    1    1    0    0    0    0    0    0    0    0\n",
            "19    1    0    0    0    0    0    0    0    0    0    0\n",
            "20    1    1    1    1    1    1    1    1    0    0    0\n",
            "21    1    1    1    1    1    1    1    0    0    0    0\n",
            "22    1    1    0    0    0    0    0    0    0    0    0\n",
            "23    1    1    1    1    1    1    1    1    1    1    0\n",
            "24    1    1    1    1    1    1    1    1    1    1    0\n",
            "25    1    0    0    0    0    0    0    0    0    0    0\n",
            "26    1    1    0    0    0    0    0    0    0    0    0\n",
            "27    1    0    0    0    0    0    0    0    0    0    0\n",
            "28    1    1    1    0    0    0    0    0    0    0    0\n",
            "29    1    1    1    1    1    1    1    1    1    1    0\n"
          ],
          "name": "stdout"
        }
      ]
    },
    {
      "metadata": {
        "id": "nDEdBrtYFjEr",
        "colab_type": "text"
      },
      "cell_type": "markdown",
      "source": [
        "### 3. Calculate TP and FP at each discrimination level"
      ]
    },
    {
      "metadata": {
        "id": "B73O-XcrF9Wd",
        "colab_type": "code",
        "colab": {
          "autoexec": {
            "startup": false,
            "wait_interval": 0
          },
          "base_uri": "https://localhost:8080/",
          "height": 818
        },
        "outputId": "7ff3fe43-2304-4927-efad-def91ff882f4",
        "executionInfo": {
          "status": "ok",
          "timestamp": 1526398074310,
          "user_tz": 420,
          "elapsed": 427,
          "user": {
            "displayName": "Ray Heberer",
            "photoUrl": "//lh4.googleusercontent.com/-BMlr5I5Dhow/AAAAAAAAAAI/AAAAAAAAABc/XW4PF5A8K2Q/s50-c-k-no/photo.jpg",
            "userId": "116545933704048584401"
          }
        }
      },
      "cell_type": "code",
      "source": [
        "# Base case:\n",
        "false_positives = np.sum(predictions['0.1']-train_y.values==1)\n",
        "true_positives = np.sum(predictions['0.1']+train_y.values==2)\n",
        "print('False positive rate at threshold 0.1: ',false_positives/np.sum(train_y==0))\n",
        "print('True positive rate at threshold 0.1: ',true_positives/np.sum(train_y==1))\n",
        "\n",
        "# Now automate the base case across the set of all decision thresholds\n",
        "fp = pd.DataFrame()\n",
        "tp = pd.DataFrame()\n",
        "for threshold in predictions.columns:\n",
        "    fp[threshold] = [np.sum(predictions[threshold]-train_y.values==1)/np.sum(train_y==0)]\n",
        "    tp[threshold] = [np.sum(predictions[threshold]+train_y.values==2)/np.sum(train_y==1)]\n",
        "\n",
        "# The false positives and true positive rated, based on the sliding decision threshold\n",
        "print(fp.T)\n",
        "print(tp.T)\n",
        "\n",
        "import matplotlib.pyplot as plt\n",
        "plt.plot(fp.T,tp.T);\n",
        "plt.plot([0, 1], [0, 1], 'k--', lw=2)\n",
        "plt.xlabel('False Positive Rate')\n",
        "plt.ylabel('True Positive Rate')\n",
        "plt.title('Receiver operator characteristic example');\n",
        "    "
      ],
      "execution_count": 17,
      "outputs": [
        {
          "output_type": "stream",
          "text": [
            "False positive rate at threshold 0.1:  0.6666666666666666\n",
            "True positive rate at threshold 0.1:  1.0\n",
            "            0\n",
            "0.0  1.000000\n",
            "0.1  0.666667\n",
            "0.2  0.400000\n",
            "0.3  0.200000\n",
            "0.4  0.133333\n",
            "0.5  0.066667\n",
            "0.6  0.066667\n",
            "0.7  0.066667\n",
            "0.8  0.000000\n",
            "0.9  0.000000\n",
            "1.0  0.000000\n",
            "            0\n",
            "0.0  1.000000\n",
            "0.1  1.000000\n",
            "0.2  1.000000\n",
            "0.3  1.000000\n",
            "0.4  1.000000\n",
            "0.5  1.000000\n",
            "0.6  1.000000\n",
            "0.7  0.866667\n",
            "0.8  0.666667\n",
            "0.9  0.666667\n",
            "1.0  0.000000\n"
          ],
          "name": "stdout"
        },
        {
          "output_type": "display_data",
          "data": {
            "image/png": "[encoded data removed]",
            "text/plain": [
              "<matplotlib.figure.Figure at 0x7fc1a1c9c5c0>"
            ]
          },
          "metadata": {
            "tags": []
          }
        }
      ]
    },
    {
      "metadata": {
        "id": "Jhg7EM4YQ6nG",
        "colab_type": "text"
      },
      "cell_type": "markdown",
      "source": [
        "### 4. Example using sklearn"
      ]
    },
    {
      "metadata": {
        "id": "t2xGVuYcQfAo",
        "colab_type": "code",
        "colab": {
          "autoexec": {
            "startup": false,
            "wait_interval": 0
          }
        }
      },
      "cell_type": "code",
      "source": [
        "from sklearn import metrics"
      ],
      "execution_count": 0,
      "outputs": []
    },
    {
      "metadata": {
        "id": "O1_hD-raG2s2",
        "colab_type": "code",
        "colab": {
          "autoexec": {
            "startup": false,
            "wait_interval": 0
          },
          "base_uri": "https://localhost:8080/",
          "height": 415
        },
        "outputId": "8c303e64-f251-4359-bf07-75920ace9180",
        "executionInfo": {
          "status": "ok",
          "timestamp": 1526398078391,
          "user_tz": 420,
          "elapsed": 435,
          "user": {
            "displayName": "Ray Heberer",
            "photoUrl": "//lh4.googleusercontent.com/-BMlr5I5Dhow/AAAAAAAAAAI/AAAAAAAAABc/XW4PF5A8K2Q/s50-c-k-no/photo.jpg",
            "userId": "116545933704048584401"
          }
        }
      },
      "cell_type": "code",
      "source": [
        "# The Area-Under-The-Curve Score\n",
        "print(metrics.auc(fp.T,tp.T))\n",
        "print(metrics.roc_auc_score(train_y.values,proba[::,1:2:]))\n",
        "\n",
        "# Producing the same false/true positive data via a library and plotting it\n",
        "fpr, tpr, _ = metrics.roc_curve(train_y.values,proba[::,1:2:])\n",
        "print(fpr)\n",
        "print(tpr)\n",
        "plt.plot(fpr,tpr);"
      ],
      "execution_count": 19,
      "outputs": [
        {
          "output_type": "stream",
          "text": [
            "0.9844444444444445\n",
            "0.9911111111111112\n",
            "[0.         0.         0.06666667 0.06666667 1.        ]\n",
            "[0.06666667 0.86666667 0.86666667 1.         1.        ]\n"
          ],
          "name": "stdout"
        },
        {
          "output_type": "display_data",
          "data": {
            "image/png": "[encoded data removed]",
            "text/plain": [
              "<matplotlib.figure.Figure at 0x7fc1a1c31dd8>"
            ]
          },
          "metadata": {
            "tags": []
          }
        }
      ]
    },
    {
      "metadata": {
        "id": "QS0KgX-_QbX6",
        "colab_type": "text"
      },
      "cell_type": "markdown",
      "source": [
        "## Do\n",
        "\n",
        "### 5. Compute the ROC and AUC using the _testset_ instead of the _trainset_\n"
      ]
    },
    {
      "metadata": {
        "id": "CVtzXgERHI4B",
        "colab_type": "code",
        "colab": {
          "autoexec": {
            "startup": false,
            "wait_interval": 0
          },
          "base_uri": "https://localhost:8080/",
          "height": 364
        },
        "outputId": "be9392d0-ca6c-4ed7-ff07-dddda094f999",
        "executionInfo": {
          "status": "ok",
          "timestamp": 1526398117233,
          "user_tz": 420,
          "elapsed": 366,
          "user": {
            "displayName": "Ray Heberer",
            "photoUrl": "//lh4.googleusercontent.com/-BMlr5I5Dhow/AAAAAAAAAAI/AAAAAAAAABc/XW4PF5A8K2Q/s50-c-k-no/photo.jpg",
            "userId": "116545933704048584401"
          }
        }
      },
      "cell_type": "code",
      "source": [
        "# Compute and plot\n",
        "proba = regr.predict_proba(test_x)\n",
        "\n",
        "fpr, tpr, _ = metrics.roc_curve(test_y.values,proba[::,1:2:])\n",
        "\n",
        "print('AUC:', metrics.auc(fpr.T,tpr.T))\n",
        "\n",
        "plt.plot(fpr,tpr);\n",
        "    "
      ],
      "execution_count": 21,
      "outputs": [
        {
          "output_type": "stream",
          "text": [
            "AUC: 0.92\n"
          ],
          "name": "stdout"
        },
        {
          "output_type": "display_data",
          "data": {
            "image/png": "[encoded data removed]",
            "text/plain": [
              "<matplotlib.figure.Figure at 0x7fc1a1d46780>"
            ]
          },
          "metadata": {
            "tags": []
          }
        }
      ]
    }
  ]
}