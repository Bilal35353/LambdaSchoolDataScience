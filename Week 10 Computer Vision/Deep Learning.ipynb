{
  "nbformat": 4,
  "nbformat_minor": 0,
  "metadata": {
    "colab": {
      "name": "Deep Learning Assignment.ipynb",
      "version": "0.3.2",
      "views": {},
      "default_view": {},
      "provenance": [
        {
          "file_id": "1J_wBp6WAQxLM5ci8l12KOvRyP-Bdtwwi",
          "timestamp": 1528307287186
        },
        {
          "file_id": "1oO_hKupW-BocG5mRHrfuwCBpcRH0nUYQ",
          "timestamp": 1528296784150
        }
      ],
      "collapsed_sections": []
    },
    "kernelspec": {
      "name": "python3",
      "display_name": "Python 3"
    },
    "accelerator": "GPU"
  },
  "cells": [
    {
      "metadata": {
        "id": "AKDcJS4_8sOA",
        "colab_type": "text"
      },
      "cell_type": "markdown",
      "source": [
        "# Deep Convolutional Neural Networks \n",
        "\n",
        "In this assignment, we will be using the Keras library to build, train, and evaluate some *relatively simple* Convolutional Neural Networks to demonstrate how adding layers to a network can improve accuracy, yet are more computationally expensive. \n",
        "\n",
        "The purpose of this assignment is for you to demonstrate understanding of the appropriate structure of a convolutional neural network and to give you an opportunity to research any parameters or elements of CNNs that you don't fully understand.\n",
        "\n",
        "We will be using the cifar100 dataset for this assignment, however, in order to keep the dataset size small enough to be trained in a reasonable amount of time in a Google Colab, we will only be looking at two classes from the dataset - cats and dogs.\n",
        "\n",
        "![CNN Structure Diagram](http://www.ryanleeallred.com/wp-content/uploads/2018/06/CNN-diagram.jpeg)\n"
      ]
    },
    {
      "metadata": {
        "id": "R3oeCYdWEqFx",
        "colab_type": "code",
        "colab": {
          "autoexec": {
            "startup": false,
            "wait_interval": 0
          },
          "base_uri": "https://localhost:8080/",
          "height": 300
        },
        "outputId": "686fa71d-df4d-471a-fcfd-e8fbf6da0901",
        "executionInfo": {
          "status": "ok",
          "timestamp": 1528412958485,
          "user_tz": 420,
          "elapsed": 3449,
          "user": {
            "displayName": "Ray Heberer",
            "photoUrl": "//lh4.googleusercontent.com/-BMlr5I5Dhow/AAAAAAAAAAI/AAAAAAAAABc/XW4PF5A8K2Q/s50-c-k-no/photo.jpg",
            "userId": "116545933704048584401"
          }
        }
      },
      "cell_type": "code",
      "source": [
        "# Import important libraries and methods\n",
        "import matplotlib.pyplot as plt\n",
        "import numpy as np\n",
        "import keras\n",
        "from keras.datasets import cifar10\n",
        "from keras.models import Sequential\n",
        "from keras.layers import Dense, Dropout, Flatten, Activation\n",
        "from keras.layers.convolutional import Conv2D, MaxPooling2D\n",
        "from keras import backend as K\n",
        "\n",
        "if K.backend()=='tensorflow':\n",
        "    K.set_image_dim_ordering(\"th\")\n",
        "\n",
        "# input image dimensions\n",
        "img_rows, img_cols = 32, 32   \n",
        "\n",
        "# the data, shuffled and split between train and test sets\n",
        "(x_train, y_train), (x_test, y_test) = cifar10.load_data() \n",
        "\n",
        "# Important Hyperparameters\n",
        "batch_size = 32 \n",
        "num_classes = 2\n",
        "epochs = 100\n",
        "\n",
        "# Plot sample image from each cifar10 class.\n",
        "class_names = ['airplane','automobile','bird','cat','deer','dog','frog','horse','shop','truck']\n",
        "fig = plt.figure(figsize=(8,3))\n",
        "for i in range(10):\n",
        "    ax = fig.add_subplot(2, 5, 1 + i, xticks=[], yticks=[])\n",
        "    idx = np.where(y_train[:]==i)[0]\n",
        "    features_idx = x_train[idx,::]\n",
        "    img_num = np.random.randint(features_idx.shape[0])\n",
        "    im = np.transpose(features_idx[img_num,::],(1,2,0))\n",
        "    ax.set_title(class_names[i])\n",
        "    plt.imshow(im)\n",
        "plt.show()\n",
        "\n",
        "# Only look at cats [=3] and dogs [=5]\n",
        "train_picks = np.ravel(np.logical_or(y_train==3,y_train==5))  \n",
        "test_picks = np.ravel(np.logical_or(y_test==3,y_test==5))     \n",
        "\n",
        "y_train = np.array(y_train[train_picks]==5,dtype=int)\n",
        "y_test = np.array(y_test[test_picks]==5,dtype=int)\n",
        "\n",
        "x_train = x_train[train_picks]\n",
        "x_test = x_test[test_picks]\n",
        "\n",
        "# check for image_data format and format image shape accordingly\n",
        "if K.image_data_format() == 'channels_first':\n",
        "    x_train = x_train.reshape(x_train.shape[0], 3, img_rows, img_cols)\n",
        "    x_test = x_test.reshape(x_test.shape[0], 3, img_rows, img_cols)\n",
        "    input_shape = (3, img_rows, img_cols)\n",
        "else:\n",
        "    x_train = x_train.reshape(x_train.shape[0], img_rows, img_cols, 3)\n",
        "    x_test = x_test.reshape(x_test.shape[0], img_rows, img_cols, 3)\n",
        "    input_shape = (img_rows, img_cols, 3)\n",
        "\n",
        "# Normalize pixel values between 0 and 1\n",
        "x_train = x_train.astype('float32')\n",
        "x_test = x_test.astype('float32')\n",
        "x_train /= 255\n",
        "x_test /= 255\n",
        "\n",
        "# Convert class vectors to binary class matrices\n",
        "y_train = keras.utils.to_categorical(np.ravel(y_train), num_classes)\n",
        "y_test = keras.utils.to_categorical(np.ravel(y_test), num_classes)\n",
        "\n",
        "# Check train and test lengths\n",
        "print('y_train length:', len(y_train))\n",
        "print('x_train length:', len(x_train))\n",
        "print('y_test length:', len(y_test))\n",
        "print('x_test length:', len(x_test))"
      ],
      "execution_count": 1,
      "outputs": [
        {
          "output_type": "stream",
          "text": [
            "Using TensorFlow backend.\n"
          ],
          "name": "stderr"
        },
        {
          "output_type": "display_data",
          "data": {
            "image/png": "[encoded data removed]",
            "text/plain": [
              "<matplotlib.figure.Figure at 0x7f9f9ee25ef0>"
            ]
          },
          "metadata": {
            "tags": []
          }
        },
        {
          "output_type": "stream",
          "text": [
            "y_train length: 10000\n",
            "x_train length: 10000\n",
            "y_test length: 2000\n",
            "x_test length: 2000\n"
          ],
          "name": "stdout"
        }
      ]
    },
    {
      "metadata": {
        "id": "ciU69FTrCFb_",
        "colab_type": "text"
      },
      "cell_type": "markdown",
      "source": [
        "# Model #1\n",
        "\n",
        "This model will be almost as simple as we can make it. It should look something like:\n",
        "\n",
        "*   Conv2D - kernel_size = (3,3)\n",
        "*   Relu Activation\n",
        "*   Conv2D - kernel_size = (3,3)\n",
        "*   Relu Activation\n",
        "*   Max Pooling - pool_size = (2,2)\n",
        "*   Dropout - use .25 for all layers but the final dropout layer\n",
        "---\n",
        "*   Flatten\n",
        "*   Fully-Connected (Dense)\n",
        "*   Dropout - use .5 this time \n",
        "*   Fully-Connected (Dense layer where # neurons = # final classes/labels)\n",
        "\n",
        "\n",
        "Then compile the model using categorical_crossentropy as your loss metric. Use the Adam optimizer, and accuracy as your overall scoring metric. \n",
        "\n",
        "If you're lost when you get to this point, make sure you look at the lecture colab for somewhat similar sample code.\n",
        "\n"
      ]
    },
    {
      "metadata": {
        "id": "r0ba0060UkCx",
        "colab_type": "code",
        "colab": {
          "autoexec": {
            "startup": false,
            "wait_interval": 0
          },
          "base_uri": "https://localhost:8080/",
          "height": 35
        },
        "outputId": "797dff86-a51b-462c-b735-a30d60d55500",
        "executionInfo": {
          "status": "ok",
          "timestamp": 1528412958934,
          "user_tz": 420,
          "elapsed": 382,
          "user": {
            "displayName": "Ray Heberer",
            "photoUrl": "//lh4.googleusercontent.com/-BMlr5I5Dhow/AAAAAAAAAAI/AAAAAAAAABc/XW4PF5A8K2Q/s50-c-k-no/photo.jpg",
            "userId": "116545933704048584401"
          }
        }
      },
      "cell_type": "code",
      "source": [
        "x_train.shape"
      ],
      "execution_count": 2,
      "outputs": [
        {
          "output_type": "execute_result",
          "data": {
            "text/plain": [
              "(10000, 3, 32, 32)"
            ]
          },
          "metadata": {
            "tags": []
          },
          "execution_count": 2
        }
      ]
    },
    {
      "metadata": {
        "id": "OlVLbMUbH31V",
        "colab_type": "code",
        "colab": {
          "autoexec": {
            "startup": false,
            "wait_interval": 0
          },
          "base_uri": "https://localhost:8080/",
          "height": 472
        },
        "outputId": "b102361f-ddb9-4509-fc4b-b8b660de74aa",
        "executionInfo": {
          "status": "ok",
          "timestamp": 1528412960494,
          "user_tz": 420,
          "elapsed": 1168,
          "user": {
            "displayName": "Ray Heberer",
            "photoUrl": "//lh4.googleusercontent.com/-BMlr5I5Dhow/AAAAAAAAAAI/AAAAAAAAABc/XW4PF5A8K2Q/s50-c-k-no/photo.jpg",
            "userId": "116545933704048584401"
          }
        }
      },
      "cell_type": "code",
      "source": [
        "model1 = Sequential()\n",
        "model1.add(Conv2D(8, (3,3), activation='relu', input_shape=(3, 32, 32)))\n",
        "model1.add(Dropout(.25))\n",
        "model1.add(Conv2D(16, (3,3), activation='relu'))\n",
        "model1.add(Dropout(.25))\n",
        "model1.add(MaxPooling2D((2,2)))\n",
        "model1.add(Flatten())\n",
        "model1.add(Dense(64, activation='relu'))\n",
        "model1.add(Dropout(0.5))\n",
        "model1.add(Dense(2, activation='softmax'))\n",
        "\n",
        "model1.summary()"
      ],
      "execution_count": 3,
      "outputs": [
        {
          "output_type": "stream",
          "text": [
            "_________________________________________________________________\n",
            "Layer (type)                 Output Shape              Param #   \n",
            "=================================================================\n",
            "conv2d_1 (Conv2D)            (None, 8, 30, 30)         224       \n",
            "_________________________________________________________________\n",
            "dropout_1 (Dropout)          (None, 8, 30, 30)         0         \n",
            "_________________________________________________________________\n",
            "conv2d_2 (Conv2D)            (None, 16, 28, 28)        1168      \n",
            "_________________________________________________________________\n",
            "dropout_2 (Dropout)          (None, 16, 28, 28)        0         \n",
            "_________________________________________________________________\n",
            "max_pooling2d_1 (MaxPooling2 (None, 16, 14, 14)        0         \n",
            "_________________________________________________________________\n",
            "flatten_1 (Flatten)          (None, 3136)              0         \n",
            "_________________________________________________________________\n",
            "dense_1 (Dense)              (None, 64)                200768    \n",
            "_________________________________________________________________\n",
            "dropout_3 (Dropout)          (None, 64)                0         \n",
            "_________________________________________________________________\n",
            "dense_2 (Dense)              (None, 2)                 130       \n",
            "=================================================================\n",
            "Total params: 202,290\n",
            "Trainable params: 202,290\n",
            "Non-trainable params: 0\n",
            "_________________________________________________________________\n"
          ],
          "name": "stdout"
        }
      ]
    },
    {
      "metadata": {
        "id": "_Oj3Q1UeU3uh",
        "colab_type": "code",
        "colab": {
          "autoexec": {
            "startup": false,
            "wait_interval": 0
          }
        }
      },
      "cell_type": "code",
      "source": [
        "model1.compile(optimizer='adam',\n",
        "               loss='categorical_crossentropy',\n",
        "               metrics=['accuracy'])"
      ],
      "execution_count": 0,
      "outputs": []
    },
    {
      "metadata": {
        "id": "vaVHwiVIFJag",
        "colab_type": "text"
      },
      "cell_type": "markdown",
      "source": [
        "## Fit your model\n",
        "\n",
        "Fit your model and save it to a new variable so that we can access the .history value to make a plot of our training and validation accuracies by epoch."
      ]
    },
    {
      "metadata": {
        "id": "o7YEXfI1lQ9q",
        "colab_type": "code",
        "colab": {
          "autoexec": {
            "startup": false,
            "wait_interval": 0
          },
          "base_uri": "https://localhost:8080/",
          "height": 1874
        },
        "outputId": "a4662045-3eb4-4a00-9728-bc6ae59ff7b8",
        "executionInfo": {
          "status": "ok",
          "timestamp": 1528413019530,
          "user_tz": 420,
          "elapsed": 57867,
          "user": {
            "displayName": "Ray Heberer",
            "photoUrl": "//lh4.googleusercontent.com/-BMlr5I5Dhow/AAAAAAAAAAI/AAAAAAAAABc/XW4PF5A8K2Q/s50-c-k-no/photo.jpg",
            "userId": "116545933704048584401"
          }
        }
      },
      "cell_type": "code",
      "source": [
        "model1_training = model1.fit(x_train, y_train, epochs=50, batch_size=128, validation_split=0.1)"
      ],
      "execution_count": 5,
      "outputs": [
        {
          "output_type": "stream",
          "text": [
            "Train on 9000 samples, validate on 1000 samples\n",
            "Epoch 1/50\n",
            "9000/9000 [==============================] - 2s 242us/step - loss: 0.6852 - acc: 0.5547 - val_loss: 0.6672 - val_acc: 0.6120\n",
            "Epoch 2/50\n",
            "9000/9000 [==============================] - 1s 126us/step - loss: 0.6545 - acc: 0.6166 - val_loss: 0.6417 - val_acc: 0.6570\n",
            "Epoch 3/50\n",
            "9000/9000 [==============================] - 1s 124us/step - loss: 0.6310 - acc: 0.6410 - val_loss: 0.6367 - val_acc: 0.6580\n",
            "Epoch 4/50\n",
            "9000/9000 [==============================] - 1s 124us/step - loss: 0.6146 - acc: 0.6617 - val_loss: 0.6177 - val_acc: 0.6790\n",
            "Epoch 5/50\n",
            "9000/9000 [==============================] - 1s 123us/step - loss: 0.6035 - acc: 0.6742 - val_loss: 0.5939 - val_acc: 0.6700\n",
            "Epoch 6/50\n",
            "9000/9000 [==============================] - 1s 125us/step - loss: 0.5887 - acc: 0.6829 - val_loss: 0.5932 - val_acc: 0.6960\n",
            "Epoch 7/50\n",
            "9000/9000 [==============================] - 1s 125us/step - loss: 0.5758 - acc: 0.6964 - val_loss: 0.5873 - val_acc: 0.6940\n",
            "Epoch 8/50\n",
            "9000/9000 [==============================] - 1s 125us/step - loss: 0.5660 - acc: 0.7074 - val_loss: 0.5856 - val_acc: 0.6770\n",
            "Epoch 9/50\n",
            " 128/9000 [..............................] - ETA: 1s - loss: 0.5445 - acc: 0.7500"
          ],
          "name": "stdout"
        },
        {
          "output_type": "stream",
          "text": [
            "9000/9000 [==============================] - 1s 126us/step - loss: 0.5489 - acc: 0.7152 - val_loss: 0.5771 - val_acc: 0.7040\n",
            "Epoch 10/50\n",
            "9000/9000 [==============================] - 1s 124us/step - loss: 0.5343 - acc: 0.7306 - val_loss: 0.5656 - val_acc: 0.6910\n",
            "Epoch 11/50\n",
            "9000/9000 [==============================] - 1s 124us/step - loss: 0.5236 - acc: 0.7383 - val_loss: 0.5710 - val_acc: 0.6830\n",
            "Epoch 12/50\n",
            "9000/9000 [==============================] - 1s 123us/step - loss: 0.5150 - acc: 0.7448 - val_loss: 0.5551 - val_acc: 0.7100\n",
            "Epoch 13/50\n",
            "9000/9000 [==============================] - 1s 124us/step - loss: 0.5021 - acc: 0.7509 - val_loss: 0.5527 - val_acc: 0.7020\n",
            "Epoch 14/50\n",
            "9000/9000 [==============================] - 1s 123us/step - loss: 0.4945 - acc: 0.7501 - val_loss: 0.5522 - val_acc: 0.7120\n",
            "Epoch 15/50\n",
            "9000/9000 [==============================] - 1s 124us/step - loss: 0.4859 - acc: 0.7638 - val_loss: 0.5520 - val_acc: 0.7220\n",
            "Epoch 16/50\n",
            "9000/9000 [==============================] - 1s 123us/step - loss: 0.4701 - acc: 0.7682 - val_loss: 0.5399 - val_acc: 0.7230\n",
            "Epoch 17/50\n",
            "4096/9000 [============>.................] - ETA: 0s - loss: 0.4620 - acc: 0.7725"
          ],
          "name": "stdout"
        },
        {
          "output_type": "stream",
          "text": [
            "9000/9000 [==============================] - 1s 125us/step - loss: 0.4645 - acc: 0.7739 - val_loss: 0.5386 - val_acc: 0.7150\n",
            "Epoch 18/50\n",
            "9000/9000 [==============================] - 1s 125us/step - loss: 0.4576 - acc: 0.7781 - val_loss: 0.5346 - val_acc: 0.7380\n",
            "Epoch 19/50\n",
            "9000/9000 [==============================] - 1s 125us/step - loss: 0.4454 - acc: 0.7908 - val_loss: 0.5479 - val_acc: 0.7300\n",
            "Epoch 20/50\n",
            "9000/9000 [==============================] - 1s 126us/step - loss: 0.4355 - acc: 0.7961 - val_loss: 0.5384 - val_acc: 0.7210\n",
            "Epoch 21/50\n",
            "9000/9000 [==============================] - 1s 125us/step - loss: 0.4230 - acc: 0.8027 - val_loss: 0.5336 - val_acc: 0.7350\n",
            "Epoch 22/50\n",
            "9000/9000 [==============================] - 1s 126us/step - loss: 0.4106 - acc: 0.8100 - val_loss: 0.5358 - val_acc: 0.7310\n",
            "Epoch 23/50\n",
            "9000/9000 [==============================] - 1s 124us/step - loss: 0.3978 - acc: 0.8188 - val_loss: 0.5322 - val_acc: 0.7270\n",
            "Epoch 24/50\n",
            "9000/9000 [==============================] - 1s 126us/step - loss: 0.3945 - acc: 0.8179 - val_loss: 0.5438 - val_acc: 0.7340\n",
            "Epoch 25/50\n",
            "4096/9000 [============>.................] - ETA: 0s - loss: 0.3680 - acc: 0.8293"
          ],
          "name": "stdout"
        },
        {
          "output_type": "stream",
          "text": [
            "9000/9000 [==============================] - 1s 123us/step - loss: 0.3779 - acc: 0.8236 - val_loss: 0.5426 - val_acc: 0.7260\n",
            "Epoch 26/50\n",
            "9000/9000 [==============================] - 1s 121us/step - loss: 0.3668 - acc: 0.8349 - val_loss: 0.5432 - val_acc: 0.7250\n",
            "Epoch 27/50\n",
            "9000/9000 [==============================] - 1s 122us/step - loss: 0.3558 - acc: 0.8401 - val_loss: 0.5385 - val_acc: 0.7260\n",
            "Epoch 28/50\n",
            "9000/9000 [==============================] - 1s 122us/step - loss: 0.3492 - acc: 0.8406 - val_loss: 0.5430 - val_acc: 0.7450\n",
            "Epoch 29/50\n",
            "9000/9000 [==============================] - 1s 123us/step - loss: 0.3428 - acc: 0.8460 - val_loss: 0.5593 - val_acc: 0.7350\n",
            "Epoch 30/50\n",
            "9000/9000 [==============================] - 1s 123us/step - loss: 0.3266 - acc: 0.8528 - val_loss: 0.5633 - val_acc: 0.7280\n",
            "Epoch 31/50\n",
            "9000/9000 [==============================] - 1s 123us/step - loss: 0.3166 - acc: 0.8562 - val_loss: 0.5555 - val_acc: 0.7380\n",
            "Epoch 32/50\n",
            "9000/9000 [==============================] - 1s 122us/step - loss: 0.3122 - acc: 0.8596 - val_loss: 0.5634 - val_acc: 0.7500\n",
            "Epoch 33/50\n",
            "5120/9000 [================>.............] - ETA: 0s - loss: 0.2976 - acc: 0.8711"
          ],
          "name": "stdout"
        },
        {
          "output_type": "stream",
          "text": [
            "9000/9000 [==============================] - 1s 124us/step - loss: 0.3026 - acc: 0.8658 - val_loss: 0.5654 - val_acc: 0.7410\n",
            "Epoch 34/50\n",
            "9000/9000 [==============================] - 1s 123us/step - loss: 0.2997 - acc: 0.8696 - val_loss: 0.5647 - val_acc: 0.7410\n",
            "Epoch 35/50\n",
            "9000/9000 [==============================] - 1s 120us/step - loss: 0.2908 - acc: 0.8736 - val_loss: 0.5783 - val_acc: 0.7450\n",
            "Epoch 36/50\n",
            "9000/9000 [==============================] - 1s 125us/step - loss: 0.2909 - acc: 0.8671 - val_loss: 0.5707 - val_acc: 0.7420\n",
            "Epoch 37/50\n",
            "9000/9000 [==============================] - 1s 123us/step - loss: 0.2762 - acc: 0.8769 - val_loss: 0.5780 - val_acc: 0.7260\n",
            "Epoch 38/50\n",
            "9000/9000 [==============================] - 1s 122us/step - loss: 0.2639 - acc: 0.8824 - val_loss: 0.6204 - val_acc: 0.7420\n",
            "Epoch 39/50\n",
            "9000/9000 [==============================] - 1s 121us/step - loss: 0.2635 - acc: 0.8847 - val_loss: 0.5749 - val_acc: 0.7410\n",
            "Epoch 40/50\n",
            "9000/9000 [==============================] - 1s 120us/step - loss: 0.2599 - acc: 0.8887 - val_loss: 0.5967 - val_acc: 0.7480\n",
            "Epoch 41/50\n",
            "3584/9000 [==========>...................] - ETA: 0s - loss: 0.2547 - acc: 0.8864"
          ],
          "name": "stdout"
        },
        {
          "output_type": "stream",
          "text": [
            "9000/9000 [==============================] - 1s 123us/step - loss: 0.2552 - acc: 0.8868 - val_loss: 0.6019 - val_acc: 0.7480\n",
            "Epoch 42/50\n",
            "9000/9000 [==============================] - 1s 124us/step - loss: 0.2440 - acc: 0.8897 - val_loss: 0.6191 - val_acc: 0.7440\n",
            "Epoch 43/50\n",
            "9000/9000 [==============================] - 1s 123us/step - loss: 0.2424 - acc: 0.8941 - val_loss: 0.6539 - val_acc: 0.7460\n",
            "Epoch 44/50\n",
            "9000/9000 [==============================] - 1s 122us/step - loss: 0.2393 - acc: 0.8951 - val_loss: 0.6151 - val_acc: 0.7390\n",
            "Epoch 45/50\n",
            "9000/9000 [==============================] - 1s 120us/step - loss: 0.2421 - acc: 0.8906 - val_loss: 0.6630 - val_acc: 0.7420\n",
            "Epoch 46/50\n",
            "9000/9000 [==============================] - 1s 120us/step - loss: 0.2422 - acc: 0.8944 - val_loss: 0.6239 - val_acc: 0.7340\n",
            "Epoch 47/50\n",
            "9000/9000 [==============================] - 1s 123us/step - loss: 0.2267 - acc: 0.9023 - val_loss: 0.6271 - val_acc: 0.7420\n",
            "Epoch 48/50\n",
            "9000/9000 [==============================] - 1s 124us/step - loss: 0.2280 - acc: 0.9049 - val_loss: 0.6316 - val_acc: 0.7490\n",
            "Epoch 49/50\n",
            "4608/9000 [==============>...............] - ETA: 0s - loss: 0.2185 - acc: 0.9028"
          ],
          "name": "stdout"
        },
        {
          "output_type": "stream",
          "text": [
            "9000/9000 [==============================] - 1s 125us/step - loss: 0.2220 - acc: 0.8999 - val_loss: 0.6397 - val_acc: 0.7430\n",
            "Epoch 50/50\n",
            "9000/9000 [==============================] - 1s 122us/step - loss: 0.2145 - acc: 0.9057 - val_loss: 0.6357 - val_acc: 0.7380\n"
          ],
          "name": "stdout"
        }
      ]
    },
    {
      "metadata": {
        "id": "JLWxcWXGGZeI",
        "colab_type": "text"
      },
      "cell_type": "markdown",
      "source": [
        "## Plot Training and Validation Accuracies\n",
        "\n",
        "Use your matplotlib skills to give us a nice line graph of both training and validation accuracies as the number of epochs increases. Don't forget your legend, axis and plot title."
      ]
    },
    {
      "metadata": {
        "id": "9rj-uVCmfzWa",
        "colab_type": "code",
        "colab": {
          "autoexec": {
            "startup": false,
            "wait_interval": 0
          }
        }
      },
      "cell_type": "code",
      "source": [
        "def train_val_metrics(epochs, model_training):\n",
        "    epochs = range(1, epochs+1)\n",
        "    metrics = model_training.history\n",
        "    train_loss = metrics['loss']\n",
        "    train_acc = metrics['acc']\n",
        "    val_loss = metrics['val_loss']\n",
        "    val_acc = metrics['val_acc']\n",
        "    \n",
        "    ax = plt.subplot(211)\n",
        "    train, = ax.plot(epochs, train_loss)\n",
        "    val, = ax.plot(epochs, val_loss)\n",
        "    ax.legend([train, val], ['training', 'validation'])\n",
        "    ax.set(xlabel='epochs', ylabel='categorical cross-entropy loss')\n",
        "\n",
        "    ax2 = plt.subplot(212)\n",
        "    train2, = ax2.plot(epochs, train_acc)\n",
        "    val2, = ax2.plot(epochs, val_acc)\n",
        "    ax2.legend([train2, val2], ['training', 'validation'])\n",
        "    ax2.set(xlabel='epochs', ylabel='accuracy')"
      ],
      "execution_count": 0,
      "outputs": []
    },
    {
      "metadata": {
        "id": "qBuGARNcgDQl",
        "colab_type": "code",
        "colab": {
          "autoexec": {
            "startup": false,
            "wait_interval": 0
          },
          "base_uri": "https://localhost:8080/",
          "height": 366
        },
        "outputId": "b25a5e7a-e868-4061-82c7-f91f9db7009b",
        "executionInfo": {
          "status": "ok",
          "timestamp": 1528413022219,
          "user_tz": 420,
          "elapsed": 1129,
          "user": {
            "displayName": "Ray Heberer",
            "photoUrl": "//lh4.googleusercontent.com/-BMlr5I5Dhow/AAAAAAAAAAI/AAAAAAAAABc/XW4PF5A8K2Q/s50-c-k-no/photo.jpg",
            "userId": "116545933704048584401"
          }
        }
      },
      "cell_type": "code",
      "source": [
        "train_val_metrics(50, model1_training)"
      ],
      "execution_count": 7,
      "outputs": [
        {
          "output_type": "display_data",
          "data": {
            "image/png": "[encoded data removed]",
            "text/plain": [
              "<matplotlib.figure.Figure at 0x7f9f80e484e0>"
            ]
          },
          "metadata": {
            "tags": []
          }
        }
      ]
    },
    {
      "metadata": {
        "id": "p41EVqzMiIUR",
        "colab_type": "text"
      },
      "cell_type": "markdown",
      "source": [
        "The model begins to overfit around epoch 20 or so. Early stopping would be useful here."
      ]
    },
    {
      "metadata": {
        "id": "VX2voIA78jlF",
        "colab_type": "text"
      },
      "cell_type": "markdown",
      "source": [
        "![something a little deeper](http://www.ryanleeallred.com/wp-content/uploads/2018/06/a-little-deeper.gif)"
      ]
    },
    {
      "metadata": {
        "id": "84--UWHEEEAj",
        "colab_type": "text"
      },
      "cell_type": "markdown",
      "source": [
        "# Model #2\n",
        "\n",
        "Lets add an additional set of convolutional->activation->pooling to this model:\n",
        "\n",
        "*   Conv2D - kernel_size = (3,3)\n",
        "*   Relu Activation\n",
        "*   Conv2D - kernel_size = (3,3)\n",
        "*   Relu Activation\n",
        "*   Max Pooling - pool_size = (2,2)\n",
        "*   Dropout - use .25 for all layers but the final layer\n",
        "---\n",
        "*   Conv2D - kernel_size = (3,3)\n",
        "*   Relu Activation\n",
        "*   Conv2D - kernel_size = (3,3)\n",
        "*   Relu Activation\n",
        "*   Max Pooling - pool_size = (2,2)\n",
        "*   Dropout - use .25 for all layers but the final layer\n",
        "---\n",
        "*   Flatten\n",
        "*   Fully-Connected (Dense)\n",
        "*   Dropout - use .5 this time \n",
        "*   Fully-Connected (Dense layer where # neurons = # final classes/labels)\n",
        "\n",
        "Again, compile the model using categorical_crossentropy as your loss metric and use the Adam optimizer, and accuracy as your overall scoring metric. "
      ]
    },
    {
      "metadata": {
        "id": "7M0OS00TID1X",
        "colab_type": "code",
        "colab": {
          "autoexec": {
            "startup": false,
            "wait_interval": 0
          },
          "base_uri": "https://localhost:8080/",
          "height": 654
        },
        "outputId": "7aa00fd1-5f8b-401d-f1d7-d41b67bff5ed",
        "executionInfo": {
          "status": "ok",
          "timestamp": 1528413024208,
          "user_tz": 420,
          "elapsed": 1108,
          "user": {
            "displayName": "Ray Heberer",
            "photoUrl": "//lh4.googleusercontent.com/-BMlr5I5Dhow/AAAAAAAAAAI/AAAAAAAAABc/XW4PF5A8K2Q/s50-c-k-no/photo.jpg",
            "userId": "116545933704048584401"
          }
        }
      },
      "cell_type": "code",
      "source": [
        "model2 = Sequential()\n",
        "\n",
        "model2.add(Conv2D(8, (3,3), activation='relu', input_shape=(3, 32, 32)))\n",
        "model2.add(Dropout(.25))\n",
        "model2.add(Conv2D(16, (3,3), activation='relu'))\n",
        "model2.add(Dropout(.25))\n",
        "model2.add(MaxPooling2D((2,2)))\n",
        "\n",
        "model2.add(Conv2D(16, (3,3), activation='relu', input_shape=(3, 32, 32)))\n",
        "model2.add(Dropout(.25))\n",
        "model2.add(Conv2D(32, (3,3), activation='relu'))\n",
        "model2.add(Dropout(.25))\n",
        "model2.add(MaxPooling2D((2,2)))\n",
        "\n",
        "model2.add(Flatten())\n",
        "model2.add(Dense(64, activation='relu'))\n",
        "model2.add(Dropout(0.5))\n",
        "model2.add(Dense(2, activation='softmax'))\n",
        "\n",
        "model2.compile(optimizer='adam',\n",
        "               loss='categorical_crossentropy',\n",
        "               metrics=['accuracy'])\n",
        "\n",
        "model2.summary()"
      ],
      "execution_count": 8,
      "outputs": [
        {
          "output_type": "stream",
          "text": [
            "_________________________________________________________________\n",
            "Layer (type)                 Output Shape              Param #   \n",
            "=================================================================\n",
            "conv2d_3 (Conv2D)            (None, 8, 30, 30)         224       \n",
            "_________________________________________________________________\n",
            "dropout_4 (Dropout)          (None, 8, 30, 30)         0         \n",
            "_________________________________________________________________\n",
            "conv2d_4 (Conv2D)            (None, 16, 28, 28)        1168      \n",
            "_________________________________________________________________\n",
            "dropout_5 (Dropout)          (None, 16, 28, 28)        0         \n",
            "_________________________________________________________________\n",
            "max_pooling2d_2 (MaxPooling2 (None, 16, 14, 14)        0         \n",
            "_________________________________________________________________\n",
            "conv2d_5 (Conv2D)            (None, 16, 12, 12)        2320      \n",
            "_________________________________________________________________\n",
            "dropout_6 (Dropout)          (None, 16, 12, 12)        0         \n",
            "_________________________________________________________________\n",
            "conv2d_6 (Conv2D)            (None, 32, 10, 10)        4640      \n",
            "_________________________________________________________________\n",
            "dropout_7 (Dropout)          (None, 32, 10, 10)        0         \n",
            "_________________________________________________________________\n",
            "max_pooling2d_3 (MaxPooling2 (None, 32, 5, 5)          0         \n",
            "_________________________________________________________________\n",
            "flatten_2 (Flatten)          (None, 800)               0         \n",
            "_________________________________________________________________\n",
            "dense_3 (Dense)              (None, 64)                51264     \n",
            "_________________________________________________________________\n",
            "dropout_8 (Dropout)          (None, 64)                0         \n",
            "_________________________________________________________________\n",
            "dense_4 (Dense)              (None, 2)                 130       \n",
            "=================================================================\n",
            "Total params: 59,746\n",
            "Trainable params: 59,746\n",
            "Non-trainable params: 0\n",
            "_________________________________________________________________\n"
          ],
          "name": "stdout"
        }
      ]
    },
    {
      "metadata": {
        "id": "8UudWBooFZ5n",
        "colab_type": "text"
      },
      "cell_type": "markdown",
      "source": [
        "## Fit your model\n",
        "\n",
        "Fit your model and save it to a new variable so that we can access the .history value to make a plot of our training and validation accuracies by epoch."
      ]
    },
    {
      "metadata": {
        "id": "zsR9LkO1l-kF",
        "colab_type": "code",
        "colab": {
          "autoexec": {
            "startup": false,
            "wait_interval": 0
          },
          "base_uri": "https://localhost:8080/",
          "height": 1874
        },
        "outputId": "4b26b00e-5236-49a7-95d1-ee2625fefd5b",
        "executionInfo": {
          "status": "ok",
          "timestamp": 1528413097564,
          "user_tz": 420,
          "elapsed": 72481,
          "user": {
            "displayName": "Ray Heberer",
            "photoUrl": "//lh4.googleusercontent.com/-BMlr5I5Dhow/AAAAAAAAAAI/AAAAAAAAABc/XW4PF5A8K2Q/s50-c-k-no/photo.jpg",
            "userId": "116545933704048584401"
          }
        }
      },
      "cell_type": "code",
      "source": [
        "model2_training = model2.fit(x_train, y_train, epochs=50, batch_size=128, validation_split=0.1)"
      ],
      "execution_count": 9,
      "outputs": [
        {
          "output_type": "stream",
          "text": [
            "Train on 9000 samples, validate on 1000 samples\n",
            "Epoch 1/50\n",
            "9000/9000 [==============================] - 2s 217us/step - loss: 0.6927 - acc: 0.5264 - val_loss: 0.6904 - val_acc: 0.5500\n",
            "Epoch 2/50\n",
            "9000/9000 [==============================] - 1s 157us/step - loss: 0.6847 - acc: 0.5568 - val_loss: 0.6871 - val_acc: 0.5400\n",
            "Epoch 3/50\n",
            "9000/9000 [==============================] - 1s 157us/step - loss: 0.6723 - acc: 0.5896 - val_loss: 0.6825 - val_acc: 0.5470\n",
            "Epoch 4/50\n",
            "9000/9000 [==============================] - 1s 157us/step - loss: 0.6583 - acc: 0.6091 - val_loss: 0.6738 - val_acc: 0.5680\n",
            "Epoch 5/50\n",
            "9000/9000 [==============================] - 1s 157us/step - loss: 0.6440 - acc: 0.6291 - val_loss: 0.6653 - val_acc: 0.5830\n",
            "Epoch 6/50\n",
            "9000/9000 [==============================] - 1s 157us/step - loss: 0.6270 - acc: 0.6439 - val_loss: 0.6216 - val_acc: 0.6670\n",
            "Epoch 7/50\n",
            "9000/9000 [==============================] - 1s 159us/step - loss: 0.6081 - acc: 0.6673 - val_loss: 0.6066 - val_acc: 0.6770\n",
            "Epoch 8/50\n",
            " 128/9000 [..............................] - ETA: 1s - loss: 0.5885 - acc: 0.6719"
          ],
          "name": "stdout"
        },
        {
          "output_type": "stream",
          "text": [
            "9000/9000 [==============================] - 1s 155us/step - loss: 0.5958 - acc: 0.6714 - val_loss: 0.6031 - val_acc: 0.6860\n",
            "Epoch 9/50\n",
            "9000/9000 [==============================] - 1s 156us/step - loss: 0.5820 - acc: 0.6912 - val_loss: 0.5829 - val_acc: 0.6890\n",
            "Epoch 10/50\n",
            "9000/9000 [==============================] - 1s 156us/step - loss: 0.5675 - acc: 0.6980 - val_loss: 0.5836 - val_acc: 0.6880\n",
            "Epoch 11/50\n",
            "9000/9000 [==============================] - 1s 157us/step - loss: 0.5621 - acc: 0.7027 - val_loss: 0.5789 - val_acc: 0.6820\n",
            "Epoch 12/50\n",
            "9000/9000 [==============================] - 1s 155us/step - loss: 0.5558 - acc: 0.7118 - val_loss: 0.5580 - val_acc: 0.7200\n",
            "Epoch 13/50\n",
            "9000/9000 [==============================] - 1s 158us/step - loss: 0.5462 - acc: 0.7147 - val_loss: 0.5720 - val_acc: 0.6910\n",
            "Epoch 14/50\n",
            "9000/9000 [==============================] - 1s 157us/step - loss: 0.5488 - acc: 0.7196 - val_loss: 0.5697 - val_acc: 0.6960\n",
            "Epoch 15/50\n",
            "4352/9000 [=============>................] - ETA: 0s - loss: 0.5385 - acc: 0.7266"
          ],
          "name": "stdout"
        },
        {
          "output_type": "stream",
          "text": [
            "9000/9000 [==============================] - 1s 156us/step - loss: 0.5342 - acc: 0.7313 - val_loss: 0.5439 - val_acc: 0.7400\n",
            "Epoch 16/50\n",
            "9000/9000 [==============================] - 1s 154us/step - loss: 0.5311 - acc: 0.7276 - val_loss: 0.5407 - val_acc: 0.7220\n",
            "Epoch 17/50\n",
            "9000/9000 [==============================] - 1s 158us/step - loss: 0.5280 - acc: 0.7350 - val_loss: 0.5437 - val_acc: 0.7280\n",
            "Epoch 18/50\n",
            "9000/9000 [==============================] - 1s 156us/step - loss: 0.5143 - acc: 0.7421 - val_loss: 0.5575 - val_acc: 0.7110\n",
            "Epoch 19/50\n",
            "9000/9000 [==============================] - 1s 154us/step - loss: 0.5052 - acc: 0.7471 - val_loss: 0.5467 - val_acc: 0.7200\n",
            "Epoch 20/50\n",
            "9000/9000 [==============================] - 1s 156us/step - loss: 0.5076 - acc: 0.7481 - val_loss: 0.5300 - val_acc: 0.7250\n",
            "Epoch 21/50\n",
            "9000/9000 [==============================] - 1s 156us/step - loss: 0.5010 - acc: 0.7481 - val_loss: 0.5222 - val_acc: 0.7320\n",
            "Epoch 22/50\n",
            "4736/9000 [==============>...............] - ETA: 0s - loss: 0.4881 - acc: 0.7627"
          ],
          "name": "stdout"
        },
        {
          "output_type": "stream",
          "text": [
            "9000/9000 [==============================] - 1s 156us/step - loss: 0.4961 - acc: 0.7553 - val_loss: 0.5075 - val_acc: 0.7500\n",
            "Epoch 23/50\n",
            "9000/9000 [==============================] - 1s 156us/step - loss: 0.4906 - acc: 0.7610 - val_loss: 0.5147 - val_acc: 0.7500\n",
            "Epoch 24/50\n",
            "9000/9000 [==============================] - 1s 156us/step - loss: 0.4858 - acc: 0.7612 - val_loss: 0.5460 - val_acc: 0.7130\n",
            "Epoch 25/50\n",
            "9000/9000 [==============================] - 1s 155us/step - loss: 0.4802 - acc: 0.7694 - val_loss: 0.5307 - val_acc: 0.7180\n",
            "Epoch 26/50\n",
            "9000/9000 [==============================] - 1s 156us/step - loss: 0.4779 - acc: 0.7681 - val_loss: 0.5259 - val_acc: 0.7250\n",
            "Epoch 27/50\n",
            "9000/9000 [==============================] - 1s 160us/step - loss: 0.4702 - acc: 0.7707 - val_loss: 0.5271 - val_acc: 0.7190\n",
            "Epoch 28/50\n",
            "9000/9000 [==============================] - 1s 156us/step - loss: 0.4705 - acc: 0.7723 - val_loss: 0.5302 - val_acc: 0.7260\n",
            "Epoch 29/50\n",
            "3968/9000 [============>.................] - ETA: 0s - loss: 0.4537 - acc: 0.7870"
          ],
          "name": "stdout"
        },
        {
          "output_type": "stream",
          "text": [
            "9000/9000 [==============================] - 1s 156us/step - loss: 0.4594 - acc: 0.7788 - val_loss: 0.5065 - val_acc: 0.7470\n",
            "Epoch 30/50\n",
            "9000/9000 [==============================] - 1s 158us/step - loss: 0.4623 - acc: 0.7768 - val_loss: 0.5125 - val_acc: 0.7290\n",
            "Epoch 31/50\n",
            "9000/9000 [==============================] - 1s 156us/step - loss: 0.4605 - acc: 0.7800 - val_loss: 0.5066 - val_acc: 0.7500\n",
            "Epoch 32/50\n",
            "9000/9000 [==============================] - 1s 158us/step - loss: 0.4518 - acc: 0.7830 - val_loss: 0.4960 - val_acc: 0.7470\n",
            "Epoch 33/50\n",
            "9000/9000 [==============================] - 1s 159us/step - loss: 0.4527 - acc: 0.7859 - val_loss: 0.4857 - val_acc: 0.7680\n",
            "Epoch 34/50\n",
            "9000/9000 [==============================] - 1s 155us/step - loss: 0.4493 - acc: 0.7803 - val_loss: 0.5080 - val_acc: 0.7400\n",
            "Epoch 35/50\n",
            "9000/9000 [==============================] - 1s 159us/step - loss: 0.4467 - acc: 0.7851 - val_loss: 0.5011 - val_acc: 0.7490\n",
            "Epoch 36/50\n",
            "4352/9000 [=============>................] - ETA: 0s - loss: 0.4424 - acc: 0.7904"
          ],
          "name": "stdout"
        },
        {
          "output_type": "stream",
          "text": [
            "9000/9000 [==============================] - 1s 158us/step - loss: 0.4401 - acc: 0.7892 - val_loss: 0.5006 - val_acc: 0.7530\n",
            "Epoch 37/50\n",
            "9000/9000 [==============================] - 1s 160us/step - loss: 0.4270 - acc: 0.7991 - val_loss: 0.4891 - val_acc: 0.7690\n",
            "Epoch 38/50\n",
            "9000/9000 [==============================] - 1s 156us/step - loss: 0.4374 - acc: 0.7943 - val_loss: 0.4821 - val_acc: 0.7690\n",
            "Epoch 39/50\n",
            "9000/9000 [==============================] - 1s 155us/step - loss: 0.4305 - acc: 0.7970 - val_loss: 0.4883 - val_acc: 0.7690\n",
            "Epoch 40/50\n",
            "9000/9000 [==============================] - 1s 156us/step - loss: 0.4273 - acc: 0.8007 - val_loss: 0.4809 - val_acc: 0.7620\n",
            "Epoch 41/50\n",
            "9000/9000 [==============================] - 1s 157us/step - loss: 0.4295 - acc: 0.8038 - val_loss: 0.4877 - val_acc: 0.7610\n",
            "Epoch 42/50\n",
            "9000/9000 [==============================] - 1s 156us/step - loss: 0.4165 - acc: 0.8077 - val_loss: 0.4887 - val_acc: 0.7660\n",
            "Epoch 43/50\n",
            "4736/9000 [==============>...............] - ETA: 0s - loss: 0.4197 - acc: 0.8017"
          ],
          "name": "stdout"
        },
        {
          "output_type": "stream",
          "text": [
            "9000/9000 [==============================] - 1s 156us/step - loss: 0.4146 - acc: 0.8074 - val_loss: 0.4707 - val_acc: 0.7770\n",
            "Epoch 44/50\n",
            "9000/9000 [==============================] - 1s 157us/step - loss: 0.4176 - acc: 0.8009 - val_loss: 0.4949 - val_acc: 0.7560\n",
            "Epoch 45/50\n",
            "9000/9000 [==============================] - 1s 158us/step - loss: 0.4072 - acc: 0.8082 - val_loss: 0.4881 - val_acc: 0.7510\n",
            "Epoch 46/50\n",
            "9000/9000 [==============================] - 1s 157us/step - loss: 0.4011 - acc: 0.8174 - val_loss: 0.4750 - val_acc: 0.7840\n",
            "Epoch 47/50\n",
            "9000/9000 [==============================] - 1s 157us/step - loss: 0.4023 - acc: 0.8149 - val_loss: 0.4744 - val_acc: 0.7800\n",
            "Epoch 48/50\n",
            "9000/9000 [==============================] - 1s 156us/step - loss: 0.4095 - acc: 0.8087 - val_loss: 0.4687 - val_acc: 0.7910\n",
            "Epoch 49/50\n",
            "9000/9000 [==============================] - 1s 157us/step - loss: 0.3963 - acc: 0.8157 - val_loss: 0.4719 - val_acc: 0.7710\n",
            "Epoch 50/50\n",
            "5120/9000 [================>.............] - ETA: 0s - loss: 0.4014 - acc: 0.8180"
          ],
          "name": "stdout"
        },
        {
          "output_type": "stream",
          "text": [
            "9000/9000 [==============================] - 1s 156us/step - loss: 0.4016 - acc: 0.8159 - val_loss: 0.4730 - val_acc: 0.7740\n"
          ],
          "name": "stdout"
        }
      ]
    },
    {
      "metadata": {
        "id": "CrjLN2IvF3ac",
        "colab_type": "text"
      },
      "cell_type": "markdown",
      "source": [
        "## Plot Training and Validation Accuracies\n",
        "\n",
        "Use your matplotlib skills to give us a nice line graph of both training and validation accuracies as the number of epochs increases. Don't forget your legend, axis and plot title."
      ]
    },
    {
      "metadata": {
        "id": "oPGEHk3pFMur",
        "colab_type": "code",
        "colab": {
          "autoexec": {
            "startup": false,
            "wait_interval": 0
          },
          "base_uri": "https://localhost:8080/",
          "height": 366
        },
        "outputId": "12113538-ec7c-4559-9708-dd7591213e08",
        "executionInfo": {
          "status": "ok",
          "timestamp": 1528413098481,
          "user_tz": 420,
          "elapsed": 853,
          "user": {
            "displayName": "Ray Heberer",
            "photoUrl": "//lh4.googleusercontent.com/-BMlr5I5Dhow/AAAAAAAAAAI/AAAAAAAAABc/XW4PF5A8K2Q/s50-c-k-no/photo.jpg",
            "userId": "116545933704048584401"
          }
        }
      },
      "cell_type": "code",
      "source": [
        "train_val_metrics(50, model2_training)"
      ],
      "execution_count": 10,
      "outputs": [
        {
          "output_type": "display_data",
          "data": {
            "image/png": "[encoded data removed]",
            "text/plain": [
              "<matplotlib.figure.Figure at 0x7f9f6cc308d0>"
            ]
          },
          "metadata": {
            "tags": []
          }
        }
      ]
    },
    {
      "metadata": {
        "id": "G_qDd7J5iPdG",
        "colab_type": "text"
      },
      "cell_type": "markdown",
      "source": [
        "The model continues to find loss and accuracy improvements, suggesting that it could be trained for more epochs."
      ]
    },
    {
      "metadata": {
        "id": "M6-_Vnj33mX8",
        "colab_type": "text"
      },
      "cell_type": "markdown",
      "source": [
        "![We Need To Go Deeper](http://www.ryanleeallred.com/wp-content/uploads/2018/06/go-deeper.gif)"
      ]
    },
    {
      "metadata": {
        "id": "UanZYW15Ev4R",
        "colab_type": "text"
      },
      "cell_type": "markdown",
      "source": [
        "# Model #3\n",
        "\n",
        "Finally, one more set of convolutional/activation/pooling:\n",
        "\n",
        "*   Conv2D - kernel_size = (3,3)\n",
        "*   Relu Activation\n",
        "*   Conv2D - kernel_size = (3,3)\n",
        "*   Relu Activation\n",
        "*   Max Pooling - pool_size = (2,2)\n",
        "*   Dropout - use .25 for all layers but the final layer\n",
        "---\n",
        "*   Conv2D - kernel_size = (3,3)\n",
        "*   Relu Activation\n",
        "*   Conv2D - kernel_size = (3,3)\n",
        "*   Relu Activation\n",
        "*   Max Pooling - pool_size = (2,2)\n",
        "*   Dropout - use .25 for all layers but the final layer\n",
        "---\n",
        "*   Conv2D - kernel_size = (3,3)\n",
        "*   Relu Activation\n",
        "*   Conv2D - kernel_size = (3,3)\n",
        "*   Relu Activation\n",
        "*   Max Pooling - pool_size = (2,2)\n",
        "*   Dropout - use .25 for all layers but the final layer\n",
        "---\n",
        "\n",
        "*   Flatten\n",
        "*   Fully-Connected (Dense)\n",
        "*   Dropout - use .5 this time \n",
        "*   Fully-Connected (Dense layer where # neurons = # final classes/labels)\n",
        "\n",
        "Again, compile the model using categorical_crossentropy as your loss metric and use the Adam optimizer, and accuracy as your overall scoring metric. "
      ]
    },
    {
      "metadata": {
        "id": "Q97ccCr1FfaZ",
        "colab_type": "code",
        "colab": {
          "autoexec": {
            "startup": false,
            "wait_interval": 0
          },
          "base_uri": "https://localhost:8080/",
          "height": 835
        },
        "outputId": "95c86204-aa1b-461b-b9c8-015b8fd46cd3",
        "executionInfo": {
          "status": "ok",
          "timestamp": 1528413100565,
          "user_tz": 420,
          "elapsed": 749,
          "user": {
            "displayName": "Ray Heberer",
            "photoUrl": "//lh4.googleusercontent.com/-BMlr5I5Dhow/AAAAAAAAAAI/AAAAAAAAABc/XW4PF5A8K2Q/s50-c-k-no/photo.jpg",
            "userId": "116545933704048584401"
          }
        }
      },
      "cell_type": "code",
      "source": [
        "model3 = Sequential()\n",
        "\n",
        "model3.add(Conv2D(8, (3,3), activation='relu', input_shape=(3, 32, 32)))\n",
        "model3.add(Dropout(.25))\n",
        "model3.add(Conv2D(16, (3,3), activation='relu'))\n",
        "model3.add(Dropout(.25))\n",
        "model3.add(MaxPooling2D((2,2), strides=1))\n",
        "\n",
        "model3.add(Conv2D(16, (3,3), activation='relu', input_shape=(3, 32, 32)))\n",
        "model3.add(Dropout(.25))\n",
        "model3.add(Conv2D(32, (3,3), activation='relu'))\n",
        "model3.add(Dropout(.25))\n",
        "model3.add(MaxPooling2D((2,2), strides=1))\n",
        "\n",
        "model3.add(Conv2D(32, (3,3), activation='relu', input_shape=(3, 32, 32)))\n",
        "model3.add(Dropout(.25))\n",
        "model3.add(Conv2D(64, (3,3), activation='relu'))\n",
        "model3.add(Dropout(.25))\n",
        "model3.add(MaxPooling2D(2,2))\n",
        "\n",
        "model3.add(Flatten())\n",
        "model3.add(Dense(128, activation='relu'))\n",
        "model3.add(Dropout(0.5))\n",
        "model3.add(Dense(2, activation='softmax'))\n",
        "\n",
        "model3.compile(optimizer='adam',\n",
        "               loss='categorical_crossentropy',\n",
        "               metrics=['accuracy'])\n",
        "\n",
        "model3.summary()"
      ],
      "execution_count": 11,
      "outputs": [
        {
          "output_type": "stream",
          "text": [
            "_________________________________________________________________\n",
            "Layer (type)                 Output Shape              Param #   \n",
            "=================================================================\n",
            "conv2d_7 (Conv2D)            (None, 8, 30, 30)         224       \n",
            "_________________________________________________________________\n",
            "dropout_9 (Dropout)          (None, 8, 30, 30)         0         \n",
            "_________________________________________________________________\n",
            "conv2d_8 (Conv2D)            (None, 16, 28, 28)        1168      \n",
            "_________________________________________________________________\n",
            "dropout_10 (Dropout)         (None, 16, 28, 28)        0         \n",
            "_________________________________________________________________\n",
            "max_pooling2d_4 (MaxPooling2 (None, 16, 27, 27)        0         \n",
            "_________________________________________________________________\n",
            "conv2d_9 (Conv2D)            (None, 16, 25, 25)        2320      \n",
            "_________________________________________________________________\n",
            "dropout_11 (Dropout)         (None, 16, 25, 25)        0         \n",
            "_________________________________________________________________\n",
            "conv2d_10 (Conv2D)           (None, 32, 23, 23)        4640      \n",
            "_________________________________________________________________\n",
            "dropout_12 (Dropout)         (None, 32, 23, 23)        0         \n",
            "_________________________________________________________________\n",
            "max_pooling2d_5 (MaxPooling2 (None, 32, 22, 22)        0         \n",
            "_________________________________________________________________\n",
            "conv2d_11 (Conv2D)           (None, 32, 20, 20)        9248      \n",
            "_________________________________________________________________\n",
            "dropout_13 (Dropout)         (None, 32, 20, 20)        0         \n",
            "_________________________________________________________________\n",
            "conv2d_12 (Conv2D)           (None, 64, 18, 18)        18496     \n",
            "_________________________________________________________________\n",
            "dropout_14 (Dropout)         (None, 64, 18, 18)        0         \n",
            "_________________________________________________________________\n",
            "max_pooling2d_6 (MaxPooling2 (None, 64, 9, 9)          0         \n",
            "_________________________________________________________________\n",
            "flatten_3 (Flatten)          (None, 5184)              0         \n",
            "_________________________________________________________________\n",
            "dense_5 (Dense)              (None, 128)               663680    \n",
            "_________________________________________________________________\n",
            "dropout_15 (Dropout)         (None, 128)               0         \n",
            "_________________________________________________________________\n",
            "dense_6 (Dense)              (None, 2)                 258       \n",
            "=================================================================\n",
            "Total params: 700,034\n",
            "Trainable params: 700,034\n",
            "Non-trainable params: 0\n",
            "_________________________________________________________________\n"
          ],
          "name": "stdout"
        }
      ]
    },
    {
      "metadata": {
        "id": "U_xSn9EKFeaB",
        "colab_type": "text"
      },
      "cell_type": "markdown",
      "source": [
        "## Fit your model\n",
        "\n",
        "Fit your model and save it to a new variable so that we can access the .history value to make a plot of our training and validation accuracies by epoch."
      ]
    },
    {
      "metadata": {
        "id": "1RL72n9t4XQz",
        "colab_type": "code",
        "colab": {
          "autoexec": {
            "startup": false,
            "wait_interval": 0
          },
          "base_uri": "https://localhost:8080/",
          "height": 1874
        },
        "outputId": "af4750c1-61b9-4614-adb3-559bdcd6db09",
        "executionInfo": {
          "status": "ok",
          "timestamp": 1528413239344,
          "user_tz": 420,
          "elapsed": 138382,
          "user": {
            "displayName": "Ray Heberer",
            "photoUrl": "//lh4.googleusercontent.com/-BMlr5I5Dhow/AAAAAAAAAAI/AAAAAAAAABc/XW4PF5A8K2Q/s50-c-k-no/photo.jpg",
            "userId": "116545933704048584401"
          }
        }
      },
      "cell_type": "code",
      "source": [
        "model3_training = model3.fit(x_train, y_train, epochs=50, batch_size=128, validation_split=0.1)"
      ],
      "execution_count": 12,
      "outputs": [
        {
          "output_type": "stream",
          "text": [
            "Train on 9000 samples, validate on 1000 samples\n",
            "Epoch 1/50\n",
            "9000/9000 [==============================] - 4s 405us/step - loss: 0.6998 - acc: 0.5192 - val_loss: 0.6933 - val_acc: 0.4940\n",
            "Epoch 2/50\n",
            "9000/9000 [==============================] - 3s 301us/step - loss: 0.6862 - acc: 0.5566 - val_loss: 0.6935 - val_acc: 0.4970\n",
            "Epoch 3/50\n",
            "9000/9000 [==============================] - 3s 304us/step - loss: 0.6779 - acc: 0.5866 - val_loss: 0.6897 - val_acc: 0.5170\n",
            "Epoch 4/50\n",
            "9000/9000 [==============================] - 3s 301us/step - loss: 0.6667 - acc: 0.6040 - val_loss: 0.6867 - val_acc: 0.5400\n",
            "Epoch 5/50\n",
            "9000/9000 [==============================] - 3s 300us/step - loss: 0.6582 - acc: 0.6148 - val_loss: 0.6790 - val_acc: 0.5610\n",
            "Epoch 6/50\n",
            "7808/9000 [=========================>....] - ETA: 0s - loss: 0.6455 - acc: 0.6297"
          ],
          "name": "stdout"
        },
        {
          "output_type": "stream",
          "text": [
            "9000/9000 [==============================] - 3s 302us/step - loss: 0.6454 - acc: 0.6292 - val_loss: 0.6745 - val_acc: 0.5680\n",
            "Epoch 7/50\n",
            "9000/9000 [==============================] - 3s 302us/step - loss: 0.6325 - acc: 0.6394 - val_loss: 0.6772 - val_acc: 0.5810\n",
            "Epoch 8/50\n",
            "9000/9000 [==============================] - 3s 300us/step - loss: 0.6225 - acc: 0.6558 - val_loss: 0.6594 - val_acc: 0.6010\n",
            "Epoch 9/50\n",
            "9000/9000 [==============================] - 3s 304us/step - loss: 0.6172 - acc: 0.6603 - val_loss: 0.6528 - val_acc: 0.6030\n",
            "Epoch 10/50\n",
            "9000/9000 [==============================] - 3s 302us/step - loss: 0.6033 - acc: 0.6747 - val_loss: 0.6675 - val_acc: 0.5920\n",
            "Epoch 11/50\n",
            "9000/9000 [==============================] - 3s 298us/step - loss: 0.5966 - acc: 0.6800 - val_loss: 0.6717 - val_acc: 0.5800\n",
            "Epoch 12/50\n",
            "2944/9000 [========>.....................] - ETA: 1s - loss: 0.5985 - acc: 0.6749"
          ],
          "name": "stdout"
        },
        {
          "output_type": "stream",
          "text": [
            "9000/9000 [==============================] - 3s 300us/step - loss: 0.5862 - acc: 0.6851 - val_loss: 0.6747 - val_acc: 0.5860\n",
            "Epoch 13/50\n",
            "9000/9000 [==============================] - 3s 302us/step - loss: 0.5839 - acc: 0.6931 - val_loss: 0.6099 - val_acc: 0.6600\n",
            "Epoch 14/50\n",
            "9000/9000 [==============================] - 3s 302us/step - loss: 0.5753 - acc: 0.6994 - val_loss: 0.6127 - val_acc: 0.6450\n",
            "Epoch 15/50\n",
            "9000/9000 [==============================] - 3s 303us/step - loss: 0.5609 - acc: 0.7043 - val_loss: 0.5776 - val_acc: 0.6910\n",
            "Epoch 16/50\n",
            "9000/9000 [==============================] - 3s 300us/step - loss: 0.5611 - acc: 0.7116 - val_loss: 0.6343 - val_acc: 0.6280\n",
            "Epoch 17/50\n",
            "9000/9000 [==============================] - 3s 301us/step - loss: 0.5597 - acc: 0.7060 - val_loss: 0.6260 - val_acc: 0.6330\n",
            "Epoch 18/50\n",
            "2432/9000 [=======>......................] - ETA: 1s - loss: 0.5536 - acc: 0.7196"
          ],
          "name": "stdout"
        },
        {
          "output_type": "stream",
          "text": [
            "9000/9000 [==============================] - 3s 306us/step - loss: 0.5478 - acc: 0.7189 - val_loss: 0.5964 - val_acc: 0.6670\n",
            "Epoch 19/50\n",
            "9000/9000 [==============================] - 3s 302us/step - loss: 0.5373 - acc: 0.7302 - val_loss: 0.6077 - val_acc: 0.6490\n",
            "Epoch 20/50\n",
            "9000/9000 [==============================] - 3s 303us/step - loss: 0.5410 - acc: 0.7268 - val_loss: 0.6201 - val_acc: 0.6470\n",
            "Epoch 21/50\n",
            "9000/9000 [==============================] - 3s 303us/step - loss: 0.5361 - acc: 0.7308 - val_loss: 0.5902 - val_acc: 0.6700\n",
            "Epoch 22/50\n",
            "9000/9000 [==============================] - 3s 302us/step - loss: 0.5333 - acc: 0.7339 - val_loss: 0.5939 - val_acc: 0.6710\n",
            "Epoch 23/50\n",
            "9000/9000 [==============================] - 3s 304us/step - loss: 0.5222 - acc: 0.7349 - val_loss: 0.5679 - val_acc: 0.6950\n",
            "Epoch 24/50\n",
            "1920/9000 [=====>........................] - ETA: 2s - loss: 0.5065 - acc: 0.7484"
          ],
          "name": "stdout"
        },
        {
          "output_type": "stream",
          "text": [
            "9000/9000 [==============================] - 3s 302us/step - loss: 0.5135 - acc: 0.7470 - val_loss: 0.5823 - val_acc: 0.6690\n",
            "Epoch 25/50\n",
            "9000/9000 [==============================] - 3s 303us/step - loss: 0.5130 - acc: 0.7452 - val_loss: 0.6011 - val_acc: 0.6510\n",
            "Epoch 26/50\n",
            "9000/9000 [==============================] - 3s 303us/step - loss: 0.5061 - acc: 0.7421 - val_loss: 0.6089 - val_acc: 0.6500\n",
            "Epoch 27/50\n",
            "9000/9000 [==============================] - 3s 301us/step - loss: 0.4986 - acc: 0.7511 - val_loss: 0.5628 - val_acc: 0.6940\n",
            "Epoch 28/50\n",
            "9000/9000 [==============================] - 3s 302us/step - loss: 0.4965 - acc: 0.7550 - val_loss: 0.6168 - val_acc: 0.6330\n",
            "Epoch 29/50\n",
            "9000/9000 [==============================] - 3s 304us/step - loss: 0.4882 - acc: 0.7567 - val_loss: 0.5637 - val_acc: 0.6840\n",
            "Epoch 30/50\n",
            "2176/9000 [======>.......................] - ETA: 1s - loss: 0.4719 - acc: 0.7734"
          ],
          "name": "stdout"
        },
        {
          "output_type": "stream",
          "text": [
            "9000/9000 [==============================] - 3s 301us/step - loss: 0.4829 - acc: 0.7644 - val_loss: 0.6403 - val_acc: 0.6290\n",
            "Epoch 31/50\n",
            "9000/9000 [==============================] - 3s 304us/step - loss: 0.4751 - acc: 0.7617 - val_loss: 0.6051 - val_acc: 0.6590\n",
            "Epoch 32/50\n",
            "9000/9000 [==============================] - 3s 301us/step - loss: 0.4716 - acc: 0.7721 - val_loss: 0.5500 - val_acc: 0.6890\n",
            "Epoch 33/50\n",
            "9000/9000 [==============================] - 3s 302us/step - loss: 0.4764 - acc: 0.7708 - val_loss: 0.5767 - val_acc: 0.6760\n",
            "Epoch 34/50\n",
            "9000/9000 [==============================] - 3s 301us/step - loss: 0.4605 - acc: 0.7777 - val_loss: 0.5528 - val_acc: 0.7000\n",
            "Epoch 35/50\n",
            "9000/9000 [==============================] - 3s 301us/step - loss: 0.4578 - acc: 0.7792 - val_loss: 0.5409 - val_acc: 0.6990\n",
            "Epoch 36/50\n",
            "2176/9000 [======>.......................] - ETA: 1s - loss: 0.4649 - acc: 0.7670"
          ],
          "name": "stdout"
        },
        {
          "output_type": "stream",
          "text": [
            "9000/9000 [==============================] - 3s 301us/step - loss: 0.4513 - acc: 0.7799 - val_loss: 0.5614 - val_acc: 0.6960\n",
            "Epoch 37/50\n",
            "9000/9000 [==============================] - 3s 302us/step - loss: 0.4598 - acc: 0.7752 - val_loss: 0.5770 - val_acc: 0.6750\n",
            "Epoch 38/50\n",
            "9000/9000 [==============================] - 3s 303us/step - loss: 0.4384 - acc: 0.7919 - val_loss: 0.5403 - val_acc: 0.7070\n",
            "Epoch 39/50\n",
            "9000/9000 [==============================] - 3s 303us/step - loss: 0.4368 - acc: 0.7907 - val_loss: 0.5123 - val_acc: 0.7300\n",
            "Epoch 40/50\n",
            "9000/9000 [==============================] - 3s 301us/step - loss: 0.4311 - acc: 0.7971 - val_loss: 0.5803 - val_acc: 0.6770\n",
            "Epoch 41/50\n",
            "9000/9000 [==============================] - 3s 302us/step - loss: 0.4189 - acc: 0.8003 - val_loss: 0.5567 - val_acc: 0.6890\n",
            "Epoch 42/50\n",
            "2176/9000 [======>.......................] - ETA: 2s - loss: 0.4096 - acc: 0.8107"
          ],
          "name": "stdout"
        },
        {
          "output_type": "stream",
          "text": [
            "9000/9000 [==============================] - 3s 301us/step - loss: 0.4140 - acc: 0.8060 - val_loss: 0.5337 - val_acc: 0.7050\n",
            "Epoch 43/50\n",
            "9000/9000 [==============================] - 3s 302us/step - loss: 0.4135 - acc: 0.8067 - val_loss: 0.5499 - val_acc: 0.6930\n",
            "Epoch 44/50\n",
            "9000/9000 [==============================] - 3s 301us/step - loss: 0.4031 - acc: 0.8121 - val_loss: 0.5114 - val_acc: 0.7300\n",
            "Epoch 45/50\n",
            "9000/9000 [==============================] - 3s 302us/step - loss: 0.4044 - acc: 0.8116 - val_loss: 0.5404 - val_acc: 0.7150\n",
            "Epoch 46/50\n",
            "9000/9000 [==============================] - 3s 301us/step - loss: 0.4001 - acc: 0.8103 - val_loss: 0.5862 - val_acc: 0.6790\n",
            "Epoch 47/50\n",
            "9000/9000 [==============================] - 3s 300us/step - loss: 0.3904 - acc: 0.8168 - val_loss: 0.5587 - val_acc: 0.6950\n",
            "Epoch 48/50\n",
            "2176/9000 [======>.......................] - ETA: 1s - loss: 0.3931 - acc: 0.8130"
          ],
          "name": "stdout"
        },
        {
          "output_type": "stream",
          "text": [
            "9000/9000 [==============================] - 3s 300us/step - loss: 0.3917 - acc: 0.8129 - val_loss: 0.5275 - val_acc: 0.7180\n",
            "Epoch 49/50\n",
            "9000/9000 [==============================] - 3s 301us/step - loss: 0.3815 - acc: 0.8199 - val_loss: 0.5342 - val_acc: 0.7230\n",
            "Epoch 50/50\n",
            "9000/9000 [==============================] - 3s 303us/step - loss: 0.3765 - acc: 0.8294 - val_loss: 0.5396 - val_acc: 0.7230\n"
          ],
          "name": "stdout"
        }
      ]
    },
    {
      "metadata": {
        "id": "v2NIdB3_GUpi",
        "colab_type": "text"
      },
      "cell_type": "markdown",
      "source": [
        "## Plot Training and Validation Accuracies\n",
        "\n",
        "Use your matplotlib skills to give us a nice line graph of both training and validation accuracies as the number of epochs increases. Don't forget your legend, axis and plot title."
      ]
    },
    {
      "metadata": {
        "id": "HrNqaX2-5_lu",
        "colab_type": "code",
        "colab": {
          "autoexec": {
            "startup": false,
            "wait_interval": 0
          },
          "base_uri": "https://localhost:8080/",
          "height": 366
        },
        "outputId": "8f6f4d3e-1b1b-4e4b-ae85-87ce91f0e211",
        "executionInfo": {
          "status": "ok",
          "timestamp": 1528413240692,
          "user_tz": 420,
          "elapsed": 1327,
          "user": {
            "displayName": "Ray Heberer",
            "photoUrl": "//lh4.googleusercontent.com/-BMlr5I5Dhow/AAAAAAAAAAI/AAAAAAAAABc/XW4PF5A8K2Q/s50-c-k-no/photo.jpg",
            "userId": "116545933704048584401"
          }
        }
      },
      "cell_type": "code",
      "source": [
        "train_val_metrics(50, model3_training)"
      ],
      "execution_count": 13,
      "outputs": [
        {
          "output_type": "display_data",
          "data": {
            "image/png": "[encoded data removed]",
            "text/plain": [
              "<matplotlib.figure.Figure at 0x7f9f6aff2e10>"
            ]
          },
          "metadata": {
            "tags": []
          }
        }
      ]
    },
    {
      "metadata": {
        "id": "XVZ-74QUA0ha",
        "colab_type": "text"
      },
      "cell_type": "markdown",
      "source": [
        "# Stretch Goal:\n",
        "\n",
        "## Use other classes from Cifar10\n",
        "Try using different classes from the Cifar10 dataset or use all 10. You might need to sample the training data or limit the number of epochs if you decide to use the entire dataset due to processing constraints.\n",
        "\n",
        "## Hyperparameter Tune Your Model\n",
        "If you have successfully complete shown how increasing the depth of a neural network can improve its accuracy, and you feel like you have a solid understanding of all of the different parts of CNNs, try hyperparameter tuning your strongest model to see how much additional accuracy you can squeeze out of it. This will also give you a chance to research the different hyperparameters as well as their significance/purpose. (There are lots and lots)\n",
        "\n",
        "---\n",
        "\n",
        "Here's a helpful article that will show you how to get started using GridSearch to hyperaparameter tune your CNN. (should you desire to use that method):\n",
        "\n",
        "[Grid Search Hyperparameters for Deep Learning Models in Python With Keras](https://machinelearningmastery.com/grid-search-hyperparameters-deep-learning-models-python-keras/)"
      ]
    }
  ]
}